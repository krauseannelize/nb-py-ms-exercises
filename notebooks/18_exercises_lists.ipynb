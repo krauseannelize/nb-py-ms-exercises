{
  "nbformat": 4,
  "nbformat_minor": 0,
  "metadata": {
    "colab": {
      "provenance": [],
      "authorship_tag": "ABX9TyNpkvdK7iCueo75xM6RKwtF",
      "include_colab_link": true
    },
    "kernelspec": {
      "name": "python3",
      "display_name": "Python 3"
    },
    "language_info": {
      "name": "python"
    }
  },
  "cells": [
    {
      "cell_type": "markdown",
      "metadata": {
        "id": "view-in-github",
        "colab_type": "text"
      },
      "source": [
        "<a href=\"https://colab.research.google.com/github/krauseannelize/nb-py-ms-exercises/blob/main/notebooks/18_exercises_lists.ipynb\" target=\"_parent\"><img src=\"https://colab.research.google.com/assets/colab-badge.svg\" alt=\"Open In Colab\"/></a>"
      ]
    },
    {
      "cell_type": "markdown",
      "source": [
        "# 18 | Exercises - Lists\n",
        "\n",
        "Lists are collections of values that are accessed via a **single variable name** and:\n",
        "\n",
        "- are **zero-indexed**, meaning the first item is at index 0\n",
        "- created by putting different comma-separated values between square brackets `[]`\n",
        "- can contain different data types\n",
        "- negative indexing can also be used.\n",
        "\n",
        "```python\n",
        "my_list = [\"Bob\", 23, 1.78, True]\n",
        "```\n",
        "\n",
        "| List items | Data Type | Positive index | Negative index |\n",
        "| :--- | :--- | :--- | :--- |\n",
        "| \"Bob\" | String | 0 | -4 |\n",
        "| 23 | Integer | 1 | -3 |\n",
        "| 1.78 | Float | 2 | -2 |\n",
        "| True | Boolean | 3 | -1 |"
      ],
      "metadata": {
        "id": "_1LwQU8R7lst"
      }
    },
    {
      "cell_type": "code",
      "execution_count": 3,
      "metadata": {
        "colab": {
          "base_uri": "https://localhost:8080/"
        },
        "id": "lx_IUpcT7jBh",
        "outputId": "3c608c4e-590d-4abe-e6de-1638461db58f"
      },
      "outputs": [
        {
          "output_type": "stream",
          "name": "stdout",
          "text": [
            "['Bob', 23, 1.78, True]\n"
          ]
        }
      ],
      "source": [
        "# creating a list and printing the entire list\n",
        "my_list = [\"Bob\", 23, 1.78, True]\n",
        "print(my_list)"
      ]
    },
    {
      "cell_type": "code",
      "source": [
        "# printing the first item in the list\n",
        "print(my_list[0])"
      ],
      "metadata": {
        "colab": {
          "base_uri": "https://localhost:8080/"
        },
        "id": "fWC2Tr7H_9kY",
        "outputId": "377f5c94-d67c-4181-f22b-f03027268bd3"
      },
      "execution_count": 4,
      "outputs": [
        {
          "output_type": "stream",
          "name": "stdout",
          "text": [
            "Bob\n"
          ]
        }
      ]
    },
    {
      "cell_type": "code",
      "source": [
        "# printing the last item in the list\n",
        "print(my_list[-1])"
      ],
      "metadata": {
        "colab": {
          "base_uri": "https://localhost:8080/"
        },
        "id": "JlKfLeSUAAGH",
        "outputId": "a8f35e64-9517-4a0d-cde1-3f510bf7d262"
      },
      "execution_count": 5,
      "outputs": [
        {
          "output_type": "stream",
          "name": "stdout",
          "text": [
            "True\n"
          ]
        }
      ]
    },
    {
      "cell_type": "code",
      "source": [
        "# how many items are in the list\n",
        "print(len(my_list))"
      ],
      "metadata": {
        "colab": {
          "base_uri": "https://localhost:8080/"
        },
        "id": "MCbtZJMZADIz",
        "outputId": "ec46c1eb-b2d8-4cd4-ee05-5784e22f8601"
      },
      "execution_count": 6,
      "outputs": [
        {
          "output_type": "stream",
          "name": "stdout",
          "text": [
            "4\n"
          ]
        }
      ]
    },
    {
      "cell_type": "markdown",
      "source": [
        "## Naming a List\n",
        "\n",
        "It is **bad practice** to name your list **\"list\"**. Not only does this generic name lack descriptiveness, but it can also _overshadow_ Python's built-in type conversion function `list()`. **Name Shadowing** can cause unexpected behavior in your programs.\n",
        "\n",
        "## Concatenating and Repeating Lists\n",
        "\n",
        "We can combine lists, or 'concatenate' them, using the + operator. We can also repeat them using the * operator."
      ],
      "metadata": {
        "id": "n8lsAI8FF3oo"
      }
    },
    {
      "cell_type": "code",
      "source": [
        "first_list = [1, 2, 3]\n",
        "second_list = [4, 5, 6]\n",
        "\n",
        "print(first_list + second_list) # concatenate\n",
        "print(first_list * 3) # repeat"
      ],
      "metadata": {
        "colab": {
          "base_uri": "https://localhost:8080/"
        },
        "id": "hn5_x5FvGB_1",
        "outputId": "978179e0-7366-4732-d334-e054908b64c8"
      },
      "execution_count": 14,
      "outputs": [
        {
          "output_type": "stream",
          "name": "stdout",
          "text": [
            "[1, 2, 3, 4, 5, 6]\n",
            "[1, 2, 3, 1, 2, 3, 1, 2, 3]\n"
          ]
        }
      ]
    },
    {
      "cell_type": "markdown",
      "source": [
        "# List Slicing\n",
        "\n",
        "**Lists** can be sliced just like **strings* by using the syntax `[start:stop:step]`:\n",
        "\n",
        "- `start` is the index where slicing should start, is `inclusive` and is `beginning of the string` by default\n",
        "- `stop` is the index where slicing should end, is `exclusive` and is the `end of the string` by default\n",
        "- `step` is how many characters to skip and the default value is `1`, meaning no characters are skipped"
      ],
      "metadata": {
        "id": "41vXutVfCGPI"
      }
    },
    {
      "cell_type": "code",
      "source": [
        "team_list = [\"Adam\", \"Blair\", \"Chad\", \"Danny\", \"Eli\"]\n",
        "\n",
        "# print the first 2 team members\n",
        "print(team_list[0:2])"
      ],
      "metadata": {
        "colab": {
          "base_uri": "https://localhost:8080/"
        },
        "id": "CLfjkDh8D8jZ",
        "outputId": "ce9d2a25-af88-4ec9-ef8d-06b6f1dae62e"
      },
      "execution_count": 10,
      "outputs": [
        {
          "output_type": "stream",
          "name": "stdout",
          "text": [
            "['Adam', 'Blair']\n"
          ]
        }
      ]
    },
    {
      "cell_type": "code",
      "source": [
        "# print the last 2 team members\n",
        "print(team_list[-2:])"
      ],
      "metadata": {
        "colab": {
          "base_uri": "https://localhost:8080/"
        },
        "id": "QWZv6MjOEZjs",
        "outputId": "e852b23c-441e-4572-ebc3-bf1d8a78a931"
      },
      "execution_count": 11,
      "outputs": [
        {
          "output_type": "stream",
          "name": "stdout",
          "text": [
            "['Danny', 'Eli']\n"
          ]
        }
      ]
    },
    {
      "cell_type": "code",
      "source": [
        "# print every second member\n",
        "print(team_list[::2])"
      ],
      "metadata": {
        "colab": {
          "base_uri": "https://localhost:8080/"
        },
        "id": "664WqNUQEgaM",
        "outputId": "717095d5-2150-450c-8354-23f1f6a303c1"
      },
      "execution_count": 12,
      "outputs": [
        {
          "output_type": "stream",
          "name": "stdout",
          "text": [
            "['Adam', 'Chad', 'Eli']\n"
          ]
        }
      ]
    },
    {
      "cell_type": "markdown",
      "source": [
        "## Modifying a List\n",
        "\n",
        "Unlike strings, lists are **mutable** and their content can be changed."
      ],
      "metadata": {
        "id": "szVd2PMLH5RQ"
      }
    },
    {
      "cell_type": "code",
      "source": [
        "# changing an item by assigning a new value to index position\n",
        "my_list = [1, 2, 0, 4]\n",
        "print(my_list)\n",
        "my_list[2] = 3\n",
        "print(my_list)"
      ],
      "metadata": {
        "colab": {
          "base_uri": "https://localhost:8080/"
        },
        "id": "0v7zFPdMIMjS",
        "outputId": "a7671b01-6b90-4177-990b-455886aa44a3"
      },
      "execution_count": 21,
      "outputs": [
        {
          "output_type": "stream",
          "name": "stdout",
          "text": [
            "[1, 2, 0, 4]\n",
            "[1, 2, 3, 4]\n"
          ]
        }
      ]
    },
    {
      "cell_type": "markdown",
      "source": [
        "### 1. Adding elements to a list"
      ],
      "metadata": {
        "id": "S4DB5_LaKa5L"
      }
    },
    {
      "cell_type": "code",
      "source": [
        "# adding an item to the end of a list\n",
        "my_list.append(5)\n",
        "print(my_list)"
      ],
      "metadata": {
        "colab": {
          "base_uri": "https://localhost:8080/"
        },
        "id": "3qAUBUQLIg3V",
        "outputId": "2523c6b6-b2e5-463c-86f1-5c356bfaed1e"
      },
      "execution_count": 22,
      "outputs": [
        {
          "output_type": "stream",
          "name": "stdout",
          "text": [
            "[1, 2, 3, 4, 5]\n"
          ]
        }
      ]
    },
    {
      "cell_type": "code",
      "source": [
        "# you cannot add an item to the end of list using the next available index\n",
        "my_list[5] = 6"
      ],
      "metadata": {
        "colab": {
          "base_uri": "https://localhost:8080/",
          "height": 162
        },
        "id": "xVfU5_BFI9fY",
        "outputId": "f99c016f-96c1-4ae8-a3fa-535b6f08214f"
      },
      "execution_count": 23,
      "outputs": [
        {
          "output_type": "error",
          "ename": "IndexError",
          "evalue": "list assignment index out of range",
          "traceback": [
            "\u001b[0;31m---------------------------------------------------------------------------\u001b[0m",
            "\u001b[0;31mIndexError\u001b[0m                                Traceback (most recent call last)",
            "\u001b[0;32m/tmp/ipython-input-2278875131.py\u001b[0m in \u001b[0;36m<cell line: 0>\u001b[0;34m()\u001b[0m\n\u001b[1;32m      1\u001b[0m \u001b[0;31m# you cannot add an item to the end of list using the next available index\u001b[0m\u001b[0;34m\u001b[0m\u001b[0;34m\u001b[0m\u001b[0m\n\u001b[0;32m----> 2\u001b[0;31m \u001b[0mmy_list\u001b[0m\u001b[0;34m[\u001b[0m\u001b[0;36m5\u001b[0m\u001b[0;34m]\u001b[0m \u001b[0;34m=\u001b[0m \u001b[0;36m6\u001b[0m\u001b[0;34m\u001b[0m\u001b[0;34m\u001b[0m\u001b[0m\n\u001b[0m",
            "\u001b[0;31mIndexError\u001b[0m: list assignment index out of range"
          ]
        }
      ]
    },
    {
      "cell_type": "code",
      "source": [
        "# inserting items at specific positions\n",
        "my_list.insert(0, 0)\n",
        "print(my_list)"
      ],
      "metadata": {
        "colab": {
          "base_uri": "https://localhost:8080/"
        },
        "id": "3KGyQTbOJKFT",
        "outputId": "2becc346-9b40-4e1f-eb2a-9411e24c511a"
      },
      "execution_count": 24,
      "outputs": [
        {
          "output_type": "stream",
          "name": "stdout",
          "text": [
            "[0, 1, 2, 3, 4, 5]\n"
          ]
        }
      ]
    },
    {
      "cell_type": "markdown",
      "source": [
        "### 2. Removing elements from a list"
      ],
      "metadata": {
        "id": "UrTvfiB2Ks7a"
      }
    },
    {
      "cell_type": "code",
      "source": [
        "# removing by value\n",
        "fruits = [\"apple\", \"banana\", \"cherry\", \"banana\"]\n",
        "fruits.remove(\"banana\")\n",
        "print(fruits)"
      ],
      "metadata": {
        "colab": {
          "base_uri": "https://localhost:8080/"
        },
        "id": "jN4OTmMzKvo2",
        "outputId": "eb838e07-f7cd-4644-c5f6-424b0987c418"
      },
      "execution_count": 28,
      "outputs": [
        {
          "output_type": "stream",
          "name": "stdout",
          "text": [
            "['apple', 'cherry', 'banana']\n"
          ]
        }
      ]
    },
    {
      "cell_type": "code",
      "source": [
        "# removing by index\n",
        "fruits = [\"apple\", \"banana\", \"cherry\", \"banana\"]\n",
        "del fruits[1]\n",
        "print(fruits)"
      ],
      "metadata": {
        "colab": {
          "base_uri": "https://localhost:8080/"
        },
        "id": "PpYTsXFUK4Mz",
        "outputId": "1b7b08e1-4f71-4ee2-87f1-3d81dc1cecbf"
      },
      "execution_count": 29,
      "outputs": [
        {
          "output_type": "stream",
          "name": "stdout",
          "text": [
            "['apple', 'cherry', 'banana']\n"
          ]
        }
      ]
    },
    {
      "cell_type": "code",
      "source": [
        "# removing in index and returning the value\n",
        "fruits = [\"apple\", \"banana\", \"cherry\", \"banana\"]\n",
        "item = fruits.pop(1)\n",
        "print(f\"Removed item: {item}\")\n",
        "print(f\"The updated list: {fruits}\")"
      ],
      "metadata": {
        "colab": {
          "base_uri": "https://localhost:8080/"
        },
        "id": "SlyZlhOxLIg4",
        "outputId": "e5cd5125-4d57-41bd-ce22-2c19ee30bb9c"
      },
      "execution_count": 31,
      "outputs": [
        {
          "output_type": "stream",
          "name": "stdout",
          "text": [
            "Removed item: banana\n",
            "The updated list: ['apple', 'cherry', 'banana']\n"
          ]
        }
      ]
    },
    {
      "cell_type": "markdown",
      "source": [
        "## List Methods"
      ],
      "metadata": {
        "id": "33e6yqysSOZ8"
      }
    },
    {
      "cell_type": "code",
      "source": [
        "# checking if an item is \"in\" a list\n",
        "fruits = [\"apple\", \"banana\", \"cherry\"]\n",
        "\n",
        "if \"banana\" in fruits:\n",
        "    print(\"Great, you already have a banana!\")\n",
        "else:\n",
        "    fruits.append(\"banana\")"
      ],
      "metadata": {
        "colab": {
          "base_uri": "https://localhost:8080/"
        },
        "id": "-bo2Y-F9STYN",
        "outputId": "1132ffec-d008-4628-f036-5883ef14ce7f"
      },
      "execution_count": 38,
      "outputs": [
        {
          "output_type": "stream",
          "name": "stdout",
          "text": [
            "Great, you already have a banana!\n"
          ]
        }
      ]
    },
    {
      "cell_type": "code",
      "source": [
        "# counting number of times a specified item appears in a list\n",
        "fruits = [\"apple\", \"banana\", \"cherry\", \"banana\"]\n",
        "\n",
        "print(fruits.count(\"apple\"))\n",
        "print(fruits.count(\"banana\"))\n",
        "print(fruits.count(\"kiwi\"))"
      ],
      "metadata": {
        "colab": {
          "base_uri": "https://localhost:8080/"
        },
        "id": "B-yJ9_bjSjGS",
        "outputId": "d462a9a1-8b87-48a1-dc3f-1d9f69f5a6b0"
      },
      "execution_count": 39,
      "outputs": [
        {
          "output_type": "stream",
          "name": "stdout",
          "text": [
            "1\n",
            "2\n",
            "0\n"
          ]
        }
      ]
    },
    {
      "cell_type": "code",
      "source": [
        "# reversing the order of a list\n",
        "fruits = [\"date\", \"fig\", \"apple\", \"banana\", \"grape\", \"cherry\"]\n",
        "\n",
        "fruits.reverse()\n",
        "print(fruits)"
      ],
      "metadata": {
        "colab": {
          "base_uri": "https://localhost:8080/"
        },
        "id": "r5AyI4YbSsLu",
        "outputId": "61acdfb1-6ab1-427c-cbd3-f2464759f190"
      },
      "execution_count": 42,
      "outputs": [
        {
          "output_type": "stream",
          "name": "stdout",
          "text": [
            "['cherry', 'grape', 'banana', 'apple', 'fig', 'date']\n"
          ]
        }
      ]
    },
    {
      "cell_type": "code",
      "source": [
        "# sorting a list\n",
        "fruits.sort()\n",
        "print(fruits)"
      ],
      "metadata": {
        "colab": {
          "base_uri": "https://localhost:8080/"
        },
        "id": "MJyCKih5TINe",
        "outputId": "f0e1dde6-9681-4707-80a2-f9960ae7cba3"
      },
      "execution_count": 43,
      "outputs": [
        {
          "output_type": "stream",
          "name": "stdout",
          "text": [
            "['apple', 'banana', 'cherry', 'date', 'fig', 'grape']\n"
          ]
        }
      ]
    },
    {
      "cell_type": "markdown",
      "source": [
        "## Functions that Accepts Lists\n",
        "\n",
        "Some built-in functions are happy to take a list as an argument."
      ],
      "metadata": {
        "id": "B-BhSMNFT0O2"
      }
    },
    {
      "cell_type": "code",
      "source": [
        "# using sum() function on a list\n",
        "numbers = [13, 3, 8, 14, 2]\n",
        "print(sum(numbers))"
      ],
      "metadata": {
        "colab": {
          "base_uri": "https://localhost:8080/"
        },
        "id": "Wqb_ONLUUBIW",
        "outputId": "af653a20-76d6-4c9a-96c4-495e102265aa"
      },
      "execution_count": 48,
      "outputs": [
        {
          "output_type": "stream",
          "name": "stdout",
          "text": [
            "40\n"
          ]
        }
      ]
    },
    {
      "cell_type": "code",
      "source": [
        "# using min() function on a list\n",
        "print(min(numbers))"
      ],
      "metadata": {
        "colab": {
          "base_uri": "https://localhost:8080/"
        },
        "id": "Fcj-GaLgULWS",
        "outputId": "6caa8a92-21cb-4c05-fa4d-72120f723ea8"
      },
      "execution_count": 49,
      "outputs": [
        {
          "output_type": "stream",
          "name": "stdout",
          "text": [
            "2\n"
          ]
        }
      ]
    },
    {
      "cell_type": "code",
      "source": [
        "# using max() function on a list\n",
        "print(max(numbers))"
      ],
      "metadata": {
        "colab": {
          "base_uri": "https://localhost:8080/"
        },
        "id": "nkVFUqmpUR6Y",
        "outputId": "5101b467-6b1e-4b17-be87-547f56ecd282"
      },
      "execution_count": 50,
      "outputs": [
        {
          "output_type": "stream",
          "name": "stdout",
          "text": [
            "14\n"
          ]
        }
      ]
    },
    {
      "cell_type": "markdown",
      "source": [
        "## Exercise 1\n",
        "\n",
        "- Create a new list and store it in a variable named `items`.\n",
        "- The list should contain three elements — a string, followed by a float, followed by an int.\n",
        "- Print the list to the screen."
      ],
      "metadata": {
        "id": "XMDKKmY8-_fq"
      }
    },
    {
      "cell_type": "code",
      "source": [
        "items = [\"Alfred\", 2.34, 40]\n",
        "\n",
        "print(items)"
      ],
      "metadata": {
        "colab": {
          "base_uri": "https://localhost:8080/"
        },
        "id": "9iUlyADG_HCX",
        "outputId": "37f86157-24cc-4989-ee1d-8be4af864082"
      },
      "execution_count": 2,
      "outputs": [
        {
          "output_type": "stream",
          "name": "stdout",
          "text": [
            "['Alfred', 2.34, 40]\n"
          ]
        }
      ]
    },
    {
      "cell_type": "markdown",
      "source": [
        "## Exercise 2\n",
        "\n",
        "- Create a list named `titanic_crew` that contains the names \"Captain Smith\", \"Mr. Murdoch\", and \"Mr. Lightoller\".\n",
        "- Print the third crew member's name from the `titanic_crew` list using list indexing."
      ],
      "metadata": {
        "id": "toI-dvG-AI-9"
      }
    },
    {
      "cell_type": "code",
      "source": [
        "titanic_crew = [\"Captain Smith\", \"Mr. Murdoch\", \"Mr. Lightoller\"]\n",
        "\n",
        "print(titanic_crew[2])"
      ],
      "metadata": {
        "colab": {
          "base_uri": "https://localhost:8080/"
        },
        "id": "H7eCfWmhARrg",
        "outputId": "7fde1ae0-dbe8-4781-d84f-1c2694a66a01"
      },
      "execution_count": 7,
      "outputs": [
        {
          "output_type": "stream",
          "name": "stdout",
          "text": [
            "Mr. Lightoller\n"
          ]
        }
      ]
    },
    {
      "cell_type": "markdown",
      "source": [
        "## Exercise 3\n",
        "\n",
        "- Below is a code with a pre-defined list, representing a person's favorite fruits ranked from most to least favorite.\n",
        "- Adjust the **print** statement to showcase the appropriate information.\n",
        "\n",
        "_Note: The `\\n` is a special symbol that is known as the newline character._\n",
        "\n",
        "```python\n",
        "#fix the below code and fill appropraite syntax inplace of '__'\n",
        "top_fruits = [\"apple\", \"banana\", \"cherry\", \"date\", \"elderberry\", \"fig\", \"grape\", \"honeydew\", \"kiwi\", \"lemon\"]\n",
        "print(f\"My list contains a total of  fruits: {__(top_fruits)}. \\nMy most loved fruit is: {top_fruits[__]}. \\nMy least loved fruit is: {top_fruits[__]}\")\n",
        "```"
      ],
      "metadata": {
        "id": "lWWKLYTLAdTc"
      }
    },
    {
      "cell_type": "code",
      "source": [
        "#fix the below code and fill appropraite syntax inplace of '__'\n",
        "top_fruits = [\"apple\", \"banana\", \"cherry\", \"date\", \"elderberry\", \"fig\", \"grape\", \"honeydew\", \"kiwi\", \"lemon\"]\n",
        "print(f\"My list contains a total of  fruits: {len(top_fruits)}. \\nMy most loved fruit is: {top_fruits[0]}. \\nMy least loved fruit is: {top_fruits[-1]}\")"
      ],
      "metadata": {
        "colab": {
          "base_uri": "https://localhost:8080/"
        },
        "id": "_76Zzar1AphF",
        "outputId": "4556ef96-8332-4e1d-9fed-a5e9deda1a75"
      },
      "execution_count": 8,
      "outputs": [
        {
          "output_type": "stream",
          "name": "stdout",
          "text": [
            "My list contains a total of  fruits: 10. \n",
            "My most loved fruit is: apple. \n",
            "My least loved fruit is: lemon\n"
          ]
        }
      ]
    },
    {
      "cell_type": "markdown",
      "source": [
        "## Exercise 4\n",
        "\n",
        "- Not sure how to double the list? Do it the same way as you did with strings.\n",
        "- Otherwise, the function should return the list with its elements repeated (doubled).\n",
        "- If the provided list is empty, the function should return it unchanged.\n",
        "- Create a function named `double_or_nothing` that accepts a list as a parameter."
      ],
      "metadata": {
        "id": "VxHUU9e9BiME"
      }
    },
    {
      "cell_type": "code",
      "source": [
        "def double_or_nothing(my_list):\n",
        "    if len(my_list) == 0:\n",
        "        return my_list\n",
        "    else:\n",
        "        return my_list * 2\n",
        "\n",
        "print(double_or_nothing([1, 2, 3]))"
      ],
      "metadata": {
        "colab": {
          "base_uri": "https://localhost:8080/"
        },
        "id": "QqVpMoEcBr36",
        "outputId": "3c1f34e9-59a5-46d7-d7c7-b3d7f3f65573"
      },
      "execution_count": 9,
      "outputs": [
        {
          "output_type": "stream",
          "name": "stdout",
          "text": [
            "[1, 2, 3, 1, 2, 3]\n"
          ]
        }
      ]
    },
    {
      "cell_type": "markdown",
      "source": [
        "## Exercise 5\n",
        "\n",
        "- Write a function, `remove_ends`, that accepts a list as input and **returns** a new list with the first and last elements removed.\n",
        "- You can assume the given list contains at least two items.\n",
        "- Example:\n",
        "\n",
        "```python\n",
        "remove_ends([\"Jack\", \"Rose\", \"Cal\"])\n",
        "[\"Rose\"]\n",
        "remove_ends([12, 50, 651, 64, 23])\n",
        "[50, 651, 64]\n",
        "```"
      ],
      "metadata": {
        "id": "OQQjYQ_OGfEx"
      }
    },
    {
      "cell_type": "code",
      "source": [
        "def remove_ends(old_list):\n",
        "  new_list = old_list[1:-1]\n",
        "  return new_list\n",
        "\n",
        "print(remove_ends([\"Jack\", \"Rose\", \"Cal\"]))\n",
        "print(remove_ends([12, 50, 651, 64, 23]))"
      ],
      "metadata": {
        "colab": {
          "base_uri": "https://localhost:8080/"
        },
        "id": "2hVl6O2OGtTV",
        "outputId": "674d83d0-f5c5-46b1-e701-32af7ee8801f"
      },
      "execution_count": 16,
      "outputs": [
        {
          "output_type": "stream",
          "name": "stdout",
          "text": [
            "['Rose']\n",
            "[50, 651, 64]\n"
          ]
        }
      ]
    },
    {
      "cell_type": "markdown",
      "source": [
        "## Exercise 6\n",
        "\n",
        "- Create a function `combine_and_double` that takes **two lists** as input.\n",
        "_ The function combines the two lists and then duplicates all the elements.\n",
        "- The function returns the new, combined and doubled list.\n",
        "- Example:\n",
        "\n",
        "```python\n",
        "combine_and_double([\"Jane\", \"Iman\"], [\"Tommy\", \"Kylie\"])\n",
        "['Jane', 'Iman', 'Tommy', 'Kylie', 'Jane', 'Iman', 'Tommy', 'Kylie']\n",
        "```"
      ],
      "metadata": {
        "id": "D1i_fz-qHP8X"
      }
    },
    {
      "cell_type": "code",
      "source": [
        "def combine_and_double(list1, list2):\n",
        "    combined_list = list1 + list2\n",
        "    doubled_list = combined_list * 2\n",
        "    return doubled_list\n",
        "\n",
        "print(combine_and_double([\"Jane\", \"Iman\"], [\"Tommy\", \"Kylie\"]))\n",
        "print(combine_and_double([\"1\", \"2\"], [\"3\", \"4\"]))"
      ],
      "metadata": {
        "colab": {
          "base_uri": "https://localhost:8080/"
        },
        "id": "n_Vm0oVNHkio",
        "outputId": "77ef0716-25a5-4b46-f56c-98fc82e37eb3"
      },
      "execution_count": 18,
      "outputs": [
        {
          "output_type": "stream",
          "name": "stdout",
          "text": [
            "['Jane', 'Iman', 'Tommy', 'Kylie', 'Jane', 'Iman', 'Tommy', 'Kylie']\n",
            "['1', '2', '3', '4', '1', '2', '3', '4']\n"
          ]
        }
      ]
    },
    {
      "cell_type": "markdown",
      "source": [
        "# Exercise 7\n",
        "\n",
        "- Create a list called `classes` with these strings: \"First Class\", \"Second Class\", \"Third Class\", \"Crew\".\n",
        "- A mistake was made and \"Crew\" is not a class. Replace \"Crew\" with \"Steerage\" in the `classes` list.\n",
        "- A new class has been created named \"Luxury Class\". Add \"Luxury Class\" at the start of the `classes` list.\n",
        "- Print the list."
      ],
      "metadata": {
        "id": "q1ycvhU9JZZw"
      }
    },
    {
      "cell_type": "code",
      "source": [
        "classes = [\"First Class\", \"Second Class\", \"Third Class\", \"Crew\"]\n",
        "classes[3] = \"Steerage\"\n",
        "classes.insert(0, \"Luxury Class\")\n",
        "print(classes)"
      ],
      "metadata": {
        "colab": {
          "base_uri": "https://localhost:8080/"
        },
        "id": "3RZPxcuHJkNq",
        "outputId": "ed933958-a4aa-4c50-b7ee-d79d84f00ab1"
      },
      "execution_count": 25,
      "outputs": [
        {
          "output_type": "stream",
          "name": "stdout",
          "text": [
            "['Luxury Class', 'First Class', 'Second Class', 'Third Class', 'Steerage']\n"
          ]
        }
      ]
    },
    {
      "cell_type": "markdown",
      "source": [
        "# Exercise 8\n",
        "\n",
        "- Write a function `smart_append` that takes two parameters — a list and a value (of any type).\n",
        "- If the value is not already in the list, the function will append it and **return** the list.\n",
        "- Otherwise, it will **return** the list untouched.\n",
        "\n",
        "```python\n",
        "smart_append([1, 2, 3], 3)\n",
        "[1, 2, 3]\n",
        "smart_append([1, 2, 3], 4)\n",
        "[1, 2, 3, 4]\n",
        "```"
      ],
      "metadata": {
        "id": "cytbHZqcJyqy"
      }
    },
    {
      "cell_type": "code",
      "source": [
        "def smart_append(my_list, value):\n",
        "    if value in my_list:\n",
        "        return my_list\n",
        "    else:\n",
        "        my_list.append(value)\n",
        "        return my_list\n",
        "\n",
        "print(smart_append([1, 2, 3], 3))\n",
        "print(smart_append([1, 2, 3], 4))"
      ],
      "metadata": {
        "colab": {
          "base_uri": "https://localhost:8080/"
        },
        "id": "2C6iXQ_FKA_F",
        "outputId": "5e6e6eb5-fe5c-4afe-c032-65c9b10d26d8"
      },
      "execution_count": 26,
      "outputs": [
        {
          "output_type": "stream",
          "name": "stdout",
          "text": [
            "[1, 2, 3]\n",
            "[1, 2, 3, 4]\n"
          ]
        }
      ]
    },
    {
      "cell_type": "markdown",
      "source": [
        "## Exercise 9\n",
        "\n",
        "- Write a function called `head_tail` that expects a list as a parameter.\n",
        "- The function checks if the first and last item of the list are equal.\n",
        "- If they are, they are both removed, and the updated list is **returned**.\n",
        "- If they are not, the list is returned unchanged."
      ],
      "metadata": {
        "id": "Rt33N8CzLca1"
      }
    },
    {
      "cell_type": "code",
      "source": [
        "def head_tail(my_list):\n",
        "    if my_list[0] == my_list[-1]:\n",
        "        del my_list[0]\n",
        "        del my_list[-1]\n",
        "        return my_list\n",
        "    else:\n",
        "        return my_list\n",
        "\n",
        "print(head_tail([1, 2, 3, 4, 1]))\n",
        "print(head_tail([\"a\", \"b\", \"c\", \"d\"]))"
      ],
      "metadata": {
        "colab": {
          "base_uri": "https://localhost:8080/"
        },
        "id": "8_g1PA3cLjtB",
        "outputId": "172c321c-9bef-45ea-91af-04eddbf24420"
      },
      "execution_count": 33,
      "outputs": [
        {
          "output_type": "stream",
          "name": "stdout",
          "text": [
            "[2, 3, 4]\n",
            "['a', 'b', 'c', 'd']\n"
          ]
        }
      ]
    },
    {
      "cell_type": "markdown",
      "source": [
        "## Exercise 10\n",
        "\n",
        "- Let’s create a small user interface for modifying a list of fruits.\n",
        "- Write a program that asks the user to choose between **addition** and **removal** (The user will type one of the words).\n",
        "- Depending on the choice, the program adds an item to or removes an item **from the end** of a list.\n",
        "- If the user wants to add an item, the program will ask him for the name of the fruit to add."
      ],
      "metadata": {
        "id": "oBAkhEOvObLz"
      }
    },
    {
      "cell_type": "code",
      "source": [
        "fruits = [\"apple\", \"banana\", \"cherry\", \"banana\"]\n",
        "\n",
        "def add_or_remove(action):\n",
        "  if action == \"add\":\n",
        "    fruit = input(\"What fruit would you like to add? \")\n",
        "    fruits.append(fruit)\n",
        "    print(f\"Updated fruits: {fruits}\")\n",
        "  elif action == \"remove\":\n",
        "    removed_fruit = fruits.pop(-1)\n",
        "    print(f\"Removed fruit: {removed_fruit}\")\n",
        "    print(f\"Updated fruits: {fruits}\")\n",
        "\n",
        "print(f\"We have these fruits: {fruits}\")\n",
        "action = input(\"Would you like to add or remove? \")\n",
        "add_or_remove(action)"
      ],
      "metadata": {
        "colab": {
          "base_uri": "https://localhost:8080/"
        },
        "id": "UBUT0KtHPV_L",
        "outputId": "f5c406cf-f528-4626-e9e7-176b5566abf1"
      },
      "execution_count": 35,
      "outputs": [
        {
          "output_type": "stream",
          "name": "stdout",
          "text": [
            "We have these fruits: ['apple', 'banana', 'cherry', 'banana']\n",
            "Would you like to add or remove? remove\n",
            "Removed fruit: banana\n",
            "Updated fruits: ['apple', 'banana', 'cherry']\n"
          ]
        }
      ]
    },
    {
      "cell_type": "markdown",
      "source": [
        "## Exercise 11\n",
        "\n",
        "- Write a function named `no_empty_first_item` that takes a **list** of strings as a parameter.\n",
        "- The function should check if the first item in the list is an **empty string**. If it is, it will delete this item and **return** the updated list.\n",
        "- Otherwise, it will **return** the list unchanged.\n",
        "- Example:\n",
        "\n",
        "```python\n",
        "no_empty_first_item([\"\",\"Hello\",\"World\"])\n",
        "[\"Hello\",\"World\"]\n",
        "no_empty_first_item([\"Goodbye\",\"World\"])\n",
        "[\"Goodbye\",\"World\"]\n",
        "```"
      ],
      "metadata": {
        "id": "l1rcHXhfQ-7E"
      }
    },
    {
      "cell_type": "code",
      "source": [
        "def no_empty_first_item(my_list):\n",
        "    if my_list[0] == \"\":\n",
        "        del my_list[0]\n",
        "        return my_list\n",
        "    else:\n",
        "        return my_list\n",
        "\n",
        "print(no_empty_first_item([\"\",\"Hello\",\"World\"]))\n",
        "no_empty_first_item([\"Goodbye\",\"World\"])"
      ],
      "metadata": {
        "colab": {
          "base_uri": "https://localhost:8080/"
        },
        "id": "Y3-jSiOHRSyp",
        "outputId": "2b17595a-21bc-40dc-edaa-513e4e25776a"
      },
      "execution_count": 37,
      "outputs": [
        {
          "output_type": "stream",
          "name": "stdout",
          "text": [
            "['Hello', 'World']\n"
          ]
        },
        {
          "output_type": "execute_result",
          "data": {
            "text/plain": [
              "['Goodbye', 'World']"
            ]
          },
          "metadata": {},
          "execution_count": 37
        }
      ]
    },
    {
      "cell_type": "markdown",
      "source": [
        "## Exercise 12\n",
        "\n",
        "The following program was supposed to sort the list of passengers, but something went wrong. Can you fix the program so that it sorts and then prints the passenger list?\n",
        "\n",
        "```python\n",
        "passengers = [\"John Jacob Astor IV\", \"Benjamin Guggenheim\", \"Isidor Straus\"]\n",
        "passengers=passengers.sort\n",
        "print(passengers)\n",
        "```"
      ],
      "metadata": {
        "id": "pkk_d_18TPbU"
      }
    },
    {
      "cell_type": "code",
      "source": [
        "passengers = [\"John Jacob Astor IV\", \"Benjamin Guggenheim\", \"Isidor Straus\"]\n",
        "passengers.sort()\n",
        "print(passengers)"
      ],
      "metadata": {
        "colab": {
          "base_uri": "https://localhost:8080/"
        },
        "id": "Rcrtq-skTcxi",
        "outputId": "60cb7331-b80b-4bab-c7b4-ee5d9955627d"
      },
      "execution_count": 44,
      "outputs": [
        {
          "output_type": "stream",
          "name": "stdout",
          "text": [
            "['Benjamin Guggenheim', 'Isidor Straus', 'John Jacob Astor IV']\n"
          ]
        }
      ]
    },
    {
      "cell_type": "markdown",
      "source": [
        "## Exercise 13\n",
        "\n",
        "- Create a function called `average` that receives a **list** as an argument, and **returns** its average.\n",
        "- You can assume that the list is not empty and contains only numbers."
      ],
      "metadata": {
        "id": "h2Zz7UcbUgVE"
      }
    },
    {
      "cell_type": "code",
      "source": [
        "def average(my_list):\n",
        "  return sum(my_list) / len(my_list)\n",
        "\n",
        "print(average([1, 2, 3, 4, 5]))"
      ],
      "metadata": {
        "colab": {
          "base_uri": "https://localhost:8080/"
        },
        "id": "VfaKB0ToUp2T",
        "outputId": "d1377c36-d57f-40f3-9839-20b5e6e4f767"
      },
      "execution_count": 51,
      "outputs": [
        {
          "output_type": "stream",
          "name": "stdout",
          "text": [
            "3.0\n"
          ]
        }
      ]
    },
    {
      "cell_type": "markdown",
      "source": [
        "## Exercise 14\n",
        "\n",
        "- In a certain school, the teacher wants to know the gap between the top and the lowest grade in an exam.\n",
        "- Create a function called `grade_range` that accepts a **list** of ints as an argument, and **returns** the range, which is the difference between the maximum and minimum values in the list."
      ],
      "metadata": {
        "id": "ZbHXRSNbU6jT"
      }
    },
    {
      "cell_type": "code",
      "source": [
        "def grade_range(grades):\n",
        "  return max(grades) - min(grades)\n",
        "\n",
        "print(grade_range([75, 82, 63, 94, 78]))"
      ],
      "metadata": {
        "colab": {
          "base_uri": "https://localhost:8080/"
        },
        "id": "zDyiZE1NVIUY",
        "outputId": "74651ad1-c6e1-4a4a-f633-ff04b803d389"
      },
      "execution_count": 52,
      "outputs": [
        {
          "output_type": "stream",
          "name": "stdout",
          "text": [
            "31\n"
          ]
        }
      ]
    }
  ]
}
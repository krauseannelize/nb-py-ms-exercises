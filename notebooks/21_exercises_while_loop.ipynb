{
  "nbformat": 4,
  "nbformat_minor": 0,
  "metadata": {
    "colab": {
      "provenance": [],
      "authorship_tag": "ABX9TyPKUAIg02T6uuUyewSTOrnh",
      "include_colab_link": true
    },
    "kernelspec": {
      "name": "python3",
      "display_name": "Python 3"
    },
    "language_info": {
      "name": "python"
    }
  },
  "cells": [
    {
      "cell_type": "markdown",
      "metadata": {
        "id": "view-in-github",
        "colab_type": "text"
      },
      "source": [
        "<a href=\"https://colab.research.google.com/github/krauseannelize/nb-py-ms-exercises/blob/main/notebooks/21_exercises_while_loop.ipynb\" target=\"_parent\"><img src=\"https://colab.research.google.com/assets/colab-badge.svg\" alt=\"Open In Colab\"/></a>"
      ]
    },
    {
      "cell_type": "markdown",
      "source": [
        "# 21 | Exercises - While Loop\n",
        "\n",
        "A **`while` loop** repeats a block of code repeatedly as long as a certain condition remains `True`. When the condition becomes `False`, the `while` loop is exited. This is a type of **indefinite iteration** meaning that the number of times the loop is executed isn’t specified explicitly in advance.\n",
        "\n",
        "When you know in advance how many times the loop will run and you need a **definite loop**, it is advised to use a `for` loop. Only use a `while` loop when you need an **indefinite loop** with an uncertain amount of iterations.\n",
        "\n",
        "⚠️ You **must change** something _inside_ the code block that will eventually make the condition `False`. If the condition never becomes False, you will have an **infinite loop**."
      ],
      "metadata": {
        "id": "_lNl8e1HSbqe"
      }
    },
    {
      "cell_type": "code",
      "execution_count": null,
      "metadata": {
        "id": "JEW1thQTSYeP"
      },
      "outputs": [],
      "source": [
        "# basic while loop syntax\n",
        "while condition:  # must be a boolean expression\n",
        "    # code block to be executed"
      ]
    },
    {
      "cell_type": "code",
      "source": [
        "n = 4\n",
        "while n > 0:\n",
        "\t print(n)\n",
        "\t n -= 1  # change to avoid indefinite loop\n",
        "print('GO!')"
      ],
      "metadata": {
        "colab": {
          "base_uri": "https://localhost:8080/"
        },
        "id": "9P15ikCDWSf1",
        "outputId": "76a3a469-6a5e-41b3-d285-986576b0eb2f"
      },
      "execution_count": 1,
      "outputs": [
        {
          "output_type": "stream",
          "name": "stdout",
          "text": [
            "4\n",
            "3\n",
            "2\n",
            "1\n",
            "GO!\n"
          ]
        }
      ]
    },
    {
      "cell_type": "markdown",
      "source": [
        "## The Input Validation Loop\n",
        "\n",
        "A **input validation loop** (also **listener loop**) is used when we want to get continuous input from the user until a particular condition is met. This pattern is essential for **input validation** and ensuring a user has entered valid data before the program can proceed.\n",
        "\n",
        "### Basic Structure\n",
        "\n",
        "- input variable initialized _outside_ `while` loop\n",
        "- create a `while` loop with the condition that, when met, will stop the loop\n",
        "- add a function call to get user input inside the `while` loop"
      ],
      "metadata": {
        "id": "K9xYugjqawY7"
      }
    },
    {
      "cell_type": "code",
      "source": [
        "num = 0\n",
        "while num != 100:\n",
        "    num = int(input(\"Please enter a number: \"))\n",
        "    print(\"Checking your number...\")\n",
        "\n",
        "print(\"Finally! you've entered 100!\")"
      ],
      "metadata": {
        "colab": {
          "base_uri": "https://localhost:8080/"
        },
        "id": "nrL4pG3EbwMJ",
        "outputId": "bcdb0504-0b32-4fb7-9ffa-a28018650f37"
      },
      "execution_count": 10,
      "outputs": [
        {
          "output_type": "stream",
          "name": "stdout",
          "text": [
            "Please enter a number: 90\n",
            "Checking your number...\n",
            "Please enter a number: 100\n",
            "Checking your number...\n",
            "Finally! you've entered 100!\n"
          ]
        }
      ]
    },
    {
      "cell_type": "markdown",
      "source": [
        "## Infinite Loops\n",
        "\n",
        "An **infinite loop** runs endlessly and will basically crash your application. They are typically caused by logical errors, but can also be intentional.\n",
        "\n",
        "### Accidental Infinite Loops\n",
        "\n",
        "- The variable used for the boolean expression is never updated inside the loop\n",
        "\n",
        "```python\n",
        "keep_going = True\n",
        "while keep_going:\n",
        "    password = input(\"Enter a password: \")\n",
        "# keep_going's value will never change\n",
        "```\n",
        "\n",
        "- The variable can never meet the condition for terminating the loop\n",
        "\n",
        "```python\n",
        "b = 15\n",
        "while b < 60:\n",
        "    b = b - 5\n",
        "# b is only getting smaller and will always be less than 60\n",
        "```\n",
        "\n",
        "### Intentional Infinite Loops\n",
        "\n",
        "The `while True` loop is an intentional infinite loop that must have a planned exit using a `break` statement. This is a common pattern for programs that need to run continuously, like a game or server.\n",
        "\n",
        "```python\n",
        "while True:\n",
        "    user_input = input(\"Enter 'quit' to exit: \")\n",
        "    if user_input.lower() == 'quit':\n",
        "        break # planned exit route from the loop\n",
        "    print(f\"You entered: {user_input}\")\n",
        "```\n",
        "\n",
        "## Break & Continue\n",
        "\n",
        "Python provides ways control the flow of iteration with two keywords:\n",
        "\n",
        "- `break` statement allows a program to immediately exit a loop, regardless of the loop's conditional structure, without rechecking the condition.\n",
        "\n",
        "```python\n",
        "while True:\n",
        "  print(\"Start of while loop\")\n",
        "  break\n",
        "  print(\"After the break statement\")\n",
        "print(\"While loop exited\")\n",
        "```\n",
        "\n",
        "- `continue` statement allows a program to skip the rest of the current iteration of a loop and immediately move to the next iteration, without exiting the loop entirely.\n",
        "\n",
        "```python\n",
        "number = 0\n",
        "while number <= 5\n",
        "  number += 1\n",
        "  if number == 3:\n",
        "    continue # 3 is skipped without interrupting the iteration\n",
        "  print(number)\n",
        "```\n",
        "\n",
        "`break` and `continue` statements can be used in both `for` and `while` loops."
      ],
      "metadata": {
        "id": "xqj3vGAecUi8"
      }
    },
    {
      "cell_type": "code",
      "source": [
        "domains = [\"cnn.com\", \"website.net\", \"whatismyip.com\", \"example.net\"]\n",
        "\n",
        "print(\"Printing only .com domains\")\n",
        "for domain in domains:\n",
        "    if domain.endswith(\".net\"):\n",
        "        print(\"Skipping\")\n",
        "        continue\n",
        "    print(f\"Domain: {domain}\")"
      ],
      "metadata": {
        "colab": {
          "base_uri": "https://localhost:8080/"
        },
        "id": "l2Zm76GpJV4i",
        "outputId": "defe51e5-92ec-44f3-baf5-974bcdac4394"
      },
      "execution_count": 11,
      "outputs": [
        {
          "output_type": "stream",
          "name": "stdout",
          "text": [
            "Printing only .com domains\n",
            "Domain: cnn.com\n",
            "Skipping\n",
            "Domain: whatismyip.com\n",
            "Skipping\n"
          ]
        }
      ]
    },
    {
      "cell_type": "markdown",
      "source": [
        "## Exercise 1\n",
        "\n",
        "Construct a block of code that prints the numbers 1 through 5 (inclusive). Make sure you use correct indentation! Note that three of the provided code blocks are unnecessary for the final solution.\n",
        "\n",
        "```python\n",
        "n = 0\n",
        "while (n < 5):\n",
        "    #Your code here\n",
        "```"
      ],
      "metadata": {
        "id": "wYIuaimLWl6T"
      }
    },
    {
      "cell_type": "code",
      "source": [
        "n = 1\n",
        "while n <= 5:\n",
        "  print(n)\n",
        "  n += 1"
      ],
      "metadata": {
        "colab": {
          "base_uri": "https://localhost:8080/"
        },
        "id": "NXpj2xl1W5u5",
        "outputId": "287bc835-762b-4348-d7f6-f617a53dec26"
      },
      "execution_count": 4,
      "outputs": [
        {
          "output_type": "stream",
          "name": "stdout",
          "text": [
            "1\n",
            "2\n",
            "3\n",
            "4\n",
            "5\n"
          ]
        }
      ]
    },
    {
      "cell_type": "markdown",
      "source": [
        "## Exercise 2\n",
        "\n",
        "Below, we’ve provided a for loop that sums all the elements of `list1`. Write code that accomplishes the same task, but instead uses a while loop. Assign the accumulator variable to the name `total`.\n",
        "\n",
        "```python\n",
        "list1 = [8, 3, 4, 5, 6, 7, 9]\n",
        "\n",
        "total = 0\n",
        "for item in list1:\n",
        "    total = total + item\n",
        "print(total)\n",
        "```"
      ],
      "metadata": {
        "id": "It5k9z-3XVv0"
      }
    },
    {
      "cell_type": "code",
      "source": [
        "list1 = [8, 3, 4, 5, 6, 7, 9]\n",
        "position = 0\n",
        "total = 0\n",
        "\n",
        "while position < len(list1):\n",
        "  total += list1[position]\n",
        "  position += 1\n",
        "\n",
        "print(total)"
      ],
      "metadata": {
        "colab": {
          "base_uri": "https://localhost:8080/"
        },
        "id": "CGlBekFIXkQJ",
        "outputId": "0445bf7e-639f-4103-b655-2bfb699a15c0"
      },
      "execution_count": 8,
      "outputs": [
        {
          "output_type": "stream",
          "name": "stdout",
          "text": [
            "42\n"
          ]
        }
      ]
    },
    {
      "cell_type": "markdown",
      "source": [
        "## Exercise 3\n",
        "\n",
        "Write a while loop that prints the numbers 10 to 1 to the screen. Starting from 10, then 9…"
      ],
      "metadata": {
        "id": "b9mp6Pm3ZW28"
      }
    },
    {
      "cell_type": "code",
      "source": [
        "n = 10\n",
        "while n >= 1:\n",
        "  print(n)\n",
        "  n -= 1"
      ],
      "metadata": {
        "colab": {
          "base_uri": "https://localhost:8080/"
        },
        "id": "cq1aNBSGZZtp",
        "outputId": "487b1a91-3f97-4891-a444-3dd1ba770ce5"
      },
      "execution_count": 9,
      "outputs": [
        {
          "output_type": "stream",
          "name": "stdout",
          "text": [
            "10\n",
            "9\n",
            "8\n",
            "7\n",
            "6\n",
            "5\n",
            "4\n",
            "3\n",
            "2\n",
            "1\n"
          ]
        }
      ]
    },
    {
      "cell_type": "markdown",
      "source": [
        "## Exercise 4\n",
        "\n",
        "Create a `while` loop that has a counter from 1 to 20 (inclusive). If the value of the counter is divisible by 5, just skip it using `continue`. For the rest of the numbers, print the number. Each number should appear in a new line."
      ],
      "metadata": {
        "id": "24pHglvMKS4I"
      }
    },
    {
      "cell_type": "code",
      "source": [
        "num = 0\n",
        "while num <= 19:\n",
        "  num += 1\n",
        "  if num % 5 == 0:\n",
        "    continue\n",
        "  print(num)"
      ],
      "metadata": {
        "colab": {
          "base_uri": "https://localhost:8080/"
        },
        "id": "ei8tzjOHKauh",
        "outputId": "1dc97b8c-06af-4d72-c49d-076c3654b7ad"
      },
      "execution_count": 13,
      "outputs": [
        {
          "output_type": "stream",
          "name": "stdout",
          "text": [
            "1\n",
            "2\n",
            "3\n",
            "4\n",
            "6\n",
            "7\n",
            "8\n",
            "9\n",
            "11\n",
            "12\n",
            "13\n",
            "14\n",
            "16\n",
            "17\n",
            "18\n",
            "19\n"
          ]
        }
      ]
    },
    {
      "cell_type": "markdown",
      "source": [
        "## Exercise 5\n",
        "\n",
        "You have a dataset of customer ages stored in a list called `customer_ages`: `customer_ages = [25, 30, 0, 42, 18, 0, 65]`. Write a while loop that iterates through the `customer_ages` list and prints each age. However, if it encounters an age of 0 (representing missing data), the loop should stop and print: \"Missing data found!\""
      ],
      "metadata": {
        "id": "xvek4QuHLPtS"
      }
    },
    {
      "cell_type": "code",
      "source": [
        "customer_ages = [25, 30, 0, 42, 18, 0, 65]\n",
        "position = 0\n",
        "while position < len(customer_ages):\n",
        "  if customer_ages[position] == 0:\n",
        "    print(\"Missing data found!\")\n",
        "    break\n",
        "  print(customer_ages[position])\n",
        "  position += 1"
      ],
      "metadata": {
        "colab": {
          "base_uri": "https://localhost:8080/"
        },
        "id": "OXFf8Cz3LWh9",
        "outputId": "e7e8ab37-f98b-4a4c-ebc0-aacc3b78ab28"
      },
      "execution_count": 18,
      "outputs": [
        {
          "output_type": "stream",
          "name": "stdout",
          "text": [
            "25\n",
            "30\n",
            "Missing data found!\n"
          ]
        }
      ]
    }
  ]
}
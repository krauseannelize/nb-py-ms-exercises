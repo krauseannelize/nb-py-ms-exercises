{
  "nbformat": 4,
  "nbformat_minor": 0,
  "metadata": {
    "colab": {
      "provenance": [],
      "authorship_tag": "ABX9TyP7RQPuK0aigBgZFOSAC2ma",
      "include_colab_link": true
    },
    "kernelspec": {
      "name": "python3",
      "display_name": "Python 3"
    },
    "language_info": {
      "name": "python"
    }
  },
  "cells": [
    {
      "cell_type": "markdown",
      "metadata": {
        "id": "view-in-github",
        "colab_type": "text"
      },
      "source": [
        "<a href=\"https://colab.research.google.com/github/krauseannelize/nb-py-ms-exercises/blob/main/notebooks/11_exercises_hello_advanced.ipynb\" target=\"_parent\"><img src=\"https://colab.research.google.com/assets/colab-badge.svg\" alt=\"Open In Colab\"/></a>"
      ]
    },
    {
      "cell_type": "markdown",
      "source": [
        "# 11 | Exercises - Hello Advanced\n",
        "\n",
        "## Hello Advanced World\n",
        "\n",
        "Write a function that prints the text \"Hello, advanced world!\"."
      ],
      "metadata": {
        "id": "a4AxLs3Prf3z"
      }
    },
    {
      "cell_type": "code",
      "execution_count": 1,
      "metadata": {
        "colab": {
          "base_uri": "https://localhost:8080/"
        },
        "id": "93nElCPHrdwc",
        "outputId": "4ca1652c-15f3-4766-c695-53c643508449"
      },
      "outputs": [
        {
          "output_type": "stream",
          "name": "stdout",
          "text": [
            "Hello, advanced world!\n"
          ]
        }
      ],
      "source": [
        "def hello():\n",
        "    print(\"Hello, advanced world!\")\n",
        "\n",
        "hello()"
      ]
    },
    {
      "cell_type": "markdown",
      "source": [
        "##Simple Math Operations\n",
        "\n",
        "Write a function that takes two numbers as input and prints their multiplication (a * b)"
      ],
      "metadata": {
        "id": "kEgfY8ZZryQC"
      }
    },
    {
      "cell_type": "code",
      "source": [
        "def multiply(a, b):\n",
        "    print(a * b)\n",
        "\n",
        "multiply(6, 8)"
      ],
      "metadata": {
        "colab": {
          "base_uri": "https://localhost:8080/"
        },
        "id": "42hGUH5Zr0m2",
        "outputId": "a93f7754-6a7b-4372-cc9d-bd36c12c4f20"
      },
      "execution_count": 2,
      "outputs": [
        {
          "output_type": "stream",
          "name": "stdout",
          "text": [
            "48\n"
          ]
        }
      ]
    },
    {
      "cell_type": "markdown",
      "source": [
        "## Area of a Circle\n",
        "\n",
        "Write a function that takes the radius of a circle as input, calculates the area of the circle using the formula `area = pi * radius ** 2`, and prints the result. Use `3.14159` as an approximation for the value of `pi`."
      ],
      "metadata": {
        "id": "0mRyTjeqr9vZ"
      }
    },
    {
      "cell_type": "code",
      "source": [
        "def circle_area(radius):\n",
        "    pi = 3.14159\n",
        "    area = pi * radius ** 2\n",
        "    print(area)\n",
        "\n",
        "circle_area(4)"
      ],
      "metadata": {
        "id": "2Y_y0t3ksET_"
      },
      "execution_count": null,
      "outputs": []
    },
    {
      "cell_type": "markdown",
      "source": [
        "## String Manipulation\n",
        "\n",
        "Write a function that takes a student's first name and last name as separate parameters, and returns the full name in the following format: \"Last name, First name - Good luck in your first week.\"."
      ],
      "metadata": {
        "id": "0gQqA1LpsoT1"
      }
    },
    {
      "cell_type": "code",
      "source": [
        "def well_wishes(first_name, last_name):\n",
        "    return f\"{last_name}, {first_name} - Good luck in your first week.\"\n",
        "\n",
        "print(well_wishes(\"Kermit\", \"The Frog\"))"
      ],
      "metadata": {
        "colab": {
          "base_uri": "https://localhost:8080/"
        },
        "id": "k1KNfjEGsqff",
        "outputId": "72d807ba-ac5b-4a23-a6c0-db4b9fc84fe7"
      },
      "execution_count": 5,
      "outputs": [
        {
          "output_type": "stream",
          "name": "stdout",
          "text": [
            "The Frog, Kermit - Good luck in your first week.\n"
          ]
        }
      ]
    },
    {
      "cell_type": "markdown",
      "source": [
        "## Circle Problem\n",
        "\n",
        "Create two functions:\n",
        "\n",
        "- `circumference_of_circle(radius)`: This function takes the radius of a circle and returns its circumference using the formula C=2πr\n",
        "- `area_of_circle(radius)`: This function takes the radius of a circle and returns its area using the formula A=πr^2\n",
        "\n",
        "Finally, write a third function called `print_circle_information(radius)` that will call those two functions and print the results to the screen. Assume that π=3.14.\n",
        "\n",
        "The results should be displayed in the following pattern:\n",
        "\n",
        "> For circle with radius {radius}  \n",
        "> The circumference is {circumference} and the area is {area}"
      ],
      "metadata": {
        "id": "kPbfF8mbtOuU"
      }
    },
    {
      "cell_type": "code",
      "source": [
        "pi = 3.14\n",
        "\n",
        "def circumference_of_circle(radius):\n",
        "  return 2 * pi * radius\n",
        "\n",
        "def area_of_circle(radius):\n",
        "  return pi * radius ** 2\n",
        "\n",
        "def print_circle_information(radius):\n",
        "  print(f\"For circle with radius {radius}\")\n",
        "  print(f\"The circumference is {circumference_of_circle(radius)} and the area is {area_of_circle(radius)}\")\n",
        "\n",
        "print_circle_information(4)"
      ],
      "metadata": {
        "colab": {
          "base_uri": "https://localhost:8080/"
        },
        "id": "IjNRTfggtvhp",
        "outputId": "1f259b5d-ccda-41df-a3ae-65f9f25f0565"
      },
      "execution_count": 6,
      "outputs": [
        {
          "output_type": "stream",
          "name": "stdout",
          "text": [
            "For circle with radius 4\n",
            "The circumference is 25.12 and the area is 50.24\n"
          ]
        }
      ]
    },
    {
      "cell_type": "markdown",
      "source": [
        "## Temperature Conversion\n",
        "\n",
        "Write a function that receives a temperature in Fahrenheit and returns it in Celsius. A small reminder on the conversion formula: `C=(F−32)∗5/9`"
      ],
      "metadata": {
        "id": "7s5JX-4LvcSk"
      }
    },
    {
      "cell_type": "code",
      "source": [
        "def to_celsius(fahrenheit):\n",
        "  return (fahrenheit - 32) * 5 / 9\n",
        "\n",
        "print(to_celsius(100))"
      ],
      "metadata": {
        "colab": {
          "base_uri": "https://localhost:8080/"
        },
        "id": "v23VBir8vjLH",
        "outputId": "085e4a84-c71d-4a81-af79-611ef5eaa92f"
      },
      "execution_count": 7,
      "outputs": [
        {
          "output_type": "stream",
          "name": "stdout",
          "text": [
            "37.77777777777778\n"
          ]
        }
      ]
    },
    {
      "cell_type": "markdown",
      "source": [
        "## Age in Seconds\n",
        "\n",
        "Create a function that takes an age in years as input, calculates the approximate age in seconds, and prints the result. Assume that there are 365.25 days in a year."
      ],
      "metadata": {
        "id": "ZhtTySDbv0dx"
      }
    },
    {
      "cell_type": "code",
      "source": [
        "def age_in_seconds(age):\n",
        "  days_in_year = 365.25\n",
        "  hours_in_day = 24\n",
        "  minutes_in_hour = 60\n",
        "  seconds_in_minute = 60\n",
        "  return age * days_in_year * hours_in_day * minutes_in_hour * seconds_in_minute\n",
        "\n",
        "print(age_in_seconds(25))\n"
      ],
      "metadata": {
        "colab": {
          "base_uri": "https://localhost:8080/"
        },
        "id": "IyIre0ZQv4A3",
        "outputId": "4411a1ad-370d-4271-bb47-fcaf735f7198"
      },
      "execution_count": 8,
      "outputs": [
        {
          "output_type": "stream",
          "name": "stdout",
          "text": [
            "788940000.0\n"
          ]
        }
      ]
    },
    {
      "cell_type": "markdown",
      "source": [
        "## Perimeter of a Rectangle\n",
        "\n",
        "Write a function that takes the **length (l)** and **width (w)** of a rectangle and returns its **perimeter** (the measurement of the surrounding path)"
      ],
      "metadata": {
        "id": "POGEqSN8wSda"
      }
    },
    {
      "cell_type": "code",
      "source": [
        "def perimeter(l, w):\n",
        "  return 2 * (l + w)\n",
        "\n",
        "print(perimeter(6, 5))"
      ],
      "metadata": {
        "colab": {
          "base_uri": "https://localhost:8080/"
        },
        "id": "U72c81L1wbfS",
        "outputId": "89b9de3a-5821-43ff-9fd5-3df0c38228fc"
      },
      "execution_count": 10,
      "outputs": [
        {
          "output_type": "stream",
          "name": "stdout",
          "text": [
            "22\n"
          ]
        }
      ]
    },
    {
      "cell_type": "markdown",
      "source": [
        "## Divide & Conquer!\n",
        "\n",
        "Counting the Number of Ones, Tens, and Hundreds in a Three-Digit Number\n",
        "\n",
        "In Python, we can use integer division and the modulo operator to break down a three-digit number into its components (i.e., ones, tens, and hundreds).\n",
        "\n",
        "- Write a function that receives a three-digit number and prints how many ones, tens, and hundreds it has.\n",
        "- The print format should be as follows (using 456 as an example):\n",
        "\n",
        "> Number: 456  \n",
        "> Ones: 6  \n",
        "> Tens: 5  \n",
        "> Hundreds: 4  "
      ],
      "metadata": {
        "id": "TbB3_0WQwwkr"
      }
    },
    {
      "cell_type": "code",
      "source": [
        "def number_components(number):\n",
        "  ones = number % 10\n",
        "  tens = (number // 10) % 10\n",
        "  hundreds = number // 100\n",
        "  print(f\"Number: {number}\")\n",
        "  print(f\"Ones: {ones}\")\n",
        "  print(f\"Tens: {tens}\")\n",
        "  print(f\"Hundreds: {hundreds}\")\n",
        "\n",
        "number_components(456)"
      ],
      "metadata": {
        "colab": {
          "base_uri": "https://localhost:8080/"
        },
        "id": "_n8Ejrg-xKMY",
        "outputId": "c0ede3a5-96f9-4eef-975a-98e61a7afb7d"
      },
      "execution_count": 11,
      "outputs": [
        {
          "output_type": "stream",
          "name": "stdout",
          "text": [
            "Number: 456\n",
            "Ones: 6\n",
            "Tens: 5\n",
            "Hundreds: 4\n"
          ]
        }
      ]
    },
    {
      "cell_type": "markdown",
      "source": [
        "## Subtract Numbers!\n",
        "\n",
        "Write a function that receives a three-digit number and creates a new number using the following recipe:\n",
        "\n",
        "- The new number's hundreds place equals the number of hundreds minus the number of ones.\n",
        "- The number of tens remains the same.\n",
        "- The new number's ones place equals the number of ones minus the number of hundreds.\n",
        "- For example, using these rules, the number 856 becomes 248. Here's why:\n",
        "\n",
        "```python\n",
        "856 = (8 * 100) + (5 * 10) + (6 * 1)\n",
        "\n",
        "The new hunderds equals to 8 - 6 = 2\n",
        "The new ones equals to 6 - 8 = -2\n",
        "\n",
        "Therefore, the new number equals to:\n",
        "(2 * 100) + (5 * 10) + (-2 * 1) = 200 + 50 - 2 = 248\n",
        "```\n",
        "\n",
        "Your function should print the new number in the following format:\n",
        "\n",
        "```python\n",
        "(2 * 100) + (5 * 10) + (-2 * 1) = 200 + 50 - 2 = 248\n",
        "```"
      ],
      "metadata": {
        "id": "xLxEbw-Yxzuq"
      }
    },
    {
      "cell_type": "code",
      "source": [
        "def number_recipe(number):\n",
        "  ones = number % 10\n",
        "  tens = (number // 10) % 10\n",
        "  hundreds = number // 100\n",
        "  new_hundreds = hundreds - ones\n",
        "  new_ones = ones - hundreds\n",
        "  return (new_hundreds * 100) + (tens * 10) + (new_ones * 1)\n",
        "\n",
        "print(number_recipe(856))"
      ],
      "metadata": {
        "colab": {
          "base_uri": "https://localhost:8080/"
        },
        "id": "uca5zlNpyOok",
        "outputId": "33c7bb9f-7568-444b-de9a-03506fbf1b20"
      },
      "execution_count": 13,
      "outputs": [
        {
          "output_type": "stream",
          "name": "stdout",
          "text": [
            "248\n"
          ]
        }
      ]
    },
    {
      "cell_type": "markdown",
      "source": [
        "## Reverse Numbers\n",
        "\n",
        "This function takes a five-digit number as input and prints the number in reverse order, using the following format (assuming 12345 as input): `12345 -> 54321`"
      ],
      "metadata": {
        "id": "z8UdKx5SzHre"
      }
    },
    {
      "cell_type": "code",
      "source": [
        "def reverse_numbers(number):\n",
        "  num_str = str(number)\n",
        "  reverse_str = num_str[::-1]\n",
        "  return print(f\"{number} -> {int(reverse_str)}\")\n",
        "\n",
        "reverse_numbers(12345)"
      ],
      "metadata": {
        "colab": {
          "base_uri": "https://localhost:8080/"
        },
        "id": "8-DX5AGhzN70",
        "outputId": "ae60947e-7b69-48d7-9698-61d8086e2c93"
      },
      "execution_count": 15,
      "outputs": [
        {
          "output_type": "stream",
          "name": "stdout",
          "text": [
            "12345 -> 54321\n"
          ]
        }
      ]
    },
    {
      "cell_type": "markdown",
      "source": [
        "## Candy Calculator\n",
        "\n",
        "Create a function called `calculate_candy` that takes three arguments: `candy`, `friends`, and `keep_for_self`.\n",
        "\n",
        "- `candy`: The total amount of candy available (in grams).\n",
        "- `friends`: The number of friends with whom the candy will be shared.\n",
        "- `keep_for_self`: The amount of candy (in grams) you want to keep for yourself before sharing with your friends.\n",
        "\n",
        "The function should return the amount of candy each friend will receive. The candy is measured in grams, so the result can be a floating-point number, ensuring that each friend receives an equal share.\n",
        "\n",
        "Here are three examples:\n",
        "\n",
        "1. **Input:** `(100, 4, 10)`  \n",
        "**Output:** `22.5`  \n",
        "(100 grams of candy, keep 10 grams, 4 friends share the remaining 90 grams equally.)\n",
        "1. **Input:** `(50, 3, 5)`  \n",
        "Output: `15.0`  \n",
        "(50 grams of candy, keep 5 grams, 3 friends share the remaining 45 grams equally.)\n",
        "1. **Input:** `(200, 5, 20)`  \n",
        "**Output:** `36.0`  \n",
        "(200 grams of candy, keep 20 grams, 5 friends share the remaining 180 grams equally.)"
      ],
      "metadata": {
        "id": "DAkr3bub0NjH"
      }
    },
    {
      "cell_type": "code",
      "source": [
        "def calculate_candy(candy, friends, keep_for_self):\n",
        "  return (candy - keep_for_self) / friends\n",
        "\n",
        "print(calculate_candy(100, 4, 10))\n",
        "print(calculate_candy(50, 3, 5))\n",
        "print(calculate_candy(200, 5, 20))"
      ],
      "metadata": {
        "colab": {
          "base_uri": "https://localhost:8080/"
        },
        "id": "fbTGHOaG1QPg",
        "outputId": "4adc54a2-a7bf-4162-df54-43ad7068b9d6"
      },
      "execution_count": 18,
      "outputs": [
        {
          "output_type": "stream",
          "name": "stdout",
          "text": [
            "22.5\n",
            "15.0\n",
            "36.0\n"
          ]
        }
      ]
    },
    {
      "cell_type": "markdown",
      "source": [
        "## Do one thing | The Coffee Shop\n",
        "\n",
        "Imagine that you are designing a simple program to simulate a coffee shop. The coffee shop offers the following drinks:\n",
        "\n",
        "- Espresso costs \\$1.50\n",
        "- Cappuccino costs \\$2.75\n",
        "- Latte costs \\$3.25\n",
        "\n",
        "Write a receipt function for the coffee shop that accepts the quantity of purchased espresso, cappuccino, and latte coffees, and prints the receipt to the console in the following format:\n",
        "\n",
        "```python\n",
        "Developers Cafe\n",
        "---------------\n",
        "2x Espresso ($1.5) --- $3.0\n",
        "1x Cappuccino ($2.75) --- $2.75\n",
        "3x Latte ($3.25) --- $9.75\n",
        "---------------\n",
        "Total --- $15.5\n",
        "```"
      ],
      "metadata": {
        "id": "E4MF1io211XD"
      }
    },
    {
      "cell_type": "code",
      "source": [
        "cafe_name = \"Developers Cafe\"\n",
        "price_espresso = 1.5\n",
        "price_cappuccino = 2.75\n",
        "price_latte = 3.25\n",
        "\n",
        "# print the receipt header\n",
        "def print_header():\n",
        "  print(cafe_name)\n",
        "  print(\"-\" * len(cafe_name))\n",
        "\n",
        "# calculate total price for espresso\n",
        "def total_espresso(quantity):\n",
        "  return quantity * price_espresso\n",
        "\n",
        "# calculate total price for cappuccino\n",
        "def total_cappuccino(quantity):\n",
        "  return quantity * price_cappuccino\n",
        "\n",
        "# calculate total price for latte\n",
        "def total_latte(quantity):\n",
        "  return quantity * price_latte\n",
        "\n",
        "# print the receipt body\n",
        "def print_body(espresso_qty, cappuccino_qty, latte_qty):\n",
        "  if espresso_qty > 0:\n",
        "    print(f\"{espresso_qty}x Espresso (${price_espresso}) --- ${total_espresso(espresso_qty)}\")\n",
        "  if cappuccino_qty > 0:\n",
        "    print(f\"{cappuccino_qty}x Cappuccino (${price_cappuccino}) --- ${total_cappuccino(cappuccino_qty)}\")\n",
        "  if latte_qty > 0:\n",
        "    print(f\"{latte_qty}x Latte ($3.25) --- ${total_latte(latte_qty)}\")\n",
        "\n",
        "# print the receipt footer\n",
        "def print_footer(espresso_qty, cappuccino_qty, latte_qty):\n",
        "  receipt_total = total_espresso(espresso_qty) + total_cappuccino(cappuccino_qty) + total_latte(latte_qty)\n",
        "  print(\"-\" * len(cafe_name))\n",
        "  print(f\"Total --- ${receipt_total}\")\n",
        "\n",
        "# print the receipt\n",
        "def print_receipt(espresso_qty, cappuccino_qty, latte_qty):\n",
        "  print_header()\n",
        "  print_body(espresso_qty, cappuccino_qty, latte_qty)\n",
        "  print_footer(espresso_qty, cappuccino_qty, latte_qty)\n",
        "\n",
        "print_receipt(2, 1, 3)"
      ],
      "metadata": {
        "colab": {
          "base_uri": "https://localhost:8080/"
        },
        "id": "dbI9J8th2QPb",
        "outputId": "efbd1150-8bca-42b9-bdf6-385f2a11aedd"
      },
      "execution_count": 21,
      "outputs": [
        {
          "output_type": "stream",
          "name": "stdout",
          "text": [
            "Developers Cafe\n",
            "---------------\n",
            "2x Espresso ($1.5) --- $3.0\n",
            "1x Cappuccino ($2.75) --- $2.75\n",
            "3x Latte ($3.25) --- $9.75\n",
            "---------------\n",
            "Total --- $15.5\n"
          ]
        }
      ]
    }
  ]
}
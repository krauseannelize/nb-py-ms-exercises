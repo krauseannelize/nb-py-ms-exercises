{
  "nbformat": 4,
  "nbformat_minor": 0,
  "metadata": {
    "colab": {
      "provenance": [],
      "authorship_tag": "ABX9TyO5QyysxmZBI8w222Y52gth",
      "include_colab_link": true
    },
    "kernelspec": {
      "name": "python3",
      "display_name": "Python 3"
    },
    "language_info": {
      "name": "python"
    }
  },
  "cells": [
    {
      "cell_type": "markdown",
      "metadata": {
        "id": "view-in-github",
        "colab_type": "text"
      },
      "source": [
        "<a href=\"https://colab.research.google.com/github/krauseannelize/nb-py-ms-exercises/blob/main/notebooks/05_exercises_expressions.ipynb\" target=\"_parent\"><img src=\"https://colab.research.google.com/assets/colab-badge.svg\" alt=\"Open In Colab\"/></a>"
      ]
    },
    {
      "cell_type": "markdown",
      "source": [
        "# 05 | Exercises - Expressions\n",
        "\n",
        "An expression is a bit of code that contains a mix of values, operators, or even function calls. However, Python can't handle expressions and has to convert them to a simple value of a determined data type.\n",
        "\n",
        "## Examples of Expressions"
      ],
      "metadata": {
        "id": "zH8sSAGuCbWN"
      }
    },
    {
      "cell_type": "code",
      "execution_count": 2,
      "metadata": {
        "colab": {
          "base_uri": "https://localhost:8080/"
        },
        "id": "jYz-VcRJBiiD",
        "outputId": "64833f8a-cf5d-4209-bcab-0ac6803f9cbf"
      },
      "outputs": [
        {
          "output_type": "stream",
          "name": "stdout",
          "text": [
            "15\n",
            "<class 'int'>\n"
          ]
        }
      ],
      "source": [
        "# expression adding 3 integers\n",
        "answer = 3 + 5 + 7\n",
        "print(answer)\n",
        "print(type(answer))"
      ]
    },
    {
      "cell_type": "code",
      "source": [
        "# expression with 2 strings\n",
        "answer = \"abc\" + \"de\"\n",
        "print(answer)\n",
        "print(type(answer))"
      ],
      "metadata": {
        "colab": {
          "base_uri": "https://localhost:8080/"
        },
        "id": "1_ZZkQC0DCxu",
        "outputId": "87a44a8e-eb8e-48fd-ceaf-41bab5277def"
      },
      "execution_count": 4,
      "outputs": [
        {
          "output_type": "stream",
          "name": "stdout",
          "text": [
            "abcde\n",
            "<class 'str'>\n"
          ]
        }
      ]
    },
    {
      "cell_type": "code",
      "source": [
        "# expression dividing 2 integers\n",
        "answer = 9 / 2\n",
        "print(answer)\n",
        "print(type(answer))"
      ],
      "metadata": {
        "colab": {
          "base_uri": "https://localhost:8080/"
        },
        "id": "HoK-y_MrDRPr",
        "outputId": "79515303-dfcb-40be-e807-d89e1fecbc35"
      },
      "execution_count": 5,
      "outputs": [
        {
          "output_type": "stream",
          "name": "stdout",
          "text": [
            "4.5\n",
            "<class 'float'>\n"
          ]
        }
      ]
    },
    {
      "cell_type": "code",
      "source": [
        "# expression combining operators\n",
        "answer = 3 + 5 * 7\n",
        "print(answer)\n",
        "print(type(answer))"
      ],
      "metadata": {
        "colab": {
          "base_uri": "https://localhost:8080/"
        },
        "id": "21kw9iVeDfV4",
        "outputId": "ff5ce18e-35e0-4569-c2ff-c1600c673637"
      },
      "execution_count": 6,
      "outputs": [
        {
          "output_type": "stream",
          "name": "stdout",
          "text": [
            "38\n",
            "<class 'int'>\n"
          ]
        }
      ]
    },
    {
      "cell_type": "code",
      "source": [
        "# expression multiplying strings\n",
        "answer = \"abc\" * 3\n",
        "print(answer)\n",
        "print(type(answer))"
      ],
      "metadata": {
        "colab": {
          "base_uri": "https://localhost:8080/"
        },
        "id": "W7SqwDNLDnCE",
        "outputId": "c4deddcd-f69e-4932-d30b-b2cee67a24de"
      },
      "execution_count": 7,
      "outputs": [
        {
          "output_type": "stream",
          "name": "stdout",
          "text": [
            "abcabcabc\n",
            "<class 'str'>\n"
          ]
        }
      ]
    },
    {
      "cell_type": "code",
      "source": [
        "# expression addition 3 integers as strings\n",
        "answer = \"3\" + \"5\" + \"7\"\n",
        "print(answer)\n",
        "print(type(answer))"
      ],
      "metadata": {
        "colab": {
          "base_uri": "https://localhost:8080/"
        },
        "id": "qrtUmOhfDzKu",
        "outputId": "01a9c143-689c-4c50-e402-bcdcb33203cd"
      },
      "execution_count": 8,
      "outputs": [
        {
          "output_type": "stream",
          "name": "stdout",
          "text": [
            "357\n",
            "<class 'str'>\n"
          ]
        }
      ]
    },
    {
      "cell_type": "markdown",
      "source": [
        "## Exercise 1\n",
        "\n",
        "The radio message meant for the Titanic didn't get through. Can you find a way to print it four times in one line without typing out four individual print statements?\n",
        "\n",
        "```python\n",
        "print(\"Titanic, beware of icebergs ahead! \"*__)     #Fix the code here\n",
        "```"
      ],
      "metadata": {
        "id": "iu4mxx5ED9BM"
      }
    },
    {
      "cell_type": "code",
      "source": [
        "print(\"Titanic, beware of icebergs ahead! \" * 4)"
      ],
      "metadata": {
        "colab": {
          "base_uri": "https://localhost:8080/"
        },
        "id": "1z_8JWnSEUAC",
        "outputId": "ea358a22-3d82-440d-f773-76163fd5bd3c"
      },
      "execution_count": 9,
      "outputs": [
        {
          "output_type": "stream",
          "name": "stdout",
          "text": [
            "Titanic, beware of icebergs ahead! Titanic, beware of icebergs ahead! Titanic, beware of icebergs ahead! \n"
          ]
        }
      ]
    },
    {
      "cell_type": "markdown",
      "source": [
        "## Exercise 2\n",
        "\n",
        "The captain who received the Titanic radio message wanted to check the value type. Can you fix this code so that it prints the type?\n",
        "\n",
        "```python\n",
        "print(__(\"Titanic, beware of icebergs ahead! \"))     #Fix the code here\n",
        "```"
      ],
      "metadata": {
        "id": "b3SjoV3OEKD1"
      }
    },
    {
      "cell_type": "code",
      "source": [
        "print(type(\"Titanic, beware of icebergs ahead! \"))"
      ],
      "metadata": {
        "colab": {
          "base_uri": "https://localhost:8080/"
        },
        "id": "LkVqvY-tEuXu",
        "outputId": "95f38990-3a71-42d9-cad0-8e76b7d0f703"
      },
      "execution_count": 10,
      "outputs": [
        {
          "output_type": "stream",
          "name": "stdout",
          "text": [
            "<class 'str'>\n"
          ]
        }
      ]
    },
    {
      "cell_type": "markdown",
      "source": [
        "## Exercise 3\n",
        "\n",
        "Print the following output. First, show the math exercise & then the real calculated result. (Don’t write the result yourself).\n",
        "\n",
        "```\n",
        "100/20 + 12 =\n",
        "17.0\n",
        "```"
      ],
      "metadata": {
        "id": "zR0wVTK-EQoa"
      }
    },
    {
      "cell_type": "code",
      "source": [
        "print(\"100/20 + 12 =\")\n",
        "print(100/20 + 12)"
      ],
      "metadata": {
        "colab": {
          "base_uri": "https://localhost:8080/"
        },
        "id": "8b-Qj_Q2FGIi",
        "outputId": "e5264260-a856-4c14-ca37-f101f987918f"
      },
      "execution_count": 11,
      "outputs": [
        {
          "output_type": "stream",
          "name": "stdout",
          "text": [
            "100/20 + 12 =\n",
            "17.0\n"
          ]
        }
      ]
    }
  ]
}
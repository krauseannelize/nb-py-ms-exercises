{
  "nbformat": 4,
  "nbformat_minor": 0,
  "metadata": {
    "colab": {
      "provenance": [],
      "authorship_tag": "ABX9TyMvz6ZnMw+dMjhYN4JLHwIT",
      "include_colab_link": true
    },
    "kernelspec": {
      "name": "python3",
      "display_name": "Python 3"
    },
    "language_info": {
      "name": "python"
    }
  },
  "cells": [
    {
      "cell_type": "markdown",
      "metadata": {
        "id": "view-in-github",
        "colab_type": "text"
      },
      "source": [
        "<a href=\"https://colab.research.google.com/github/krauseannelize/nb-py-ms-exercises/blob/main/notebooks/29_challenge_advanced_code.ipynb\" target=\"_parent\"><img src=\"https://colab.research.google.com/assets/colab-badge.svg\" alt=\"Open In Colab\"/></a>"
      ]
    },
    {
      "cell_type": "markdown",
      "source": [
        "# 29 | Challenge - Advanced Code\n",
        "\n",
        "## Operators & Conditions\n",
        "\n",
        "### Basic Arithmetic Operations\n",
        "\n",
        "Write a program that accepts two numbers and displays the results of their addition, subtraction, multiplication, and division.\n",
        "\n",
        "```python\n",
        "Enter the first number: 8\n",
        "Enter the second number: 4\n",
        "Addition: 12.0\n",
        "Subtraction: 4.0\n",
        "Multiplication: 32.0\n",
        "Division: 2.0\n",
        "```"
      ],
      "metadata": {
        "id": "DbtH6YNm6xhu"
      }
    },
    {
      "cell_type": "code",
      "execution_count": 3,
      "metadata": {
        "colab": {
          "base_uri": "https://localhost:8080/"
        },
        "id": "V4ClW3sW6svz",
        "outputId": "5a4dab1d-97a4-4441-e937-eb093778f738"
      },
      "outputs": [
        {
          "output_type": "stream",
          "name": "stdout",
          "text": [
            "Enter the first number: 8\n",
            "Enter the second number: 4\n",
            "Addition: 12.0\n",
            "Subtraction: 4.0\n",
            "Multiplication: 32.0\n",
            "Division: 2.0\n"
          ]
        }
      ],
      "source": [
        "def math(num1, num2):\n",
        "  print(f\"Addition: {num1 + num2}\")\n",
        "  print(f\"Subtraction: {num1 - num2}\")\n",
        "  print(f\"Multiplication: {num1 * num2}\")\n",
        "  print(f\"Division: {num1 / num2}\")\n",
        "\n",
        "num1 = float(input(\"Enter the first number: \"))\n",
        "num2 = float(input(\"Enter the second number: \"))\n",
        "\n",
        "math(num1, num2)"
      ]
    },
    {
      "cell_type": "markdown",
      "source": [
        "### Modulo Practice\n",
        "\n",
        "Write a program that takes in a number and checks if its **_first digit_** is even or odd using the modulo operation. It should print “even first digit” or “odd first digit”."
      ],
      "metadata": {
        "id": "alNHyR3Q78Oe"
      }
    },
    {
      "cell_type": "code",
      "source": [
        "def first_digit(number):\n",
        "  first_number = int(str(number)[0])\n",
        "  if first_number % 2 == 0:\n",
        "    print(\"even first digit\")\n",
        "  else:\n",
        "    print(\"odd first digit\")\n",
        "\n",
        "number = int(input(\"Enter a number: \"))\n",
        "first_digit(number)"
      ],
      "metadata": {
        "colab": {
          "base_uri": "https://localhost:8080/"
        },
        "id": "mreIZ_aD8C7Z",
        "outputId": "d93fce16-352c-4e6d-f46e-30dc45656e96"
      },
      "execution_count": 4,
      "outputs": [
        {
          "output_type": "stream",
          "name": "stdout",
          "text": [
            "Enter a number: 25\n",
            "even first digit\n"
          ]
        }
      ]
    },
    {
      "cell_type": "markdown",
      "source": [
        "## List and Functions\n",
        "\n",
        "Write a function that receives a list of numbers. The function should find and display the minimum, maximum, and average of these numbers. You’re welcome to use some Python built-in functions. Look it up online! Example:\n",
        "\n",
        "- Input: `[10, 5, 8, 20, 15]`\n",
        "- Output:\n",
        "\n",
        "```python\n",
        "Minimum: 5\n",
        "Maximum: 20\n",
        "Average: 11.60\n",
        "```"
      ],
      "metadata": {
        "id": "eZFCh48a8YH5"
      }
    },
    {
      "cell_type": "code",
      "source": [
        "def min_max_avg(num_list):\n",
        "  print(f\"Minimum: {min(num_list)}\")\n",
        "  print(f\"Maximum: {max(num_list)}\")\n",
        "  print(f\"Average: {sum(num_list) / len(num_list)}\")\n",
        "\n",
        "min_max_avg([10, 5, 8, 20, 15])"
      ],
      "metadata": {
        "colab": {
          "base_uri": "https://localhost:8080/"
        },
        "id": "htv1cwxO8zFA",
        "outputId": "29d7f094-3240-40c7-c6c7-41d125697622"
      },
      "execution_count": 5,
      "outputs": [
        {
          "output_type": "stream",
          "name": "stdout",
          "text": [
            "Minimum: 5\n",
            "Maximum: 20\n",
            "Average: 11.6\n"
          ]
        }
      ]
    },
    {
      "cell_type": "markdown",
      "source": [
        "## Advanced conditions, loops, and functions\n",
        "\n",
        "### Loop Practice\n",
        "\n",
        "Write a program that accepts an integer `n` and prints the numbers from `1` to `n`."
      ],
      "metadata": {
        "id": "r5bwgjtY9O49"
      }
    },
    {
      "cell_type": "code",
      "source": [
        "def print_numbers(n):\n",
        "  for i in range(1, n + 1):\n",
        "    print(i)\n",
        "\n",
        "n = int(input(\"Enter an integer: \"))\n",
        "print_numbers(n)"
      ],
      "metadata": {
        "colab": {
          "base_uri": "https://localhost:8080/"
        },
        "id": "M0h5bGlF9aEX",
        "outputId": "71aacaaa-a1b8-442f-d3b7-69e2e3484db1"
      },
      "execution_count": 6,
      "outputs": [
        {
          "output_type": "stream",
          "name": "stdout",
          "text": [
            "Enter an integer: 5\n",
            "1\n",
            "2\n",
            "3\n",
            "4\n",
            "5\n"
          ]
        }
      ]
    },
    {
      "cell_type": "markdown",
      "source": [
        "### String and List\n",
        "\n",
        "Write a program that takes in a string and returns a list containing all the vowels present in that string. Remember, the vowels are `a, e, i, o, u`."
      ],
      "metadata": {
        "id": "AmoERfo79m3u"
      }
    },
    {
      "cell_type": "code",
      "source": [
        "def find_vowels(text):\n",
        "  vowel_list = []\n",
        "  for char in text:\n",
        "    if char in 'aeiouAEIOU':\n",
        "      vowel_list.append(char)\n",
        "  return vowel_list\n",
        "\n",
        "text = input(\"Enter your text: \")\n",
        "result = find_vowels(text)\n",
        "\n",
        "if result != []:\n",
        "  print(f\"Your text has these vowels: {result}\")\n",
        "else:\n",
        "  print(\"Your text contains no vowels.\")"
      ],
      "metadata": {
        "colab": {
          "base_uri": "https://localhost:8080/"
        },
        "id": "3vPBw_Dv9mk_",
        "outputId": "2e4f6edc-f06e-4a1e-b707-747f07863885"
      },
      "execution_count": 10,
      "outputs": [
        {
          "output_type": "stream",
          "name": "stdout",
          "text": [
            "Enter your text: supercalifragilisticexpialidocious\n",
            "Your text has these vowels: ['u', 'e', 'a', 'i', 'a', 'i', 'i', 'i', 'e', 'i', 'a', 'i', 'o', 'i', 'o', 'u']\n"
          ]
        }
      ]
    },
    {
      "cell_type": "markdown",
      "source": [
        "### Complex Conditions\n",
        "\n",
        "Write a program that accepts three different numbers and prints the largest among them using if-elif-else conditions."
      ],
      "metadata": {
        "id": "vluFJyJ6-3Ly"
      }
    },
    {
      "cell_type": "code",
      "source": [
        "def largest(num1, num2, num3):\n",
        "  if num1 > num2 and num1 > num3:\n",
        "    print(f\"{num1} is the largest number.\")\n",
        "  elif num2 > num1 and num2 > num3:\n",
        "    print(f\"{num2} is the largest number.\")\n",
        "  else:\n",
        "    print(f\"{num3} is the largest number.\")\n",
        "\n",
        "largest(13, 36, 27)"
      ],
      "metadata": {
        "colab": {
          "base_uri": "https://localhost:8080/"
        },
        "id": "EAJYj1w_--bH",
        "outputId": "94070c72-27ff-4309-e868-34882c30c193"
      },
      "execution_count": 11,
      "outputs": [
        {
          "output_type": "stream",
          "name": "stdout",
          "text": [
            "36 is the largest number.\n"
          ]
        }
      ]
    },
    {
      "cell_type": "markdown",
      "source": [
        "## Slicing\n",
        "\n",
        "In the following code, try to use slicing on the string “Dinosaur” to print out the following output:\n",
        "\n",
        "```python\n",
        "Dnsu\n",
        "isr\n",
        "su\n",
        "Dr\n",
        "```"
      ],
      "metadata": {
        "id": "ecM7bnuF_Z6C"
      }
    },
    {
      "cell_type": "code",
      "source": [
        "text = \"Dinosaur\"\n",
        "print(text[::2])\n",
        "print(text[1::3])\n",
        "print(text[4::2])\n",
        "print(text[::len(text)-1])"
      ],
      "metadata": {
        "colab": {
          "base_uri": "https://localhost:8080/"
        },
        "id": "_iJ-U9Cv_9ty",
        "outputId": "ed67b33c-3557-44b6-b3b3-38e7fff789b2"
      },
      "execution_count": 17,
      "outputs": [
        {
          "output_type": "stream",
          "name": "stdout",
          "text": [
            "Dnsu\n",
            "isr\n",
            "su\n",
            "Dr\n"
          ]
        }
      ]
    },
    {
      "cell_type": "markdown",
      "source": [
        "Write a function `reverse_string(text)` that takes a string `text` as an argument and **prints** the reversed string."
      ],
      "metadata": {
        "id": "pZI4vVGAAvVW"
      }
    },
    {
      "cell_type": "code",
      "source": [
        "def reverse_string(text):\n",
        "  print(text[::-1])\n",
        "\n",
        "reverse_string(\"Dinosaur\")"
      ],
      "metadata": {
        "colab": {
          "base_uri": "https://localhost:8080/"
        },
        "id": "iKM7VAdkA3iG",
        "outputId": "ececeb85-e480-4c4a-8d23-783b88de4aa6"
      },
      "execution_count": 18,
      "outputs": [
        {
          "output_type": "stream",
          "name": "stdout",
          "text": [
            "ruasoniD\n"
          ]
        }
      ]
    },
    {
      "cell_type": "markdown",
      "source": [
        "Write a program that validates if the user entered a valid birthday.\n",
        "\n",
        "- In the main function, ask the user to input a date in the format **DD/MM**.\n",
        "- Write a function called `date_checker` that will get the input string and validate that both of its parts are valid:\n",
        "  - The day should be a number between 1 and 31.\n",
        "  - The month should be a number between 1 and 12.\n",
        "- If both conditions are met, print \"OK\". Otherwise, print “Invalid Birthday!”.\n"
      ],
      "metadata": {
        "id": "-VAhga9SBDI_"
      }
    },
    {
      "cell_type": "code",
      "source": [
        "def date_checker(date):\n",
        "  day, month = date.split(\"/\")\n",
        "  if 1 <= int(day) <= 31 and 1 <= int(month) <= 12:\n",
        "    print(\"OK\")\n",
        "  else:\n",
        "    print(\"Invalid Birthday!\")\n",
        "\n",
        "birthday = input(\"Enter your birthday in the format DD/MM: \")\n",
        "date_checker(birthday)"
      ],
      "metadata": {
        "colab": {
          "base_uri": "https://localhost:8080/"
        },
        "id": "7jCZKDZVBTW0",
        "outputId": "835352a8-c8bd-4ef2-c404-c5d769f321a1"
      },
      "execution_count": 23,
      "outputs": [
        {
          "output_type": "stream",
          "name": "stdout",
          "text": [
            "Enter your birthday in the format DD/MM: 13/9\n",
            "OK\n"
          ]
        }
      ]
    },
    {
      "cell_type": "markdown",
      "source": [
        "Create a function `palindrome` that takes a list as input and returns a new list that includes the original elements followed by the same elements in reverse order, thereby forming a palindrome-like structure.\n",
        "\n",
        "_Hint: Use slicing with a step._\n",
        "\n",
        "```python\n",
        " palindrome([\"Jack\", \"Rose\", \"Cal\"])\n",
        "[\"Jack\", \"Rose\", \"Cal\", \"Cal\", \"Rose\", \"Jack\"]\n",
        "```"
      ],
      "metadata": {
        "id": "jpPyRu7RB6NR"
      }
    },
    {
      "cell_type": "code",
      "source": [
        "def palindrome(word_list):\n",
        "  return word_list + word_list[::-1]\n",
        "\n",
        "palindrome([\"Jack\", \"Rose\", \"Cal\"])"
      ],
      "metadata": {
        "colab": {
          "base_uri": "https://localhost:8080/"
        },
        "id": "dkjo7x02CKpQ",
        "outputId": "66bb689c-c5a5-4be3-ca79-083b08b58ebc"
      },
      "execution_count": 24,
      "outputs": [
        {
          "output_type": "execute_result",
          "data": {
            "text/plain": [
              "['Jack', 'Rose', 'Cal', 'Cal', 'Rose', 'Jack']"
            ]
          },
          "metadata": {},
          "execution_count": 24
        }
      ]
    },
    {
      "cell_type": "markdown",
      "source": [
        "## Advanced list manipulations and function applications\n",
        "\n",
        "### Function and Lists\n",
        "\n",
        "Design a function that receives a list of numbers as input and returns a new one containing only the even numbers from the original list. Call the function from your program with a list of numbers of your choice."
      ],
      "metadata": {
        "id": "qlsFn8oXCZxT"
      }
    },
    {
      "cell_type": "code",
      "source": [
        "def find_evens(num_list):\n",
        "  even_list = []\n",
        "  for num in num_list:\n",
        "    if num % 2 == 0:\n",
        "      even_list.append(num)\n",
        "  return even_list\n",
        "\n",
        "find_evens([1, 2, 3, 4, 5, 6, 7, 8, 9, 10])"
      ],
      "metadata": {
        "colab": {
          "base_uri": "https://localhost:8080/"
        },
        "id": "XhZ9oQpxCgEc",
        "outputId": "21923e55-31ca-4a0b-96e2-fe159de32b71"
      },
      "execution_count": 25,
      "outputs": [
        {
          "output_type": "execute_result",
          "data": {
            "text/plain": [
              "[2, 4, 6, 8, 10]"
            ]
          },
          "metadata": {},
          "execution_count": 25
        }
      ]
    },
    {
      "cell_type": "markdown",
      "source": [
        "### List Indexing and Slicing\n",
        "\n",
        "Write a program that takes a list of numbers and returns a new list that contains only the first half of the original list. If the original list has an odd number of elements, round up to include the middle element in the new list."
      ],
      "metadata": {
        "id": "WFHF86ISCwx4"
      }
    },
    {
      "cell_type": "code",
      "source": [
        "def split_list(num_list):\n",
        "  if len(num_list) % 2 == 0:\n",
        "    return num_list[:(len(num_list) // 2)]\n",
        "    # floor on an even length gives exactly half\n",
        "  else:\n",
        "    return num_list[:(len(num_list) // 2 + 1)]\n",
        "    # floor on an odd length rounds down, add 1 to round up\n",
        "\n",
        "print(split_list([12, 30, 47, 55, 24, 19])) # even length\n",
        "print(split_list([12, 30, 47, 55, 24, 19, 7])) # odd length"
      ],
      "metadata": {
        "colab": {
          "base_uri": "https://localhost:8080/"
        },
        "id": "t3obGP56C3P3",
        "outputId": "befba016-5e5f-41e5-cf33-7191fc145734"
      },
      "execution_count": 28,
      "outputs": [
        {
          "output_type": "stream",
          "name": "stdout",
          "text": [
            "[12, 30, 47]\n",
            "[12, 30, 47, 55]\n"
          ]
        }
      ]
    },
    {
      "cell_type": "markdown",
      "source": [
        "### Advanced List Manipulation\n",
        "\n",
        "Write a program that accepts a list of numbers and a specific number of steps. The program should rotate the list to the right by the provided number of steps, and then display the result and the initial input.\n",
        "\n",
        "**Explanation:**\n",
        "\n",
        "Rotating a list involves shifting its elements to the right or left by a specified number of positions. When an element is shifted beyond the last position, it is then repositioned at the start of the list.\n",
        "\n",
        "**Example:**\n",
        "\n",
        "Suppose you have the list `[1, 2, 3, 4, 5]` and you're asked to rotate it by 2 steps to the right. After the rotation, the list becomes `[4, 5, 1, 2, 3]`."
      ],
      "metadata": {
        "id": "aiCvA_EaFBVL"
      }
    },
    {
      "cell_type": "code",
      "source": [
        "def rotate_right(list_to_rotate, steps_to_rotate):\n",
        "  return list_to_rotate[-steps_to_rotate:] + list_to_rotate[:-steps_to_rotate]\n",
        "\n",
        "original_list = [\"Adam\", \"Ben\", \"Chris\", \"Danny\", \"Evan\"]\n",
        "steps_to_rotate = 2\n",
        "rotated_list = rotate_right(original_list, steps_to_rotate)\n",
        "\n",
        "print(f\"Original list: {original_list}\")\n",
        "print(f\"Rotated list: {rotated_list}\")"
      ],
      "metadata": {
        "colab": {
          "base_uri": "https://localhost:8080/"
        },
        "id": "ly97vm9QGEHD",
        "outputId": "69ac7b8f-8559-45dd-d520-98be2a52ee50"
      },
      "execution_count": 31,
      "outputs": [
        {
          "output_type": "stream",
          "name": "stdout",
          "text": [
            "Original list: ['Adam', 'Ben', 'Chris', 'Danny', 'Evan']\n",
            "Rotated list: ['Danny', 'Evan', 'Adam', 'Ben', 'Chris']\n"
          ]
        }
      ]
    },
    {
      "cell_type": "markdown",
      "source": [
        "## Complex functions and problem solving\n",
        "\n",
        "### Sequence Generator\n",
        "\n",
        "Write a program that accepts a number `n` and generates a list of numbers from `1` to `n`, but replaces multiples of 3 with the word \"Fizz\", multiples of 5 with the word \"Buzz\", and multiples of both 3 and 5 with the word \"FizzBuzz\".\n",
        "Example:\n",
        "\n",
        "```python\n",
        "Enter a number: 15\n",
        "[1, 2, 'Fizz', 4, 'Buzz', 'Fizz', 7, 8, 'Fizz', 'Buzz', 11, 'Fizz', 13, 14, 'FizzBuzz']\n",
        "```"
      ],
      "metadata": {
        "id": "FEW9gcFtIIrc"
      }
    },
    {
      "cell_type": "code",
      "source": [
        "def sequence_generator():\n",
        "  n = int(input(\"Enter a number: \"))\n",
        "  sequence = []\n",
        "  for num in range(1,n + 1):\n",
        "    if num % 3 == 0 and num % 5 == 0:\n",
        "      sequence.append(\"FizzBuzz\")\n",
        "    elif num % 3 == 0:\n",
        "      sequence.append(\"Fizz\")\n",
        "    elif num % 5 == 0:\n",
        "      sequence.append(\"Buzz\")\n",
        "    else:\n",
        "      sequence.append(num)\n",
        "  return sequence\n",
        "\n",
        "print(sequence_generator())"
      ],
      "metadata": {
        "colab": {
          "base_uri": "https://localhost:8080/"
        },
        "id": "YRYWOnjMIeY2",
        "outputId": "49abf1d2-3029-41c3-f835-1e9b679f6ab9"
      },
      "execution_count": 40,
      "outputs": [
        {
          "output_type": "stream",
          "name": "stdout",
          "text": [
            "Enter a number: 15\n",
            "[1, 2, 'Fizz', 4, 'Buzz', 'Fizz', 7, 8, 'Fizz', 'Buzz', 11, 'Fizz', 13, 14, 'FizzBuzz']\n"
          ]
        }
      ]
    },
    {
      "cell_type": "markdown",
      "source": [
        "### String Reversal Function\n",
        "\n",
        "Create a function that accepts a string and returns its reverse. Now, write a program that takes a sentence from the user, splits it into words, and then uses your function to reverse each word in the sentence, but maintains the original order of the words.\n",
        "\n",
        "Print the original input and the transformed input at the end of the program run."
      ],
      "metadata": {
        "id": "Y3WTep-MLLV9"
      }
    },
    {
      "cell_type": "code",
      "source": [
        "def reverse_string(text):\n",
        "  return text[::-1]\n",
        "\n",
        "sentence = input(\"Enter a sentence: \")\n",
        "words = sentence.split()\n",
        "reversed_words = [reverse_string(word) for word in words]\n",
        "reversed_sentence = \" \".join(reversed_words)\n",
        "\n",
        "print(f\"Original input: {sentence}\")\n",
        "print(f\"Transformed output: {reversed_sentence}\")"
      ],
      "metadata": {
        "colab": {
          "base_uri": "https://localhost:8080/"
        },
        "id": "aUb5vYpYLS3g",
        "outputId": "dec88fd7-791f-4579-fbb4-1dd806d965a5"
      },
      "execution_count": 42,
      "outputs": [
        {
          "output_type": "stream",
          "name": "stdout",
          "text": [
            "Enter a sentence: one two three four five\n",
            "Original input: one two three four five\n",
            "Transformed output: eno owt eerht ruof evif\n"
          ]
        }
      ]
    },
    {
      "cell_type": "markdown",
      "source": [
        "### Prime Checker\n",
        "\n",
        "Write a program that accepts a number and checks if it's prime or not. Remember, a prime number is a number greater than 1 that is not divisible by any number other than 1 and itself."
      ],
      "metadata": {
        "id": "R844z229Nslf"
      }
    },
    {
      "cell_type": "code",
      "source": [
        "def is_prime(number):\n",
        "  for num in range(2, number):\n",
        "    if number % num == 0:\n",
        "      return False\n",
        "  return True\n",
        "\n",
        "try:\n",
        "  number = int(input(\"Enter a number: \"))\n",
        "  if number <= 1:\n",
        "    print(\"Please enter a valid number greater than 1.\")\n",
        "  else:\n",
        "    if is_prime(number):\n",
        "      print(f\"{number} is a prime number.\")\n",
        "    else:\n",
        "      print(f\"{number} is not a prime number.\")\n",
        "except ValueError:\n",
        "  print(\"Invalid input. Please enter a valid integer.\")"
      ],
      "metadata": {
        "colab": {
          "base_uri": "https://localhost:8080/"
        },
        "id": "VYzhUpR8Ny81",
        "outputId": "d98e5c2b-3dd5-4fbf-d26b-7d02867ec1de"
      },
      "execution_count": 53,
      "outputs": [
        {
          "output_type": "stream",
          "name": "stdout",
          "text": [
            "Enter a number: 43\n",
            "43 is a prime number.\n"
          ]
        }
      ]
    }
  ]
}
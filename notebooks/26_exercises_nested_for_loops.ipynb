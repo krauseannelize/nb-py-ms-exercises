{
  "nbformat": 4,
  "nbformat_minor": 0,
  "metadata": {
    "colab": {
      "provenance": [],
      "authorship_tag": "ABX9TyM8YKEaFlEVRlJhlhbhC+p3",
      "include_colab_link": true
    },
    "kernelspec": {
      "name": "python3",
      "display_name": "Python 3"
    },
    "language_info": {
      "name": "python"
    }
  },
  "cells": [
    {
      "cell_type": "markdown",
      "metadata": {
        "id": "view-in-github",
        "colab_type": "text"
      },
      "source": [
        "<a href=\"https://colab.research.google.com/github/krauseannelize/nb-py-ms-exercises/blob/main/notebooks/26_exercises_nested_for_loops.ipynb\" target=\"_parent\"><img src=\"https://colab.research.google.com/assets/colab-badge.svg\" alt=\"Open In Colab\"/></a>"
      ]
    },
    {
      "cell_type": "markdown",
      "source": [
        "# 26 | Exercises - Nested For Loops\n",
        "\n",
        "## The `end` parameter\n",
        "\n",
        "`end` is an optional parameter for the `print` functions that changes its default behavior of starting a new line after each execution."
      ],
      "metadata": {
        "id": "sde2r61jHQ3K"
      }
    },
    {
      "cell_type": "code",
      "execution_count": 3,
      "metadata": {
        "colab": {
          "base_uri": "https://localhost:8080/"
        },
        "id": "GJU5V51rHQM9",
        "outputId": "2adcdf6d-1c8b-43ff-8636-176c8e60f262"
      },
      "outputs": [
        {
          "output_type": "stream",
          "name": "stdout",
          "text": [
            "*****\n"
          ]
        }
      ],
      "source": [
        "for i in range(5):\n",
        "    print(\"*\",end=\"\")\n",
        "print()"
      ]
    },
    {
      "cell_type": "markdown",
      "source": [
        "## Nesting\n",
        "\n",
        "A **nested iteration** statement is an iteration statement that appears in the body of another iteration statement."
      ],
      "metadata": {
        "id": "j8PoPazyI7J9"
      }
    },
    {
      "cell_type": "code",
      "source": [
        "for i in range(5): # outer loop runs 5 times\n",
        "    for x in range(5): # inner loop runs 5x5=25 times\n",
        "        print(\"*\", end=\"\")\n",
        "print()"
      ],
      "metadata": {
        "colab": {
          "base_uri": "https://localhost:8080/"
        },
        "id": "NvyLwJ1aI788",
        "outputId": "ba8fee41-d40f-486d-a075-45f546bbb69c"
      },
      "execution_count": 6,
      "outputs": [
        {
          "output_type": "stream",
          "name": "stdout",
          "text": [
            "*************************\n"
          ]
        }
      ]
    },
    {
      "cell_type": "code",
      "source": [
        "for i in range(5): # outer loop runs 5 times\n",
        "    print(\"-\", end=\"\") # only in outer loop so only 5 times\n",
        "    for x in range(5): # inner loop runs 5x5=25 times\n",
        "        print(\"*\", end=\"\")\n",
        "print()"
      ],
      "metadata": {
        "colab": {
          "base_uri": "https://localhost:8080/"
        },
        "id": "LerDtp6SJcIM",
        "outputId": "976691b8-443e-48f9-9100-aca22d6776c9"
      },
      "execution_count": 5,
      "outputs": [
        {
          "output_type": "stream",
          "name": "stdout",
          "text": [
            "-*****-*****-*****-*****-*****\n"
          ]
        }
      ]
    },
    {
      "cell_type": "code",
      "source": [
        "for i in range(5): # outer loop runs 5 times\n",
        "    for x in range(5): # inner loop runs 5x5=25 times\n",
        "        print(\"*\", end=\"\")\n",
        "    print() # handles line breaks 5 times as part of outer loop"
      ],
      "metadata": {
        "colab": {
          "base_uri": "https://localhost:8080/"
        },
        "id": "Sr1EU1sIL1L6",
        "outputId": "82889715-d36f-4eef-cb1d-b98dd08fef3c"
      },
      "execution_count": 8,
      "outputs": [
        {
          "output_type": "stream",
          "name": "stdout",
          "text": [
            "*****\n",
            "*****\n",
            "*****\n",
            "*****\n",
            "*****\n"
          ]
        }
      ]
    },
    {
      "cell_type": "markdown",
      "source": [
        "## Using Both Loop Variables\n",
        "\n"
      ],
      "metadata": {
        "id": "4Fl4FZp0OA6A"
      }
    },
    {
      "cell_type": "code",
      "source": [
        "for i in range(3): # outer loop runs 3 times\n",
        "    for j in range(3): # inner loop runs 3x3=9 times\n",
        "         print(f\"{i}, {j}\") # all possible pairs of both variables"
      ],
      "metadata": {
        "colab": {
          "base_uri": "https://localhost:8080/"
        },
        "id": "4iV4KjpZOg-G",
        "outputId": "459b8bd4-f5a4-444c-89b4-9812eabf5e42"
      },
      "execution_count": 19,
      "outputs": [
        {
          "output_type": "stream",
          "name": "stdout",
          "text": [
            "0, 0\n",
            "0, 1\n",
            "0, 2\n",
            "1, 0\n",
            "1, 1\n",
            "1, 2\n",
            "2, 0\n",
            "2, 1\n",
            "2, 2\n"
          ]
        }
      ]
    },
    {
      "cell_type": "code",
      "source": [
        "# creating a multiplication table using both loop variables\n",
        "for i in range(1,6): # outer loop runs 5 times\n",
        "    for j in range(1,6): # inner loop runs 5x5=25 times\n",
        "         print(f\"{i*j}\\t\", end=\"\") # all possible pairs of both variables\n",
        "    print()"
      ],
      "metadata": {
        "colab": {
          "base_uri": "https://localhost:8080/"
        },
        "id": "osyCYhSzPGb7",
        "outputId": "566f1e7b-59d6-4183-8655-9695d1e73df6"
      },
      "execution_count": 22,
      "outputs": [
        {
          "output_type": "stream",
          "name": "stdout",
          "text": [
            "1\t2\t3\t4\t5\t\n",
            "2\t4\t6\t8\t10\t\n",
            "3\t6\t9\t12\t15\t\n",
            "4\t8\t12\t16\t20\t\n",
            "5\t10\t15\t20\t25\t\n"
          ]
        }
      ]
    },
    {
      "cell_type": "markdown",
      "source": [
        "⚠️ Using `\\t` in a `print` statement inserts a tab character, which creates uniform spacing and alignment"
      ],
      "metadata": {
        "id": "yc6M9PANPoFX"
      }
    },
    {
      "cell_type": "markdown",
      "source": [
        "## Dynamic Inner Loops\n",
        "\n",
        "Sometimes, the number of iterations in an inner loop is determined by the current value of the outer loop’s variable. This approach allows for more complex and adaptable looping structures."
      ],
      "metadata": {
        "id": "YYccqtJUQcaP"
      }
    },
    {
      "cell_type": "code",
      "source": [
        "for i in range(5): # outer loop runs 5 times\n",
        "    for j in range(i + 1): # inner loop iterations determined by outer loop variable + 1\n",
        "        print(\"*\", end=\"\")\n",
        "    print()"
      ],
      "metadata": {
        "id": "JdQT0rANQq0j"
      },
      "execution_count": null,
      "outputs": []
    },
    {
      "cell_type": "markdown",
      "source": [
        "## Exercise 1\n",
        "\n",
        "Fix the following code to prints all the words inside the list `words`, one in each line. Manipulate it so that every word would be printed 3 times. Use nested loops.\n",
        "\n",
        "```python\n",
        "words = [\"boom\", \"dream\", \"walk\"]\n",
        "for word in words:\n",
        "    print(word)\n",
        "```"
      ],
      "metadata": {
        "id": "gyglRmpMMUrr"
      }
    },
    {
      "cell_type": "code",
      "source": [
        "words = [\"boom\", \"dream\", \"walk\"]\n",
        "for word in words:\n",
        "  for x in range(3):\n",
        "      print(word)"
      ],
      "metadata": {
        "colab": {
          "base_uri": "https://localhost:8080/"
        },
        "id": "PTj2T5svMcXU",
        "outputId": "4b2b5cb4-9296-4559-f5ad-9fc06d12afee"
      },
      "execution_count": 13,
      "outputs": [
        {
          "output_type": "stream",
          "name": "stdout",
          "text": [
            "boom\n",
            "boom\n",
            "boom\n",
            "dream\n",
            "dream\n",
            "dream\n",
            "walk\n",
            "walk\n",
            "walk\n"
          ]
        }
      ]
    },
    {
      "cell_type": "markdown",
      "source": [
        "## Exercise 2\n",
        "\n",
        "Using the same list and nested loops, create code that will output the words, three times each, in the following format:\n",
        "\n",
        "> boom boom boom  \n",
        "> dream dream dream  \n",
        "> walk walk walk  \n",
        "\n",
        "```python\n",
        "words = [\"boom\", \"dream\", \"walk\"]\n",
        "for word in words:\n",
        "    print(word)\n",
        "```"
      ],
      "metadata": {
        "id": "dcz2N0YtNEYg"
      }
    },
    {
      "cell_type": "code",
      "source": [
        "words = [\"boom\", \"dream\", \"walk\"]\n",
        "for word in words:\n",
        "  for x in range(3):\n",
        "      print(word, end=\" \")\n",
        "  print()"
      ],
      "metadata": {
        "colab": {
          "base_uri": "https://localhost:8080/"
        },
        "outputId": "0b485aed-c8bb-41fd-96dd-6a4161c59018",
        "id": "F9yCjm_zNkiF"
      },
      "execution_count": 16,
      "outputs": [
        {
          "output_type": "stream",
          "name": "stdout",
          "text": [
            "boom boom boom \n",
            "dream dream dream \n",
            "walk walk walk \n"
          ]
        }
      ]
    },
    {
      "cell_type": "markdown",
      "source": [
        "## Exercise 3\n",
        "\n",
        "Print all the possible pairs of numbers between 1-4, unless the numbers are equal. Each pair will have a line of its own. Example:\n",
        "\n",
        "```python\n",
        "1, 2\n",
        "1, 3\n",
        "1, 4\n",
        "2, 1\n",
        "2, 3\n",
        "```"
      ],
      "metadata": {
        "id": "QSztkTDTP8_L"
      }
    },
    {
      "cell_type": "code",
      "source": [
        "for i in range(1,5):\n",
        "  for j in range(1,5):\n",
        "    if i != j:\n",
        "      print(f\"{i}, {j}\")"
      ],
      "metadata": {
        "colab": {
          "base_uri": "https://localhost:8080/"
        },
        "id": "jd0PB2uRQF7K",
        "outputId": "56bda43e-bf58-4ae6-d13d-7aa02280b239"
      },
      "execution_count": 24,
      "outputs": [
        {
          "output_type": "stream",
          "name": "stdout",
          "text": [
            "1, 2\n",
            "1, 3\n",
            "1, 4\n",
            "2, 1\n",
            "2, 3\n",
            "2, 4\n",
            "3, 1\n",
            "3, 2\n",
            "3, 4\n",
            "4, 1\n",
            "4, 2\n",
            "4, 3\n"
          ]
        }
      ]
    },
    {
      "cell_type": "markdown",
      "source": [
        "## Exercise 4\n",
        "\n",
        "Create the following pattern using nested loops:\n",
        "\n",
        "```python\n",
        "1\n",
        "22\n",
        "333\n",
        "4444\n",
        "55555\n",
        "```"
      ],
      "metadata": {
        "id": "0qyCqvzvSgqE"
      }
    },
    {
      "cell_type": "code",
      "source": [
        "for i in range(1,6):\n",
        "  for j in range(i):\n",
        "    print(i, end=\"\")\n",
        "  print()"
      ],
      "metadata": {
        "colab": {
          "base_uri": "https://localhost:8080/"
        },
        "id": "OWeXqH1gSpDY",
        "outputId": "e94936cc-28c5-4efa-b30d-85923358e895"
      },
      "execution_count": 25,
      "outputs": [
        {
          "output_type": "stream",
          "name": "stdout",
          "text": [
            "1\n",
            "22\n",
            "333\n",
            "4444\n",
            "55555\n"
          ]
        }
      ]
    },
    {
      "cell_type": "markdown",
      "source": [
        "## Exercise 5\n",
        "\n",
        "Create the same 5-line triangle shape as before, but this time — upside down:\n",
        "\n",
        "```python\n",
        "*****\n",
        "****\n",
        "***\n",
        "**\n",
        "*\n",
        "```"
      ],
      "metadata": {
        "id": "zzpSrCNsSxNB"
      }
    },
    {
      "cell_type": "code",
      "source": [
        "for i in range(5,0,-1):\n",
        "  for j in range(i):\n",
        "    print(\"*\", end=\"\")\n",
        "  print()"
      ],
      "metadata": {
        "colab": {
          "base_uri": "https://localhost:8080/"
        },
        "id": "CrMR2hfWS9SH",
        "outputId": "b3136d66-990e-4226-be03-ad918ce740b5"
      },
      "execution_count": 26,
      "outputs": [
        {
          "output_type": "stream",
          "name": "stdout",
          "text": [
            "*****\n",
            "****\n",
            "***\n",
            "**\n",
            "*\n"
          ]
        }
      ]
    }
  ]
}
{
  "nbformat": 4,
  "nbformat_minor": 0,
  "metadata": {
    "colab": {
      "provenance": [],
      "authorship_tag": "ABX9TyN7qFqedLjvRd/jRzdFGAGy",
      "include_colab_link": true
    },
    "kernelspec": {
      "name": "python3",
      "display_name": "Python 3"
    },
    "language_info": {
      "name": "python"
    }
  },
  "cells": [
    {
      "cell_type": "markdown",
      "metadata": {
        "id": "view-in-github",
        "colab_type": "text"
      },
      "source": [
        "<a href=\"https://colab.research.google.com/github/krauseannelize/nb-py-ms-exercises/blob/sprint04/notebooks/s04_pandas_data_wrangling/44_exercises_aggregating_information.ipynb\" target=\"_parent\"><img src=\"https://colab.research.google.com/assets/colab-badge.svg\" alt=\"Open In Colab\"/></a>"
      ]
    },
    {
      "cell_type": "markdown",
      "source": [
        "# 44 | Exercises - Aggregating Information & Applying\n",
        "\n",
        "## Grouping Data with `.groupby()`\n",
        "\n",
        "We use the `.groupby()` method to split a **DataFrame** into groups based on one or more columns. This allows us to apply aggregation functions like `sum()`, `mean()`, `count()`, etc., to each group independently.\n",
        "\n",
        "```python\n",
        "# basic syntax\n",
        "df.groupby('column_name')\n",
        "df.groupby(['column_1', 'column_2'])\n",
        "```"
      ],
      "metadata": {
        "id": "rEY2viQhj7VK"
      }
    },
    {
      "cell_type": "code",
      "source": [
        "import pandas as pd\n",
        "\n",
        "# Define the data\n",
        "data = {\n",
        "    'Region': ['East', 'East', 'East', 'East',\n",
        "               'North', 'North', 'North', 'North',\n",
        "               'South', 'South', 'South',\n",
        "               'West', 'West', 'West', 'West'],\n",
        "    'Year': [2022, 2023, 2024, 2025,\n",
        "             2022, 2023, 2024, 2025,\n",
        "             2022, 2023, 2024,\n",
        "             2022, 2023, 2024, 2025],\n",
        "    'Sales': [350, 450, 350, 350,\n",
        "              300, 300, 450, 650,\n",
        "              310, 350, 400,\n",
        "              270, 80, 100, 200]\n",
        "}\n",
        "\n",
        "# Create the DataFrame\n",
        "df1 = pd.DataFrame(data)\n",
        "\n",
        "# Display the DataFrame\n",
        "print(df1)"
      ],
      "metadata": {
        "colab": {
          "base_uri": "https://localhost:8080/"
        },
        "id": "HOPbPXC8DO10",
        "outputId": "9c92c44e-4354-4b85-cdec-4f6764478da4"
      },
      "execution_count": 9,
      "outputs": [
        {
          "output_type": "stream",
          "name": "stdout",
          "text": [
            "   Region  Year  Sales\n",
            "0    East  2022    350\n",
            "1    East  2023    450\n",
            "2    East  2024    350\n",
            "3    East  2025    350\n",
            "4   North  2022    300\n",
            "5   North  2023    300\n",
            "6   North  2024    450\n",
            "7   North  2025    650\n",
            "8   South  2022    310\n",
            "9   South  2023    350\n",
            "10  South  2024    400\n",
            "11   West  2022    270\n",
            "12   West  2023     80\n",
            "13   West  2024    100\n",
            "14   West  2025    200\n"
          ]
        }
      ]
    },
    {
      "cell_type": "code",
      "source": [
        "# Group by one column: total sales by year\n",
        "print(df1.groupby('Year')['Sales'].sum().reset_index())"
      ],
      "metadata": {
        "colab": {
          "base_uri": "https://localhost:8080/"
        },
        "id": "f_ozO6OfCo4m",
        "outputId": "aa95ce50-aa67-441c-b56c-0596fffdc047"
      },
      "execution_count": 10,
      "outputs": [
        {
          "output_type": "stream",
          "name": "stdout",
          "text": [
            "   Year  Sales\n",
            "0  2022   1230\n",
            "1  2023   1180\n",
            "2  2024   1300\n",
            "3  2025   1200\n"
          ]
        }
      ]
    },
    {
      "cell_type": "code",
      "source": [
        "import pandas as pd\n",
        "\n",
        "# Define the data\n",
        "data = {\n",
        "    'Region': ['North', 'South', 'East', 'West',\n",
        "               'North', 'East', 'South', 'West',\n",
        "               'North', 'South'],\n",
        "    'Product_Type': ['Electronics', 'Clothing', 'Electronics', 'Clothing',\n",
        "                     'Groceries', 'Groceries', 'Electronics', 'Groceries',\n",
        "                     'Clothing', 'Electronics'],\n",
        "    'Sales': [200, 150, 300, 100,\n",
        "              250, 400, 130, 200,\n",
        "              150, 160]\n",
        "}\n",
        "\n",
        "# Create the DataFrame\n",
        "df2 = pd.DataFrame(data)\n",
        "\n",
        "# Display the DataFrame\n",
        "print(df2)"
      ],
      "metadata": {
        "colab": {
          "base_uri": "https://localhost:8080/"
        },
        "id": "Y-PfDCfJATkw",
        "outputId": "f6eb976c-2ab4-42d8-fcee-e2a8bb18da69"
      },
      "execution_count": 11,
      "outputs": [
        {
          "output_type": "stream",
          "name": "stdout",
          "text": [
            "  Region Product_Type  Sales\n",
            "0  North  Electronics    200\n",
            "1  South     Clothing    150\n",
            "2   East  Electronics    300\n",
            "3   West     Clothing    100\n",
            "4  North    Groceries    250\n",
            "5   East    Groceries    400\n",
            "6  South  Electronics    130\n",
            "7   West    Groceries    200\n",
            "8  North     Clothing    150\n",
            "9  South  Electronics    160\n"
          ]
        }
      ]
    },
    {
      "cell_type": "code",
      "source": [
        "# Group by multiple columns: total sales by region and product type\n",
        "df2.groupby(['Region', 'Product_Type'])['Sales'].sum().reset_index()"
      ],
      "metadata": {
        "colab": {
          "base_uri": "https://localhost:8080/",
          "height": 332
        },
        "id": "E-How2iICzLf",
        "outputId": "19967da4-031b-4557-cc00-f27d41b2e3f5"
      },
      "execution_count": 12,
      "outputs": [
        {
          "output_type": "execute_result",
          "data": {
            "text/plain": [
              "  Region Product_Type  Sales\n",
              "0   East  Electronics    300\n",
              "1   East    Groceries    400\n",
              "2  North     Clothing    150\n",
              "3  North  Electronics    200\n",
              "4  North    Groceries    250\n",
              "5  South     Clothing    150\n",
              "6  South  Electronics    290\n",
              "7   West     Clothing    100\n",
              "8   West    Groceries    200"
            ],
            "text/html": [
              "\n",
              "  <div id=\"df-4fe2fd15-f82e-414d-a976-35068ca6fc29\" class=\"colab-df-container\">\n",
              "    <div>\n",
              "<style scoped>\n",
              "    .dataframe tbody tr th:only-of-type {\n",
              "        vertical-align: middle;\n",
              "    }\n",
              "\n",
              "    .dataframe tbody tr th {\n",
              "        vertical-align: top;\n",
              "    }\n",
              "\n",
              "    .dataframe thead th {\n",
              "        text-align: right;\n",
              "    }\n",
              "</style>\n",
              "<table border=\"1\" class=\"dataframe\">\n",
              "  <thead>\n",
              "    <tr style=\"text-align: right;\">\n",
              "      <th></th>\n",
              "      <th>Region</th>\n",
              "      <th>Product_Type</th>\n",
              "      <th>Sales</th>\n",
              "    </tr>\n",
              "  </thead>\n",
              "  <tbody>\n",
              "    <tr>\n",
              "      <th>0</th>\n",
              "      <td>East</td>\n",
              "      <td>Electronics</td>\n",
              "      <td>300</td>\n",
              "    </tr>\n",
              "    <tr>\n",
              "      <th>1</th>\n",
              "      <td>East</td>\n",
              "      <td>Groceries</td>\n",
              "      <td>400</td>\n",
              "    </tr>\n",
              "    <tr>\n",
              "      <th>2</th>\n",
              "      <td>North</td>\n",
              "      <td>Clothing</td>\n",
              "      <td>150</td>\n",
              "    </tr>\n",
              "    <tr>\n",
              "      <th>3</th>\n",
              "      <td>North</td>\n",
              "      <td>Electronics</td>\n",
              "      <td>200</td>\n",
              "    </tr>\n",
              "    <tr>\n",
              "      <th>4</th>\n",
              "      <td>North</td>\n",
              "      <td>Groceries</td>\n",
              "      <td>250</td>\n",
              "    </tr>\n",
              "    <tr>\n",
              "      <th>5</th>\n",
              "      <td>South</td>\n",
              "      <td>Clothing</td>\n",
              "      <td>150</td>\n",
              "    </tr>\n",
              "    <tr>\n",
              "      <th>6</th>\n",
              "      <td>South</td>\n",
              "      <td>Electronics</td>\n",
              "      <td>290</td>\n",
              "    </tr>\n",
              "    <tr>\n",
              "      <th>7</th>\n",
              "      <td>West</td>\n",
              "      <td>Clothing</td>\n",
              "      <td>100</td>\n",
              "    </tr>\n",
              "    <tr>\n",
              "      <th>8</th>\n",
              "      <td>West</td>\n",
              "      <td>Groceries</td>\n",
              "      <td>200</td>\n",
              "    </tr>\n",
              "  </tbody>\n",
              "</table>\n",
              "</div>\n",
              "    <div class=\"colab-df-buttons\">\n",
              "\n",
              "  <div class=\"colab-df-container\">\n",
              "    <button class=\"colab-df-convert\" onclick=\"convertToInteractive('df-4fe2fd15-f82e-414d-a976-35068ca6fc29')\"\n",
              "            title=\"Convert this dataframe to an interactive table.\"\n",
              "            style=\"display:none;\">\n",
              "\n",
              "  <svg xmlns=\"http://www.w3.org/2000/svg\" height=\"24px\" viewBox=\"0 -960 960 960\">\n",
              "    <path d=\"M120-120v-720h720v720H120Zm60-500h600v-160H180v160Zm220 220h160v-160H400v160Zm0 220h160v-160H400v160ZM180-400h160v-160H180v160Zm440 0h160v-160H620v160ZM180-180h160v-160H180v160Zm440 0h160v-160H620v160Z\"/>\n",
              "  </svg>\n",
              "    </button>\n",
              "\n",
              "  <style>\n",
              "    .colab-df-container {\n",
              "      display:flex;\n",
              "      gap: 12px;\n",
              "    }\n",
              "\n",
              "    .colab-df-convert {\n",
              "      background-color: #E8F0FE;\n",
              "      border: none;\n",
              "      border-radius: 50%;\n",
              "      cursor: pointer;\n",
              "      display: none;\n",
              "      fill: #1967D2;\n",
              "      height: 32px;\n",
              "      padding: 0 0 0 0;\n",
              "      width: 32px;\n",
              "    }\n",
              "\n",
              "    .colab-df-convert:hover {\n",
              "      background-color: #E2EBFA;\n",
              "      box-shadow: 0px 1px 2px rgba(60, 64, 67, 0.3), 0px 1px 3px 1px rgba(60, 64, 67, 0.15);\n",
              "      fill: #174EA6;\n",
              "    }\n",
              "\n",
              "    .colab-df-buttons div {\n",
              "      margin-bottom: 4px;\n",
              "    }\n",
              "\n",
              "    [theme=dark] .colab-df-convert {\n",
              "      background-color: #3B4455;\n",
              "      fill: #D2E3FC;\n",
              "    }\n",
              "\n",
              "    [theme=dark] .colab-df-convert:hover {\n",
              "      background-color: #434B5C;\n",
              "      box-shadow: 0px 1px 3px 1px rgba(0, 0, 0, 0.15);\n",
              "      filter: drop-shadow(0px 1px 2px rgba(0, 0, 0, 0.3));\n",
              "      fill: #FFFFFF;\n",
              "    }\n",
              "  </style>\n",
              "\n",
              "    <script>\n",
              "      const buttonEl =\n",
              "        document.querySelector('#df-4fe2fd15-f82e-414d-a976-35068ca6fc29 button.colab-df-convert');\n",
              "      buttonEl.style.display =\n",
              "        google.colab.kernel.accessAllowed ? 'block' : 'none';\n",
              "\n",
              "      async function convertToInteractive(key) {\n",
              "        const element = document.querySelector('#df-4fe2fd15-f82e-414d-a976-35068ca6fc29');\n",
              "        const dataTable =\n",
              "          await google.colab.kernel.invokeFunction('convertToInteractive',\n",
              "                                                    [key], {});\n",
              "        if (!dataTable) return;\n",
              "\n",
              "        const docLinkHtml = 'Like what you see? Visit the ' +\n",
              "          '<a target=\"_blank\" href=https://colab.research.google.com/notebooks/data_table.ipynb>data table notebook</a>'\n",
              "          + ' to learn more about interactive tables.';\n",
              "        element.innerHTML = '';\n",
              "        dataTable['output_type'] = 'display_data';\n",
              "        await google.colab.output.renderOutput(dataTable, element);\n",
              "        const docLink = document.createElement('div');\n",
              "        docLink.innerHTML = docLinkHtml;\n",
              "        element.appendChild(docLink);\n",
              "      }\n",
              "    </script>\n",
              "  </div>\n",
              "\n",
              "\n",
              "    <div id=\"df-b43dcc6d-3841-4636-95fc-fa2544529819\">\n",
              "      <button class=\"colab-df-quickchart\" onclick=\"quickchart('df-b43dcc6d-3841-4636-95fc-fa2544529819')\"\n",
              "                title=\"Suggest charts\"\n",
              "                style=\"display:none;\">\n",
              "\n",
              "<svg xmlns=\"http://www.w3.org/2000/svg\" height=\"24px\"viewBox=\"0 0 24 24\"\n",
              "     width=\"24px\">\n",
              "    <g>\n",
              "        <path d=\"M19 3H5c-1.1 0-2 .9-2 2v14c0 1.1.9 2 2 2h14c1.1 0 2-.9 2-2V5c0-1.1-.9-2-2-2zM9 17H7v-7h2v7zm4 0h-2V7h2v10zm4 0h-2v-4h2v4z\"/>\n",
              "    </g>\n",
              "</svg>\n",
              "      </button>\n",
              "\n",
              "<style>\n",
              "  .colab-df-quickchart {\n",
              "      --bg-color: #E8F0FE;\n",
              "      --fill-color: #1967D2;\n",
              "      --hover-bg-color: #E2EBFA;\n",
              "      --hover-fill-color: #174EA6;\n",
              "      --disabled-fill-color: #AAA;\n",
              "      --disabled-bg-color: #DDD;\n",
              "  }\n",
              "\n",
              "  [theme=dark] .colab-df-quickchart {\n",
              "      --bg-color: #3B4455;\n",
              "      --fill-color: #D2E3FC;\n",
              "      --hover-bg-color: #434B5C;\n",
              "      --hover-fill-color: #FFFFFF;\n",
              "      --disabled-bg-color: #3B4455;\n",
              "      --disabled-fill-color: #666;\n",
              "  }\n",
              "\n",
              "  .colab-df-quickchart {\n",
              "    background-color: var(--bg-color);\n",
              "    border: none;\n",
              "    border-radius: 50%;\n",
              "    cursor: pointer;\n",
              "    display: none;\n",
              "    fill: var(--fill-color);\n",
              "    height: 32px;\n",
              "    padding: 0;\n",
              "    width: 32px;\n",
              "  }\n",
              "\n",
              "  .colab-df-quickchart:hover {\n",
              "    background-color: var(--hover-bg-color);\n",
              "    box-shadow: 0 1px 2px rgba(60, 64, 67, 0.3), 0 1px 3px 1px rgba(60, 64, 67, 0.15);\n",
              "    fill: var(--button-hover-fill-color);\n",
              "  }\n",
              "\n",
              "  .colab-df-quickchart-complete:disabled,\n",
              "  .colab-df-quickchart-complete:disabled:hover {\n",
              "    background-color: var(--disabled-bg-color);\n",
              "    fill: var(--disabled-fill-color);\n",
              "    box-shadow: none;\n",
              "  }\n",
              "\n",
              "  .colab-df-spinner {\n",
              "    border: 2px solid var(--fill-color);\n",
              "    border-color: transparent;\n",
              "    border-bottom-color: var(--fill-color);\n",
              "    animation:\n",
              "      spin 1s steps(1) infinite;\n",
              "  }\n",
              "\n",
              "  @keyframes spin {\n",
              "    0% {\n",
              "      border-color: transparent;\n",
              "      border-bottom-color: var(--fill-color);\n",
              "      border-left-color: var(--fill-color);\n",
              "    }\n",
              "    20% {\n",
              "      border-color: transparent;\n",
              "      border-left-color: var(--fill-color);\n",
              "      border-top-color: var(--fill-color);\n",
              "    }\n",
              "    30% {\n",
              "      border-color: transparent;\n",
              "      border-left-color: var(--fill-color);\n",
              "      border-top-color: var(--fill-color);\n",
              "      border-right-color: var(--fill-color);\n",
              "    }\n",
              "    40% {\n",
              "      border-color: transparent;\n",
              "      border-right-color: var(--fill-color);\n",
              "      border-top-color: var(--fill-color);\n",
              "    }\n",
              "    60% {\n",
              "      border-color: transparent;\n",
              "      border-right-color: var(--fill-color);\n",
              "    }\n",
              "    80% {\n",
              "      border-color: transparent;\n",
              "      border-right-color: var(--fill-color);\n",
              "      border-bottom-color: var(--fill-color);\n",
              "    }\n",
              "    90% {\n",
              "      border-color: transparent;\n",
              "      border-bottom-color: var(--fill-color);\n",
              "    }\n",
              "  }\n",
              "</style>\n",
              "\n",
              "      <script>\n",
              "        async function quickchart(key) {\n",
              "          const quickchartButtonEl =\n",
              "            document.querySelector('#' + key + ' button');\n",
              "          quickchartButtonEl.disabled = true;  // To prevent multiple clicks.\n",
              "          quickchartButtonEl.classList.add('colab-df-spinner');\n",
              "          try {\n",
              "            const charts = await google.colab.kernel.invokeFunction(\n",
              "                'suggestCharts', [key], {});\n",
              "          } catch (error) {\n",
              "            console.error('Error during call to suggestCharts:', error);\n",
              "          }\n",
              "          quickchartButtonEl.classList.remove('colab-df-spinner');\n",
              "          quickchartButtonEl.classList.add('colab-df-quickchart-complete');\n",
              "        }\n",
              "        (() => {\n",
              "          let quickchartButtonEl =\n",
              "            document.querySelector('#df-b43dcc6d-3841-4636-95fc-fa2544529819 button');\n",
              "          quickchartButtonEl.style.display =\n",
              "            google.colab.kernel.accessAllowed ? 'block' : 'none';\n",
              "        })();\n",
              "      </script>\n",
              "    </div>\n",
              "\n",
              "    </div>\n",
              "  </div>\n"
            ],
            "application/vnd.google.colaboratory.intrinsic+json": {
              "type": "dataframe",
              "summary": "{\n  \"name\": \"df2\",\n  \"rows\": 9,\n  \"fields\": [\n    {\n      \"column\": \"Region\",\n      \"properties\": {\n        \"dtype\": \"category\",\n        \"num_unique_values\": 4,\n        \"samples\": [\n          \"North\",\n          \"West\",\n          \"East\"\n        ],\n        \"semantic_type\": \"\",\n        \"description\": \"\"\n      }\n    },\n    {\n      \"column\": \"Product_Type\",\n      \"properties\": {\n        \"dtype\": \"category\",\n        \"num_unique_values\": 3,\n        \"samples\": [\n          \"Electronics\",\n          \"Groceries\",\n          \"Clothing\"\n        ],\n        \"semantic_type\": \"\",\n        \"description\": \"\"\n      }\n    },\n    {\n      \"column\": \"Sales\",\n      \"properties\": {\n        \"dtype\": \"number\",\n        \"std\": 93,\n        \"min\": 100,\n        \"max\": 400,\n        \"num_unique_values\": 7,\n        \"samples\": [\n          300,\n          400,\n          290\n        ],\n        \"semantic_type\": \"\",\n        \"description\": \"\"\n      }\n    }\n  ]\n}"
            }
          },
          "metadata": {},
          "execution_count": 12
        }
      ]
    },
    {
      "cell_type": "markdown",
      "source": [
        "## Grouping Data in Pivot Tables\n",
        "\n",
        "Pivot tables let us summarize and reshape data by grouping and aggregating values across multiple dimensions.\n",
        "\n",
        "### Key Features\n",
        "\n",
        "- Group data by one or more fields\n",
        "- Apply aggregation functions like `sum`, `mean`, `count`, etc.\n",
        "- Rearrange data into hierarchical or multi-level formats\n",
        "- Slice data into focused views for specific segments\n",
        "- Handle missing values with `fill_value`\n",
        "\n",
        "### Syntax\n",
        "\n",
        "```python\n",
        "pd.pivot_table(df,\n",
        "               values='data_column',\n",
        "               index='row_group',\n",
        "               columns='column_group',\n",
        "               aggfunc='sum',\n",
        "               fill_value=0)\n",
        "```\n",
        "\n",
        "You can also pass lists to index, columns, or use multiple aggregation functions with `aggfunc=['sum', 'mean']`.\n",
        "\n",
        "⚠️ **Key difference**:\n",
        "- `.groupby()` is used for summarising data _without altering its layout_,\n",
        "- `.pivot_table()` _rearranges the data_ into a tabular format, making it easier to compare different groups or categories.\n"
      ],
      "metadata": {
        "id": "FH36x80UGezZ"
      }
    },
    {
      "cell_type": "code",
      "source": [
        "import pandas as pd\n",
        "\n",
        "# Define the data\n",
        "data = {\n",
        "    'Region': ['North', 'South', 'East', 'West',\n",
        "               'North', 'East', 'South', 'West'],\n",
        "    'Product': ['Electronics', 'Clothing', 'Electronics', 'Clothing',\n",
        "                'Groceries', 'Groceries', 'Electronics', 'Groceries'],\n",
        "    'Sales': [200, 150, 300, 100,\n",
        "              250, 400, 130, 200]\n",
        "}\n",
        "\n",
        "# Create the DataFrame\n",
        "df3 = pd.DataFrame(data)\n",
        "\n",
        "# Display the DataFrame\n",
        "print(df3)"
      ],
      "metadata": {
        "colab": {
          "base_uri": "https://localhost:8080/"
        },
        "id": "lpPic9mdK2Js",
        "outputId": "990a541e-c302-4c17-f6c2-a2bc8e579372"
      },
      "execution_count": 21,
      "outputs": [
        {
          "output_type": "stream",
          "name": "stdout",
          "text": [
            "  Region      Product  Sales\n",
            "0  North  Electronics    200\n",
            "1  South     Clothing    150\n",
            "2   East  Electronics    300\n",
            "3   West     Clothing    100\n",
            "4  North    Groceries    250\n",
            "5   East    Groceries    400\n",
            "6  South  Electronics    130\n",
            "7   West    Groceries    200\n"
          ]
        }
      ]
    },
    {
      "cell_type": "code",
      "source": [
        "pd.pivot_table(df3, # DataFrame to summarize\n",
        "               values='Sales', # Column to aggregate\n",
        "               index='Region',  # Rows grouped by Region\n",
        "               columns='Product',  # Columns grouped by Product\n",
        "               aggfunc='sum',  # Aggregation function to apply\n",
        "               fill_value=0) # Replace missing values with 0"
      ],
      "metadata": {
        "colab": {
          "base_uri": "https://localhost:8080/",
          "height": 206
        },
        "id": "Y_Sd2nCOK9wq",
        "outputId": "f7fed0dc-7484-4da7-c4d0-06a12cec52da"
      },
      "execution_count": 22,
      "outputs": [
        {
          "output_type": "execute_result",
          "data": {
            "text/plain": [
              "Product  Clothing  Electronics  Groceries\n",
              "Region                                   \n",
              "East            0          300        400\n",
              "North           0          200        250\n",
              "South         150          130          0\n",
              "West          100            0        200"
            ],
            "text/html": [
              "\n",
              "  <div id=\"df-575cd90e-5d97-4712-a6ce-963cba0c8eaf\" class=\"colab-df-container\">\n",
              "    <div>\n",
              "<style scoped>\n",
              "    .dataframe tbody tr th:only-of-type {\n",
              "        vertical-align: middle;\n",
              "    }\n",
              "\n",
              "    .dataframe tbody tr th {\n",
              "        vertical-align: top;\n",
              "    }\n",
              "\n",
              "    .dataframe thead th {\n",
              "        text-align: right;\n",
              "    }\n",
              "</style>\n",
              "<table border=\"1\" class=\"dataframe\">\n",
              "  <thead>\n",
              "    <tr style=\"text-align: right;\">\n",
              "      <th>Product</th>\n",
              "      <th>Clothing</th>\n",
              "      <th>Electronics</th>\n",
              "      <th>Groceries</th>\n",
              "    </tr>\n",
              "    <tr>\n",
              "      <th>Region</th>\n",
              "      <th></th>\n",
              "      <th></th>\n",
              "      <th></th>\n",
              "    </tr>\n",
              "  </thead>\n",
              "  <tbody>\n",
              "    <tr>\n",
              "      <th>East</th>\n",
              "      <td>0</td>\n",
              "      <td>300</td>\n",
              "      <td>400</td>\n",
              "    </tr>\n",
              "    <tr>\n",
              "      <th>North</th>\n",
              "      <td>0</td>\n",
              "      <td>200</td>\n",
              "      <td>250</td>\n",
              "    </tr>\n",
              "    <tr>\n",
              "      <th>South</th>\n",
              "      <td>150</td>\n",
              "      <td>130</td>\n",
              "      <td>0</td>\n",
              "    </tr>\n",
              "    <tr>\n",
              "      <th>West</th>\n",
              "      <td>100</td>\n",
              "      <td>0</td>\n",
              "      <td>200</td>\n",
              "    </tr>\n",
              "  </tbody>\n",
              "</table>\n",
              "</div>\n",
              "    <div class=\"colab-df-buttons\">\n",
              "\n",
              "  <div class=\"colab-df-container\">\n",
              "    <button class=\"colab-df-convert\" onclick=\"convertToInteractive('df-575cd90e-5d97-4712-a6ce-963cba0c8eaf')\"\n",
              "            title=\"Convert this dataframe to an interactive table.\"\n",
              "            style=\"display:none;\">\n",
              "\n",
              "  <svg xmlns=\"http://www.w3.org/2000/svg\" height=\"24px\" viewBox=\"0 -960 960 960\">\n",
              "    <path d=\"M120-120v-720h720v720H120Zm60-500h600v-160H180v160Zm220 220h160v-160H400v160Zm0 220h160v-160H400v160ZM180-400h160v-160H180v160Zm440 0h160v-160H620v160ZM180-180h160v-160H180v160Zm440 0h160v-160H620v160Z\"/>\n",
              "  </svg>\n",
              "    </button>\n",
              "\n",
              "  <style>\n",
              "    .colab-df-container {\n",
              "      display:flex;\n",
              "      gap: 12px;\n",
              "    }\n",
              "\n",
              "    .colab-df-convert {\n",
              "      background-color: #E8F0FE;\n",
              "      border: none;\n",
              "      border-radius: 50%;\n",
              "      cursor: pointer;\n",
              "      display: none;\n",
              "      fill: #1967D2;\n",
              "      height: 32px;\n",
              "      padding: 0 0 0 0;\n",
              "      width: 32px;\n",
              "    }\n",
              "\n",
              "    .colab-df-convert:hover {\n",
              "      background-color: #E2EBFA;\n",
              "      box-shadow: 0px 1px 2px rgba(60, 64, 67, 0.3), 0px 1px 3px 1px rgba(60, 64, 67, 0.15);\n",
              "      fill: #174EA6;\n",
              "    }\n",
              "\n",
              "    .colab-df-buttons div {\n",
              "      margin-bottom: 4px;\n",
              "    }\n",
              "\n",
              "    [theme=dark] .colab-df-convert {\n",
              "      background-color: #3B4455;\n",
              "      fill: #D2E3FC;\n",
              "    }\n",
              "\n",
              "    [theme=dark] .colab-df-convert:hover {\n",
              "      background-color: #434B5C;\n",
              "      box-shadow: 0px 1px 3px 1px rgba(0, 0, 0, 0.15);\n",
              "      filter: drop-shadow(0px 1px 2px rgba(0, 0, 0, 0.3));\n",
              "      fill: #FFFFFF;\n",
              "    }\n",
              "  </style>\n",
              "\n",
              "    <script>\n",
              "      const buttonEl =\n",
              "        document.querySelector('#df-575cd90e-5d97-4712-a6ce-963cba0c8eaf button.colab-df-convert');\n",
              "      buttonEl.style.display =\n",
              "        google.colab.kernel.accessAllowed ? 'block' : 'none';\n",
              "\n",
              "      async function convertToInteractive(key) {\n",
              "        const element = document.querySelector('#df-575cd90e-5d97-4712-a6ce-963cba0c8eaf');\n",
              "        const dataTable =\n",
              "          await google.colab.kernel.invokeFunction('convertToInteractive',\n",
              "                                                    [key], {});\n",
              "        if (!dataTable) return;\n",
              "\n",
              "        const docLinkHtml = 'Like what you see? Visit the ' +\n",
              "          '<a target=\"_blank\" href=https://colab.research.google.com/notebooks/data_table.ipynb>data table notebook</a>'\n",
              "          + ' to learn more about interactive tables.';\n",
              "        element.innerHTML = '';\n",
              "        dataTable['output_type'] = 'display_data';\n",
              "        await google.colab.output.renderOutput(dataTable, element);\n",
              "        const docLink = document.createElement('div');\n",
              "        docLink.innerHTML = docLinkHtml;\n",
              "        element.appendChild(docLink);\n",
              "      }\n",
              "    </script>\n",
              "  </div>\n",
              "\n",
              "\n",
              "    <div id=\"df-d05ea5a8-f08a-49df-91ff-a46679ea1c76\">\n",
              "      <button class=\"colab-df-quickchart\" onclick=\"quickchart('df-d05ea5a8-f08a-49df-91ff-a46679ea1c76')\"\n",
              "                title=\"Suggest charts\"\n",
              "                style=\"display:none;\">\n",
              "\n",
              "<svg xmlns=\"http://www.w3.org/2000/svg\" height=\"24px\"viewBox=\"0 0 24 24\"\n",
              "     width=\"24px\">\n",
              "    <g>\n",
              "        <path d=\"M19 3H5c-1.1 0-2 .9-2 2v14c0 1.1.9 2 2 2h14c1.1 0 2-.9 2-2V5c0-1.1-.9-2-2-2zM9 17H7v-7h2v7zm4 0h-2V7h2v10zm4 0h-2v-4h2v4z\"/>\n",
              "    </g>\n",
              "</svg>\n",
              "      </button>\n",
              "\n",
              "<style>\n",
              "  .colab-df-quickchart {\n",
              "      --bg-color: #E8F0FE;\n",
              "      --fill-color: #1967D2;\n",
              "      --hover-bg-color: #E2EBFA;\n",
              "      --hover-fill-color: #174EA6;\n",
              "      --disabled-fill-color: #AAA;\n",
              "      --disabled-bg-color: #DDD;\n",
              "  }\n",
              "\n",
              "  [theme=dark] .colab-df-quickchart {\n",
              "      --bg-color: #3B4455;\n",
              "      --fill-color: #D2E3FC;\n",
              "      --hover-bg-color: #434B5C;\n",
              "      --hover-fill-color: #FFFFFF;\n",
              "      --disabled-bg-color: #3B4455;\n",
              "      --disabled-fill-color: #666;\n",
              "  }\n",
              "\n",
              "  .colab-df-quickchart {\n",
              "    background-color: var(--bg-color);\n",
              "    border: none;\n",
              "    border-radius: 50%;\n",
              "    cursor: pointer;\n",
              "    display: none;\n",
              "    fill: var(--fill-color);\n",
              "    height: 32px;\n",
              "    padding: 0;\n",
              "    width: 32px;\n",
              "  }\n",
              "\n",
              "  .colab-df-quickchart:hover {\n",
              "    background-color: var(--hover-bg-color);\n",
              "    box-shadow: 0 1px 2px rgba(60, 64, 67, 0.3), 0 1px 3px 1px rgba(60, 64, 67, 0.15);\n",
              "    fill: var(--button-hover-fill-color);\n",
              "  }\n",
              "\n",
              "  .colab-df-quickchart-complete:disabled,\n",
              "  .colab-df-quickchart-complete:disabled:hover {\n",
              "    background-color: var(--disabled-bg-color);\n",
              "    fill: var(--disabled-fill-color);\n",
              "    box-shadow: none;\n",
              "  }\n",
              "\n",
              "  .colab-df-spinner {\n",
              "    border: 2px solid var(--fill-color);\n",
              "    border-color: transparent;\n",
              "    border-bottom-color: var(--fill-color);\n",
              "    animation:\n",
              "      spin 1s steps(1) infinite;\n",
              "  }\n",
              "\n",
              "  @keyframes spin {\n",
              "    0% {\n",
              "      border-color: transparent;\n",
              "      border-bottom-color: var(--fill-color);\n",
              "      border-left-color: var(--fill-color);\n",
              "    }\n",
              "    20% {\n",
              "      border-color: transparent;\n",
              "      border-left-color: var(--fill-color);\n",
              "      border-top-color: var(--fill-color);\n",
              "    }\n",
              "    30% {\n",
              "      border-color: transparent;\n",
              "      border-left-color: var(--fill-color);\n",
              "      border-top-color: var(--fill-color);\n",
              "      border-right-color: var(--fill-color);\n",
              "    }\n",
              "    40% {\n",
              "      border-color: transparent;\n",
              "      border-right-color: var(--fill-color);\n",
              "      border-top-color: var(--fill-color);\n",
              "    }\n",
              "    60% {\n",
              "      border-color: transparent;\n",
              "      border-right-color: var(--fill-color);\n",
              "    }\n",
              "    80% {\n",
              "      border-color: transparent;\n",
              "      border-right-color: var(--fill-color);\n",
              "      border-bottom-color: var(--fill-color);\n",
              "    }\n",
              "    90% {\n",
              "      border-color: transparent;\n",
              "      border-bottom-color: var(--fill-color);\n",
              "    }\n",
              "  }\n",
              "</style>\n",
              "\n",
              "      <script>\n",
              "        async function quickchart(key) {\n",
              "          const quickchartButtonEl =\n",
              "            document.querySelector('#' + key + ' button');\n",
              "          quickchartButtonEl.disabled = true;  // To prevent multiple clicks.\n",
              "          quickchartButtonEl.classList.add('colab-df-spinner');\n",
              "          try {\n",
              "            const charts = await google.colab.kernel.invokeFunction(\n",
              "                'suggestCharts', [key], {});\n",
              "          } catch (error) {\n",
              "            console.error('Error during call to suggestCharts:', error);\n",
              "          }\n",
              "          quickchartButtonEl.classList.remove('colab-df-spinner');\n",
              "          quickchartButtonEl.classList.add('colab-df-quickchart-complete');\n",
              "        }\n",
              "        (() => {\n",
              "          let quickchartButtonEl =\n",
              "            document.querySelector('#df-d05ea5a8-f08a-49df-91ff-a46679ea1c76 button');\n",
              "          quickchartButtonEl.style.display =\n",
              "            google.colab.kernel.accessAllowed ? 'block' : 'none';\n",
              "        })();\n",
              "      </script>\n",
              "    </div>\n",
              "\n",
              "    </div>\n",
              "  </div>\n"
            ],
            "application/vnd.google.colaboratory.intrinsic+json": {
              "type": "dataframe",
              "summary": "{\n  \"name\": \"               fill_value=0) # Replace missing values with 0\",\n  \"rows\": 4,\n  \"fields\": [\n    {\n      \"column\": \"Region\",\n      \"properties\": {\n        \"dtype\": \"string\",\n        \"num_unique_values\": 4,\n        \"samples\": [\n          \"North\",\n          \"West\",\n          \"East\"\n        ],\n        \"semantic_type\": \"\",\n        \"description\": \"\"\n      }\n    },\n    {\n      \"column\": \"Clothing\",\n      \"properties\": {\n        \"dtype\": \"number\",\n        \"std\": 75,\n        \"min\": 0,\n        \"max\": 150,\n        \"num_unique_values\": 3,\n        \"samples\": [\n          0,\n          150,\n          100\n        ],\n        \"semantic_type\": \"\",\n        \"description\": \"\"\n      }\n    },\n    {\n      \"column\": \"Electronics\",\n      \"properties\": {\n        \"dtype\": \"number\",\n        \"std\": 126,\n        \"min\": 0,\n        \"max\": 300,\n        \"num_unique_values\": 4,\n        \"samples\": [\n          200,\n          0,\n          300\n        ],\n        \"semantic_type\": \"\",\n        \"description\": \"\"\n      }\n    },\n    {\n      \"column\": \"Groceries\",\n      \"properties\": {\n        \"dtype\": \"number\",\n        \"std\": 165,\n        \"min\": 0,\n        \"max\": 400,\n        \"num_unique_values\": 4,\n        \"samples\": [\n          250,\n          200,\n          400\n        ],\n        \"semantic_type\": \"\",\n        \"description\": \"\"\n      }\n    }\n  ]\n}"
            }
          },
          "metadata": {},
          "execution_count": 22
        }
      ]
    },
    {
      "cell_type": "markdown",
      "source": [
        "## Exercise 1\n",
        "\n",
        "Imagine your boss give you the following DataFrame and ask you to calculate the total sales by region and the mean sales by region. Replace the “___”.\n",
        "\n",
        "```python\n",
        "import pandas as pd\n",
        "import numpy as np\n",
        "\n",
        "data = {\n",
        "    'product': ['Apple', 'Banana', 'Orange', 'Grapes', 'Apple',\n",
        "'Banana', 'Orange', 'Grapes', 'Apple', 'Banana', 'Orange', 'Grapes', 'Apple', 'Banana', 'Orange', 'Grapes'],\n",
        "    'region': ['North America', 'North America', 'North America', 'North America', 'South America', 'South America', 'South America', 'South America', 'Europe', 'Europe', 'Europe', 'Europe', 'Asia', 'Asia', 'Asia', 'Asia'],\n",
        "    'sales': [100, 150, 200, 120, 80, 90, 130, 110, 140, 160, 120, 130, 180, 190, 210, 220]\n",
        "}\n",
        "\n",
        "sales_df = pd.DataFrame(data)\n",
        "\n",
        "# Group by region and calculate the total sales\n",
        "# Replace the \"___\" below\n",
        "print(sales_df.groupby('___')['sales'].sum().reset_index())  \n",
        "\n",
        "# Calculate the mean sales by region\n",
        "# Replace the \"___\" below\n",
        "print(sales_df.groupby('region')['___'].___().reset_index())\n",
        "```"
      ],
      "metadata": {
        "id": "LU0HOzg8_asy"
      }
    },
    {
      "cell_type": "code",
      "execution_count": 3,
      "metadata": {
        "colab": {
          "base_uri": "https://localhost:8080/"
        },
        "id": "yCIzp9naj6RD",
        "outputId": "3e5888be-cc45-446f-a068-668516b22694"
      },
      "outputs": [
        {
          "output_type": "stream",
          "name": "stdout",
          "text": [
            "Total sales by Region:\n",
            "          region  sales\n",
            "0           Asia    800\n",
            "1         Europe    550\n",
            "2  North America    570\n",
            "3  South America    410\n",
            "\n",
            "Average sales by Region:\n",
            "          region  sales\n",
            "0           Asia  200.0\n",
            "1         Europe  137.5\n",
            "2  North America  142.5\n",
            "3  South America  102.5\n"
          ]
        }
      ],
      "source": [
        "import pandas as pd\n",
        "import numpy as np\n",
        "\n",
        "data = {\n",
        "    'product': ['Apple', 'Banana', 'Orange', 'Grapes', 'Apple',\n",
        "'Banana', 'Orange', 'Grapes', 'Apple', 'Banana', 'Orange', 'Grapes', 'Apple', 'Banana', 'Orange', 'Grapes'],\n",
        "    'region': ['North America', 'North America', 'North America', 'North America', 'South America', 'South America', 'South America', 'South America', 'Europe', 'Europe', 'Europe', 'Europe', 'Asia', 'Asia', 'Asia', 'Asia'],\n",
        "    'sales': [100, 150, 200, 120, 80, 90, 130, 110, 140, 160, 120, 130, 180, 190, 210, 220]\n",
        "}\n",
        "\n",
        "sales_df = pd.DataFrame(data)\n",
        "\n",
        "# Group by region and calculate the total sales\n",
        "print(\"Total sales by Region:\")\n",
        "print(sales_df.groupby('region')['sales'].sum().reset_index())\n",
        "\n",
        "# Calculate the mean sales by region\n",
        "print(\"\\nAverage sales by Region:\")\n",
        "print(sales_df.groupby('region')['sales'].mean().reset_index())"
      ]
    },
    {
      "cell_type": "markdown",
      "source": [
        "## Exercise 2\n",
        "\n",
        "You have a dataset with columns for `Year`, `Region`, and `Sales`. Group the data by `Year` and calculates the total sales for each year.\n",
        "\n",
        "```python\n",
        "import pandas as pd\n",
        "\n",
        "# Sample dataset\n",
        "data = {\n",
        "    'Region': ['East', 'East', 'East', 'East', 'North', 'North', 'North', 'North', 'South', 'South', 'South', 'West', 'West', 'West', 'West'],\n",
        "    'Year': [2022, 2023, 2024, 2025, 2022, 2023, 2024, 2025, 2022, 2023, 2024, 2022, 2023, 2024, 2025],\n",
        "    'Sales': [350, 450, 350, 350, 300, 300, 450, 650, 310, 350, 400, 270, 80, 100, 200]\n",
        "}\n",
        "\n",
        "df = pd.DataFrame(data)\n",
        "\n",
        "# Group by 'Year' and calculate total sales\n",
        "result = df.___('___')['___'].___().reset_index()  # Replace \"___\" with the correct method\n",
        "print(result)\n",
        "```"
      ],
      "metadata": {
        "id": "gmvRkuLADstD"
      }
    },
    {
      "cell_type": "code",
      "source": [
        "import pandas as pd\n",
        "\n",
        "# Sample dataset\n",
        "data = {\n",
        "    'Region': ['East', 'East', 'East', 'East', 'North', 'North', 'North', 'North', 'South', 'South', 'South', 'West', 'West', 'West', 'West'],\n",
        "    'Year': [2022, 2023, 2024, 2025, 2022, 2023, 2024, 2025, 2022, 2023, 2024, 2022, 2023, 2024, 2025],\n",
        "    'Sales': [350, 450, 350, 350, 300, 300, 450, 650, 310, 350, 400, 270, 80, 100, 200]\n",
        "}\n",
        "\n",
        "df = pd.DataFrame(data)\n",
        "\n",
        "# Group by 'Year' and calculate total sales\n",
        "result = df.groupby('Year')['Sales'].sum().reset_index()\n",
        "print(result)"
      ],
      "metadata": {
        "colab": {
          "base_uri": "https://localhost:8080/"
        },
        "id": "dzjueo0yD3m5",
        "outputId": "c8e8b36a-ecab-43b1-97aa-32648bc35b67"
      },
      "execution_count": 13,
      "outputs": [
        {
          "output_type": "stream",
          "name": "stdout",
          "text": [
            "   Year  Sales\n",
            "0  2022   1230\n",
            "1  2023   1180\n",
            "2  2024   1300\n",
            "3  2025   1200\n"
          ]
        }
      ]
    },
    {
      "cell_type": "markdown",
      "source": [
        "## Exercise 3\n",
        "\n",
        "You have a dataset with sales information. Write a function that groups the data by both `Region` and `Year` to calculate the total sales for each combination of region and year.\n",
        "\n",
        "```python\n",
        "import pandas as pd\n",
        "\n",
        "# Sample dataset\n",
        "data = {\n",
        "    'Region': ['North', 'South', 'East', 'West', 'North', 'East', 'South', 'West', 'North', 'South', 'East', 'West'],\n",
        "    'Year': [2022, 2022, 2022, 2022, 2023, 2023, 2023, 2023, 2024, 2024, 2024, 2024],\n",
        "    'Sales': [200, 150, 300, 100, 250, 400, 130, 200, 150, 160, 120, 130]\n",
        "}\n",
        "\n",
        "df = pd.DataFrame(data)\n",
        "\n",
        "# Group by 'Region' and 'Year' and calculate total sales\n",
        "result = ___.___(['___', '____'])['____'].____().reset_index()  # Replace \"___\" with the correct method\n",
        "print(result)\n",
        "```"
      ],
      "metadata": {
        "id": "ReI3Nx_BEDEF"
      }
    },
    {
      "cell_type": "code",
      "source": [
        "import pandas as pd\n",
        "\n",
        "# Sample dataset\n",
        "data = {\n",
        "    'Region': ['North', 'South', 'East', 'West', 'North', 'East', 'South', 'West', 'North', 'South', 'East', 'West'],\n",
        "    'Year': [2022, 2022, 2022, 2022, 2023, 2023, 2023, 2023, 2024, 2024, 2024, 2024],\n",
        "    'Sales': [200, 150, 300, 100, 250, 400, 130, 200, 150, 160, 120, 130]\n",
        "}\n",
        "\n",
        "df = pd.DataFrame(data)\n",
        "\n",
        "# Group by 'Region' and 'Year' and calculate total sales\n",
        "result = df.groupby(['Region', 'Year'])['Sales'].sum().reset_index()\n",
        "print(result)"
      ],
      "metadata": {
        "colab": {
          "base_uri": "https://localhost:8080/"
        },
        "id": "b6NRcBkzEK3Z",
        "outputId": "da42c16f-9256-4cfd-caa9-119fa77675f4"
      },
      "execution_count": 14,
      "outputs": [
        {
          "output_type": "stream",
          "name": "stdout",
          "text": [
            "   Region  Year  Sales\n",
            "0    East  2022    300\n",
            "1    East  2023    400\n",
            "2    East  2024    120\n",
            "3   North  2022    200\n",
            "4   North  2023    250\n",
            "5   North  2024    150\n",
            "6   South  2022    150\n",
            "7   South  2023    130\n",
            "8   South  2024    160\n",
            "9    West  2022    100\n",
            "10   West  2023    200\n",
            "11   West  2024    130\n"
          ]
        }
      ]
    },
    {
      "cell_type": "markdown",
      "source": [
        "## Exercise 4\n",
        "\n",
        "You have a dataset with sales information by region. Use `groupby()` to calculate the average sales for each region.\n",
        "\n",
        "```python\n",
        "import pandas as pd\n",
        "\n",
        "# Sample dataset\n",
        "data = {\n",
        "    'Region': ['North', 'South', 'East', 'West', 'North', 'East', 'South', 'West', 'North', 'South', 'East', 'West'],\n",
        "    'Sales': [200, 150, 300, 100, 250, 400, 130, 200, 150, 160, 120, 130]\n",
        "}\n",
        "\n",
        "df = pd.DataFrame(data)\n",
        "\n",
        "# Group by 'Region' and calculate mean sales\n",
        "result = df.____  # Replace \"___\" with the correct method\n",
        "print(result)\n",
        "```"
      ],
      "metadata": {
        "id": "eXoKeouaEm6F"
      }
    },
    {
      "cell_type": "code",
      "source": [
        "import pandas as pd\n",
        "\n",
        "# Sample dataset\n",
        "data = {\n",
        "    'Region': ['North', 'South', 'East', 'West', 'North', 'East', 'South', 'West', 'North', 'South', 'East', 'West'],\n",
        "    'Sales': [200, 150, 300, 100, 250, 400, 130, 200, 150, 160, 120, 130]\n",
        "}\n",
        "\n",
        "df = pd.DataFrame(data)\n",
        "\n",
        "# Group by 'Region' and calculate mean sales\n",
        "result = df.groupby('Region')['Sales'].mean().reset_index()\n",
        "print(result)"
      ],
      "metadata": {
        "colab": {
          "base_uri": "https://localhost:8080/"
        },
        "id": "EuqCe--4Eu-r",
        "outputId": "460a3493-bd0d-45f7-e491-e456052267a0"
      },
      "execution_count": 16,
      "outputs": [
        {
          "output_type": "stream",
          "name": "stdout",
          "text": [
            "  Region       Sales\n",
            "0   East  273.333333\n",
            "1  North  200.000000\n",
            "2  South  146.666667\n",
            "3   West  143.333333\n"
          ]
        }
      ]
    },
    {
      "cell_type": "markdown",
      "source": [
        "## Exercise 5\n",
        "\n",
        "You have a dataset with regions and sales. Use `groupby()` to count the number of entries for each region.\n",
        "\n",
        "```python\n",
        "import pandas as pd\n",
        "\n",
        "# Sample dataset\n",
        "data = {\n",
        "    'Region': ['North', 'South', 'East', 'West', 'North', 'East', 'South', 'West', 'North', 'South', 'East', 'West'],\n",
        "    'Sales': [200, 150, 300, 100, 250, 400, 130, 200, 150, 160, 120, 130]\n",
        "}\n",
        "\n",
        "df = pd.DataFrame(data)\n",
        "\n",
        "# Group by 'Region' and count the number of entries\n",
        "result = df.groupby('')[''].().reset_index()  # Replace \"___\" with the correct method\n",
        "print(result)\n",
        "```"
      ],
      "metadata": {
        "id": "YTRP_a_RFMol"
      }
    },
    {
      "cell_type": "code",
      "source": [
        "import pandas as pd\n",
        "\n",
        "# Sample dataset\n",
        "data = {\n",
        "    'Region': ['North', 'South', 'East', 'West', 'North', 'East', 'South', 'West', 'North', 'South', 'East', 'West'],\n",
        "    'Sales': [200, 150, 300, 100, 250, 400, 130, 200, 150, 160, 120, 130]\n",
        "}\n",
        "\n",
        "df = pd.DataFrame(data)\n",
        "\n",
        "# Group by 'Region' and count the number of entries\n",
        "result = df.groupby('Region')['Sales'].count().reset_index()\n",
        "print(result)"
      ],
      "metadata": {
        "colab": {
          "base_uri": "https://localhost:8080/"
        },
        "id": "7XwGRJR6FT2x",
        "outputId": "299e61df-57ca-451e-937a-5b8fb3d88045"
      },
      "execution_count": 18,
      "outputs": [
        {
          "output_type": "stream",
          "name": "stdout",
          "text": [
            "  Region  Sales\n",
            "0   East      3\n",
            "1  North      3\n",
            "2  South      3\n",
            "3   West      3\n"
          ]
        }
      ]
    },
    {
      "cell_type": "markdown",
      "source": [
        "## Exercise 6\n",
        "\n",
        "You want to calculate both the total and the average sales by region. Use the `agg()` method to apply multiple aggregation functions at once.\n",
        "\n",
        "```python\n",
        "import pandas as pd\n",
        "\n",
        "# Sample dataset\n",
        "data = {\n",
        "    'Region': ['North', 'South', 'East', 'West', 'North', 'East', 'South', 'West', 'North', 'South', 'East', 'West'],\n",
        "    'Sales': [200, 150, 300, 100, 250, 400, 130, 200, 150, 160, 120, 130]\n",
        "}\n",
        "\n",
        "df = pd.DataFrame(data)\n",
        "\n",
        "# Group by 'Region' and apply multiple aggregation functions\n",
        "___= df.groupby('')[''].agg(['', 'mean']).reset_index()  # Replace \"___\"\n",
        "print(result)\n",
        "```"
      ],
      "metadata": {
        "id": "orqGBmBIFpD-"
      }
    },
    {
      "cell_type": "code",
      "source": [
        "import pandas as pd\n",
        "\n",
        "# Sample dataset\n",
        "data = {\n",
        "    'Region': ['North', 'South', 'East', 'West', 'North', 'East', 'South', 'West', 'North', 'South', 'East', 'West'],\n",
        "    'Sales': [200, 150, 300, 100, 250, 400, 130, 200, 150, 160, 120, 130]\n",
        "}\n",
        "\n",
        "df = pd.DataFrame(data)\n",
        "\n",
        "# Group by 'Region' and apply multiple aggregation functions\n",
        "result = df.groupby('Region')['Sales'].agg(['sum', 'mean']).reset_index()\n",
        "print(result)"
      ],
      "metadata": {
        "id": "szV5yh8zFwRC"
      },
      "execution_count": null,
      "outputs": []
    },
    {
      "cell_type": "markdown",
      "source": [
        "## Exercise 7\n",
        "\n",
        "You have a dataset with sales data by region and year. Use `groupby()` to find the maximum sales for each region.\n",
        "\n",
        "```python\n",
        "import pandas as pd\n",
        "\n",
        "# Sample dataset\n",
        "data = {\n",
        "    'Region': ['North', 'South', 'East', 'West', 'North', 'East', 'South', 'West', 'North', 'South', 'East', 'West'],\n",
        "    'Year': [2022, 2022, 2022, 2022, 2023, 2023, 2023, 2023, 2024, 2024, 2024, 2024],\n",
        "    'Sales': [200, 150, 300, 100, 250, 400, 130, 200, 150, 160, 120, 130]\n",
        "}\n",
        "\n",
        "df = pd.DataFrame(data)\n",
        "\n",
        "# Group by 'Region' and find the maximum sales\n",
        "___= ___  \n",
        "print(result)\n",
        "```"
      ],
      "metadata": {
        "id": "Ft_SdMgXF9Aa"
      }
    },
    {
      "cell_type": "code",
      "source": [
        "import pandas as pd\n",
        "\n",
        "# Sample dataset\n",
        "data = {\n",
        "    'Region': ['North', 'South', 'East', 'West', 'North', 'East', 'South', 'West', 'North', 'South', 'East', 'West'],\n",
        "    'Year': [2022, 2022, 2022, 2022, 2023, 2023, 2023, 2023, 2024, 2024, 2024, 2024],\n",
        "    'Sales': [200, 150, 300, 100, 250, 400, 130, 200, 150, 160, 120, 130]\n",
        "}\n",
        "\n",
        "df = pd.DataFrame(data)\n",
        "\n",
        "# Group by 'Region' and find the maximum sales\n",
        "result = df.groupby('Region')['Sales'].max().reset_index()\n",
        "print(result)"
      ],
      "metadata": {
        "id": "eeu82K2LGEBQ"
      },
      "execution_count": null,
      "outputs": []
    },
    {
      "cell_type": "markdown",
      "source": [
        "## Exercise 8\n",
        "\n",
        "Create a pivot table for total sales by region and another one with the mean sales by region.\n",
        "\n",
        "```python\n",
        "import pandas as pd\n",
        "\n",
        "data = {'product': ['Apple', 'Banana', 'Orange', 'Grapes', 'Apple', 'Banana', 'Orange', 'Grapes', 'Apple',\n",
        "                               'Banana', 'Orange', 'Grapes', 'Apple', 'Banana', 'Orange'],\n",
        "        'region': ['North America', 'North America', 'North America', 'North America', 'South America',\n",
        "                       'South America', 'South America', 'South America', 'Europe', 'Europe', 'Europe', 'Europe',\n",
        "                   'Asia', 'Asia', 'Asia'],\n",
        "        'sales': [100, 150, 200, 120, 80, 90, 130, 110, 140, 160, 120, 130, 180, 190, 210]}\n",
        "sales_df = pd.DataFrame(data)\n",
        "\n",
        "# Create a pivot table for total sales by region\n",
        "total_sales_pivot = sales_df.pivot_table(values='___', index='___',\n",
        "        aggfunc='___').reset_index()  # Replace the \"___\"\n",
        "print('Total Sales Pivot', total_sales_pivot)\n",
        "\n",
        "# Create a pivot table for mean sales by region\n",
        "mean_sales_pivot = sales_df.pivot_table(values='___', index='___',\n",
        "        aggfunc='___').reset_index()  # Replace the \"___\"\n",
        "print('\\n Mean Sales Pivot', mean_sales_pivot)\n",
        "```"
      ],
      "metadata": {
        "id": "SdNv6auQGSFk"
      }
    },
    {
      "cell_type": "code",
      "source": [
        "import pandas as pd\n",
        "\n",
        "data = {'product': ['Apple', 'Banana', 'Orange', 'Grapes', 'Apple', 'Banana', 'Orange', 'Grapes', 'Apple',\n",
        "                               'Banana', 'Orange', 'Grapes', 'Apple', 'Banana', 'Orange'],\n",
        "        'region': ['North America', 'North America', 'North America', 'North America', 'South America',\n",
        "                       'South America', 'South America', 'South America', 'Europe', 'Europe', 'Europe', 'Europe',\n",
        "                   'Asia', 'Asia', 'Asia'],\n",
        "        'sales': [100, 150, 200, 120, 80, 90, 130, 110, 140, 160, 120, 130, 180, 190, 210]}\n",
        "sales_df = pd.DataFrame(data)\n",
        "\n",
        "# Create a pivot table for total sales by region\n",
        "total_sales_pivot = sales_df.pivot_table(values='sales', index='region',\n",
        "        aggfunc='sum').reset_index()\n",
        "print('Total Sales Pivot', total_sales_pivot)\n",
        "\n",
        "# Create a pivot table for mean sales by region\n",
        "mean_sales_pivot = sales_df.pivot_table(values='sales', index='region',\n",
        "        aggfunc='mean').reset_index()\n",
        "print('\\n Mean Sales Pivot', mean_sales_pivot)"
      ],
      "metadata": {
        "id": "_hRrMuJ6GXGV"
      },
      "execution_count": null,
      "outputs": []
    },
    {
      "cell_type": "markdown",
      "source": [
        "## Exercise 9\n",
        "\n",
        "You have a dataset with sales information by region and product. Create a pivot table that shows the total sales by region and product.\n",
        "\n",
        "```python\n",
        "import pandas as pd\n",
        "\n",
        "# Sample dataset\n",
        "data = {\n",
        "    'Region': ['North', 'South', 'East', 'West', 'North', 'East', 'South', 'West', 'North', 'South'],\n",
        "    'Product': ['Electronics', 'Clothing', 'Electronics', 'Clothing', 'Groceries', 'Groceries', 'Electronics', 'Groceries', 'Clothing', 'Electronics'],\n",
        "    'Sales': [200, 150, 300, 100, 250, 400, 130, 200, 150, 160]\n",
        "}\n",
        "\n",
        "df = pd.DataFrame(data)\n",
        "\n",
        "# Create a pivot table for total sales by region and product\n",
        "pivot_table = pd.___(df,\n",
        "                     values='___',  # Replace \"___\" with the correct column for values\n",
        "                     index='___',  # Replace \"___\" with the correct column for rows (index)\n",
        "                     columns='___',  # Replace \"___\" with the correct column for columns\n",
        "                     aggfunc='___',  # Replace \"___\" with the correct aggregation function\n",
        "                     fill_value=___)  # Replace \"___\" with the value to fill missing data\n",
        "print(pivot_table)\n",
        "```"
      ],
      "metadata": {
        "id": "EiMXkFA_M5Tr"
      }
    },
    {
      "cell_type": "code",
      "source": [
        "import pandas as pd\n",
        "\n",
        "# Sample dataset\n",
        "data = {\n",
        "    'Region': ['North', 'South', 'East', 'West', 'North', 'East', 'South', 'West', 'North', 'South'],\n",
        "    'Product': ['Electronics', 'Clothing', 'Electronics', 'Clothing', 'Groceries', 'Groceries', 'Electronics', 'Groceries', 'Clothing', 'Electronics'],\n",
        "    'Sales': [200, 150, 300, 100, 250, 400, 130, 200, 150, 160]\n",
        "}\n",
        "\n",
        "df = pd.DataFrame(data)\n",
        "\n",
        "# Create a pivot table for total sales by region and product\n",
        "pivot_table = pd.pivot_table(df,\n",
        "                     values='Sales',\n",
        "                     index='Region',\n",
        "                     columns='Product',\n",
        "                     aggfunc='sum',\n",
        "                     fill_value=0)\n",
        "print(pivot_table)"
      ],
      "metadata": {
        "colab": {
          "base_uri": "https://localhost:8080/"
        },
        "id": "qO1ivX5RNADL",
        "outputId": "cd4bfd19-cd6e-4746-e4a2-088978d8ca74"
      },
      "execution_count": 23,
      "outputs": [
        {
          "output_type": "stream",
          "name": "stdout",
          "text": [
            "Product  Clothing  Electronics  Groceries\n",
            "Region                                   \n",
            "East            0          300        400\n",
            "North         150          200        250\n",
            "South         150          290          0\n",
            "West          100            0        200\n"
          ]
        }
      ]
    },
    {
      "cell_type": "markdown",
      "source": [
        "## Exercise 10\n",
        "\n",
        "You have the same dataset and now need to create a pivot table showing the average sales by region.\n",
        "\n",
        "```python\n",
        "import pandas as pd\n",
        "\n",
        "# Sample dataset\n",
        "data = {\n",
        "    'Region': ['North', 'South', 'East', 'West', 'North', 'East', 'South', 'West', 'North', 'South'],\n",
        "    'Product': ['Electronics', 'Clothing', 'Electronics', 'Clothing', 'Groceries', 'Groceries', 'Electronics', 'Groceries', 'Clothing', 'Electronics'],\n",
        "    'Sales': [200, 150, 300, 100, 250, 400, 130, 200, 150, 160]\n",
        "}\n",
        "\n",
        "df = pd.DataFrame(data)\n",
        "\n",
        "# Create a pivot table for mean sales by region\n",
        "pivot_table = pd.pivot_table(df,\n",
        "                             ___='___',  # Replace \"___\"\n",
        "                             ___='___',  # Replace \"___\"\n",
        "print(pivot_table)\n",
        "```"
      ],
      "metadata": {
        "id": "ptuVkOwGNYXc"
      }
    },
    {
      "cell_type": "code",
      "source": [
        "import pandas as pd\n",
        "\n",
        "# Sample dataset\n",
        "data = {\n",
        "    'Region': ['North', 'South', 'East', 'West', 'North', 'East', 'South', 'West', 'North', 'South'],\n",
        "    'Product': ['Electronics', 'Clothing', 'Electronics', 'Clothing', 'Groceries', 'Groceries', 'Electronics', 'Groceries', 'Clothing', 'Electronics'],\n",
        "    'Sales': [200, 150, 300, 100, 250, 400, 130, 200, 150, 160]\n",
        "}\n",
        "\n",
        "df = pd.DataFrame(data)\n",
        "\n",
        "# Create a pivot table for mean sales by region\n",
        "pivot_table = pd.pivot_table(df,\n",
        "                             values='Sales',\n",
        "                             index='Region',\n",
        "                             aggfunc='mean',\n",
        "                             fill_value=0)\n",
        "print(pivot_table)"
      ],
      "metadata": {
        "colab": {
          "base_uri": "https://localhost:8080/"
        },
        "id": "gkVbDOLaNdYz",
        "outputId": "f393941e-871f-460e-c725-764b3ab996b7"
      },
      "execution_count": 24,
      "outputs": [
        {
          "output_type": "stream",
          "name": "stdout",
          "text": [
            "             Sales\n",
            "Region            \n",
            "East    350.000000\n",
            "North   200.000000\n",
            "South   146.666667\n",
            "West    150.000000\n"
          ]
        }
      ]
    },
    {
      "cell_type": "markdown",
      "source": [
        "## Exercise 11\n",
        "\n",
        "Create a pivot table that shows both the total and average sales by region and product type.\n",
        "\n",
        "```python\n",
        "import pandas as pd\n",
        "\n",
        "# Sample dataset\n",
        "data = {\n",
        "    'Region': ['North', 'South', 'East', 'West', 'North', 'East', 'South', 'West', 'North', 'South'],\n",
        "    'Product': ['Electronics', 'Clothing', 'Electronics', 'Clothing', 'Groceries', 'Groceries', 'Electronics', 'Groceries', 'Clothing', 'Electronics'],\n",
        "    'Sales': [200, 150, 300, 100, 250, 400, 130, 200, 150, 160]\n",
        "}\n",
        "\n",
        "df = pd.DataFrame(data)\n",
        "\n",
        "# Create a pivot table with both total and average sales by region and product\n",
        "pivot_table = pd.pivot_table(___)  # Replace \"___\"\n",
        "print(pivot_table)\n",
        "```"
      ],
      "metadata": {
        "id": "f-tcOgvEOLgU"
      }
    },
    {
      "cell_type": "code",
      "source": [
        "import pandas as pd\n",
        "\n",
        "# Sample dataset\n",
        "data = {\n",
        "    'Region': ['North', 'South', 'East', 'West', 'North', 'East', 'South', 'West', 'North', 'South'],\n",
        "    'Product': ['Electronics', 'Clothing', 'Electronics', 'Clothing', 'Groceries', 'Groceries', 'Electronics', 'Groceries', 'Clothing', 'Electronics'],\n",
        "    'Sales': [200, 150, 300, 100, 250, 400, 130, 200, 150, 160]\n",
        "}\n",
        "\n",
        "df = pd.DataFrame(data)\n",
        "\n",
        "# Create a pivot table with both total and average sales by region and product\n",
        "pivot_table = pd.pivot_table(df,\n",
        "                             values='Sales',\n",
        "                             index='Region',\n",
        "                             columns='Product',\n",
        "                             aggfunc=['sum', 'mean'],\n",
        "                             fill_value=0)\n",
        "print(pivot_table)"
      ],
      "metadata": {
        "colab": {
          "base_uri": "https://localhost:8080/"
        },
        "id": "nGt8NgqYNmqP",
        "outputId": "0b93cb2d-e924-4d97-dd2c-2d88f67e148d"
      },
      "execution_count": 25,
      "outputs": [
        {
          "output_type": "stream",
          "name": "stdout",
          "text": [
            "             sum                           mean                      \n",
            "Product Clothing Electronics Groceries Clothing Electronics Groceries\n",
            "Region                                                               \n",
            "East           0         300       400      0.0       300.0     400.0\n",
            "North        150         200       250    150.0       200.0     250.0\n",
            "South        150         290         0    150.0       145.0       0.0\n",
            "West         100           0       200    100.0         0.0     200.0\n"
          ]
        }
      ]
    },
    {
      "cell_type": "markdown",
      "source": [
        "## Exercise 12\n",
        "\n",
        "You want to create a pivot table showing total sales by region, but only for \"Electronics\" products. Filter the data before creating the pivot table.\n",
        "\n",
        "```python\n",
        "import pandas as pd\n",
        "\n",
        "# Sample dataset\n",
        "data = {\n",
        "    'Region': ['North', 'South', 'East', 'West', 'North', 'East', 'South', 'West', 'North', 'South'],\n",
        "    'Product': ['Electronics', 'Clothing', 'Electronics', 'Clothing', 'Groceries', 'Groceries', 'Electronics', 'Groceries', 'Clothing', 'Electronics'],\n",
        "    'Sales': [200, 150, 300, 100, 250, 400, 130, 200, 150, 160]\n",
        "}\n",
        "\n",
        "df = pd.DataFrame(data)\n",
        "print(df.head())\n",
        "\n",
        "# Filter for 'Electronics' products and then create a pivot table for total sales by region\n",
        "filtered_df = df[df['Product'] == 'Electronics']  # Replace \"___\" with the correct filter\n",
        "___= ___ # Replace \"___\" with the value to fill missing data\n",
        "print(pivot_table)\n",
        "```"
      ],
      "metadata": {
        "id": "AEsnTwT7OxNH"
      }
    },
    {
      "cell_type": "code",
      "source": [
        "import pandas as pd\n",
        "\n",
        "# Sample dataset\n",
        "data = {\n",
        "    'Region': ['North', 'South', 'East', 'West', 'North', 'East', 'South', 'West', 'North', 'South'],\n",
        "    'Product': ['Electronics', 'Clothing', 'Electronics', 'Clothing', 'Groceries', 'Groceries', 'Electronics', 'Groceries', 'Clothing', 'Electronics'],\n",
        "    'Sales': [200, 150, 300, 100, 250, 400, 130, 200, 150, 160]\n",
        "}\n",
        "\n",
        "df = pd.DataFrame(data)\n",
        "print(df.head(), \"\\n\")\n",
        "\n",
        "# Filter for 'Electronics' products and then create a pivot table for total sales by region\n",
        "filtered_df = df[df['Product'] == 'Electronics']\n",
        "pivot_table = pd.pivot_table(filtered_df,\n",
        "                             values='Sales',\n",
        "                             index='Region',\n",
        "                             aggfunc='sum',\n",
        "                             fill_value=0)\n",
        "print(f\"Total Electronic Sales per Region:\\n{pivot_table}\")"
      ],
      "metadata": {
        "colab": {
          "base_uri": "https://localhost:8080/"
        },
        "id": "Fo2yb2bYO2am",
        "outputId": "9be17c0a-d459-4ea7-cca3-166b0270e5fe"
      },
      "execution_count": 28,
      "outputs": [
        {
          "output_type": "stream",
          "name": "stdout",
          "text": [
            "  Region      Product  Sales\n",
            "0  North  Electronics    200\n",
            "1  South     Clothing    150\n",
            "2   East  Electronics    300\n",
            "3   West     Clothing    100\n",
            "4  North    Groceries    250 \n",
            "\n",
            "Total Electronic Sales per Region:\n",
            "        Sales\n",
            "Region       \n",
            "East      300\n",
            "North     200\n",
            "South     290\n"
          ]
        }
      ]
    },
    {
      "cell_type": "markdown",
      "source": [
        "## Exercise 13\n",
        "\n",
        "Create a pivot table to show the count of sales entries by region.\n",
        "\n",
        "```python\n",
        "import pandas as pd\n",
        "\n",
        "# Sample dataset\n",
        "data = {\n",
        "    'Region': ['North', 'South', 'East', 'West', 'North', 'East', 'South', 'West', 'North', 'South'],\n",
        "    'Product': ['Electronics', 'Clothing', 'Electronics', 'Clothing', 'Groceries', 'Groceries', 'Electronics', 'Groceries', 'Clothing', 'Electronics'],\n",
        "    'Sales': [200, 150, 300, 100, 250, 400, 130, 200, 150, 160]\n",
        "}\n",
        "\n",
        "df = pd.DataFrame(data)\n",
        "print(df.head())\n",
        "\n",
        "\n",
        "# Create a pivot table showing the count of sales entries by region\n",
        "___ = ___  # Replace \"___\"\n",
        "print(___)\n",
        "```"
      ],
      "metadata": {
        "id": "sXxbTmrrPtMS"
      }
    },
    {
      "cell_type": "code",
      "source": [
        "import pandas as pd\n",
        "\n",
        "# Sample dataset\n",
        "data = {\n",
        "    'Region': ['North', 'South', 'East', 'West', 'North', 'East', 'South', 'West', 'North', 'South'],\n",
        "    'Product': ['Electronics', 'Clothing', 'Electronics', 'Clothing', 'Groceries', 'Groceries', 'Electronics', 'Groceries', 'Clothing', 'Electronics'],\n",
        "    'Sales': [200, 150, 300, 100, 250, 400, 130, 200, 150, 160]\n",
        "}\n",
        "\n",
        "df = pd.DataFrame(data)\n",
        "print(df.head(), '\\n')\n",
        "\n",
        "# Create a pivot table showing the count of sales entries by region\n",
        "pivot_table = pd.pivot_table(df,\n",
        "                             values='Sales',\n",
        "                             index='Region',\n",
        "                             aggfunc='count',\n",
        "                             fill_value=0)\n",
        "print(f\"Number of Sales Per Region:\\n{pivot_table}\")"
      ],
      "metadata": {
        "colab": {
          "base_uri": "https://localhost:8080/"
        },
        "id": "PRZEoY2WPzAV",
        "outputId": "60e04ece-ac59-49d7-fb85-7289d53879b3"
      },
      "execution_count": 31,
      "outputs": [
        {
          "output_type": "stream",
          "name": "stdout",
          "text": [
            "  Region      Product  Sales\n",
            "0  North  Electronics    200\n",
            "1  South     Clothing    150\n",
            "2   East  Electronics    300\n",
            "3   West     Clothing    100\n",
            "4  North    Groceries    250 \n",
            "\n",
            "Number of Sales Per Region:\n",
            "        Sales\n",
            "Region       \n",
            "East        2\n",
            "North       3\n",
            "South       3\n",
            "West        2\n"
          ]
        }
      ]
    },
    {
      "cell_type": "markdown",
      "source": [
        "## Exercise 14\n",
        "\n",
        "Create a pivot table that shows both the total and average sales by region and product type.\n",
        "\n",
        "```python\n",
        "import pandas as pd\n",
        "\n",
        "# Sample dataset\n",
        "data = {\n",
        "    'Region': ['North', 'South', 'East', 'West', 'North', 'East', 'South', 'West', 'North', 'South'],\n",
        "    'Product': ['Electronics', 'Clothing', 'Electronics', 'Clothing', 'Groceries', 'Groceries', 'Electronics', 'Groceries', 'Clothing', 'Electronics'],\n",
        "    'Sales': [200, 150, 300, 100, 250, 400, 130, 200, 150, 160]\n",
        "}\n",
        "\n",
        "df = pd.DataFrame(data)\n",
        "\n",
        "# Create a pivot table with both total and average sales by region and product\n",
        "pivot_table = pd.pivot_table(___)  # Replace \"___\"\n",
        "print(pivot_table)\n",
        "```"
      ],
      "metadata": {
        "id": "czDTYTKVQwtg"
      }
    },
    {
      "cell_type": "code",
      "source": [
        "import pandas as pd\n",
        "\n",
        "# Sample dataset\n",
        "data = {\n",
        "    'Region': ['North', 'South', 'East', 'West', 'North', 'East', 'South', 'West', 'North', 'South'],\n",
        "    'Product': ['Electronics', 'Clothing', 'Electronics', 'Clothing', 'Groceries', 'Groceries', 'Electronics', 'Groceries', 'Clothing', 'Electronics'],\n",
        "    'Sales': [200, 150, 300, 100, 250, 400, 130, 200, 150, 160]\n",
        "}\n",
        "\n",
        "df = pd.DataFrame(data)\n",
        "\n",
        "# Create a pivot table with both total and average sales by region and product\n",
        "pivot_table = pd.pivot_table(df,\n",
        "                             values='Sales',\n",
        "                             index='Region',\n",
        "                             columns='Product',\n",
        "                             aggfunc=['sum', 'mean'],\n",
        "                             fill_value=0)\n",
        "print(pivot_table)"
      ],
      "metadata": {
        "colab": {
          "base_uri": "https://localhost:8080/"
        },
        "id": "yY_mqJMSQ3h4",
        "outputId": "7b357895-5d70-4ebd-dfa3-7319618ba87f"
      },
      "execution_count": 32,
      "outputs": [
        {
          "output_type": "stream",
          "name": "stdout",
          "text": [
            "             sum                           mean                      \n",
            "Product Clothing Electronics Groceries Clothing Electronics Groceries\n",
            "Region                                                               \n",
            "East           0         300       400      0.0       300.0     400.0\n",
            "North        150         200       250    150.0       200.0     250.0\n",
            "South        150         290         0    150.0       145.0       0.0\n",
            "West         100           0       200    100.0         0.0     200.0\n"
          ]
        }
      ]
    }
  ]
}
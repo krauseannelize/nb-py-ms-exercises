{
  "nbformat": 4,
  "nbformat_minor": 0,
  "metadata": {
    "colab": {
      "provenance": [],
      "authorship_tag": "ABX9TyPQe2ZJpf49jz9SoHIqsqym",
      "include_colab_link": true
    },
    "kernelspec": {
      "name": "python3",
      "display_name": "Python 3"
    },
    "language_info": {
      "name": "python"
    }
  },
  "cells": [
    {
      "cell_type": "markdown",
      "metadata": {
        "id": "view-in-github",
        "colab_type": "text"
      },
      "source": [
        "<a href=\"https://colab.research.google.com/github/krauseannelize/nb-py-ms-exercises/blob/sprint04/notebooks/s04_pandas_data_wrangling/40_defining_functions_to_clean_data.ipynb\" target=\"_parent\"><img src=\"https://colab.research.google.com/assets/colab-badge.svg\" alt=\"Open In Colab\"/></a>"
      ]
    },
    {
      "cell_type": "markdown",
      "source": [
        "# 40 | Defining Functions to Clean Data\n",
        "\n",
        "## Creating a Cleaning Function\n",
        "\n",
        "### Defining the Function"
      ],
      "metadata": {
        "id": "pFQymzZWGnha"
      }
    },
    {
      "cell_type": "code",
      "execution_count": null,
      "metadata": {
        "id": "gI1hATJAGk74"
      },
      "outputs": [],
      "source": [
        "import pandas as pd\n",
        "\n",
        "# Define a function to clean a DataFrame\n",
        "def clean_data(df):\n",
        "\n",
        "  # Standardize text columns (trim spaces, convert to lowercase)\n",
        "  # Select all columns in DataFrame with object data type\n",
        "  for col in df.select_dtypes(include=['object']).columns:\n",
        "    df[col] = df[col].str.strip().str.lower()\n",
        "\n",
        "  df = df.drop_duplicates()  # Remove duplicate rows\n",
        "  df = df.dropna()  # Drop missing values (or use fillna if needed)\n",
        "  return df"
      ]
    },
    {
      "cell_type": "markdown",
      "source": [
        "### Adding the DataFrame"
      ],
      "metadata": {
        "id": "VOdEcl3CKiip"
      }
    },
    {
      "cell_type": "code",
      "source": [
        "# Create a sample DataFrame with duplicates, missing values, and non-standardized text\n",
        "sample_data = {\n",
        "    \"Name\": [\" Alice  \", \"BOB\", \"Alice\", \"charlie\", None, \"BOB\"],\n",
        "    \"Age\": [25, 30, 25, 35, 40, 30],\n",
        "    \"City\": [\"New York\", \"Los Angeles\", \"new york\", \"Chicago\", \"Chicago\", \"LOS ANGELES\"]\n",
        "}\n",
        "\n",
        "df = pd.DataFrame(sample_data)\n",
        "\n",
        "print(\"Original DataFrame:\")\n",
        "df"
      ],
      "metadata": {
        "colab": {
          "base_uri": "https://localhost:8080/",
          "height": 255
        },
        "id": "dmb3i4qXKS01",
        "outputId": "9b3d3dd9-9693-4909-85c4-c885d482b2f7"
      },
      "execution_count": null,
      "outputs": [
        {
          "output_type": "stream",
          "name": "stdout",
          "text": [
            "Original DataFrame:\n"
          ]
        },
        {
          "output_type": "execute_result",
          "data": {
            "text/plain": [
              "       Name  Age         City\n",
              "0   Alice     25     New York\n",
              "1       BOB   30  Los Angeles\n",
              "2     Alice   25     new york\n",
              "3   charlie   35      Chicago\n",
              "4      None   40      Chicago\n",
              "5       BOB   30  LOS ANGELES"
            ],
            "text/html": [
              "\n",
              "  <div id=\"df-7301cce7-dba4-4cd7-8f06-d7bb5a31521a\" class=\"colab-df-container\">\n",
              "    <div>\n",
              "<style scoped>\n",
              "    .dataframe tbody tr th:only-of-type {\n",
              "        vertical-align: middle;\n",
              "    }\n",
              "\n",
              "    .dataframe tbody tr th {\n",
              "        vertical-align: top;\n",
              "    }\n",
              "\n",
              "    .dataframe thead th {\n",
              "        text-align: right;\n",
              "    }\n",
              "</style>\n",
              "<table border=\"1\" class=\"dataframe\">\n",
              "  <thead>\n",
              "    <tr style=\"text-align: right;\">\n",
              "      <th></th>\n",
              "      <th>Name</th>\n",
              "      <th>Age</th>\n",
              "      <th>City</th>\n",
              "    </tr>\n",
              "  </thead>\n",
              "  <tbody>\n",
              "    <tr>\n",
              "      <th>0</th>\n",
              "      <td>Alice</td>\n",
              "      <td>25</td>\n",
              "      <td>New York</td>\n",
              "    </tr>\n",
              "    <tr>\n",
              "      <th>1</th>\n",
              "      <td>BOB</td>\n",
              "      <td>30</td>\n",
              "      <td>Los Angeles</td>\n",
              "    </tr>\n",
              "    <tr>\n",
              "      <th>2</th>\n",
              "      <td>Alice</td>\n",
              "      <td>25</td>\n",
              "      <td>new york</td>\n",
              "    </tr>\n",
              "    <tr>\n",
              "      <th>3</th>\n",
              "      <td>charlie</td>\n",
              "      <td>35</td>\n",
              "      <td>Chicago</td>\n",
              "    </tr>\n",
              "    <tr>\n",
              "      <th>4</th>\n",
              "      <td>None</td>\n",
              "      <td>40</td>\n",
              "      <td>Chicago</td>\n",
              "    </tr>\n",
              "    <tr>\n",
              "      <th>5</th>\n",
              "      <td>BOB</td>\n",
              "      <td>30</td>\n",
              "      <td>LOS ANGELES</td>\n",
              "    </tr>\n",
              "  </tbody>\n",
              "</table>\n",
              "</div>\n",
              "    <div class=\"colab-df-buttons\">\n",
              "\n",
              "  <div class=\"colab-df-container\">\n",
              "    <button class=\"colab-df-convert\" onclick=\"convertToInteractive('df-7301cce7-dba4-4cd7-8f06-d7bb5a31521a')\"\n",
              "            title=\"Convert this dataframe to an interactive table.\"\n",
              "            style=\"display:none;\">\n",
              "\n",
              "  <svg xmlns=\"http://www.w3.org/2000/svg\" height=\"24px\" viewBox=\"0 -960 960 960\">\n",
              "    <path d=\"M120-120v-720h720v720H120Zm60-500h600v-160H180v160Zm220 220h160v-160H400v160Zm0 220h160v-160H400v160ZM180-400h160v-160H180v160Zm440 0h160v-160H620v160ZM180-180h160v-160H180v160Zm440 0h160v-160H620v160Z\"/>\n",
              "  </svg>\n",
              "    </button>\n",
              "\n",
              "  <style>\n",
              "    .colab-df-container {\n",
              "      display:flex;\n",
              "      gap: 12px;\n",
              "    }\n",
              "\n",
              "    .colab-df-convert {\n",
              "      background-color: #E8F0FE;\n",
              "      border: none;\n",
              "      border-radius: 50%;\n",
              "      cursor: pointer;\n",
              "      display: none;\n",
              "      fill: #1967D2;\n",
              "      height: 32px;\n",
              "      padding: 0 0 0 0;\n",
              "      width: 32px;\n",
              "    }\n",
              "\n",
              "    .colab-df-convert:hover {\n",
              "      background-color: #E2EBFA;\n",
              "      box-shadow: 0px 1px 2px rgba(60, 64, 67, 0.3), 0px 1px 3px 1px rgba(60, 64, 67, 0.15);\n",
              "      fill: #174EA6;\n",
              "    }\n",
              "\n",
              "    .colab-df-buttons div {\n",
              "      margin-bottom: 4px;\n",
              "    }\n",
              "\n",
              "    [theme=dark] .colab-df-convert {\n",
              "      background-color: #3B4455;\n",
              "      fill: #D2E3FC;\n",
              "    }\n",
              "\n",
              "    [theme=dark] .colab-df-convert:hover {\n",
              "      background-color: #434B5C;\n",
              "      box-shadow: 0px 1px 3px 1px rgba(0, 0, 0, 0.15);\n",
              "      filter: drop-shadow(0px 1px 2px rgba(0, 0, 0, 0.3));\n",
              "      fill: #FFFFFF;\n",
              "    }\n",
              "  </style>\n",
              "\n",
              "    <script>\n",
              "      const buttonEl =\n",
              "        document.querySelector('#df-7301cce7-dba4-4cd7-8f06-d7bb5a31521a button.colab-df-convert');\n",
              "      buttonEl.style.display =\n",
              "        google.colab.kernel.accessAllowed ? 'block' : 'none';\n",
              "\n",
              "      async function convertToInteractive(key) {\n",
              "        const element = document.querySelector('#df-7301cce7-dba4-4cd7-8f06-d7bb5a31521a');\n",
              "        const dataTable =\n",
              "          await google.colab.kernel.invokeFunction('convertToInteractive',\n",
              "                                                    [key], {});\n",
              "        if (!dataTable) return;\n",
              "\n",
              "        const docLinkHtml = 'Like what you see? Visit the ' +\n",
              "          '<a target=\"_blank\" href=https://colab.research.google.com/notebooks/data_table.ipynb>data table notebook</a>'\n",
              "          + ' to learn more about interactive tables.';\n",
              "        element.innerHTML = '';\n",
              "        dataTable['output_type'] = 'display_data';\n",
              "        await google.colab.output.renderOutput(dataTable, element);\n",
              "        const docLink = document.createElement('div');\n",
              "        docLink.innerHTML = docLinkHtml;\n",
              "        element.appendChild(docLink);\n",
              "      }\n",
              "    </script>\n",
              "  </div>\n",
              "\n",
              "\n",
              "    <div id=\"df-8814e72c-c1a4-4ea1-ac33-efa72e3fe0f9\">\n",
              "      <button class=\"colab-df-quickchart\" onclick=\"quickchart('df-8814e72c-c1a4-4ea1-ac33-efa72e3fe0f9')\"\n",
              "                title=\"Suggest charts\"\n",
              "                style=\"display:none;\">\n",
              "\n",
              "<svg xmlns=\"http://www.w3.org/2000/svg\" height=\"24px\"viewBox=\"0 0 24 24\"\n",
              "     width=\"24px\">\n",
              "    <g>\n",
              "        <path d=\"M19 3H5c-1.1 0-2 .9-2 2v14c0 1.1.9 2 2 2h14c1.1 0 2-.9 2-2V5c0-1.1-.9-2-2-2zM9 17H7v-7h2v7zm4 0h-2V7h2v10zm4 0h-2v-4h2v4z\"/>\n",
              "    </g>\n",
              "</svg>\n",
              "      </button>\n",
              "\n",
              "<style>\n",
              "  .colab-df-quickchart {\n",
              "      --bg-color: #E8F0FE;\n",
              "      --fill-color: #1967D2;\n",
              "      --hover-bg-color: #E2EBFA;\n",
              "      --hover-fill-color: #174EA6;\n",
              "      --disabled-fill-color: #AAA;\n",
              "      --disabled-bg-color: #DDD;\n",
              "  }\n",
              "\n",
              "  [theme=dark] .colab-df-quickchart {\n",
              "      --bg-color: #3B4455;\n",
              "      --fill-color: #D2E3FC;\n",
              "      --hover-bg-color: #434B5C;\n",
              "      --hover-fill-color: #FFFFFF;\n",
              "      --disabled-bg-color: #3B4455;\n",
              "      --disabled-fill-color: #666;\n",
              "  }\n",
              "\n",
              "  .colab-df-quickchart {\n",
              "    background-color: var(--bg-color);\n",
              "    border: none;\n",
              "    border-radius: 50%;\n",
              "    cursor: pointer;\n",
              "    display: none;\n",
              "    fill: var(--fill-color);\n",
              "    height: 32px;\n",
              "    padding: 0;\n",
              "    width: 32px;\n",
              "  }\n",
              "\n",
              "  .colab-df-quickchart:hover {\n",
              "    background-color: var(--hover-bg-color);\n",
              "    box-shadow: 0 1px 2px rgba(60, 64, 67, 0.3), 0 1px 3px 1px rgba(60, 64, 67, 0.15);\n",
              "    fill: var(--button-hover-fill-color);\n",
              "  }\n",
              "\n",
              "  .colab-df-quickchart-complete:disabled,\n",
              "  .colab-df-quickchart-complete:disabled:hover {\n",
              "    background-color: var(--disabled-bg-color);\n",
              "    fill: var(--disabled-fill-color);\n",
              "    box-shadow: none;\n",
              "  }\n",
              "\n",
              "  .colab-df-spinner {\n",
              "    border: 2px solid var(--fill-color);\n",
              "    border-color: transparent;\n",
              "    border-bottom-color: var(--fill-color);\n",
              "    animation:\n",
              "      spin 1s steps(1) infinite;\n",
              "  }\n",
              "\n",
              "  @keyframes spin {\n",
              "    0% {\n",
              "      border-color: transparent;\n",
              "      border-bottom-color: var(--fill-color);\n",
              "      border-left-color: var(--fill-color);\n",
              "    }\n",
              "    20% {\n",
              "      border-color: transparent;\n",
              "      border-left-color: var(--fill-color);\n",
              "      border-top-color: var(--fill-color);\n",
              "    }\n",
              "    30% {\n",
              "      border-color: transparent;\n",
              "      border-left-color: var(--fill-color);\n",
              "      border-top-color: var(--fill-color);\n",
              "      border-right-color: var(--fill-color);\n",
              "    }\n",
              "    40% {\n",
              "      border-color: transparent;\n",
              "      border-right-color: var(--fill-color);\n",
              "      border-top-color: var(--fill-color);\n",
              "    }\n",
              "    60% {\n",
              "      border-color: transparent;\n",
              "      border-right-color: var(--fill-color);\n",
              "    }\n",
              "    80% {\n",
              "      border-color: transparent;\n",
              "      border-right-color: var(--fill-color);\n",
              "      border-bottom-color: var(--fill-color);\n",
              "    }\n",
              "    90% {\n",
              "      border-color: transparent;\n",
              "      border-bottom-color: var(--fill-color);\n",
              "    }\n",
              "  }\n",
              "</style>\n",
              "\n",
              "      <script>\n",
              "        async function quickchart(key) {\n",
              "          const quickchartButtonEl =\n",
              "            document.querySelector('#' + key + ' button');\n",
              "          quickchartButtonEl.disabled = true;  // To prevent multiple clicks.\n",
              "          quickchartButtonEl.classList.add('colab-df-spinner');\n",
              "          try {\n",
              "            const charts = await google.colab.kernel.invokeFunction(\n",
              "                'suggestCharts', [key], {});\n",
              "          } catch (error) {\n",
              "            console.error('Error during call to suggestCharts:', error);\n",
              "          }\n",
              "          quickchartButtonEl.classList.remove('colab-df-spinner');\n",
              "          quickchartButtonEl.classList.add('colab-df-quickchart-complete');\n",
              "        }\n",
              "        (() => {\n",
              "          let quickchartButtonEl =\n",
              "            document.querySelector('#df-8814e72c-c1a4-4ea1-ac33-efa72e3fe0f9 button');\n",
              "          quickchartButtonEl.style.display =\n",
              "            google.colab.kernel.accessAllowed ? 'block' : 'none';\n",
              "        })();\n",
              "      </script>\n",
              "    </div>\n",
              "\n",
              "  <div id=\"id_00cfd437-09d8-486e-8c98-c0b8ae192f14\">\n",
              "    <style>\n",
              "      .colab-df-generate {\n",
              "        background-color: #E8F0FE;\n",
              "        border: none;\n",
              "        border-radius: 50%;\n",
              "        cursor: pointer;\n",
              "        display: none;\n",
              "        fill: #1967D2;\n",
              "        height: 32px;\n",
              "        padding: 0 0 0 0;\n",
              "        width: 32px;\n",
              "      }\n",
              "\n",
              "      .colab-df-generate:hover {\n",
              "        background-color: #E2EBFA;\n",
              "        box-shadow: 0px 1px 2px rgba(60, 64, 67, 0.3), 0px 1px 3px 1px rgba(60, 64, 67, 0.15);\n",
              "        fill: #174EA6;\n",
              "      }\n",
              "\n",
              "      [theme=dark] .colab-df-generate {\n",
              "        background-color: #3B4455;\n",
              "        fill: #D2E3FC;\n",
              "      }\n",
              "\n",
              "      [theme=dark] .colab-df-generate:hover {\n",
              "        background-color: #434B5C;\n",
              "        box-shadow: 0px 1px 3px 1px rgba(0, 0, 0, 0.15);\n",
              "        filter: drop-shadow(0px 1px 2px rgba(0, 0, 0, 0.3));\n",
              "        fill: #FFFFFF;\n",
              "      }\n",
              "    </style>\n",
              "    <button class=\"colab-df-generate\" onclick=\"generateWithVariable('df')\"\n",
              "            title=\"Generate code using this dataframe.\"\n",
              "            style=\"display:none;\">\n",
              "\n",
              "  <svg xmlns=\"http://www.w3.org/2000/svg\" height=\"24px\"viewBox=\"0 0 24 24\"\n",
              "       width=\"24px\">\n",
              "    <path d=\"M7,19H8.4L18.45,9,17,7.55,7,17.6ZM5,21V16.75L18.45,3.32a2,2,0,0,1,2.83,0l1.4,1.43a1.91,1.91,0,0,1,.58,1.4,1.91,1.91,0,0,1-.58,1.4L9.25,21ZM18.45,9,17,7.55Zm-12,3A5.31,5.31,0,0,0,4.9,8.1,5.31,5.31,0,0,0,1,6.5,5.31,5.31,0,0,0,4.9,4.9,5.31,5.31,0,0,0,6.5,1,5.31,5.31,0,0,0,8.1,4.9,5.31,5.31,0,0,0,12,6.5,5.46,5.46,0,0,0,6.5,12Z\"/>\n",
              "  </svg>\n",
              "    </button>\n",
              "    <script>\n",
              "      (() => {\n",
              "      const buttonEl =\n",
              "        document.querySelector('#id_00cfd437-09d8-486e-8c98-c0b8ae192f14 button.colab-df-generate');\n",
              "      buttonEl.style.display =\n",
              "        google.colab.kernel.accessAllowed ? 'block' : 'none';\n",
              "\n",
              "      buttonEl.onclick = () => {\n",
              "        google.colab.notebook.generateWithVariable('df');\n",
              "      }\n",
              "      })();\n",
              "    </script>\n",
              "  </div>\n",
              "\n",
              "    </div>\n",
              "  </div>\n"
            ],
            "application/vnd.google.colaboratory.intrinsic+json": {
              "type": "dataframe",
              "variable_name": "df",
              "summary": "{\n  \"name\": \"df\",\n  \"rows\": 6,\n  \"fields\": [\n    {\n      \"column\": \"Name\",\n      \"properties\": {\n        \"dtype\": \"string\",\n        \"num_unique_values\": 4,\n        \"samples\": [\n          \"BOB\",\n          \"charlie\",\n          \" Alice  \"\n        ],\n        \"semantic_type\": \"\",\n        \"description\": \"\"\n      }\n    },\n    {\n      \"column\": \"Age\",\n      \"properties\": {\n        \"dtype\": \"number\",\n        \"std\": 5,\n        \"min\": 25,\n        \"max\": 40,\n        \"num_unique_values\": 4,\n        \"samples\": [\n          30,\n          40,\n          25\n        ],\n        \"semantic_type\": \"\",\n        \"description\": \"\"\n      }\n    },\n    {\n      \"column\": \"City\",\n      \"properties\": {\n        \"dtype\": \"string\",\n        \"num_unique_values\": 5,\n        \"samples\": [\n          \"Los Angeles\",\n          \"LOS ANGELES\",\n          \"new york\"\n        ],\n        \"semantic_type\": \"\",\n        \"description\": \"\"\n      }\n    }\n  ]\n}"
            }
          },
          "metadata": {},
          "execution_count": 75
        }
      ]
    },
    {
      "cell_type": "markdown",
      "source": [
        "### Apply Function to DataFrame"
      ],
      "metadata": {
        "id": "EahAb73DKsnz"
      }
    },
    {
      "cell_type": "code",
      "source": [
        "df_cleaned = clean_data(df)\n",
        "\n",
        "print(\"\\nCleaned DataFrame:\")\n",
        "df_cleaned"
      ],
      "metadata": {
        "colab": {
          "base_uri": "https://localhost:8080/",
          "height": 179
        },
        "id": "H12gLdhjKxVP",
        "outputId": "e249f721-ccf7-4394-c8f0-fd6e3544aff5"
      },
      "execution_count": null,
      "outputs": [
        {
          "output_type": "stream",
          "name": "stdout",
          "text": [
            "\n",
            "Cleaned DataFrame:\n"
          ]
        },
        {
          "output_type": "execute_result",
          "data": {
            "text/plain": [
              "      Name  Age         City\n",
              "0    alice   25     new york\n",
              "1      bob   30  los angeles\n",
              "3  charlie   35      chicago"
            ],
            "text/html": [
              "\n",
              "  <div id=\"df-2049c48c-dc0e-4c06-81dc-6871ef26ed07\" class=\"colab-df-container\">\n",
              "    <div>\n",
              "<style scoped>\n",
              "    .dataframe tbody tr th:only-of-type {\n",
              "        vertical-align: middle;\n",
              "    }\n",
              "\n",
              "    .dataframe tbody tr th {\n",
              "        vertical-align: top;\n",
              "    }\n",
              "\n",
              "    .dataframe thead th {\n",
              "        text-align: right;\n",
              "    }\n",
              "</style>\n",
              "<table border=\"1\" class=\"dataframe\">\n",
              "  <thead>\n",
              "    <tr style=\"text-align: right;\">\n",
              "      <th></th>\n",
              "      <th>Name</th>\n",
              "      <th>Age</th>\n",
              "      <th>City</th>\n",
              "    </tr>\n",
              "  </thead>\n",
              "  <tbody>\n",
              "    <tr>\n",
              "      <th>0</th>\n",
              "      <td>alice</td>\n",
              "      <td>25</td>\n",
              "      <td>new york</td>\n",
              "    </tr>\n",
              "    <tr>\n",
              "      <th>1</th>\n",
              "      <td>bob</td>\n",
              "      <td>30</td>\n",
              "      <td>los angeles</td>\n",
              "    </tr>\n",
              "    <tr>\n",
              "      <th>3</th>\n",
              "      <td>charlie</td>\n",
              "      <td>35</td>\n",
              "      <td>chicago</td>\n",
              "    </tr>\n",
              "  </tbody>\n",
              "</table>\n",
              "</div>\n",
              "    <div class=\"colab-df-buttons\">\n",
              "\n",
              "  <div class=\"colab-df-container\">\n",
              "    <button class=\"colab-df-convert\" onclick=\"convertToInteractive('df-2049c48c-dc0e-4c06-81dc-6871ef26ed07')\"\n",
              "            title=\"Convert this dataframe to an interactive table.\"\n",
              "            style=\"display:none;\">\n",
              "\n",
              "  <svg xmlns=\"http://www.w3.org/2000/svg\" height=\"24px\" viewBox=\"0 -960 960 960\">\n",
              "    <path d=\"M120-120v-720h720v720H120Zm60-500h600v-160H180v160Zm220 220h160v-160H400v160Zm0 220h160v-160H400v160ZM180-400h160v-160H180v160Zm440 0h160v-160H620v160ZM180-180h160v-160H180v160Zm440 0h160v-160H620v160Z\"/>\n",
              "  </svg>\n",
              "    </button>\n",
              "\n",
              "  <style>\n",
              "    .colab-df-container {\n",
              "      display:flex;\n",
              "      gap: 12px;\n",
              "    }\n",
              "\n",
              "    .colab-df-convert {\n",
              "      background-color: #E8F0FE;\n",
              "      border: none;\n",
              "      border-radius: 50%;\n",
              "      cursor: pointer;\n",
              "      display: none;\n",
              "      fill: #1967D2;\n",
              "      height: 32px;\n",
              "      padding: 0 0 0 0;\n",
              "      width: 32px;\n",
              "    }\n",
              "\n",
              "    .colab-df-convert:hover {\n",
              "      background-color: #E2EBFA;\n",
              "      box-shadow: 0px 1px 2px rgba(60, 64, 67, 0.3), 0px 1px 3px 1px rgba(60, 64, 67, 0.15);\n",
              "      fill: #174EA6;\n",
              "    }\n",
              "\n",
              "    .colab-df-buttons div {\n",
              "      margin-bottom: 4px;\n",
              "    }\n",
              "\n",
              "    [theme=dark] .colab-df-convert {\n",
              "      background-color: #3B4455;\n",
              "      fill: #D2E3FC;\n",
              "    }\n",
              "\n",
              "    [theme=dark] .colab-df-convert:hover {\n",
              "      background-color: #434B5C;\n",
              "      box-shadow: 0px 1px 3px 1px rgba(0, 0, 0, 0.15);\n",
              "      filter: drop-shadow(0px 1px 2px rgba(0, 0, 0, 0.3));\n",
              "      fill: #FFFFFF;\n",
              "    }\n",
              "  </style>\n",
              "\n",
              "    <script>\n",
              "      const buttonEl =\n",
              "        document.querySelector('#df-2049c48c-dc0e-4c06-81dc-6871ef26ed07 button.colab-df-convert');\n",
              "      buttonEl.style.display =\n",
              "        google.colab.kernel.accessAllowed ? 'block' : 'none';\n",
              "\n",
              "      async function convertToInteractive(key) {\n",
              "        const element = document.querySelector('#df-2049c48c-dc0e-4c06-81dc-6871ef26ed07');\n",
              "        const dataTable =\n",
              "          await google.colab.kernel.invokeFunction('convertToInteractive',\n",
              "                                                    [key], {});\n",
              "        if (!dataTable) return;\n",
              "\n",
              "        const docLinkHtml = 'Like what you see? Visit the ' +\n",
              "          '<a target=\"_blank\" href=https://colab.research.google.com/notebooks/data_table.ipynb>data table notebook</a>'\n",
              "          + ' to learn more about interactive tables.';\n",
              "        element.innerHTML = '';\n",
              "        dataTable['output_type'] = 'display_data';\n",
              "        await google.colab.output.renderOutput(dataTable, element);\n",
              "        const docLink = document.createElement('div');\n",
              "        docLink.innerHTML = docLinkHtml;\n",
              "        element.appendChild(docLink);\n",
              "      }\n",
              "    </script>\n",
              "  </div>\n",
              "\n",
              "\n",
              "    <div id=\"df-e8cd67ae-0e90-45d3-8df9-bf6376501a98\">\n",
              "      <button class=\"colab-df-quickchart\" onclick=\"quickchart('df-e8cd67ae-0e90-45d3-8df9-bf6376501a98')\"\n",
              "                title=\"Suggest charts\"\n",
              "                style=\"display:none;\">\n",
              "\n",
              "<svg xmlns=\"http://www.w3.org/2000/svg\" height=\"24px\"viewBox=\"0 0 24 24\"\n",
              "     width=\"24px\">\n",
              "    <g>\n",
              "        <path d=\"M19 3H5c-1.1 0-2 .9-2 2v14c0 1.1.9 2 2 2h14c1.1 0 2-.9 2-2V5c0-1.1-.9-2-2-2zM9 17H7v-7h2v7zm4 0h-2V7h2v10zm4 0h-2v-4h2v4z\"/>\n",
              "    </g>\n",
              "</svg>\n",
              "      </button>\n",
              "\n",
              "<style>\n",
              "  .colab-df-quickchart {\n",
              "      --bg-color: #E8F0FE;\n",
              "      --fill-color: #1967D2;\n",
              "      --hover-bg-color: #E2EBFA;\n",
              "      --hover-fill-color: #174EA6;\n",
              "      --disabled-fill-color: #AAA;\n",
              "      --disabled-bg-color: #DDD;\n",
              "  }\n",
              "\n",
              "  [theme=dark] .colab-df-quickchart {\n",
              "      --bg-color: #3B4455;\n",
              "      --fill-color: #D2E3FC;\n",
              "      --hover-bg-color: #434B5C;\n",
              "      --hover-fill-color: #FFFFFF;\n",
              "      --disabled-bg-color: #3B4455;\n",
              "      --disabled-fill-color: #666;\n",
              "  }\n",
              "\n",
              "  .colab-df-quickchart {\n",
              "    background-color: var(--bg-color);\n",
              "    border: none;\n",
              "    border-radius: 50%;\n",
              "    cursor: pointer;\n",
              "    display: none;\n",
              "    fill: var(--fill-color);\n",
              "    height: 32px;\n",
              "    padding: 0;\n",
              "    width: 32px;\n",
              "  }\n",
              "\n",
              "  .colab-df-quickchart:hover {\n",
              "    background-color: var(--hover-bg-color);\n",
              "    box-shadow: 0 1px 2px rgba(60, 64, 67, 0.3), 0 1px 3px 1px rgba(60, 64, 67, 0.15);\n",
              "    fill: var(--button-hover-fill-color);\n",
              "  }\n",
              "\n",
              "  .colab-df-quickchart-complete:disabled,\n",
              "  .colab-df-quickchart-complete:disabled:hover {\n",
              "    background-color: var(--disabled-bg-color);\n",
              "    fill: var(--disabled-fill-color);\n",
              "    box-shadow: none;\n",
              "  }\n",
              "\n",
              "  .colab-df-spinner {\n",
              "    border: 2px solid var(--fill-color);\n",
              "    border-color: transparent;\n",
              "    border-bottom-color: var(--fill-color);\n",
              "    animation:\n",
              "      spin 1s steps(1) infinite;\n",
              "  }\n",
              "\n",
              "  @keyframes spin {\n",
              "    0% {\n",
              "      border-color: transparent;\n",
              "      border-bottom-color: var(--fill-color);\n",
              "      border-left-color: var(--fill-color);\n",
              "    }\n",
              "    20% {\n",
              "      border-color: transparent;\n",
              "      border-left-color: var(--fill-color);\n",
              "      border-top-color: var(--fill-color);\n",
              "    }\n",
              "    30% {\n",
              "      border-color: transparent;\n",
              "      border-left-color: var(--fill-color);\n",
              "      border-top-color: var(--fill-color);\n",
              "      border-right-color: var(--fill-color);\n",
              "    }\n",
              "    40% {\n",
              "      border-color: transparent;\n",
              "      border-right-color: var(--fill-color);\n",
              "      border-top-color: var(--fill-color);\n",
              "    }\n",
              "    60% {\n",
              "      border-color: transparent;\n",
              "      border-right-color: var(--fill-color);\n",
              "    }\n",
              "    80% {\n",
              "      border-color: transparent;\n",
              "      border-right-color: var(--fill-color);\n",
              "      border-bottom-color: var(--fill-color);\n",
              "    }\n",
              "    90% {\n",
              "      border-color: transparent;\n",
              "      border-bottom-color: var(--fill-color);\n",
              "    }\n",
              "  }\n",
              "</style>\n",
              "\n",
              "      <script>\n",
              "        async function quickchart(key) {\n",
              "          const quickchartButtonEl =\n",
              "            document.querySelector('#' + key + ' button');\n",
              "          quickchartButtonEl.disabled = true;  // To prevent multiple clicks.\n",
              "          quickchartButtonEl.classList.add('colab-df-spinner');\n",
              "          try {\n",
              "            const charts = await google.colab.kernel.invokeFunction(\n",
              "                'suggestCharts', [key], {});\n",
              "          } catch (error) {\n",
              "            console.error('Error during call to suggestCharts:', error);\n",
              "          }\n",
              "          quickchartButtonEl.classList.remove('colab-df-spinner');\n",
              "          quickchartButtonEl.classList.add('colab-df-quickchart-complete');\n",
              "        }\n",
              "        (() => {\n",
              "          let quickchartButtonEl =\n",
              "            document.querySelector('#df-e8cd67ae-0e90-45d3-8df9-bf6376501a98 button');\n",
              "          quickchartButtonEl.style.display =\n",
              "            google.colab.kernel.accessAllowed ? 'block' : 'none';\n",
              "        })();\n",
              "      </script>\n",
              "    </div>\n",
              "\n",
              "  <div id=\"id_c5014191-8f37-43bc-9b3c-71dbfe2ccfcb\">\n",
              "    <style>\n",
              "      .colab-df-generate {\n",
              "        background-color: #E8F0FE;\n",
              "        border: none;\n",
              "        border-radius: 50%;\n",
              "        cursor: pointer;\n",
              "        display: none;\n",
              "        fill: #1967D2;\n",
              "        height: 32px;\n",
              "        padding: 0 0 0 0;\n",
              "        width: 32px;\n",
              "      }\n",
              "\n",
              "      .colab-df-generate:hover {\n",
              "        background-color: #E2EBFA;\n",
              "        box-shadow: 0px 1px 2px rgba(60, 64, 67, 0.3), 0px 1px 3px 1px rgba(60, 64, 67, 0.15);\n",
              "        fill: #174EA6;\n",
              "      }\n",
              "\n",
              "      [theme=dark] .colab-df-generate {\n",
              "        background-color: #3B4455;\n",
              "        fill: #D2E3FC;\n",
              "      }\n",
              "\n",
              "      [theme=dark] .colab-df-generate:hover {\n",
              "        background-color: #434B5C;\n",
              "        box-shadow: 0px 1px 3px 1px rgba(0, 0, 0, 0.15);\n",
              "        filter: drop-shadow(0px 1px 2px rgba(0, 0, 0, 0.3));\n",
              "        fill: #FFFFFF;\n",
              "      }\n",
              "    </style>\n",
              "    <button class=\"colab-df-generate\" onclick=\"generateWithVariable('df_cleaned')\"\n",
              "            title=\"Generate code using this dataframe.\"\n",
              "            style=\"display:none;\">\n",
              "\n",
              "  <svg xmlns=\"http://www.w3.org/2000/svg\" height=\"24px\"viewBox=\"0 0 24 24\"\n",
              "       width=\"24px\">\n",
              "    <path d=\"M7,19H8.4L18.45,9,17,7.55,7,17.6ZM5,21V16.75L18.45,3.32a2,2,0,0,1,2.83,0l1.4,1.43a1.91,1.91,0,0,1,.58,1.4,1.91,1.91,0,0,1-.58,1.4L9.25,21ZM18.45,9,17,7.55Zm-12,3A5.31,5.31,0,0,0,4.9,8.1,5.31,5.31,0,0,0,1,6.5,5.31,5.31,0,0,0,4.9,4.9,5.31,5.31,0,0,0,6.5,1,5.31,5.31,0,0,0,8.1,4.9,5.31,5.31,0,0,0,12,6.5,5.46,5.46,0,0,0,6.5,12Z\"/>\n",
              "  </svg>\n",
              "    </button>\n",
              "    <script>\n",
              "      (() => {\n",
              "      const buttonEl =\n",
              "        document.querySelector('#id_c5014191-8f37-43bc-9b3c-71dbfe2ccfcb button.colab-df-generate');\n",
              "      buttonEl.style.display =\n",
              "        google.colab.kernel.accessAllowed ? 'block' : 'none';\n",
              "\n",
              "      buttonEl.onclick = () => {\n",
              "        google.colab.notebook.generateWithVariable('df_cleaned');\n",
              "      }\n",
              "      })();\n",
              "    </script>\n",
              "  </div>\n",
              "\n",
              "    </div>\n",
              "  </div>\n"
            ],
            "application/vnd.google.colaboratory.intrinsic+json": {
              "type": "dataframe",
              "variable_name": "df_cleaned",
              "summary": "{\n  \"name\": \"df_cleaned\",\n  \"rows\": 3,\n  \"fields\": [\n    {\n      \"column\": \"Name\",\n      \"properties\": {\n        \"dtype\": \"string\",\n        \"num_unique_values\": 3,\n        \"samples\": [\n          \"alice\",\n          \"bob\",\n          \"charlie\"\n        ],\n        \"semantic_type\": \"\",\n        \"description\": \"\"\n      }\n    },\n    {\n      \"column\": \"Age\",\n      \"properties\": {\n        \"dtype\": \"number\",\n        \"std\": 5,\n        \"min\": 25,\n        \"max\": 35,\n        \"num_unique_values\": 3,\n        \"samples\": [\n          25,\n          30,\n          35\n        ],\n        \"semantic_type\": \"\",\n        \"description\": \"\"\n      }\n    },\n    {\n      \"column\": \"City\",\n      \"properties\": {\n        \"dtype\": \"string\",\n        \"num_unique_values\": 3,\n        \"samples\": [\n          \"new york\",\n          \"los angeles\",\n          \"chicago\"\n        ],\n        \"semantic_type\": \"\",\n        \"description\": \"\"\n      }\n    }\n  ]\n}"
            }
          },
          "metadata": {},
          "execution_count": 76
        }
      ]
    },
    {
      "cell_type": "markdown",
      "source": [
        "## The `lambda` Function\n",
        "\n",
        "A `lambda` function is a small, anonymous function. It is useful when you need a quick, one-off function for a short task, instead of writing a full `def` block.\n",
        "\n",
        "```python\n",
        "# basic syntax\n",
        "lambda arguments: expression\n",
        "```\n",
        "\n",
        "- `arguments` → the input and can take any number\n",
        "- `expression` → the result to return and can only be one\n",
        "\n",
        "For example:\n",
        "\n",
        "```python\n",
        "lambda x: x + 10\n",
        "```\n",
        "\n",
        "will do the same as:\n",
        "\n",
        "```python\n",
        "def add_ten(x):\n",
        "  return x + 10\n",
        "```"
      ],
      "metadata": {
        "id": "3Q16WUsbhT-x"
      }
    },
    {
      "cell_type": "code",
      "source": [
        "# Define a function to multiply by 2\n",
        "def multiply_by_two(x):\n",
        "    return x * 2\n",
        "\n",
        "print(multiply_by_two(5))"
      ],
      "metadata": {
        "colab": {
          "base_uri": "https://localhost:8080/"
        },
        "id": "ln75Z1FYhZyP",
        "outputId": "ef44b87c-93a6-4d05-edb1-b8a980b2cb80"
      },
      "execution_count": null,
      "outputs": [
        {
          "output_type": "stream",
          "name": "stdout",
          "text": [
            "10\n"
          ]
        }
      ]
    },
    {
      "cell_type": "code",
      "source": [
        "# Using a lambda function to multiply by 2\n",
        "lambda_times_two = lambda x: x * 2\n",
        "\n",
        "print(lambda_times_two(5))"
      ],
      "metadata": {
        "colab": {
          "base_uri": "https://localhost:8080/"
        },
        "id": "3MLMP8lxiFrg",
        "outputId": "5137488e-14df-43df-bb65-b493bcd41c82"
      },
      "execution_count": null,
      "outputs": [
        {
          "output_type": "stream",
          "name": "stdout",
          "text": [
            "10\n"
          ]
        }
      ]
    },
    {
      "cell_type": "markdown",
      "source": [
        "## The `.apply()` Method\n",
        "\n",
        "The `.apply()` method is used to apply a function along an axis of a DataFrame or Series.\n",
        "\n",
        "```python\n",
        "# Basic syntax\n",
        "dataframe.apply(func, axis=0, raw=False, result_type=None, args=(), **kwargs)\n",
        "```\n",
        "\n",
        "| Parameter | Status | Description |\n",
        "| --- | --- | --- |\n",
        "| `func` | Required | Function to apply |\n",
        "| `axis` | Optional | 0 or `index` → apply to columns (_default_); 1 or `columns` → apply to rows |\n",
        "| `raw` | Optional | Pass row or column as Series (`False` (_default_)) or ndarray object (`True`) |\n",
        "| `result_type` | Optional | When `axis=1`, controls return format (`expand`, `reduce`, `broadcast`) |\n",
        "| `kwargs` | Optional | Additional keyword arguments for the function |"
      ],
      "metadata": {
        "id": "IwQ8T_Q0LEVV"
      }
    },
    {
      "cell_type": "code",
      "source": [
        "import pandas as pd\n",
        "import numpy as np\n",
        "\n",
        "# Create a sample DataFrame\n",
        "df = pd.DataFrame({\n",
        "    \"A\": [1, 2, 3],\n",
        "    \"B\": [10, 20, 30],\n",
        "    \"C\": [100, 200, 300]\n",
        "})\n",
        "\n",
        "print(\"Original DataFrame:\")\n",
        "print(df)\n",
        "\n",
        "# Row-wise aggregation: sum\n",
        "df_row_sum = df.apply(np.sum, axis=1)\n",
        "\n",
        "# Row-wise transformation: square each row (works elementwise on the row Series)\n",
        "df_row_squared = df.apply(lambda row: row**2, axis=1)\n",
        "\n",
        "print(\"\\nUsing apply to sum rows:\")\n",
        "print(df_row_sum)\n",
        "\n",
        "print(\"\\nUsing apply to square values row-wise:\")\n",
        "print(df_row_squared)"
      ],
      "metadata": {
        "colab": {
          "base_uri": "https://localhost:8080/"
        },
        "id": "CpgCmdORlnZT",
        "outputId": "6017e5de-1ca1-4601-cb00-5eb80e215926"
      },
      "execution_count": 10,
      "outputs": [
        {
          "output_type": "stream",
          "name": "stdout",
          "text": [
            "Original DataFrame:\n",
            "   A   B    C\n",
            "0  1  10  100\n",
            "1  2  20  200\n",
            "2  3  30  300\n",
            "\n",
            "Using apply to sum rows:\n",
            "0    111\n",
            "1    222\n",
            "2    333\n",
            "dtype: int64\n",
            "\n",
            "Using apply to square values row-wise:\n",
            "   A    B      C\n",
            "0  1  100  10000\n",
            "1  4  400  40000\n",
            "2  9  900  90000\n"
          ]
        }
      ]
    },
    {
      "cell_type": "markdown",
      "source": [
        "## The `.map()` Method\n",
        "\n",
        "The `.map()` method applies a function elementwise to a Series or, starting in pandas ≥ 2.1, to a DataFrame.\n",
        "\n",
        "```python\n",
        "# Basic syntax\n",
        "dataframe.map(func, na_action=None, **kwargs)\n",
        "```\n",
        "\n",
        "| Parameter | Status | Description |\n",
        "| --- | --- | --- |\n",
        "| `func` | Required | Function to apply |\n",
        "| `na_action` | Optional | 'ignore' skips NULLs; otherwise, the function is applied to all non-null and null values |\n",
        "| `kwargs` | Optional | Additional keyword arguments for the function |\n",
        "\n",
        "⚠️ _**Note**: `.applymap()` was deprecated and `.map()` now replaces it for DataFrames._"
      ],
      "metadata": {
        "id": "M_viE3I7kr8f"
      }
    },
    {
      "cell_type": "code",
      "source": [
        "import pandas as pd\n",
        "import numpy as np\n",
        "\n",
        "# Create a sample DataFrame\n",
        "df = pd.DataFrame({\n",
        "    \"A\": [1, 2, 3],\n",
        "    \"B\": [10, 20, 30],\n",
        "    \"C\": [100, 200, 300]\n",
        "})\n",
        "\n",
        "print(\"Original DataFrame:\")\n",
        "print(df)\n",
        "\n",
        "# DataFrame aggregation: sum\n",
        "# Using np.sum with .map() has no effect because .map() works element-wise\n",
        "df_sum = df.map(np.sum)\n",
        "\n",
        "# DataFrame transformation: square each value\n",
        "df_squared = df.map(lambda x: x**2)\n",
        "\n",
        "print(\"\\nUsing map to sum:\")\n",
        "print(df_sum)\n",
        "\n",
        "print(\"\\nUsing map to square:\")\n",
        "print(df_squared)"
      ],
      "metadata": {
        "colab": {
          "base_uri": "https://localhost:8080/"
        },
        "id": "VXN4rLtsmccO",
        "outputId": "d05cf915-edab-4317-faef-c8ce06c00752"
      },
      "execution_count": 11,
      "outputs": [
        {
          "output_type": "stream",
          "name": "stdout",
          "text": [
            "Original DataFrame:\n",
            "   A   B    C\n",
            "0  1  10  100\n",
            "1  2  20  200\n",
            "2  3  30  300\n",
            "\n",
            "Using map to sum:\n",
            "   A   B    C\n",
            "0  1  10  100\n",
            "1  2  20  200\n",
            "2  3  30  300\n",
            "\n",
            "Using map to square:\n",
            "   A    B      C\n",
            "0  1  100  10000\n",
            "1  4  400  40000\n",
            "2  9  900  90000\n"
          ]
        }
      ]
    },
    {
      "cell_type": "markdown",
      "source": [
        "## Using `.apply()` and `.map()` with `lambda` Functions to Clean Data\n",
        "\n",
        "While `.apply()` is the most flexible choice (works row‑wise, column‑wise, or elementwise), `.map()` can be the faster solution in certain elementwise operations. Key benefits:\n",
        "\n",
        "- Faster than `for` loops on large datasets because it's optimized under the hood\n",
        "- Cleaner syntax and easier to read"
      ],
      "metadata": {
        "id": "jh1P_LVVk-Fx"
      }
    },
    {
      "cell_type": "markdown",
      "source": [
        "### Using a `for` Loop in the Cleaning Function"
      ],
      "metadata": {
        "id": "kcUWQH8dpXWc"
      }
    },
    {
      "cell_type": "code",
      "source": [
        "import pandas as pd\n",
        "import time\n",
        "\n",
        "# Define a function to clean a DataFrame\n",
        "def clean_data(df):\n",
        "\n",
        "  # Standardize text columns (trim spaces, convert to lowercase)\n",
        "  # Select all columns in DataFrame with object data type\n",
        "  for col in df.select_dtypes(include=['object']).columns:\n",
        "    df[col] = df[col].str.strip().str.lower()\n",
        "\n",
        "  # Clean and convert the 'Salary' column to numeric\n",
        "  # pandas Series.str.replace() → regex=True by default (pandas >=2.0)\n",
        "  # set regex=False to treat special characters literally\n",
        "  if 'Salary' in df.columns:\n",
        "    df['Salary'] = df['Salary'].str.replace(\"$\", \"\", regex=False).str.replace(\" \", \"\", regex=False).astype(float)\n",
        "\n",
        "  df = df.drop_duplicates()  # Remove duplicate rows\n",
        "  df = df.dropna()  # Drop missing values (or use fillna if needed)\n",
        "  return df\n",
        "\n",
        "# Create a sample DataFrame with duplicates, missing values, and non-standardized text\n",
        "sample_data = {\n",
        "    \"Name\": [\" Alice  \", \"BOB\", \"Alice\", \"charlie\", None, \"BOB\"],\n",
        "    \"Age\": [25, 30, 25, 35, 40, 30],\n",
        "    \"City\": [\"New York\", \"Los Angeles\", \"new york\", \"Chicago\", \"Chicago\", \"LOS ANGELES\"],\n",
        "    \"Salary\": [\" $1000 \", \" $2000\", \" $1000\", \" $3000 \", None, \" $2000\"]\n",
        "}\n",
        "\n",
        "df = pd.DataFrame(sample_data)\n",
        "\n",
        "print(\"Original DataFrame:\")\n",
        "print(df)\n",
        "\n",
        "# Clean the DataFrame with the function\n",
        "start = time.time()\n",
        "df_cleaned = clean_data(df)\n",
        "end = time.time()\n",
        "\n",
        "print(\"\\nCleaned DataFrame:\")\n",
        "print(df_cleaned)\n",
        "\n",
        "print(f\"\\nCleaning took {end - start:.4f} seconds\")"
      ],
      "metadata": {
        "colab": {
          "base_uri": "https://localhost:8080/"
        },
        "id": "XegxmuCBit9l",
        "outputId": "3513d352-72e6-43f3-dcdf-bd541c694bb9"
      },
      "execution_count": null,
      "outputs": [
        {
          "output_type": "stream",
          "name": "stdout",
          "text": [
            "Original DataFrame:\n",
            "       Name  Age         City   Salary\n",
            "0   Alice     25     New York   $1000 \n",
            "1       BOB   30  Los Angeles    $2000\n",
            "2     Alice   25     new york    $1000\n",
            "3   charlie   35      Chicago   $3000 \n",
            "4      None   40      Chicago     None\n",
            "5       BOB   30  LOS ANGELES    $2000\n",
            "\n",
            "Cleaned DataFrame:\n",
            "      Name  Age         City  Salary\n",
            "0    alice   25     new york  1000.0\n",
            "1      bob   30  los angeles  2000.0\n",
            "3  charlie   35      chicago  3000.0\n",
            "\n",
            "Cleaning took 0.0048 seconds\n"
          ]
        }
      ]
    },
    {
      "cell_type": "markdown",
      "source": [
        "### Using `.apply` in the Cleaning Function Instead\n",
        "\n",
        "This version replaces the `for` loop with `.apply()` for cleaner syntax and better performance on large datasets. It also directly applies transformations to specific columns without conditional checks."
      ],
      "metadata": {
        "id": "5C65V9eHpjay"
      }
    },
    {
      "cell_type": "code",
      "source": [
        "import pandas as pd\n",
        "import time\n",
        "\n",
        "# Define a function to clean a DataFrame\n",
        "def clean_data(df):\n",
        "\n",
        "  # Clean text columns using .apply instead of a for loop\n",
        "  df[['Name', 'City']] = df[['Name', 'City']].apply(lambda col: col.str.strip().str.lower())\n",
        "\n",
        "  # Clean and convert the 'Salary' column to numeric\n",
        "  # x is a Python string, so str.replace() is always literal\n",
        "  # no regex flag required\n",
        "  df['Salary'] = df['Salary'].apply(lambda x: float(x.replace('$', '').strip()) if pd.notnull(x) else x)\n",
        "\n",
        "  df = df.drop_duplicates()  # Remove duplicate rows\n",
        "  df = df.dropna()  # Drop missing values (or use fillna if needed)\n",
        "  return df\n",
        "\n",
        "# Create a sample DataFrame with duplicates, missing values, and non-standardized text\n",
        "sample_data = {\n",
        "    \"Name\": [\" Alice  \", \"BOB\", \"Alice\", \"charlie\", None, \"BOB\"],\n",
        "    \"Age\": [25, 30, 25, 35, 40, 30],\n",
        "    \"City\": [\"New York\", \"Los Angeles\", \"new york\", \"Chicago\", \"Chicago\", \"LOS ANGELES\"],\n",
        "    \"Salary\": [\" $1000 \", \" $2000\", \" $1000\", \" $3000 \", None, \" $2000\"]\n",
        "}\n",
        "\n",
        "df = pd.DataFrame(sample_data)\n",
        "\n",
        "print(\"Original DataFrame:\")\n",
        "print(df)\n",
        "\n",
        "# Clean the DataFrame with the function\n",
        "start = time.time()\n",
        "df_cleaned = clean_data(df)\n",
        "end = time.time()\n",
        "\n",
        "print(\"\\nCleaned DataFrame:\")\n",
        "print(df_cleaned)\n",
        "\n",
        "print(f\"\\nCleaning took {end - start:.4f} seconds\")"
      ],
      "metadata": {
        "colab": {
          "base_uri": "https://localhost:8080/"
        },
        "id": "xbsh2NO2oZ41",
        "outputId": "971f0a25-7791-4256-8d70-94d486de26f8"
      },
      "execution_count": null,
      "outputs": [
        {
          "output_type": "stream",
          "name": "stdout",
          "text": [
            "Original DataFrame:\n",
            "       Name  Age         City   Salary\n",
            "0   Alice     25     New York   $1000 \n",
            "1       BOB   30  Los Angeles    $2000\n",
            "2     Alice   25     new york    $1000\n",
            "3   charlie   35      Chicago   $3000 \n",
            "4      None   40      Chicago     None\n",
            "5       BOB   30  LOS ANGELES    $2000\n",
            "\n",
            "Cleaned DataFrame:\n",
            "      Name  Age         City  Salary\n",
            "0    alice   25     new york  1000.0\n",
            "1      bob   30  los angeles  2000.0\n",
            "3  charlie   35      chicago  3000.0\n",
            "\n",
            "Cleaning took 0.0053 seconds\n"
          ]
        }
      ]
    },
    {
      "cell_type": "markdown",
      "source": [
        "⚠️ On small datasets, `for` loops may be slightly faster due to lower overhead. However, `.apply()` scales better and is preferred for larger DataFrames."
      ],
      "metadata": {
        "id": "OmlRTIC2sVSU"
      }
    },
    {
      "cell_type": "markdown",
      "source": [
        "## Cleaning & Manipulating Data\n",
        "\n",
        "### Defining the Cleaning Function"
      ],
      "metadata": {
        "id": "m2Z18PaVeMPX"
      }
    },
    {
      "cell_type": "code",
      "source": [
        "import pandas as pd\n",
        "\n",
        "# Define a function to clean a DataFrame\n",
        "def clean_data(df):\n",
        "\n",
        "  # Clean text columns using .apply\n",
        "  df[df.select_dtypes(include=['object']).columns] = (\n",
        "      df.select_dtypes(include=['object']).apply(lambda col: col.str.strip().str.title()))\n",
        "\n",
        "  # Clean and convert the 'Revenue' column to numeric\n",
        "  if 'Revenue' in df.columns:\n",
        "    df['Revenue'] = df['Revenue'].apply(lambda x: float(x.replace(\"$\", \"\").replace(\" \", \"\")) if isinstance(x, str) else x)\n",
        "\n",
        "  df = df.drop_duplicates()  # Remove duplicate rows\n",
        "  df = df.dropna()  # Drop missing values (or use fillna if needed)\n",
        "  return df"
      ],
      "metadata": {
        "id": "8T8CsV-Y3_Mb"
      },
      "execution_count": null,
      "outputs": []
    },
    {
      "cell_type": "markdown",
      "source": [
        "### Creating a Sales DataFrame"
      ],
      "metadata": {
        "id": "5a-sjoZe7H-t"
      }
    },
    {
      "cell_type": "code",
      "source": [
        "# Create a sample DataFrame with sales data\n",
        "sales_data = {\n",
        "    \"Salesperson\": [\" Alice  \", \"BOB\", \"Alice\", \"charlie\", \"Alice\", \"BOB\"],\n",
        "    \"Region\": [\"North\", \"South\", \"North\", \"West\", \"West\", \"South\"],\n",
        "    \"Revenue\": [\" $5000 \", \" $7000\", \" $5000\", \" $9000 \", \" $11000\", \" $7000\"],\n",
        "    \"Products_Sold\": [50, 70, 50, 90, 110, 70]\n",
        "}\n",
        "\n",
        "df = pd.DataFrame(sales_data)\n",
        "\n",
        "print(\"Original DataFrame:\")\n",
        "print(df)"
      ],
      "metadata": {
        "colab": {
          "base_uri": "https://localhost:8080/"
        },
        "outputId": "8638a676-d430-4391-ff4e-804c5d96ba7a",
        "id": "K5XxShTm64Lj"
      },
      "execution_count": null,
      "outputs": [
        {
          "output_type": "stream",
          "name": "stdout",
          "text": [
            "Original DataFrame:\n",
            "  Salesperson Region  Revenue  Products_Sold\n",
            "0     Alice    North   $5000              50\n",
            "1         BOB  South    $7000             70\n",
            "2       Alice  North    $5000             50\n",
            "3     charlie   West   $9000              90\n",
            "4       Alice   West   $11000            110\n",
            "5         BOB  South    $7000             70\n"
          ]
        }
      ]
    },
    {
      "cell_type": "markdown",
      "source": [
        "### Cleaning the DataFrame"
      ],
      "metadata": {
        "id": "W4W00mtx7NeK"
      }
    },
    {
      "cell_type": "code",
      "source": [
        "# Clean the DataFrame with the function\n",
        "df_cleaned = clean_data(df)\n",
        "\n",
        "print(\"\\nCleaned DataFrame:\")\n",
        "print(df_cleaned)"
      ],
      "metadata": {
        "colab": {
          "base_uri": "https://localhost:8080/"
        },
        "outputId": "bcd2b172-99a4-4ee0-9df7-37daf8b4397a",
        "id": "neJauMiT642_"
      },
      "execution_count": null,
      "outputs": [
        {
          "output_type": "stream",
          "name": "stdout",
          "text": [
            "\n",
            "Cleaned DataFrame:\n",
            "  Salesperson Region  Revenue  Products_Sold\n",
            "0       Alice  North   5000.0             50\n",
            "1         Bob  South   7000.0             70\n",
            "3     Charlie   West   9000.0             90\n",
            "4       Alice   West  11000.0            110\n"
          ]
        }
      ]
    },
    {
      "cell_type": "markdown",
      "source": [
        "### Manipulating the Cleanded DataFrame"
      ],
      "metadata": {
        "id": "opkptMCh9yo0"
      }
    },
    {
      "cell_type": "code",
      "source": [
        "# Using .apply() to calculate 10% commission on Revenue\n",
        "df_cleaned[\"Commission\"] = df_cleaned[\"Revenue\"].apply(lambda x: x * 0.10)\n",
        "\n",
        "print(\"\\nCommission added using .apply():\")\n",
        "print(df_cleaned)"
      ],
      "metadata": {
        "colab": {
          "base_uri": "https://localhost:8080/"
        },
        "id": "nYHFf3no92A1",
        "outputId": "a3301f1b-5c33-4796-8c49-670c86bd06da"
      },
      "execution_count": null,
      "outputs": [
        {
          "output_type": "stream",
          "name": "stdout",
          "text": [
            "\n",
            "Commission added using .apply():\n",
            "  Salesperson Region  Revenue  Products_Sold  Commission\n",
            "0       Alice  North   5000.0             50       500.0\n",
            "1         Bob  South   7000.0             70       700.0\n",
            "3     Charlie   West   9000.0             90       900.0\n",
            "4       Alice   West  11000.0            110      1100.0\n"
          ]
        }
      ]
    },
    {
      "cell_type": "code",
      "source": [
        "# Using .map() to give a 5% sales bonus on Products_Sold\n",
        "df_cleaned[\"Sales_Bonus\"] = df_cleaned[\"Products_Sold\"].map(lambda x: int(x * 1.05))\n",
        "\n",
        "print(\"\\nSales_Bonus added using .map():\")\n",
        "print(df_cleaned)"
      ],
      "metadata": {
        "colab": {
          "base_uri": "https://localhost:8080/"
        },
        "id": "rtLvcQkD98KU",
        "outputId": "1319a401-0998-4264-dd7d-3059f37ce5c0"
      },
      "execution_count": null,
      "outputs": [
        {
          "output_type": "stream",
          "name": "stdout",
          "text": [
            "\n",
            "Sales_Bonus added using .map():\n",
            "  Salesperson Region  Revenue  Products_Sold  Commission  Sales_Bonus\n",
            "0       Alice  North   5000.0             50       500.0           52\n",
            "1         Bob  South   7000.0             70       700.0           73\n",
            "3     Charlie   West   9000.0             90       900.0           94\n",
            "4       Alice   West  11000.0            110      1100.0          115\n"
          ]
        }
      ]
    },
    {
      "cell_type": "markdown",
      "source": [
        "## Grouping & Pivot Tables\n",
        "\n",
        "Using `seaborn`’s built‑in `mpg` dataset to illustrate data cleaning and manipulation with grouping and pivot tables.\n",
        "\n",
        "### Importing `mpg` Dataset"
      ],
      "metadata": {
        "id": "3r_uTvSu-u63"
      }
    },
    {
      "cell_type": "code",
      "source": [
        "import seaborn as sns\n",
        "import pandas as pd\n",
        "\n",
        "mpg = sns.load_dataset('mpg')\n",
        "mpg.head()"
      ],
      "metadata": {
        "colab": {
          "base_uri": "https://localhost:8080/",
          "height": 206
        },
        "id": "w6ZIw9vgAnlS",
        "outputId": "0e58ba30-4b83-43f5-bfea-03de9fd64d42"
      },
      "execution_count": null,
      "outputs": [
        {
          "output_type": "execute_result",
          "data": {
            "text/plain": [
              "    mpg  cylinders  displacement  horsepower  weight  acceleration  \\\n",
              "0  18.0          8         307.0       130.0    3504          12.0   \n",
              "1  15.0          8         350.0       165.0    3693          11.5   \n",
              "2  18.0          8         318.0       150.0    3436          11.0   \n",
              "3  16.0          8         304.0       150.0    3433          12.0   \n",
              "4  17.0          8         302.0       140.0    3449          10.5   \n",
              "\n",
              "   model_year origin                       name  \n",
              "0          70    usa  chevrolet chevelle malibu  \n",
              "1          70    usa          buick skylark 320  \n",
              "2          70    usa         plymouth satellite  \n",
              "3          70    usa              amc rebel sst  \n",
              "4          70    usa                ford torino  "
            ],
            "text/html": [
              "\n",
              "  <div id=\"df-b8e92c85-1275-4ee2-9fae-7e32550af78d\" class=\"colab-df-container\">\n",
              "    <div>\n",
              "<style scoped>\n",
              "    .dataframe tbody tr th:only-of-type {\n",
              "        vertical-align: middle;\n",
              "    }\n",
              "\n",
              "    .dataframe tbody tr th {\n",
              "        vertical-align: top;\n",
              "    }\n",
              "\n",
              "    .dataframe thead th {\n",
              "        text-align: right;\n",
              "    }\n",
              "</style>\n",
              "<table border=\"1\" class=\"dataframe\">\n",
              "  <thead>\n",
              "    <tr style=\"text-align: right;\">\n",
              "      <th></th>\n",
              "      <th>mpg</th>\n",
              "      <th>cylinders</th>\n",
              "      <th>displacement</th>\n",
              "      <th>horsepower</th>\n",
              "      <th>weight</th>\n",
              "      <th>acceleration</th>\n",
              "      <th>model_year</th>\n",
              "      <th>origin</th>\n",
              "      <th>name</th>\n",
              "    </tr>\n",
              "  </thead>\n",
              "  <tbody>\n",
              "    <tr>\n",
              "      <th>0</th>\n",
              "      <td>18.0</td>\n",
              "      <td>8</td>\n",
              "      <td>307.0</td>\n",
              "      <td>130.0</td>\n",
              "      <td>3504</td>\n",
              "      <td>12.0</td>\n",
              "      <td>70</td>\n",
              "      <td>usa</td>\n",
              "      <td>chevrolet chevelle malibu</td>\n",
              "    </tr>\n",
              "    <tr>\n",
              "      <th>1</th>\n",
              "      <td>15.0</td>\n",
              "      <td>8</td>\n",
              "      <td>350.0</td>\n",
              "      <td>165.0</td>\n",
              "      <td>3693</td>\n",
              "      <td>11.5</td>\n",
              "      <td>70</td>\n",
              "      <td>usa</td>\n",
              "      <td>buick skylark 320</td>\n",
              "    </tr>\n",
              "    <tr>\n",
              "      <th>2</th>\n",
              "      <td>18.0</td>\n",
              "      <td>8</td>\n",
              "      <td>318.0</td>\n",
              "      <td>150.0</td>\n",
              "      <td>3436</td>\n",
              "      <td>11.0</td>\n",
              "      <td>70</td>\n",
              "      <td>usa</td>\n",
              "      <td>plymouth satellite</td>\n",
              "    </tr>\n",
              "    <tr>\n",
              "      <th>3</th>\n",
              "      <td>16.0</td>\n",
              "      <td>8</td>\n",
              "      <td>304.0</td>\n",
              "      <td>150.0</td>\n",
              "      <td>3433</td>\n",
              "      <td>12.0</td>\n",
              "      <td>70</td>\n",
              "      <td>usa</td>\n",
              "      <td>amc rebel sst</td>\n",
              "    </tr>\n",
              "    <tr>\n",
              "      <th>4</th>\n",
              "      <td>17.0</td>\n",
              "      <td>8</td>\n",
              "      <td>302.0</td>\n",
              "      <td>140.0</td>\n",
              "      <td>3449</td>\n",
              "      <td>10.5</td>\n",
              "      <td>70</td>\n",
              "      <td>usa</td>\n",
              "      <td>ford torino</td>\n",
              "    </tr>\n",
              "  </tbody>\n",
              "</table>\n",
              "</div>\n",
              "    <div class=\"colab-df-buttons\">\n",
              "\n",
              "  <div class=\"colab-df-container\">\n",
              "    <button class=\"colab-df-convert\" onclick=\"convertToInteractive('df-b8e92c85-1275-4ee2-9fae-7e32550af78d')\"\n",
              "            title=\"Convert this dataframe to an interactive table.\"\n",
              "            style=\"display:none;\">\n",
              "\n",
              "  <svg xmlns=\"http://www.w3.org/2000/svg\" height=\"24px\" viewBox=\"0 -960 960 960\">\n",
              "    <path d=\"M120-120v-720h720v720H120Zm60-500h600v-160H180v160Zm220 220h160v-160H400v160Zm0 220h160v-160H400v160ZM180-400h160v-160H180v160Zm440 0h160v-160H620v160ZM180-180h160v-160H180v160Zm440 0h160v-160H620v160Z\"/>\n",
              "  </svg>\n",
              "    </button>\n",
              "\n",
              "  <style>\n",
              "    .colab-df-container {\n",
              "      display:flex;\n",
              "      gap: 12px;\n",
              "    }\n",
              "\n",
              "    .colab-df-convert {\n",
              "      background-color: #E8F0FE;\n",
              "      border: none;\n",
              "      border-radius: 50%;\n",
              "      cursor: pointer;\n",
              "      display: none;\n",
              "      fill: #1967D2;\n",
              "      height: 32px;\n",
              "      padding: 0 0 0 0;\n",
              "      width: 32px;\n",
              "    }\n",
              "\n",
              "    .colab-df-convert:hover {\n",
              "      background-color: #E2EBFA;\n",
              "      box-shadow: 0px 1px 2px rgba(60, 64, 67, 0.3), 0px 1px 3px 1px rgba(60, 64, 67, 0.15);\n",
              "      fill: #174EA6;\n",
              "    }\n",
              "\n",
              "    .colab-df-buttons div {\n",
              "      margin-bottom: 4px;\n",
              "    }\n",
              "\n",
              "    [theme=dark] .colab-df-convert {\n",
              "      background-color: #3B4455;\n",
              "      fill: #D2E3FC;\n",
              "    }\n",
              "\n",
              "    [theme=dark] .colab-df-convert:hover {\n",
              "      background-color: #434B5C;\n",
              "      box-shadow: 0px 1px 3px 1px rgba(0, 0, 0, 0.15);\n",
              "      filter: drop-shadow(0px 1px 2px rgba(0, 0, 0, 0.3));\n",
              "      fill: #FFFFFF;\n",
              "    }\n",
              "  </style>\n",
              "\n",
              "    <script>\n",
              "      const buttonEl =\n",
              "        document.querySelector('#df-b8e92c85-1275-4ee2-9fae-7e32550af78d button.colab-df-convert');\n",
              "      buttonEl.style.display =\n",
              "        google.colab.kernel.accessAllowed ? 'block' : 'none';\n",
              "\n",
              "      async function convertToInteractive(key) {\n",
              "        const element = document.querySelector('#df-b8e92c85-1275-4ee2-9fae-7e32550af78d');\n",
              "        const dataTable =\n",
              "          await google.colab.kernel.invokeFunction('convertToInteractive',\n",
              "                                                    [key], {});\n",
              "        if (!dataTable) return;\n",
              "\n",
              "        const docLinkHtml = 'Like what you see? Visit the ' +\n",
              "          '<a target=\"_blank\" href=https://colab.research.google.com/notebooks/data_table.ipynb>data table notebook</a>'\n",
              "          + ' to learn more about interactive tables.';\n",
              "        element.innerHTML = '';\n",
              "        dataTable['output_type'] = 'display_data';\n",
              "        await google.colab.output.renderOutput(dataTable, element);\n",
              "        const docLink = document.createElement('div');\n",
              "        docLink.innerHTML = docLinkHtml;\n",
              "        element.appendChild(docLink);\n",
              "      }\n",
              "    </script>\n",
              "  </div>\n",
              "\n",
              "\n",
              "    <div id=\"df-b88683ce-7a60-49c9-8952-73e319f1bc51\">\n",
              "      <button class=\"colab-df-quickchart\" onclick=\"quickchart('df-b88683ce-7a60-49c9-8952-73e319f1bc51')\"\n",
              "                title=\"Suggest charts\"\n",
              "                style=\"display:none;\">\n",
              "\n",
              "<svg xmlns=\"http://www.w3.org/2000/svg\" height=\"24px\"viewBox=\"0 0 24 24\"\n",
              "     width=\"24px\">\n",
              "    <g>\n",
              "        <path d=\"M19 3H5c-1.1 0-2 .9-2 2v14c0 1.1.9 2 2 2h14c1.1 0 2-.9 2-2V5c0-1.1-.9-2-2-2zM9 17H7v-7h2v7zm4 0h-2V7h2v10zm4 0h-2v-4h2v4z\"/>\n",
              "    </g>\n",
              "</svg>\n",
              "      </button>\n",
              "\n",
              "<style>\n",
              "  .colab-df-quickchart {\n",
              "      --bg-color: #E8F0FE;\n",
              "      --fill-color: #1967D2;\n",
              "      --hover-bg-color: #E2EBFA;\n",
              "      --hover-fill-color: #174EA6;\n",
              "      --disabled-fill-color: #AAA;\n",
              "      --disabled-bg-color: #DDD;\n",
              "  }\n",
              "\n",
              "  [theme=dark] .colab-df-quickchart {\n",
              "      --bg-color: #3B4455;\n",
              "      --fill-color: #D2E3FC;\n",
              "      --hover-bg-color: #434B5C;\n",
              "      --hover-fill-color: #FFFFFF;\n",
              "      --disabled-bg-color: #3B4455;\n",
              "      --disabled-fill-color: #666;\n",
              "  }\n",
              "\n",
              "  .colab-df-quickchart {\n",
              "    background-color: var(--bg-color);\n",
              "    border: none;\n",
              "    border-radius: 50%;\n",
              "    cursor: pointer;\n",
              "    display: none;\n",
              "    fill: var(--fill-color);\n",
              "    height: 32px;\n",
              "    padding: 0;\n",
              "    width: 32px;\n",
              "  }\n",
              "\n",
              "  .colab-df-quickchart:hover {\n",
              "    background-color: var(--hover-bg-color);\n",
              "    box-shadow: 0 1px 2px rgba(60, 64, 67, 0.3), 0 1px 3px 1px rgba(60, 64, 67, 0.15);\n",
              "    fill: var(--button-hover-fill-color);\n",
              "  }\n",
              "\n",
              "  .colab-df-quickchart-complete:disabled,\n",
              "  .colab-df-quickchart-complete:disabled:hover {\n",
              "    background-color: var(--disabled-bg-color);\n",
              "    fill: var(--disabled-fill-color);\n",
              "    box-shadow: none;\n",
              "  }\n",
              "\n",
              "  .colab-df-spinner {\n",
              "    border: 2px solid var(--fill-color);\n",
              "    border-color: transparent;\n",
              "    border-bottom-color: var(--fill-color);\n",
              "    animation:\n",
              "      spin 1s steps(1) infinite;\n",
              "  }\n",
              "\n",
              "  @keyframes spin {\n",
              "    0% {\n",
              "      border-color: transparent;\n",
              "      border-bottom-color: var(--fill-color);\n",
              "      border-left-color: var(--fill-color);\n",
              "    }\n",
              "    20% {\n",
              "      border-color: transparent;\n",
              "      border-left-color: var(--fill-color);\n",
              "      border-top-color: var(--fill-color);\n",
              "    }\n",
              "    30% {\n",
              "      border-color: transparent;\n",
              "      border-left-color: var(--fill-color);\n",
              "      border-top-color: var(--fill-color);\n",
              "      border-right-color: var(--fill-color);\n",
              "    }\n",
              "    40% {\n",
              "      border-color: transparent;\n",
              "      border-right-color: var(--fill-color);\n",
              "      border-top-color: var(--fill-color);\n",
              "    }\n",
              "    60% {\n",
              "      border-color: transparent;\n",
              "      border-right-color: var(--fill-color);\n",
              "    }\n",
              "    80% {\n",
              "      border-color: transparent;\n",
              "      border-right-color: var(--fill-color);\n",
              "      border-bottom-color: var(--fill-color);\n",
              "    }\n",
              "    90% {\n",
              "      border-color: transparent;\n",
              "      border-bottom-color: var(--fill-color);\n",
              "    }\n",
              "  }\n",
              "</style>\n",
              "\n",
              "      <script>\n",
              "        async function quickchart(key) {\n",
              "          const quickchartButtonEl =\n",
              "            document.querySelector('#' + key + ' button');\n",
              "          quickchartButtonEl.disabled = true;  // To prevent multiple clicks.\n",
              "          quickchartButtonEl.classList.add('colab-df-spinner');\n",
              "          try {\n",
              "            const charts = await google.colab.kernel.invokeFunction(\n",
              "                'suggestCharts', [key], {});\n",
              "          } catch (error) {\n",
              "            console.error('Error during call to suggestCharts:', error);\n",
              "          }\n",
              "          quickchartButtonEl.classList.remove('colab-df-spinner');\n",
              "          quickchartButtonEl.classList.add('colab-df-quickchart-complete');\n",
              "        }\n",
              "        (() => {\n",
              "          let quickchartButtonEl =\n",
              "            document.querySelector('#df-b88683ce-7a60-49c9-8952-73e319f1bc51 button');\n",
              "          quickchartButtonEl.style.display =\n",
              "            google.colab.kernel.accessAllowed ? 'block' : 'none';\n",
              "        })();\n",
              "      </script>\n",
              "    </div>\n",
              "\n",
              "    </div>\n",
              "  </div>\n"
            ],
            "application/vnd.google.colaboratory.intrinsic+json": {
              "type": "dataframe",
              "variable_name": "mpg",
              "summary": "{\n  \"name\": \"mpg\",\n  \"rows\": 398,\n  \"fields\": [\n    {\n      \"column\": \"mpg\",\n      \"properties\": {\n        \"dtype\": \"number\",\n        \"std\": 7.815984312565782,\n        \"min\": 9.0,\n        \"max\": 46.6,\n        \"num_unique_values\": 129,\n        \"samples\": [\n          17.7,\n          30.5,\n          30.0\n        ],\n        \"semantic_type\": \"\",\n        \"description\": \"\"\n      }\n    },\n    {\n      \"column\": \"cylinders\",\n      \"properties\": {\n        \"dtype\": \"number\",\n        \"std\": 1,\n        \"min\": 3,\n        \"max\": 8,\n        \"num_unique_values\": 5,\n        \"samples\": [\n          4,\n          5,\n          6\n        ],\n        \"semantic_type\": \"\",\n        \"description\": \"\"\n      }\n    },\n    {\n      \"column\": \"displacement\",\n      \"properties\": {\n        \"dtype\": \"number\",\n        \"std\": 104.26983817119581,\n        \"min\": 68.0,\n        \"max\": 455.0,\n        \"num_unique_values\": 82,\n        \"samples\": [\n          122.0,\n          307.0,\n          360.0\n        ],\n        \"semantic_type\": \"\",\n        \"description\": \"\"\n      }\n    },\n    {\n      \"column\": \"horsepower\",\n      \"properties\": {\n        \"dtype\": \"number\",\n        \"std\": 38.49115993282855,\n        \"min\": 46.0,\n        \"max\": 230.0,\n        \"num_unique_values\": 93,\n        \"samples\": [\n          92.0,\n          100.0,\n          52.0\n        ],\n        \"semantic_type\": \"\",\n        \"description\": \"\"\n      }\n    },\n    {\n      \"column\": \"weight\",\n      \"properties\": {\n        \"dtype\": \"number\",\n        \"std\": 846,\n        \"min\": 1613,\n        \"max\": 5140,\n        \"num_unique_values\": 351,\n        \"samples\": [\n          3730,\n          1995,\n          2215\n        ],\n        \"semantic_type\": \"\",\n        \"description\": \"\"\n      }\n    },\n    {\n      \"column\": \"acceleration\",\n      \"properties\": {\n        \"dtype\": \"number\",\n        \"std\": 2.7576889298126757,\n        \"min\": 8.0,\n        \"max\": 24.8,\n        \"num_unique_values\": 95,\n        \"samples\": [\n          14.7,\n          18.0,\n          14.3\n        ],\n        \"semantic_type\": \"\",\n        \"description\": \"\"\n      }\n    },\n    {\n      \"column\": \"model_year\",\n      \"properties\": {\n        \"dtype\": \"number\",\n        \"std\": 3,\n        \"min\": 70,\n        \"max\": 82,\n        \"num_unique_values\": 13,\n        \"samples\": [\n          81,\n          79,\n          70\n        ],\n        \"semantic_type\": \"\",\n        \"description\": \"\"\n      }\n    },\n    {\n      \"column\": \"origin\",\n      \"properties\": {\n        \"dtype\": \"category\",\n        \"num_unique_values\": 3,\n        \"samples\": [\n          \"usa\",\n          \"japan\",\n          \"europe\"\n        ],\n        \"semantic_type\": \"\",\n        \"description\": \"\"\n      }\n    },\n    {\n      \"column\": \"name\",\n      \"properties\": {\n        \"dtype\": \"string\",\n        \"num_unique_values\": 305,\n        \"samples\": [\n          \"mazda rx-4\",\n          \"ford f108\",\n          \"buick century luxus (sw)\"\n        ],\n        \"semantic_type\": \"\",\n        \"description\": \"\"\n      }\n    }\n  ]\n}"
            }
          },
          "metadata": {},
          "execution_count": 88
        }
      ]
    },
    {
      "cell_type": "markdown",
      "source": [
        "### Inspect and Clean `mpg` Dataset"
      ],
      "metadata": {
        "id": "FFMtZCeuAwNz"
      }
    },
    {
      "cell_type": "code",
      "source": [
        "# Check basic information about the dataset\n",
        "print(\"Dataset Info:\")\n",
        "print(mpg.info())"
      ],
      "metadata": {
        "colab": {
          "base_uri": "https://localhost:8080/"
        },
        "id": "LhkMmu0kAzzV",
        "outputId": "cab0f31f-cf5d-4e51-89d4-c26a52e38643"
      },
      "execution_count": null,
      "outputs": [
        {
          "output_type": "stream",
          "name": "stdout",
          "text": [
            "Dataset Info:\n",
            "<class 'pandas.core.frame.DataFrame'>\n",
            "RangeIndex: 398 entries, 0 to 397\n",
            "Data columns (total 9 columns):\n",
            " #   Column        Non-Null Count  Dtype  \n",
            "---  ------        --------------  -----  \n",
            " 0   mpg           398 non-null    float64\n",
            " 1   cylinders     398 non-null    int64  \n",
            " 2   displacement  398 non-null    float64\n",
            " 3   horsepower    392 non-null    float64\n",
            " 4   weight        398 non-null    int64  \n",
            " 5   acceleration  398 non-null    float64\n",
            " 6   model_year    398 non-null    int64  \n",
            " 7   origin        398 non-null    object \n",
            " 8   name          398 non-null    object \n",
            "dtypes: float64(4), int64(3), object(2)\n",
            "memory usage: 28.1+ KB\n",
            "None\n"
          ]
        }
      ]
    },
    {
      "cell_type": "code",
      "source": [
        "# Check for missing values\n",
        "print(\"\\nMissing Values:\")\n",
        "print(mpg.isnull().sum())"
      ],
      "metadata": {
        "colab": {
          "base_uri": "https://localhost:8080/"
        },
        "id": "EqINYmAYA6uQ",
        "outputId": "cb70889d-e082-4686-8f81-4cef39faabee"
      },
      "execution_count": null,
      "outputs": [
        {
          "output_type": "stream",
          "name": "stdout",
          "text": [
            "\n",
            "Missing Values:\n",
            "mpg             0\n",
            "cylinders       0\n",
            "displacement    0\n",
            "horsepower      6\n",
            "weight          0\n",
            "acceleration    0\n",
            "model_year      0\n",
            "origin          0\n",
            "name            0\n",
            "dtype: int64\n"
          ]
        }
      ]
    },
    {
      "cell_type": "code",
      "source": [
        "# Check for NaN values explicitly\n",
        "print(\"\\nNaN Values:\")\n",
        "print(mpg.isna().sum())"
      ],
      "metadata": {
        "colab": {
          "base_uri": "https://localhost:8080/"
        },
        "id": "Bgtr9UvtBt12",
        "outputId": "4c0fcefb-60a9-4aeb-c4a9-efb7d15e37fc"
      },
      "execution_count": null,
      "outputs": [
        {
          "output_type": "stream",
          "name": "stdout",
          "text": [
            "\n",
            "NaN Values:\n",
            "mpg             0\n",
            "cylinders       0\n",
            "displacement    0\n",
            "horsepower      6\n",
            "weight          0\n",
            "acceleration    0\n",
            "model_year      0\n",
            "origin          0\n",
            "name            0\n",
            "dtype: int64\n"
          ]
        }
      ]
    },
    {
      "cell_type": "code",
      "source": [
        "# Drop rows with any NaN values (inplace modifies the DataFrame directly)\n",
        "mpg.dropna(inplace=True)"
      ],
      "metadata": {
        "id": "YsLO3yQVB8rn"
      },
      "execution_count": null,
      "outputs": []
    },
    {
      "cell_type": "code",
      "source": [
        "# Recheck for NaN values\n",
        "print(\"\\nNaN Values:\")\n",
        "print(mpg.isna().sum())"
      ],
      "metadata": {
        "colab": {
          "base_uri": "https://localhost:8080/"
        },
        "id": "xh4M8VzQB96E",
        "outputId": "5e25d47a-eec4-42a7-db96-8d48de2d63c5"
      },
      "execution_count": null,
      "outputs": [
        {
          "output_type": "stream",
          "name": "stdout",
          "text": [
            "\n",
            "NaN Values:\n",
            "mpg             0\n",
            "cylinders       0\n",
            "displacement    0\n",
            "horsepower      0\n",
            "weight          0\n",
            "acceleration    0\n",
            "model_year      0\n",
            "origin          0\n",
            "name            0\n",
            "dtype: int64\n"
          ]
        }
      ]
    },
    {
      "cell_type": "code",
      "source": [
        "# Check for duplicate rows\n",
        "print(\"Duplicate Rows:\", mpg.duplicated().sum())"
      ],
      "metadata": {
        "colab": {
          "base_uri": "https://localhost:8080/"
        },
        "id": "yi0E4BiuB1os",
        "outputId": "ff8e3baa-84de-4f19-82a7-85275b35dc91"
      },
      "execution_count": null,
      "outputs": [
        {
          "output_type": "stream",
          "name": "stdout",
          "text": [
            "Duplicate Rows: 0\n"
          ]
        }
      ]
    },
    {
      "cell_type": "markdown",
      "source": [
        "### Grouping `mpg` Dataset"
      ],
      "metadata": {
        "id": "D5h4ZMUKBJj7"
      }
    },
    {
      "cell_type": "code",
      "source": [
        "# Apply groupby operation - Average MPG by number of cylinders\n",
        "grouped_mpg = mpg.groupby('origin')['horsepower'].mean()\n",
        "print(\"\\nGrouped MPG by Cylinders:\")\n",
        "print(grouped_mpg)"
      ],
      "metadata": {
        "colab": {
          "base_uri": "https://localhost:8080/"
        },
        "id": "R-l3eCSwBNXl",
        "outputId": "28a0e88c-32c3-4659-a26e-fab7c8d8ad28"
      },
      "execution_count": null,
      "outputs": [
        {
          "output_type": "stream",
          "name": "stdout",
          "text": [
            "\n",
            "Grouped MPG by Cylinders:\n",
            "origin\n",
            "europe     80.558824\n",
            "japan      79.835443\n",
            "usa       119.048980\n",
            "Name: horsepower, dtype: float64\n"
          ]
        }
      ]
    },
    {
      "cell_type": "markdown",
      "source": [
        "### Pivot Table on `mpg` Dataset"
      ],
      "metadata": {
        "id": "w0l7ZjdzBNrB"
      }
    },
    {
      "cell_type": "code",
      "source": [
        "# Apply pivot table - Average MPG by origin and cylinders\n",
        "pivot_mpg = mpg.pivot_table(values='mpg', index='origin', columns='cylinders', aggfunc='mean')\n",
        "print(\"\\nPivot Table - MPG by Origin and Cylinders:\")\n",
        "print(pivot_mpg)"
      ],
      "metadata": {
        "colab": {
          "base_uri": "https://localhost:8080/"
        },
        "id": "8Qyj07QWBcC0",
        "outputId": "4fb4cec6-ce6d-41f3-b73d-95ca78bf6143"
      },
      "execution_count": null,
      "outputs": [
        {
          "output_type": "stream",
          "name": "stdout",
          "text": [
            "\n",
            "Pivot Table - MPG by Origin and Cylinders:\n",
            "cylinders      3          4          5          6          8\n",
            "origin                                                      \n",
            "europe       NaN  28.106557  27.366667  20.100000        NaN\n",
            "japan      20.55  31.595652        NaN  23.883333        NaN\n",
            "usa          NaN  28.013043        NaN  19.645205  14.963107\n"
          ]
        }
      ]
    },
    {
      "cell_type": "markdown",
      "source": [
        "## Exercise 1: Standardizing Names\n",
        "\n",
        "Create a function to **clean names** by:\n",
        "\n",
        "- Removing extra spaces\n",
        "- Converting names to **title case**\n",
        "- Replacing any special characters (e.g., `é` → `e`)\n",
        "\n",
        "Then, use **`apply` with a lambda function** to clean the `\"Name\"` column.\n",
        "\n",
        "```python\n",
        "data = {'Name': [' john doe ', 'Jane SMITH', 'michael O’CONNOR', 'sAm   wilson', 'Mary-jane']}\n",
        "```"
      ],
      "metadata": {
        "id": "Buzguqs9djWy"
      }
    },
    {
      "cell_type": "code",
      "source": [
        "import pandas as pd\n",
        "\n",
        "def clean_names(df):\n",
        "  df['Name'] = df['Name'].apply(lambda x: x.strip().title().replace('é', 'e'))\n",
        "  return df\n",
        "\n",
        "data = {'Name': [' john doe ', 'Jane SMITH', 'michael O’CONNOR', 'sAm   wilson', 'Mary-jane']}\n",
        "df = pd.DataFrame(data)\n",
        "\n",
        "print(\"Original DataFrame:\")\n",
        "print(df)\n",
        "\n",
        "clean_df = clean_names(df)\n",
        "\n",
        "print(\"\\nCleaned DataFrame:\")\n",
        "print(clean_df)"
      ],
      "metadata": {
        "colab": {
          "base_uri": "https://localhost:8080/"
        },
        "id": "HEXirKp2DQTw",
        "outputId": "2fb9e7e4-7955-4ca3-d5bd-f869665f8aa7"
      },
      "execution_count": null,
      "outputs": [
        {
          "output_type": "stream",
          "name": "stdout",
          "text": [
            "Original DataFrame:\n",
            "               Name\n",
            "0         john doe \n",
            "1        Jane SMITH\n",
            "2  michael O’CONNOR\n",
            "3      sAm   wilson\n",
            "4         Mary-jane\n",
            "\n",
            "Cleaned DataFrame:\n",
            "               Name\n",
            "0          John Doe\n",
            "1        Jane Smith\n",
            "2  Michael O’Connor\n",
            "3      Sam   Wilson\n",
            "4         Mary-Jane\n"
          ]
        }
      ]
    },
    {
      "cell_type": "markdown",
      "source": [
        "## Exercise 2: Converting Age to Integers\n",
        "\n",
        "Create a function to:\n",
        "\n",
        "- Convert **text-based numbers** (e.g., `\"twenty-one\"`) into **integers**.\n",
        "- Remove any **non-numeric values**.\n",
        "\n",
        "Then, **apply the function with a lambda** to clean the `\"Age\"` column.\n",
        "\n",
        "```python\n",
        "data = {'Age': ['25', 'Thirty-two', 40, 'twenty-one', 'N/A']}\n",
        "```"
      ],
      "metadata": {
        "id": "Piarx0i5dZh0"
      }
    },
    {
      "cell_type": "code",
      "source": [
        "import pandas as pd\n",
        "\n",
        "def text2num(text):\n",
        "  try:\n",
        "    replace = {\n",
        "        \"thirty-two\": 32,\n",
        "        \"twenty-one\": 21}\n",
        "    text = str(text).lower().strip()\n",
        "    if text in replace:\n",
        "      return replace[text]\n",
        "    return int(text)\n",
        "  except:\n",
        "    return 0\n",
        "\n",
        "data = {'Age': ['25', 'Thirty-two', 40, 'twenty-one', 'N/A']}\n",
        "df = pd.DataFrame(data)\n",
        "\n",
        "print(\"Original DataFrame:\")\n",
        "print(df)\n",
        "\n",
        "df['Clean_Age'] = df['Age'].apply(lambda x: text2num(x))\n",
        "\n",
        "print(\"\\nCleaned DataFrame:\")\n",
        "print(df)"
      ],
      "metadata": {
        "colab": {
          "base_uri": "https://localhost:8080/"
        },
        "id": "v5DBJxwmEHKE",
        "outputId": "14516572-3d3e-4bb8-8859-ea777a2856bb"
      },
      "execution_count": null,
      "outputs": [
        {
          "output_type": "stream",
          "name": "stdout",
          "text": [
            "Original DataFrame:\n",
            "          Age\n",
            "0          25\n",
            "1  Thirty-two\n",
            "2          40\n",
            "3  twenty-one\n",
            "4         N/A\n",
            "\n",
            "Cleaned DataFrame:\n",
            "          Age  Clean_Age\n",
            "0          25         25\n",
            "1  Thirty-two         32\n",
            "2          40         40\n",
            "3  twenty-one         21\n",
            "4         N/A          0\n"
          ]
        }
      ]
    },
    {
      "cell_type": "markdown",
      "source": [
        "## Exercise 3: Cleaning Salary Data\n",
        "\n",
        "Create a function to:\n",
        "\n",
        "- **Remove currency symbols** (`$`, `€`, `₹`).\n",
        "- **Convert text-based salaries** like `\"50K\"` into numbers (`50000`).\n",
        "- Handle missing or invalid values properly.\n",
        "\n",
        "Then, **apply the function with a lambda** to clean the `\"Salary\"` column.\n",
        "\n",
        "```python\n",
        "data = {'Salary': ['$50,000', '€60K', '75000', 'Eighty Thousand', 'N/A']}\n",
        "```"
      ],
      "metadata": {
        "id": "EMa24RwVdME3"
      }
    },
    {
      "cell_type": "code",
      "source": [
        "import pandas as pd\n",
        "\n",
        "def clean_salary(salary):\n",
        "  try:\n",
        "    s = str(salary).lower().strip()\n",
        "\n",
        "    if s == \"eighty thousand\":\n",
        "      return 80000\n",
        "\n",
        "    for sym in [\"$\", \"€\", \"₹\", \",\"]:\n",
        "            s = s.replace(sym, \"\")\n",
        "\n",
        "    if s.endswith(\"k\") and s[:-1].isdigit():\n",
        "      return int(s[:-1]) * 1000\n",
        "\n",
        "    return float(s)\n",
        "  except:\n",
        "    return 0\n",
        "\n",
        "\n",
        "data = {'Salary': ['$50,000', '€60K', '75000', 'Eighty Thousand', 'N/A']}\n",
        "df = pd.DataFrame(data)\n",
        "\n",
        "print(\"Original DataFrame:\")\n",
        "print(df)\n",
        "\n",
        "df['Clean_Salary'] = df['Salary'].apply(lambda x: clean_salary(x))\n",
        "\n",
        "print(\"\\nCleaned DataFrame:\")\n",
        "print(df)"
      ],
      "metadata": {
        "colab": {
          "base_uri": "https://localhost:8080/"
        },
        "id": "gGL2MtF1KRJj",
        "outputId": "4b0c93fe-7658-4a7f-86df-92620496dab1"
      },
      "execution_count": null,
      "outputs": [
        {
          "output_type": "stream",
          "name": "stdout",
          "text": [
            "Original DataFrame:\n",
            "            Salary\n",
            "0          $50,000\n",
            "1             €60K\n",
            "2            75000\n",
            "3  Eighty Thousand\n",
            "4              N/A\n",
            "\n",
            "Cleaned DataFrame:\n",
            "            Salary  Clean_Salary\n",
            "0          $50,000       50000.0\n",
            "1             €60K       60000.0\n",
            "2            75000       75000.0\n",
            "3  Eighty Thousand       80000.0\n",
            "4              N/A           0.0\n"
          ]
        }
      ]
    },
    {
      "cell_type": "markdown",
      "source": [
        "## Exercise 4: Standardizing Dates\n",
        "\n",
        "Create a function to:\n",
        "\n",
        "- Convert **various date formats** into **YYYY-MM-DD**.\n",
        "- Handle missing or incorrectly formatted dates properly.\n",
        "\n",
        "Then, **apply the function with a lambda** to clean the `\"Date Joined\"` column.\n",
        "\n",
        "```python\n",
        "data = {'Date Joined': ['01/15/2020', '2021-02-20', 'March 10, 2019', 'April 25, 20', 'N/A']}\n",
        "```"
      ],
      "metadata": {
        "id": "AL8EmJtec-ZO"
      }
    },
    {
      "cell_type": "code",
      "source": [
        "import pandas as pd\n",
        "\n",
        "def clean_dates(val):\n",
        "  try:\n",
        "    val = pd.to_datetime(val)\n",
        "    return val.strftime('%Y-%m-%d')\n",
        "  except:\n",
        "    return pd.NaT\n",
        "\n",
        "data = {'Date Joined': ['01/15/2020', '2021-02-20', 'March 10, 2019', 'April 25, 20', 'N/A']}\n",
        "df = pd.DataFrame(data)\n",
        "\n",
        "print(\"Original DataFrame:\")\n",
        "print(df)\n",
        "\n",
        "df['Clean_Date'] = df['Date Joined'].apply(lambda x: clean_dates(x))\n",
        "\n",
        "print(\"\\nCleaned DataFrame:\")\n",
        "print(df)"
      ],
      "metadata": {
        "colab": {
          "base_uri": "https://localhost:8080/"
        },
        "id": "XMKCrEOcOKWv",
        "outputId": "089ce975-0a02-441d-cf75-057ebb57292e"
      },
      "execution_count": null,
      "outputs": [
        {
          "output_type": "stream",
          "name": "stdout",
          "text": [
            "Original DataFrame:\n",
            "      Date Joined\n",
            "0      01/15/2020\n",
            "1      2021-02-20\n",
            "2  March 10, 2019\n",
            "3    April 25, 20\n",
            "4             N/A\n",
            "\n",
            "Cleaned DataFrame:\n",
            "      Date Joined  Clean_Date\n",
            "0      01/15/2020  2020-01-15\n",
            "1      2021-02-20  2021-02-20\n",
            "2  March 10, 2019  2019-03-10\n",
            "3    April 25, 20  2020-04-25\n",
            "4             N/A         NaT\n"
          ]
        }
      ]
    }
  ]
}
{
  "nbformat": 4,
  "nbformat_minor": 0,
  "metadata": {
    "colab": {
      "provenance": [],
      "authorship_tag": "ABX9TyPOdafN6JnTjUqRD9+JYZm3",
      "include_colab_link": true
    },
    "kernelspec": {
      "name": "python3",
      "display_name": "Python 3"
    },
    "language_info": {
      "name": "python"
    }
  },
  "cells": [
    {
      "cell_type": "markdown",
      "metadata": {
        "id": "view-in-github",
        "colab_type": "text"
      },
      "source": [
        "<a href=\"https://colab.research.google.com/github/krauseannelize/nb-py-ms-exercises/blob/main/notebooks/24_exercises_set.ipynb\" target=\"_parent\"><img src=\"https://colab.research.google.com/assets/colab-badge.svg\" alt=\"Open In Colab\"/></a>"
      ]
    },
    {
      "cell_type": "markdown",
      "source": [
        "# 24 | Exercises - Set\n",
        "\n",
        "**Sets** are used when you need to store an unordered collection of unique items. Since they are unordered, elements do not have indices and cannot be accessed by position.\n",
        "\n",
        "## Creating a Set"
      ],
      "metadata": {
        "id": "ZaYgS_ixDqUA"
      }
    },
    {
      "cell_type": "code",
      "execution_count": 1,
      "metadata": {
        "colab": {
          "base_uri": "https://localhost:8080/"
        },
        "id": "f0DpG5jRDnxa",
        "outputId": "a003fbff-ce62-4608-c201-afcf3ac50060"
      },
      "outputs": [
        {
          "output_type": "stream",
          "name": "stdout",
          "text": [
            "{1, 2, 3}\n",
            "<class 'set'>\n"
          ]
        }
      ],
      "source": [
        "# Method 1 | Using curly bracket {}\n",
        "# Useful for initializing a set where some values are already known\n",
        "syntax_set = {1, 2, 3}\n",
        "print(syntax_set)\n",
        "print(type(syntax_set))"
      ]
    },
    {
      "cell_type": "code",
      "source": [
        "# Method 2 | Using the set function\n",
        "# Useful when you want to create an empty set or convert a list to a set\n",
        "syntax_set = set([1, 2, 3])\n",
        "print(syntax_set)\n",
        "print(type(syntax_set))"
      ],
      "metadata": {
        "colab": {
          "base_uri": "https://localhost:8080/"
        },
        "id": "xjBvH16HccHe",
        "outputId": "a322b2c7-1628-4e76-f5a6-88b3516337d9"
      },
      "execution_count": 5,
      "outputs": [
        {
          "output_type": "stream",
          "name": "stdout",
          "text": [
            "{1, 2, 3}\n",
            "<class 'set'>\n"
          ]
        }
      ]
    },
    {
      "cell_type": "markdown",
      "source": [
        "As curly brackets `{}` are also used to create dictionaries, at least one element needs to be included."
      ],
      "metadata": {
        "id": "isehFqVSd8_0"
      }
    },
    {
      "cell_type": "code",
      "source": [
        "# no element included, dictionary created\n",
        "empty_set = {}\n",
        "print(empty_set)\n",
        "print(type(empty_set))"
      ],
      "metadata": {
        "colab": {
          "base_uri": "https://localhost:8080/"
        },
        "id": "9-GGPIpYePL9",
        "outputId": "a32ebd18-b8cb-4b8b-ba6f-e23bb00f1dff"
      },
      "execution_count": 8,
      "outputs": [
        {
          "output_type": "stream",
          "name": "stdout",
          "text": [
            "{}\n",
            "<class 'dict'>\n"
          ]
        }
      ]
    },
    {
      "cell_type": "code",
      "source": [
        "empty_set = set()\n",
        "print(empty_set)\n",
        "print(type(empty_set))"
      ],
      "metadata": {
        "colab": {
          "base_uri": "https://localhost:8080/"
        },
        "id": "m1s7rd6ueZ_m",
        "outputId": "452eca4c-c00d-430c-82b4-85b583bf2951"
      },
      "execution_count": 12,
      "outputs": [
        {
          "output_type": "stream",
          "name": "stdout",
          "text": [
            "set()\n",
            "<class 'set'>\n"
          ]
        }
      ]
    },
    {
      "cell_type": "markdown",
      "source": [
        "## No Duplicates\n",
        "\n",
        "Duplicate elements are not allowed in sets and will be ignored."
      ],
      "metadata": {
        "id": "Y_H237qAc7XV"
      }
    },
    {
      "cell_type": "code",
      "source": [
        "# duplicates removed\n",
        "duplicate_set = {1, 1, 2, 2, 3, 3}\n",
        "print(duplicate_set)\n",
        "\n",
        "# element 1 exists so addition not successful\n",
        "duplicate_set.add(1)\n",
        "print(duplicate_set)\n",
        "\n",
        "# element 4 does not exist so addition successful\n",
        "duplicate_set.add(4)\n",
        "print(duplicate_set)"
      ],
      "metadata": {
        "colab": {
          "base_uri": "https://localhost:8080/"
        },
        "id": "wOlxdyO9dHXF",
        "outputId": "01edc68f-4868-44cf-98d7-cb2e76f54d98"
      },
      "execution_count": 7,
      "outputs": [
        {
          "output_type": "stream",
          "name": "stdout",
          "text": [
            "{1, 2, 3}\n",
            "{1, 2, 3}\n",
            "{1, 2, 3, 4}\n"
          ]
        }
      ]
    },
    {
      "cell_type": "markdown",
      "source": [
        "## Set Methods\n",
        "\n",
        "| Method | Description |\n",
        "| --- | --- |\n",
        "| `add` | Adds an element to the set |\n",
        "| `remove` | Remove an element from the set |\n",
        "| `pop` | Remove and return an arbitrary element from the set |\n",
        "| `clear` | Removes all elements from the set |"
      ],
      "metadata": {
        "id": "XQq6v0AwfLRm"
      }
    },
    {
      "cell_type": "code",
      "source": [
        "maniputation_set = {1, 2, 3, 4}\n",
        "print(\"Before:\", maniputation_set)\n",
        "\n",
        "maniputation_set.add(5)\n",
        "print(\"After add:\", maniputation_set)\n",
        "\n",
        "maniputation_set.remove(3)\n",
        "print(\"After remove:\", maniputation_set)\n",
        "\n",
        "removed_element = maniputation_set.pop()\n",
        "print(\"After pop:\", maniputation_set)\n",
        "print(\"Removed element:\", removed_element)\n",
        "\n",
        "maniputation_set.clear()\n",
        "print(\"After clear:\", maniputation_set)"
      ],
      "metadata": {
        "colab": {
          "base_uri": "https://localhost:8080/"
        },
        "id": "N5PlGonAg-4W",
        "outputId": "63b60c51-853e-4826-bb8e-ecc0ae5197aa"
      },
      "execution_count": 15,
      "outputs": [
        {
          "output_type": "stream",
          "name": "stdout",
          "text": [
            "Before: {1, 2, 3, 4}\n",
            "After add: {1, 2, 3, 4, 5}\n",
            "After remove: {1, 2, 4, 5}\n",
            "After pop: {2, 4, 5}\n",
            "Removed element: 1\n",
            "After clear: set()\n"
          ]
        }
      ]
    },
    {
      "cell_type": "markdown",
      "source": [
        "## Common Set Use Cases\n",
        "\n",
        "The most common use case for sets are to remove duplicates from a list.\n",
        "\n",
        "⚠️ Be aware of the unordered nature of sets when the order of the data is important."
      ],
      "metadata": {
        "id": "3RNVkJ-TiAbs"
      }
    },
    {
      "cell_type": "code",
      "source": [
        "original_list = [4, 1, 2, 3, 3, 2, 1, 4]\n",
        "new_set = set(original_list)\n",
        "print(\"Original list:\", original_list)\n",
        "print(\"Converted to a set:\", new_set)\n",
        "# order 4, 1, 2, 3 not retained\n",
        "\n",
        "converted_list = list(new_set)\n",
        "print(\"Converted back to a list:\", converted_list)"
      ],
      "metadata": {
        "colab": {
          "base_uri": "https://localhost:8080/"
        },
        "id": "Es_mYDqHie2X",
        "outputId": "e09bdec5-d5ff-4e6a-c1ce-846de94b1578"
      },
      "execution_count": 18,
      "outputs": [
        {
          "output_type": "stream",
          "name": "stdout",
          "text": [
            "Original list: [4, 1, 2, 3, 3, 2, 1, 4]\n",
            "Converted to a set: {1, 2, 3, 4}\n",
            "Converted back to a list: [1, 2, 3, 4]\n"
          ]
        }
      ]
    },
    {
      "cell_type": "markdown",
      "source": [
        "## Membership Testing\n",
        "\n",
        "The `in` and `not in` operators can be used to test membership in a set."
      ],
      "metadata": {
        "id": "ScLk7ODMkIlJ"
      }
    },
    {
      "cell_type": "code",
      "source": [
        "members_set = {\"Adam\", \"John\", \"Peter\"}\n",
        "\n",
        "if \"Adam\" in members_set:\n",
        "    print(\"Adam is a member\")\n",
        "else:\n",
        "    print(\"Adam is not a member\")"
      ],
      "metadata": {
        "colab": {
          "base_uri": "https://localhost:8080/"
        },
        "id": "u8ugvKvXkee_",
        "outputId": "31a37db8-1b5b-4ea1-a287-1eef5de5f931"
      },
      "execution_count": 20,
      "outputs": [
        {
          "output_type": "stream",
          "name": "stdout",
          "text": [
            "Adam is a member\n"
          ]
        }
      ]
    },
    {
      "cell_type": "markdown",
      "source": [
        "## Sets Versus Lists & Dictionaries\n",
        "\n",
        "### Similarities\n",
        "\n",
        "- mutable\n",
        "- dynamic sizing\n",
        "- iterable\n",
        "\n",
        "### Differences from Lists\n",
        "\n",
        "| Sets | Lists |\n",
        "| --- | --- |\n",
        "| Must be unique | Duplicates allowed |\n",
        "| Only immutable types (cannot be changed) | Any data type |\n",
        "| Unordered | Ordered |\n",
        "| Faster membership testing | Slower membership testing |\n",
        "| Slower iteration | Faster iteration |\n",
        "\n",
        "### Difference from Dictionaries\n",
        "\n",
        "| Sets | Dictionaries |\n",
        "| --- | --- |\n",
        "| Only immutable types (cannot be changed) | Keys must be immutable, values can be any type |\n",
        "| Elements must be unique | Keys must be unique, values can be duplicated |\n",
        "| Finding an element by value is fast | Finding an element by key is fast, but by value is slow |\n",
        "| Unordered\t| Insertion-ordered |"
      ],
      "metadata": {
        "id": "Mdalaa8BmD77"
      }
    },
    {
      "cell_type": "markdown",
      "source": [
        "## Set Operations\n",
        "\n",
        "### Union\n",
        "\n",
        "Combines all unique elements from both sets.\n",
        "\n",
        "💡 Think SQL `UNION`"
      ],
      "metadata": {
        "id": "wAwPr0kXpaXt"
      }
    },
    {
      "cell_type": "code",
      "source": [
        "first_set = {1, 2, 3, 4}\n",
        "second_set = {3, 4, 5, 6}\n",
        "\n",
        "union_set = first_set.union(second_set)\n",
        "print(union_set)"
      ],
      "metadata": {
        "colab": {
          "base_uri": "https://localhost:8080/"
        },
        "id": "OS-Hfj3Opn54",
        "outputId": "3725ee4a-180f-4b09-8797-cd6e4940ed58"
      },
      "execution_count": 27,
      "outputs": [
        {
          "output_type": "stream",
          "name": "stdout",
          "text": [
            "{1, 2, 3, 4, 5, 6}\n"
          ]
        }
      ]
    },
    {
      "cell_type": "markdown",
      "source": [
        "### Intersection\n",
        "\n",
        "Finds elements that are common to both sets.\n",
        "\n",
        "💡 Think SQL `INNER JOIN`"
      ],
      "metadata": {
        "id": "WA3sc_xLpumc"
      }
    },
    {
      "cell_type": "code",
      "source": [
        "first_set = {1, 2, 3, 4}\n",
        "second_set = {3, 4, 5, 6}\n",
        "\n",
        "intersection_set = first_set.intersection(second_set)\n",
        "print(intersection_set)"
      ],
      "metadata": {
        "colab": {
          "base_uri": "https://localhost:8080/"
        },
        "id": "zWfJkZEcp6cy",
        "outputId": "77f7e8ae-006f-4fb2-a792-ec886b37601c"
      },
      "execution_count": 28,
      "outputs": [
        {
          "output_type": "stream",
          "name": "stdout",
          "text": [
            "{3, 4}\n"
          ]
        }
      ]
    },
    {
      "cell_type": "markdown",
      "source": [
        "### Symmetric Difference\n",
        "\n",
        "Finds elements that are in either set, but not in both.\n",
        "\n",
        "💡 Think SQL `FULL OUTER JOIN` with `WHERE` excluding `INNER JOIN`,"
      ],
      "metadata": {
        "id": "dP-mkealqCIm"
      }
    },
    {
      "cell_type": "code",
      "source": [
        "first_set = {1, 2, 3, 4}\n",
        "second_set = {3, 4, 5, 6}\n",
        "\n",
        "symmetric_difference_set = first_set.symmetric_difference(second_set)\n",
        "print(symmetric_difference_set)"
      ],
      "metadata": {
        "colab": {
          "base_uri": "https://localhost:8080/"
        },
        "id": "SLySSVuetLq7",
        "outputId": "30845116-658f-46a4-de51-ae5663cb439d"
      },
      "execution_count": 29,
      "outputs": [
        {
          "output_type": "stream",
          "name": "stdout",
          "text": [
            "{1, 2, 5, 6}\n"
          ]
        }
      ]
    },
    {
      "cell_type": "markdown",
      "source": [
        "## Exercise 1\n",
        "\n",
        "Create a variable called `my_set` and assign it to a set with 5 numbers:"
      ],
      "metadata": {
        "id": "Qw3RaiRbbl2x"
      }
    },
    {
      "cell_type": "code",
      "source": [
        "my_set = {1, 2, 3, 4, 5}\n",
        "print(my_set)"
      ],
      "metadata": {
        "colab": {
          "base_uri": "https://localhost:8080/"
        },
        "id": "WaHemDw7bs7A",
        "outputId": "c29dea61-63b9-4597-bccb-f3b9bf66e565"
      },
      "execution_count": 3,
      "outputs": [
        {
          "output_type": "stream",
          "name": "stdout",
          "text": [
            "{1, 2, 3, 4, 5}\n"
          ]
        }
      ]
    },
    {
      "cell_type": "markdown",
      "source": [
        "## Exercise 2\n",
        "\n",
        "Create a variable called `duplicate_set` and assign it to a set with the number 1, 1, 2, 2, 3, 3. What numbers will be in the set?"
      ],
      "metadata": {
        "id": "FTsljJctb047"
      }
    },
    {
      "cell_type": "code",
      "source": [
        "duplicate_set = {1, 1, 2, 2, 3, 3}\n",
        "print(duplicate_set)"
      ],
      "metadata": {
        "colab": {
          "base_uri": "https://localhost:8080/"
        },
        "id": "5T8hXQG8b5Sw",
        "outputId": "5f5cccd5-0c14-47b0-ce47-2da156dbaea0"
      },
      "execution_count": 4,
      "outputs": [
        {
          "output_type": "stream",
          "name": "stdout",
          "text": [
            "{1, 2, 3}\n"
          ]
        }
      ]
    },
    {
      "cell_type": "markdown",
      "source": [
        "## Exercise 3\n",
        "\n",
        "Given the set my_set, follow the instructions in the comments to solve this task.\n",
        "\n",
        "```python\n",
        "my_set = {1, 3, 5, 6}\n",
        "# add a number that is already in the set\n",
        "\n",
        "print(my_set)\n",
        "# add a number that is NOT already in the set\n",
        "\n",
        "print(my_set)\n",
        "# pop one element out of the set\n",
        "\n",
        "print(my_set)\n",
        "# clear the set\n",
        "```"
      ],
      "metadata": {
        "id": "64dt3OwfhX9w"
      }
    },
    {
      "cell_type": "code",
      "source": [
        "my_set = {1, 3, 5, 6}\n",
        "# add a number that is already in the set\n",
        "my_set.add(1)\n",
        "print(my_set)\n",
        "# add a number that is NOT already in the set\n",
        "my_set.add(4)\n",
        "print(my_set)\n",
        "# pop one element out of the set\n",
        "my_set.pop()\n",
        "print(my_set)\n",
        "# clear the set\n",
        "my_set.clear()\n",
        "print(my_set)"
      ],
      "metadata": {
        "colab": {
          "base_uri": "https://localhost:8080/"
        },
        "id": "QW2yGDeThgxk",
        "outputId": "c1e4de10-a5b6-4293-fa3a-2c0c384b9be5"
      },
      "execution_count": 16,
      "outputs": [
        {
          "output_type": "stream",
          "name": "stdout",
          "text": [
            "{1, 3, 5, 6}\n",
            "{1, 3, 4, 5, 6}\n",
            "{3, 4, 5, 6}\n",
            "set()\n"
          ]
        }
      ]
    },
    {
      "cell_type": "markdown",
      "source": [
        "## Exercise 4\n",
        "\n",
        "Remove the duplicates from the array `original_list` and store in the variable `my_unique_list`. Make sure `unique_list` is a list: `original_list = [3, 2, 1, 1, 2, 3, 4, 5]`"
      ],
      "metadata": {
        "id": "bbF4mj6ajkZF"
      }
    },
    {
      "cell_type": "code",
      "source": [
        "original_list = [3, 2, 1, 1, 2, 3, 4, 5]\n",
        "my_unique_list = list(set(original_list))\n",
        "print(type(my_unique_list))"
      ],
      "metadata": {
        "colab": {
          "base_uri": "https://localhost:8080/"
        },
        "id": "krWKRigujunS",
        "outputId": "07fe13fc-9b78-433a-e88a-a3c58b0814c7"
      },
      "execution_count": 19,
      "outputs": [
        {
          "output_type": "stream",
          "name": "stdout",
          "text": [
            "<class 'list'>\n"
          ]
        }
      ]
    },
    {
      "cell_type": "markdown",
      "source": [
        "## Exercise 5\n",
        "\n",
        "Complete the function `is_friendly` that returns True if the insect is in the `friendly_insects` set and `False` if it is not: `friendly_insects = {\"ladybug\", \"butterfly\", \"bee\"}`"
      ],
      "metadata": {
        "id": "B0ykHU97ktjq"
      }
    },
    {
      "cell_type": "code",
      "source": [
        "friendly_insects = {\"ladybug\", \"butterfly\", \"bee\"}\n",
        "\n",
        "def is_friendly(insect):\n",
        "    if insect in friendly_insects:\n",
        "        return True\n",
        "    else:\n",
        "        return False\n",
        "\n",
        "print(is_friendly(\"ladybug\"))\n",
        "print(is_friendly(\"fly\"))"
      ],
      "metadata": {
        "colab": {
          "base_uri": "https://localhost:8080/"
        },
        "id": "_yA9k4wPk0uE",
        "outputId": "5e6c1e9e-e0ed-4f5c-b11b-8b3a4b824a32"
      },
      "execution_count": 22,
      "outputs": [
        {
          "output_type": "stream",
          "name": "stdout",
          "text": [
            "True\n",
            "False\n"
          ]
        }
      ]
    },
    {
      "cell_type": "markdown",
      "source": [
        "## Exercise 6\n",
        "\n",
        "Given a list of animals, use a set to check if there are duplicates in the list. Assign the result to the variable `has_duplicates`: `animals = [\"ladybug\", \"butterfly\", \"bee\", \"grasshopper\", \"ladybug\"]`"
      ],
      "metadata": {
        "id": "I5FTqcj1lLN4"
      }
    },
    {
      "cell_type": "code",
      "source": [
        "animals = [\"ladybug\", \"butterfly\", \"bee\", \"grasshopper\", \"ladybug\"]\n",
        "\n",
        "has_duplicates = len(animals) != len(set(animals))\n",
        "print(has_duplicates)"
      ],
      "metadata": {
        "colab": {
          "base_uri": "https://localhost:8080/"
        },
        "id": "uaGltqXqlcc_",
        "outputId": "c03228be-aefb-48af-8a50-f5b460cc7dab"
      },
      "execution_count": 23,
      "outputs": [
        {
          "output_type": "stream",
          "name": "stdout",
          "text": [
            "True\n"
          ]
        }
      ]
    },
    {
      "cell_type": "markdown",
      "source": [
        "## Exercise 7\n",
        "\n",
        "Find the union of the four sets and assign it to the variable `union_set`.\n",
        "\n",
        "```python\n",
        "set_1 = {1, 8, 5, 7}\n",
        "set_2 = {1, 8, 2, 3, 4, 8}\n",
        "set_3 = {1, 8, 5, 6, 8}\n",
        "set_4 = {0, 1, 2, 3, 4, 5}\n",
        "\n",
        "union_set = set_1\n",
        "```"
      ],
      "metadata": {
        "id": "BpJB8UEywm59"
      }
    },
    {
      "cell_type": "code",
      "source": [
        "set_1 = {1, 8, 5, 7}\n",
        "set_2 = {1, 8, 2, 3, 4, 8}\n",
        "set_3 = {1, 8, 5, 6, 8}\n",
        "set_4 = {0, 1, 2, 3, 4, 5}\n",
        "\n",
        "union_set = set_1.union(set_2, set_3, set_4)\n",
        "print(union_set)"
      ],
      "metadata": {
        "colab": {
          "base_uri": "https://localhost:8080/"
        },
        "id": "9xhuWXUHwwXP",
        "outputId": "01cb78e1-35e6-4096-8ff9-61d18160ba23"
      },
      "execution_count": 30,
      "outputs": [
        {
          "output_type": "stream",
          "name": "stdout",
          "text": [
            "{0, 1, 2, 3, 4, 5, 6, 7, 8}\n"
          ]
        }
      ]
    },
    {
      "cell_type": "markdown",
      "source": [
        "## Exercise 8\n",
        "\n",
        "Finn and his friends are trying to agree on what food they want to order. Find the food they all have in common and assign it to the variable `intersection_set`.\n",
        "\n",
        "```python\n",
        "food_finn_likes = {\"sushi\", \"pizza\", \"thai\", \"greek\"}\n",
        "food_jake_likes = {\"thai\", \"italian\", \"salad\", \"greek\", \"sushi\"}\n",
        "food_marceline_likes = {\"chocolate\", \"cocoa\", \"thai\", \"marshmallows\"}\n",
        "\n",
        "intersection_set = food_finn_likes          # Add your code here\n",
        "\n",
        "print(intersection_set)\n",
        "```"
      ],
      "metadata": {
        "id": "ZiqaXU0bw9zU"
      }
    },
    {
      "cell_type": "code",
      "source": [
        "food_finn_likes = {\"sushi\", \"pizza\", \"thai\", \"greek\"}\n",
        "food_jake_likes = {\"thai\", \"italian\", \"salad\", \"greek\", \"sushi\"}\n",
        "food_marceline_likes = {\"chocolate\", \"cocoa\", \"thai\", \"marshmallows\"}\n",
        "\n",
        "intersection_set = food_finn_likes.intersection(food_jake_likes, food_marceline_likes)\n",
        "\n",
        "print(intersection_set)"
      ],
      "metadata": {
        "colab": {
          "base_uri": "https://localhost:8080/"
        },
        "id": "yob7LCASxF3p",
        "outputId": "87676a67-44cc-4aab-9e03-d2178718ac70"
      },
      "execution_count": 31,
      "outputs": [
        {
          "output_type": "stream",
          "name": "stdout",
          "text": [
            "{'thai'}\n"
          ]
        }
      ]
    },
    {
      "cell_type": "markdown",
      "source": [
        "## Exercise 9\n",
        "\n",
        "You are planning a movie night where you’ll show _Wayne’s World 1_ and _Wayne’s World 2_. Some people have only purchased tickets to one movie, while others have purchased tickets to both.\n",
        "Find the people who have only purchased tickets to one movie and assign them to the variable `offer_promotion_to`.\n",
        "\n",
        "```python\n",
        "movie_1 = {\"Alice\", \"Bob\", \"David\", \"Ella\", \"Frank\", \"Isla\", \"James\"}\n",
        "movie_2 = {\"Alice\", \"Bob\", \"Chloe\", \"Ella\", \"Frank\", \"Grace\", \"Henry\", \"James\"}\n",
        "\n",
        "offer_promotion_to = movie_1  ## Add your code here\n",
        "\n",
        "print(offer_promotion_to)\n",
        "```"
      ],
      "metadata": {
        "id": "7a5m-SUXxOUg"
      }
    },
    {
      "cell_type": "code",
      "source": [
        "movie_1 = {\"Alice\", \"Bob\", \"David\", \"Ella\", \"Frank\", \"Isla\", \"James\"}\n",
        "movie_2 = {\"Alice\", \"Bob\", \"Chloe\", \"Ella\", \"Frank\", \"Grace\", \"Henry\", \"James\"}\n",
        "\n",
        "offer_promotion_to = movie_1.symmetric_difference(movie_2)\n",
        "\n",
        "print(offer_promotion_to)"
      ],
      "metadata": {
        "colab": {
          "base_uri": "https://localhost:8080/"
        },
        "id": "eIbLdjmpxdK9",
        "outputId": "a443fe4e-e40f-4658-9ee3-363d73f086e4"
      },
      "execution_count": 32,
      "outputs": [
        {
          "output_type": "stream",
          "name": "stdout",
          "text": [
            "{'Henry', 'David', 'Isla', 'Grace', 'Chloe'}\n"
          ]
        }
      ]
    },
    {
      "cell_type": "markdown",
      "source": [
        "## Exercise 10\n",
        "\n",
        "You want to count the number of unique visitors to your website. Given the following list of website visit IDs, create a collection with only unique visitor IDs and assign it to the variable “unique_visitors”.\n",
        "\n",
        "```python\n",
        "website_visitors = [524, 335, 306, 28, 42, 181, 463, 45, 45, 524, 28, 42]\n",
        "\n",
        "unique_visitors = website_visitors # change this line\n",
        "\n",
        "print(unique_visitors)\n",
        "```"
      ],
      "metadata": {
        "id": "7bmnCbLsxnGN"
      }
    },
    {
      "cell_type": "code",
      "source": [
        "website_visitors = [524, 335, 306, 28, 42, 181, 463, 45, 45, 524, 28, 42]\n",
        "\n",
        "unique_visitors = set(website_visitors)\n",
        "\n",
        "print(unique_visitors)"
      ],
      "metadata": {
        "colab": {
          "base_uri": "https://localhost:8080/"
        },
        "id": "Q4qclvjuxuS8",
        "outputId": "3cd39b75-13a0-4c95-be2b-88e9a83fb014"
      },
      "execution_count": 33,
      "outputs": [
        {
          "output_type": "stream",
          "name": "stdout",
          "text": [
            "{42, 524, 45, 335, 463, 306, 181, 28}\n"
          ]
        }
      ]
    },
    {
      "cell_type": "markdown",
      "source": [
        "## Exercise 11\n",
        "\n",
        "You have created a dating website and want to match people based on their interests. Given an individual (“main_person”) and two options (“option_1” and “option_2”), use set operations to determine which person has the most shared interests.\n",
        "\n",
        "```python\n",
        "main_person = {\"football\", \"wine\", \"reading\", \"travel\", \"swimming\", \"golf\", \"fashion\", \"long term dating\"}\n",
        "option_1 = {\"movies\", \"math\", \"netflix\", \"short term dating\", \"fashion\", \"wine\", \"golf\", }\n",
        "option_2 = {\"travel\", \"long term dating\", \"golf\", \"fashion\"}\n",
        "\n",
        "shared_interests_with_option_1 = main_person # change this line\n",
        "print(shared_interests_with_option_1)\n",
        "\n",
        "shared_interests_with_option_2 = main_person # change this line\n",
        "print(shared_interests_with_option_2)\n",
        "\n",
        "if len(shared_interests_with_option_1) > len(shared_interests_with_option_2):\n",
        "   print (\"Option 1 is the best match\")\n",
        "elif len(shared_interests_with_option_1) < len(shared_interests_with_option_2):\n",
        "   print (\"Option 2 is the best match\")\n",
        "else:\n",
        "   print (\"Both options are equally good\")\n",
        "```"
      ],
      "metadata": {
        "id": "pN2zZGgPx8Cr"
      }
    },
    {
      "cell_type": "code",
      "source": [
        "main_person = {\"football\", \"wine\", \"reading\", \"travel\", \"swimming\", \"golf\", \"fashion\", \"long term dating\"}\n",
        "option_1 = {\"movies\", \"math\", \"netflix\", \"short term dating\", \"fashion\", \"wine\", \"golf\", }\n",
        "option_2 = {\"travel\", \"long term dating\", \"golf\", \"fashion\"}\n",
        "\n",
        "shared_interests_with_option_1 = main_person.intersection(option_1)\n",
        "print(shared_interests_with_option_1)\n",
        "\n",
        "shared_interests_with_option_2 = main_person.intersection(option_2)\n",
        "print(shared_interests_with_option_2)\n",
        "\n",
        "if len(shared_interests_with_option_1) > len(shared_interests_with_option_2):\n",
        "   print (\"Option 1 is the best match\")\n",
        "elif len(shared_interests_with_option_1) < len(shared_interests_with_option_2):\n",
        "   print (\"Option 2 is the best match\")\n",
        "else:\n",
        "   print (\"Both options are equally good\")"
      ],
      "metadata": {
        "colab": {
          "base_uri": "https://localhost:8080/"
        },
        "id": "hkcoJWK9yBIg",
        "outputId": "6c441eae-feab-4dd3-c88b-b08dc0a52842"
      },
      "execution_count": 35,
      "outputs": [
        {
          "output_type": "stream",
          "name": "stdout",
          "text": [
            "{'wine', 'fashion', 'golf'}\n",
            "{'golf', 'fashion', 'long term dating', 'travel'}\n",
            "Option 2 is the best match\n"
          ]
        }
      ]
    },
    {
      "cell_type": "markdown",
      "source": [
        "## Exercise 12\n",
        "\n",
        "When nominating a candidate for an election, a voter can write in any name. Only one nomination is needed for a candidate to appear on the ballot.\n",
        "\n",
        "Given the following lists of write-in nominations from different polls, create a set with no repeat nominations and assign it to the variable “unique_nominations”.\n",
        "\n",
        "```python\n",
        "poll_a = [\"Maxwell Sterling\", \"Maxwell Sterling\", \"Harriet Vane\", \"Leonora Quint\", \"Harriet Vane\", \"Maxwell Sterling\"]\n",
        "poll_b = [\"Harriet Vane\", \"Vincent Thorne\", \"Harriet Vane\", \"Selina Morrow\", \"Harriet Vane\", \"Harriet Vane\"]\n",
        "poll_c = [\"Selina Morrow\", \"Jasper Creed\", \"Selina Morrow\", \"Jasper Creed\", \"Selina Morrow\", \"Maxwell Sterling\"]\n",
        "\n",
        "unique_nominations =             # change this line\n",
        "\n",
        "print(unique_nominations)\n",
        "```"
      ],
      "metadata": {
        "id": "o6N66untyyUv"
      }
    },
    {
      "cell_type": "code",
      "source": [
        "poll_a = [\"Maxwell Sterling\", \"Maxwell Sterling\", \"Harriet Vane\", \"Leonora Quint\", \"Harriet Vane\", \"Maxwell Sterling\"]\n",
        "poll_b = [\"Harriet Vane\", \"Vincent Thorne\", \"Harriet Vane\", \"Selina Morrow\", \"Harriet Vane\", \"Harriet Vane\"]\n",
        "poll_c = [\"Selina Morrow\", \"Jasper Creed\", \"Selina Morrow\", \"Jasper Creed\", \"Selina Morrow\", \"Maxwell Sterling\"]\n",
        "\n",
        "unique_nominations = set(poll_a + poll_b + poll_c)\n",
        "\n",
        "print(unique_nominations)"
      ],
      "metadata": {
        "colab": {
          "base_uri": "https://localhost:8080/"
        },
        "id": "ATmm9Fsqy8Uj",
        "outputId": "880cb026-fdca-4527-eb86-77a071a096f9"
      },
      "execution_count": 36,
      "outputs": [
        {
          "output_type": "stream",
          "name": "stdout",
          "text": [
            "{'Leonora Quint', 'Harriet Vane', 'Selina Morrow', 'Jasper Creed', 'Vincent Thorne', 'Maxwell Sterling'}\n"
          ]
        }
      ]
    }
  ]
}
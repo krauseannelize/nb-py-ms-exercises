{
  "nbformat": 4,
  "nbformat_minor": 0,
  "metadata": {
    "colab": {
      "provenance": [],
      "authorship_tag": "ABX9TyMvFxbQUQYtINLbh1710WBx",
      "include_colab_link": true
    },
    "kernelspec": {
      "name": "python3",
      "display_name": "Python 3"
    },
    "language_info": {
      "name": "python"
    }
  },
  "cells": [
    {
      "cell_type": "markdown",
      "metadata": {
        "id": "view-in-github",
        "colab_type": "text"
      },
      "source": [
        "<a href=\"https://colab.research.google.com/github/krauseannelize/nb-py-ms-exercises/blob/main/notebooks/16_recap_python_fundamentals.ipynb\" target=\"_parent\"><img src=\"https://colab.research.google.com/assets/colab-badge.svg\" alt=\"Open In Colab\"/></a>"
      ]
    },
    {
      "cell_type": "markdown",
      "source": [
        "# 16 | Recap: Python Fundamentals\n",
        "\n",
        "## Functions\n",
        "\n",
        "The `try` and `except` block is used for **error handling**, allowing your program to continue running even when something unexpected happens.\n",
        "\n",
        "- The `try` block contains the code that you want to execute. If an error occurs here, Python immediately stops the `try` block and looks for an `except` block.\n",
        "- The `except` block contains the code that will run if an error is encountered in the `try` block. This allows your program to handle the problem gracefully instead of crashing.\n",
        "\n",
        "### Exercise 1\n",
        "\n",
        "Write a Python function called `square_number` that:\n",
        "\n",
        "- Takes a single input from the user, prompting them to \"Enter a number: \"\n",
        "- Converts the user's input to an integer.\n",
        "- Calculates the square of that number.\n",
        "- Returns the calculated square.\n",
        "- Handles exceptions: If the user enters something that cannot be converted to an integer (like text), the function should print the message \"Invalid input. Please enter a whole number.\" and return `None`."
      ],
      "metadata": {
        "id": "kRo0kn5nmC1B"
      }
    },
    {
      "cell_type": "code",
      "execution_count": 2,
      "metadata": {
        "colab": {
          "base_uri": "https://localhost:8080/"
        },
        "id": "JBPD7dbFl9lz",
        "outputId": "bf0d7ed0-25dd-4761-dc3f-85227d2e5921"
      },
      "outputs": [
        {
          "output_type": "stream",
          "name": "stdout",
          "text": [
            "Enter a number: 6\n",
            "The square is:  36\n"
          ]
        }
      ],
      "source": [
        "def square_number():\n",
        "  try:\n",
        "    user_input = input('Enter a number: ')\n",
        "    number = int(user_input)\n",
        "    square = number * number # alternatively: number ** 2\n",
        "    return square\n",
        "  except ValueError:\n",
        "    print('Invalid input. Please enter a whole number')\n",
        "    return None\n",
        "\n",
        "# checking with an input\n",
        "result = square_number()\n",
        "if result is not None:\n",
        "  print('The square is: ', result)"
      ]
    },
    {
      "cell_type": "markdown",
      "source": [
        "## Exercise 2\n",
        "\n",
        "Create a Python function named `divide_numbers` that:\n",
        "\n",
        "- Takes two inputs from the user:\n",
        "  - the numerator and\n",
        "  - the denominator.\n",
        "- Prompt them with \"Enter the numerator: \" and \"Enter the denominator: \", respectively.\n",
        "- Converts both inputs to floating-point numbers.\n",
        "- Divides the numerator by the denominator.\n",
        "- Returns the result of the division.\n",
        "- Handles exceptions: If the user enters something that cannot be converted to a number, print \"Invalid input. Please enter numbers only.\" and return None. If the denominator is zero, print \"Cannot divide by zero.\" and return `None`."
      ],
      "metadata": {
        "id": "M8ppcRnkrqrs"
      }
    },
    {
      "cell_type": "code",
      "source": [
        "def divide_numbers():\n",
        "  try:\n",
        "    numerator = input('Enter the numerator: ')\n",
        "    denumenator = input('Enter the denumenator: ')\n",
        "    numerator = float(numerator)\n",
        "    denumenator = float(denumenator)\n",
        "    if denumenator == 0:\n",
        "      print('Cannot divide by Zero')\n",
        "      return None\n",
        "    result = numerator / denumenator\n",
        "    return result\n",
        "  except ValueError:\n",
        "    print('Invalid input. Please enter numbers only')\n",
        "    return None\n",
        "\n",
        "result = divide_numbers()\n",
        "if result is not None:\n",
        "  print('The result of the division is', result)"
      ],
      "metadata": {
        "colab": {
          "base_uri": "https://localhost:8080/"
        },
        "id": "fyEaXMq0sFEy",
        "outputId": "7483a7b7-692f-47d5-f637-39849f251988"
      },
      "execution_count": 5,
      "outputs": [
        {
          "output_type": "stream",
          "name": "stdout",
          "text": [
            "Enter the numerator: 12\n",
            "Enter the denumenator: 3\n",
            "The result of the division is 4.0\n"
          ]
        }
      ]
    },
    {
      "cell_type": "markdown",
      "source": [
        "## Operators & Conditional Statements\n",
        "\n",
        "### Exercise 3\n",
        "\n",
        "Check if a number is even or odd."
      ],
      "metadata": {
        "id": "p1Naif_xsakS"
      }
    },
    {
      "cell_type": "code",
      "source": [
        "num = 9\n",
        "if num % 2 == 0:\n",
        "    print(f\"{num} is an even number\")\n",
        "else:\n",
        "    print(f\"{num} is an odd number\")"
      ],
      "metadata": {
        "colab": {
          "base_uri": "https://localhost:8080/"
        },
        "id": "_WtkQYtLsi8p",
        "outputId": "46ff202e-fada-49f4-9b24-95daf21fc7d8"
      },
      "execution_count": 6,
      "outputs": [
        {
          "output_type": "stream",
          "name": "stdout",
          "text": [
            "9 is an odd number\n"
          ]
        }
      ]
    },
    {
      "cell_type": "markdown",
      "source": [
        "### Exercise 4\n",
        "\n",
        "Build a discount calculator that gives 10% off on purchases over $100. Everything else receives a 5% discount."
      ],
      "metadata": {
        "id": "QBVbfW7Qsovj"
      }
    },
    {
      "cell_type": "code",
      "source": [
        "purchase = 80\n",
        "if purchase > 100:\n",
        "  discount = 0.10\n",
        "else:\n",
        "  discount = 0.05\n",
        "final_price = purchase * (1 - discount)\n",
        "print(f'Final price: ${final_price:.2f}')"
      ],
      "metadata": {
        "colab": {
          "base_uri": "https://localhost:8080/"
        },
        "id": "RmiUgip1s07B",
        "outputId": "7ee687c8-2d7e-4bf0-fd6d-4bda89fad9af"
      },
      "execution_count": 7,
      "outputs": [
        {
          "output_type": "stream",
          "name": "stdout",
          "text": [
            "Final price: $76.00\n"
          ]
        }
      ]
    },
    {
      "cell_type": "markdown",
      "source": [
        "## Strings and Lists in Python\n",
        "\n",
        "### Exercise 5\n",
        "\n",
        "Write a function `find_common(list1, list2)` that takes two lists and returns a new list containing elements that are common in both lists. Use the `in` operator."
      ],
      "metadata": {
        "id": "Pfb5_IrmyBBa"
      }
    },
    {
      "cell_type": "code",
      "source": [
        "def find_common(list1, list2):\n",
        "  common = []\n",
        "  for item in list1:\n",
        "    if item in list2:\n",
        "      common.append(item)\n",
        "  return common\n",
        "\n",
        "# testing the function\n",
        "list1 = [\"apple\", \"pear\", \"kiwi\", \"mango\", \"lemon\", \"lime\"]\n",
        "list2 = [\"lemon\", \"banana\", \"pear\", \"mango\", \"grape\", \"orange\"]\n",
        "print(find_common(list1,list2))"
      ],
      "metadata": {
        "colab": {
          "base_uri": "https://localhost:8080/"
        },
        "id": "Zo0oLKHKyLXi",
        "outputId": "54100c24-7a4f-4e57-c0d6-e086401c6eab"
      },
      "execution_count": 8,
      "outputs": [
        {
          "output_type": "stream",
          "name": "stdout",
          "text": [
            "['pear', 'mango', 'lemon']\n"
          ]
        }
      ]
    },
    {
      "cell_type": "markdown",
      "source": [
        "### Exercise 6\n",
        "\n",
        "Check if a substring exists in a string."
      ],
      "metadata": {
        "id": "QuuDsEPgyr3d"
      }
    },
    {
      "cell_type": "code",
      "source": [
        "def check_substring(text, substring):\n",
        "  if substring in text:\n",
        "    return f\"'{substring}' found in text.\"\n",
        "  else:\n",
        "    return f\"'{substring}' not found in text.\"\n",
        "\n",
        "# tesing the function\n",
        "text = \"Hello, darkness, my old friend. I've come to talk with you again\"\n",
        "print(check_substring(text, 'old'))\n",
        "print(check_substring(text, 'young'))"
      ],
      "metadata": {
        "colab": {
          "base_uri": "https://localhost:8080/"
        },
        "id": "EvL6cRneyuKR",
        "outputId": "94ff06fd-cc78-4c31-adf8-78e9f73d9d5e"
      },
      "execution_count": 9,
      "outputs": [
        {
          "output_type": "stream",
          "name": "stdout",
          "text": [
            "'old' found in text.\n",
            "'young' not found in text.\n"
          ]
        }
      ]
    },
    {
      "cell_type": "markdown",
      "source": [
        "## Iterations with Loops\n",
        "\n",
        "### Exercise 7\n",
        "\n",
        "Write a function that takes a string as input and returns a new string where the order of words is reversed. Assume words are separated by spaces.\n",
        "\n",
        "- `reverse_words(\"This is a sentence\")`\n",
        "- Should return \"sentence a is This\""
      ],
      "metadata": {
        "id": "cYUey2tyzcsU"
      }
    },
    {
      "cell_type": "code",
      "source": [
        "def reverse_words(text):\n",
        "  words = text.split()  # splits into a list of word\n",
        "  reversed_words = []  # empty list to hold the reversed word\n",
        "  for word in words:\n",
        "    reversed_words.insert(0, word) # insert at the beginning of the list\n",
        "  return ' '.join(reversed_words) # joins back into a string\n",
        "\n",
        "print(reverse_words(\"This is a sentence\"))\n",
        "print(reverse_words(\"Bob the builder! Can we fix it?\"))"
      ],
      "metadata": {
        "colab": {
          "base_uri": "https://localhost:8080/"
        },
        "id": "Cbkz1OnNzsAZ",
        "outputId": "619730df-a779-4b38-fd4f-75ddb821b871"
      },
      "execution_count": 12,
      "outputs": [
        {
          "output_type": "stream",
          "name": "stdout",
          "text": [
            "sentence a is This\n",
            "it? fix we Can builder! the Bob\n"
          ]
        }
      ]
    },
    {
      "cell_type": "markdown",
      "source": [
        "### Exercise 8\n",
        "\n",
        "Write a function that takes a list of numbers as input and returns a new list containing only the positive even numbers from the original list. Use a while loop and the continue statement. Negative even numbers should be skipped."
      ],
      "metadata": {
        "id": "ceD0u0ke0jGG"
      }
    },
    {
      "cell_type": "code",
      "source": [
        "def filter_positive_even(numbers):\n",
        "  even_numbers = []\n",
        "  index = 0\n",
        "  while index < len(numbers):\n",
        "    number = numbers[index]\n",
        "    index += 1   #increment index at the beginning to avoid an infinite loop\n",
        "\n",
        "    if number < 0:\n",
        "      continue  # skip the negative numbers\n",
        "    if number % 2 != 0:\n",
        "      continue # skip odd numbers\n",
        "    even_numbers.append(number)\n",
        "  return even_numbers\n",
        "\n",
        "print(filter_positive_even([-2, -1, 4, -6, 8, 3, 10]))"
      ],
      "metadata": {
        "colab": {
          "base_uri": "https://localhost:8080/"
        },
        "id": "-0hKYUJ30qxs",
        "outputId": "c64bcb31-5538-4791-9548-e3809dc7aaab"
      },
      "execution_count": 13,
      "outputs": [
        {
          "output_type": "stream",
          "name": "stdout",
          "text": [
            "[4, 8, 10]\n"
          ]
        }
      ]
    },
    {
      "cell_type": "markdown",
      "source": [
        "## Dictionaries, Tuples & Sets\n",
        "\n",
        "### Exercise 9\n",
        "\n",
        "Create a dictionary called `student_grades` where the keys are student names and the values are tuples containing their scores on different assignments. Write a function that takes the `student_grades` dictionary and a student name as input and returns the average score for that student.\n",
        "\n",
        "- Get the tuple of grades for the given student.\n",
        "- Add up all the grades in the tuple.\n",
        "- Divide the sum by the number of grades to get the average."
      ],
      "metadata": {
        "id": "mSe3dV_Q1HSI"
      }
    },
    {
      "cell_type": "code",
      "source": [
        "def average_grade(student_grades, student_name):\n",
        "  if student_name in student_grades: # is student member of dictionary?\n",
        "    # get tuple of grades\n",
        "    grades = student_grades[student_name]\n",
        "    count_grades = len(grades)\n",
        "    total = 0\n",
        "    # add up all the grades\n",
        "    for grade in grades:\n",
        "      total += grade\n",
        "    # calculate average\n",
        "    average = round(total / count_grades, 2)\n",
        "    return total, average\n",
        "  else:\n",
        "    return 'Student not found'\n",
        "\n",
        "student_grades = {'John': (80, 90, 95), 'Jack': (40, 70, 75)}\n",
        "print(average_grade(student_grades, 'John'))\n",
        "print(average_grade(student_grades, 'Jack'))\n",
        "print(average_grade(student_grades, 'Bob'))"
      ],
      "metadata": {
        "colab": {
          "base_uri": "https://localhost:8080/"
        },
        "id": "OLwauzCG1SVn",
        "outputId": "27f8d65b-421b-4ee2-ab83-7bc24ece96de"
      },
      "execution_count": 19,
      "outputs": [
        {
          "output_type": "stream",
          "name": "stdout",
          "text": [
            "(265, 88.33)\n",
            "(185, 61.67)\n",
            "Student not found\n"
          ]
        }
      ]
    },
    {
      "cell_type": "markdown",
      "source": [
        "### Exercise 10\n",
        "\n",
        "Write a function called `tuple_of_uniques` that takes a list as input and returns a tuple containing all the unique elements from the list, sorted in ascending order. Use a set to efficiently find the unique elements.\n",
        "\n",
        "- Convert the list to a set. Sets automatically remove duplicates.\n",
        "- Convert the set back to a list so you can sort it.\n",
        "- Sort the list.\n",
        "- Convert the sorted list to a tuple."
      ],
      "metadata": {
        "id": "Nmrxdq803jtr"
      }
    },
    {
      "cell_type": "code",
      "source": [
        "def tuple_of_uniques(input_list):\n",
        "  unique_elements = set(input_list)\n",
        "  unique_list = list(unique_elements)\n",
        "  unique_list.sort()\n",
        "  unique_tuple = tuple(unique_list)\n",
        "  return unique_tuple\n",
        "\n",
        "print(tuple_of_uniques([1, 2, 2, 1, 3, 4, 4, 5, 3, 2]))"
      ],
      "metadata": {
        "colab": {
          "base_uri": "https://localhost:8080/"
        },
        "id": "MZbKifzm3s0z",
        "outputId": "f8dc0d84-7d09-4c53-cd06-b38061fc0a2a"
      },
      "execution_count": 21,
      "outputs": [
        {
          "output_type": "stream",
          "name": "stdout",
          "text": [
            "(1, 2, 3, 4, 5)\n"
          ]
        }
      ]
    },
    {
      "cell_type": "markdown",
      "source": [
        "## More Exercises\n",
        "\n",
        "### Exercise 11\n",
        "\n",
        "Write a Python program that:\n",
        "\n",
        "- Asks the user to enter a sentence.\n",
        "- Removes all vowels (a, e, i, o, u) from the sentence.\n",
        "- Reverses the resulting sentence.\n",
        "- Prints the final modified string."
      ],
      "metadata": {
        "id": "Iag6PLOW4EZv"
      }
    },
    {
      "cell_type": "code",
      "source": [
        "def remove_vowels(text):\n",
        "  vowels = 'aeiouAEIOU'\n",
        "  new_text = ''\n",
        "  for char in text:\n",
        "    if char not in vowels:\n",
        "      new_text += char\n",
        "  return new_text\n",
        "\n",
        "def reverse_text(new_text):\n",
        "  reversed_text = new_text[::-1]\n",
        "  return reversed_text\n",
        "\n",
        "def remove_vowels_and_reverse(text):\n",
        "  new_text = remove_vowels(text)\n",
        "  reversed_text = reverse_text(new_text)\n",
        "  return reversed_text\n",
        "\n",
        "user_input = input('Enter a sentence: ')\n",
        "result = remove_vowels_and_reverse(user_input)\n",
        "print(result)"
      ],
      "metadata": {
        "colab": {
          "base_uri": "https://localhost:8080/"
        },
        "id": "PmcPXa-c4I9X",
        "outputId": "ffc69df2-3a02-401d-a05f-3a3ff16e46a2"
      },
      "execution_count": 23,
      "outputs": [
        {
          "output_type": "stream",
          "name": "stdout",
          "text": [
            "Enter a sentence: Bob the Builder can we fix it\n",
            "t xf w nc rdlB ht bB\n"
          ]
        }
      ]
    },
    {
      "cell_type": "markdown",
      "source": [
        "### Exercise 12\n",
        "\n",
        "Write a Python program that uses a dictionary to store student names and their scores.\n",
        "\n",
        "- Ask the user to enter 5 students’ names and scores.\n",
        "- Store them in a dictionary where the key is the student’s name and the value is their score.\n",
        "\n",
        "Print out:\n",
        "\n",
        "- The dictionary of all students and scores.\n",
        "- The name of the student with the highest score."
      ],
      "metadata": {
        "id": "_U4uCkyy4O2S"
      }
    },
    {
      "cell_type": "code",
      "source": [
        "def student_grades():\n",
        "  student_grades = {}\n",
        "  for i in range(5):\n",
        "    name = input('Enter student name: ')\n",
        "    score = float(input('Enter student score: '))\n",
        "    student_grades[name] = score\n",
        "  highest_grade = max(student_grades, key=student_grades.get)\n",
        "  # print(max(student_grades)) finds the largest key alphabetically\n",
        "  # print(max(student_grades, key=student_grades.get)) finds the key with the largest value\n",
        "  return student_grades, highest_grade\n",
        "\n",
        "# call the function and unpack the returned values\n",
        "student_grades, highest_grade = student_grades()\n",
        "print(student_grades)\n",
        "print(f\"Student with the highest grade: {highest_grade}\")"
      ],
      "metadata": {
        "colab": {
          "base_uri": "https://localhost:8080/"
        },
        "id": "hgGKjltZ4Vqh",
        "outputId": "0fcd9ba3-d351-48fe-814c-2727c771dc9b"
      },
      "execution_count": 25,
      "outputs": [
        {
          "output_type": "stream",
          "name": "stdout",
          "text": [
            "Enter student name: Chris\n",
            "Enter student score: 78\n",
            "Enter student name: Emma\n",
            "Enter student score: 94\n",
            "Enter student name: Bob\n",
            "Enter student score: 68\n",
            "Enter student name: Brenda\n",
            "Enter student score: 86\n",
            "Enter student name: Jack\n",
            "Enter student score: 89\n",
            "{'Chris': 78.0, 'Emma': 94.0, 'Bob': 68.0, 'Brenda': 86.0, 'Jack': 89.0}\n",
            "Student with the highest grade: Emma\n"
          ]
        }
      ]
    }
  ]
}
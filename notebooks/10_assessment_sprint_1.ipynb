{
  "nbformat": 4,
  "nbformat_minor": 0,
  "metadata": {
    "colab": {
      "provenance": [],
      "authorship_tag": "ABX9TyP7gutJRJwIPzzCSnovTt+Q",
      "include_colab_link": true
    },
    "kernelspec": {
      "name": "python3",
      "display_name": "Python 3"
    },
    "language_info": {
      "name": "python"
    }
  },
  "cells": [
    {
      "cell_type": "markdown",
      "metadata": {
        "id": "view-in-github",
        "colab_type": "text"
      },
      "source": [
        "<a href=\"https://colab.research.google.com/github/krauseannelize/nb-py-ms-exercises/blob/main/notebooks/10_assessment_sprint_1.ipynb\" target=\"_parent\"><img src=\"https://colab.research.google.com/assets/colab-badge.svg\" alt=\"Open In Colab\"/></a>"
      ]
    },
    {
      "cell_type": "markdown",
      "source": [
        "# 10 | Assessment - Sprint 1\n",
        "\n",
        "## Exercise 1 | Print age\n",
        "\n",
        "- Complete the function 'age'.\n",
        "- The function expects one parameter (argument) called `year` **_(int)_**.\n",
        "- The function will **return** the following **string** (in this example, when `year` is 1983):\n",
        "\n",
        "> You were born in 1983, so you are about 40 years old.\n",
        "\n",
        "_Hint: Don’t use *print* inside the function._"
      ],
      "metadata": {
        "id": "mq_lIfx47ioB"
      }
    },
    {
      "cell_type": "code",
      "execution_count": 3,
      "metadata": {
        "colab": {
          "base_uri": "https://localhost:8080/"
        },
        "id": "cJkoA7xv7ZMd",
        "outputId": "fe679667-e3ec-41b9-af90-f9071627d764"
      },
      "outputs": [
        {
          "output_type": "stream",
          "name": "stdout",
          "text": [
            "You were born in 1983, so you are about 40 years old.\n"
          ]
        }
      ],
      "source": [
        "current_year = 2023\n",
        "\n",
        "def age(year):\n",
        "    return (f\"You were born in {year}, so you are about {str(current_year - year)} years old.\")\n",
        "\n",
        "text = age(1983)\n",
        "print(text)"
      ]
    },
    {
      "cell_type": "markdown",
      "source": [
        "## Exercise 2 | Sum\n",
        "\n",
        "- Define a function named `my_sum` that accepts 2 numbers **_(int)_**.\n",
        "- The function should sum all the numbers and return the result"
      ],
      "metadata": {
        "id": "MUuhbmK6-OMt"
      }
    },
    {
      "cell_type": "code",
      "source": [
        "def my_sum(num1, num2):\n",
        "    return num1 + num2\n",
        "\n",
        "result = my_sum(3, 8)\n",
        "print(result)"
      ],
      "metadata": {
        "colab": {
          "base_uri": "https://localhost:8080/"
        },
        "id": "hLv5fBb8-ZH5",
        "outputId": "f7165218-6486-4644-ed91-35faf15c247d"
      },
      "execution_count": 4,
      "outputs": [
        {
          "output_type": "stream",
          "name": "stdout",
          "text": [
            "11\n"
          ]
        }
      ]
    },
    {
      "cell_type": "markdown",
      "source": [
        "## Exercise 3 | Concat\n",
        "\n",
        "- Define a function named `special_concat` that accepts 3 strings **_(str)_**.\n",
        "- The function should concatenate all the strings and **return** the result in the following format **_(str)_**:\n",
        "\n",
        "`print(special_concat(”Cats”, “Dogs”, “Wolves”))`\n",
        "> Cats, Dogs & Wolves"
      ],
      "metadata": {
        "id": "HABzibEV-nbv"
      }
    },
    {
      "cell_type": "code",
      "source": [
        "def special_concat(str1, str2, str3):\n",
        "    return f\"{str1}, {str2} & {str3}\"\n",
        "\n",
        "print(special_concat(\"Cats\", \"Dogs\", \"Wolves\"))"
      ],
      "metadata": {
        "colab": {
          "base_uri": "https://localhost:8080/"
        },
        "id": "tKajL8K6-783",
        "outputId": "bf5a1b93-3fe3-4945-d52f-2752bbb0b5a5"
      },
      "execution_count": 5,
      "outputs": [
        {
          "output_type": "stream",
          "name": "stdout",
          "text": [
            "Cats, Dogs & Wolves\n"
          ]
        }
      ]
    },
    {
      "cell_type": "markdown",
      "source": [
        "## Exercise 4 | Currency Convertor\n",
        "\n",
        "- Write a function called `usd_to_yuan`, that will get one parameter — An amount of money in US Dollars **_(int)_**\n",
        "- The function will convert the amount to the equivalent amount in Chinese Yuan, and return the result **_(float)_**.\n",
        "- Assume that the current exchange rate is 7.15 Yuan for every US Dollar.\n",
        "- Example: `print(usd_to_yuan(10))`\n",
        "> 71.5"
      ],
      "metadata": {
        "id": "K-AdZoH0_NPJ"
      }
    },
    {
      "cell_type": "code",
      "source": [
        "def usd_to_yuan(usd):\n",
        "    return usd * 7.15\n",
        "\n",
        "print(usd_to_yuan(10))"
      ],
      "metadata": {
        "colab": {
          "base_uri": "https://localhost:8080/"
        },
        "id": "JUd31KjZ_c39",
        "outputId": "599a78ec-c420-41fe-f8be-d3c2e6000e80"
      },
      "execution_count": 6,
      "outputs": [
        {
          "output_type": "stream",
          "name": "stdout",
          "text": [
            "71.5\n"
          ]
        }
      ]
    },
    {
      "cell_type": "markdown",
      "source": [
        "## Exercise 5 | Title Creator\n",
        "\n",
        "- Write a function called `title_creator`.\n",
        "- The function will expect three parameters:\n",
        "  - `title` **_(str)_** — the text for the title.\n",
        "  - `char` **_(str)_** — the character surrounding the text.\n",
        "  - `times` **_(int)_** — the number of times to repeat the character on each side of the title.\n",
        "- The function will **return** a formatted title **_(str)_**, as shown in the example.\n",
        "- Example: `print(title_creator(\"Welcome to Masterschool\", \"=\", 5))`\n",
        "> =====Welcome to Masterschool====="
      ],
      "metadata": {
        "id": "0yohCltu_mAS"
      }
    },
    {
      "cell_type": "code",
      "source": [
        "def title_creator(title, char, times):\n",
        "    return char * times + title + char * times\n",
        "\n",
        "print(title_creator(\"Welcome to Masterschool\", \"=\", 5))"
      ],
      "metadata": {
        "colab": {
          "base_uri": "https://localhost:8080/"
        },
        "id": "CTmua-yWAEN1",
        "outputId": "1d7f2a0e-8d10-4c69-db4b-1a6388b3948f"
      },
      "execution_count": 7,
      "outputs": [
        {
          "output_type": "stream",
          "name": "stdout",
          "text": [
            "=====Welcome to Masterschool=====\n"
          ]
        }
      ]
    },
    {
      "cell_type": "markdown",
      "source": [
        "## Exercise 6 | Coffee Cost\n",
        "\n",
        "- You're ordering coffee for your office. A small coffee costs \\$2, a medium coffee costs \\$3, and a large coffee costs \\$4.\n",
        "- Write a function `coffee_calculator` that takes three parameters - the number of each size coffee **_(ints)_**, and returns the total cost of the order **_(int)_**.\n",
        "- Example: `print(coffee_calculator(2, 10, 1))`\n",
        "> 38"
      ],
      "metadata": {
        "id": "aEN5YcRVAYdJ"
      }
    },
    {
      "cell_type": "code",
      "source": [
        "def coffee_calculator(small, medium, large):\n",
        "    return small * 2 + medium * 3 + large * 4\n",
        "\n",
        "print(coffee_calculator(2, 10, 1))"
      ],
      "metadata": {
        "colab": {
          "base_uri": "https://localhost:8080/"
        },
        "id": "_IgawSulAqO9",
        "outputId": "f135dde3-4809-4218-e7f8-3d12cf67090a"
      },
      "execution_count": 8,
      "outputs": [
        {
          "output_type": "stream",
          "name": "stdout",
          "text": [
            "38\n"
          ]
        }
      ]
    },
    {
      "cell_type": "markdown",
      "source": [
        "## Exercise 7 | Percent calculation\n",
        "\n",
        "- Write a function called `percent`. This function will calculate the percentage of one number relative to another.\n",
        "- The function will accept two parameters: `num1` **_(int)_** and `num2` **_(int)_**.\n",
        "- The function will **return** the calculated percentage as a string, like `25.5%`.\n",
        "- Example:\n",
        "  - `print(percent(155, 500))`\n",
        "> 31.0%\n",
        "  - `print(percent(250, 125))`\n",
        "> 200.0%\n"
      ],
      "metadata": {
        "id": "gNYyAaKKA3Un"
      }
    },
    {
      "cell_type": "code",
      "source": [
        "def percent(num1, num2):\n",
        "    return str(round(num1 / num2 * 100, 1)) + \"%\"\n",
        "\n",
        "print(percent(155, 500))\n",
        "print(percent(250, 125))"
      ],
      "metadata": {
        "colab": {
          "base_uri": "https://localhost:8080/"
        },
        "id": "qKw7Br82BTwX",
        "outputId": "4a33d18b-4857-4f65-a929-9e1b173e41a2"
      },
      "execution_count": 9,
      "outputs": [
        {
          "output_type": "stream",
          "name": "stdout",
          "text": [
            "31.0%\n",
            "200.0%\n"
          ]
        }
      ]
    },
    {
      "cell_type": "markdown",
      "source": [
        "## Exercise 8 | Grade calculation\n",
        "\n",
        "Write a program that asks the user for their exam score and prints their grade based on the following criteria:\n",
        "\n",
        "- Score 90 or above: **A**\n",
        "- Score 80 to 89: **B**\n",
        "- Score 70 to 79: **C**\n",
        "- Score 60 to 69: **D**\n",
        "- Score below 60: **F**"
      ],
      "metadata": {
        "id": "dBtqg-xLBgEx"
      }
    },
    {
      "cell_type": "code",
      "source": [
        "score = 75\n",
        "\n",
        "if score >= 90:\n",
        "  grade = \"A\"\n",
        "elif score >= 80:\n",
        "  grade = \"B\"\n",
        "elif score >= 70:\n",
        "  grade = \"C\"\n",
        "elif score >= 60:\n",
        "  grade = \"D\"\n",
        "else:\n",
        "  grade = \"F\"\n",
        "\n",
        "print(f\"Your grade is: {grade}\")"
      ],
      "metadata": {
        "colab": {
          "base_uri": "https://localhost:8080/"
        },
        "id": "RtU0g5DsB1d9",
        "outputId": "c07f51c2-44b0-4e91-aacc-124b3934e7c2"
      },
      "execution_count": 10,
      "outputs": [
        {
          "output_type": "stream",
          "name": "stdout",
          "text": [
            "Your grade is: C\n"
          ]
        }
      ]
    },
    {
      "cell_type": "markdown",
      "source": [
        "## Exercise 9 | Summer Discount\n",
        "\n",
        "- A supermarket has started to offer a special summer discount. To qualify for this discount, a shopping list must contain at least 5 items, **and** one of them must be “Ice Cream”.\n",
        "- Write a function called `validate_discount` that will expect one parameter: a list of strings `products`.\n",
        "- If the shopping list qualifies for the discount, **return** `\"YES\"`; otherwise, **return** `\"NO\"`\n",
        "- Example:\n",
        "  - `validate_discount([\"Shampoo\", \"Eggs\", \"Ice Cream\", \"Soap\", \"Tissues\"])`\n",
        "> YES\n",
        "  - `validate_discount([\"Ice Cream\", \"Soap\", \"Tissues\"])`\n",
        "> NO"
      ],
      "metadata": {
        "id": "cFGEWzJwCh2G"
      }
    },
    {
      "cell_type": "code",
      "source": [
        "def validate_discount(products):\n",
        "    if len(products) >= 5 and \"Ice Cream\" in products:\n",
        "        return \"YES\"\n",
        "    else:\n",
        "        return \"NO\"\n",
        "\n",
        "print(validate_discount([\"Shampoo\", \"Eggs\", \"Ice Cream\", \"Soap\", \"Tissues\"]))\n",
        "print(validate_discount([\"Ice Cream\", \"Soap\", \"Tissues\"]))"
      ],
      "metadata": {
        "colab": {
          "base_uri": "https://localhost:8080/"
        },
        "id": "A50MPx9kDCBa",
        "outputId": "144681ae-6aa1-4f86-e2b7-1e2b4da6bb19"
      },
      "execution_count": 13,
      "outputs": [
        {
          "output_type": "stream",
          "name": "stdout",
          "text": [
            "YES\n",
            "NO\n"
          ]
        }
      ]
    },
    {
      "cell_type": "markdown",
      "source": [
        "## Exercise 10 | Pass or Fail\n",
        "\n",
        "- As part of a university course, students were required to take two exams.\n",
        "- To successfully complete the course, students needed to fulfill two conditions:\n",
        "  - Their average grade must be 75 or higher\n",
        "  - They must not receive a failing grade (55 or lower) on either exam.\n",
        "- Write a function called `has_passed`.\n",
        "- The function will expect two parameters called `grade1` and `grade2` **_(ints)_**.\n",
        "- The function will **return a string** `“PASS”` or `“FAIL”` according to the above conditions.\n",
        "- Example:\n",
        "  - `has_passed(90, 70)`\n",
        "> PASS\n",
        "  - `has_passed(53, 100)`\n",
        "> FAIL\n",
        "  - `has_passed(60, 80)`\n",
        "> FAIL"
      ],
      "metadata": {
        "id": "XVqdde0QD13B"
      }
    },
    {
      "cell_type": "code",
      "source": [
        "def has_passed(grade1, grade2):\n",
        "    if (grade1 + grade2) / 2 >= 75:\n",
        "      if grade1 >= 55 and grade2 >= 55:\n",
        "        return \"PASS\"\n",
        "      else:\n",
        "        return \"FAIL\"\n",
        "    else:\n",
        "      return \"FAIL\"\n",
        "\n",
        "print(has_passed(90, 70))\n",
        "print(has_passed(53, 100))\n",
        "print(has_passed(60, 80))"
      ],
      "metadata": {
        "colab": {
          "base_uri": "https://localhost:8080/"
        },
        "id": "womUlDc7EXKA",
        "outputId": "2bc74425-f600-4e82-8429-2102787ce0c3"
      },
      "execution_count": 15,
      "outputs": [
        {
          "output_type": "stream",
          "name": "stdout",
          "text": [
            "PASS\n",
            "FAIL\n",
            "FAIL\n"
          ]
        }
      ]
    },
    {
      "cell_type": "markdown",
      "source": [
        "## BONUS  Exercise | Reverse numbers\n",
        "\n",
        "Write a function called `reverse_number` that takes a **five-digit number** as input **_(int)_** and returns the number in reverse order **_(int)_**. For example, `reverse_number(12345)` would return `54321`."
      ],
      "metadata": {
        "id": "fWB5t2nRFKad"
      }
    },
    {
      "cell_type": "code",
      "source": [
        "def reverse_number(num):\n",
        "    num_str = str(num)\n",
        "    reversed_str = num_str[::-1]\n",
        "    return int(reversed_str)\n",
        "\n",
        "print(reverse_number(12345))\n",
        "\n",
        "\"\"\" String slicing is a way to extract a portion of a string by creating\n",
        "a new string from a specific range of characters. The basic syntax is:\n",
        "string[start:stop:step]\n",
        "\n",
        "- start: where slice begins - default is beginning of string\n",
        "- stop: where slice ends - default is end of string\n",
        "- step: how many characters to skip - default is 1\n",
        "\n",
        "Using a step of -1 in the slice will reverse the string.\"\"\""
      ],
      "metadata": {
        "colab": {
          "base_uri": "https://localhost:8080/"
        },
        "id": "qygGyoVpFff6",
        "outputId": "93760668-e35e-49a6-f14a-a6df5e87223d"
      },
      "execution_count": 16,
      "outputs": [
        {
          "output_type": "stream",
          "name": "stdout",
          "text": [
            "54321\n"
          ]
        }
      ]
    }
  ]
}
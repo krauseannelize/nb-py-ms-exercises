{
  "nbformat": 4,
  "nbformat_minor": 0,
  "metadata": {
    "colab": {
      "provenance": [],
      "authorship_tag": "ABX9TyMyzFRKSjllqu50qaufPAB6",
      "include_colab_link": true
    },
    "kernelspec": {
      "name": "python3",
      "display_name": "Python 3"
    },
    "language_info": {
      "name": "python"
    }
  },
  "cells": [
    {
      "cell_type": "markdown",
      "metadata": {
        "id": "view-in-github",
        "colab_type": "text"
      },
      "source": [
        "<a href=\"https://colab.research.google.com/github/krauseannelize/nb-py-ms-exercises/blob/main/notebooks/15_dictionaries_tuples_sets.ipynb\" target=\"_parent\"><img src=\"https://colab.research.google.com/assets/colab-badge.svg\" alt=\"Open In Colab\"/></a>"
      ]
    },
    {
      "cell_type": "markdown",
      "source": [
        "# 15 | Dictionaries, Tuples & Sets\n",
        "\n",
        "## Dictionaries\n",
        "\n",
        "**Dictionaries** are defined using curly braces `{}` and are used to store data as key-value pairs.\n",
        "\n",
        "| Feature | Description |\n",
        "| --- | --- |\n",
        "| Mutable | You can add, update, and remove key-value pairs after creation. |\n",
        "| Unordered | The order of items is not guaranteed in older Python versions. |\n",
        "| Keys | Must be unique and immutable |\n",
        "| Values | Can be any valid Python object |"
      ],
      "metadata": {
        "id": "euzs2vAjgr2l"
      }
    },
    {
      "cell_type": "code",
      "execution_count": 67,
      "metadata": {
        "id": "LHIvktMjgheM"
      },
      "outputs": [],
      "source": [
        "# syntax for creating a dictionary\n",
        "syntax_dict = {\n",
        "    \"key1\": \"value1\",\n",
        "    \"key2\": \"value2\",\n",
        "    \"key3\": \"value3\"\n",
        "}"
      ]
    },
    {
      "cell_type": "markdown",
      "source": [
        "### Retrieving data from a dictionary\n",
        "\n",
        "- use the `.keys()` method to view all the keys\n",
        "- use the dictionary name to view all keys and values\n",
        "- use a key inside square brackets `[]` to return its corresponding value"
      ],
      "metadata": {
        "id": "41Quisu7n7U5"
      }
    },
    {
      "cell_type": "code",
      "source": [
        "# .key() method returns a special view object containing all keys, which is\n",
        "# useful when you want to iterate over the keys or check them individually\n",
        "syntax_dict.keys()\n",
        "print(syntax_dict.keys())\n",
        "\n",
        "# printing the entire dictionary\n",
        "print(syntax_dict)\n",
        "\n",
        "# retrieving a specific value by its key\n",
        "print(syntax_dict[\"key1\"])"
      ],
      "metadata": {
        "colab": {
          "base_uri": "https://localhost:8080/"
        },
        "id": "hz8tVCjcn1Qi",
        "outputId": "abc57d1d-5695-4b9a-d19a-dedaa083a0ca"
      },
      "execution_count": 68,
      "outputs": [
        {
          "output_type": "stream",
          "name": "stdout",
          "text": [
            "dict_keys(['key1', 'key2', 'key3'])\n",
            "{'key1': 'value1', 'key2': 'value2', 'key3': 'value3'}\n",
            "value1\n"
          ]
        }
      ]
    },
    {
      "cell_type": "code",
      "source": [
        "# creating a dictionary\n",
        "example_dict = {\n",
        "    \"name\": \"John\",\n",
        "    \"age\": 30,\n",
        "    \"city\": \"New York\"\n",
        "}\n",
        "\n",
        "# printing the entire dictionary\n",
        "print(example_dict)\n",
        "\n",
        "# accessing values by key\n",
        "print(example_dict[\"city\"])"
      ],
      "metadata": {
        "colab": {
          "base_uri": "https://localhost:8080/"
        },
        "id": "LRiFwbgmoYqp",
        "outputId": "dda82cde-a406-468d-f43f-bb645102bd2e"
      },
      "execution_count": 69,
      "outputs": [
        {
          "output_type": "stream",
          "name": "stdout",
          "text": [
            "{'name': 'John', 'age': 30, 'city': 'New York'}\n",
            "New York\n"
          ]
        }
      ]
    },
    {
      "cell_type": "markdown",
      "source": [
        "### Adding new key-value pairs\n",
        "\n",
        "You can add new key-value pairs in a dictionary by using square brackets `[]`."
      ],
      "metadata": {
        "id": "W4-ufsSvozPm"
      }
    },
    {
      "cell_type": "code",
      "source": [
        "# syntax to add new key-value pairs\n",
        "syntax_dict[\"key4\"] = \"new_value\""
      ],
      "metadata": {
        "id": "6eo9KJsLpJUu"
      },
      "execution_count": 70,
      "outputs": []
    },
    {
      "cell_type": "code",
      "source": [
        "# adding a new key-value pair\n",
        "example_dict[\"country\"] = \"USA\"\n",
        "\n",
        "# printing the updated dictionary\n",
        "print(example_dict)"
      ],
      "metadata": {
        "colab": {
          "base_uri": "https://localhost:8080/"
        },
        "id": "eCUEGSmtpgeX",
        "outputId": "b82af895-146d-40fc-b793-905e27b57f59"
      },
      "execution_count": 71,
      "outputs": [
        {
          "output_type": "stream",
          "name": "stdout",
          "text": [
            "{'name': 'John', 'age': 30, 'city': 'New York', 'country': 'USA'}\n"
          ]
        }
      ]
    },
    {
      "cell_type": "markdown",
      "source": [
        "### Updating existing key-value pairs\n",
        "\n",
        "You can similarly update key-value pairs in a dictionary by using square brackets `[]`. If the key already exists, Python will update its value."
      ],
      "metadata": {
        "id": "kjaYuNatpsRE"
      }
    },
    {
      "cell_type": "code",
      "source": [
        "# syntax to update key-value pairs\n",
        "syntax_dict[\"key4\"] = \"value4\""
      ],
      "metadata": {
        "id": "Fm5xnDuBqN0L"
      },
      "execution_count": 72,
      "outputs": []
    },
    {
      "cell_type": "code",
      "source": [
        "# printing the existing dictionary\n",
        "print(example_dict)\n",
        "\n",
        "# updating a key-value pair\n",
        "example_dict[\"city\"] = \"Chicago\"\n",
        "\n",
        "# printing the updated dictionary\n",
        "print(example_dict)"
      ],
      "metadata": {
        "colab": {
          "base_uri": "https://localhost:8080/"
        },
        "id": "h79izF-PqbrL",
        "outputId": "951e8a4c-b68b-4c6f-9e29-cccfcc978469"
      },
      "execution_count": 73,
      "outputs": [
        {
          "output_type": "stream",
          "name": "stdout",
          "text": [
            "{'name': 'John', 'age': 30, 'city': 'New York', 'country': 'USA'}\n",
            "{'name': 'John', 'age': 30, 'city': 'Chicago', 'country': 'USA'}\n"
          ]
        }
      ]
    },
    {
      "cell_type": "markdown",
      "source": [
        "### Removing a key-value pair\n",
        "\n",
        "A key-value pair can be used with either the:\n",
        "\n",
        "- `.pop()` method\n",
        "- `del` method"
      ],
      "metadata": {
        "id": "Gv1atoD9vuv6"
      }
    },
    {
      "cell_type": "code",
      "source": [
        "# .pop() syntax to remove key-value pair and return removed items\n",
        "removed_item = syntax_dict.pop(\"key4\")\n",
        "\n",
        "# delete method syntax to remove key-value pair\n",
        "del syntax_dict[\"key3\"]"
      ],
      "metadata": {
        "id": "iGOULXALwmlP"
      },
      "execution_count": 74,
      "outputs": []
    },
    {
      "cell_type": "code",
      "source": [
        "# .pop() removes the key-value pair and returns the value of the item removed\n",
        "removed_item = example_dict.pop(\"country\")\n",
        "\n",
        "# printing the updated dictionary\n",
        "print(example_dict)\n",
        "print(f\"Item that was removed: {removed_item}\")"
      ],
      "metadata": {
        "colab": {
          "base_uri": "https://localhost:8080/"
        },
        "id": "SHZUYeN7wNaI",
        "outputId": "436bc739-6ab3-4f9f-b1a1-0f5986ae46c1"
      },
      "execution_count": 75,
      "outputs": [
        {
          "output_type": "stream",
          "name": "stdout",
          "text": [
            "{'name': 'John', 'age': 30, 'city': 'Chicago'}\n",
            "Item that was removed: USA\n"
          ]
        }
      ]
    },
    {
      "cell_type": "code",
      "source": [
        "# del removes the key-value pair\n",
        "del example_dict[\"age\"]\n",
        "\n",
        "# printing the updated dictionary\n",
        "print(example_dict)"
      ],
      "metadata": {
        "colab": {
          "base_uri": "https://localhost:8080/"
        },
        "id": "yVg6M_d6xrbQ",
        "outputId": "a282ebbd-d771-4880-ccdf-f7bd41dac301"
      },
      "execution_count": 76,
      "outputs": [
        {
          "output_type": "stream",
          "name": "stdout",
          "text": [
            "{'name': 'John', 'city': 'Chicago'}\n"
          ]
        }
      ]
    },
    {
      "cell_type": "markdown",
      "source": [
        "### Iterating through dictionaries\n",
        "\n",
        "You can iterate through a dictionary using a `for` loop over `keys`, `values` and the combination, respectively."
      ],
      "metadata": {
        "id": "S_wuSxApxz0r"
      }
    },
    {
      "cell_type": "code",
      "source": [
        "# creating a dictionary\n",
        "new_dict = {\n",
        "    \"name\": \"Alice\",\n",
        "    \"age\": 23,\n",
        "    \"city\": \"Philadelphia\"\n",
        "}\n",
        "\n",
        "# iterate over the keys without returning values\n",
        "# default behavior and preferred shorthand\n",
        "for key in new_dict:\n",
        "    print(key)"
      ],
      "metadata": {
        "colab": {
          "base_uri": "https://localhost:8080/"
        },
        "id": "QhAZBrnG9w1K",
        "outputId": "056620e4-3b78-4dd9-b49c-558dd9aa5cd9"
      },
      "execution_count": 77,
      "outputs": [
        {
          "output_type": "stream",
          "name": "stdout",
          "text": [
            "name\n",
            "age\n",
            "city\n"
          ]
        }
      ]
    },
    {
      "cell_type": "code",
      "source": [
        "# iterate over the keys without returning values\n",
        "# using .keys() method delivers the same results\n",
        "for key in new_dict.keys():\n",
        "    print(key)"
      ],
      "metadata": {
        "colab": {
          "base_uri": "https://localhost:8080/"
        },
        "id": "SOLEA_P0rduK",
        "outputId": "c1ab6d89-5b90-4ca5-e386-22b12802eea4"
      },
      "execution_count": 78,
      "outputs": [
        {
          "output_type": "stream",
          "name": "stdout",
          "text": [
            "name\n",
            "age\n",
            "city\n"
          ]
        }
      ]
    },
    {
      "cell_type": "code",
      "source": [
        "# iterate over the values without returning the keys\n",
        "for value in new_dict.values():\n",
        "    print(value)"
      ],
      "metadata": {
        "colab": {
          "base_uri": "https://localhost:8080/"
        },
        "id": "3N7WZlRi-S3n",
        "outputId": "9dfe088b-34d4-4da5-f108-be2317981313"
      },
      "execution_count": 79,
      "outputs": [
        {
          "output_type": "stream",
          "name": "stdout",
          "text": [
            "Alice\n",
            "23\n",
            "Philadelphia\n"
          ]
        }
      ]
    },
    {
      "cell_type": "code",
      "source": [
        "# iterate over the keys and using indexing to return the values\n",
        "for key in new_dict.keys():\n",
        "    print(f\"{key}: {new_dict[key]}\")"
      ],
      "metadata": {
        "colab": {
          "base_uri": "https://localhost:8080/"
        },
        "id": "C2m3GVCFoRkD",
        "outputId": "a80ba8ab-da90-4de9-836f-3a37b05d36ae"
      },
      "execution_count": 80,
      "outputs": [
        {
          "output_type": "stream",
          "name": "stdout",
          "text": [
            "name: Alice\n",
            "age: 23\n",
            "city: Philadelphia\n"
          ]
        }
      ]
    },
    {
      "cell_type": "code",
      "source": [
        "# iterate over the key-value pair and return both\n",
        "for key, value in new_dict.items():\n",
        "    print(f\"{key}: {value}\")"
      ],
      "metadata": {
        "colab": {
          "base_uri": "https://localhost:8080/"
        },
        "id": "5QBHlsbDoCgp",
        "outputId": "5312f893-5b54-4f6d-e181-cd0223f1c098"
      },
      "execution_count": 81,
      "outputs": [
        {
          "output_type": "stream",
          "name": "stdout",
          "text": [
            "name: Alice\n",
            "age: 23\n",
            "city: Philadelphia\n"
          ]
        }
      ]
    },
    {
      "cell_type": "markdown",
      "source": [
        "### The `in` operator in dictionaries\n",
        "\n",
        "You can use the `in` operator to check if a key exists in a dictionary."
      ],
      "metadata": {
        "id": "5f6u-epxx3kD"
      }
    },
    {
      "cell_type": "code",
      "source": [
        "# check if the key \"age\" exists in new_dict\n",
        "if \"age\" in new_dict:\n",
        "    print(\"The key 'age' exists in the dictionary.\")\n",
        "else:\n",
        "    print(\"The key 'age' does not exist in the dictionary.\")"
      ],
      "metadata": {
        "colab": {
          "base_uri": "https://localhost:8080/"
        },
        "id": "fOZm_VAUtnwf",
        "outputId": "07362ad0-74ce-47fc-b367-3ed6cd1e8e5b"
      },
      "execution_count": 82,
      "outputs": [
        {
          "output_type": "stream",
          "name": "stdout",
          "text": [
            "The key 'age' exists in the dictionary.\n"
          ]
        }
      ]
    },
    {
      "cell_type": "markdown",
      "source": [
        "## Tuples\n",
        "\n",
        "**Tuples** are defined using parentheses `()` and ideal for storing fixed collections of items that should not be modified.\n",
        "\n",
        "| Feature | Description |\n",
        "| --- | --- |\n",
        "| Immutable |\tYou cannot change, add, or remove items. |\n",
        "| Ordered |\tItems can be accessed by their index. |\n",
        "| Values | Can be any valid Python object |\n",
        "\n",
        "### Creating a Tuple"
      ],
      "metadata": {
        "id": "fcPGLmZll-fn"
      }
    },
    {
      "cell_type": "code",
      "source": [
        "# Method 1 - assigning variable\n",
        "example_tuple = (\"Alice\", 23, 1.65, True)\n",
        "print(type(example_tuple))"
      ],
      "metadata": {
        "colab": {
          "base_uri": "https://localhost:8080/"
        },
        "id": "OsGpQzJuv9NH",
        "outputId": "d7711eec-e02c-4b86-c258-dec0ee356abc"
      },
      "execution_count": 83,
      "outputs": [
        {
          "output_type": "stream",
          "name": "stdout",
          "text": [
            "<class 'tuple'>\n"
          ]
        }
      ]
    },
    {
      "cell_type": "code",
      "source": [
        "# Method 2 - converting a list\n",
        "example_list = [\"Alice\", 23, 1.65, True]\n",
        "print(type(example_list))\n",
        "example_tuple = tuple(example_list)\n",
        "print(type(example_tuple))"
      ],
      "metadata": {
        "colab": {
          "base_uri": "https://localhost:8080/"
        },
        "id": "3GEJXuYAwaaF",
        "outputId": "c34ebf76-f7fa-484a-e2c2-82012be8dba1"
      },
      "execution_count": 84,
      "outputs": [
        {
          "output_type": "stream",
          "name": "stdout",
          "text": [
            "<class 'list'>\n",
            "<class 'tuple'>\n"
          ]
        }
      ]
    },
    {
      "cell_type": "code",
      "source": [
        "# Method 3 - empty tuple\n",
        "empty_tuple = ()\n",
        "print(type(empty_tuple))"
      ],
      "metadata": {
        "colab": {
          "base_uri": "https://localhost:8080/"
        },
        "id": "2KAPn0uTw6Ja",
        "outputId": "8a7582b6-c597-42ee-e32a-fb8708574ab3"
      },
      "execution_count": 85,
      "outputs": [
        {
          "output_type": "stream",
          "name": "stdout",
          "text": [
            "<class 'tuple'>\n"
          ]
        }
      ]
    },
    {
      "cell_type": "code",
      "source": [
        "# you cannot assign a tuple with only 1 element\n",
        "# it will take the type of the element\n",
        "single_tuple = (\"Alice\")\n",
        "print(type(single_tuple))"
      ],
      "metadata": {
        "colab": {
          "base_uri": "https://localhost:8080/"
        },
        "id": "ThrKFAQTxE69",
        "outputId": "87b45c7c-4850-4ed8-bf54-a92c0bce5269"
      },
      "execution_count": 86,
      "outputs": [
        {
          "output_type": "stream",
          "name": "stdout",
          "text": [
            "<class 'str'>\n"
          ]
        }
      ]
    },
    {
      "cell_type": "code",
      "source": [
        "# 1 of 2 elements in a tuple can be empty\n",
        "simple_tuple = (\"Alice\",)\n",
        "print(type(simple_tuple))"
      ],
      "metadata": {
        "colab": {
          "base_uri": "https://localhost:8080/"
        },
        "id": "5_tG_klTxSw8",
        "outputId": "8ef911eb-3a88-4873-be93-42bfef1226b5"
      },
      "execution_count": 87,
      "outputs": [
        {
          "output_type": "stream",
          "name": "stdout",
          "text": [
            "<class 'tuple'>\n"
          ]
        }
      ]
    },
    {
      "cell_type": "code",
      "source": [
        "# accessing elements in a tuple\n",
        "example_tuple\n",
        "print(type(example_tuple))\n",
        "print(example_tuple[0])"
      ],
      "metadata": {
        "colab": {
          "base_uri": "https://localhost:8080/"
        },
        "id": "MO9Jo-_SylZB",
        "outputId": "790f2fec-5c26-4e96-ac85-b631d0e6f886"
      },
      "execution_count": 88,
      "outputs": [
        {
          "output_type": "stream",
          "name": "stdout",
          "text": [
            "<class 'tuple'>\n",
            "Alice\n"
          ]
        }
      ]
    },
    {
      "cell_type": "code",
      "source": [
        "# tuples are immutable and cannot be changed\n",
        "example_tuple[0] = \"Bob\""
      ],
      "metadata": {
        "colab": {
          "base_uri": "https://localhost:8080/",
          "height": 162
        },
        "id": "75DR1Wy6y1Y9",
        "outputId": "6bc5413f-f6df-44da-fa12-deada32300dd"
      },
      "execution_count": 89,
      "outputs": [
        {
          "output_type": "error",
          "ename": "TypeError",
          "evalue": "'tuple' object does not support item assignment",
          "traceback": [
            "\u001b[0;31m---------------------------------------------------------------------------\u001b[0m",
            "\u001b[0;31mTypeError\u001b[0m                                 Traceback (most recent call last)",
            "\u001b[0;32m/tmp/ipython-input-707255057.py\u001b[0m in \u001b[0;36m<cell line: 0>\u001b[0;34m()\u001b[0m\n\u001b[1;32m      1\u001b[0m \u001b[0;31m# tuples are immutable and cannot be changed\u001b[0m\u001b[0;34m\u001b[0m\u001b[0;34m\u001b[0m\u001b[0m\n\u001b[0;32m----> 2\u001b[0;31m \u001b[0mexample_tuple\u001b[0m\u001b[0;34m[\u001b[0m\u001b[0;36m0\u001b[0m\u001b[0;34m]\u001b[0m \u001b[0;34m=\u001b[0m \u001b[0;34m\"Bob\"\u001b[0m\u001b[0;34m\u001b[0m\u001b[0;34m\u001b[0m\u001b[0m\n\u001b[0m",
            "\u001b[0;31mTypeError\u001b[0m: 'tuple' object does not support item assignment"
          ]
        }
      ]
    },
    {
      "cell_type": "markdown",
      "source": [
        "### Unpacking a Tuple\n",
        "\n",
        "The elements of a tuple can be unpacked and assigned to individual variables."
      ],
      "metadata": {
        "id": "UHET2j_nzBIS"
      }
    },
    {
      "cell_type": "code",
      "source": [
        "# creating a tuple\n",
        "coordinates = (10, 20)\n",
        "print(type(coordinates))\n",
        "\n",
        "# unpacking the tuple\n",
        "x, y = coordinates\n",
        "\n",
        "print(f\"{x} is of type {type(x)}\")\n",
        "print(f\"{y} is of type {type(y)}\")"
      ],
      "metadata": {
        "colab": {
          "base_uri": "https://localhost:8080/"
        },
        "id": "uYiRC9WYzLqo",
        "outputId": "ffc453cb-a4a9-4886-df91-9bbcded17a2d"
      },
      "execution_count": 90,
      "outputs": [
        {
          "output_type": "stream",
          "name": "stdout",
          "text": [
            "<class 'tuple'>\n",
            "10 is of type <class 'int'>\n",
            "20 is of type <class 'int'>\n"
          ]
        }
      ]
    },
    {
      "cell_type": "markdown",
      "source": [
        "Indexing and slicing can also be used to only return some of the elements in a tuple."
      ],
      "metadata": {
        "id": "sYDuo3ycz2Ex"
      }
    },
    {
      "cell_type": "code",
      "source": [
        "# creating a tuple\n",
        "number_tuple = (0, 1, 2, 3, 4, 5)\n",
        "print(type(number_tuple))\n",
        "\n",
        "# getting the first 3 elements\n",
        "print(number_tuple[:3])\n",
        "\n",
        "# getting the last 3 elements\n",
        "print(number_tuple[-3:])"
      ],
      "metadata": {
        "colab": {
          "base_uri": "https://localhost:8080/"
        },
        "id": "1MaIkYT5ztup",
        "outputId": "d9976fba-87f6-4343-b60d-0d2a379903fd"
      },
      "execution_count": 91,
      "outputs": [
        {
          "output_type": "stream",
          "name": "stdout",
          "text": [
            "<class 'tuple'>\n",
            "(0, 1, 2)\n",
            "(3, 4, 5)\n"
          ]
        }
      ]
    },
    {
      "cell_type": "markdown",
      "source": [
        "### Tuple Operation"
      ],
      "metadata": {
        "id": "NCTwrA5A0SNo"
      }
    },
    {
      "cell_type": "code",
      "source": [
        "tup_a = (1, 2, 3)\n",
        "tup_b = (4, 5, 6)\n",
        "\n",
        "print(f\"tup_a: {tup_a}  |  length: {len(tup_a)}\")\n",
        "print(f\"tup_b: {tup_b}  |  length: {len(tup_b)}\")\n",
        "\n",
        "tup_combo = tup_a + tup_b\n",
        "print(f\"tup_combo: {tup_combo}  |  length: {len(tup_combo)}\")"
      ],
      "metadata": {
        "colab": {
          "base_uri": "https://localhost:8080/"
        },
        "id": "sIPlOoRC0UkO",
        "outputId": "b38b4910-5618-48b6-b4a0-dfc0b9556d80"
      },
      "execution_count": 92,
      "outputs": [
        {
          "output_type": "stream",
          "name": "stdout",
          "text": [
            "tup_a: (1, 2, 3)  |  length: 3\n",
            "tup_b: (4, 5, 6)  |  length: 3\n",
            "tup_combo: (1, 2, 3, 4, 5, 6)  |  length: 6\n"
          ]
        }
      ]
    },
    {
      "cell_type": "markdown",
      "source": [
        "## Sets\n",
        "\n",
        "**Sets** are defined using curly braces `{}` and are useful when you need to store a collection of items without any duplicates.\n",
        "\n",
        "To create an empty set, you need to use parentheses `()`.\n",
        "\n",
        "| Feature | Description |\n",
        "| --- | --- |\n",
        "| Unordered\t| Items in a set do not have a defined order. |\n",
        "| Unique |\tDuplicate elements are automatically removed.|"
      ],
      "metadata": {
        "id": "6dLDlgSZmQfo"
      }
    },
    {
      "cell_type": "code",
      "source": [
        "# creating a set\n",
        "example_set = {0, 1, 2, 3, 4, 5}\n",
        "print(type(example_set))"
      ],
      "metadata": {
        "colab": {
          "base_uri": "https://localhost:8080/"
        },
        "id": "SEYO7-6p1i8Y",
        "outputId": "8d5c7f42-9cde-4c7a-d7de-ee9d41d5f54b"
      },
      "execution_count": 93,
      "outputs": [
        {
          "output_type": "stream",
          "name": "stdout",
          "text": [
            "<class 'set'>\n"
          ]
        }
      ]
    },
    {
      "cell_type": "code",
      "source": [
        "# converting a list to a set\n",
        "example_list = [0, 1, 2, 3, 4, 5]\n",
        "print(type(example_list))\n",
        "\n",
        "example_set = set(example_list)\n",
        "print(type(example_set))"
      ],
      "metadata": {
        "colab": {
          "base_uri": "https://localhost:8080/"
        },
        "id": "qKi8s-uV1nft",
        "outputId": "92e58948-a504-46d6-c975-4e39ec0ef192"
      },
      "execution_count": 94,
      "outputs": [
        {
          "output_type": "stream",
          "name": "stdout",
          "text": [
            "<class 'list'>\n",
            "<class 'set'>\n"
          ]
        }
      ]
    },
    {
      "cell_type": "code",
      "source": [
        "# adding an element to a set using .add()\n",
        "example_set.add(6)\n",
        "print(example_set)"
      ],
      "metadata": {
        "colab": {
          "base_uri": "https://localhost:8080/"
        },
        "id": "Tl25xqpq1zgQ",
        "outputId": "150a49da-ac51-4c88-c49a-30eeb1457536"
      },
      "execution_count": 95,
      "outputs": [
        {
          "output_type": "stream",
          "name": "stdout",
          "text": [
            "{0, 1, 2, 3, 4, 5, 6}\n"
          ]
        }
      ]
    },
    {
      "cell_type": "code",
      "source": [
        "# removing 1 element in a set using .pop()\n",
        "example_set.pop()\n",
        "print(example_set)"
      ],
      "metadata": {
        "colab": {
          "base_uri": "https://localhost:8080/"
        },
        "id": "ARswhacx1_ti",
        "outputId": "9a6c36a0-e7f1-4ac6-d000-8c3d897175ec"
      },
      "execution_count": 96,
      "outputs": [
        {
          "output_type": "stream",
          "name": "stdout",
          "text": [
            "{1, 2, 3, 4, 5, 6}\n"
          ]
        }
      ]
    },
    {
      "cell_type": "code",
      "source": [
        "# removing 1 element in a set using .remove()\n",
        "print(example_set)\n",
        "example_set.remove(6)\n",
        "print(example_set)"
      ],
      "metadata": {
        "colab": {
          "base_uri": "https://localhost:8080/"
        },
        "id": "xJn3x8wW2Xzb",
        "outputId": "5076ad24-5287-41b7-dce9-4aaef4772fa2"
      },
      "execution_count": 97,
      "outputs": [
        {
          "output_type": "stream",
          "name": "stdout",
          "text": [
            "{1, 2, 3, 4, 5, 6}\n",
            "{1, 2, 3, 4, 5}\n"
          ]
        }
      ]
    },
    {
      "cell_type": "code",
      "source": [
        "# removing all elements in a set\n",
        "example_set.clear()\n",
        "print(example_set)"
      ],
      "metadata": {
        "colab": {
          "base_uri": "https://localhost:8080/"
        },
        "id": "yQB-HAiI2K3q",
        "outputId": "3d3bba61-85bc-477b-b1af-8e83c8b279d2"
      },
      "execution_count": 98,
      "outputs": [
        {
          "output_type": "stream",
          "name": "stdout",
          "text": [
            "set()\n"
          ]
        }
      ]
    },
    {
      "cell_type": "markdown",
      "source": [
        "## Exercise 1\n",
        "\n",
        "Count the frequency of each word in the list and output the count as a dictionary: `words = ['apple', 'banana', 'apple', 'orange', 'banana', 'apple', 'mango']`"
      ],
      "metadata": {
        "id": "3UX4exRjt_Fr"
      }
    },
    {
      "cell_type": "code",
      "source": [
        "words = ['apple', 'banana', 'apple', 'orange', 'banana', 'apple', 'mango']\n",
        "count_dict = {} # create empty dictionary to hold the count\n",
        "\n",
        "for word in words:\n",
        "    if word in count_dict:\n",
        "        count_dict[word] += 1\n",
        "    else:\n",
        "        count_dict[word] = 1\n",
        "\n",
        "print(count_dict)"
      ],
      "metadata": {
        "colab": {
          "base_uri": "https://localhost:8080/"
        },
        "id": "RYI1H7opuL8b",
        "outputId": "c7a9c8f3-1643-4516-ad31-bdc32b9db806"
      },
      "execution_count": 99,
      "outputs": [
        {
          "output_type": "stream",
          "name": "stdout",
          "text": [
            "{'apple': 3, 'banana': 2, 'orange': 1, 'mango': 1}\n"
          ]
        }
      ]
    }
  ]
}
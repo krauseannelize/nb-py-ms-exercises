{
  "nbformat": 4,
  "nbformat_minor": 0,
  "metadata": {
    "colab": {
      "provenance": [],
      "authorship_tag": "ABX9TyOqmRpnLTOHlOERKhMAOIhl",
      "include_colab_link": true
    },
    "kernelspec": {
      "name": "python3",
      "display_name": "Python 3"
    },
    "language_info": {
      "name": "python"
    }
  },
  "cells": [
    {
      "cell_type": "markdown",
      "metadata": {
        "id": "view-in-github",
        "colab_type": "text"
      },
      "source": [
        "<a href=\"https://colab.research.google.com/github/krauseannelize/nb-py-ms-exercises/blob/main/notebooks/02_python_basics.ipynb\" target=\"_parent\"><img src=\"https://colab.research.google.com/assets/colab-badge.svg\" alt=\"Open In Colab\"/></a>"
      ]
    },
    {
      "cell_type": "markdown",
      "source": [
        "# 02 | Python Basics\n",
        "\n",
        "---\n",
        "\n",
        "## Data Types\n",
        "\n",
        "- Integers\n",
        "- Floats\n",
        "- Strings\n",
        "- Boolean\n",
        "- Lists\n",
        "- Tuples\n",
        "- Dictionary"
      ],
      "metadata": {
        "id": "6QX1GoGCaTxH"
      }
    },
    {
      "cell_type": "code",
      "execution_count": 8,
      "metadata": {
        "id": "Lc4okSKBaOmq",
        "colab": {
          "base_uri": "https://localhost:8080/"
        },
        "outputId": "88dc0ad7-c7f3-4047-d346-604161f0fd56"
      },
      "outputs": [
        {
          "output_type": "stream",
          "name": "stdout",
          "text": [
            "x_int is 5 which is of <class 'int'>\n",
            "x_fl is 6.5 which is of <class 'float'>\n",
            "x_str is hello which is of <class 'str'>\n",
            "x_range is range(0, 6) which is of <class 'range'>\n",
            "x_bool is False which is of <class 'bool'>\n",
            "x_list is [1, 2, 3] which is of <class 'list'>\n",
            "x_tup is (1, 23, 'Bob', 'The Builder') which is of <class 'tuple'>\n",
            "x_dic is {'name': 'Bob', 'age': 23} which is of <class 'dict'>\n"
          ]
        }
      ],
      "source": [
        "x_int = 5\n",
        "x_fl = 6.5\n",
        "x_str = \"hello\"\n",
        "x_bool = x_int > x_fl\n",
        "x_range = range(6)\n",
        "x_list = [1, 2, 3]\n",
        "x_tup = (1, 23, 'Bob', 'The Builder')\n",
        "x_dic = {'name': 'Bob', 'age': 23}\n",
        "\n",
        "print(\"x_int is\", x_int, \"which is of\", type(x_int))\n",
        "print(\"x_fl is\", x_fl, \"which is of\", type(x_fl))\n",
        "print(\"x_str is\", x_str, \"which is of\", type(x_str))\n",
        "print(\"x_bool is\", x_bool, \"which is of\", type(x_bool))\n",
        "print(\"x_list is\", x_list, \"which is of\", type(x_list))\n",
        "print(\"x_tup is\", x_tup, \"which is of\", type(x_tup))\n",
        "print(\"x_dic is\", x_dic, \"which is of\", type(x_dic))"
      ]
    },
    {
      "cell_type": "markdown",
      "source": [
        "## Type conversion\n",
        "\n",
        "Type conversion means changing the data type of a value. For example, converting an integer (5) to a float (5.0) or a string (\"10\") to an integer (10). In Python, there are two types of type conversion:\n",
        "\n",
        "- **Implicit Conversion:** Python changes the data type by itself while running the code, to avoid mistakes or data loss.\n",
        "- **Explicit Conversion:** You change the data type on purpose using functions like int(), float(), str() or bool()."
      ],
      "metadata": {
        "id": "-_FdtfhJjRva"
      }
    },
    {
      "cell_type": "code",
      "source": [
        "# Implicit conversion to float\n",
        "x = 10\n",
        "y = 5.5\n",
        "z = x + y\n",
        "\n",
        "print(\"x is\", x, \"which is of\", type(x))\n",
        "print(\"y is\", y, \"which is of\", type(y))\n",
        "print(\"z is x plus y that equals\", z, \"which is of\", type(z))"
      ],
      "metadata": {
        "colab": {
          "base_uri": "https://localhost:8080/"
        },
        "id": "pI3sTRcLzNE8",
        "outputId": "9e98c65d-6466-4468-985b-feb1ed6a1f3b"
      },
      "execution_count": 9,
      "outputs": [
        {
          "output_type": "stream",
          "name": "stdout",
          "text": [
            "x is 10 which is of <class 'int'>\n",
            "y is 5.5 which is of <class 'float'>\n",
            "z is x plus y that equals 15.5 which is of <class 'float'>\n"
          ]
        }
      ]
    },
    {
      "cell_type": "code",
      "source": [
        "# Explicit conversion using type casting\n",
        "x = 5\n",
        "y = str(x) # cast integer type as string\n",
        "z = float(x) # casting integer type as float\n",
        "\n",
        "print(type(x))\n",
        "print(type(y))\n",
        "print(type(z))"
      ],
      "metadata": {
        "colab": {
          "base_uri": "https://localhost:8080/"
        },
        "id": "LasSKhii0NZl",
        "outputId": "bab8dadf-1fde-47f7-e80e-826ee78cdcc8"
      },
      "execution_count": 11,
      "outputs": [
        {
          "output_type": "stream",
          "name": "stdout",
          "text": [
            "<class 'int'>\n",
            "<class 'str'>\n",
            "<class 'float'>\n"
          ]
        }
      ]
    },
    {
      "cell_type": "markdown",
      "source": [
        "## Variables\n",
        "\n",
        "A variable is a placeholder or a container for values and:\n",
        "\n",
        "- must start with a letter or underscore\n",
        "- shouldn't start with a number\n",
        "- can contain numbers and underscores\n",
        "- are case sensitive\n",
        "- cannot be a keyword"
      ],
      "metadata": {
        "id": "Oqu7vLmHOKlw"
      }
    },
    {
      "cell_type": "code",
      "source": [
        "# assigning variables\n",
        "name = 'Bob'\n",
        "age = 23\n",
        "\n",
        "print(name, \"is\", age, \"years old.\")\n",
        "\n",
        "# reassigning variables\n",
        "name = 'Kate'\n",
        "age = 30\n",
        "\n",
        "print(name, \"is\", age, \"years old.\")\n",
        "\n",
        "# multiple assignments\n",
        "x, y, z = 10, 25, 36\n",
        "\n",
        "print(x)\n",
        "print(y)\n",
        "print(z)\n",
        "print(x, y, z)"
      ],
      "metadata": {
        "colab": {
          "base_uri": "https://localhost:8080/"
        },
        "id": "3oW36KZEOuwX",
        "outputId": "1bbc87fc-163b-4a44-840c-f31bf06b5b72"
      },
      "execution_count": 15,
      "outputs": [
        {
          "output_type": "stream",
          "name": "stdout",
          "text": [
            "Bob is 23 years old.\n",
            "Kate is 30 years old.\n",
            "10\n",
            "25\n",
            "36\n",
            "10 25 36\n"
          ]
        }
      ]
    },
    {
      "cell_type": "code",
      "source": [
        "# using a python keyword as variable will result in an error\n",
        "class = 'Data Analytics'\n",
        "\n",
        "print(class)"
      ],
      "metadata": {
        "colab": {
          "base_uri": "https://localhost:8080/",
          "height": 108
        },
        "id": "8l2wMXuXQRk-",
        "outputId": "58cfd35e-c619-4c05-d6ed-c51304cc8184"
      },
      "execution_count": 16,
      "outputs": [
        {
          "output_type": "error",
          "ename": "SyntaxError",
          "evalue": "invalid syntax (ipython-input-1038179507.py, line 2)",
          "traceback": [
            "\u001b[0;36m  File \u001b[0;32m\"/tmp/ipython-input-1038179507.py\"\u001b[0;36m, line \u001b[0;32m2\u001b[0m\n\u001b[0;31m    class = 'Data Analytics'\u001b[0m\n\u001b[0m          ^\u001b[0m\n\u001b[0;31mSyntaxError\u001b[0m\u001b[0;31m:\u001b[0m invalid syntax\n"
          ]
        }
      ]
    },
    {
      "cell_type": "code",
      "source": [
        "# using a number to start a variable will result in an error\n",
        "2025_students = 'Data Analytics'\n",
        "\n",
        "print(2025_students)"
      ],
      "metadata": {
        "colab": {
          "base_uri": "https://localhost:8080/",
          "height": 108
        },
        "id": "RH1GGB-lQcAZ",
        "outputId": "8eb4b327-77b0-46f4-cce4-cd9958a7888a"
      },
      "execution_count": 17,
      "outputs": [
        {
          "output_type": "error",
          "ename": "SyntaxError",
          "evalue": "invalid decimal literal (ipython-input-728604371.py, line 2)",
          "traceback": [
            "\u001b[0;36m  File \u001b[0;32m\"/tmp/ipython-input-728604371.py\"\u001b[0;36m, line \u001b[0;32m2\u001b[0m\n\u001b[0;31m    2025_students = 'Data Analytics'\u001b[0m\n\u001b[0m        ^\u001b[0m\n\u001b[0;31mSyntaxError\u001b[0m\u001b[0;31m:\u001b[0m invalid decimal literal\n"
          ]
        }
      ]
    },
    {
      "cell_type": "markdown",
      "source": [
        "## Exercise\n",
        "\n",
        "Create a variable to store a temperature in Celsius. Convert the temperature to Fahrenheit using the formula: F = (C * 9 / 5) +32"
      ],
      "metadata": {
        "id": "xe4v_ECCQwy9"
      }
    },
    {
      "cell_type": "code",
      "source": [
        "c = 25\n",
        "f = (c * 9 / 5) + 32\n",
        "\n",
        "print(f)\n",
        "print(c, \"Celsius converted to Fahrenheit is\", f)"
      ],
      "metadata": {
        "colab": {
          "base_uri": "https://localhost:8080/"
        },
        "id": "wy5WPR-QQ-tb",
        "outputId": "5be14a87-2b33-4c5d-aae2-85e6f731dcc3"
      },
      "execution_count": 19,
      "outputs": [
        {
          "output_type": "stream",
          "name": "stdout",
          "text": [
            "77.0\n",
            "25 Celsius converted to Fahrenheit is 77.0\n"
          ]
        }
      ]
    },
    {
      "cell_type": "markdown",
      "source": [
        "## String Formatting"
      ],
      "metadata": {
        "id": "ajpknj5vReCQ"
      }
    },
    {
      "cell_type": "code",
      "source": [
        "# assigning variables\n",
        "name = 'Bob'\n",
        "age = 23\n",
        "\n",
        "print(name, \"is currently\", age, \"years old and will be\", age+5, \"in 5 year's time.\")\n",
        "\n",
        "# F-STRING FORMATTING\n",
        "# assign an F-string to a variable\n",
        "message = f'{name} is currently {age} years old and will be {age + 5} in 5 year\\'s time.'\n",
        "print(message)\n",
        "\n",
        "# using F-string directly inside the print() function\n",
        "print(f'{name} is currently {age} years old and will be {age + 5} in 5 year\\'s time.')"
      ],
      "metadata": {
        "colab": {
          "base_uri": "https://localhost:8080/"
        },
        "id": "02OSvdT-R086",
        "outputId": "1a2e263f-645d-4249-e51a-c212a638fcc9"
      },
      "execution_count": 5,
      "outputs": [
        {
          "output_type": "stream",
          "name": "stdout",
          "text": [
            "Bob is currently 23 years old and will be 28 in 5 year's time.\n",
            "Bob is currently 23 years old and will be 28 in 5 year's time.\n",
            "Bob is currently 23 years old and will be 28 in 5 year's time.\n"
          ]
        }
      ]
    },
    {
      "cell_type": "markdown",
      "source": [
        "## Arithmetic Operators\n",
        "\n",
        "- Addition (+)\n",
        "- Subtraction (-)\n",
        "- Multiplication (*)\n",
        "- Division (/)\n",
        "- Modulus (%) - returns the remainder after division\n",
        "- Floor (//) - returns the integer after division"
      ],
      "metadata": {
        "id": "F6rE8jsjy9yo"
      }
    },
    {
      "cell_type": "code",
      "source": [
        "x = 10\n",
        "y = 4\n",
        "\n",
        "print(\"Our numbers are\", x, \"and\", y)\n",
        "print(\"Addition: \", x + y)\n",
        "print(\"Subtraction: \", x - y)\n",
        "print(\"Multiplication\", x * y)\n",
        "print(\"Division: \", x / y)\n",
        "print(\"Modulus: \", x % y) # 10 / 4 = 2.5; 4 * 2 = 8; 10 - 8 = 2 is the remainder\n",
        "print(\"Floor: \", x // y)\n",
        "\n",
        "# combine division and floor to return the fractional part\n",
        "print(\"Fractional part of floating point division: \", (x / y) - (x // y))"
      ],
      "metadata": {
        "colab": {
          "base_uri": "https://localhost:8080/"
        },
        "id": "-0hqWA8xzMDU",
        "outputId": "bb5c6d00-4a20-4c66-ec08-4e7d178ece75"
      },
      "execution_count": 8,
      "outputs": [
        {
          "output_type": "stream",
          "name": "stdout",
          "text": [
            "Our numbers are 10 and 4\n",
            "Addition:  14\n",
            "Subtraction:  6\n",
            "Multiplication 40\n",
            "Division:  2.5\n",
            "Modulus:  2\n",
            "Floor:  2\n",
            "Fractional part of floating point division:  0.5\n"
          ]
        }
      ]
    },
    {
      "cell_type": "markdown",
      "source": [
        "## Exercises\n",
        "\n",
        "1. Calculate the circumference of a circle with a given radius of 5 (use Pi = 3.14)\n",
        "2. Check if 15 is divisible by 4 using the modulus operator."
      ],
      "metadata": {
        "id": "nTPkGGGj2HIS"
      }
    },
    {
      "cell_type": "code",
      "source": [
        "# Question 1\n",
        "r = 5\n",
        "pi = 3.14\n",
        "c = round(2 * pi * r, 2)\n",
        "\n",
        "print(\"Question 1:\")\n",
        "print(\"The circumference of a circle with a radius of\", r, \"is\", c)\n",
        "print()\n",
        "\n",
        "# Question 2\n",
        "x = 15 % 4\n",
        "answer = x == 0\n",
        "\n",
        "print(\"Question 2:\")\n",
        "print(\"15 is divisible by 4:\", answer)"
      ],
      "metadata": {
        "colab": {
          "base_uri": "https://localhost:8080/"
        },
        "id": "WdhgdCNW2sDQ",
        "outputId": "9e6c55f7-7b0e-4a52-d749-36f54af89ea0"
      },
      "execution_count": 16,
      "outputs": [
        {
          "output_type": "stream",
          "name": "stdout",
          "text": [
            "Question 1:\n",
            "The circumference of a circle with a radius of 5 is 31.4\n",
            "\n",
            "Question 2:\n",
            "15 is divisible by 4: False\n"
          ]
        }
      ]
    }
  ]
}
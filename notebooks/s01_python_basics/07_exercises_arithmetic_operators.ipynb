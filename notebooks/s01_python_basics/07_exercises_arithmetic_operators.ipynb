{
  "nbformat": 4,
  "nbformat_minor": 0,
  "metadata": {
    "colab": {
      "provenance": [],
      "authorship_tag": "ABX9TyN6Wmksgn1yH6OY/AajD2QS",
      "include_colab_link": true
    },
    "kernelspec": {
      "name": "python3",
      "display_name": "Python 3"
    },
    "language_info": {
      "name": "python"
    }
  },
  "cells": [
    {
      "cell_type": "markdown",
      "metadata": {
        "id": "view-in-github",
        "colab_type": "text"
      },
      "source": [
        "<a href=\"https://colab.research.google.com/github/krauseannelize/nb-py-ms-exercises/blob/main/notebooks/07_exercises_arithmetic_operators.ipynb\" target=\"_parent\"><img src=\"https://colab.research.google.com/assets/colab-badge.svg\" alt=\"Open In Colab\"/></a>"
      ]
    },
    {
      "cell_type": "markdown",
      "source": [
        "# 07 | Exercises - Arithmetic Operators\n",
        "\n",
        "- Addition (+)\n",
        "- Subtraction (-)\n",
        "- Multiplication (*)\n",
        "- Division (/)\n",
        "- Modulus (%) - returns the remainder after division\n",
        "- Floor (//) - returns the integer after division"
      ],
      "metadata": {
        "id": "1IpT5waTS8ZY"
      }
    },
    {
      "cell_type": "code",
      "source": [
        "x = 10\n",
        "y = 4\n",
        "\n",
        "print(f\"Addition ({x} + {y}): {x + y}\")\n",
        "print(f\"Subtraction ({x} - {y}): {x - y}\")\n",
        "print(f\"Multiplication ({x} * {y}): {x * y}\")\n",
        "print(f\"Division ({x} / {y}): {x / y}\")\n",
        "print(f\"Exponentiation ({x} ** {y}): {x ** y}\")\n",
        "print()\n",
        "\n",
        "z = x // y\n",
        "\n",
        "print(f\"Floor division ({x} // {y}) rounds down\")\n",
        "print(f\"to the nearest integer: {z}\")\n",
        "print()\n",
        "\n",
        "print(f\"The Modulus operator ({x} % {y}) returns\")\n",
        "print(f\"the remainder after division: {x % y}\")\n",
        "print()\n",
        "print(f\"How Modulus works:\")\n",
        "print(f\"Step 1 | Floor division: ({x} // {y}) = {z}\")\n",
        "print(f\"Step 2 | Find the remainder: ({x} - ({y} * {z})) = {x - (y * z)}\")\n",
        "\n",
        "print()\n",
        "\n",
        "print(f\"Combine division and floor division to return\")\n",
        "print(f\"the fractional part ({x} / {y}) - ({x} // {y}): {(x / y) - (x // y)}\")"
      ],
      "metadata": {
        "colab": {
          "base_uri": "https://localhost:8080/"
        },
        "id": "HUbZR0bcS7LQ",
        "outputId": "14256a58-23b5-4f5c-8928-664c086e4984"
      },
      "execution_count": 37,
      "outputs": [
        {
          "output_type": "stream",
          "name": "stdout",
          "text": [
            "Addition (10 + 4): 14\n",
            "Subtraction (10 - 4): 6\n",
            "Multiplication (10 * 4): 40\n",
            "Division (10 / 4): 2.5\n",
            "Exponentiation (10 ** 4): 10000\n",
            "\n",
            "Floor division (10 // 4) rounds down\n",
            "to the nearest integer: 2\n",
            "\n",
            "The Modulus operator (10 % 4) returns\n",
            "the remainder after division: 2\n",
            "\n",
            "How Modulus works:\n",
            "Step 1 | Floor division: (10 // 4) = 2\n",
            "Step 2 | Find the remainder: (10 - (4 * 2)) = 2\n",
            "\n",
            "Combine division and floor division to return\n",
            "the fractional part (10 / 4) - (10 // 4): 0.5\n"
          ]
        }
      ]
    },
    {
      "cell_type": "markdown",
      "source": [
        "## Type Conversion\n",
        "\n",
        "Type conversion using the `int()` function changes a number's data type, and for floating-point numbers, it discards the decimal portion. This process is called truncation towards zero on the number line and differs from floor division (//), which rounds the result of a division down to the nearest integer. While these operations often produce the same result for positive numbers, their behavior with negative numbers is distinct."
      ],
      "metadata": {
        "id": "qdxDeEOuxIvB"
      }
    },
    {
      "cell_type": "code",
      "source": [
        "x = 10\n",
        "x_neg = -10\n",
        "y = 4\n",
        "\n",
        "print(f\"Standard Division:\")\n",
        "print(f\"Positive ({x} / {y}): {x / y}\")\n",
        "print(f\"Negative ({x_neg} / {y}): {x_neg / y}\")\n",
        "print()\n",
        "print(f\"Floor Division:\")\n",
        "print(f\"Positive ({x} // {y}): {x // y}\")\n",
        "print(f\"Negative ({x_neg} // {y}): {x_neg // y}\")\n",
        "print()\n",
        "print(f\"Type Conversion to Integer:\")\n",
        "print(f\"Positive (int({x} / {y})): {int(x / y)}\")\n",
        "print(f\"Negative (int({x_neg} / {y})): {int(x_neg / y)}\")"
      ],
      "metadata": {
        "colab": {
          "base_uri": "https://localhost:8080/"
        },
        "id": "zlhdflHSv5Hj",
        "outputId": "dbb85e10-0b51-48f2-ae87-d7d7497c7a38"
      },
      "execution_count": 41,
      "outputs": [
        {
          "output_type": "stream",
          "name": "stdout",
          "text": [
            "Standard Division:\n",
            "Positive (10 / 4): 2.5\n",
            "Negative (-10 / 4): -2.5\n",
            "\n",
            "Floor Division:\n",
            "Positive (10 // 4): 2\n",
            "Negative (-10 // 4): -3\n",
            "\n",
            "Type Conversion to Integer:\n",
            "Positive (int(10 / 4)): 2\n",
            "Negative (int(-10 / 4)): -2\n"
          ]
        }
      ]
    },
    {
      "cell_type": "markdown",
      "source": [
        "## Exercise 1\n",
        "\n",
        "Given a temperature of 95 degrees Fahrenheit, calculate and print the equivalent temperature in Celsius. (To convert Fahrenheit to Celsius, subtract 32, then multiply by 5/9.)"
      ],
      "metadata": {
        "id": "meLb8t0Mq57V"
      }
    },
    {
      "cell_type": "code",
      "execution_count": 29,
      "metadata": {
        "colab": {
          "base_uri": "https://localhost:8080/"
        },
        "id": "8wTPg1JjSyFX",
        "outputId": "eab3a937-0842-4584-a93f-ce516500f20e"
      },
      "outputs": [
        {
          "output_type": "stream",
          "name": "stdout",
          "text": [
            "95 degrees Fahrenheit is equivalent to 35.0 degrees Celsius.\n"
          ]
        }
      ],
      "source": [
        "fahrenheit = 95\n",
        "celsius = (fahrenheit - 32) * (5 / 9)\n",
        "\n",
        "print(f\"{fahrenheit} degrees Fahrenheit is equivalent to {celsius} degrees Celsius.\")"
      ]
    },
    {
      "cell_type": "markdown",
      "source": [
        "## Exercise 2\n",
        "\n",
        "- The anticipated sailing time of the Titanic was 137 hours.\n",
        "- Print out the number of whole days in 137 hours."
      ],
      "metadata": {
        "id": "7WMDEAMwrPIP"
      }
    },
    {
      "cell_type": "code",
      "source": [
        "sailing_hours = 137\n",
        "hours_in_day = 24\n",
        "\n",
        "days = sailing_hours // hours_in_day\n",
        "\n",
        "print(f\"The Titanic will sail for {days} days.\")"
      ],
      "metadata": {
        "colab": {
          "base_uri": "https://localhost:8080/"
        },
        "id": "7k0Qov4WrRxS",
        "outputId": "788c112f-0a7a-4a50-edcf-8911593e7960"
      },
      "execution_count": 31,
      "outputs": [
        {
          "output_type": "stream",
          "name": "stdout",
          "text": [
            "The Titanic will sail for 5 days.\n"
          ]
        }
      ]
    },
    {
      "cell_type": "markdown",
      "source": [
        "## Exercise 3\n",
        "\n",
        "1. On the night before setting sail, the crew of the Titanic chose to have pizzas. They ordered 13 pizzas, and each pizza had 8 slices.\n",
        "2. There were 20 crew members present that night, and the slices were equally divided between them.\n",
        "3. Write a program that will calculate and print, line after line:\n",
        "- The number of slices each crew member received.\n",
        "- The number of slices that were left unclaimed."
      ],
      "metadata": {
        "id": "TyG3BFlOr2qG"
      }
    },
    {
      "cell_type": "code",
      "source": [
        "total_pizzas = 13\n",
        "slices_per_pizza = 8\n",
        "total_slices = total_pizzas * slices_per_pizza\n",
        "crew_members = 20\n",
        "\n",
        "print(f\"Each crew member received {total_slices // crew_members} slices.\")\n",
        "print(f\"{total_slices % crew_members} were left unclaimed.\")"
      ],
      "metadata": {
        "colab": {
          "base_uri": "https://localhost:8080/"
        },
        "id": "4-93sn3ssBmY",
        "outputId": "eb6360c8-ec33-46b1-835a-98eafed7fee8"
      },
      "execution_count": 32,
      "outputs": [
        {
          "output_type": "stream",
          "name": "stdout",
          "text": [
            "Each crew member received 5 slices.\n",
            "4 were left unclaimed\n"
          ]
        }
      ]
    },
    {
      "cell_type": "markdown",
      "source": [
        "## Exercise 4\n",
        "\n",
        "- The secret password to a lock is the right-most digit of the square of the number 24.\n",
        "- Using arithmetic operators, print this number in a single print statement."
      ],
      "metadata": {
        "id": "2PWsiSTxtGbH"
      }
    },
    {
      "cell_type": "code",
      "source": [
        "print((24 ** 2) % 10)"
      ],
      "metadata": {
        "colab": {
          "base_uri": "https://localhost:8080/"
        },
        "id": "P0dqbeaHtNXS",
        "outputId": "ce987139-1624-44d7-fbbe-cad7bafc9d73"
      },
      "execution_count": 35,
      "outputs": [
        {
          "output_type": "stream",
          "name": "stdout",
          "text": [
            "6\n"
          ]
        }
      ]
    }
  ]
}
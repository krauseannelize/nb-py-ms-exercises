{
  "nbformat": 4,
  "nbformat_minor": 0,
  "metadata": {
    "colab": {
      "provenance": [],
      "authorship_tag": "ABX9TyM7TXZsIpjXWH9SblJeCXZI",
      "include_colab_link": true
    },
    "kernelspec": {
      "name": "python3",
      "display_name": "Python 3"
    },
    "language_info": {
      "name": "python"
    }
  },
  "cells": [
    {
      "cell_type": "markdown",
      "metadata": {
        "id": "view-in-github",
        "colab_type": "text"
      },
      "source": [
        "<a href=\"https://colab.research.google.com/github/krauseannelize/nb-py-ms-exercises/blob/main/notebooks/06_exercises_variables.ipynb\" target=\"_parent\"><img src=\"https://colab.research.google.com/assets/colab-badge.svg\" alt=\"Open In Colab\"/></a>"
      ]
    },
    {
      "cell_type": "markdown",
      "source": [
        "# 06 | Exercises - Variables\n",
        "\n",
        "In programming you use variables to store values like numbers, text and more. A variable is made of two parts:\n",
        "\n",
        "- **Variable Name:** The label for the stored value, unchangeable once the variable is made.\n",
        "- **Variable Value:** The actual value stored inside the variable, can be modified as many times as you wish.\n",
        "\n",
        "When you see a line of code with a `=` in it, this is what we call an assignment statement. This is a two-step process:\n",
        "\n",
        "1. The right side of the assignment statement is evaluated into a single value.\n",
        "2. Then, it is assigned to the variable on the left side.\n",
        "\n",
        "## Using Variables"
      ],
      "metadata": {
        "id": "bO5c-Y2KGpUl"
      }
    },
    {
      "cell_type": "code",
      "execution_count": 1,
      "metadata": {
        "colab": {
          "base_uri": "https://localhost:8080/"
        },
        "id": "yWqxRVJ7Gi4w",
        "outputId": "aa3614bd-4a09-46b4-a385-af03f1af45d1"
      },
      "outputs": [
        {
          "output_type": "stream",
          "name": "stdout",
          "text": [
            "Hello, World!\n"
          ]
        }
      ],
      "source": [
        "# assigning a string to the variable \"message\"\n",
        "\n",
        "message = \"Hello, World!\"\n",
        "print(message)"
      ]
    },
    {
      "cell_type": "markdown",
      "source": [
        "## Incorporating Variables Into Expressions"
      ],
      "metadata": {
        "id": "M9fQZZhnIXnJ"
      }
    },
    {
      "cell_type": "code",
      "source": [
        "# assigning an integer to the variable \"number\"\n",
        "# and using it in an expression\n",
        "\n",
        "number = 50\n",
        "print(number * 2)"
      ],
      "metadata": {
        "colab": {
          "base_uri": "https://localhost:8080/"
        },
        "id": "j-HZ3HgGIemr",
        "outputId": "091b92fc-2d75-4106-ca0c-8f033d42a748"
      },
      "execution_count": 2,
      "outputs": [
        {
          "output_type": "stream",
          "name": "stdout",
          "text": [
            "100\n"
          ]
        }
      ]
    },
    {
      "cell_type": "markdown",
      "source": [
        "## Updating Variables"
      ],
      "metadata": {
        "id": "EjRMtkzpIBeY"
      }
    },
    {
      "cell_type": "code",
      "source": [
        "# assigning a string to the variable \"message\"\n",
        "message = \"Hello, World!\"\n",
        "print(message)\n",
        "\n",
        "# assigning  a different string to the variable \"message\"\n",
        "message = \"Hola, Mundo!\"\n",
        "print(message)"
      ],
      "metadata": {
        "colab": {
          "base_uri": "https://localhost:8080/"
        },
        "id": "6earAgt6I6r-",
        "outputId": "87cf7a67-20e4-49be-bcb6-13e33a6cc9b4"
      },
      "execution_count": 3,
      "outputs": [
        {
          "output_type": "stream",
          "name": "stdout",
          "text": [
            "Hello, World!\n",
            "Hola, Mundo!\n"
          ]
        }
      ]
    },
    {
      "cell_type": "markdown",
      "source": [
        "## Define a variable using other variables"
      ],
      "metadata": {
        "id": "LyqAtrQBFaav"
      }
    },
    {
      "cell_type": "code",
      "source": [
        "# assigning new variables\n",
        "name = \"Bob\"\n",
        "surname = \"The Builder\"\n",
        "\n",
        "# using existing variables to create a new variable\n",
        "full_name = name + \" \" + surname\n",
        "\n",
        "print(full_name)"
      ],
      "metadata": {
        "colab": {
          "base_uri": "https://localhost:8080/"
        },
        "id": "UI_FfPevFgYk",
        "outputId": "659901cd-4dcb-4321-e511-dbc7727bdd5e"
      },
      "execution_count": 4,
      "outputs": [
        {
          "output_type": "stream",
          "name": "stdout",
          "text": [
            "Bob The Builder\n"
          ]
        }
      ]
    },
    {
      "cell_type": "markdown",
      "source": [
        "## Define a variable using itself"
      ],
      "metadata": {
        "id": "WOY0p3eHG_Cw"
      }
    },
    {
      "cell_type": "code",
      "source": [
        "full_name = \"Bob\"\n",
        "\n",
        "# reassigning the variable 'full_name' using its own value\n",
        "full_name = full_name + \" \" + \"The Builder\"\n",
        "\n",
        "print(full_name)"
      ],
      "metadata": {
        "colab": {
          "base_uri": "https://localhost:8080/"
        },
        "id": "ecjt0uCtG-Et",
        "outputId": "5b6dc8b9-17ad-447d-919c-b3e4a1f22beb"
      },
      "execution_count": 5,
      "outputs": [
        {
          "output_type": "stream",
          "name": "stdout",
          "text": [
            "Bob The Builder\n"
          ]
        }
      ]
    },
    {
      "cell_type": "markdown",
      "source": [
        "## Do variables have a type?\n",
        "\n",
        "Python is a **dynamically typed language**, which means that variables are allowed to change their type over the course of a program's execution. This behavior is not universal across all programming languages. In many languages, a variable's type must be declared when it's created, and it can't be changed later.\n",
        "\n",
        "**Dynamic Typing** can be very powerful and convenient, but it also places a significant amount of responsibility on the programmer. Misunderstanding a variable's type can lead to bugs that are hard to track down."
      ],
      "metadata": {
        "id": "kJSnT1RMKtc8"
      }
    },
    {
      "cell_type": "code",
      "source": [
        "number1 = 100  # assign integer data type\n",
        "number2 = \"100\" # assign string data type\n",
        "\n",
        "# + operator performs additiona on 2 integers\n",
        "print(number1 + number1)\n",
        "\n",
        "# + operator performs concatenation on 2 strings\n",
        "print(number2 + number2)"
      ],
      "metadata": {
        "id": "9q7DFO5cLQNw"
      },
      "execution_count": null,
      "outputs": []
    },
    {
      "cell_type": "markdown",
      "source": [
        "## F-Strings (Formatted Strings)\n",
        "\n",
        "An `f-string` is a concise way to embed **expressions** _(a combination of values, variables, and operators)_ inside string literals in Python. It provides a simple and readable way to format strings, making it easier to include variable values or the results of expressions directly within a string.\n",
        "\n",
        "To create an f-string, you put the letter f immediately before the opening quotation mark of the string. Inside the string, you can place Python expressions within curly braces {}."
      ],
      "metadata": {
        "id": "9Le3PckqM3Fq"
      }
    },
    {
      "cell_type": "code",
      "source": [
        "name = \"Mario\"\n",
        "age = 25\n",
        "address = \"Mushroom Kingdom\"\n",
        "\n",
        "print(f\"Hi {name} from {address}! You are {age} year's old and will be {age + 1} next year.\")"
      ],
      "metadata": {
        "colab": {
          "base_uri": "https://localhost:8080/"
        },
        "id": "tMmYOvjrOMJf",
        "outputId": "f3548059-05a3-4b77-e1d6-77714d088f55"
      },
      "execution_count": 12,
      "outputs": [
        {
          "output_type": "stream",
          "name": "stdout",
          "text": [
            "Hi Mario from Mushroom Kingdom! You are 25 year's old and will be 26 next year.\n"
          ]
        }
      ]
    },
    {
      "cell_type": "markdown",
      "source": [
        "## Exercise 1\n",
        "\n",
        "This program is meant to print the age 12, but it doesn’t work. Can you fix it?\n",
        "\n",
        "```python\n",
        "age = 12\n",
        "print(\"age\")\n",
        "```"
      ],
      "metadata": {
        "id": "STQuHWVGJZqV"
      }
    },
    {
      "cell_type": "code",
      "source": [
        "age = 12\n",
        "print(age)"
      ],
      "metadata": {
        "colab": {
          "base_uri": "https://localhost:8080/"
        },
        "id": "CkXDh78WJkhV",
        "outputId": "8377652f-86de-4a5e-fc22-3ec29b43dac2"
      },
      "execution_count": 4,
      "outputs": [
        {
          "output_type": "stream",
          "name": "stdout",
          "text": [
            "12\n"
          ]
        }
      ]
    },
    {
      "cell_type": "markdown",
      "source": [
        "## Exercise 2\n",
        "\n",
        "Without changing any of the existing lines, make the program print “Goodbye!” instead of “Hello!”.\n",
        "\n",
        "```python\n",
        "message = \"Hello!\"\n",
        "# Add code here\n",
        "\n",
        "print(message)\n",
        "```"
      ],
      "metadata": {
        "id": "K2D2Id1XJwqg"
      }
    },
    {
      "cell_type": "code",
      "source": [
        "message = \"Hello!\"\n",
        "message = \"Goodbye!\"\n",
        "\n",
        "print(message)"
      ],
      "metadata": {
        "colab": {
          "base_uri": "https://localhost:8080/"
        },
        "id": "-5GK7Vd5J_Ej",
        "outputId": "ff24fbfe-ba10-4a8f-9c2a-883210293eb0"
      },
      "execution_count": 5,
      "outputs": [
        {
          "output_type": "stream",
          "name": "stdout",
          "text": [
            "Goodbye!\n"
          ]
        }
      ]
    },
    {
      "cell_type": "markdown",
      "source": [
        "## Exercise 3\n",
        "\n",
        "Print the text saved to greeting three times. The output should be a single line like that:\n",
        "\n",
        "```python\n",
        "# Bon voyage, Titanic! Bon voyage, Titanic! Bon voyage, Titanic!\n",
        "\n",
        "greeting = \"Bon voyage, Titanic! \"\n",
        "# Add your code\n",
        "```"
      ],
      "metadata": {
        "id": "tv97UOxAKbmd"
      }
    },
    {
      "cell_type": "code",
      "source": [
        "greeting = \"Bon voyage, Titanic!\"\n",
        "print(\" \".join([greeting, greeting, greeting]))"
      ],
      "metadata": {
        "colab": {
          "base_uri": "https://localhost:8080/"
        },
        "id": "oFG6r_VhMS6z",
        "outputId": "746e5e41-2a89-409b-8334-4ce34b19e8c8"
      },
      "execution_count": 6,
      "outputs": [
        {
          "output_type": "stream",
          "name": "stdout",
          "text": [
            "Bon voyage, Titanic! Bon voyage, Titanic! Bon voyage, Titanic!\n"
          ]
        }
      ]
    },
    {
      "cell_type": "markdown",
      "source": [
        "## Exercise 4\n",
        "\n",
        "1. To calculate distance, the formula we use is Distance = Speed x Time.\n",
        "2. Create a print statement that prints the distance (in Miles) traveled by the Titanic in one day.\n",
        "\n",
        "```python\n",
        "miles_per_hour = 30\n",
        "hours_per_day = 24\n",
        "\n",
        "# Add your code\n",
        "```"
      ],
      "metadata": {
        "id": "2-A_OqSnMbWq"
      }
    },
    {
      "cell_type": "code",
      "source": [
        "miles_per_hour = 30\n",
        "hours_per_day = 24\n",
        "\n",
        "print(miles_per_hour * hours_per_day)"
      ],
      "metadata": {
        "colab": {
          "base_uri": "https://localhost:8080/"
        },
        "id": "hgzBihJKMaoO",
        "outputId": "4d3cb237-ed67-4a70-e050-968f4e09def9"
      },
      "execution_count": 7,
      "outputs": [
        {
          "output_type": "stream",
          "name": "stdout",
          "text": [
            "720\n"
          ]
        }
      ]
    },
    {
      "cell_type": "markdown",
      "source": [
        "## Exercise 5\n",
        "\n",
        "1. One knot (a unit of speed) equals 1.151 miles per hour.\n",
        "2. The current speed of the Titanic is 30 Knots, saved to a variable named `current_speed`.\n",
        "3. Create another variable called `current_speed_miles` that will hold the current speed in Miles per hour."
      ],
      "metadata": {
        "id": "KGAYqwSlD2fd"
      }
    },
    {
      "cell_type": "code",
      "source": [
        "current_speed = 30\n",
        "current_speed_miles = current_speed * 1.151\n",
        "\n",
        "print(\"The current speed of the Titanic is\", current_speed_miles, \"miles per hour.\")"
      ],
      "metadata": {
        "colab": {
          "base_uri": "https://localhost:8080/"
        },
        "id": "pa_I7ugGEEhM",
        "outputId": "25954595-a5f9-4d83-e872-3ec1c05c68e9"
      },
      "execution_count": 1,
      "outputs": [
        {
          "output_type": "stream",
          "name": "stdout",
          "text": [
            "The current speed of the Titanic is 34.53 miles per hour.\n"
          ]
        }
      ]
    },
    {
      "cell_type": "markdown",
      "source": [
        "## Exercise 6\n",
        "\n",
        "1. Create two string variables, `salutation` with the value \"Hello\" & `ship` with the value \"Titanic\".\n",
        "2. Create a new string that combines these two strings with a comma and a space between them.\n",
        "3. Make the computer print it."
      ],
      "metadata": {
        "id": "zCP7-AYbEg0Y"
      }
    },
    {
      "cell_type": "code",
      "source": [
        "salutation = \"Hello\"\n",
        "ship = \"Titanic\"\n",
        "\n",
        "print(salutation + \", \" + ship)"
      ],
      "metadata": {
        "colab": {
          "base_uri": "https://localhost:8080/"
        },
        "id": "8s5gefRSEqpZ",
        "outputId": "9536e0b1-74c3-4859-f890-9a36e28c61da"
      },
      "execution_count": 2,
      "outputs": [
        {
          "output_type": "stream",
          "name": "stdout",
          "text": [
            "Hello, Titanic\n"
          ]
        }
      ]
    },
    {
      "cell_type": "markdown",
      "source": [
        "## Exercise 7\n",
        "\n",
        "1. Without changing the variable `number`, add a `print` statement that will output the string version of the number, twice.\n",
        "2. For example, if the value of `number` is 100, the output will be `100100`.\n",
        "3. You can convert int to string by `str(number)`."
      ],
      "metadata": {
        "id": "j6UjjzfHE15a"
      }
    },
    {
      "cell_type": "code",
      "source": [
        "number = 100\n",
        "print(str(number) + str(number))"
      ],
      "metadata": {
        "colab": {
          "base_uri": "https://localhost:8080/"
        },
        "id": "Xvqi_MfhFA5H",
        "outputId": "acca3c4b-7540-45a3-cefb-58772bb55ef3"
      },
      "execution_count": 3,
      "outputs": [
        {
          "output_type": "stream",
          "name": "stdout",
          "text": [
            "100100\n"
          ]
        }
      ]
    },
    {
      "cell_type": "markdown",
      "source": [
        "## Exercise 8\n",
        "\n",
        "Add one line of code that will update the value of speed from 50 to 60, without directly assigning 60 into it. Try to use the variable itself on the right side of the equal sign."
      ],
      "metadata": {
        "id": "1XzndnX8H6wP"
      }
    },
    {
      "cell_type": "code",
      "source": [
        "speed = 50\n",
        "print(speed)\n",
        "\n",
        "speed = speed + 10\n",
        "print(speed)"
      ],
      "metadata": {
        "colab": {
          "base_uri": "https://localhost:8080/"
        },
        "id": "j1QfEFL3H9pn",
        "outputId": "a08cd52f-a79d-49d2-b8de-5a33bc2691a7"
      },
      "execution_count": 6,
      "outputs": [
        {
          "output_type": "stream",
          "name": "stdout",
          "text": [
            "50\n",
            "60\n"
          ]
        }
      ]
    },
    {
      "cell_type": "markdown",
      "source": [
        "## Exercise 9\n",
        "\n",
        "Add one line of code that will convert the variable number from string to float."
      ],
      "metadata": {
        "id": "C_0TJcWyIH8I"
      }
    },
    {
      "cell_type": "code",
      "source": [
        "number = \"3.14\"\n",
        "print(type(number))\n",
        "\n",
        "number = float(number)\n",
        "print(type(number))"
      ],
      "metadata": {
        "colab": {
          "base_uri": "https://localhost:8080/"
        },
        "id": "LgUIz8oYIKkx",
        "outputId": "83e94eb2-a5ff-4535-8a96-01cea32c9de3"
      },
      "execution_count": 9,
      "outputs": [
        {
          "output_type": "stream",
          "name": "stdout",
          "text": [
            "<class 'str'>\n",
            "<class 'float'>\n"
          ]
        }
      ]
    },
    {
      "cell_type": "markdown",
      "source": [
        "## Exercise 10\n",
        "\n",
        "The following program is supposed to print the age of a person in hours. However, there are two issues:\n",
        "\n",
        "- The variable names are not descriptive and clear.\n",
        "- The calculation doesn’t work 🥴. Can you fix it?\n",
        "\n",
        "```python\n",
        "a = 25\n",
        "y = 365\n",
        "h = \"24\"\n",
        "\n",
        "new = a * y * h\n",
        "print(\"Your age in hours is\")\n",
        "print(new)\n",
        "```"
      ],
      "metadata": {
        "id": "bWkTQSw1If6R"
      }
    },
    {
      "cell_type": "code",
      "source": [
        "age = 25\n",
        "days_in_a_year = 365.25\n",
        "hours_in_a_day = 24\n",
        "\n",
        "age_in_hours = age * days_in_a_year * hours_in_a_day\n",
        "print(\"Your age in hours is\")\n",
        "print(age_in_hours)"
      ],
      "metadata": {
        "colab": {
          "base_uri": "https://localhost:8080/"
        },
        "id": "sMiSmFiZIo3H",
        "outputId": "e00a4e97-14a3-45d8-8db1-15f40533dbf8"
      },
      "execution_count": 10,
      "outputs": [
        {
          "output_type": "stream",
          "name": "stdout",
          "text": [
            "Your age in hours is\n",
            "219150.0\n"
          ]
        }
      ]
    },
    {
      "cell_type": "markdown",
      "source": [
        "## Exercise 11\n",
        "\n",
        "- Annie tried to create a program that would perform a specific calculation.\n",
        "- She expected \"310\" to appear on the screen, but things didn't go as planned.\n",
        "- Could you correct this code so that it performs the calculation as expected?\n",
        "\n",
        "```python\n",
        "num1 = \"150\"\n",
        "num1 = num1 + num1\n",
        "\n",
        "result = num1 + 10\n",
        "print(result)\n",
        "```"
      ],
      "metadata": {
        "id": "kCYnRTj5MeNk"
      }
    },
    {
      "cell_type": "code",
      "source": [
        "num1 = 150\n",
        "num1 = num1 + num1\n",
        "\n",
        "result = num1 + 10\n",
        "print(result)"
      ],
      "metadata": {
        "colab": {
          "base_uri": "https://localhost:8080/"
        },
        "id": "B5Xpz15hMtd4",
        "outputId": "d79ea87f-084a-441a-9d80-bf9d88457d26"
      },
      "execution_count": 11,
      "outputs": [
        {
          "output_type": "stream",
          "name": "stdout",
          "text": [
            "310\n"
          ]
        }
      ]
    },
    {
      "cell_type": "markdown",
      "source": [
        "## Exercise 12\n",
        "\n",
        "The following code contains a ready f-string print statement, but it doesn’t work. Try to fix it; You can create variables as you wish.\n",
        "\n",
        "```python\n",
        "#fix the code\n",
        "year = 1912\n",
        "print(f\"The Titanic set sail in year\")\n",
        "```"
      ],
      "metadata": {
        "id": "7YdQDTLVPMvX"
      }
    },
    {
      "cell_type": "code",
      "source": [
        "year = 1912\n",
        "ship = \"Titanic\"\n",
        "print(f\"The {ship} set sail in {year}.\")"
      ],
      "metadata": {
        "colab": {
          "base_uri": "https://localhost:8080/"
        },
        "id": "WiINhKy0PZR3",
        "outputId": "1688ca6f-c777-4417-fd01-98d7510febf4"
      },
      "execution_count": 15,
      "outputs": [
        {
          "output_type": "stream",
          "name": "stdout",
          "text": [
            "The Titanic set sail in 1912.\n"
          ]
        }
      ]
    },
    {
      "cell_type": "markdown",
      "source": [
        "## Exercise 13\n",
        "\n",
        "The following code was supposed to print out the sentence:\n",
        "\n",
        "| Did You Know? |\n",
        "| :--- |\n",
        "| The Titanic had 3 four-cylinder engines. |\n",
        "\n",
        "Sadly, it contains two bugs that are preventing it from working as expected. Find the bugs and fix them so that the program works properly.\n",
        "\n",
        "```python\n",
        "engine_type = \"four-cylinder\"\n",
        "engine_num = 3\n",
        "#Your code here\n",
        "```"
      ],
      "metadata": {
        "id": "t1rKN6NxP4vA"
      }
    },
    {
      "cell_type": "code",
      "source": [
        "engine_type = \"four-cylinder\"\n",
        "engine_num = 3\n",
        "\n",
        "print(\"Did You Know?\")\n",
        "print(f\"The Titanic had {engine_num} {engine_type} engines.\")"
      ],
      "metadata": {
        "colab": {
          "base_uri": "https://localhost:8080/"
        },
        "id": "NgQ4icqAQ1Pb",
        "outputId": "344339fa-ae8a-4044-a1de-83b9c8efbbf4"
      },
      "execution_count": 16,
      "outputs": [
        {
          "output_type": "stream",
          "name": "stdout",
          "text": [
            "Did You Know?\n",
            "The Titanic had 3 four-cylinder engines.\n"
          ]
        }
      ]
    },
    {
      "cell_type": "markdown",
      "source": [
        "## Exercise 14\n",
        "\n",
        "- A university has decided to apply a 25% grade increase to all students due to the difficulty of a certain course.\n",
        "- The code below stores the information about a student.\n",
        "- Update the student's `grade_after_factor` in line 4 by adding the necessary calculation.\n",
        "\n",
        "```python\n",
        "student_name = \"Nina\"\n",
        "subject = \"Mathematics\"\n",
        "grade = 75\n",
        "grade_after_factor =                        # Your code here\n",
        "\n",
        "print(\"My name is Nina, I study Mathematics\")\n",
        "print(f\"My grade is:  {grade}\")\n",
        "print(f\"Applying 25% factor increased my grade to: {grade_after_factor}\")\n",
        "```"
      ],
      "metadata": {
        "id": "8V_0E7YcRP7m"
      }
    },
    {
      "cell_type": "code",
      "source": [
        "student_name = \"Nina\"\n",
        "subject = \"Mathematics\"\n",
        "grade = 75\n",
        "grade_after_factor = grade * 1.25\n",
        "\n",
        "print(\"My name is Nina, I study Mathematics\")\n",
        "print(f\"My grade is:  {grade}\")\n",
        "print(f\"Applying 25% factor increased my grade to: {grade_after_factor}\")"
      ],
      "metadata": {
        "colab": {
          "base_uri": "https://localhost:8080/"
        },
        "id": "jROx6ojYRf8E",
        "outputId": "ba6bff19-da4b-4947-a516-c0d2b0ebcf3f"
      },
      "execution_count": 19,
      "outputs": [
        {
          "output_type": "stream",
          "name": "stdout",
          "text": [
            "My name is Nina, I study Mathematics\n",
            "My grade is:  75\n",
            "Applying 25% factor increased my grade to: 93.75\n"
          ]
        }
      ]
    },
    {
      "cell_type": "markdown",
      "source": [
        "## Exercise 15\n",
        "\n",
        "- Write a program that calculates and prints the average of 3 grades, saved to the variables below.\n",
        "- Your program should produce the following output:\n",
        "> The average grade is: 86.0\n",
        "- It’s recommended to create new variables for your calculations.\n",
        "\n",
        "```python\n",
        "exam1 = 95\n",
        "exam2 = 76\n",
        "exam3 = 87\n",
        "#Your code here\n",
        "```"
      ],
      "metadata": {
        "id": "HUpqwmFrR6HN"
      }
    },
    {
      "cell_type": "code",
      "source": [
        "exam1 = 95\n",
        "exam2 = 76\n",
        "exam3 = 87\n",
        "avg_grade = (exam1 + exam2 + exam3) / 3\n",
        "\n",
        "print(f\"The average grade is: {avg_grade}\")"
      ],
      "metadata": {
        "colab": {
          "base_uri": "https://localhost:8080/"
        },
        "id": "p0cRz2RbSIgp",
        "outputId": "b481cb38-2ff8-4675-b108-7c9c903a2084"
      },
      "execution_count": 20,
      "outputs": [
        {
          "output_type": "stream",
          "name": "stdout",
          "text": [
            "The average grade is: 86.0\n"
          ]
        }
      ]
    }
  ]
}
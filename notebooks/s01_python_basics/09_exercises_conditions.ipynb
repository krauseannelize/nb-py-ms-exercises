{
  "nbformat": 4,
  "nbformat_minor": 0,
  "metadata": {
    "colab": {
      "provenance": [],
      "authorship_tag": "ABX9TyNiASE/SozUE/ZerNuBNfHg",
      "include_colab_link": true
    },
    "kernelspec": {
      "name": "python3",
      "display_name": "Python 3"
    },
    "language_info": {
      "name": "python"
    }
  },
  "cells": [
    {
      "cell_type": "markdown",
      "metadata": {
        "id": "view-in-github",
        "colab_type": "text"
      },
      "source": [
        "<a href=\"https://colab.research.google.com/github/krauseannelize/nb-py-ms-exercises/blob/main/notebooks/09_exercises_conditions.ipynb\" target=\"_parent\"><img src=\"https://colab.research.google.com/assets/colab-badge.svg\" alt=\"Open In Colab\"/></a>"
      ]
    },
    {
      "cell_type": "markdown",
      "source": [
        "# 09 | Exercises - Conditions\n",
        "\n",
        "**Conditional statements** allow a program to make decisions and execute different code blocks based on specific conditions. This process is known as branching.\n",
        "\n",
        "The main conditional statements in Python are `if`, `elif`, and `else`.\n",
        "\n",
        "## Conditional Statement Syntax\n",
        "\n",
        "```python\n",
        "if condition 1:\n",
        "  # True: do \"action 1\"\n",
        "  # False: check next condition\n",
        "elif condition 2:\n",
        "  # True: do \"action 2\"\n",
        "  # False: check next condition\n",
        "else:\n",
        "  # if all previous conditions were false, do \"action 3\"\n",
        "```\n",
        "\n",
        "## Comparison Operators\n",
        "\n",
        "Conditional statements often use comparison operators to create the logical expressions (conditions) that are evaluated. These operators compare two values and return a Boolean value (`True` or `False`).\n",
        "\n",
        "| Operator | Purpose | Example | Result |\n",
        "| --- | --- | --- | --- |\n",
        "| == | equal to | `10 == 5` | `False` |\n",
        "| != | not equal to | `10 != 5` | `True` |\n",
        "| > | greater than | `10 > 10` | `False` |\n",
        "| >= | greater than or equal to | `10 >= 10` | `True` |\n",
        "| < | less than | `10 < 10` | `False` |\n",
        "| <= | less than or equal to | `10 <= 10` | `True` |\n",
        "\n",
        "⚠️ **_Important:_** _In Python, a single equals sign `(=)` is for assignment, and two equals signs `(==)` are for comparison._\n",
        "\n",
        "## Nested `if` Statements\n",
        "\n",
        "To check multiple conditions, nested `if` statements can be used. The second `if` statement is only checked if the first one is `True`. So, both conditions must be met in order for the print statement to execute.\n",
        "\n",
        "## Logical Operator\n",
        "\n",
        "Logical operators are used to _combine_ two or more conditional statements, or to invert a boolean value. They allow for more complex and precise conditional statements.\n",
        "\n",
        "| Operator | Description |\n",
        "| :--- | :--- |\n",
        "| AND | Return `TRUE` if both conditions are `TRUE` |\n",
        "| OR | Return `TRUE` if at least one condition is `TRUE` |\n",
        "| NOT | Invert `TRUE` and `FALSE` |\n",
        "\n",
        "## Using `elif`\n",
        "\n",
        "- `if-elif-else` statements replace deeply nested `if` statements, making code cleaner and easier to read.\n",
        "- The `elif` statement is used to check an additional condition, but **only if the previous `if` or `elif` conditions were `False`**.\n",
        "- The `else` statement acts as a final **catch-all condition**, executing its code only if **all** of the preceding `if` and `elif` conditions were `False`."
      ],
      "metadata": {
        "id": "0CyUrkkoeWqe"
      }
    },
    {
      "cell_type": "markdown",
      "source": [
        "## Exercise 1\n",
        "\n",
        "Write a program that prints \"Exactly!\" if `number` is exactly 20."
      ],
      "metadata": {
        "id": "fT-OvBzCktTm"
      }
    },
    {
      "cell_type": "code",
      "execution_count": null,
      "metadata": {
        "colab": {
          "base_uri": "https://localhost:8080/"
        },
        "id": "o9eW65hNeTKb",
        "outputId": "b8f479b7-cedd-4e8d-e86a-4251386d3180"
      },
      "outputs": [
        {
          "output_type": "stream",
          "name": "stdout",
          "text": [
            "Enter a number: 20\n",
            "Exactly!\n"
          ]
        }
      ],
      "source": [
        "number = int(input(\"Enter a number: \"))\n",
        "\n",
        "if number == 20:\n",
        "  print(\"Exactly!\")"
      ]
    },
    {
      "cell_type": "markdown",
      "source": [
        "## Exercise 2\n",
        "\n",
        "The following program is supposed to check if `ship_name` is equal to “Titanic”, but it contains a bug. Can you fix it?\n",
        "\n",
        "```python\n",
        "ship_name = input(\"Enter a ship name: \")\n",
        "\n",
        "if ship_name = \"Titanic\":\n",
        "    print(\"Hello Titanic!\")\n",
        "```"
      ],
      "metadata": {
        "id": "Wm9tWIA8lrS0"
      }
    },
    {
      "cell_type": "code",
      "source": [
        "ship_name = input(\"Enter a ship name: \")\n",
        "\n",
        "if ship_name == \"Titanic\":\n",
        "    print(\"Hello Titanic!\")"
      ],
      "metadata": {
        "colab": {
          "base_uri": "https://localhost:8080/"
        },
        "id": "txsR70VYl2qG",
        "outputId": "dec93fdb-38d1-49f3-cd9f-33e3153a1d7a"
      },
      "execution_count": null,
      "outputs": [
        {
          "output_type": "stream",
          "name": "stdout",
          "text": [
            "Enter a ship name: Titanic\n",
            "Hello Titanic!\n"
          ]
        }
      ]
    },
    {
      "cell_type": "markdown",
      "source": [
        "## Exercise 3\n",
        "\n",
        "- Write a program that prompts the user to enter their favorite programming language (as a string).\n",
        "- The program will print “No” if the string entered is not exactly “Python”. Use only a single condition with != inside."
      ],
      "metadata": {
        "id": "y0vCux8JmEMN"
      }
    },
    {
      "cell_type": "code",
      "source": [
        "answer = input(\"Enter your favorite programming language: \")\n",
        "\n",
        "if answer != \"Python\":\n",
        "    print(\"No\")"
      ],
      "metadata": {
        "colab": {
          "base_uri": "https://localhost:8080/"
        },
        "id": "UM5JtdRJmhFF",
        "outputId": "61f6e00c-61ff-4f65-b75b-36598d35547a"
      },
      "execution_count": null,
      "outputs": [
        {
          "output_type": "stream",
          "name": "stdout",
          "text": [
            "Enter your favorite programming language: Ruby\n",
            "No\n"
          ]
        }
      ]
    },
    {
      "cell_type": "markdown",
      "source": [
        "## Exercise 4\n",
        "\n",
        "- Implement the function `check` that accepts a single parameter called `age` **_(int)_**.\n",
        "- The function will print “Adult” if the age is greater or equal to 18.\n",
        "- The function will print “Baby” if the age is smaller or equal to 3.\n",
        "\n",
        "```python\n",
        "def check(age):\n",
        "    pass  # pass is used as a placeholder\n",
        "\n",
        "# Main function\n",
        "age_input = int(input(\"Enter your age: \"))\n",
        "check(age_input)\n",
        "```"
      ],
      "metadata": {
        "id": "SlrPhqPjmpYc"
      }
    },
    {
      "cell_type": "code",
      "source": [
        "# Use separate if statements instead of if/elif or nested if statements because the\n",
        "# requirements are not mutually exclusive. The program needs to independently check for\n",
        "# two separate conditions (age >= 18 and age <= 3) regardless of the other's outcome.\n",
        "#\n",
        "# if/elif statements are used for mutually exclusive conditions, where only one outcome\n",
        "# is possible. A nested if is used when a second condition depends on the first one being\n",
        "# true. The prompt's requirements don't fit either of these use cases.\n",
        "\n",
        "def check(age):\n",
        "    if age >= 18:\n",
        "        print(\"Adult\")\n",
        "    if age <= 3:\n",
        "        print(\"Baby\")\n",
        "\n",
        "age_input = int(input(\"Enter your age: \"))\n",
        "check(age_input)"
      ],
      "metadata": {
        "colab": {
          "base_uri": "https://localhost:8080/"
        },
        "id": "AfAlMC7Zm9z9",
        "outputId": "f322c4e1-db91-4624-b42c-219ddfb9720f"
      },
      "execution_count": null,
      "outputs": [
        {
          "output_type": "stream",
          "name": "stdout",
          "text": [
            "Enter your age: 21\n",
            "Adult\n"
          ]
        }
      ]
    },
    {
      "cell_type": "markdown",
      "source": [
        "## Exercise 5\n",
        "\n",
        "- Implement a function `is_adult` that accepts a single parameter called `birth_year` **_(int)_**, holding the birth year of a person.\n",
        "- The function will **print** “Adult” if the person is older than 18.\n",
        "- No need to implement user input this time."
      ],
      "metadata": {
        "id": "Ks7BdFadrIom"
      }
    },
    {
      "cell_type": "code",
      "source": [
        "def is_adult(birth_year):\n",
        "    if 2025 - birth_year >= 18:\n",
        "        print(\"Adult\")\n",
        "\n",
        "is_adult(2005)"
      ],
      "metadata": {
        "colab": {
          "base_uri": "https://localhost:8080/"
        },
        "id": "aqfTCm6TraPq",
        "outputId": "1dafe5a3-7c9a-40a7-897a-28b4de52f25f"
      },
      "execution_count": null,
      "outputs": [
        {
          "output_type": "stream",
          "name": "stdout",
          "text": [
            "Adult\n"
          ]
        }
      ]
    },
    {
      "cell_type": "markdown",
      "source": [
        "## Exercise 6\n",
        "\n",
        "- Implement the function `is_hundred` that accepts a single parameter called `num` **_(int)_**.\n",
        "- The function will print “Exactly 100” if `num` equals 100.\n",
        "- In all other cases, it should print “Not 100”."
      ],
      "metadata": {
        "id": "34UCZCCPunxE"
      }
    },
    {
      "cell_type": "code",
      "source": [
        "def is_hundred(num):\n",
        "    if num == 100:\n",
        "        print(\"Exactly 100\")\n",
        "    else:\n",
        "        print(\"Not 100\")\n",
        "\n",
        "is_hundred(99)\n",
        "is_hundred(100)"
      ],
      "metadata": {
        "colab": {
          "base_uri": "https://localhost:8080/"
        },
        "id": "G4UDU1jluzHA",
        "outputId": "b95810a1-afe5-4d83-c74b-a8a7c9b413c9"
      },
      "execution_count": null,
      "outputs": [
        {
          "output_type": "stream",
          "name": "stdout",
          "text": [
            "Not 100\n",
            "Exactly 100\n"
          ]
        }
      ]
    },
    {
      "cell_type": "markdown",
      "source": [
        "## Exercise 7\n",
        "\n",
        "- The correct password of a certain user is “ilovepython”.\n",
        "- Implement a function named `check_password` that accepts a single parameter called `password` **_(str)_**.\n",
        "- The function will print “Password OK” if the password given is correct; otherwise, it should print “Wrong password”."
      ],
      "metadata": {
        "id": "b6f8peH1vAii"
      }
    },
    {
      "cell_type": "code",
      "source": [
        "def check_password(password):\n",
        "  if password == \"ilovepython\":\n",
        "    print(\"Password OK\")\n",
        "  else:\n",
        "    print(\"Wrong password\")\n",
        "\n",
        "check_password(\"ilovepython\")\n",
        "check_password(\"ilovejava\")"
      ],
      "metadata": {
        "colab": {
          "base_uri": "https://localhost:8080/"
        },
        "id": "gdK5OuRTvMtS",
        "outputId": "81c004b4-e598-4eb7-b480-15163b48d07f"
      },
      "execution_count": null,
      "outputs": [
        {
          "output_type": "stream",
          "name": "stdout",
          "text": [
            "Password OK\n",
            "Wrong password\n"
          ]
        }
      ]
    },
    {
      "cell_type": "markdown",
      "source": [
        "## Exercise 8\n",
        "\n",
        "Write a function called `is_in_range` which receives an input number, and if it is between 50 and 100 (including both), prints “Number is in range”. Else, the function does nothing. Implement the function using nested conditions."
      ],
      "metadata": {
        "id": "rYRRvM_8xEaV"
      }
    },
    {
      "cell_type": "code",
      "source": [
        "def is_in_range(number):\n",
        "  if number >= 50:\n",
        "    if number <= 100:\n",
        "      print(f\"{number} is in range\")\n",
        "\n",
        "is_in_range(55)\n",
        "is_in_range(68)\n",
        "is_in_range(101)"
      ],
      "metadata": {
        "colab": {
          "base_uri": "https://localhost:8080/"
        },
        "id": "-lAwYpzFxMMa",
        "outputId": "533d26df-ed19-4ec6-a03b-962d64d0a602"
      },
      "execution_count": null,
      "outputs": [
        {
          "output_type": "stream",
          "name": "stdout",
          "text": [
            "55 is in range\n",
            "68 is in range\n"
          ]
        }
      ]
    },
    {
      "cell_type": "markdown",
      "source": [
        "## Exercise 9\n",
        "\n",
        "- Write `if-else` statements that check if `number` is either bigger than 100 or smaller than 10.\n",
        "- If one of the conditions is met - print “Extreme number!”\n",
        "- Otherwise, print “Normal number!”."
      ],
      "metadata": {
        "id": "oS1Gl2TDyoHi"
      }
    },
    {
      "cell_type": "code",
      "source": [
        "number = 12\n",
        "\n",
        "if number < 10 or number > 100:\n",
        "  print(\"Extreme number!\")\n",
        "else:\n",
        "  print(\"Normal number!\")"
      ],
      "metadata": {
        "colab": {
          "base_uri": "https://localhost:8080/"
        },
        "id": "nAN4U-EDywNG",
        "outputId": "e472da81-b7a6-4e52-ba6f-e5e4fc052e78"
      },
      "execution_count": null,
      "outputs": [
        {
          "output_type": "stream",
          "name": "stdout",
          "text": [
            "Normal number!\n"
          ]
        }
      ]
    },
    {
      "cell_type": "markdown",
      "source": [
        "## Exercise 10\n",
        "\n",
        "- Write a function called `language` that gets a name of a country (str, like “England”) and returns its predominant language.\n",
        "- If the country is one of the following - _England, United States, Canada, Australia_ - return “English” **_(str)_**.\n",
        "- Otherwise, return “Other language”."
      ],
      "metadata": {
        "id": "7gOw-IcUzUmf"
      }
    },
    {
      "cell_type": "code",
      "source": [
        "def language(country):\n",
        "  if country in (\"England\", \"United States\", \"Canada\", \"Australia\"):\n",
        "    return \"English\"\n",
        "  else:\n",
        "    return \"Other language\"\n",
        "\n",
        "print(language(\"England\"))\n",
        "print(language(\"Germany\"))"
      ],
      "metadata": {
        "colab": {
          "base_uri": "https://localhost:8080/"
        },
        "id": "qJta2J3EzeTb",
        "outputId": "83805d04-1467-4507-d178-c2c3e9caa6e9"
      },
      "execution_count": null,
      "outputs": [
        {
          "output_type": "stream",
          "name": "stdout",
          "text": [
            "English\n",
            "Other language\n"
          ]
        }
      ]
    },
    {
      "cell_type": "markdown",
      "source": [
        "## Exercise 11\n",
        "\n",
        "- Write a function called `twin_numbers` that gets two numbers **_(ints)_**.\n",
        "- If the numbers are equal **or** have the same absolute value (like -5 and 5), **return** the string “Twin numbers”.\n",
        "- Otherwise, return “Not twin numbers”.\n",
        "\n",
        "_Note: make sure your function **return** and doesn’t **print**._"
      ],
      "metadata": {
        "id": "F9WjierO0Xn4"
      }
    },
    {
      "cell_type": "code",
      "source": [
        "def twin_numbers(num1, num2):\n",
        "  if num1 == num2 or abs(num1) - abs(num2) == 0:\n",
        "    return \"Twin numbers\"\n",
        "  else:\n",
        "    return \"Not twin numbers\"\n",
        "\n",
        "print(twin_numbers(5, -5))\n",
        "print(twin_numbers(16, -39))"
      ],
      "metadata": {
        "colab": {
          "base_uri": "https://localhost:8080/"
        },
        "id": "oLCO_8u80pVU",
        "outputId": "64cad5c3-0101-4261-d37e-7cb83dd257b7"
      },
      "execution_count": null,
      "outputs": [
        {
          "output_type": "stream",
          "name": "stdout",
          "text": [
            "Twin numbers\n",
            "Not twin numbers\n"
          ]
        }
      ]
    },
    {
      "cell_type": "markdown",
      "source": [
        "## Exercise 12\n",
        "\n",
        "- Implement the function `in_range`, that checks if a number is within a given range. The function should accept three parameters: the number, the lower limit of the range, and the upper limit.\n",
        "- It should print “Number is in range” if the given number is within the range, or “Number not in range” otherwise.\n",
        "- Try implementing this _without_ nested conditions.\n",
        "\n",
        "_Note: You can exclude the boundary values in your checks._"
      ],
      "metadata": {
        "id": "8SWSQfCw1GNU"
      }
    },
    {
      "cell_type": "code",
      "source": [
        "def in_range(number, lower, upper):\n",
        "  if number >= lower and number <= upper:\n",
        "    print(\"Number is in range\")\n",
        "  else:\n",
        "    print(\"Number not in range\")\n",
        "\n",
        "in_range(10, 5, 15)\n",
        "in_range(7, 20, 50)"
      ],
      "metadata": {
        "colab": {
          "base_uri": "https://localhost:8080/"
        },
        "id": "7XG2T4bI1U0e",
        "outputId": "549ae2bf-5f4b-4041-cacb-9e90f497f566"
      },
      "execution_count": null,
      "outputs": [
        {
          "output_type": "stream",
          "name": "stdout",
          "text": [
            "Number is in range\n",
            "Number not in range\n"
          ]
        }
      ]
    },
    {
      "cell_type": "markdown",
      "source": [
        "## Exercise 13\n",
        "\n",
        "- The price of the Titanic ticket varied according to the class. 1st class tickets cost \\$500, 2nd class tickets cost \\$200, and 3rd class tickets cost \\$100.\n",
        "- Write a function `calculate_ticket_price` that accepts `class_number` as an integer argument (1, 2, or 3) and **returns** the price of the ticket.\n",
        "- Use `elif` inside your function. No need to handle user input and output."
      ],
      "metadata": {
        "id": "13Pw04e748NB"
      }
    },
    {
      "cell_type": "code",
      "source": [
        "def calculate_ticket_price(class_number):\n",
        "  if class_number == 1:\n",
        "    return 500\n",
        "  elif class_number == 2:\n",
        "    return 200\n",
        "  elif class_number == 3:\n",
        "    return 100"
      ],
      "metadata": {
        "id": "kJzZBPme5Ftm"
      },
      "execution_count": null,
      "outputs": []
    },
    {
      "cell_type": "markdown",
      "source": [
        "## Exercise 14\n",
        "\n",
        "- The Titanic manager has decided to add a few more ticket classes, which are all priced at 50\\$ per ticket.\n",
        "- Copy your code from the previous program and modify it, so that if the class is none of 1,2 or 3, it is priced at 50\\$. This should work for any other class number."
      ],
      "metadata": {
        "id": "ivyPUdEq5Y7e"
      }
    },
    {
      "cell_type": "code",
      "source": [
        "def calculate_ticket_price(class_number):\n",
        "  if class_number == 1:\n",
        "    return 500\n",
        "  elif class_number == 2:\n",
        "    return 200\n",
        "  elif class_number == 3:\n",
        "    return 100\n",
        "  else:\n",
        "    return 50"
      ],
      "metadata": {
        "id": "p68eoWJa5h4T"
      },
      "execution_count": null,
      "outputs": []
    },
    {
      "cell_type": "markdown",
      "source": [
        "## Exercise 15\n",
        "\n",
        "Write a function that accepts a score (between 0 and 100) as an argument and prints a letter grade (A, B, C, D, or F) according to the score:\n",
        "\n",
        "- **A:** 90-100\n",
        "- **B:** 80-89\n",
        "- **C:** 70-79\n",
        "- **D:** 60-69\n",
        "- **F:** 0-59"
      ],
      "metadata": {
        "id": "ct8jsqXi5wCF"
      }
    },
    {
      "cell_type": "code",
      "source": [
        "def assign_grade(score):\n",
        "  if score >= 90:\n",
        "    print(\"A\")\n",
        "  elif score >= 80:\n",
        "    print(\"B\")\n",
        "  elif score >= 70:\n",
        "    print(\"C\")\n",
        "  elif score >= 60:\n",
        "    print(\"D\")\n",
        "  else:\n",
        "    print(\"F\")\n",
        "\n",
        "# Get grade from user\n",
        "grade = int(input(\"Enter your grade: \"))\n",
        "\n",
        "# Call the function\n",
        "assign_grade(grade)"
      ],
      "metadata": {
        "colab": {
          "base_uri": "https://localhost:8080/"
        },
        "id": "H8abZVgS57NP",
        "outputId": "ec7742a3-f46a-4736-c8c6-7b1ee375d4bf"
      },
      "execution_count": null,
      "outputs": [
        {
          "output_type": "stream",
          "name": "stdout",
          "text": [
            "Enter your grade: 86\n",
            "B\n"
          ]
        }
      ]
    }
  ]
}
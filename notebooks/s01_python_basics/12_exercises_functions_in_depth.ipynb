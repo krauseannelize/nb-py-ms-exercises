{
  "nbformat": 4,
  "nbformat_minor": 0,
  "metadata": {
    "colab": {
      "provenance": [],
      "authorship_tag": "ABX9TyMHvsC/gPhPTrw3/tyRsmP8",
      "include_colab_link": true
    },
    "kernelspec": {
      "name": "python3",
      "display_name": "Python 3"
    },
    "language_info": {
      "name": "python"
    }
  },
  "cells": [
    {
      "cell_type": "markdown",
      "metadata": {
        "id": "view-in-github",
        "colab_type": "text"
      },
      "source": [
        "<a href=\"https://colab.research.google.com/github/krauseannelize/nb-py-ms-exercises/blob/main/notebooks/12_exercises_functions_in_depth.ipynb\" target=\"_parent\"><img src=\"https://colab.research.google.com/assets/colab-badge.svg\" alt=\"Open In Colab\"/></a>"
      ]
    },
    {
      "cell_type": "markdown",
      "source": [
        "# 12 | Exercises - Functions In-Depth\n",
        "\n",
        "## Optional Parameters\n",
        "\n",
        "When defining a function, you can specify a default value for a parameter. That parameter then becomes an **optional** parameter when the function is called.\n",
        "\n",
        "⚠️ **_Important:_** _Optional parameters **must** appear **AFTER** the required parameters when you define a function. If you specify an optional argument before a required argument, Python returns an error `positional argument follows keyword argument`._"
      ],
      "metadata": {
        "id": "tFf2XCgtorwS"
      }
    },
    {
      "cell_type": "code",
      "execution_count": 2,
      "metadata": {
        "colab": {
          "base_uri": "https://localhost:8080/"
        },
        "id": "f8LToJkHoq4x",
        "outputId": "ce964b54-f309-425d-bcb7-c311c0dc2db6"
      },
      "outputs": [
        {
          "output_type": "stream",
          "name": "stdout",
          "text": [
            "Hello John! Welcome to Default.\n",
            "Hello Jane! Welcome to Python.\n"
          ]
        }
      ],
      "source": [
        "# optional parameter assigned default value with = statement inside the parameter list\n",
        "def function(parameter, optional_parameter=\"Default\"):\n",
        "  print(f\"Hello {parameter}! Welcome to {optional_parameter}.\")\n",
        "\n",
        "function(\"John\")\n",
        "function(\"Jane\", \"Python\")"
      ]
    },
    {
      "cell_type": "markdown",
      "source": [
        "## Keyword Parameters\n",
        "\n",
        "Using keyword parameters, you can make your function call more readable and obvious, especially for functions that accept many arguments and if you are unsure of the position of each argument.\n",
        "\n",
        "_Note: once you’ve used a keyword argument, you need to use keyword arguments for the remaining parameters._"
      ],
      "metadata": {
        "id": "q9fCv0vGt_yF"
      }
    },
    {
      "cell_type": "code",
      "source": [
        "def final_price(price, vat):\n",
        "     final = price + price * (vat / 100)\n",
        "     return final\n",
        "\n",
        "print(final_price(price=100, vat=17)) # using keyword arguments\n",
        "print(final_price(vat=17, price=100)) # The order doesn't matter!"
      ],
      "metadata": {
        "colab": {
          "base_uri": "https://localhost:8080/"
        },
        "id": "xOAss3w_uvwZ",
        "outputId": "7388d068-4d50-496a-f4a6-dc73eabd5021"
      },
      "execution_count": 3,
      "outputs": [
        {
          "output_type": "stream",
          "name": "stdout",
          "text": [
            "117.0\n",
            "117.0\n"
          ]
        }
      ]
    },
    {
      "cell_type": "markdown",
      "source": [
        "## Returning multiple values\n",
        "\n",
        "In Python, you can return multiple values from a function by simply returning them separated by commas.\n",
        "\n",
        "When calling a function that returns multiple values, we can also store them right into different variables!"
      ],
      "metadata": {
        "id": "-Wi6xNj3voT0"
      }
    },
    {
      "cell_type": "code",
      "source": [
        "def maths(num1, num2):\n",
        "  sum = num1 + num2\n",
        "  diff = num1 - num2\n",
        "  return sum, diff  # return multiple values\n",
        "\n",
        "sum, diff = maths(10, 5)  # store into different variables\n",
        "print(sum)\n",
        "print(diff)"
      ],
      "metadata": {
        "colab": {
          "base_uri": "https://localhost:8080/"
        },
        "id": "eWea_fbev4s8",
        "outputId": "4d4083e8-c4ed-47ae-c125-3dcc0b73c3c9"
      },
      "execution_count": 4,
      "outputs": [
        {
          "output_type": "stream",
          "name": "stdout",
          "text": [
            "15\n",
            "5\n"
          ]
        }
      ]
    },
    {
      "cell_type": "markdown",
      "source": [
        "## Exercise 1\n",
        "\n",
        "Write a function called `has_space` that takes a string as input, loops through it, and returns True if one of its characters is space (” “).\n",
        "\n",
        "Once a space was found, the function **stops and returns immediately** (There is no point to keep searching for another space).\n",
        "\n",
        "If a space is not found, it will return **False**."
      ],
      "metadata": {
        "id": "CFQ2cQ0fxEDv"
      }
    },
    {
      "cell_type": "code",
      "source": [
        "# return terminates the function\n",
        "def has_space(text):\n",
        "  for i in text:\n",
        "    if i == \" \":\n",
        "      return True\n",
        "  return False\n",
        "\n",
        "has_space(\"Hello world!\")"
      ],
      "metadata": {
        "colab": {
          "base_uri": "https://localhost:8080/"
        },
        "id": "l9Zvy7fIxjc_",
        "outputId": "c597c50f-60ce-4e95-f260-308da06659d9"
      },
      "execution_count": 6,
      "outputs": [
        {
          "output_type": "execute_result",
          "data": {
            "text/plain": [
              "True"
            ]
          },
          "metadata": {},
          "execution_count": 6
        }
      ]
    },
    {
      "cell_type": "markdown",
      "source": [
        "## Exercise 2\n",
        "\n",
        "Write a function called `welcome_message` that takes in a parameter `name` and returns `\"Hello (name)! We hope that you will enjoy this course. :)\"`.\n",
        "\n",
        "For example, `welcome_message('Aurora')` should return `\"Hello Aurora! We hope that you will enjoy this course. :)\"`.\n",
        "\n",
        "If the user didn’t pass a name, display “Anonymous” instead."
      ],
      "metadata": {
        "id": "oj6M9dsZ0M3-"
      }
    },
    {
      "cell_type": "code",
      "source": [
        "def welcome_message(name=\"Anonymous\"):\n",
        "  return f\"Hello {name}! We hope you will enjoy this course. :)\"\n",
        "\n",
        "print(welcome_message())\n",
        "print(welcome_message(\"John\"))"
      ],
      "metadata": {
        "colab": {
          "base_uri": "https://localhost:8080/"
        },
        "id": "inLWOhUb0fcT",
        "outputId": "226fbc88-d971-41ec-bc69-302b6ece6c41"
      },
      "execution_count": 7,
      "outputs": [
        {
          "output_type": "stream",
          "name": "stdout",
          "text": [
            "Hello Anonymous! We hope you will enjoy this course. :)\n",
            "Hello John! We hope you will enjoy this course. :)\n"
          ]
        }
      ]
    },
    {
      "cell_type": "markdown",
      "source": [
        "## Exercise 3\n",
        "\n",
        "Write a function called `birthday` that:\n",
        "\n",
        "- Takes in three keyword **_int_** parameters (`month`, `day`, and `year`)\n",
        "- Returns it in a string formatted `month`/`day`/`year`.\n",
        "> For example, `birthday(11, 17, 1990)` should return `\"11/17/1990\"` and `birthday(month=7, day=5, year=2004)` should return `\"7/5/2004\"`.\n",
        "- If the user didn’t provide the year, set it to 2000."
      ],
      "metadata": {
        "id": "pB5XEpau01qH"
      }
    },
    {
      "cell_type": "code",
      "source": [
        "def birthday(month, day, year=2000):\n",
        "  return f\"{month}/{day}/{year}\"\n",
        "\n",
        "print(birthday(11, 17, 1990))\n",
        "print(birthday(9, 12))\n",
        "print(birthday(month=7, day=5, year=2004))"
      ],
      "metadata": {
        "colab": {
          "base_uri": "https://localhost:8080/"
        },
        "id": "tgxqScXk1QGE",
        "outputId": "8bf00283-7e60-453b-fced-3116ae08e932"
      },
      "execution_count": 9,
      "outputs": [
        {
          "output_type": "stream",
          "name": "stdout",
          "text": [
            "11/17/1990\n",
            "9/12/2000\n",
            "7/5/2004\n"
          ]
        }
      ]
    },
    {
      "cell_type": "markdown",
      "source": [
        "## Exercise 4\n",
        "\n",
        "Write a function called `address_split` that gets a string in the format of `\"<State>, <Country>\"` like \"WA, USA\" (State is always 2 letters long).\n",
        "\n",
        "The function should return two separate string values — a state and a country (`WA`, `USA`)."
      ],
      "metadata": {
        "id": "h6XesSWF1mIX"
      }
    },
    {
      "cell_type": "code",
      "source": [
        "def address_split(address):\n",
        "  address_list = address.split(\", \")\n",
        "  state = address_list[0]\n",
        "  country = address_list[1]\n",
        "  return state, country\n",
        "\n",
        "print(address_split(\"WA, USA\"))\n",
        "print(address_split(\"HH, DE\"))\n",
        "\n",
        "# The .split() method breaks the address string into a list of substrings\n",
        "# wherever a comma and a space (\", \") are found. [1] accesses the item in that\n",
        "# list (indexing starts at 0)."
      ],
      "metadata": {
        "colab": {
          "base_uri": "https://localhost:8080/"
        },
        "id": "XlwO5lKC1xzz",
        "outputId": "5f4cb7bb-82a4-4d9f-85b6-179ba8df4ac7"
      },
      "execution_count": 17,
      "outputs": [
        {
          "output_type": "stream",
          "name": "stdout",
          "text": [
            "('WA', 'USA')\n",
            "('HH', 'DE')\n"
          ]
        }
      ]
    },
    {
      "cell_type": "markdown",
      "source": [
        "## Exercise 5\n",
        "\n",
        "Write a function called `remainder` that takes in parameters `x` and `y` (where `y` defaults to 4) and returns the remainder of `x` divided by `y`.\n",
        "\n",
        "Ignore cases for when `x` is negative or `y` is less than or equal to 0. For example, `remainder(5)` should return 1."
      ],
      "metadata": {
        "id": "VqOpQQTk7H7x"
      }
    },
    {
      "cell_type": "code",
      "source": [
        "def remainder(x, y=4):\n",
        "  if x < 0 or y <= 0:\n",
        "    return\n",
        "  return x % y\n",
        "\n",
        "print(remainder(5))\n",
        "print(remainder(8, 3))"
      ],
      "metadata": {
        "colab": {
          "base_uri": "https://localhost:8080/"
        },
        "id": "IrOF5a1L7ZOo",
        "outputId": "b61686c8-22dc-4153-9ba2-ed2f6e7a3ebb"
      },
      "execution_count": 20,
      "outputs": [
        {
          "output_type": "stream",
          "name": "stdout",
          "text": [
            "1\n",
            "2\n"
          ]
        }
      ]
    },
    {
      "cell_type": "markdown",
      "source": [
        "## Exercise 6\n",
        "\n",
        "Write three functions called `addNumbers`, `subtractNumbers`, and `calculate`.\n",
        "\n",
        "- The function `addNumbers` should take two numbers (`x` and `y`) as parameters and return the value of adding them together.\n",
        "- The function `subtractNumbers` should also take two numbers (`x` and `y`) and return the value of `x` minus `y`.\n",
        "- Lastly, define a function called `calculate` that takes three numbers (`a`, `b`, and `c`) and uses `addNumbers` and `subtractNumbers` to add `a` and `b` and subtract `c`.\n",
        "The value should be returned.\n",
        "\n",
        "For example, `calculate(2,3,4)` should return `1`."
      ],
      "metadata": {
        "id": "vnSqhHAX8lT4"
      }
    },
    {
      "cell_type": "code",
      "source": [
        "def addNumbers(x, y):\n",
        "  return x + y\n",
        "\n",
        "def subtractNumbers(x, y):\n",
        "  return x - y\n",
        "\n",
        "def calculate(a, b, c):\n",
        "  return subtractNumbers(addNumbers(a, b), c)\n",
        "\n",
        "print(calculate(2,3,4))\n",
        "print(calculate(16,4,5))"
      ],
      "metadata": {
        "colab": {
          "base_uri": "https://localhost:8080/"
        },
        "id": "af5PCuuP9Cc_",
        "outputId": "4b164f3d-d121-4b5e-90e6-55059fc10595"
      },
      "execution_count": 22,
      "outputs": [
        {
          "output_type": "stream",
          "name": "stdout",
          "text": [
            "1\n",
            "15\n"
          ]
        }
      ]
    }
  ]
}
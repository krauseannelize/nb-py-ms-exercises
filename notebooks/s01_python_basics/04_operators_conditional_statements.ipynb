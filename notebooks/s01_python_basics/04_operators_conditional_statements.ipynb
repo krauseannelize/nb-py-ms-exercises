{
  "nbformat": 4,
  "nbformat_minor": 0,
  "metadata": {
    "colab": {
      "provenance": [],
      "authorship_tag": "ABX9TyPYSlghK5zVk0Z2lMKa6ecC",
      "include_colab_link": true
    },
    "kernelspec": {
      "name": "python3",
      "display_name": "Python 3"
    },
    "language_info": {
      "name": "python"
    }
  },
  "cells": [
    {
      "cell_type": "markdown",
      "metadata": {
        "id": "view-in-github",
        "colab_type": "text"
      },
      "source": [
        "<a href=\"https://colab.research.google.com/github/krauseannelize/nb-py-ms-exercises/blob/main/notebooks/04_operators_conditional_statements.ipynb\" target=\"_parent\"><img src=\"https://colab.research.google.com/assets/colab-badge.svg\" alt=\"Open In Colab\"/></a>"
      ]
    },
    {
      "cell_type": "markdown",
      "source": [
        "# 04 | Operators & Conditional Statements\n",
        "\n",
        "## Arithmetic Operators\n",
        "\n",
        "- Addition (+)\n",
        "- Subtraction (-)\n",
        "- Multiplication (*)\n",
        "- Division (/)\n",
        "- Exponentiation (**) - power of a base\n",
        "- Modulus (%) - returns the remainder after division\n",
        "- Floor (//) - returns the integer after division"
      ],
      "metadata": {
        "id": "wqiYMjmJD1x8"
      }
    },
    {
      "cell_type": "code",
      "source": [
        "x = 10\n",
        "y = 4\n",
        "\n",
        "print(f\"Addition ({x} + {y}): {x + y}\")\n",
        "print(f\"Subtraction ({x} - {y}): {x - y}\")\n",
        "print(f\"Multiplication ({x} * {y}): {x * y}\")\n",
        "print(f\"Division ({x} / {y}): {x / y}\")\n",
        "print(f\"Exponentiation ({x} ** {y}): {x ** y}\")\n",
        "print()\n",
        "\n",
        "z = x // y\n",
        "\n",
        "print(f\"Floor division ({x} // {y}) rounds down\")\n",
        "print(f\"to the nearest integer: {z}\")\n",
        "print()\n",
        "\n",
        "print(f\"The Modulus operator ({x} % {y}) returns\")\n",
        "print(f\"the remainder after division: {x % y}\")\n",
        "print()\n",
        "print(f\"How Modulus works:\")\n",
        "print(f\"Step 1 | Floor division: ({x} // {y}) = {z}\")\n",
        "print(f\"Step 2 | Find the remainder: ({x} - ({y} * {z})) = {x - (y * z)}\")\n",
        "\n",
        "print()\n",
        "\n",
        "print(f\"Combine division and floor division to return\")\n",
        "print(f\"the fractional part ({x} / {y}) - ({x} // {y}): {(x / y) - (x // y)}\")"
      ],
      "metadata": {
        "id": "UE5msA62D0Nw"
      },
      "execution_count": null,
      "outputs": []
    },
    {
      "cell_type": "markdown",
      "source": [
        "## Logical Operator\n",
        "\n",
        "| Operator | Description |\n",
        "| :--- | :--- |\n",
        "| AND | Return `TRUE` if both conditions are `TRUE` |\n",
        "| OR | Return `TRUE` if at least one condition is `TRUE` |\n",
        "| NOT | Invert `TRUE` and `FALSE` |"
      ],
      "metadata": {
        "id": "cY2_2pxlNj32"
      }
    },
    {
      "cell_type": "code",
      "execution_count": null,
      "metadata": {
        "colab": {
          "base_uri": "https://localhost:8080/"
        },
        "id": "SO0-k46-Dqmg",
        "outputId": "7bfc0b6f-5e45-4c0d-954a-2a50a4445c6e"
      },
      "outputs": [
        {
          "output_type": "stream",
          "name": "stdout",
          "text": [
            "True AND False: False\n",
            "True OR False: True\n",
            "NOT True: False\n"
          ]
        }
      ],
      "source": [
        "x = True\n",
        "y = False\n",
        "\n",
        "print(f\"{x} AND {y}: {x and y}\")\n",
        "print(f\"{x} OR {y}: {x or y}\")\n",
        "print(f\"NOT {x}: {not x}\")"
      ]
    },
    {
      "cell_type": "code",
      "source": [
        "# example using logical operator\n",
        "age = 18\n",
        "has_license = True\n",
        "\n",
        "print(f\"Can I drive? {age >= 18 and has_license}\")"
      ],
      "metadata": {
        "colab": {
          "base_uri": "https://localhost:8080/"
        },
        "id": "kSp-y60LPQ8h",
        "outputId": "3ca2cd27-495b-4933-b346-146c0a7dad79"
      },
      "execution_count": null,
      "outputs": [
        {
          "output_type": "stream",
          "name": "stdout",
          "text": [
            "Can I drive? True\n"
          ]
        }
      ]
    },
    {
      "cell_type": "markdown",
      "source": [
        "## Comparison Operator\n",
        "\n",
        "Comparison operators compare if values are the same on both sides:\n",
        "\n",
        "- equal to (==)\n",
        "- not equal to (!=)\n",
        "- greater than (>)\n",
        "- Less than (<)\n",
        "- greater than or equal to (>=)\n",
        "- less than or equal to (<=)\n",
        "\n",
        "_NOTE: In Python, a single equals sign `(=)` is for assignment, and two equals signs `(==)` are for comparison._"
      ],
      "metadata": {
        "id": "XLk9pw6zPnws"
      }
    },
    {
      "cell_type": "code",
      "source": [
        "# check if a number is between 5 and 10\n",
        "num = 7\n",
        "print(f\"{num} is between 5 and 10: {num > 5 and num < 10}\")"
      ],
      "metadata": {
        "colab": {
          "base_uri": "https://localhost:8080/"
        },
        "id": "7zPATiWCPi0S",
        "outputId": "9306cf62-09be-407b-ede0-cc2a65d8961b"
      },
      "execution_count": null,
      "outputs": [
        {
          "output_type": "stream",
          "name": "stdout",
          "text": [
            "7 is between 5 and 10: True\n"
          ]
        }
      ]
    },
    {
      "cell_type": "code",
      "source": [
        "# check if a password is valid\n",
        "# - either 'admin123' or\n",
        "# - length > 8\n",
        "password = \"mypassword123\"\n",
        "print(f\"{password} is a valid password: {password == 'admin123' or len(password) > 8}\")"
      ],
      "metadata": {
        "colab": {
          "base_uri": "https://localhost:8080/"
        },
        "id": "1gwr-_AFSXnY",
        "outputId": "cde3f3fc-18c7-4aa3-bc4f-018ab1fcb99b"
      },
      "execution_count": null,
      "outputs": [
        {
          "output_type": "stream",
          "name": "stdout",
          "text": [
            "mypassword123 is a valid password: True\n"
          ]
        }
      ]
    },
    {
      "cell_type": "markdown",
      "source": [
        "## Condition Statements\n",
        "\n",
        "- `if`\n",
        "- `elif`\n",
        "- `else`\n",
        "\n",
        "### Syntax\n",
        "\n",
        "`if` **condition 1**:\n",
        "- True: do **action 1**\n",
        "- False: check next condition\n",
        "\n",
        "`elif` **condition 2**:\n",
        "- True: **do action 2**\n",
        "- False: check next condition\n",
        "\n",
        "`else`:\n",
        "- do **action 3** (if all previous conditions were false)"
      ],
      "metadata": {
        "id": "EpcsFaGVS5fU"
      }
    },
    {
      "cell_type": "code",
      "source": [
        "# conditional statement to grade a score\n",
        "# condition 1: if the score is >= 90 then grade is A\n",
        "# condition 2: if the score >= 80 then grade is B\n",
        "# condition 3: if the score >= 70 then grade C\n",
        "# condition 4 if the score is neither A, B, C, student failed the course\n",
        "\n",
        "score = 77\n",
        "\n",
        "if score >=90:\n",
        "  print('Student grade is A')\n",
        "elif score >=80:\n",
        "  print('Student grade is B')\n",
        "elif score >=70:\n",
        "  print('Student grade is C')\n",
        "else:\n",
        "  print('Student failed the course')"
      ],
      "metadata": {
        "colab": {
          "base_uri": "https://localhost:8080/"
        },
        "id": "kNX1LY-pV1VE",
        "outputId": "75d92de0-fc63-483e-82ca-2b9a47cd9263"
      },
      "execution_count": null,
      "outputs": [
        {
          "output_type": "stream",
          "name": "stdout",
          "text": [
            "Student grade is C\n"
          ]
        }
      ]
    },
    {
      "cell_type": "code",
      "source": [
        "# combining a function with conditional statements\n",
        "def student_grade(score):\n",
        "  if score >= 90:\n",
        "    return 'A'\n",
        "  elif score >= 80:\n",
        "    return 'B'\n",
        "  elif score >= 70:\n",
        "    return 'C'\n",
        "  else:\n",
        "    return 'Failed'\n",
        "\n",
        "print(f\"Bob's grade: {student_grade(53)}\")\n",
        "print(f\"Mary's grade: {student_grade(87)}\")"
      ],
      "metadata": {
        "colab": {
          "base_uri": "https://localhost:8080/"
        },
        "id": "7BsZ5AYYWMTS",
        "outputId": "c11972c3-d061-40a4-a0db-e3fa30b76154"
      },
      "execution_count": null,
      "outputs": [
        {
          "output_type": "stream",
          "name": "stdout",
          "text": [
            "Bob's grade: Failed\n",
            "Mary's grade: B\n"
          ]
        }
      ]
    },
    {
      "cell_type": "code",
      "source": [
        "# a function that would take temp and return the weather of the day\n",
        "def weather_condition(temp):\n",
        "  if temp > 35:\n",
        "    return 'A hot day'\n",
        "  elif temp >= 20:\n",
        "    return 'A pleasant day'\n",
        "  else:\n",
        "    return 'A cold day'\n",
        "\n",
        "print(f\"Weather for today: {weather_condition(28)}\")\n",
        "print(f\"Weather for tomorrow: {weather_condition(19)}\")"
      ],
      "metadata": {
        "colab": {
          "base_uri": "https://localhost:8080/"
        },
        "id": "Bgzf9QfZXyLb",
        "outputId": "89518ec4-581b-46cf-f3c5-0b4782dd2706"
      },
      "execution_count": null,
      "outputs": [
        {
          "output_type": "stream",
          "name": "stdout",
          "text": [
            "Weather for today: A pleasant day\n",
            "Weather for tomorrow: A cold day\n"
          ]
        }
      ]
    },
    {
      "cell_type": "markdown",
      "source": [
        "## Nested Condition\n",
        "\n",
        "A nested `if` statement is an `if` statement placed inside another `if` statement. It's used to test a secondary, dependent condition. The inner `if` statement is only checked if the outer `if` condition is `TRUE`."
      ],
      "metadata": {
        "id": "bVH-o8iZYNfH"
      }
    },
    {
      "cell_type": "code",
      "source": [
        "age = 50\n",
        "has_license = True\n",
        "\n",
        "if age >= 18:\n",
        "    print(\"Old enough to drive.\")\n",
        "    if has_license:\n",
        "        print(\"You can drive legally.\")\n",
        "    else:\n",
        "        print(\"You need a license to drive.\")\n",
        "else:\n",
        "    print(\"Not old enough to drive.\")"
      ],
      "metadata": {
        "colab": {
          "base_uri": "https://localhost:8080/"
        },
        "id": "JP2xYp6wYvUQ",
        "outputId": "306af345-6af4-4f58-a64d-ad3ac6471d48"
      },
      "execution_count": null,
      "outputs": [
        {
          "output_type": "stream",
          "name": "stdout",
          "text": [
            "Old enough to drive.\n",
            "You can drive legally.\n"
          ]
        }
      ]
    },
    {
      "cell_type": "markdown",
      "source": [
        "## Exercise\n",
        "\n",
        "1. Using a function, get two numbers from the user as an input and perform all the arithmetic operations you are familiar with. Use the f'string to format the output.\n",
        "2. Using a function, check if a number is an even or an odd number. Get the input from the user.\n",
        "3. Using a function, classify the age of a person into a child (<13), teen (13-19) or an adult (>= 20)\n",
        "4. Build a discount calculator: if purchase > $100 then give a 10% off, else 5% off"
      ],
      "metadata": {
        "id": "mZPi0Th1ZNhL"
      }
    },
    {
      "cell_type": "code",
      "source": [
        "# Question 1\n",
        "def perform_operations(num1, num2):\n",
        "  print(f\"{num1} + {num2} = {num1 + num2}\")\n",
        "  print(f\"{num1} - {num2} = {num1 - num2}\")\n",
        "  print(f\"{num1} * {num2} = {num1 * num2}\")\n",
        "  print(f\"{num1} / {num2} = {num1 / num2}\")\n",
        "  print(f\"{num1} ** {num2} = {num1 ** num2}\")\n",
        "  print(f\"{num1} % {num2} = {num1 % num2}\")\n",
        "  print(f\"{num1} // {num2} = {num1 // num2}\")\n",
        "\n",
        "# Get numbers from the user\n",
        "num1 = int(input(\"Enter the first number: \"))\n",
        "num2 = int(input(\"Enter the second number: \"))\n",
        "\n",
        "# Perform operations and print the results\n",
        "perform_operations(num1, num2)"
      ],
      "metadata": {
        "colab": {
          "base_uri": "https://localhost:8080/"
        },
        "id": "A3-jk4xvZggX",
        "outputId": "f6c2d11e-a5ea-4ff6-dbd2-8ce07e1cc59c"
      },
      "execution_count": null,
      "outputs": [
        {
          "output_type": "stream",
          "name": "stdout",
          "text": [
            "Enter the first number: 15\n",
            "Enter the second number: 3\n",
            "15 + 3 = 18\n",
            "15 - 3 = 12\n",
            "15 * 3 = 45\n",
            "15 / 3 = 5.0\n",
            "15 ** 3 = 3375\n",
            "15 % 3 = 0\n",
            "15 // 3 = 5\n"
          ]
        }
      ]
    },
    {
      "cell_type": "code",
      "source": [
        "# Question 2\n",
        "def check_number(num):\n",
        "  if num % 2 == 0:\n",
        "    return \"even\"\n",
        "  else:\n",
        "    return \"odd\"\n",
        "\n",
        "num = int(input(\"Enter a number: \"))\n",
        "print(f\"{num} is a {check_number(num)} number.\")"
      ],
      "metadata": {
        "colab": {
          "base_uri": "https://localhost:8080/"
        },
        "id": "fj1mswuma7C_",
        "outputId": "d0f27994-2e50-4cd4-8478-baa368504f9d"
      },
      "execution_count": 3,
      "outputs": [
        {
          "output_type": "stream",
          "name": "stdout",
          "text": [
            "Enter a number: 73\n",
            "73 is a odd number.\n"
          ]
        }
      ]
    },
    {
      "cell_type": "code",
      "source": [
        "# Question 3\n",
        "def classify_age(age):\n",
        "    if age < 13:\n",
        "        return \"Child\"\n",
        "    elif age >= 13 and age <= 19:\n",
        "        return \"Teen\"\n",
        "    else:\n",
        "        return \"Adult\"\n",
        "\n",
        "age = int(input(\"Enter your age: \"))\n",
        "print(f\"{age} is classified as: {classify_age(age)}\")"
      ],
      "metadata": {
        "colab": {
          "base_uri": "https://localhost:8080/"
        },
        "id": "OnEssdqobPfN",
        "outputId": "76ad85c1-101c-45b0-9cf5-e34f30d3eee5"
      },
      "execution_count": 4,
      "outputs": [
        {
          "output_type": "stream",
          "name": "stdout",
          "text": [
            "Enter your age: 13\n",
            "13 is classified as: Teen\n"
          ]
        }
      ]
    },
    {
      "cell_type": "code",
      "source": [
        "# Question 4\n",
        "def discount_calculator(purchase):\n",
        "  if purchase > 100:\n",
        "    return purchase * 0.9\n",
        "  else:\n",
        "    return purchase * 0.95\n",
        "\n",
        "purchase = float(input(\"Enter the purchase amount: \"))\n",
        "print(f\"The price ${purchase} after discount is: ${discount_calculator(purchase)}\")"
      ],
      "metadata": {
        "colab": {
          "base_uri": "https://localhost:8080/"
        },
        "id": "iD13UVLJcVBD",
        "outputId": "a0853b89-c222-4c5a-ce5a-4acbbbf5eeb7"
      },
      "execution_count": null,
      "outputs": [
        {
          "output_type": "stream",
          "name": "stdout",
          "text": [
            "Enter the purchase amount: 236\n",
            "The price $236.0 after discount is: $212.4\n"
          ]
        }
      ]
    }
  ]
}
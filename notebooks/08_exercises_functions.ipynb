{
  "nbformat": 4,
  "nbformat_minor": 0,
  "metadata": {
    "colab": {
      "provenance": [],
      "authorship_tag": "ABX9TyOjnY633zM8cnbPaDJj3gbq",
      "include_colab_link": true
    },
    "kernelspec": {
      "name": "python3",
      "display_name": "Python 3"
    },
    "language_info": {
      "name": "python"
    }
  },
  "cells": [
    {
      "cell_type": "markdown",
      "metadata": {
        "id": "view-in-github",
        "colab_type": "text"
      },
      "source": [
        "<a href=\"https://colab.research.google.com/github/krauseannelize/nb-py-ms-exercises/blob/main/notebooks/08_exercises_functions.ipynb\" target=\"_parent\"><img src=\"https://colab.research.google.com/assets/colab-badge.svg\" alt=\"Open In Colab\"/></a>"
      ]
    },
    {
      "cell_type": "markdown",
      "source": [
        "# 08 | Exercises - Functions\n",
        "\n",
        "Functions are like pre-packaged sets of instructions that we can reuse in our code without retyping it, that make programs easier to read and debug.\n",
        "\n",
        "To define a function in Python, you use the def keyword, followed by the function name, parentheses (), and a colon :. The code block for the function is indented.\n",
        "\n",
        "## Basic Syntax"
      ],
      "metadata": {
        "id": "kxbErhsVpPik"
      }
    },
    {
      "cell_type": "code",
      "source": [
        "def my_function():\n",
        "    # This is the code block inside the function\n",
        "    print(\"Hello from a function!\")\n",
        "\n",
        "# To call or execute the function, you use its name followed by parentheses\n",
        "my_function()"
      ],
      "metadata": {
        "id": "nItw3J3Drq-s"
      },
      "execution_count": null,
      "outputs": []
    },
    {
      "cell_type": "markdown",
      "source": [
        "## Indentation\n",
        "\n",
        "In Python, indentation isn't a matter of style as it is a language requirement. Python depends on indentation to denote code blocks.\n",
        "\n",
        "## Understanding Python Errors\n",
        "\n",
        "When Python encounters an error, it sends you an error message usually including some useful information:\n",
        "\n",
        "- The type of error such as `SyntaxError` or `IndentationError`.\n",
        "- The line of code where the error occurred.\n",
        "- A detailed description of the error."
      ],
      "metadata": {
        "id": "AK4syIhcsBok"
      }
    },
    {
      "cell_type": "code",
      "source": [
        "# function without a colon to cause error\n",
        "def missing_colon()\n",
        "  print(\"Hello, world!\")"
      ],
      "metadata": {
        "colab": {
          "base_uri": "https://localhost:8080/",
          "height": 108
        },
        "id": "0LnDFmhjvaTc",
        "outputId": "94dd2d4b-d502-49bb-d189-7b9e9b399fa5"
      },
      "execution_count": 5,
      "outputs": [
        {
          "output_type": "error",
          "ename": "SyntaxError",
          "evalue": "expected ':' (ipython-input-2675796155.py, line 2)",
          "traceback": [
            "\u001b[0;36m  File \u001b[0;32m\"/tmp/ipython-input-2675796155.py\"\u001b[0;36m, line \u001b[0;32m2\u001b[0m\n\u001b[0;31m    def missing_colon()\u001b[0m\n\u001b[0m                       ^\u001b[0m\n\u001b[0;31mSyntaxError\u001b[0m\u001b[0;31m:\u001b[0m expected ':'\n"
          ]
        }
      ]
    },
    {
      "cell_type": "code",
      "source": [
        "# function not correctly indented to cause error\n",
        " def incorrect_indentation():\n",
        "    print(\"Hello, world!\")\n",
        "  print(\"Hola, world!\")"
      ],
      "metadata": {
        "colab": {
          "base_uri": "https://localhost:8080/",
          "height": 108
        },
        "id": "qKS_t-4YwD0S",
        "outputId": "ba59b1c2-367a-4b01-9c43-3d1a72ad6991"
      },
      "execution_count": 7,
      "outputs": [
        {
          "output_type": "error",
          "ename": "IndentationError",
          "evalue": "unindent does not match any outer indentation level (<tokenize>, line 4)",
          "traceback": [
            "\u001b[0;36m  File \u001b[0;32m\"<tokenize>\"\u001b[0;36m, line \u001b[0;32m4\u001b[0m\n\u001b[0;31m    print(\"Hola, world!\")\u001b[0m\n\u001b[0m    ^\u001b[0m\n\u001b[0;31mIndentationError\u001b[0m\u001b[0;31m:\u001b[0m unindent does not match any outer indentation level\n"
          ]
        }
      ]
    },
    {
      "cell_type": "code",
      "source": [
        "# function call before function definition to cause error\n",
        "greet()\n",
        "\n",
        "def greet():\n",
        "  print(\"Hello, world!\")"
      ],
      "metadata": {
        "colab": {
          "base_uri": "https://localhost:8080/",
          "height": 216
        },
        "id": "SAX4o_rIwPs_",
        "outputId": "bae47595-16c1-4c98-b080-020ebf0a9671"
      },
      "execution_count": 8,
      "outputs": [
        {
          "output_type": "error",
          "ename": "NameError",
          "evalue": "name 'greet' is not defined",
          "traceback": [
            "\u001b[0;31m---------------------------------------------------------------------------\u001b[0m",
            "\u001b[0;31mNameError\u001b[0m                                 Traceback (most recent call last)",
            "\u001b[0;32m/tmp/ipython-input-2076796677.py\u001b[0m in \u001b[0;36m<cell line: 0>\u001b[0;34m()\u001b[0m\n\u001b[1;32m      1\u001b[0m \u001b[0;31m# function call before function definition to cause errro\u001b[0m\u001b[0;34m\u001b[0m\u001b[0;34m\u001b[0m\u001b[0m\n\u001b[0;32m----> 2\u001b[0;31m \u001b[0mgreet\u001b[0m\u001b[0;34m(\u001b[0m\u001b[0;34m)\u001b[0m\u001b[0;34m\u001b[0m\u001b[0;34m\u001b[0m\u001b[0m\n\u001b[0m\u001b[1;32m      3\u001b[0m \u001b[0;34m\u001b[0m\u001b[0m\n\u001b[1;32m      4\u001b[0m \u001b[0;32mdef\u001b[0m \u001b[0mgreet\u001b[0m\u001b[0;34m(\u001b[0m\u001b[0;34m)\u001b[0m\u001b[0;34m:\u001b[0m\u001b[0;34m\u001b[0m\u001b[0;34m\u001b[0m\u001b[0m\n\u001b[1;32m      5\u001b[0m   \u001b[0mprint\u001b[0m\u001b[0;34m(\u001b[0m\u001b[0;34m\"Hello, world!\"\u001b[0m\u001b[0;34m)\u001b[0m\u001b[0;34m\u001b[0m\u001b[0;34m\u001b[0m\u001b[0m\n",
            "\u001b[0;31mNameError\u001b[0m: name 'greet' is not defined"
          ]
        }
      ]
    },
    {
      "cell_type": "markdown",
      "source": [
        "## Arguments & Parameters\n",
        "\n",
        "Function arguments allow us to pass different inputs to a function, enabling the function to produce tailored results based on those inputs.\n",
        "\n",
        "- When we are defining the function, we provision for receiving input by using a `parameter` that serves as a placeholder for an input.\n",
        "- When we call the function, the actual value or variable passed to the function is called an `argument`."
      ],
      "metadata": {
        "id": "RPalJ0WoylWU"
      }
    },
    {
      "cell_type": "code",
      "source": [
        "# defining function \"greet\" provision the parameter name\n",
        "def greet(name):\n",
        "  print(f\"Hello, {name}!\")\n",
        "\n",
        "# calling function with an argument\n",
        "greet(\"Alice\")"
      ],
      "metadata": {
        "colab": {
          "base_uri": "https://localhost:8080/"
        },
        "id": "oOUCVRE5yxep",
        "outputId": "43bee460-030d-4e84-9240-ea652c144f2f"
      },
      "execution_count": 12,
      "outputs": [
        {
          "output_type": "stream",
          "name": "stdout",
          "text": [
            "Hello, Alice!\n"
          ]
        }
      ]
    },
    {
      "cell_type": "markdown",
      "source": [
        "## Variable Scope\n",
        "\n",
        "### Local scope\n",
        "\n",
        "Function parameters live in what we call a local scope. They exist inside the function, but they disappear after the function has finished executing.\n",
        "\n",
        "### Global scope\n",
        "\n",
        "Variables defined in the main function “live” in the global scope. Generally, they are accessible anywhere in the program.\n",
        "\n",
        "## Understanding the Flow of Program with Functions\n",
        "\n",
        "Defining a function _does not execute_ the code it contains. Function execution only happens when you **_call_** the function When you call a function, Python jumps back to where the function is defined, executes the code there, and then returns to where it left off."
      ],
      "metadata": {
        "id": "hB0NWsSx4Hsp"
      }
    },
    {
      "cell_type": "code",
      "source": [
        "def greet():\n",
        "  print(\"Hello, world!\")\n",
        "\n",
        "print(\"Before function call\")\n",
        "greet()\n",
        "print(\"After function call\")"
      ],
      "metadata": {
        "colab": {
          "base_uri": "https://localhost:8080/"
        },
        "id": "2yYgLLqNOLF5",
        "outputId": "2a945df2-e565-43e0-c557-1bfa503319fd"
      },
      "execution_count": 20,
      "outputs": [
        {
          "output_type": "stream",
          "name": "stdout",
          "text": [
            "Before function call\n",
            "Hello, world!\n",
            "After function call\n"
          ]
        }
      ]
    },
    {
      "cell_type": "markdown",
      "source": [
        "## Return Value\n",
        "\n",
        "A return value is a value that a function gives back **when it's done**, using the `return` keyword. This returned value can be stored in a variable, passed to another function, or used in a calculation. This allows you to chain functions together and build more complex programs from simple, reusable components.\n",
        "\n",
        "A useful guideline for beginners is to lean towards using `return` in your functions _unless_ the function’s **main purpose** is to print information.\n",
        "\n",
        "When a function encounters a `return` statement, it **_immediately_** stops and gives back the value in the `return` statement. This means that any code after the `return` statement within the function **will not** be executed."
      ],
      "metadata": {
        "id": "F987lETyOl6O"
      }
    },
    {
      "cell_type": "code",
      "source": [
        "def add_numbers(num1, num2):\n",
        "  return num1 + num2\n",
        "\n",
        "# assigning the output of the function add_numbers to a variable\n",
        "result = add_numbers(5, 9)\n",
        "\n",
        "# the output of the function can be reused and even used in calculations\n",
        "print(f\"The sum of 5 and 9 is {result}\")\n",
        "print(f\"When you add 17 you get {result + 17}.\")"
      ],
      "metadata": {
        "colab": {
          "base_uri": "https://localhost:8080/"
        },
        "id": "zuFQQtdnPs_6",
        "outputId": "569db313-d4dc-4551-f164-19b966f591a9"
      },
      "execution_count": 23,
      "outputs": [
        {
          "output_type": "stream",
          "name": "stdout",
          "text": [
            "The sum of 5 and 9 is 14\n",
            "When you add 17 you get 31.\n"
          ]
        }
      ]
    },
    {
      "cell_type": "code",
      "source": [
        "# function to illustrate anything after return will not be executed\n",
        "def return_test():\n",
        "  print(\"Pre-return statement\")\n",
        "  return\n",
        "  print(\"Post-return statement\")\n",
        "\n",
        "return_test()"
      ],
      "metadata": {
        "colab": {
          "base_uri": "https://localhost:8080/"
        },
        "id": "_83aI0HMaBB_",
        "outputId": "fd571ca9-5b0f-44f7-bc50-9d0721befbdb"
      },
      "execution_count": 36,
      "outputs": [
        {
          "output_type": "stream",
          "name": "stdout",
          "text": [
            "Pre-return statement\n"
          ]
        }
      ]
    },
    {
      "cell_type": "markdown",
      "source": [
        "## User Input in Python\n",
        "\n",
        "The `input()` function in Python makes programs interactive, allowing them to receive information from the user. You can use `input()`\n",
        "\n",
        "- with a separate `print()` statement, or\n",
        "- with a built-in prompt, which is the more common and concise method."
      ],
      "metadata": {
        "id": "8ZDH-89Ta0v_"
      }
    },
    {
      "cell_type": "code",
      "source": [
        "# obtaining input using a separate print() statement\n",
        "print(\"Please enter your name:\")\n",
        "name = input()\n",
        "\n",
        "# obtaining input using a built in prompt\n",
        "age = input(\"How old are you? \")\n",
        "\n",
        "print(f\"Hi there {name}, you are {age} years old\")"
      ],
      "metadata": {
        "colab": {
          "base_uri": "https://localhost:8080/"
        },
        "id": "gxCh2Ey0cUvp",
        "outputId": "ff7c724c-9ee5-47b6-9b82-742d2f87df73"
      },
      "execution_count": 39,
      "outputs": [
        {
          "output_type": "stream",
          "name": "stdout",
          "text": [
            "Please enter your name:\n",
            "Alice\n",
            "How old are you? 27\n",
            "Hi there Alice, you are 27 years old\n"
          ]
        }
      ]
    },
    {
      "cell_type": "markdown",
      "source": [
        "It is important to note that the `input()` function _always_ returns a **string* type, regardless of what the user enters. Remember to convert return values if it is used in operations requiring numbers."
      ],
      "metadata": {
        "id": "pQfGcuIKdNub"
      }
    },
    {
      "cell_type": "code",
      "source": [
        "name = input(\"What is your name? \")\n",
        "age = input(\"What is your age? \")\n",
        "print(f\"Name has the {type(name)} type.\")\n",
        "print(f\"Age has the {type(age)} type.\")"
      ],
      "metadata": {
        "colab": {
          "base_uri": "https://localhost:8080/"
        },
        "id": "eZK-xm_qdxs8",
        "outputId": "854f76a5-6561-44a9-f1bb-1c8db2d16da6"
      },
      "execution_count": 40,
      "outputs": [
        {
          "output_type": "stream",
          "name": "stdout",
          "text": [
            "What is your name? Alice\n",
            "What is your age? 27\n",
            "Name has the <class 'str'> type.\n",
            "Age has the <class 'str'> type.\n"
          ]
        }
      ]
    },
    {
      "cell_type": "code",
      "source": [
        "name = input(\"What is your name? \")\n",
        "age = int(input(\"What is your age? \")) # convert str to int\n",
        "\n",
        "print(f\"Hi {name}, you are {age} years old.\")\n",
        "print(f\"Next year you will be {age + 1} years old\")"
      ],
      "metadata": {
        "colab": {
          "base_uri": "https://localhost:8080/"
        },
        "id": "7g51Apd_eKhi",
        "outputId": "c7588f80-c149-4d2e-e937-f03ae2085eb5"
      },
      "execution_count": 41,
      "outputs": [
        {
          "output_type": "stream",
          "name": "stdout",
          "text": [
            "What is your name? Alice\n",
            "What is your age? 27\n",
            "Hi Alice, you are 27 years old.\n",
            "Next year you will be 28 years old\n"
          ]
        }
      ]
    },
    {
      "cell_type": "markdown",
      "source": [
        "## Exercise 1\n",
        "\n",
        "Write a function called `display_greeting` that prints \"Good day to you!\". Then, call your function to ensure it's working correctly. Remember:\n",
        "\n",
        "- **Don’t forget the basic function structure:** `def`, function name, parenthesis, colon and indentation.\n",
        "- **Remember, the function won't execute until you call it.**\n"
      ],
      "metadata": {
        "id": "pf7aEAaipj93"
      }
    },
    {
      "cell_type": "code",
      "execution_count": 3,
      "metadata": {
        "colab": {
          "base_uri": "https://localhost:8080/"
        },
        "id": "nmNIF7_LpORO",
        "outputId": "bdbfbd36-cb5e-443c-acd7-ad2218a5c8ab"
      },
      "outputs": [
        {
          "output_type": "stream",
          "name": "stdout",
          "text": [
            "Good day to you!\n"
          ]
        }
      ],
      "source": [
        "def display_greeting():\n",
        "  print (\"Good day to you!\")\n",
        "\n",
        "display_greeting()"
      ]
    },
    {
      "cell_type": "markdown",
      "source": [
        "## Exercise 2\n",
        "\n",
        "Here's some poorly indented code. Can you spot the error and correct it?\n",
        "\n",
        "```python\n",
        "def my_function():\n",
        "x = 10\n",
        "y = 5\n",
        "sum = x + y\n",
        "print(sum)\n",
        "\n",
        "# This is the end of the function definition\n",
        "\n",
        "my_function() # We're calling the function\n",
        "```"
      ],
      "metadata": {
        "id": "k_OvFcIjtPwR"
      }
    },
    {
      "cell_type": "code",
      "source": [
        "def my_function():\n",
        "  x = 10\n",
        "  y = 5\n",
        "  sum = x + y\n",
        "  print(sum)\n",
        "\n",
        "# This is the end of the function definition\n",
        "\n",
        "my_function() # We're calling the function"
      ],
      "metadata": {
        "colab": {
          "base_uri": "https://localhost:8080/"
        },
        "id": "SPa_0B8GtXnc",
        "outputId": "e644512a-49cf-467e-80f4-8ea914c80083"
      },
      "execution_count": 4,
      "outputs": [
        {
          "output_type": "stream",
          "name": "stdout",
          "text": [
            "15\n"
          ]
        }
      ]
    },
    {
      "cell_type": "markdown",
      "source": [
        "## Exercise 3\n",
        "\n",
        "This code contains multiple bugs. Can you fix all of them? Read the errors carefully.\n",
        "\n",
        "```python\n",
        " go()\n",
        "\n",
        "def go():\n",
        "num = 5\n",
        "text = \"Hello\"\n",
        "  print(f{text*num}!!!)\n",
        "```"
      ],
      "metadata": {
        "id": "9KIeNVftxBA3"
      }
    },
    {
      "cell_type": "code",
      "source": [
        "def go():\n",
        "  num = 5\n",
        "  text = \"Hello\"\n",
        "  print(text, num, \"!!!\")\n",
        "\n",
        "go()"
      ],
      "metadata": {
        "colab": {
          "base_uri": "https://localhost:8080/"
        },
        "id": "WTcLVfo7xAuy",
        "outputId": "500a7c13-fd92-4f4e-9896-0d321c539d64"
      },
      "execution_count": 11,
      "outputs": [
        {
          "output_type": "stream",
          "name": "stdout",
          "text": [
            "Hello 5 !!!\n"
          ]
        }
      ]
    },
    {
      "cell_type": "markdown",
      "source": [
        "## Exercise 4\n",
        "\n",
        "- Write a function that receives number as parameter and prints the result of dividing it by two.\n",
        "- Call the function, pass any argument you choose.\n",
        "- Remember to choose a meaningful name to your function and the function parameter."
      ],
      "metadata": {
        "id": "-APcW3Bp015J"
      }
    },
    {
      "cell_type": "code",
      "source": [
        "def divide_by_two(number):\n",
        "  print(number / 2)\n",
        "\n",
        "divide_by_two(10)"
      ],
      "metadata": {
        "colab": {
          "base_uri": "https://localhost:8080/"
        },
        "id": "4FseB8Fx07SG",
        "outputId": "449dc35c-5af5-4c8d-e813-0093932d5749"
      },
      "execution_count": 13,
      "outputs": [
        {
          "output_type": "stream",
          "name": "stdout",
          "text": [
            "5.0\n"
          ]
        }
      ]
    },
    {
      "cell_type": "markdown",
      "source": [
        "## Exercise 5\n",
        "\n",
        "Write a function add that takes two numbers as arguments **_(ints)_** and prints their sum. Remember to call your function to check the output."
      ],
      "metadata": {
        "id": "MBmf0E-J1fQE"
      }
    },
    {
      "cell_type": "code",
      "source": [
        "def add(num1, num2):\n",
        "    print(num1 + num2)\n",
        "\n",
        "add(151, 134)"
      ],
      "metadata": {
        "colab": {
          "base_uri": "https://localhost:8080/"
        },
        "id": "EoWqlNmd1iqo",
        "outputId": "00c7607d-e032-4610-d910-ed07acc0856b"
      },
      "execution_count": 15,
      "outputs": [
        {
          "output_type": "stream",
          "name": "stdout",
          "text": [
            "285\n"
          ]
        }
      ]
    },
    {
      "cell_type": "markdown",
      "source": [
        "## Exercise 6\n",
        "\n",
        "Write a function `introduce` that takes two arguments: a name **_(str)_** and an age **_(int)_**. The function should print the message \"Hello, my name is Alice and I'm 25 years old.\" Don't forget to call the function with different names and ages."
      ],
      "metadata": {
        "id": "2_8mquS91uYp"
      }
    },
    {
      "cell_type": "code",
      "source": [
        "def introduce(name, age):\n",
        "  print(f\"Hello, my name is {name} and I'm {age} years old.\")\n",
        "\n",
        "introduce(\"Alice\", 25)\n",
        "introduce(\"Bob\", 30)"
      ],
      "metadata": {
        "colab": {
          "base_uri": "https://localhost:8080/"
        },
        "id": "NvsVFIUK18hN",
        "outputId": "86ad80fa-0d56-4312-905e-d9a4af459549"
      },
      "execution_count": 16,
      "outputs": [
        {
          "output_type": "stream",
          "name": "stdout",
          "text": [
            "Hello, my name is Alice and I'm 25 years old.\n",
            "Hello, my name is Bob and I'm 30 years old.\n"
          ]
        }
      ]
    },
    {
      "cell_type": "markdown",
      "source": [
        "## Exercise 7\n",
        "\n",
        "Write a function `describe_pet` that takes two arguments: `animal_type` **_(str)_** and `pet_name` **_(str)_**. The function should print the message \"I have a dog named Rover.\" Try it with different animal types and pet names."
      ],
      "metadata": {
        "id": "Tj5g_rz92KNZ"
      }
    },
    {
      "cell_type": "code",
      "source": [
        "def describe_pet(animal_type, pet_name):\n",
        "  print(f\"I have a {animal_type} named {pet_name}.\")\n",
        "\n",
        "describe_pet(\"dog\", \"Rover\")\n",
        "describe_pet(\"cat\", \"Whiskers\")"
      ],
      "metadata": {
        "colab": {
          "base_uri": "https://localhost:8080/"
        },
        "id": "zpXDPYBC2UdI",
        "outputId": "c15580fa-acac-4859-e003-511dd6b1856f"
      },
      "execution_count": 17,
      "outputs": [
        {
          "output_type": "stream",
          "name": "stdout",
          "text": [
            "I have a dog named Rover.\n",
            "I have a cat named Whiskers.\n"
          ]
        }
      ]
    },
    {
      "cell_type": "markdown",
      "source": [
        "## Exercise 8\n",
        "\n",
        "The following code contains a few problems. Can you fix it? Make sure the function returns a value instead of printing.\n",
        "\n",
        "```python\n",
        "def make_sentence():\n",
        "  sentence = f\"The {adverb} {noun} {verb}.\"\n",
        "  print(sentence)\n",
        "\n",
        "make_sentence(\"dog\", \"barks\", \"loudly\")\n",
        "```"
      ],
      "metadata": {
        "id": "M9gcG0Yv2ia1"
      }
    },
    {
      "cell_type": "code",
      "source": [
        "def make_sentence(noun, verb, adverb):\n",
        "  sentence = f\"The {noun} {verb} {adverb}.\"\n",
        "  print(sentence)\n",
        "\n",
        "make_sentence(\"dog\", \"barks\", \"loudly\")"
      ],
      "metadata": {
        "colab": {
          "base_uri": "https://localhost:8080/"
        },
        "id": "jy7BXb2G2uF2",
        "outputId": "e9f0569b-fb8c-44af-f235-e09bed1825d7"
      },
      "execution_count": 18,
      "outputs": [
        {
          "output_type": "stream",
          "name": "stdout",
          "text": [
            "The dog barks loudly.\n"
          ]
        }
      ]
    },
    {
      "cell_type": "markdown",
      "source": [
        "## Exercise 9\n",
        "\n",
        "Fix the code from the example, so that the function greet does not access any global scope variables.\n",
        "\n",
        "```python\n",
        "def greet():\n",
        "    print(greeting * 3)\n",
        "\n",
        "greeting = \"Hello! \"\n",
        "greet()\n",
        "```"
      ],
      "metadata": {
        "id": "Sl9Xsig159ID"
      }
    },
    {
      "cell_type": "code",
      "source": [
        "def greet(greeting):\n",
        "    print(greeting * 3)\n",
        "greet(\"Hello! \")"
      ],
      "metadata": {
        "id": "6bhOmsYt6BJp"
      },
      "execution_count": null,
      "outputs": []
    },
    {
      "cell_type": "markdown",
      "source": [
        "## Exercise 10\n",
        "\n",
        "The following program was supposed to print both the average and the sum of two numbers. Can you fix it?\n",
        "\n",
        "```python\n",
        "def print_average_and_sum(num1, num2):\n",
        "  total = num1 + num2\n",
        "  print(f\"The average is {(num1 + num2) / 2}\")\n",
        "\n",
        "print_average_and_sum(70, 95)\n",
        "print(f\"The sum is {total}\")\n",
        "```"
      ],
      "metadata": {
        "id": "-0BjLPg-6K-F"
      }
    },
    {
      "cell_type": "code",
      "source": [
        "def print_average_and_sum(num1, num2):\n",
        "  total = num1 + num2\n",
        "  average = total / 2\n",
        "  print(f\"The sum is {total}\")\n",
        "  print(f\"The average is {average}\")\n",
        "\n",
        "print_average_and_sum(70, 95)"
      ],
      "metadata": {
        "colab": {
          "base_uri": "https://localhost:8080/"
        },
        "id": "oPDaSyo46QfD",
        "outputId": "c08b72ba-8887-441b-a802-f9a7b57f0b5d"
      },
      "execution_count": 19,
      "outputs": [
        {
          "output_type": "stream",
          "name": "stdout",
          "text": [
            "The sum is 165\n",
            "The average is 82.5\n"
          ]
        }
      ]
    },
    {
      "cell_type": "markdown",
      "source": [
        "## Exercise 11\n",
        "\n",
        "- Write a function named `ship_weight()` that takes one argument, `weight_in_tons`.\n",
        "- This function should convert the weight to kilograms (1 ton is 907.185 kg) and return this value.\n",
        "- For this challenge, call `ship_weight(52310)` (the Titanic's weight in tons).\n",
        "- Collect and then print the returned value."
      ],
      "metadata": {
        "id": "_el1Z4SNRnEW"
      }
    },
    {
      "cell_type": "code",
      "source": [
        "def ship_weight(weight_in_tons):\n",
        "  return weight_in_tons * 907.185\n",
        "\n",
        "print(f\"The Titanic weighed {round(ship_weight(52310), 2)}kgs.\")"
      ],
      "metadata": {
        "colab": {
          "base_uri": "https://localhost:8080/"
        },
        "id": "28rD4BE2RxDq",
        "outputId": "b3a06a3f-a68d-4db3-f573-5b843817a218"
      },
      "execution_count": 25,
      "outputs": [
        {
          "output_type": "stream",
          "name": "stdout",
          "text": [
            "The Titanic weighed 47454847.35kgs.\n"
          ]
        }
      ]
    },
    {
      "cell_type": "markdown",
      "source": [
        "## Exercise 12\n",
        "\n",
        "- In a certain university, it was decided that all grades of an exam should be refactored.\n",
        "- Write a function named `refactor_grade` that takes one argument: `grade` **_(int)_**.\n",
        "- This function should subtract 10 from the grade and then add 20% to it and return the refactored grade.\n",
        "- Call `refactor_grade` with 75 and save the result to a variable called `new_grade`.\n",
        "- Print the new grade."
      ],
      "metadata": {
        "id": "zrG9v_awSZ6B"
      }
    },
    {
      "cell_type": "code",
      "source": [
        "def refactor_grade(grade):\n",
        "  return (grade - 10) * 1.2\n",
        "\n",
        "new_grade = refactor_grade(75)\n",
        "print(f\"The new grade is {new_grade}.\")"
      ],
      "metadata": {
        "colab": {
          "base_uri": "https://localhost:8080/"
        },
        "id": "Vhydp7e4Sngx",
        "outputId": "7ec0ee01-7ee8-4126-accb-4ddb2a7440f8"
      },
      "execution_count": 26,
      "outputs": [
        {
          "output_type": "stream",
          "name": "stdout",
          "text": [
            "The new grade is 78.0.\n"
          ]
        }
      ]
    },
    {
      "cell_type": "markdown",
      "source": [
        "## Exercise 13\n",
        "\n",
        "- Implement the function `repeat_myself` so that it returns the given string repeated X times in a row.\n",
        "- Add parameters to the function definition, if needed.\n",
        "\n",
        "```python\n",
        "def repeat_myself():\n",
        "  pass # does nothing - \"pass\" keyword is a placeholder\n",
        "\n",
        "print(repeat_myself(\"I love coding! \", 10))\n",
        "```"
      ],
      "metadata": {
        "id": "CREaFXvfS-gQ"
      }
    },
    {
      "cell_type": "code",
      "source": [
        "def repeat_myself(phrase, repeat):\n",
        "  return phrase * repeat\n",
        "\n",
        "print(repeat_myself(\"I love coding! \", 10))"
      ],
      "metadata": {
        "colab": {
          "base_uri": "https://localhost:8080/"
        },
        "id": "KU1tqdeITGnq",
        "outputId": "c6285bb2-615c-49a8-9e37-9bf9dd228267"
      },
      "execution_count": 27,
      "outputs": [
        {
          "output_type": "stream",
          "name": "stdout",
          "text": [
            "I love coding! I love coding! I love coding! I love coding! I love coding! I love coding! I love coding! I love coding! I love coding! I love coding! \n"
          ]
        }
      ]
    },
    {
      "cell_type": "markdown",
      "source": [
        "## Exercise 14\n",
        "\n",
        "- Create a function named `distance` that takes two arguments: `speed` (km/h) and `time` (hours), both ints.\n",
        "- This function should calculate the distance traveled using the speed and the time and **return** it in **meters** (int)."
      ],
      "metadata": {
        "id": "1NHzb4AvTvYn"
      }
    },
    {
      "cell_type": "code",
      "source": [
        "def distance(speed, time):\n",
        "  distance_in_km = speed * time\n",
        "  km_to_meter = 1000\n",
        "  return distance_in_km * km_to_meter\n",
        "\n",
        "print(f\"If you travel at a speed of 100km/h for 2 hours, you travelled {distance(100, 2)} meters.\")"
      ],
      "metadata": {
        "colab": {
          "base_uri": "https://localhost:8080/"
        },
        "id": "2_hO6XHzT_d0",
        "outputId": "9c6d6beb-2845-4137-8fc6-dee546c481b6"
      },
      "execution_count": 30,
      "outputs": [
        {
          "output_type": "stream",
          "name": "stdout",
          "text": [
            "If you travel at a speed of 100km/h for 2 hours, you travelled 200000 meters.\n"
          ]
        }
      ]
    },
    {
      "cell_type": "markdown",
      "source": [
        "## Exercise 15\n",
        "\n",
        "- Write a function named `morse_code()` that takes two arguments: `short_signal` and `long_signal`.\n",
        "- This function should return the Morse code for SOS (3 short signals, 3 long signals, 3 short signals).\n",
        "\n",
        "```python\n",
        "print(morse_code(\" . \", \" - \"))\n",
        "```"
      ],
      "metadata": {
        "id": "G11O0PXJVG6f"
      }
    },
    {
      "cell_type": "code",
      "source": [
        "def morse_code(short_signal, long_signal):\n",
        "  return short_signal * 3 + long_signal * 3 + short_signal * 3\n",
        "\n",
        "print(morse_code(\" . \", \" - \"))"
      ],
      "metadata": {
        "colab": {
          "base_uri": "https://localhost:8080/"
        },
        "id": "GUd2m54_VUfW",
        "outputId": "5505d1e1-008e-4468-f516-7b6199334abf"
      },
      "execution_count": 31,
      "outputs": [
        {
          "output_type": "stream",
          "name": "stdout",
          "text": [
            " .  .  .  -  -  -  .  .  . \n"
          ]
        }
      ]
    },
    {
      "cell_type": "markdown",
      "source": [
        "## Exercise 16\n",
        "\n",
        "- The following function prints the multiplication result of two numbers, **instead of returning it**.\n",
        "- This causes problems with a later `print` statement in the main code block.\n",
        "- Can you fix the problem?\n",
        "\n",
        "```python\n",
        "def mult(a, b):\n",
        "  print(a * b)\n",
        "\n",
        "print(mult(5, 3))\n",
        "```"
      ],
      "metadata": {
        "id": "Y9kVtojeXqk7"
      }
    },
    {
      "cell_type": "code",
      "source": [
        "def mult(a, b):\n",
        "  return a * b\n",
        "\n",
        "print(mult(5, 3))"
      ],
      "metadata": {
        "colab": {
          "base_uri": "https://localhost:8080/"
        },
        "id": "Qu7bswH8YD2e",
        "outputId": "1b91cf7a-1bb2-4e56-ddca-03f536dae3cd"
      },
      "execution_count": 32,
      "outputs": [
        {
          "output_type": "stream",
          "name": "stdout",
          "text": [
            "15\n"
          ]
        }
      ]
    },
    {
      "cell_type": "markdown",
      "source": [
        "## Exercise 17\n",
        "\n",
        "- Write a function called `average_grade`, that accepts three arguments, representing three exam grades **_(ints)_**.\n",
        "- The function should return the average grade, as **_int_** (it’s ok to floor the average grade).\n",
        "- No need to call the function (You can do it for testing purposes).\n",
        "- Remember to use meaningful names for the parameters."
      ],
      "metadata": {
        "id": "oB6whpgbYX8O"
      }
    },
    {
      "cell_type": "code",
      "source": [
        "def average_grade(exam1, exam2,exam3):\n",
        "  return int((exam1 + exam2 + exam3) / 3)\n",
        "\n",
        "print(f\"The average grade is {average_grade(75, 80, 85)}.\")"
      ],
      "metadata": {
        "colab": {
          "base_uri": "https://localhost:8080/"
        },
        "id": "fOhI_fKKYXd_",
        "outputId": "223fb97c-0166-41a4-b525-214b940b372a"
      },
      "execution_count": 34,
      "outputs": [
        {
          "output_type": "stream",
          "name": "stdout",
          "text": [
            "The average grade is 80.\n"
          ]
        }
      ]
    },
    {
      "cell_type": "markdown",
      "source": [
        "## Exercise 18\n",
        "\n",
        "- Write a function named `celsius_to_fahrenheit` that will help you convert Celsius temperatures to Fahrenheit.\n",
        "- This function should accept one argument called `celsius` and return the equivalent Fahrenheit temperature\n",
        "- To convert from Celsius to Fahrenheit, multiply the temperature in Celsius by 9/5, then add 32."
      ],
      "metadata": {
        "id": "DbG4ItWQZHj3"
      }
    },
    {
      "cell_type": "code",
      "source": [
        "def celsius_to_fahrenheit(celsius):\n",
        "  return celsius * 9/5 + 32\n",
        "\n",
        "print(f\"20°C is {celsius_to_fahrenheit(20)}°F.\")"
      ],
      "metadata": {
        "colab": {
          "base_uri": "https://localhost:8080/"
        },
        "id": "W7_wrhEoZQIv",
        "outputId": "8b2090f2-dbd9-4dbe-a349-e1dcc994f326"
      },
      "execution_count": 35,
      "outputs": [
        {
          "output_type": "stream",
          "name": "stdout",
          "text": [
            "20°C is 68.0°F.\n"
          ]
        }
      ]
    },
    {
      "cell_type": "markdown",
      "source": [
        "## Exercise 19\n",
        "\n",
        "- Write a program that asks the user to provide their name.\n",
        "- The program should then display their name 5 times, separated by spaces. For example, if the user enters \"Anna\", it should print \"Anna Anna Anna Anna Anna \"."
      ],
      "metadata": {
        "id": "ucpFjZbifDl8"
      }
    },
    {
      "cell_type": "code",
      "source": [
        "def repeat_name(name, repeat):\n",
        "  return (name + \" \") * repeat\n",
        "\n",
        "name = input(\"What is your name?\")\n",
        "print(repeat_name(name, 5))"
      ],
      "metadata": {
        "colab": {
          "base_uri": "https://localhost:8080/"
        },
        "id": "WEX_KS7DfJzo",
        "outputId": "021c91bb-86c4-4482-8cbe-a62a39ffae6c"
      },
      "execution_count": 42,
      "outputs": [
        {
          "output_type": "stream",
          "name": "stdout",
          "text": [
            "What is your name?Anna\n",
            "Anna Anna Anna Anna Anna \n"
          ]
        }
      ]
    }
  ]
}
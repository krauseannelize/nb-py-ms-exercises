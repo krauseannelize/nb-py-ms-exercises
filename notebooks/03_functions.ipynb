{
  "nbformat": 4,
  "nbformat_minor": 0,
  "metadata": {
    "colab": {
      "provenance": [],
      "authorship_tag": "ABX9TyOP0jmJfcEbB54V3nUR4jBS",
      "include_colab_link": true
    },
    "kernelspec": {
      "name": "python3",
      "display_name": "Python 3"
    },
    "language_info": {
      "name": "python"
    }
  },
  "cells": [
    {
      "cell_type": "markdown",
      "metadata": {
        "id": "view-in-github",
        "colab_type": "text"
      },
      "source": [
        "<a href=\"https://colab.research.google.com/github/krauseannelize/nb-py-ms-exercises/blob/main/notebooks/03_functions.ipynb\" target=\"_parent\"><img src=\"https://colab.research.google.com/assets/colab-badge.svg\" alt=\"Open In Colab\"/></a>"
      ]
    },
    {
      "cell_type": "markdown",
      "source": [
        "# 03 | Functions\n",
        "\n",
        "- Perform a specific task\n",
        "- Make your code modular\n",
        "- Avoid repetition\n",
        "\n",
        "## How to write a function\n",
        "\n",
        "1. Start with the keyword `def`.\n",
        "2. After the `def` keyword, follows a space and the name of the function.\n",
        "3. The name is followed by parentheses and a colon.\n",
        "4. Optionally, parameters can added inside the parentheses.\n",
        "5. When parameters have been added to the function, it will expect you to pass an argument when you call the function.\n",
        "\n",
        "## Basic Syntax"
      ],
      "metadata": {
        "id": "doZM0xrMNngO"
      }
    },
    {
      "cell_type": "code",
      "execution_count": null,
      "metadata": {
        "id": "HfGW_oLOMkwY"
      },
      "outputs": [],
      "source": [
        "# Define function\n",
        "def FunctionName(parameter):\n",
        "    # Body of code that will execute when function is called\n",
        "    return # optional return value to exit a function\n",
        "\n",
        "# Call function\n",
        "FunctionName(argument)"
      ]
    },
    {
      "cell_type": "markdown",
      "source": [
        "## Basic Functions"
      ],
      "metadata": {
        "id": "OHF6QtvRRWPO"
      }
    },
    {
      "cell_type": "code",
      "source": [
        "# simple function to print a greeting on screen\n",
        "def say_hello():\n",
        "    print('Hello, World!')\n",
        "\n",
        "say_hello() # call function"
      ],
      "metadata": {
        "colab": {
          "base_uri": "https://localhost:8080/"
        },
        "id": "rRpP44GORaJS",
        "outputId": "a8d87fab-4105-452c-f1bb-69fb5062989e"
      },
      "execution_count": 3,
      "outputs": [
        {
          "output_type": "stream",
          "name": "stdout",
          "text": [
            "Hello, World!\n"
          ]
        }
      ]
    },
    {
      "cell_type": "markdown",
      "source": [
        "## Functions with Parameters"
      ],
      "metadata": {
        "id": "bPxWQNJERuEV"
      }
    },
    {
      "cell_type": "code",
      "source": [
        "# using 2 parameters for an addition function\n",
        "def add_numbers(num1, num2):\n",
        "    return num1 + num2\n",
        "\n",
        "add_numbers(10, 15)\n",
        "\n",
        "# assigning function output to a variable\n",
        "result = add_numbers(10, 15)\n",
        "print(\"The sum is\", result)"
      ],
      "metadata": {
        "colab": {
          "base_uri": "https://localhost:8080/"
        },
        "id": "nOCBy5cARwSl",
        "outputId": "f2d90b6f-e807-492d-d570-c657c8283489"
      },
      "execution_count": 8,
      "outputs": [
        {
          "output_type": "stream",
          "name": "stdout",
          "text": [
            "The sum is 25\n"
          ]
        }
      ]
    },
    {
      "cell_type": "markdown",
      "source": [
        "## Exercise\n",
        "\n",
        "Create a function that multiplies 2 numbers and returns the product of the 2 numbers."
      ],
      "metadata": {
        "id": "FBB3OqJFSylS"
      }
    },
    {
      "cell_type": "code",
      "source": [
        "def multiply_numbers(num1, num2):\n",
        "    return num1 * num2\n",
        "\n",
        "result = multiply_numbers(10, 15)\n",
        "print(\"The product of 10 and 15 is\", result)"
      ],
      "metadata": {
        "colab": {
          "base_uri": "https://localhost:8080/"
        },
        "id": "Sl4FaWOhSySP",
        "outputId": "a6154883-9648-4a9e-9e2a-6ee414b04a44"
      },
      "execution_count": 9,
      "outputs": [
        {
          "output_type": "stream",
          "name": "stdout",
          "text": [
            "The product of 10 and 15 is 150\n"
          ]
        }
      ]
    },
    {
      "cell_type": "markdown",
      "source": [
        "## Assigning a Default Parameter"
      ],
      "metadata": {
        "id": "lqp3BB5YULZ9"
      }
    },
    {
      "cell_type": "code",
      "source": [
        "# if no exponent argument is received, the default value of 2 will be assigned\n",
        "def power(base, exponent=2):\n",
        "  return base ** exponent\n",
        "\n",
        "x = power(3) # when only 1 argument is received, exponent is 2 by default\n",
        "y = power(3, 3) # when 2 arguments is received, exponent's default value is replaced\n",
        "\n",
        "print(x)\n",
        "print(y)"
      ],
      "metadata": {
        "colab": {
          "base_uri": "https://localhost:8080/"
        },
        "id": "uPQQ5PKiTajV",
        "outputId": "518af42f-000e-4588-d23d-11fa3c7f094c"
      },
      "execution_count": 13,
      "outputs": [
        {
          "output_type": "stream",
          "name": "stdout",
          "text": [
            "9\n",
            "27\n"
          ]
        }
      ]
    },
    {
      "cell_type": "markdown",
      "source": [
        "## Exercise\n",
        "\n",
        "Create a function that calculates the average of 3 numbers."
      ],
      "metadata": {
        "id": "36m8wEj0VTln"
      }
    },
    {
      "cell_type": "code",
      "source": [
        "def average_numbers(num1, num2, num3):\n",
        "    return (num1 + num2 + num3) / 3\n",
        "\n",
        "result = average_numbers(10, 15, 20)\n",
        "print(\"The average of 10, 15 and 20 is\", result)"
      ],
      "metadata": {
        "colab": {
          "base_uri": "https://localhost:8080/"
        },
        "id": "P4jO7e0pTeSS",
        "outputId": "2a01eed1-160d-47e5-868a-701333fd367c"
      },
      "execution_count": 14,
      "outputs": [
        {
          "output_type": "stream",
          "name": "stdout",
          "text": [
            "The average of 10, 15 and 20 is 15.0\n"
          ]
        }
      ]
    },
    {
      "cell_type": "markdown",
      "source": [
        "## Scope of Variables\n",
        "\n",
        "- **Local variable:** Defined inside a function and not accessible outside the function\n",
        "- **Global variable:** Defined outside a function and is accessible everywhere"
      ],
      "metadata": {
        "id": "UewroajdWkeY"
      }
    },
    {
      "cell_type": "code",
      "source": [
        "# test local vs global variables\n",
        "global_var = \"Global Variable\"\n",
        "\n",
        "def test_scope():\n",
        "    local_var = \"Local Variable\"\n",
        "    print(local_var)\n",
        "    print(global_var)\n",
        "\n",
        "print(\"Using a function to print the variables:\")\n",
        "test_scope()\n",
        "\n",
        "print(\"Printing the global variables directly:\")\n",
        "print(global_var)\n",
        "\n",
        "print(\"Printing the local variable directly:\")\n",
        "print(local_var)\n",
        "# this will result in an error - only available inside the function"
      ],
      "metadata": {
        "colab": {
          "base_uri": "https://localhost:8080/",
          "height": 287
        },
        "id": "HVXi9dg7W2YZ",
        "outputId": "5d6d8b89-4c45-4ab8-9cea-6afa91d8415a"
      },
      "execution_count": 17,
      "outputs": [
        {
          "output_type": "stream",
          "name": "stdout",
          "text": [
            "Using a function to print the variables:\n",
            "Local Variable\n",
            "Global Variable\n",
            "Printing the global variables directly:\n",
            "Global Variable\n",
            "Printing the local variable directly:\n"
          ]
        },
        {
          "output_type": "error",
          "ename": "NameError",
          "evalue": "name 'local_var' is not defined",
          "traceback": [
            "\u001b[0;31m---------------------------------------------------------------------------\u001b[0m",
            "\u001b[0;31mNameError\u001b[0m                                 Traceback (most recent call last)",
            "\u001b[0;32m/tmp/ipython-input-271026340.py\u001b[0m in \u001b[0;36m<cell line: 0>\u001b[0;34m()\u001b[0m\n\u001b[1;32m     14\u001b[0m \u001b[0;34m\u001b[0m\u001b[0m\n\u001b[1;32m     15\u001b[0m \u001b[0mprint\u001b[0m\u001b[0;34m(\u001b[0m\u001b[0;34m\"Printing the local variable directly:\"\u001b[0m\u001b[0;34m)\u001b[0m\u001b[0;34m\u001b[0m\u001b[0;34m\u001b[0m\u001b[0m\n\u001b[0;32m---> 16\u001b[0;31m \u001b[0mprint\u001b[0m\u001b[0;34m(\u001b[0m\u001b[0mlocal_var\u001b[0m\u001b[0;34m)\u001b[0m\u001b[0;34m\u001b[0m\u001b[0;34m\u001b[0m\u001b[0m\n\u001b[0m",
            "\u001b[0;31mNameError\u001b[0m: name 'local_var' is not defined"
          ]
        }
      ]
    },
    {
      "cell_type": "markdown",
      "source": [
        "# Python Built-in Functions\n",
        "\n",
        "- print(), type(), len()\n",
        "- sum(), min(), max(), sorted()\n",
        "- abs(), int()"
      ],
      "metadata": {
        "id": "fIeXJVfZYRZI"
      }
    },
    {
      "cell_type": "code",
      "source": [
        "phrase = \"Data Analytics\"\n",
        "phrase_len = len(phrase)\n",
        "\n",
        "num_list = [7, 23, 51, 33, 2]\n",
        "sum_list = sum(num_list)\n",
        "sorted_list = sorted(num_list)\n",
        "min_num = min(num_list)\n",
        "max_num = max(num_list)\n",
        "\n",
        "print(phrase, \"is\", phrase_len, \"characters long.\")\n",
        "print(\"Our number list is:\", num_list)\n",
        "print(\"Our number list sorted is:\", sorted_list)\n",
        "print(\"The sum of our list is\", sum_list)\n",
        "print(\"The smallest number in our list is\", min_num)\n",
        "print(\"The biggest number in our list is\", max_num)"
      ],
      "metadata": {
        "colab": {
          "base_uri": "https://localhost:8080/"
        },
        "id": "2xQUyq9-Zdhy",
        "outputId": "63327f4d-4cea-4399-a157-31f651d8a8ed"
      },
      "execution_count": 25,
      "outputs": [
        {
          "output_type": "stream",
          "name": "stdout",
          "text": [
            "Data Analytics is 14 characters long.\n",
            "Our number list is: [7, 23, 51, 33, 2]\n",
            "Our number list sorted is: [2, 7, 23, 33, 51]\n",
            "The sum of our list is 116\n",
            "The smallest number in our list is 2\n",
            "The biggest number in our list is 51\n"
          ]
        }
      ]
    },
    {
      "cell_type": "markdown",
      "source": [
        "## Built-in Python Modules\n",
        "\n",
        "The `random` module is a built-in Python module used to generate random numbers."
      ],
      "metadata": {
        "id": "Lkg64tHrbmCt"
      }
    },
    {
      "cell_type": "code",
      "source": [
        "import random # import the random module\n",
        "\n",
        "#generate a random number in a specified interval\n",
        "randy = random.randint(1, 100)\n",
        "\n",
        "print(randy)\n",
        "print(randy) # once generated, it was assigned to a variable which won't change"
      ],
      "metadata": {
        "colab": {
          "base_uri": "https://localhost:8080/"
        },
        "id": "c1O99nvicBwI",
        "outputId": "2344627d-778b-4eed-aba3-4325f22a5d7f"
      },
      "execution_count": 27,
      "outputs": [
        {
          "output_type": "stream",
          "name": "stdout",
          "text": [
            "12\n",
            "12\n"
          ]
        }
      ]
    },
    {
      "cell_type": "code",
      "source": [
        "import random # import the random module\n",
        "\n",
        "def randy_generator():\n",
        "  randy = random.randint(1, 100)\n",
        "  return randy\n",
        "\n",
        "# the variable is reassigned everytime the function is called\n",
        "print(randy_generator())\n",
        "print(randy_generator())\n",
        "print(randy_generator())"
      ],
      "metadata": {
        "colab": {
          "base_uri": "https://localhost:8080/"
        },
        "id": "-aPA18GTdMEP",
        "outputId": "42c2df35-867c-47ee-8324-dab35be4a397"
      },
      "execution_count": 28,
      "outputs": [
        {
          "output_type": "stream",
          "name": "stdout",
          "text": [
            "65\n",
            "16\n",
            "45\n"
          ]
        }
      ]
    },
    {
      "cell_type": "markdown",
      "source": [
        "## Taking Input"
      ],
      "metadata": {
        "id": "q_XNpem9fp5E"
      }
    },
    {
      "cell_type": "code",
      "source": [
        "name = input(\"What is your name? \")\n",
        "age = input(f\"How old are you {name}? \")\n",
        "\n",
        "print(f\"Hello {name}, you are {age} years old.\")"
      ],
      "metadata": {
        "colab": {
          "base_uri": "https://localhost:8080/"
        },
        "id": "_VF1bG6FfpQT",
        "outputId": "c8c86233-c1c3-4344-d450-4e599285e257"
      },
      "execution_count": 34,
      "outputs": [
        {
          "output_type": "stream",
          "name": "stdout",
          "text": [
            "What is your name? Jack\n",
            "How old are you Jack? 23\n",
            "Hello Jack, you are 23 years old.\n"
          ]
        }
      ]
    },
    {
      "cell_type": "code",
      "source": [
        "city = input(f\"In which city do you live {name}? \")\n",
        "country = input(f\"{city} is in which country? \")\n",
        "\n",
        "print(f\"Hello {name}, you are {age} years old. You live in {city} in the country of {country}.\")"
      ],
      "metadata": {
        "colab": {
          "base_uri": "https://localhost:8080/"
        },
        "id": "Fc1BsmqRglMz",
        "outputId": "6b8ac2b0-9b73-4b45-950b-7e307cad3d00"
      },
      "execution_count": 35,
      "outputs": [
        {
          "output_type": "stream",
          "name": "stdout",
          "text": [
            "In which city do you live Jack? Berlin\n",
            "Berlin is in which country? Germany\n",
            "Hello Jack, you are 23 years old. You live in Berlin in the country of Germany.\n"
          ]
        }
      ]
    },
    {
      "cell_type": "markdown",
      "source": [
        "## Handling Errors in Functions\n",
        "\n",
        "### ZeroDivisionError"
      ],
      "metadata": {
        "id": "LvRnQ4lXhp0L"
      }
    },
    {
      "cell_type": "code",
      "source": [
        "# no division by zero - will produce error\n",
        "a = 20\n",
        "b = 0\n",
        "c = a/b\n",
        "print(c)"
      ],
      "metadata": {
        "colab": {
          "base_uri": "https://localhost:8080/",
          "height": 198
        },
        "id": "a9EDBa4vhzip",
        "outputId": "f7643a6a-a085-4d28-9553-5998adb1bbca"
      },
      "execution_count": 36,
      "outputs": [
        {
          "output_type": "error",
          "ename": "ZeroDivisionError",
          "evalue": "division by zero",
          "traceback": [
            "\u001b[0;31m---------------------------------------------------------------------------\u001b[0m",
            "\u001b[0;31mZeroDivisionError\u001b[0m                         Traceback (most recent call last)",
            "\u001b[0;32m/tmp/ipython-input-1279626278.py\u001b[0m in \u001b[0;36m<cell line: 0>\u001b[0;34m()\u001b[0m\n\u001b[1;32m      2\u001b[0m \u001b[0ma\u001b[0m \u001b[0;34m=\u001b[0m \u001b[0;36m20\u001b[0m\u001b[0;34m\u001b[0m\u001b[0;34m\u001b[0m\u001b[0m\n\u001b[1;32m      3\u001b[0m \u001b[0mb\u001b[0m \u001b[0;34m=\u001b[0m \u001b[0;36m0\u001b[0m\u001b[0;34m\u001b[0m\u001b[0;34m\u001b[0m\u001b[0m\n\u001b[0;32m----> 4\u001b[0;31m \u001b[0mc\u001b[0m \u001b[0;34m=\u001b[0m \u001b[0ma\u001b[0m\u001b[0;34m/\u001b[0m\u001b[0mb\u001b[0m\u001b[0;34m\u001b[0m\u001b[0;34m\u001b[0m\u001b[0m\n\u001b[0m\u001b[1;32m      5\u001b[0m \u001b[0mprint\u001b[0m\u001b[0;34m(\u001b[0m\u001b[0mc\u001b[0m\u001b[0;34m)\u001b[0m\u001b[0;34m\u001b[0m\u001b[0;34m\u001b[0m\u001b[0m\n",
            "\u001b[0;31mZeroDivisionError\u001b[0m: division by zero"
          ]
        }
      ]
    },
    {
      "cell_type": "code",
      "source": [
        "# a function handling division by zero\n",
        "def safe_divide(a, b):\n",
        "  try:\n",
        "    return a/b\n",
        "  except ZeroDivisionError:\n",
        "    return 'Error: cannot divide by Zero'\n",
        "\n",
        "print(safe_divide(20, 5))\n",
        "print(safe_divide(20, 0))"
      ],
      "metadata": {
        "colab": {
          "base_uri": "https://localhost:8080/"
        },
        "id": "G86Qtmyvh87N",
        "outputId": "aebc28b0-54ac-4759-bffa-3483a8777da5"
      },
      "execution_count": 37,
      "outputs": [
        {
          "output_type": "stream",
          "name": "stdout",
          "text": [
            "4.0\n",
            "Error: cannot divide by Zero\n"
          ]
        }
      ]
    },
    {
      "cell_type": "markdown",
      "source": [
        "### ValueError"
      ],
      "metadata": {
        "id": "Sj-50iNxjsMj"
      }
    },
    {
      "cell_type": "code",
      "source": [
        "# square root cannot be negative - will produce error\n",
        "import math # import the math module\n",
        "\n",
        "print(math.sqrt(-8))"
      ],
      "metadata": {
        "colab": {
          "base_uri": "https://localhost:8080/",
          "height": 180
        },
        "id": "OTe6WsBIitSM",
        "outputId": "a9e70b27-045f-4692-e67a-736fa52df8f7"
      },
      "execution_count": 39,
      "outputs": [
        {
          "output_type": "error",
          "ename": "ValueError",
          "evalue": "math domain error",
          "traceback": [
            "\u001b[0;31m---------------------------------------------------------------------------\u001b[0m",
            "\u001b[0;31mValueError\u001b[0m                                Traceback (most recent call last)",
            "\u001b[0;32m/tmp/ipython-input-1212006953.py\u001b[0m in \u001b[0;36m<cell line: 0>\u001b[0;34m()\u001b[0m\n\u001b[1;32m      2\u001b[0m \u001b[0;32mimport\u001b[0m \u001b[0mmath\u001b[0m \u001b[0;31m# import the math module\u001b[0m\u001b[0;34m\u001b[0m\u001b[0;34m\u001b[0m\u001b[0m\n\u001b[1;32m      3\u001b[0m \u001b[0;34m\u001b[0m\u001b[0m\n\u001b[0;32m----> 4\u001b[0;31m \u001b[0mprint\u001b[0m\u001b[0;34m(\u001b[0m\u001b[0mmath\u001b[0m\u001b[0;34m.\u001b[0m\u001b[0msqrt\u001b[0m\u001b[0;34m(\u001b[0m\u001b[0;34m-\u001b[0m\u001b[0;36m8\u001b[0m\u001b[0;34m)\u001b[0m\u001b[0;34m)\u001b[0m\u001b[0;34m\u001b[0m\u001b[0;34m\u001b[0m\u001b[0m\n\u001b[0m",
            "\u001b[0;31mValueError\u001b[0m: math domain error"
          ]
        }
      ]
    },
    {
      "cell_type": "code",
      "source": [
        "# a function handling negative arguments with square root\n",
        "import math # import the math module\n",
        "\n",
        "def safe_sqrt(x):\n",
        "  try:\n",
        "    return math.sqrt(x)\n",
        "  except ValueError:\n",
        "    return 'Error: cannot take square root of a negative number'\n",
        "\n",
        "print(safe_sqrt(8))\n",
        "print(safe_sqrt(-8))"
      ],
      "metadata": {
        "colab": {
          "base_uri": "https://localhost:8080/"
        },
        "id": "GVO2FUL7jQlk",
        "outputId": "5b111beb-30e4-442d-e9f5-73a76b769dd1"
      },
      "execution_count": 40,
      "outputs": [
        {
          "output_type": "stream",
          "name": "stdout",
          "text": [
            "2.8284271247461903\n",
            "Error: cannot take square root of a negative number\n"
          ]
        }
      ]
    },
    {
      "cell_type": "markdown",
      "source": [
        "## Exercise\n",
        "\n",
        "1. Ask a user to enter their favourite color as an input and print out: My favourite color is {color}\n",
        "2. Ask the user for two numbers as n input and print out their sum\n",
        "3. Get the price and quantity from a user as an input and calculate the total cost."
      ],
      "metadata": {
        "id": "gBHvBrCSkc5D"
      }
    },
    {
      "cell_type": "code",
      "source": [
        "# Question 1\n",
        "color = input(\"What is your favourite color? \")\n",
        "print(f\"My favourite color is {color}\")"
      ],
      "metadata": {
        "colab": {
          "base_uri": "https://localhost:8080/"
        },
        "id": "rKOl9TF6ksPO",
        "outputId": "aef54206-6242-42b6-fc5b-9f032cad9b30"
      },
      "execution_count": 41,
      "outputs": [
        {
          "output_type": "stream",
          "name": "stdout",
          "text": [
            "What is your favourite color? green\n",
            "My favourite color is green\n"
          ]
        }
      ]
    },
    {
      "cell_type": "code",
      "source": [
        "# Question 2\n",
        "num1 = int(input(\"Enter a number: \"))\n",
        "num2 = int(input(\"Enter another number: \"))\n",
        "print(f\"The sum of {num1} and {num2} is {num1 + num2}\")"
      ],
      "metadata": {
        "colab": {
          "base_uri": "https://localhost:8080/"
        },
        "id": "Me6_w8IFkyv0",
        "outputId": "e735c112-bf82-420f-8a42-4ffa6ec43e1b"
      },
      "execution_count": 42,
      "outputs": [
        {
          "output_type": "stream",
          "name": "stdout",
          "text": [
            "Enter a number: 20\n",
            "Enter another number: 15\n",
            "The sum of 20 and 15 is 35\n"
          ]
        }
      ]
    },
    {
      "cell_type": "code",
      "source": [
        "# Question 3\n",
        "price = float(input(\"Enter the price of the item: \"))\n",
        "quantity = int(input(\"Enter the quantity: \"))\n",
        "print(f\"The total cost is {price * quantity}\")"
      ],
      "metadata": {
        "colab": {
          "base_uri": "https://localhost:8080/"
        },
        "id": "F2GJc2ZXlLaj",
        "outputId": "a18acf52-37b5-44f7-f1a4-483dd4a2c759"
      },
      "execution_count": 43,
      "outputs": [
        {
          "output_type": "stream",
          "name": "stdout",
          "text": [
            "Enter the price of the item: 2.5\n",
            "Enter the quantity: 3\n",
            "The total cost is 7.5\n"
          ]
        }
      ]
    }
  ]
}
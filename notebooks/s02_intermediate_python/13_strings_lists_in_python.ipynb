{
  "nbformat": 4,
  "nbformat_minor": 0,
  "metadata": {
    "colab": {
      "provenance": [],
      "authorship_tag": "ABX9TyPhg48ELuLXiIz6HgsBD2BF",
      "include_colab_link": true
    },
    "kernelspec": {
      "name": "python3",
      "display_name": "Python 3"
    },
    "language_info": {
      "name": "python"
    }
  },
  "cells": [
    {
      "cell_type": "markdown",
      "metadata": {
        "id": "view-in-github",
        "colab_type": "text"
      },
      "source": [
        "<a href=\"https://colab.research.google.com/github/krauseannelize/nb-py-ms-exercises/blob/main/notebooks/13_strings_lists_in_python.ipynb\" target=\"_parent\"><img src=\"https://colab.research.google.com/assets/colab-badge.svg\" alt=\"Open In Colab\"/></a>"
      ]
    },
    {
      "cell_type": "markdown",
      "source": [
        "# 13 | Strings & Lists in Python\n",
        "\n",
        "## Strings\n",
        "\n",
        "- **String** is a sequence of characters that are enclosed in single quotes 'Hello' or double-quotes \"Hello\".\n",
        "- Strings are an _immutable_ data type and _cannot_ be changed after it has been created.\n",
        "- Every character in a string has an index position starting from 0.\n",
        "- Strings are used for text processing, file manipulation and more.\n",
        "\n",
        "## String Operations\n",
        "\n",
        "- **Concatenation (`+`)**: Joining two or more strings together\n",
        "- **Repetition (`*`)**: Repeating strings a certain amount of times."
      ],
      "metadata": {
        "id": "w58OxK73arNo"
      }
    },
    {
      "cell_type": "code",
      "execution_count": 5,
      "metadata": {
        "id": "c1BLyZVuamFp",
        "colab": {
          "base_uri": "https://localhost:8080/"
        },
        "outputId": "47f27d18-0bd1-4fe1-e38a-32a264803b2c"
      },
      "outputs": [
        {
          "output_type": "stream",
          "name": "stdout",
          "text": [
            "Hello, World!\n",
            "<class 'str'>\n",
            "Hello, World! Welcome to Python!\n",
            "Hello, World! Hello, World! Hello, World! \n"
          ]
        }
      ],
      "source": [
        "# creating a string\n",
        "greeting = \"Hello, World!\"\n",
        "print(greeting)\n",
        "\n",
        "# finding data type\n",
        "print(type(greeting))\n",
        "\n",
        "# concatenation\n",
        "subject = \"Python\"\n",
        "message = greeting + \" Welcome to \" + subject + \"!\"\n",
        "print(message)\n",
        "\n",
        "# repetition\n",
        "print((greeting + \" \") * 3)"
      ]
    },
    {
      "cell_type": "markdown",
      "source": [
        "## Indexing\n",
        "\n",
        "- String indexing is how you access individual characters within a string.\n",
        "- Index position can be accessed using `[]`\n",
        "- You can use:\n",
        "  - **positive indexing:** start counting from the beginning of the string, and the first character is always at index 0\n",
        "  - **negative indexing:** start counting from the end of the string, and the very last character is at index -1\n",
        "\n",
        "| Character | P | Y | T | H | O | N |\n",
        "| :--- | --- | --- | --- | --- | --- | --- |\n",
        "| Positive Index | 0 | 1 | 2 | 3 | 4 | 5 |\n",
        "| Negative Index | -6 | -5 | -4 | -3 | -2 | -1 |"
      ],
      "metadata": {
        "id": "iu3ohE43XmHK"
      }
    },
    {
      "cell_type": "code",
      "source": [
        "# accessing characters in a string\n",
        "text = \"Python\"\n",
        "character_2 = text[1] # positive indexing\n",
        "character_5 = text[-2] # negative indexing\n",
        "\n",
        "print(f'In the word \"{text}\", the second character is \"{character_2}\" and the fifth character is \"{character_5}\".')"
      ],
      "metadata": {
        "colab": {
          "base_uri": "https://localhost:8080/"
        },
        "id": "RWn6CoO5ddTk",
        "outputId": "e10eca27-b0f3-45db-eb59-a897b31bf06a"
      },
      "execution_count": 9,
      "outputs": [
        {
          "output_type": "stream",
          "name": "stdout",
          "text": [
            "In the word \"Python\", the second character is \"y\" and the fifth character is \"o\".\n"
          ]
        }
      ]
    },
    {
      "cell_type": "markdown",
      "source": [
        "## Substrings & Slicing\n",
        "\n",
        "Slicing will extract a portion of a string using the syntax `[start:stop:step]`:\n",
        "\n",
        "- `start` is the index where slicing should start, is `inclusive` and is `beginning of the string` by default\n",
        "- `stop` is the index where slicing should end, is `exclusive` and is the `end of the string` by default\n",
        "- `step` is how many characters to skip and the default value is `1`, meaning no characters are skipped\n",
        "\n",
        "| Character | H | E | L | L | O | , |  | W | O | R | L | D | ! |\n",
        "| :--- | --- | --- | --- | --- | --- | --- |--- |--- |--- |--- |--- |--- |--- |\n",
        "| Positive Index | 0 | 1 | 2 | 3 | 4 | 5 | 6 | 7 | 8 | 9 | 10 | 11 | 12 |\n",
        "| Negative Index | -13 | -12 | -11 | -10 | -9 | -8 | -7 | -6 | -5 | -4 | -3 | -2 | -1 |"
      ],
      "metadata": {
        "id": "ma_hpSes5lgD"
      }
    },
    {
      "cell_type": "code",
      "source": [
        "text = \"Hello, World!\"\n",
        "\n",
        "# how many characters in the string\n",
        "print(len(text))"
      ],
      "metadata": {
        "colab": {
          "base_uri": "https://localhost:8080/"
        },
        "id": "hQ5AiIyb7BT_",
        "outputId": "88f4dc6f-ee8b-403f-a9f0-acb93be5eabf"
      },
      "execution_count": 28,
      "outputs": [
        {
          "output_type": "stream",
          "name": "stdout",
          "text": [
            "13\n"
          ]
        }
      ]
    },
    {
      "cell_type": "code",
      "source": [
        "# slicing by omission\n",
        "print(text[::])"
      ],
      "metadata": {
        "colab": {
          "base_uri": "https://localhost:8080/"
        },
        "id": "bZuqqZ7EF6Ta",
        "outputId": "ff938bac-b6a4-4ebf-91e1-a1caf3ad1867"
      },
      "execution_count": 29,
      "outputs": [
        {
          "output_type": "stream",
          "name": "stdout",
          "text": [
            "Hello, World!\n"
          ]
        }
      ]
    },
    {
      "cell_type": "code",
      "source": [
        "# extract \"World!\" with positive indexing\n",
        "# from index 7 of the string up to, but not including, index 13\n",
        "print(text[7:13])"
      ],
      "metadata": {
        "colab": {
          "base_uri": "https://localhost:8080/"
        },
        "id": "wumxq99oF9Qs",
        "outputId": "3d4ce437-88a7-4c77-b407-9e349f4f0d25"
      },
      "execution_count": 30,
      "outputs": [
        {
          "output_type": "stream",
          "name": "stdout",
          "text": [
            "World!\n"
          ]
        }
      ]
    },
    {
      "cell_type": "code",
      "source": [
        "# extract \"Hello\" with negative indexing\n",
        "# from beginning of string up to, but not including, index -8\n",
        "print(text[:-8])"
      ],
      "metadata": {
        "colab": {
          "base_uri": "https://localhost:8080/"
        },
        "id": "nn9a7jt7GBrB",
        "outputId": "6dea1c12-6ce6-46ba-8cbc-707c2cb4e4c9"
      },
      "execution_count": 31,
      "outputs": [
        {
          "output_type": "stream",
          "name": "stdout",
          "text": [
            "Hello\n"
          ]
        }
      ]
    },
    {
      "cell_type": "code",
      "source": [
        "# extracting every second letter with step 2\n",
        "print(text[::2])"
      ],
      "metadata": {
        "colab": {
          "base_uri": "https://localhost:8080/"
        },
        "id": "DGLgbmKWGEU0",
        "outputId": "d4b5f4f6-c27b-4c1f-ef4b-9733cc6e5bf3"
      },
      "execution_count": 32,
      "outputs": [
        {
          "output_type": "stream",
          "name": "stdout",
          "text": [
            "Hlo ol!\n"
          ]
        }
      ]
    },
    {
      "cell_type": "code",
      "source": [
        "# reversing the string with step -1\n",
        "print(text[::-1])"
      ],
      "metadata": {
        "colab": {
          "base_uri": "https://localhost:8080/"
        },
        "id": "yLpRljccGG2H",
        "outputId": "1fbfb7a8-25a8-4df6-e548-8b90ddd28b1e"
      },
      "execution_count": 33,
      "outputs": [
        {
          "output_type": "stream",
          "name": "stdout",
          "text": [
            "!dlroW ,olleH\n"
          ]
        }
      ]
    },
    {
      "cell_type": "markdown",
      "source": [
        "## String Methods & Operators\n",
        "\n",
        "String methods are built-in functions that allow you to **manipulate a string**. A key rule is that they do **not** change the original string. Instead, they **return a new string** with the changes.\n",
        "\n",
        "- `upper()` and `lower()`: Change the case of a string.\n",
        "- `strip()`: Removes leading and trailing whitespace.\n",
        "- `replace()`: Finds and replaces a substring.\n",
        "- `split()`: Breaks a string into a list of substrings based on a delimiter.\n",
        "- `find()`: Locates the starting index of a substring.\n",
        "\n",
        "The `in` operator is a simple and efficient way to check if a substring exists within a string. It returns `True` or `False`."
      ],
      "metadata": {
        "id": "37zKqIO5GIqh"
      }
    },
    {
      "cell_type": "code",
      "source": [
        "# String methods in action\n",
        "text = \" Hello, World! \"\n",
        "\n",
        "# .strip() returns a new string without leading/trailing spaces\n",
        "stripped_text = text.strip()\n",
        "print(f'\"{text}\" becomes \"{stripped_text}\"')"
      ],
      "metadata": {
        "colab": {
          "base_uri": "https://localhost:8080/"
        },
        "id": "nCl3pP0nGH38",
        "outputId": "1e7a5fc0-16e1-47ee-e433-409d1725435a"
      },
      "execution_count": 35,
      "outputs": [
        {
          "output_type": "stream",
          "name": "stdout",
          "text": [
            "\" Hello, World! \" becomes \"Hello, World!\"\n"
          ]
        }
      ]
    },
    {
      "cell_type": "code",
      "source": [
        "# .replace() returns a new string with replacements\n",
        "# original string is unchanged, so leading/trailing spaces still included\n",
        "replaced_text = text.replace(\"World\", \"All\")\n",
        "print(f'\"{text}\" becomes \"{replaced_text}\"')"
      ],
      "metadata": {
        "colab": {
          "base_uri": "https://localhost:8080/"
        },
        "id": "5dc7oMBTIh9N",
        "outputId": "e3bdd008-33db-46ef-9171-39a5b039e4a9"
      },
      "execution_count": 37,
      "outputs": [
        {
          "output_type": "stream",
          "name": "stdout",
          "text": [
            "\" Hello, World! \" becomes \" Hello, All! \"\n"
          ]
        }
      ]
    },
    {
      "cell_type": "code",
      "source": [
        "# repeat .replace() on the new string stripped of leading/trailing spaces\n",
        "replaced_text = stripped_text.replace(\"World\", \"All\")\n",
        "print(f'\"{text}\" becomes \"{replaced_text}\"')"
      ],
      "metadata": {
        "colab": {
          "base_uri": "https://localhost:8080/"
        },
        "id": "un2hB0RDKbQR",
        "outputId": "cd607972-324d-402d-cddd-d37cff210422"
      },
      "execution_count": 38,
      "outputs": [
        {
          "output_type": "stream",
          "name": "stdout",
          "text": [
            "\" Hello, World! \" becomes \"Hello, All!\"\n"
          ]
        }
      ]
    },
    {
      "cell_type": "code",
      "source": [
        "# .upper() and .lower() change the case of the string.\n",
        "uppercase_text = stripped_text.upper()\n",
        "lowercase_text = stripped_text.lower()\n",
        "print(f\".upper() result on stripped string: '{uppercase_text}'\")\n",
        "print(f\".lower() result on stripped string: '{lowercase_text}'\")"
      ],
      "metadata": {
        "colab": {
          "base_uri": "https://localhost:8080/"
        },
        "id": "aFCmLtygK4Zu",
        "outputId": "ddbede2a-55b2-4972-b00f-4abb572506ef"
      },
      "execution_count": 39,
      "outputs": [
        {
          "output_type": "stream",
          "name": "stdout",
          "text": [
            ".upper() result on stripped string: 'HELLO, WORLD!'\n",
            ".lower() result on stripped string: 'hello, world!'\n"
          ]
        }
      ]
    },
    {
      "cell_type": "code",
      "source": [
        "# .find() locates the first occurrence of a substring and returns its index\n",
        "# returns -1 if the substring is not found.\n",
        "find_index = stripped_text.find(\"World\")\n",
        "find_not_found = stripped_text.find(\"planet\")\n",
        "print(f\".find('World') result: {find_index}\")\n",
        "print(f\".find('planet') result: {find_not_found}\")"
      ],
      "metadata": {
        "colab": {
          "base_uri": "https://localhost:8080/"
        },
        "id": "Hh6m5WfjK_Oc",
        "outputId": "b37c3f8e-68fb-44be-c8ef-f4903650de97"
      },
      "execution_count": 40,
      "outputs": [
        {
          "output_type": "stream",
          "name": "stdout",
          "text": [
            ".find('World') result: 7\n",
            ".find('planet') result: -1\n"
          ]
        }
      ]
    },
    {
      "cell_type": "code",
      "source": [
        "# .split() breaks a string into a list of substrings based on a delimiter\n",
        "split_list = stripped_text.split(\", \")\n",
        "print(f\".split(' ') result on stripped string: {split_list}\")"
      ],
      "metadata": {
        "colab": {
          "base_uri": "https://localhost:8080/"
        },
        "id": "PYJ0GyMDLPEL",
        "outputId": "229e133a-2fb4-4cf8-ee6f-d69ae5b24126"
      },
      "execution_count": 42,
      "outputs": [
        {
          "output_type": "stream",
          "name": "stdout",
          "text": [
            ".split(' ') result on stripped string: ['Hello', 'World!']\n"
          ]
        }
      ]
    },
    {
      "cell_type": "code",
      "source": [
        "# 'in' operator checks for the existence of a substring\n",
        "# returns a boolean value (True or False).\n",
        "print(f\"Is 'World' in the stripped string? {'World' in stripped_text}\")\n",
        "print(f\"Is 'world' in the stripped string? {'world' in stripped_text}\") # case sensitivity\n",
        "print(f\"Is 'All' in the stripped string? {'All' in stripped_text}\")"
      ],
      "metadata": {
        "colab": {
          "base_uri": "https://localhost:8080/"
        },
        "id": "r_h_njE5LbcW",
        "outputId": "86e41db3-0165-42c9-9e5c-3e0169bc577f"
      },
      "execution_count": 43,
      "outputs": [
        {
          "output_type": "stream",
          "name": "stdout",
          "text": [
            "Is 'World' in the stripped string? True\n",
            "Is 'world' in the stripped string? False\n",
            "Is 'All' in the stripped string? False\n"
          ]
        }
      ]
    },
    {
      "cell_type": "code",
      "source": [
        "from re import sub\n",
        "# write a function to check if a substring exist in a text\n",
        "def check_substring(text, substring):\n",
        "  if substring in text:\n",
        "    return f\"'{substring}' found in text.\"\n",
        "  else:\n",
        "    return f\"'{substring}' not found in text.\"\n",
        "\n",
        "text = \"Hello, World!\"\n",
        "substring = \"World\"\n",
        "\n",
        "print(check_substring(text, substring))\n",
        "\n",
        "# reuse variables\n",
        "text = \"Python is fun!\"\n",
        "substring = \"Java\"\n",
        "\n",
        "print(check_substring(text, substring))"
      ],
      "metadata": {
        "colab": {
          "base_uri": "https://localhost:8080/"
        },
        "id": "zpt9v0ddLuT4",
        "outputId": "a10c3aa2-e7b9-4131-d4fd-741f5ed44bc1"
      },
      "execution_count": 45,
      "outputs": [
        {
          "output_type": "stream",
          "name": "stdout",
          "text": [
            "'World' found in text.\n",
            "'Java' not found in text.\n"
          ]
        }
      ]
    },
    {
      "cell_type": "markdown",
      "source": [
        "## Lists\n",
        "\n",
        "- Lists are **ordered**, **mutable** collections of items.\n",
        "- They can contain various objects of different data types.\n",
        "- Lists are created using square brackets `[]`."
      ],
      "metadata": {
        "id": "8vxgzCQpMj_A"
      }
    },
    {
      "cell_type": "code",
      "source": [
        "# Creating lists with various data types\n",
        "numbers_list = [73, 5, 19, 43]\n",
        "mixed_list = ['Bob', 'The Builder', 23, 1.78, 'Carpenter']\n",
        "empty_list = []\n",
        "\n",
        "print(f'The numbers list is \"{numbers_list}\" and is of type \"{type(numbers_list)}\"')\n",
        "print(f'The mixed list is \"{mixed_list}\" and is of type \"{type(mixed_list)}\"')\n",
        "print(f'The empty list is \"{empty_list}\" and is of type \"{type(empty_list)}\"')"
      ],
      "metadata": {
        "colab": {
          "base_uri": "https://localhost:8080/"
        },
        "id": "S1jbD_AUMxXy",
        "outputId": "23538738-469f-4a46-c0f2-95012522d8e3"
      },
      "execution_count": 48,
      "outputs": [
        {
          "output_type": "stream",
          "name": "stdout",
          "text": [
            "The numbers list is \"[73, 5, 19, 43]\" and is of type \"<class 'list'>\"\n",
            "The mixed list is \"['Bob', 'The Builder', 23, 1.78, 'Carpenter']\" and is of type \"<class 'list'>\"\n",
            "The empty list is \"[]\" and is of type \"<class 'list'>\"\n"
          ]
        }
      ]
    },
    {
      "cell_type": "code",
      "source": [
        "# Lists are ordered, so you can access items by their index\n",
        "print(f'The first item in the mixed list is \"{mixed_list[0]}\"')\n",
        "print(f'The third item in the mixed list is \"{mixed_list[2]}\"')\n",
        "print(f'The last item in the mixed list is \"{mixed_list[-1]}\"')"
      ],
      "metadata": {
        "colab": {
          "base_uri": "https://localhost:8080/"
        },
        "id": "bCIcWWpqOJjo",
        "outputId": "89282d06-b1d6-4526-8d51-bddb5b49d99e"
      },
      "execution_count": 50,
      "outputs": [
        {
          "output_type": "stream",
          "name": "stdout",
          "text": [
            "The first item in the mixed list is \"Bob\"\n",
            "The third item in the mixed list is \"23\"\n",
            "The last item in the mixed list is \"Carpenter\"\n"
          ]
        }
      ]
    },
    {
      "cell_type": "code",
      "source": [
        "# Lists are MUTABLE, meaning their contents can be changed\n",
        "mixed_list[1] = \"The Baker\"\n",
        "mixed_list[-1] = \"Baker\"\n",
        "\n",
        "print(f'The mixed list is now \"{mixed_list}\"')"
      ],
      "metadata": {
        "colab": {
          "base_uri": "https://localhost:8080/"
        },
        "id": "XKwdUBp_OmFW",
        "outputId": "c823e7ce-bce4-460a-dc5d-d1956bf82e6c"
      },
      "execution_count": 52,
      "outputs": [
        {
          "output_type": "stream",
          "name": "stdout",
          "text": [
            "The mixed list is now \"['Bob', 'The Baker', 23, 1.78, 'Baker']\"\n"
          ]
        }
      ]
    },
    {
      "cell_type": "code",
      "source": [
        "# Strings by contracts are IMMUTABLE\n",
        "name = \"Bib The Builder\"\n",
        "name[1] = \"o\""
      ],
      "metadata": {
        "colab": {
          "base_uri": "https://localhost:8080/",
          "height": 180
        },
        "id": "Kw9gg-tPPhmR",
        "outputId": "1f659897-2890-431f-e96f-529bcfc49dfa"
      },
      "execution_count": 53,
      "outputs": [
        {
          "output_type": "error",
          "ename": "TypeError",
          "evalue": "'str' object does not support item assignment",
          "traceback": [
            "\u001b[0;31m---------------------------------------------------------------------------\u001b[0m",
            "\u001b[0;31mTypeError\u001b[0m                                 Traceback (most recent call last)",
            "\u001b[0;32m/tmp/ipython-input-3552939622.py\u001b[0m in \u001b[0;36m<cell line: 0>\u001b[0;34m()\u001b[0m\n\u001b[1;32m      1\u001b[0m \u001b[0;31m# Strings by contracts are immutable\u001b[0m\u001b[0;34m\u001b[0m\u001b[0;34m\u001b[0m\u001b[0m\n\u001b[1;32m      2\u001b[0m \u001b[0mname\u001b[0m \u001b[0;34m=\u001b[0m \u001b[0;34m\"Bib The Builder\"\u001b[0m\u001b[0;34m\u001b[0m\u001b[0;34m\u001b[0m\u001b[0m\n\u001b[0;32m----> 3\u001b[0;31m \u001b[0mname\u001b[0m\u001b[0;34m[\u001b[0m\u001b[0;36m1\u001b[0m\u001b[0;34m]\u001b[0m \u001b[0;34m=\u001b[0m \u001b[0;34m\"o\"\u001b[0m\u001b[0;34m\u001b[0m\u001b[0;34m\u001b[0m\u001b[0m\n\u001b[0m",
            "\u001b[0;31mTypeError\u001b[0m: 'str' object does not support item assignment"
          ]
        }
      ]
    },
    {
      "cell_type": "code",
      "source": [
        "# Slicing works the same for lists as it does for strings\n",
        "new_list = ['Alice', 'The Neighbour', 18, 1.60, 'Gossip']\n",
        "print(new_list[0::2])"
      ],
      "metadata": {
        "colab": {
          "base_uri": "https://localhost:8080/"
        },
        "id": "7fjIhNnEQGSp",
        "outputId": "14ab6f52-18fb-4d01-8dc2-8f84168c727b"
      },
      "execution_count": 56,
      "outputs": [
        {
          "output_type": "stream",
          "name": "stdout",
          "text": [
            "['Alice', 18, 'Gossip']\n"
          ]
        }
      ]
    },
    {
      "cell_type": "markdown",
      "source": [
        "## List Methods\n",
        "\n",
        "Common list methods include:\n",
        "\n",
        "- `append()`: Adds a single item to the end of the list.\n",
        "- `insert()`: Adds an item at a specific index.\n",
        "- `remove()`: Removes the first occurrence of a specified value.\n",
        "- `extend()`: Adds all items from another iterable (like a list or tuple) to the end of the list.\n",
        "- `sort()`: Sorts the list items in ascending order.\n",
        "- `pop()`: Removes and returns the item at a specific index."
      ],
      "metadata": {
        "id": "iOMT_hzKRwvp"
      }
    },
    {
      "cell_type": "code",
      "source": [
        "# creating a list\n",
        "team = [\"Adam\", \"Blake\", \"Donna\"]\n",
        "print(f\"Our team is {team}\")"
      ],
      "metadata": {
        "colab": {
          "base_uri": "https://localhost:8080/"
        },
        "id": "bWULtbEhSRMA",
        "outputId": "9feaf0d1-4f53-4bba-c0f3-14ac70dc824e"
      },
      "execution_count": 70,
      "outputs": [
        {
          "output_type": "stream",
          "name": "stdout",
          "text": [
            "Our team is ['Adam', 'Blake', 'Donna']\n"
          ]
        }
      ]
    },
    {
      "cell_type": "code",
      "source": [
        "# .append() adds an item to the end of the list\n",
        "team.append(\"Fred\")\n",
        "print(f\"After .append('Fred'): {team}\")"
      ],
      "metadata": {
        "colab": {
          "base_uri": "https://localhost:8080/"
        },
        "id": "Tm6A2Mg1TA5w",
        "outputId": "f862b979-fe7a-4cf8-c72e-cefb69dfb0f7"
      },
      "execution_count": 71,
      "outputs": [
        {
          "output_type": "stream",
          "name": "stdout",
          "text": [
            "After .append('Fred'): ['Adam', 'Blake', 'Donna', 'Fred']\n"
          ]
        }
      ]
    },
    {
      "cell_type": "code",
      "source": [
        "# .insert() adds an item at a specific index\n",
        "team.insert(2, \"Chad\")\n",
        "print(f\"After .insert('Chad'): {team}\")"
      ],
      "metadata": {
        "colab": {
          "base_uri": "https://localhost:8080/"
        },
        "id": "7QjsFvxGTYs2",
        "outputId": "f384f378-9365-4099-a147-05528282b4a9"
      },
      "execution_count": 72,
      "outputs": [
        {
          "output_type": "stream",
          "name": "stdout",
          "text": [
            "After .insert('Chad'): ['Adam', 'Blake', 'Chad', 'Donna', 'Fred']\n"
          ]
        }
      ]
    },
    {
      "cell_type": "code",
      "source": [
        "# .remove() removes the first matching item by VALUE\n",
        "team.remove(\"Blake\")\n",
        "print(f\"After .remove('Blake'): {team}\")"
      ],
      "metadata": {
        "colab": {
          "base_uri": "https://localhost:8080/"
        },
        "id": "WniJfMUsUE__",
        "outputId": "92401f7a-9d3c-47ac-cbcf-7b6a8cbe9a83"
      },
      "execution_count": 73,
      "outputs": [
        {
          "output_type": "stream",
          "name": "stdout",
          "text": [
            "After .remove('Blake'): ['Adam', 'Chad', 'Donna', 'Fred']\n"
          ]
        }
      ]
    },
    {
      "cell_type": "code",
      "source": [
        "# create a second list\n",
        "new_team = [\"Marlon\", \"Brandon\"]\n",
        "print(f\"The new team is {new_team}\")\n",
        "\n",
        "# .extend() adds all items from another list to the current one\n",
        "team.extend(new_team)\n",
        "print(f\"After .extend(new_team): {team}\")"
      ],
      "metadata": {
        "colab": {
          "base_uri": "https://localhost:8080/"
        },
        "id": "FCj7OdNeUaDr",
        "outputId": "d5596e34-86f4-4e16-d9ac-e2bb667ca6fc"
      },
      "execution_count": 74,
      "outputs": [
        {
          "output_type": "stream",
          "name": "stdout",
          "text": [
            "The new team is ['Marlon', 'Brandon']\n",
            "After .extend(new_team): ['Adam', 'Chad', 'Donna', 'Fred', 'Marlon', 'Brandon']\n"
          ]
        }
      ]
    },
    {
      "cell_type": "code",
      "source": [
        "# .sort() sorts the list in ascending order (in-place)\n",
        "team.sort()\n",
        "print(f\"After .sort(team): {team}\")"
      ],
      "metadata": {
        "colab": {
          "base_uri": "https://localhost:8080/"
        },
        "id": "yhi5J4W7VFul",
        "outputId": "7652a519-de99-4696-cbde-fb1072ff8188"
      },
      "execution_count": 75,
      "outputs": [
        {
          "output_type": "stream",
          "name": "stdout",
          "text": [
            "After .sort(team): ['Adam', 'Brandon', 'Chad', 'Donna', 'Fred', 'Marlon']\n"
          ]
        }
      ]
    },
    {
      "cell_type": "code",
      "source": [
        "# .pop() removes an item by INDEX\n",
        "leaver = team.pop(2)\n",
        "print(f\"After .pop(2), the list is: {team}\")\n",
        "print(f\"The item removed was: {leaver}\")"
      ],
      "metadata": {
        "colab": {
          "base_uri": "https://localhost:8080/"
        },
        "id": "mJ9a4gBFVTIs",
        "outputId": "ae3a0b05-9f46-4e0f-9f45-6088d6ef25c0"
      },
      "execution_count": 76,
      "outputs": [
        {
          "output_type": "stream",
          "name": "stdout",
          "text": [
            "After .pop(2), the list is: ['Adam', 'Brandon', 'Donna', 'Fred', 'Marlon']\n",
            "The item removed was: Chad\n"
          ]
        }
      ]
    },
    {
      "cell_type": "code",
      "source": [
        "# The 'in' operator checks for existence\n",
        "print(f\"Is 'Jack' in the team? {'Chad' in team}\")\n",
        "print(f\"Is 'Brandon' in the team? {'Brandon' in team}\")\n",
        "print(f\"Is 'Chad' not in the team? {'Chad' not in team}\")"
      ],
      "metadata": {
        "colab": {
          "base_uri": "https://localhost:8080/"
        },
        "id": "ZfJxuOSPV-NK",
        "outputId": "69d1ff2f-bb31-49e5-bdd7-c8efa5626689"
      },
      "execution_count": 77,
      "outputs": [
        {
          "output_type": "stream",
          "name": "stdout",
          "text": [
            "Is 'Jack' in the team? False\n",
            "Is 'Brandon' in the team? True\n",
            "Is 'Chad' not in the team? True\n"
          ]
        }
      ]
    },
    {
      "cell_type": "markdown",
      "source": [
        "## Exercise\n",
        "\n",
        "Write a function `contain_vowel(word)` that checks if a given word contains an vowel (a,e,i,o,u). Use the in operator and return `True` or `False`."
      ],
      "metadata": {
        "id": "AJDXxxqLWYHC"
      }
    },
    {
      "cell_type": "code",
      "source": [
        "def contain_vowel(word):\n",
        "  vowels = 'aeiou'\n",
        "  for char in word:\n",
        "    if char in vowels:\n",
        "      return True\n",
        "  return False\n",
        "\n",
        "print(contain_vowel('hello'))\n",
        "print(contain_vowel('world'))\n",
        "print(contain_vowel('grr'))\n",
        "print(contain_vowel('AEIOU')) # case sensitivity"
      ],
      "metadata": {
        "colab": {
          "base_uri": "https://localhost:8080/"
        },
        "id": "teqlXFSkWlWU",
        "outputId": "6c75bd50-f77a-4a6b-c4a1-db66a0edc281"
      },
      "execution_count": 80,
      "outputs": [
        {
          "output_type": "stream",
          "name": "stdout",
          "text": [
            "True\n",
            "True\n",
            "False\n",
            "False\n"
          ]
        }
      ]
    }
  ]
}
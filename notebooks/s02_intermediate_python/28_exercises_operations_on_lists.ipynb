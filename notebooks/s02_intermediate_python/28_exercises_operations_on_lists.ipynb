{
  "nbformat": 4,
  "nbformat_minor": 0,
  "metadata": {
    "colab": {
      "provenance": [],
      "authorship_tag": "ABX9TyPuOwkuCFZC5TmvXaV8mCLG",
      "include_colab_link": true
    },
    "kernelspec": {
      "name": "python3",
      "display_name": "Python 3"
    },
    "language_info": {
      "name": "python"
    }
  },
  "cells": [
    {
      "cell_type": "markdown",
      "metadata": {
        "id": "view-in-github",
        "colab_type": "text"
      },
      "source": [
        "<a href=\"https://colab.research.google.com/github/krauseannelize/nb-py-ms-exercises/blob/main/notebooks/28_exercises_operations_on_lists.ipynb\" target=\"_parent\"><img src=\"https://colab.research.google.com/assets/colab-badge.svg\" alt=\"Open In Colab\"/></a>"
      ]
    },
    {
      "cell_type": "markdown",
      "source": [
        "# 28 | Exercises - Operations on Lists\n",
        "\n",
        "## Adding to a List\n",
        "\n",
        "There are 3 different ways to add a new item to the end of a list and it should be noted that they behave in different ways:\n",
        "\n",
        "- `append()` method\n",
        "- concatenation operator (x = x + 1)\n",
        "- concatenation shorthand (x += 1)\n",
        "\n",
        "The `append()` method specifically adds only a single item to the end of a list, whereas the concatenation options can be used to add more items. Below their differences in operation is shown with examples."
      ],
      "metadata": {
        "id": "vV_1-kwe_mBF"
      }
    },
    {
      "cell_type": "code",
      "execution_count": 8,
      "metadata": {
        "colab": {
          "base_uri": "https://localhost:8080/"
        },
        "id": "S7S4m1f9yGte",
        "outputId": "99200751-f7b4-4ad4-9449-63466d478d91"
      },
      "outputs": [
        {
          "output_type": "stream",
          "name": "stdout",
          "text": [
            "[1, 2, 3, 'one']\n",
            "[1, 2, 3, 'one']\n"
          ]
        }
      ],
      "source": [
        "first_list = [1, 2, 3]\n",
        "second_list = first_list # both lists point to the same object\n",
        "\n",
        "first_list.append(\"one\") # object itself is modified\n",
        "print(first_list)\n",
        "print(second_list)"
      ]
    },
    {
      "cell_type": "code",
      "source": [
        "first_list += [\"two\"] # modifies object itself in-place\n",
        "print(first_list)\n",
        "print(second_list)"
      ],
      "metadata": {
        "colab": {
          "base_uri": "https://localhost:8080/"
        },
        "id": "qSTOE6ehEc0R",
        "outputId": "cc9506d6-1a30-41b7-e12d-4510bf3f507b"
      },
      "execution_count": 9,
      "outputs": [
        {
          "output_type": "stream",
          "name": "stdout",
          "text": [
            "[1, 2, 3, 'one', 'two']\n",
            "[1, 2, 3, 'one', 'two']\n"
          ]
        }
      ]
    },
    {
      "cell_type": "code",
      "source": [
        "first_list = first_list + [\"three\"] # creates a new object and reassigns the variable name\n",
        "print(first_list)\n",
        "print(second_list)"
      ],
      "metadata": {
        "colab": {
          "base_uri": "https://localhost:8080/"
        },
        "id": "v44VHXjnFG3G",
        "outputId": "5245eadc-e81d-47f0-e24e-56981bbec72b"
      },
      "execution_count": 10,
      "outputs": [
        {
          "output_type": "stream",
          "name": "stdout",
          "text": [
            "[1, 2, 3, 'one', 'two', 'three']\n",
            "[1, 2, 3, 'one', 'two']\n"
          ]
        }
      ]
    },
    {
      "cell_type": "markdown",
      "source": [
        "## List Methods\n",
        "\n",
        "| Method | Parameters | Description |\n",
        "| --- | --- | --- |\n",
        "| `.append()` | item | Adds a new item to the end of a list\n",
        "| `.insert()` | position, item | Inserts a new item at the position given |\n",
        "| `.pop()` | optional position | Removes and returns the last item, or at position if specified |\n",
        "| `sort()` | none | Modifies a list to be sorted |\n",
        "| `reverse()` | none | Modifies a list to be in reverse order |\n",
        "| `index()` | item | Returns the position of first occurrence of item |\n",
        "| `count()` | item | Returns the number of occurrences of item |\n",
        "| `remove()` | item | Removes the first occurrence of item |\n",
        "\n",
        "⚠️ Remember that methods like `append`, `sort`, and `reverse` all return `None`. The list is changed and a new list is not produced.\n",
        "\n",
        "## ⚠️ Don’t Mutate A List That You Are Iterating Through\n",
        "\n",
        "Do not modify (add or delete) a list while iterating it as this will produce an error."
      ],
      "metadata": {
        "id": "dLpVGbzJF_cW"
      }
    },
    {
      "cell_type": "markdown",
      "source": [
        "## Exercise 1\n",
        "\n",
        "For each word in the list `verbs`, add an -ing ending. Save this new list in a new list, `ing`: `verbs = [\"kayak\", \"cry\", \"walk\", \"eat\", \"drink\", \"fly\"]`"
      ],
      "metadata": {
        "id": "s_u1E9XIKBsP"
      }
    },
    {
      "cell_type": "code",
      "source": [
        "verbs = [\"kayak\", \"cry\", \"walk\", \"eat\", \"drink\", \"fly\"]\n",
        "ing = []\n",
        "\n",
        "for verb in verbs:\n",
        "    ing.append(verb + \"ing\")\n",
        "\n",
        "print(ing)"
      ],
      "metadata": {
        "colab": {
          "base_uri": "https://localhost:8080/"
        },
        "id": "KfDdl1-rIXgw",
        "outputId": "a30a878e-36e6-4709-cb8f-b95976d8bb16"
      },
      "execution_count": 11,
      "outputs": [
        {
          "output_type": "stream",
          "name": "stdout",
          "text": [
            "['kayaking', 'crying', 'walking', 'eating', 'drinking', 'flying']\n"
          ]
        }
      ]
    },
    {
      "cell_type": "markdown",
      "source": [
        "## Exercise 2\n",
        "\n",
        "Given the list of numbers, `numbs`, create a new list of those same numbers increased by 5. Save this new list to the variable `newlist`: `numbs = [5, 10, 15, 20, 25]`"
      ],
      "metadata": {
        "id": "PQEfe-XaKSO-"
      }
    },
    {
      "cell_type": "code",
      "source": [
        "numbs = [5, 10, 15, 20, 25]\n",
        "newlist = []\n",
        "\n",
        "for num in numbs:\n",
        "    newlist.append(num + 5)\n",
        "\n",
        "print(newlist)"
      ],
      "metadata": {
        "colab": {
          "base_uri": "https://localhost:8080/"
        },
        "id": "G0yQTqpjKZ-k",
        "outputId": "c726d692-41f3-4d03-b13e-65c60fda63b8"
      },
      "execution_count": 12,
      "outputs": [
        {
          "output_type": "stream",
          "name": "stdout",
          "text": [
            "[10, 15, 20, 25, 30]\n"
          ]
        }
      ]
    },
    {
      "cell_type": "markdown",
      "source": [
        "## Exercise 3\n",
        "\n",
        "Loop through the list `words`, and count the number of words that end with the letter \"e\". Accumulate the result in a variable named `counter`: `words = [\"adopt\", \"bake\", \"beam\", \"confide\", \"grill\", \"plant\", \"time\", \"wave\", \"wish\"]`"
      ],
      "metadata": {
        "id": "6I76cAYjMWpC"
      }
    },
    {
      "cell_type": "code",
      "source": [
        "words = [\"adopt\", \"bake\", \"beam\", \"confide\", \"grill\", \"plant\", \"time\", \"wave\", \"wish\"]\n",
        "counter = 0\n",
        "\n",
        "for word in words:\n",
        "    if word[-1] == \"e\":\n",
        "        counter += 1\n",
        "\n",
        "print(counter)"
      ],
      "metadata": {
        "colab": {
          "base_uri": "https://localhost:8080/"
        },
        "id": "PkdlxNL7Mg9E",
        "outputId": "bc6533ee-e976-42c9-c8bf-4e2de3f8bead"
      },
      "execution_count": 13,
      "outputs": [
        {
          "output_type": "stream",
          "name": "stdout",
          "text": [
            "4\n"
          ]
        }
      ]
    },
    {
      "cell_type": "markdown",
      "source": [
        "## Exercise 4\n",
        "\n",
        "Now try it yourself (without copying code). Loop through the list `grades`, and find the highest grade! Put it in a variable called `max_grade`: `grades = [12, 75, 94, 23, 0]`"
      ],
      "metadata": {
        "id": "CgwTwYI5NBiR"
      }
    },
    {
      "cell_type": "code",
      "source": [
        "grades = [12, 75, 94, 23, 0]\n",
        "max_grade = 0\n",
        "\n",
        "for grade in grades:\n",
        "    if grade > max_grade:\n",
        "        max_grade = grade\n",
        "\n",
        "print(max_grade)"
      ],
      "metadata": {
        "colab": {
          "base_uri": "https://localhost:8080/"
        },
        "id": "7LVDiRCeNH_4",
        "outputId": "a8ef194f-21eb-469d-e80c-8a619916c8fb"
      },
      "execution_count": 14,
      "outputs": [
        {
          "output_type": "stream",
          "name": "stdout",
          "text": [
            "94\n"
          ]
        }
      ]
    },
    {
      "cell_type": "markdown",
      "source": [
        "## Exercise 5\n",
        "\n",
        "Write code to take ‘London’ out of the list `trav_dest`: `trav_dest = ['Beirut', 'Milan', 'Pittsburgh', 'Buenos Aires', 'Nairobi', 'Kathmandu', 'Osaka', 'London', 'Melbourne']`"
      ],
      "metadata": {
        "id": "ALgLeVgwNaZY"
      }
    },
    {
      "cell_type": "code",
      "source": [
        "trav_dest = ['Beirut', 'Milan', 'Pittsburgh', 'Buenos Aires', 'Nairobi', 'Kathmandu', 'Osaka', 'London', 'Melbourne']\n",
        "trav_dest.remove(\"London\")\n",
        "print(trav_dest)"
      ],
      "metadata": {
        "colab": {
          "base_uri": "https://localhost:8080/"
        },
        "id": "npC5S1E4NlVt",
        "outputId": "f23aa56c-1be7-4904-f58a-90a614d1f5f6"
      },
      "execution_count": 15,
      "outputs": [
        {
          "output_type": "stream",
          "name": "stdout",
          "text": [
            "['Beirut', 'Milan', 'Pittsburgh', 'Buenos Aires', 'Nairobi', 'Kathmandu', 'Osaka', 'Melbourne']\n"
          ]
        }
      ]
    },
    {
      "cell_type": "markdown",
      "source": [
        "## Exercise 6\n",
        "\n",
        "Using the same list as in `Exercise 5`, write code to add ‘Guadalajara’ to the end of the list `trav_dest` using a list method."
      ],
      "metadata": {
        "id": "8jcmXdBBNzmc"
      }
    },
    {
      "cell_type": "code",
      "source": [
        "trav_dest = ['Beirut', 'Milan', 'Pittsburgh', 'Buenos Aires', 'Nairobi', 'Kathmandu', 'Osaka', 'London', 'Melbourne']\n",
        "trav_dest.append(\"Guadalajara\")\n",
        "print(trav_dest)"
      ],
      "metadata": {
        "colab": {
          "base_uri": "https://localhost:8080/"
        },
        "id": "cK2yYXJNN8j7",
        "outputId": "54489cc8-26af-4b67-ae7b-4391251e0e4e"
      },
      "execution_count": 16,
      "outputs": [
        {
          "output_type": "stream",
          "name": "stdout",
          "text": [
            "['Beirut', 'Milan', 'Pittsburgh', 'Buenos Aires', 'Nairobi', 'Kathmandu', 'Osaka', 'London', 'Melbourne', 'Guadalajara']\n"
          ]
        }
      ]
    },
    {
      "cell_type": "markdown",
      "source": [
        "## Exercise 7\n",
        "\n",
        "Write code to find the position of the string “Tony” in the list `awards` and save that information in the variable `pos`: `awards = ['Emmy', 'Tony', 'Academy', 'Grammy']`"
      ],
      "metadata": {
        "id": "p4rJAEjoOFeL"
      }
    },
    {
      "cell_type": "code",
      "source": [
        "awards = ['Emmy', 'Tony', 'Academy', 'Grammy']\n",
        "pos = awards.index(\"Tony\")\n",
        "print(pos)"
      ],
      "metadata": {
        "colab": {
          "base_uri": "https://localhost:8080/"
        },
        "id": "TOSD4BX5ONCS",
        "outputId": "7b6eb5a2-b84a-4fa1-888c-64f4f33dbaa5"
      },
      "execution_count": 18,
      "outputs": [
        {
          "output_type": "stream",
          "name": "stdout",
          "text": [
            "1\n"
          ]
        }
      ]
    },
    {
      "cell_type": "markdown",
      "source": [
        "## Exercise 8\n",
        "\n",
        "A palindrome is a phrase that, if reversed, would read the exact same. For example, ‘abba’, ‘abba’ are palindromes.\n",
        "\n",
        "Write code that checks if `phrase` is a palindrome by reversing it and then checking if the reversed version is equal to the original. Assign the reversed version of `phrase` to the variable `rev_phrase` so that we can check your work.\n",
        "\n",
        "_Hint: Google can help you here!_\n",
        "\n",
        "```python\n",
        "phrase = \"was it a car or a cat I saw\"\n",
        "```"
      ],
      "metadata": {
        "id": "xPMmH7vlOaYQ"
      }
    },
    {
      "cell_type": "code",
      "source": [
        "phrase = \"was it a car or a cat I saw\"\n",
        "clean_phrase = phrase.replace(\" \", \"\").lower()\n",
        "rev_phrase = clean_phrase[::-1]\n",
        "\n",
        "if clean_phrase == rev_phrase:\n",
        "    print(\"Palindrome\")\n",
        "else:\n",
        "    print(\"Not a palindrome\")"
      ],
      "metadata": {
        "colab": {
          "base_uri": "https://localhost:8080/"
        },
        "id": "uyVdZmboOqHT",
        "outputId": "1dae54a4-4713-4f5a-ebd2-20b8b1371762"
      },
      "execution_count": 22,
      "outputs": [
        {
          "output_type": "stream",
          "name": "stdout",
          "text": [
            "Palindrome\n"
          ]
        }
      ]
    },
    {
      "cell_type": "markdown",
      "source": [
        "## Exercise 9\n",
        "\n",
        "For each string in `wrds`, add ‘ed’ to the end of the word (to make the word past tense). Save these past tense words to a list called `past_wrds`: `wrds = [\"end\", \"work\", \"play\", \"start\", \"walk\", \"look\", \"open\", \"rain\", \"learn\", \"clean\"]`"
      ],
      "metadata": {
        "id": "ddcM67XDP1ZB"
      }
    },
    {
      "cell_type": "code",
      "source": [
        "wrds = [\"end\", \"work\", \"play\", \"start\", \"walk\", \"look\", \"open\", \"rain\", \"learn\", \"clean\"]\n",
        "past_wrds = []\n",
        "\n",
        "for wrd in wrds:\n",
        "    past_wrds.append(wrd + \"ed\")\n",
        "\n",
        "print(past_wrds)"
      ],
      "metadata": {
        "colab": {
          "base_uri": "https://localhost:8080/"
        },
        "id": "IKykGfKKP-EB",
        "outputId": "87cc679a-7af6-424c-c486-08ca4d4e22f2"
      },
      "execution_count": 23,
      "outputs": [
        {
          "output_type": "stream",
          "name": "stdout",
          "text": [
            "['ended', 'worked', 'played', 'started', 'walked', 'looked', 'opened', 'rained', 'learned', 'cleaned']\n"
          ]
        }
      ]
    },
    {
      "cell_type": "markdown",
      "source": [
        "## Exercise 10\n",
        "\n",
        "Write code to create a list of word lengths for the words in `words`. Assign the answer to a variable `length_list`. (You should use the `len` function): `words = [\"end\", \"work\", \"play\", \"start\", \"participate\"]`"
      ],
      "metadata": {
        "id": "-7trPoEfQGv_"
      }
    },
    {
      "cell_type": "code",
      "source": [
        "words = [\"end\", \"work\", \"play\", \"start\", \"participate\"]\n",
        "length_list = []\n",
        "\n",
        "for word in words:\n",
        "    length_list.append(len(word))\n",
        "\n",
        "print(length_list)"
      ],
      "metadata": {
        "colab": {
          "base_uri": "https://localhost:8080/"
        },
        "id": "uqWEI44kQP8w",
        "outputId": "308d1e40-f090-4809-be5a-cbf65d0346e9"
      },
      "execution_count": 24,
      "outputs": [
        {
          "output_type": "stream",
          "name": "stdout",
          "text": [
            "[3, 4, 4, 5, 11]\n"
          ]
        }
      ]
    },
    {
      "cell_type": "markdown",
      "source": [
        "## Exercise 11\n",
        "\n",
        "Currently, there is a string called `str1`. Write code to create a list called `chars` which should contain the characters from `str1`. Each character in `str1` should be its own element in the list `chars`: `str1 = \"I love python\"`\n",
        "\n",
        "_Hint: what's the accumulator? That should go here._"
      ],
      "metadata": {
        "id": "0LUXA5CPQdbL"
      }
    },
    {
      "cell_type": "code",
      "source": [
        "str1 = \"I love python\"\n",
        "chars = []\n",
        "\n",
        "for char in str1:\n",
        "  chars.append(char)\n",
        "\n",
        "print(chars)"
      ],
      "metadata": {
        "colab": {
          "base_uri": "https://localhost:8080/"
        },
        "id": "huGlKXGxQqkA",
        "outputId": "82ece636-2a09-488a-97b2-6c280729b65b"
      },
      "execution_count": 25,
      "outputs": [
        {
          "output_type": "stream",
          "name": "stdout",
          "text": [
            "['I', ' ', 'l', 'o', 'v', 'e', ' ', 'p', 'y', 't', 'h', 'o', 'n']\n"
          ]
        }
      ]
    },
    {
      "cell_type": "markdown",
      "source": [
        "## Exercise 12\n",
        "\n",
        "For each word in the list `words`, double it so that `boom` becomes `boomboom`. Create a new list for the double words called `double_words`: `words = [\"boom\", \"cry\", \"walk\", \"dream\", \"cool\", \"fly\"]`"
      ],
      "metadata": {
        "id": "DYOgwpJwRLV3"
      }
    },
    {
      "cell_type": "code",
      "source": [
        "words = [\"boom\", \"cry\", \"walk\", \"dream\", \"cool\", \"fly\"]\n",
        "double_words = []\n",
        "\n",
        "for word in words:\n",
        "  double_words.append(word + word)\n",
        "\n",
        "print(double_words)"
      ],
      "metadata": {
        "colab": {
          "base_uri": "https://localhost:8080/"
        },
        "id": "j2v6moJBRUHb",
        "outputId": "66d9768c-d8a2-4387-c513-732bb72cb389"
      },
      "execution_count": 26,
      "outputs": [
        {
          "output_type": "stream",
          "name": "stdout",
          "text": [
            "['boomboom', 'crycry', 'walkwalk', 'dreamdream', 'coolcool', 'flyfly']\n"
          ]
        }
      ]
    },
    {
      "cell_type": "markdown",
      "source": [
        "## Exercise 13\n",
        "\n",
        "In the following list there are numbers. Numbers above 100 are considered “high” and the rest are “low”. Create two lists, `high` and `low`. Assign each number to the correct list automatically: `nums = [561,76,132,66,8921,8,0,-124,53]`"
      ],
      "metadata": {
        "id": "UWsynP7RRmSk"
      }
    },
    {
      "cell_type": "code",
      "source": [
        "nums = [561,76,132,66,8921,8,0,-124,53]\n",
        "high = []\n",
        "low = []\n",
        "\n",
        "for num in nums:\n",
        "  if num > 100:\n",
        "    high.append(num)\n",
        "  else:\n",
        "    low.append(num)\n",
        "\n",
        "print(high)\n",
        "print(low)"
      ],
      "metadata": {
        "colab": {
          "base_uri": "https://localhost:8080/"
        },
        "id": "8tat5s-uRrnV",
        "outputId": "9648bca2-341b-44e7-ec56-f807c2d8d50a"
      },
      "execution_count": 27,
      "outputs": [
        {
          "output_type": "stream",
          "name": "stdout",
          "text": [
            "[561, 132, 8921]\n",
            "[76, 66, 8, 0, -124, 53]\n"
          ]
        }
      ]
    },
    {
      "cell_type": "markdown",
      "source": [
        "## Exercise 14\n",
        "\n",
        "Below are a set of scores that students have received in the past semester. Write code to determine how many are 90 or above and assigns that result to the value `a_scores`: `scores = [67, 80, 90, 78, 93, 20, 79, 89, 96, 97, 92, 88, 79, 68, 58, 90, 98, 100, 79, 74, 83, 88, 80, 86, 85, 52, 90, 100]`\n"
      ],
      "metadata": {
        "id": "ianjP9w7R6HK"
      }
    },
    {
      "cell_type": "code",
      "source": [
        "scores = [67, 80, 90, 78, 93, 20, 79, 89, 96, 97, 92, 88, 79, 68, 58, 90, 98, 100, 79, 74, 83, 88, 80, 86, 85, 52, 90, 100]\n",
        "a_scores = 0\n",
        "\n",
        "for score in scores:\n",
        "  if score >= 90:\n",
        "    a_scores += 1\n",
        "\n",
        "print(a_scores)"
      ],
      "metadata": {
        "colab": {
          "base_uri": "https://localhost:8080/"
        },
        "id": "s_R1RXHCSTeI",
        "outputId": "3cec5680-adfe-4d13-96a4-62ca40b5b0e0"
      },
      "execution_count": 28,
      "outputs": [
        {
          "output_type": "stream",
          "name": "stdout",
          "text": [
            "10\n"
          ]
        }
      ]
    },
    {
      "cell_type": "markdown",
      "source": [
        "## Exercise 15\n",
        "\n",
        "Update your code from `Exercise 14`, so that we have two counters:\n",
        "\n",
        "- `a_scores` for the number of grades that are above 90, and\n",
        "- `failed` for the number of grades below 55."
      ],
      "metadata": {
        "id": "yGlL_h3nSiDb"
      }
    },
    {
      "cell_type": "code",
      "source": [
        "scores = [67, 80, 90, 78, 93, 20, 79, 89, 96, 97, 92, 88, 79, 68, 58, 90, 98, 100, 79, 74, 83, 88, 80, 86, 85, 52, 90, 100]\n",
        "a_scores = 0\n",
        "failed = 0\n",
        "\n",
        "for score in scores:\n",
        "  if score >= 90:\n",
        "    a_scores += 1\n",
        "  elif score < 55:\n",
        "    failed += 1\n",
        "\n",
        "print(a_scores)\n",
        "print(failed)"
      ],
      "metadata": {
        "id": "f1bSZknbShuP"
      },
      "execution_count": null,
      "outputs": []
    },
    {
      "cell_type": "markdown",
      "source": [
        "## Exercise 16\n",
        "\n",
        "Write code to iterate through the list `words` and find the **longest** word in it. Assign the longest word to a variable called `longest_word`: `words =  [\"end\", \"work\", \"play\", \"start\", \"participate\"]`"
      ],
      "metadata": {
        "id": "8j264DI-TBA7"
      }
    },
    {
      "cell_type": "code",
      "source": [
        "words =  [\"end\", \"work\", \"play\", \"start\", \"participate\"]\n",
        "longest_word = \"\"\n",
        "\n",
        "for word in words:\n",
        "  if len(word) > len(longest_word):\n",
        "    longest_word = word\n",
        "\n",
        "print(longest_word)"
      ],
      "metadata": {
        "colab": {
          "base_uri": "https://localhost:8080/"
        },
        "id": "Qtjc75z3TIzz",
        "outputId": "be5193a9-88a3-442f-b406-43506194ac9b"
      },
      "execution_count": 29,
      "outputs": [
        {
          "output_type": "stream",
          "name": "stdout",
          "text": [
            "participate\n"
          ]
        }
      ]
    }
  ]
}
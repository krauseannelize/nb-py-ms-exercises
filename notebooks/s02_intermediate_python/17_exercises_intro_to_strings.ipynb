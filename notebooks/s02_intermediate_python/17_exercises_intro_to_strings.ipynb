{
  "cells": [
    {
      "cell_type": "markdown",
      "metadata": {
        "id": "view-in-github",
        "colab_type": "text"
      },
      "source": [
        "<a href=\"https://colab.research.google.com/github/krauseannelize/nb-py-ms-exercises/blob/main/notebooks/17_exercises_intro_to_strings.ipynb\" target=\"_parent\"><img src=\"https://colab.research.google.com/assets/colab-badge.svg\" alt=\"Open In Colab\"/></a>"
      ]
    },
    {
      "cell_type": "markdown",
      "metadata": {
        "id": "d5xKsY6rbL8B"
      },
      "source": [
        "# 17 | Exercises - Intro to Strings\n",
        "\n",
        "**String** is a sequence of one or more characters put in single quotes 'Hello' or double-quotes \"Hello\". We can **combine** strings, or 'concatenate' them, using the `+` operator. We can also **repeat** them using the `*` operator.\n",
        "\n",
        "## Length of a String\n",
        "\n",
        "To get the length of a string, we use the `len` function. This function takes a string as an argument and returns the number of characters in the string **_(int)_**."
      ]
    },
    {
      "cell_type": "code",
      "execution_count": 2,
      "metadata": {
        "colab": {
          "base_uri": "https://localhost:8080/"
        },
        "id": "psNwP99abIc9",
        "outputId": "98597a42-bdc6-48f4-955c-64e08e5de0d6"
      },
      "outputs": [
        {
          "output_type": "stream",
          "name": "stdout",
          "text": [
            "13\n"
          ]
        }
      ],
      "source": [
        "greeting = \"Hello, World!\" # contains 13 characters, including the space\n",
        "print(len(greeting))"
      ]
    },
    {
      "cell_type": "markdown",
      "metadata": {
        "id": "ZsW1A1kSiwD-"
      },
      "source": [
        "## Indexing\n",
        "\n",
        "As strings are essentially sequences of characters, any single character in a string can also be retrieved using indexing. We can access a single character in a string by placing the index in square brackets `[]`.\n",
        "\n",
        "| Character | P | y | t | h | o | n |\n",
        "| :--- | --- | --- | --- | --- | --- | --- |\n",
        "| Positive Index | 0 | 1 | 2 | 3 | 4 | 5 |\n",
        "| Negative Index | -6 | -5 | -4 | -3 | -2 | -1 |"
      ]
    },
    {
      "cell_type": "code",
      "execution_count": 1,
      "metadata": {
        "colab": {
          "base_uri": "https://localhost:8080/"
        },
        "id": "xwXkdUHYlzQe",
        "outputId": "c56630fc-dae8-45ab-f25a-92d21364ae3c"
      },
      "outputs": [
        {
          "output_type": "stream",
          "name": "stdout",
          "text": [
            "Extracting the first letter with positive indexing: \"P\".\n",
            "Extracting the first letter with negative indexing: \"P\".\n"
          ]
        }
      ],
      "source": [
        "# accessing characters in a string\n",
        "text = \"Python\"\n",
        "pos_char_1 = text[0] # positive indexing\n",
        "neg_char_1 = text[-6] # negative indexing\n",
        "\n",
        "print(f'Extracting the first letter with positive indexing: \"{pos_char_1}\".')\n",
        "print(f'Extracting the first letter with negative indexing: \"{neg_char_1}\".')"
      ]
    },
    {
      "cell_type": "code",
      "execution_count": 3,
      "metadata": {
        "colab": {
          "base_uri": "https://localhost:8080/"
        },
        "id": "sDNZrtshoRjm",
        "outputId": "5688ac01-9281-47bb-cdc1-52e1a484b105"
      },
      "outputs": [
        {
          "output_type": "stream",
          "name": "stdout",
          "text": [
            "The last character in \"Python\" is \"n\".\n"
          ]
        }
      ],
      "source": [
        "# because of 0-indexing, the last character is lenght of string minus 1\n",
        "text = \"Python\"\n",
        "last_char = text[len(text) - 1]\n",
        "print(f'The last character in \"{text}\" is \"{last_char}\".')"
      ]
    },
    {
      "cell_type": "markdown",
      "metadata": {
        "id": "zre5bVWgrDmi"
      },
      "source": [
        "## Substring & Slices\n",
        "\n",
        "**Slicing** allows you to access a part of the string (substring). To slice a string, we use the syntax `[start:stop:step]`:\n",
        "\n",
        "- `start` is the index where slicing should start, is `inclusive` and is `beginning of the string` by default\n",
        "- `stop` is the index where slicing should end, is `exclusive` and is the `end of the string` by default\n",
        "- `step` is how many characters to skip and the default value is `1`, meaning no characters are skipped"
      ]
    },
    {
      "cell_type": "code",
      "execution_count": 4,
      "metadata": {
        "colab": {
          "base_uri": "https://localhost:8080/"
        },
        "id": "cnRDOVDxrnVX",
        "outputId": "18187a66-eaf9-4551-bc24-b88eb94f51da"
      },
      "outputs": [
        {
          "output_type": "stream",
          "name": "stdout",
          "text": [
            "Program\n"
          ]
        }
      ],
      "source": [
        "text = \"Python Programming\"\n",
        "\n",
        "# extract a portion: \"Program\" starts at index 7 (inclusive) and\n",
        "# index 14 is the first character we don't want to be included\n",
        "print(text[7:14])"
      ]
    },
    {
      "cell_type": "code",
      "execution_count": 5,
      "metadata": {
        "colab": {
          "base_uri": "https://localhost:8080/"
        },
        "id": "88SH6AwTsqdo",
        "outputId": "f49074ae-ac9d-4cb0-9f3b-3bbd644b1d5e"
      },
      "outputs": [
        {
          "output_type": "stream",
          "name": "stdout",
          "text": [
            "Python\n",
            "Programming\n"
          ]
        }
      ],
      "source": [
        "# using open-ended slicing to use the default beginning or end of the string\n",
        "print(text[:6]) # return first word\n",
        "print(text[7:]) # return last word"
      ]
    },
    {
      "cell_type": "markdown",
      "metadata": {
        "id": "3HGu_r0M1jUV"
      },
      "source": [
        "## String Methods\n",
        "\n",
        "In Python every variable is an object, which means that every data type comes with a set of functions (called methods). Some of the most common **string** methods are:\n",
        "\n",
        "- `upper()`: Change string to all uppercase letters.\n",
        "- `lower()`: Change string to all lowercase letters.\n",
        "- `capitalize()`: Capitalize the first character of a string.\n",
        "- `title()`: Capitalize the first letter of every word in a string.\n",
        "- `count()`: Returns the number of times a specified substring appears in the string\n",
        "- `replace()`: Finds and replace a substring.\n",
        "\n",
        "There are [47 string methods](https://www.w3schools.com/python/python_ref_string.asp) in Python."
      ]
    },
    {
      "cell_type": "code",
      "execution_count": 6,
      "metadata": {
        "colab": {
          "base_uri": "https://localhost:8080/"
        },
        "id": "djq2rYtO2j4h",
        "outputId": "14808544-2208-48b6-ab54-349d16fbaad8"
      },
      "outputs": [
        {
          "output_type": "stream",
          "name": "stdout",
          "text": [
            "Original string: Bob the Builder\n",
            "Using .lower(): bob the builder\n",
            "Using .upper(): BOB THE BUILDER\n",
            "Using capitalize(): Bob the builder\n",
            "Using title(): Bob The Builder\n",
            "Using count() to count 'e': 2\n",
            "Using replace(): Bob the Baker\n"
          ]
        }
      ],
      "source": [
        "name = \"Bob the Builder\"\n",
        "print(f\"Original string: {name}\")\n",
        "print(f\"Using .lower(): {name.lower()}\")\n",
        "print(f\"Using .upper(): {name.upper()}\")\n",
        "print(f\"Using capitalize(): {name.capitalize()}\")\n",
        "print(f\"Using title(): {name.title()}\")\n",
        "print(f\"Using count() to count 'e': {name.count('e')}\")\n",
        "print(f\"Using replace(): {name.replace('Builder', 'Baker')}\")"
      ]
    },
    {
      "cell_type": "markdown",
      "source": [
        "## The `in` Operator\n",
        "\n",
        "The `in` keyword allows us to check if a certain substring is part of a larger string, and will return either `True` or `False`."
      ],
      "metadata": {
        "id": "0Byw4of_Z4R_"
      }
    },
    {
      "cell_type": "code",
      "source": [
        "# can be used to check for a single character or a substring\n",
        "def contains_letter(text, check):\n",
        "  if check in text:\n",
        "    return print(f'Yes, {text} contains \"{check}\".')\n",
        "  else:\n",
        "    return print(f'No, {text} does not contains \"{check}\".')\n",
        "\n",
        "contains_letter(\"Hello, World!\", \"W\")\n",
        "contains_letter(\"Hello, World!\", \"Hell\")\n",
        "contains_letter(\"Hello, World!\", \"a\")"
      ],
      "metadata": {
        "colab": {
          "base_uri": "https://localhost:8080/"
        },
        "id": "6TXrgVr8aP2t",
        "outputId": "a1829a37-83df-459e-f3d5-66439b8a9b6b"
      },
      "execution_count": 38,
      "outputs": [
        {
          "output_type": "stream",
          "name": "stdout",
          "text": [
            "Yes, Hello, World! contains \"W\".\n",
            "Yes, Hello, World! contains \"Hell\".\n",
            "No, Hello, World! does not contains \"a\".\n"
          ]
        }
      ]
    },
    {
      "cell_type": "markdown",
      "metadata": {
        "id": "AuFuVLrccSjh"
      },
      "source": [
        "## Exercise 1\n",
        "\n",
        "- Write a function `underline_print` that will get a string argument, and then print it “underlined”.\n",
        "- The function should **print** the string, and then a second line with a number of dash (`-`) characters equal to the length of the input string.\n",
        "- Example:\n",
        "\n",
        "```python\n",
        "underline_print(\"Hello\")  \n",
        "Hello  \n",
        "-----\n",
        "```"
      ]
    },
    {
      "cell_type": "code",
      "execution_count": 7,
      "metadata": {
        "colab": {
          "base_uri": "https://localhost:8080/"
        },
        "id": "eGARIEATcrq3",
        "outputId": "5d9d7ffe-cc97-4398-ebbc-6affdd2d60fd"
      },
      "outputs": [
        {
          "output_type": "stream",
          "name": "stdout",
          "text": [
            "Hello\n",
            "-----\n"
          ]
        }
      ],
      "source": [
        "def underline_print(text):\n",
        "  repeats = len(text)\n",
        "  print(text)\n",
        "  print(\"-\" * repeats)\n",
        "\n",
        "underline_print(\"Hello\")"
      ]
    },
    {
      "cell_type": "markdown",
      "metadata": {
        "id": "iR4TkAuPdGcO"
      },
      "source": [
        "## Exercise 2\n",
        "\n",
        "- Write a function `which_is_longer` that accepts **two** strings for arguments.\n",
        "- The function should **print out** the string that is the longer of the two—that is, whichever has the more characters. If the strings are of equal length, the program should print out \"The strings are equally long\".\n",
        "- No need to handle user input here."
      ]
    },
    {
      "cell_type": "code",
      "execution_count": 8,
      "metadata": {
        "colab": {
          "base_uri": "https://localhost:8080/"
        },
        "id": "8CbcL_p4dVfF",
        "outputId": "1e71ebc8-ed1f-4aef-fdf8-e1a65fcc87f7"
      },
      "outputs": [
        {
          "output_type": "stream",
          "name": "stdout",
          "text": [
            "Goodbye\n"
          ]
        }
      ],
      "source": [
        "def which_is_longer(text1, text2):\n",
        "  if len(text1) > len(text2):\n",
        "    print(text1)\n",
        "  elif len(text2) > len(text1):\n",
        "    print(text2)\n",
        "  else:\n",
        "    print(\"The strings are equally long.\")\n",
        "\n",
        "which_is_longer(\"Hello\", \"Goodbye\")"
      ]
    },
    {
      "cell_type": "markdown",
      "metadata": {
        "id": "0OOQZ93_eqBo"
      },
      "source": [
        "## Exercise 3\n",
        "\n",
        "- Write a program that asks the user for a string and then calls the function `align_right`, with the given string as argument.\n",
        "- The function **prints** the given string width added `*` so that exactly 20 characters are displayed. If the input is shorter than 20 characters, the beginning of the line is filled in with `*` characters.\n",
        "- You may assume the input string is at most 20 characters long.\n",
        "\n",
        "```python\n",
        "align_right(\"python\")\n",
        "*************python\n",
        "align_right(\"A longer string\")\n",
        "******A longer string\n",
        "```"
      ]
    },
    {
      "cell_type": "code",
      "execution_count": 9,
      "metadata": {
        "colab": {
          "base_uri": "https://localhost:8080/"
        },
        "id": "wdCOUjTfe7-T",
        "outputId": "e08656b7-1585-49e1-dc85-2c8f114e5d0e"
      },
      "outputs": [
        {
          "output_type": "stream",
          "name": "stdout",
          "text": [
            "What is your text: hello\n",
            "***************hello\n"
          ]
        }
      ],
      "source": [
        "def align_right(text):\n",
        "  repeats = 20 - len(text)\n",
        "  print(\"*\" * repeats + text)\n",
        "\n",
        "text = input(\"What is your text: \")\n",
        "align_right(text)"
      ]
    },
    {
      "cell_type": "markdown",
      "metadata": {
        "id": "mX0q5Me_mdVt"
      },
      "source": [
        "## Exercise 4\n",
        "\n",
        "- Write a program that asks the user to enter a word called `middle_char(word)`.\n",
        "- Add code to extract the middle character of word and print it.\n",
        "- You can assume that the word has an odd number of characters, thus a distinct middle character."
      ]
    },
    {
      "cell_type": "code",
      "execution_count": 15,
      "metadata": {
        "colab": {
          "base_uri": "https://localhost:8080/"
        },
        "id": "xEz2pgrymw9N",
        "outputId": "c1ec3502-5d6b-4201-ef36-5a628c585bdb"
      },
      "outputs": [
        {
          "output_type": "stream",
          "name": "stdout",
          "text": [
            "What is your word: Hodor\n",
            "The middle character is \"d\"\n"
          ]
        }
      ],
      "source": [
        "def middle_char(word):\n",
        "  word_length = len(word)\n",
        "  middle_index = word_length // 2\n",
        "  print(f'The middle character is \"{word[middle_index]}\"')\n",
        "\n",
        "word = input(\"What is your word: \")\n",
        "middle_char(word)"
      ]
    },
    {
      "cell_type": "markdown",
      "metadata": {
        "id": "t-tbgo38pKmc"
      },
      "source": [
        "## Exercise 5\n",
        "\n",
        "Implement the function `first_and_last` that takes a string `word` and prints the first and last character of the string. For example, `first_and_last(\"Titanic\")` should print:\n",
        "\n",
        "> First character: T, Last character: c"
      ]
    },
    {
      "cell_type": "code",
      "execution_count": 16,
      "metadata": {
        "id": "rXdQXY9JqKaO",
        "colab": {
          "base_uri": "https://localhost:8080/"
        },
        "outputId": "1cc9712e-aad3-4f64-903c-381e2d911200"
      },
      "outputs": [
        {
          "output_type": "stream",
          "name": "stdout",
          "text": [
            "Enter a word: Titanic\n",
            "First character: T, Last character: c\n"
          ]
        }
      ],
      "source": [
        "def first_and_last(word):\n",
        "   first_char = word[0]\n",
        "   last_char = word[len(word) - 1]\n",
        "   print(f'First character: {first_char}, Last character: {last_char}')\n",
        "\n",
        "text = input(\"Enter a word: \")\n",
        "first_and_last(text)"
      ]
    },
    {
      "cell_type": "markdown",
      "metadata": {
        "id": "xtDBMRvBqg10"
      },
      "source": [
        "## Exercise 6\n",
        "\n",
        "Write a function, `first_and_last_equal`, that takes a string as input and prints \"Yes\" if the first and last characters of the string are the same, or \"No\" otherwise. For instance, `first_and_last_equal(\"everyone\")` should print “Yes”.\n",
        "\n",
        "```python\n",
        "first_and_last_equal(\"everyone\")  \n",
        "Yes  \n",
        "first_and_last_equal(\"hello\")  \n",
        "No\n",
        "```"
      ]
    },
    {
      "cell_type": "code",
      "execution_count": 17,
      "metadata": {
        "id": "UvqD-O9Bq1MR",
        "colab": {
          "base_uri": "https://localhost:8080/"
        },
        "outputId": "d30390f6-f3a9-41cc-994a-9cbeb03233a8"
      },
      "outputs": [
        {
          "output_type": "stream",
          "name": "stdout",
          "text": [
            "Yes\n",
            "No\n"
          ]
        }
      ],
      "source": [
        "def first_and_last_equal(text):\n",
        "  if text[0] == text[len(text) - 1]:\n",
        "    print(\"Yes\")\n",
        "  else:\n",
        "    print(\"No\")\n",
        "\n",
        "first_and_last_equal(\"everyone\")\n",
        "first_and_last_equal(\"hello\")"
      ]
    },
    {
      "cell_type": "markdown",
      "metadata": {
        "id": "2W8QSL5rtp9p"
      },
      "source": [
        "## Exercise 7\n",
        "\n",
        "- Write a function `first_half_second_half` that takes a string `text` as an argument.\n",
        "- The function should **print** the first half and the second half of the string, in two separate lines.\n",
        "- You can assume that the string consists of an even number of characters."
      ]
    },
    {
      "cell_type": "code",
      "execution_count": 18,
      "metadata": {
        "id": "m1ygpJH4t2bo",
        "colab": {
          "base_uri": "https://localhost:8080/"
        },
        "outputId": "5f6753dc-2966-4fd8-806a-22f3fc35e7a8"
      },
      "outputs": [
        {
          "output_type": "stream",
          "name": "stdout",
          "text": [
            "First half: Dino\n",
            "Second half: saur\n"
          ]
        }
      ],
      "source": [
        "def first_half_second_half(text):\n",
        "  half_length = len(text) // 2\n",
        "  first_half = text[:half_length]\n",
        "  second_half = text[half_length:]\n",
        "  print(f\"First half: {first_half}\")\n",
        "  print(f\"Second half: {second_half}\")\n",
        "\n",
        "first_half_second_half(\"Dinosaur\")"
      ]
    },
    {
      "cell_type": "markdown",
      "metadata": {
        "id": "vxudwcD_vNJ7"
      },
      "source": [
        "## Exercise 8\n",
        "\n",
        "- Write a **unction** named `extract_domain` that takes a single argument: a string representing a **dot-com** URL like `\"https://www.example.com\"`.\n",
        "- The function should **return** only the domain name, in this case, `\"example\"`.\n",
        "- Assume the provided URL will always start with `\"https://www.\"` and will always contain a domain name followed by `\".com\"`."
      ]
    },
    {
      "cell_type": "code",
      "execution_count": 19,
      "metadata": {
        "id": "WIvFru_0vpTq",
        "colab": {
          "base_uri": "https://localhost:8080/"
        },
        "outputId": "833fa53b-102f-456e-ec00-eaefa3856275"
      },
      "outputs": [
        {
          "output_type": "stream",
          "name": "stdout",
          "text": [
            "example\n"
          ]
        }
      ],
      "source": [
        "def extract_domain(dot_com):\n",
        "  first_index = dot_com.find(\".\") + 1\n",
        "  second_index = dot_com.find(\".com\")\n",
        "  domain = dot_com[first_index:second_index]\n",
        "  return domain\n",
        "\n",
        "print(extract_domain(\"https://www.example.com\"))"
      ]
    },
    {
      "cell_type": "markdown",
      "metadata": {
        "id": "VZq9AhDNwdpF"
      },
      "source": [
        "## Exercise 9\n",
        "\n",
        "- Due to a mistake at the local school, some student names begin with an underscore (“_”).\n",
        "- Create a function named `clean_name` that takes one argument: the student's name **_(str)_**.\n",
        "- If the name starts with an underscore, the function should **return** the name without it.\n",
        "- Otherwise, it should return the name unchanged."
      ]
    },
    {
      "cell_type": "code",
      "execution_count": 20,
      "metadata": {
        "id": "ln2I65kmwtie",
        "colab": {
          "base_uri": "https://localhost:8080/"
        },
        "outputId": "54d31dea-8140-4822-aa41-62f80cd40036"
      },
      "outputs": [
        {
          "output_type": "stream",
          "name": "stdout",
          "text": [
            "Bob\n",
            "Alice\n"
          ]
        }
      ],
      "source": [
        "def clean_name(name):\n",
        "  if name[0] == \"_\":\n",
        "    clean_name = name[1:]\n",
        "    return clean_name\n",
        "  else:\n",
        "    return name\n",
        "\n",
        "print(clean_name(\"_Bob\"))\n",
        "print(clean_name(\"Alice\"))"
      ]
    },
    {
      "cell_type": "markdown",
      "metadata": {
        "id": "O5jdv5I3xUkU"
      },
      "source": [
        "## Exercise 10\n",
        "\n",
        "- Define a function called `convert_to_yuan` that accepts one argument: a string representing a money amount in dollars, formatted like `\"1542$\"`.\n",
        "- The function should **return** the corresponding amount in Yuan as an **int**.\n",
        "- For this exercise, use a conversion rate of 1 Dollar = 7.15 Yuan.\n",
        "- There's no need to handle user input or invoke the function.\n",
        "\n",
        "_Hint: To be able to perform arithmetic operations, you need to use the `int` function on the string that holds the amount of money._"
      ]
    },
    {
      "cell_type": "code",
      "execution_count": 21,
      "metadata": {
        "id": "sKVboUwMxwyX",
        "colab": {
          "base_uri": "https://localhost:8080/"
        },
        "outputId": "7062c783-f10f-4889-e019-e329e85b0b31"
      },
      "outputs": [
        {
          "output_type": "stream",
          "name": "stdout",
          "text": [
            "71\n"
          ]
        }
      ],
      "source": [
        "def convert_to_yuan(dollars):\n",
        "  usd = int(dollars[:-1])\n",
        "  return int(usd * 7.15)\n",
        "\n",
        "print(convert_to_yuan(\"10$\"))"
      ]
    },
    {
      "cell_type": "markdown",
      "metadata": {
        "id": "7LHJ-5IO5RYt"
      },
      "source": [
        "## Exercise 11\n",
        "\n",
        "- Comparing two strings in a case-insensitive manner is a very common practice when writing user interfaces. For example, usually, we don't mind if a user enters \"Yes\" or \"yes\" or \"YES\" — we can treat all those situations the same.\n",
        "- Write a function named `are_strings_equal` that accepts two strings as its arguments.\n",
        "- If the strings are equal in a case-insensitive manner, the function should print “Equal”. Otherwise, it should print \"Not equal\"."
      ]
    },
    {
      "cell_type": "code",
      "execution_count": 22,
      "metadata": {
        "id": "_ep9BjLp5de6",
        "colab": {
          "base_uri": "https://localhost:8080/"
        },
        "outputId": "99ff63ae-f08b-4aaa-edb8-3eb58cd7ef9c"
      },
      "outputs": [
        {
          "output_type": "stream",
          "name": "stdout",
          "text": [
            "Equal\n",
            "Not equal\n"
          ]
        }
      ],
      "source": [
        "def are_strings_equal(word1, word2):\n",
        "  if word1.lower() == word2.lower():\n",
        "    print(\"Equal\")\n",
        "  else:\n",
        "    print(\"Not equal\")\n",
        "\n",
        "are_strings_equal(\"yes\", \"YES\")\n",
        "are_strings_equal(\"YES\", \"no\")"
      ]
    },
    {
      "cell_type": "markdown",
      "metadata": {
        "id": "ojGoWjPx5496"
      },
      "source": [
        "## Exercise 12\n",
        "\n",
        "- Define a function named `remove_first_letter_occurrences` that will accept a single string as its argument.\n",
        "- The function should identify the first character in the string, and then remove all of its occurrences from the string (with the first string character included), and return the new string."
      ]
    },
    {
      "cell_type": "code",
      "execution_count": 23,
      "metadata": {
        "id": "VRalfolD6EjU",
        "colab": {
          "base_uri": "https://localhost:8080/"
        },
        "outputId": "24ac178a-15e4-49fc-a3d6-267f0def15aa"
      },
      "outputs": [
        {
          "output_type": "stream",
          "name": "stdout",
          "text": [
            "efigeato\n"
          ]
        }
      ],
      "source": [
        "text = \"refrigerator\"\n",
        "def remove_first_letter_occurrences(text):\n",
        "  first_letter = text[0]\n",
        "  new_text = text.replace(first_letter, \"\")\n",
        "  return new_text\n",
        "\n",
        "print(remove_first_letter_occurrences(text))"
      ]
    },
    {
      "cell_type": "markdown",
      "metadata": {
        "id": "jabbuo6W7QEp"
      },
      "source": [
        "## Exercise 13\n",
        "\n",
        "- Write a function `count_words` that takes a sentence as an argument and returns the number of words in it, based on the count of spaces.\n",
        "- Assume the sentence doesn't contain any punctuation."
      ]
    },
    {
      "cell_type": "code",
      "execution_count": 24,
      "metadata": {
        "id": "PJpSyPeH8Z99",
        "colab": {
          "base_uri": "https://localhost:8080/"
        },
        "outputId": "344d2ba0-60e5-458e-e96c-4d6f80151825"
      },
      "outputs": [
        {
          "output_type": "stream",
          "name": "stdout",
          "text": [
            "5\n"
          ]
        }
      ],
      "source": [
        "sentence = \"First second third fourth fifth\"\n",
        "\n",
        "def count_words(sentence):\n",
        "  return sentence.count(\" \") + 1\n",
        "\n",
        "print(count_words(sentence))"
      ]
    },
    {
      "cell_type": "markdown",
      "source": [
        "## Exercise 14\n",
        "\n",
        "- The following program was designed to take a user-provided sentence and replace all spaces with underscores.\n",
        "- However, due to a few bugs, the modified sentence isn't correctly displayed to the user.\n",
        "- Try to identify the bugs and make the program work.\n",
        "\n",
        "```python\n",
        "#fix the bug\n",
        "def replace_spaces(text):\n",
        "    text.replace(\" \", \"_\")\n",
        "    return text\n",
        "sentence = input(\"Enter a sentence: \")\n",
        "print(f\"Modified sentence: {replace_spaces(sentence)}\")\n",
        "```"
      ],
      "metadata": {
        "id": "4TXbFAS-XAus"
      }
    },
    {
      "cell_type": "code",
      "source": [
        "def replace_spaces(text):\n",
        "    return text.replace(\" \", \"_\")\n",
        "\n",
        "sentence = input(\"Enter a sentence: \")\n",
        "print(f\"Modified sentence: {replace_spaces(sentence)}\")"
      ],
      "metadata": {
        "colab": {
          "base_uri": "https://localhost:8080/"
        },
        "id": "wRuHbiNDXLlA",
        "outputId": "c4de2014-200b-4e0e-9249-b8c538c6cb8f"
      },
      "execution_count": 26,
      "outputs": [
        {
          "output_type": "stream",
          "name": "stdout",
          "text": [
            "Enter a sentence: This is a test\n",
            "Modified sentence: This_is_a_test\n"
          ]
        }
      ]
    },
    {
      "cell_type": "markdown",
      "source": [
        "## Exercise 15\n",
        "\n",
        "- An alien race sent humans a message, but they have different punctuation marks! We've noticed they consistently use two symbols: \"∆\" in place of our exclamation mark \"!\" and \"Ω\" instead of our question mark \"?\".\n",
        "- Let's help translate this so that everyone on Earth can understand their important message.\n",
        "- Write a function named `translate_punctuation` that accepts the alien message as a string.\n",
        "- Return the translated message, after both replacements."
      ],
      "metadata": {
        "id": "q5SZRsQcXifz"
      }
    },
    {
      "cell_type": "code",
      "source": [
        "def translate_punctuation(message):\n",
        "  message = message.replace(\"∆\", \"!\")\n",
        "  message = message.replace(\"Ω\", \"?\")\n",
        "  return message\n",
        "\n",
        "print(translate_punctuation(\"Hello∆ How are youΩ\"))"
      ],
      "metadata": {
        "colab": {
          "base_uri": "https://localhost:8080/"
        },
        "id": "7RnfsvF5Xsbx",
        "outputId": "cb79b02e-ea57-4c96-bbf8-ddbc7581d23e"
      },
      "execution_count": 28,
      "outputs": [
        {
          "output_type": "stream",
          "name": "stdout",
          "text": [
            "Hello! How are you?\n"
          ]
        }
      ]
    },
    {
      "cell_type": "markdown",
      "source": [
        "## Exercise 16\n",
        "\n",
        "- Create an `invert_case` function that inverts a word's case.\n",
        "- The function should **return** the word with inverted case (for example, “HEllo” will become “heLLO”).\n",
        "- Look online for a method to help you."
      ],
      "metadata": {
        "id": "e6xUQ5FMYNGQ"
      }
    },
    {
      "cell_type": "code",
      "source": [
        "def invert_case(text):\n",
        "  inverted_text = text.swapcase()\n",
        "  return inverted_text\n",
        "\n",
        "print(invert_case(\"Hello\"))"
      ],
      "metadata": {
        "colab": {
          "base_uri": "https://localhost:8080/"
        },
        "id": "Z1j3JjFZYWt3",
        "outputId": "ee465c24-0c70-4f10-e7c1-2f2f426371aa"
      },
      "execution_count": 29,
      "outputs": [
        {
          "output_type": "stream",
          "name": "stdout",
          "text": [
            "hELLO\n"
          ]
        }
      ]
    },
    {
      "cell_type": "markdown",
      "source": [
        "## Exercise 17\n",
        "\n",
        "Write a function called extract_username that extracts the username part from an email — user@gmail.com, and returns it.\n",
        "\n",
        "_Note: the username part could be in any length._"
      ],
      "metadata": {
        "id": "w3eP8X-iYs4H"
      }
    },
    {
      "cell_type": "code",
      "source": [
        "def extract_username(user_email):\n",
        "  index = user_email.find(\"@\")\n",
        "  username = user_email[:index]\n",
        "  return username\n",
        "\n",
        "print(extract_username(\"test.user@example.com\"))\n",
        "print(extract_username(\"bob@thebuilder.com\"))"
      ],
      "metadata": {
        "colab": {
          "base_uri": "https://localhost:8080/"
        },
        "id": "Sg0P8uR5Y-4X",
        "outputId": "db2165a9-2e74-4622-b1ac-c1af12dc32f8"
      },
      "execution_count": 34,
      "outputs": [
        {
          "output_type": "stream",
          "name": "stdout",
          "text": [
            "test.user\n",
            "bob\n"
          ]
        }
      ]
    },
    {
      "cell_type": "markdown",
      "source": [
        "## Exercise 18\n",
        "\n",
        "- File extensions are the short sequences of characters (usually three) that follow a period (.) at the end of filenames (like “readme**.txt**”).  Sometimes, you might want to work with just the **base names**, without their extensions (like “readme”).\n",
        "- Imagine you're tasked with handling a list of filenames, where some have extensions and others don’t.\n",
        "- Write a function named `remove_extension` that takes a single parameter: a string `filename`, and return the file's base name, regardless of whether it originally had an extension.\n",
        "\n",
        "```python\n",
        "remove_extension(\"readme.txt\")\n",
        "readme\n",
        "remove_extension(\"Newfile\")\n",
        "Newfile\n",
        "```"
      ],
      "metadata": {
        "id": "2BeKFooOb5CY"
      }
    },
    {
      "cell_type": "code",
      "source": [
        "def remove_extension(filename):\n",
        "  if \".\" in filename:\n",
        "    ext_index = filename.find(\".\")\n",
        "    return filename[:ext_index]\n",
        "  else:\n",
        "    return filename\n",
        "\n",
        "print(remove_extension(\"helloworld.txt\"))\n",
        "print(remove_extension(\"budget.xlsx\"))\n",
        "print(remove_extension(\"unknown\"))"
      ],
      "metadata": {
        "colab": {
          "base_uri": "https://localhost:8080/"
        },
        "id": "O5UL85oRcL8W",
        "outputId": "fb9aaee5-0a42-43bb-d72e-7343321235ee"
      },
      "execution_count": 41,
      "outputs": [
        {
          "output_type": "stream",
          "name": "stdout",
          "text": [
            "helloworld\n",
            "budget\n",
            "unknown\n"
          ]
        }
      ]
    },
    {
      "cell_type": "markdown",
      "source": [
        "## Exercise 19\n",
        "\n",
        "Write a function named `valid_email` that takes a string as an argument. The function should check the following conditions:\n",
        "\n",
        "- Does the string contain at least one `@`  symbol.\n",
        "- Does the string contain at least one period.\n",
        "- Is the string length bigger than 5 characters.\n",
        "\n",
        "If all correct, print “Valid Email”. Otherwise, print “Invalid email”."
      ],
      "metadata": {
        "id": "smtHUbS7dBIT"
      }
    },
    {
      "cell_type": "code",
      "source": [
        "def valid_email(email):\n",
        "  if \"@\" in email and \".\" in email and len(email) > 5:\n",
        "    print(\"Valid Email\")\n",
        "  else:\n",
        "    print(\"Invalid email\")\n",
        "\n",
        "valid_email(\"test.user@email.com\")\n",
        "valid_email(\"test.email.com\")\n",
        "valid_email(\"t@c.co\")"
      ],
      "metadata": {
        "colab": {
          "base_uri": "https://localhost:8080/"
        },
        "id": "KVq-7ZmxdPPT",
        "outputId": "5bc3e63c-741c-4e85-efa4-f4a36a4a70d4"
      },
      "execution_count": 44,
      "outputs": [
        {
          "output_type": "stream",
          "name": "stdout",
          "text": [
            "Valid Email\n",
            "Invalid email\n",
            "Valid Email\n"
          ]
        }
      ]
    },
    {
      "cell_type": "markdown",
      "source": [
        "## Exercise 20\n",
        "\n",
        "Write a function `has_vowels` which accepts a string as a single argument. The function will check if the string contains at least one of the vowels **a, e, i, u or o**, If it does, it will **print** “Yes”. Otherwise, it will **print** “no”. You may assume the input will be in lowercase entirely.\n",
        "\n",
        "```python\n",
        "has_vowels(\"everyone\")\n",
        "Yes\n",
        "has_vowels(\"dry\")\n",
        "No\n",
        "```"
      ],
      "metadata": {
        "id": "-Rnp32hyeB9r"
      }
    },
    {
      "cell_type": "code",
      "source": [
        "def has_vowels(text):\n",
        "  vowels = 'aeiou'\n",
        "  for char in text:\n",
        "    if char in vowels:\n",
        "      print(\"Yes\")\n",
        "      return\n",
        "  print(\"No\")\n",
        "\n",
        "has_vowels(\"everyone\")\n",
        "has_vowels(\"dry\")\n",
        "has_vowels(\"Python\")"
      ],
      "metadata": {
        "colab": {
          "base_uri": "https://localhost:8080/"
        },
        "id": "YEXzDJRMeR9U",
        "outputId": "c1ccd93b-0b93-4963-c7ec-014f1be05091"
      },
      "execution_count": 50,
      "outputs": [
        {
          "output_type": "stream",
          "name": "stdout",
          "text": [
            "Yes\n",
            "No\n",
            "Yes\n"
          ]
        }
      ]
    },
    {
      "cell_type": "markdown",
      "source": [
        "## Exercise 21\n",
        "\n",
        "Write a function named `in_first_half` that takes two arguments: a string named `word` and a string named `char`. The function should check if the letter `char` appears in the **first half** of `word`. If it is, the function should print \"Yes”, otherwise it should print “No”.\n",
        "\n",
        "You can assume the length of `word` is even.\n",
        "\n",
        "```python\n",
        "in_first_half(\"titanic!\", “t”)\n",
        "Yes\n",
        "in_first_half(\"titanic!\", ”c”)\n",
        "No\n",
        "```"
      ],
      "metadata": {
        "id": "Rl2TfGK_hWlY"
      }
    },
    {
      "cell_type": "code",
      "source": [
        "def in_first_half(word,char):\n",
        "  half_length = len(word) // 2\n",
        "  first_half = word[:half_length]\n",
        "  if char in first_half:\n",
        "    print(\"Yes\")\n",
        "  else:\n",
        "    print(\"No\")\n",
        "\n",
        "in_first_half(\"titanic!\", \"t\")\n",
        "in_first_half(\"titanic!\", \"c\")"
      ],
      "metadata": {
        "colab": {
          "base_uri": "https://localhost:8080/"
        },
        "id": "KjiRRYtHhmvY",
        "outputId": "f5d5ca62-9dff-45db-a4ae-79f7781e7550"
      },
      "execution_count": 54,
      "outputs": [
        {
          "output_type": "stream",
          "name": "stdout",
          "text": [
            "Yes\n",
            "No\n"
          ]
        }
      ]
    }
  ],
  "metadata": {
    "colab": {
      "provenance": [],
      "authorship_tag": "ABX9TyMK4qjs+czsOTlQOPQoYqDH",
      "include_colab_link": true
    },
    "kernelspec": {
      "display_name": "Python 3",
      "name": "python3"
    },
    "language_info": {
      "name": "python"
    }
  },
  "nbformat": 4,
  "nbformat_minor": 0
}
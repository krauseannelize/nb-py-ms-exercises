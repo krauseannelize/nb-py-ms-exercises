{
  "nbformat": 4,
  "nbformat_minor": 0,
  "metadata": {
    "colab": {
      "provenance": [],
      "authorship_tag": "ABX9TyMvnlY2mR9B1vVOC/K7g/j1",
      "include_colab_link": true
    },
    "kernelspec": {
      "name": "python3",
      "display_name": "Python 3"
    },
    "language_info": {
      "name": "python"
    }
  },
  "cells": [
    {
      "cell_type": "markdown",
      "metadata": {
        "id": "view-in-github",
        "colab_type": "text"
      },
      "source": [
        "<a href=\"https://colab.research.google.com/github/krauseannelize/nb-py-ms-exercises/blob/main/notebooks/25_assessment_sprint_2.ipynb\" target=\"_parent\"><img src=\"https://colab.research.google.com/assets/colab-badge.svg\" alt=\"Open In Colab\"/></a>"
      ]
    },
    {
      "cell_type": "markdown",
      "source": [
        "# 10 | Assessment - Sprint 2\n",
        "\n",
        "## Exercise 1 - Extract Area Code\n",
        "\n",
        "- Write a function called `extract_area_code`.\n",
        "- The function will expect one parameter: `phone_number`, a string containing a phone number in the format “(XXX) YYY-ZZZZ\".\n",
        "- The function will **return** a new **string** containing the extracted area code."
      ],
      "metadata": {
        "id": "5YPbxtD00RfD"
      }
    },
    {
      "cell_type": "code",
      "execution_count": 2,
      "metadata": {
        "colab": {
          "base_uri": "https://localhost:8080/"
        },
        "id": "aVEcPTrA0Pk-",
        "outputId": "22e952ba-aef8-4ef5-edbb-5de8e870be5c"
      },
      "outputs": [
        {
          "output_type": "stream",
          "name": "stdout",
          "text": [
            "999\n"
          ]
        }
      ],
      "source": [
        "def extract_area_code(phone_number):\n",
        "  area_code = phone_number[1:4]\n",
        "  return area_code\n",
        "\n",
        "print(extract_area_code(\"(999) 123-4567\"))"
      ]
    },
    {
      "cell_type": "markdown",
      "source": [
        "## Exercise 2 - Duplicate the Last Item\n",
        "\n",
        "- Write a function called `duplicate_last_item`. The function will expect one parameter: a list with unknown elements.\n",
        "- The function will add a copy of the last item to the end of the list, and **return** the updated list.\n",
        "\n",
        "```python\n",
        "duplicate_last_item([”a”, 2, “c”])\n",
        "[”a”, 2, “c”, “c”]\n",
        "```"
      ],
      "metadata": {
        "id": "XkMTMhd41DhY"
      }
    },
    {
      "cell_type": "code",
      "source": [
        "def duplicate_last_item(checklist):\n",
        "  last_item = checklist[-1]\n",
        "  checklist.append(last_item)\n",
        "  return checklist\n",
        "\n",
        "print(duplicate_last_item([\"a\", 2, \"c\"]))"
      ],
      "metadata": {
        "colab": {
          "base_uri": "https://localhost:8080/"
        },
        "id": "TBNdjstq1Oce",
        "outputId": "0ab5de90-b9f6-42a8-ad35-f92d06fcfdec"
      },
      "execution_count": 5,
      "outputs": [
        {
          "output_type": "stream",
          "name": "stdout",
          "text": [
            "['a', 2, 'c', 'c']\n"
          ]
        }
      ]
    },
    {
      "cell_type": "markdown",
      "source": [
        "## Exercise 3 - Count First Letter\n",
        "\n",
        "- Write a function called `count_first_letter`.\n",
        "- The function will expect one parameter: `text`, a string containing the text to analyze.\n",
        "- The function will return the number of times the first letter appears in the text (int).\n",
        "\n",
        "```python\n",
        "count_first_letter(”hello”)\n",
        "1\n",
        "count_first_letter(”alaska”)\n",
        "3\n",
        "```"
      ],
      "metadata": {
        "id": "w0iL5W5S1vlE"
      }
    },
    {
      "cell_type": "code",
      "source": [
        "def count_first_letter(text):\n",
        "  first_letter = text[0]\n",
        "  count = text.count(first_letter)\n",
        "  return count\n",
        "\n",
        "print(count_first_letter(\"hello\"))\n",
        "print(count_first_letter(\"alaska\"))"
      ],
      "metadata": {
        "colab": {
          "base_uri": "https://localhost:8080/"
        },
        "id": "mKoGLvTX19aN",
        "outputId": "6de76bad-d9e5-4359-b824-f98296ebe751"
      },
      "execution_count": 6,
      "outputs": [
        {
          "output_type": "stream",
          "name": "stdout",
          "text": [
            "1\n",
            "3\n"
          ]
        }
      ]
    },
    {
      "cell_type": "markdown",
      "source": [
        "## Exercise 4 - Reformat Birthdate\n",
        "\n",
        "- After moving from Europe to the US, Jane found herself constantly struggling with date formats. She decided to write a simple program to automatically reformat her calendar's American-formatted dates into the more familiar European style.\n",
        "- Write a function called `reformat_date`. The function will expect one parameter: `date`, a string in the format **MM-DD-YYYY**.\n",
        "- The function will **return** the same date as a **string** in the format of **DD/MM/YYYY**.\n",
        "\n",
        "```python\n",
        "reformat_date(”12-25-2021”)\n",
        "25/12/2021\n",
        "```"
      ],
      "metadata": {
        "id": "P_Lz1MN12FQO"
      }
    },
    {
      "cell_type": "code",
      "source": [
        "def reformat_date(date):\n",
        "  month, day, year = date.split(\"-\")\n",
        "  return f\"{day}/{month}/{year}\"\n",
        "\n",
        "print(reformat_date(\"12-25-2021\"))"
      ],
      "metadata": {
        "colab": {
          "base_uri": "https://localhost:8080/"
        },
        "id": "_qhuLlXz2XrP",
        "outputId": "9ec5c3ae-058a-4e8a-ff66-7b17e1c46561"
      },
      "execution_count": 7,
      "outputs": [
        {
          "output_type": "stream",
          "name": "stdout",
          "text": [
            "25/12/2021\n"
          ]
        }
      ]
    },
    {
      "cell_type": "markdown",
      "source": [
        "## Exercise 5\n",
        "\n",
        "Write a program that accepts an integer `n` and prints the numbers from 1 to `n`."
      ],
      "metadata": {
        "id": "k1aYmb7S2vAS"
      }
    },
    {
      "cell_type": "code",
      "source": [
        "def print_numbers(n):\n",
        "  for i in range(1, n + 1):\n",
        "    print(i)\n",
        "\n",
        "print_numbers(5)"
      ],
      "metadata": {
        "colab": {
          "base_uri": "https://localhost:8080/"
        },
        "id": "o5HJdd2k2y3G",
        "outputId": "5366fba6-7a7c-465f-b939-7ad3b86fdc2a"
      },
      "execution_count": 8,
      "outputs": [
        {
          "output_type": "stream",
          "name": "stdout",
          "text": [
            "1\n",
            "2\n",
            "3\n",
            "4\n",
            "5\n"
          ]
        }
      ]
    },
    {
      "cell_type": "markdown",
      "source": [
        "## Exercise 6 - Word Frequency Counter\n",
        "\n",
        "Write a function called `word_frequency` that takes a string `text` as input. The function should use a dictionary to count the frequency of each word in the text (case-sensitive). Return the dictionary containing the word frequencies. You can assume that words are separated by spaces."
      ],
      "metadata": {
        "id": "vfXkVQ8q27xn"
      }
    },
    {
      "cell_type": "code",
      "source": [
        "def word_frequency(text):\n",
        "  word_list = list(text.split(\" \"))\n",
        "  word_count = {}\n",
        "\n",
        "  for word in word_list:\n",
        "    if word not in word_count:\n",
        "      word_count[word] = 0\n",
        "    word_count[word] += 1\n",
        "  return word_count\n",
        "\n",
        "print(word_frequency(\"apple lemon lime banana grape lemon banana strawberry apple lemon\"))"
      ],
      "metadata": {
        "colab": {
          "base_uri": "https://localhost:8080/"
        },
        "id": "4RDUgAA935Nv",
        "outputId": "4fbe05bd-8669-4110-b055-102effcea301"
      },
      "execution_count": 15,
      "outputs": [
        {
          "output_type": "stream",
          "name": "stdout",
          "text": [
            "{'apple': 2, 'lemon': 3, 'lime': 1, 'banana': 2, 'grape': 1, 'strawberry': 1}\n"
          ]
        }
      ]
    }
  ]
}
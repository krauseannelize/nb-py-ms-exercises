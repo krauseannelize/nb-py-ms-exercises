{
  "nbformat": 4,
  "nbformat_minor": 0,
  "metadata": {
    "colab": {
      "provenance": [],
      "authorship_tag": "ABX9TyPJlSI60YUXCR7o3zEMehE/",
      "include_colab_link": true
    },
    "kernelspec": {
      "name": "python3",
      "display_name": "Python 3"
    },
    "language_info": {
      "name": "python"
    }
  },
  "cells": [
    {
      "cell_type": "markdown",
      "metadata": {
        "id": "view-in-github",
        "colab_type": "text"
      },
      "source": [
        "<a href=\"https://colab.research.google.com/github/krauseannelize/nb-py-ms-exercises/blob/main/notebooks/22_exercises_dictionaries.ipynb\" target=\"_parent\"><img src=\"https://colab.research.google.com/assets/colab-badge.svg\" alt=\"Open In Colab\"/></a>"
      ]
    },
    {
      "cell_type": "markdown",
      "source": [
        "# 22 | Exercises - Dictionaries\n",
        "\n",
        "A **dictionary** is a mapping between a key and a value. It is created using a pair of curly brackets `{}`.\n",
        "\n",
        "| Feature | Description |\n",
        "| --- | --- |\n",
        "| Mutable | You can add, update, and remove key-value pairs after creation. |\n",
        "| Unordered | The order of items is not guaranteed in older Python versions. |\n",
        "| Keys | Must be unique and immutable |\n",
        "| Values | Can be any valid Python object |"
      ],
      "metadata": {
        "id": "Dx1RRvpGOGa-"
      }
    },
    {
      "cell_type": "code",
      "execution_count": null,
      "metadata": {
        "id": "BEID0F1LOBkZ"
      },
      "outputs": [],
      "source": [
        "# syntax for creating a dictionary\n",
        "syntax_dict = {\n",
        "    \"key1\": \"value1\",\n",
        "    \"key2\": \"value2\",\n",
        "    \"key3\": \"value3\"\n",
        "}"
      ]
    },
    {
      "cell_type": "markdown",
      "source": [
        "## Adding or Updating Items\n",
        "\n",
        "As **dictionaries** are mutable, you can start with an empty dictionary and add key-value pairs using `=`. Similarly, you can use the `=` to update the values paired with existing keys."
      ],
      "metadata": {
        "id": "gTz8224OPuUL"
      }
    },
    {
      "cell_type": "code",
      "source": [
        "# creating an empty dictionary\n",
        "eng_to_deu = {}\n",
        "print(f\"Empty dictionary: {eng_to_deu}\")\n",
        "\n",
        "# adding key-value pairs\n",
        "eng_to_deu[\"one\"] = \"eins\"\n",
        "eng_to_deu[\"two\"] = \"zwei\"\n",
        "eng_to_deu[\"three\"] = \"drie\"\n",
        "eng_to_deu[\"four\"] = \"vier\"\n",
        "print(f\"Key-value pairs added: {eng_to_deu}\")\n",
        "\n",
        "# updating key value pairs\n",
        "eng_to_deu[\"three\"] = \"drei\"\n",
        "print(f\"Updated Key-value pairs: {eng_to_deu}\")\n",
        "\n",
        "# using key to return one value\n",
        "print(f\"Value for key 'two': {eng_to_deu['two']}\")"
      ],
      "metadata": {
        "colab": {
          "base_uri": "https://localhost:8080/"
        },
        "id": "4k_twmtLPvKj",
        "outputId": "aab02d8b-7487-46e7-b315-ca557d0603dc"
      },
      "execution_count": 4,
      "outputs": [
        {
          "output_type": "stream",
          "name": "stdout",
          "text": [
            "Empty dictionary: {}\n",
            "Key-value pairs added: {'one': 'eins', 'two': 'zwei', 'three': 'drie', 'four': 'vier'}\n",
            "Updated Key-value pairs: {'one': 'eins', 'two': 'zwei', 'three': 'drei', 'four': 'vier'}\n",
            "Value for key 'two': zwei\n"
          ]
        }
      ]
    },
    {
      "cell_type": "markdown",
      "source": [
        "## Removing key-value pairs\n",
        "\n",
        "The `del` statement removes a key-value pair from a dictionary. While we can change a `value` in a key-value pair, we cannot change the `key` itself. A `key` can only be deleted and then create a new one in its place."
      ],
      "metadata": {
        "id": "0QqJs9JAXHU4"
      }
    },
    {
      "cell_type": "code",
      "source": [
        "del eng_to_deu[\"four\"]\n",
        "print(f\"Key-value pair removed: {eng_to_deu}\")"
      ],
      "metadata": {
        "colab": {
          "base_uri": "https://localhost:8080/"
        },
        "id": "UiHExhVGXqZb",
        "outputId": "bb0b2a59-99b0-4999-a13e-a4c450998adb"
      },
      "execution_count": 5,
      "outputs": [
        {
          "output_type": "stream",
          "name": "stdout",
          "text": [
            "Key-value pair removed: {'one': 'eins', 'two': 'zwei', 'three': 'drei'}\n"
          ]
        }
      ]
    },
    {
      "cell_type": "markdown",
      "source": [
        "## Dictionary Methods\n",
        "\n",
        "| Method | Description |\n",
        "| --- | --- |\n",
        "| `.keys()` | Returns a view of the keys in the dictionary |\n",
        "| `.values()` | Returns a view of the values in the dictionary |\n",
        "| `.items()` | Returns a view of the key-value pairs in the dictionary |\n",
        "| `get(key, optional)` | Returns the value associated with a key. If the key is not found, it returns the optional value provided, which defaults to None if no optional value is given |"
      ],
      "metadata": {
        "id": "VlEbxs4SYT_X"
      }
    },
    {
      "cell_type": "markdown",
      "source": [
        "## The `in` and `not in` Operators\n",
        "\n",
        "The `in` and `not in` operators check for membership by looking only at the `keys` of a dictionary, not the `values`. Dictionaries are designed for fast lookups based on keys, and the key is required to look up the `value`."
      ],
      "metadata": {
        "id": "OQgKSkRUaYGR"
      }
    },
    {
      "cell_type": "markdown",
      "source": [
        "## Iterating Through Dictionaries\n",
        "\n",
        "You can use loops to iterate through the contents of a dictionary, but because of its key-value structure, you have to choose what you want to iterate over. Python provides three main methods for this:\n",
        "\n",
        "- **Iterate over Keys** (default): You can either loop directly over the dictionary or use the `.keys()` method, both of which will give you access to each key one at a time. Once you have the key, you can use indexing to get the value.\n",
        "\n",
        "```python\n",
        "# option 1\n",
        "for key in syntax_dict:\n",
        "  print(f\"Got key: {key}\")\n",
        "\n",
        "# option 2 delivers the same result as option 1\n",
        "for key in syntax_dict.keys():\n",
        "  print(f\"Got key: {key}\")\n",
        "\n",
        "# returns key only without value\n",
        "```\n",
        "\n",
        "- **Iterate over Values**: If you only need to access the values, you can use the `.values()` method.\n",
        "\n",
        "```python\n",
        "for value in syntax_dict.values():\n",
        "  print(f\"Got value: {value}\")\n",
        "\n",
        "# returns value only without key\n",
        "```\n",
        "\n",
        "- **Iterate over Items**: This is the most efficient way to access both the key and the value in a single loop by using the `.items()` method.\n",
        "\n",
        "```python\n",
        "for key, value in syntax_dict.items():\n",
        "  print(f\"Got key: {key} | Got value: {value}\")\n",
        "```"
      ],
      "metadata": {
        "id": "he_85FJohw7c"
      }
    },
    {
      "cell_type": "markdown",
      "source": [
        "## Working Safely with Dictionaries\n",
        "\n",
        "When using the `[]` operator to access a key, if the key is not present, a runtime error occurs. There are 2 ways to deal with this problem:\n",
        "\n",
        "- use the `in` and `not in` operators to test if a key is in the dictionary\n",
        "\n",
        "```python\n",
        "if 'key' in syntax_dict:\n",
        "  print(f\"Got key: {key} | Got value: {syntax_dict(key)}\")\n",
        "else:\n",
        "  print(f\"The key does not exist\")\n",
        "```\n",
        "\n",
        "- use the `.get(key, optional)` method to return an alternative value (default is `None` if left blank) if the key is not found\n",
        "\n",
        "\n",
        "```python\n",
        "print(syntax_dict.get('key', 'Key not found'))\n",
        "```"
      ],
      "metadata": {
        "id": "LGLSP45zhtsC"
      }
    },
    {
      "cell_type": "markdown",
      "source": [
        "## Aliasing and Copying\n",
        "\n",
        "Whenever two variables refer to the same dictionary object, changes to one affect the other."
      ],
      "metadata": {
        "id": "1U9-jynXmIv2"
      }
    },
    {
      "cell_type": "code",
      "source": [
        "dict_a = {'a': 1, 'b': 2}\n",
        "dict_b = dict_a\n",
        "print(\"dict_b refers to the same dictionary object dict_a\")\n",
        "print(f\"dict_a is: {dict_a}\")\n",
        "print(f\"dict_b is: {dict_b}\")\n",
        "\n",
        "dict_a['c'] = 3\n",
        "print(\"Updates to dict_a also updates dict_b because they point to the same object\")\n",
        "print(f\"dict_a is: {dict_a}\")\n",
        "print(f\"dict_b is: {dict_b}\")"
      ],
      "metadata": {
        "colab": {
          "base_uri": "https://localhost:8080/"
        },
        "id": "8BeFbByYmaFR",
        "outputId": "efffbb9b-a4a5-4489-933d-2362e8eab183"
      },
      "execution_count": 19,
      "outputs": [
        {
          "output_type": "stream",
          "name": "stdout",
          "text": [
            "dict_b refers to the dictionary object dict_a\n",
            "dict_a is: {'a': 1, 'b': 2}\n",
            "dict_b is: {'a': 1, 'b': 2}\n",
            "only dict_a has been updated\n",
            "dict_a is: {'a': 1, 'b': 2, 'c': 3}\n",
            "dict_b is: {'a': 1, 'b': 2, 'c': 3}\n"
          ]
        }
      ]
    },
    {
      "cell_type": "markdown",
      "source": [
        "## Multiple Counters using a Dictionary\n",
        "\n",
        "Dictionaries are useful when we need to create counters for multiple items in a sequence."
      ],
      "metadata": {
        "id": "9YYy5j27ofRj"
      }
    },
    {
      "cell_type": "code",
      "source": [
        "dna_code = \"TTTTCCCCAAAAGGGGTTTTCCCCAAAAGGGGTTTTCCCCAAAAGGGGTTTTCCCCAAAAGGGGAA\"\n",
        "letter_counts = {}  # start with an empty dictionary\n",
        "\n",
        "for letter in dna_code:\n",
        "   if letter not in letter_counts:\n",
        "      # first time seeing this letter\n",
        "      letter_counts[letter] = 0\n",
        "\n",
        "   # increment the counter\n",
        "   letter_counts[letter] += 1\n",
        "\n",
        "print(letter_counts)"
      ],
      "metadata": {
        "colab": {
          "base_uri": "https://localhost:8080/"
        },
        "id": "KeefzXbppCiI",
        "outputId": "bf4aabec-240f-454e-f055-05bc76252fe5"
      },
      "execution_count": 20,
      "outputs": [
        {
          "output_type": "stream",
          "name": "stdout",
          "text": [
            "{'T': 16, 'C': 16, 'A': 18, 'G': 16}\n"
          ]
        }
      ]
    },
    {
      "cell_type": "markdown",
      "source": [
        "## Exercise 1\n",
        "\n",
        "Create a dictionary that keeps track of the USA’s Olympic medal count. Each key of the dictionary should be the type of medal (gold, silver, or bronze) and each key’s value should be the number of that type of medal the USA’s won.\n",
        "\n",
        "Currently, the USA has 33 gold medals, 17 silver, and 12 bronze. Create a dictionary saved in the variable `medals` that has this information."
      ],
      "metadata": {
        "id": "bqATtrKIQ_S7"
      }
    },
    {
      "cell_type": "code",
      "source": [
        "olympic_medals = {\n",
        "    \"gold\": 33,\n",
        "    \"silver\": 17,\n",
        "    \"bronze\": 12\n",
        "}"
      ],
      "metadata": {
        "id": "s9OYpJqPRHUU"
      },
      "execution_count": null,
      "outputs": []
    },
    {
      "cell_type": "markdown",
      "source": [
        "## Exercise 2\n",
        "\n",
        "Update the value for “Phelps” in the dictionary `swimmers` to include his medals from the Rio Olympics by adding 5 to the current value (Phelps will now have 28 total medals). In addition, remove the key-value pair of “Lochte”. Do not rewrite the dictionary: `swimmers = {'Manuel': 4, 'Lochte': 12, 'Adrian': 7, 'Ledecky': 5, 'Dirado': 4, 'Phelps': 23}`"
      ],
      "metadata": {
        "id": "WQsJMWXxX0HM"
      }
    },
    {
      "cell_type": "code",
      "source": [
        "swimmers = {'Manuel': 4, 'Lochte': 12, 'Adrian': 7, 'Ledecky': 5, 'Dirado': 4, 'Phelps': 23}\n",
        "\n",
        "swimmers[\"Phelps\"] += 5\n",
        "del swimmers[\"Lochte\"]\n",
        "print(f\"Updated dictionary: {swimmers}\")"
      ],
      "metadata": {
        "colab": {
          "base_uri": "https://localhost:8080/"
        },
        "id": "wGChnUWHYAI_",
        "outputId": "0c7df2b0-be75-4323-d764-539e67458295"
      },
      "execution_count": 7,
      "outputs": [
        {
          "output_type": "stream",
          "name": "stdout",
          "text": [
            "Updated dictionary: {'Manuel': 4, 'Adrian': 7, 'Ledecky': 5, 'Dirado': 4, 'Phelps': 28}\n"
          ]
        }
      ]
    },
    {
      "cell_type": "markdown",
      "source": [
        "## Exercise 3\n",
        "\n",
        "Using this dictionary of Italy medals and the `keys` method, count the total number of medals that Italy has won, and store the result into a variable called `total_medals`: `medal_events = {'Shooting': 7, 'Fencing': 4, 'Judo': 2, 'Swimming': 3, 'Diving': 2}`"
      ],
      "metadata": {
        "id": "5SCh-nYofsN9"
      }
    },
    {
      "cell_type": "code",
      "source": [
        "medal_events = {'Shooting': 7, 'Fencing': 4, 'Judo': 2, 'Swimming': 3, 'Diving': 2}\n",
        "total_medals = 0\n",
        "\n",
        "for medal in medal_events.keys():\n",
        "    total_medals += medal_events[medal]\n",
        "\n",
        "print(f\"Total medals: {total_medals}\")"
      ],
      "metadata": {
        "colab": {
          "base_uri": "https://localhost:8080/"
        },
        "id": "RttLy40ZfznW",
        "outputId": "acbf052f-bb57-4c86-b419-eb8c399d52d2"
      },
      "execution_count": 8,
      "outputs": [
        {
          "output_type": "stream",
          "name": "stdout",
          "text": [
            "Total medals: 18\n"
          ]
        }
      ]
    },
    {
      "cell_type": "markdown",
      "source": [
        "## Exercise 4\n",
        "\n",
        "Once more, please count the total number of medals that Italy has won, and store the result into a variable called `total_medals`. But this time, use the `values` method: `medal_events = {'Shooting': 7, 'Fencing': 4, 'Judo': 2, 'Swimming': 3, 'Diving': 2}`"
      ],
      "metadata": {
        "id": "bgMX1dJ3gOdE"
      }
    },
    {
      "cell_type": "code",
      "source": [
        "medal_events = {'Shooting': 7, 'Fencing': 4, 'Judo': 2, 'Swimming': 3, 'Diving': 2}\n",
        "total_medals = 0\n",
        "\n",
        "for medal in medal_events.values():\n",
        "    total_medals += medal\n",
        "\n",
        "print(f\"Total medals: {total_medals}\")"
      ],
      "metadata": {
        "colab": {
          "base_uri": "https://localhost:8080/"
        },
        "id": "vvQfNdYTgYzk",
        "outputId": "d7680efd-43b5-4880-f5dd-3213c09c7f4f"
      },
      "execution_count": 9,
      "outputs": [
        {
          "output_type": "stream",
          "name": "stdout",
          "text": [
            "Total medals: 18\n"
          ]
        }
      ]
    },
    {
      "cell_type": "markdown",
      "source": [
        "## Exercise 5\n",
        "\n",
        "In the following dictionary, you can see the numbers of medals the UK have won in each field, separated to Men and Women categories. Please count the total number of medals won by Women using the variable `total_medals`. Use the `items` method.\n",
        "\n",
        "```python\n",
        "uk_medals = {\n",
        "    'Shooting (Women)': 4,\n",
        "    'Shooting (Men)': 4,\n",
        "    'Fencing (Women)': 4,\n",
        "    'Fencing (Men)': 2,\n",
        "    'Judo (Women)': 6,\n",
        "    'Judo (Men)': 2,\n",
        "    'Swimming (Women)': 1,\n",
        "    'Swimming (Men)': 3\n",
        "}\n",
        "```"
      ],
      "metadata": {
        "id": "HyN62WxYgkCu"
      }
    },
    {
      "cell_type": "code",
      "source": [
        "uk_medals = {\n",
        "    'Shooting (Women)': 4,\n",
        "    'Shooting (Men)': 4,\n",
        "    'Fencing (Women)': 4,\n",
        "    'Fencing (Men)': 2,\n",
        "    'Judo (Women)': 6,\n",
        "    'Judo (Men)': 2,\n",
        "    'Swimming (Women)': 1,\n",
        "    'Swimming (Men)': 3\n",
        "}\n",
        "total_medals = 0\n",
        "\n",
        "for category, medal in uk_medals.items():\n",
        "    if \"Women\" in category:\n",
        "      total_medals += medal\n",
        "\n",
        "print(f\"Total medals: {total_medals}\")"
      ],
      "metadata": {
        "colab": {
          "base_uri": "https://localhost:8080/"
        },
        "id": "m1uFYf1SgvUo",
        "outputId": "8f897486-e3fa-4f85-8711-1eb14df0fb5f"
      },
      "execution_count": 11,
      "outputs": [
        {
          "output_type": "stream",
          "name": "stdout",
          "text": [
            "Total medals: 15\n"
          ]
        }
      ]
    },
    {
      "cell_type": "markdown",
      "source": [
        "## Exercise 6\n",
        "\n",
        "A school has decided to use a Python dictionary to keep track of information about a student. In this dict, the keys are the field names (strings), and the values are their values (the type varies). Create a dictionary called `student_info` which will hold the information for the following student:\n",
        "\n",
        "> Name: Gemma Newton  \n",
        "> Age: 17  \n",
        "> City: Brighton  "
      ],
      "metadata": {
        "id": "4hTMU5TDpMk3"
      }
    },
    {
      "cell_type": "code",
      "source": [
        "student_info = {\n",
        "    \"Name\": \"Gemma Newton\",\n",
        "    \"Age\": 17,\n",
        "    \"City\": \"Brighton\"\n",
        "}"
      ],
      "metadata": {
        "id": "lMv3jDF2pZzu"
      },
      "execution_count": null,
      "outputs": []
    },
    {
      "cell_type": "markdown",
      "source": [
        "## Exercise 7\n",
        "\n",
        "The dictionary `golds` contain information about how many gold medals each country won in the 2016 Olympics. Using dictionary iteration, print an output that looks like this:\n",
        "\n",
        "> Italy - 12 Medals  \n",
        "> Brazil - 15 Medals  \n",
        "> and so on…  \n",
        "\n",
        "_Note: The order is not important. Hint: Use f-strings here, it’s fun!_\n",
        "\n",
        "`golds = {\"Italy\": 12, \"USA\": 33, \"Brazil\": 15, \"China\": 27, \"Spain\": 19, \"Canada\": 22, \"Argentina\": 8, \"England\": 29}`"
      ],
      "metadata": {
        "id": "wBPQC9owpkqp"
      }
    },
    {
      "cell_type": "code",
      "source": [
        "golds = {\"Italy\": 12, \"USA\": 33, \"Brazil\": 15, \"China\": 27, \"Spain\": 19, \"Canada\": 22, \"Argentina\": 8, \"England\": 29}\n",
        "for country, medals in golds.items():\n",
        "    print(f\"{country} - {medals} Medals\")"
      ],
      "metadata": {
        "colab": {
          "base_uri": "https://localhost:8080/"
        },
        "id": "_Th4sno0p6C0",
        "outputId": "59c70f17-f405-422c-e3c4-3e9500dad7e1"
      },
      "execution_count": 21,
      "outputs": [
        {
          "output_type": "stream",
          "name": "stdout",
          "text": [
            "Italy - 12 Medals\n",
            "USA - 33 Medals\n",
            "Brazil - 15 Medals\n",
            "China - 27 Medals\n",
            "Spain - 19 Medals\n",
            "Canada - 22 Medals\n",
            "Argentina - 8 Medals\n",
            "England - 29 Medals\n"
          ]
        }
      ]
    },
    {
      "cell_type": "markdown",
      "source": [
        "## Exercise 8\n",
        "\n",
        "Provided is a dictionary called `US_medals` which has the first 70 metals that the United States has won in 2016, and in which category they have won it in. Using dictionary iteration, print only the categories in which US had **more than 5** medals.\n",
        "\n",
        "```python\n",
        "US_medals = {\"Swimming\": 13, \"Gymnastics\": 6, \"Track & Field\": 6, \"Tennis\": 3, \"Judo\": 2,\n",
        "                            \"Rowing\": 2, \"Shooting\": 3, \"Cycling - Road\": 1, \"Fencing\": 4, \"Diving\": 6,\n",
        "                                 \"Archery\": 5, \"Cycling - Track\": 1, \"Equestrian\": 2, \"Golf\": 17, \"Weightlifting\": 1}\n",
        "```"
      ],
      "metadata": {
        "id": "QgDkD4skqH6a"
      }
    },
    {
      "cell_type": "code",
      "source": [
        "US_medals = {\"Swimming\": 13, \"Gymnastics\": 6, \"Track & Field\": 6, \"Tennis\": 3, \"Judo\": 2,\n",
        "                            \"Rowing\": 2, \"Shooting\": 3, \"Cycling - Road\": 1, \"Fencing\": 4, \"Diving\": 6,\n",
        "                                 \"Archery\": 5, \"Cycling - Track\": 1, \"Equestrian\": 2, \"Golf\": 17, \"Weightlifting\": 1}\n",
        "for category, medals in US_medals.items():\n",
        "    if medals > 5:\n",
        "        print(category)"
      ],
      "metadata": {
        "colab": {
          "base_uri": "https://localhost:8080/"
        },
        "id": "OR-3_oAVqUtf",
        "outputId": "df772151-f678-49fe-e7ad-87a2caacde42"
      },
      "execution_count": 22,
      "outputs": [
        {
          "output_type": "stream",
          "name": "stdout",
          "text": [
            "Swimming\n",
            "Gymnastics\n",
            "Track & Field\n",
            "Diving\n",
            "Golf\n"
          ]
        }
      ]
    },
    {
      "cell_type": "markdown",
      "source": [
        "## Exercise 9\n",
        "\n",
        "Create a dictionary, `freq`, that saves each letter in the string `str1` as the key, and the value is the frequency of the letter as the value: `str1 = \"peter piper picked a peck of pickled peppers\"`"
      ],
      "metadata": {
        "id": "Cba1BWDIqkFF"
      }
    },
    {
      "cell_type": "code",
      "source": [
        "str1 = \"peter piper picked a peck of pickled peppers\"\n",
        "freq = {}\n",
        "\n",
        "for letter in str1:\n",
        "  if letter not in freq:\n",
        "    freq[letter] = 0\n",
        "  freq[letter] += 1\n",
        "\n",
        "print(freq)"
      ],
      "metadata": {
        "colab": {
          "base_uri": "https://localhost:8080/"
        },
        "id": "Hv_plPpKquGe",
        "outputId": "895a92e2-0be8-4d4b-9bbc-1c42ca1ff907"
      },
      "execution_count": 25,
      "outputs": [
        {
          "output_type": "stream",
          "name": "stdout",
          "text": [
            "{'p': 9, 'e': 8, 't': 1, 'r': 3, ' ': 7, 'i': 3, 'c': 3, 'k': 3, 'd': 2, 'a': 1, 'o': 1, 'f': 1, 'l': 1, 's': 1}\n"
          ]
        }
      ]
    },
    {
      "cell_type": "markdown",
      "source": [
        "## Exercise 10\n",
        "\n",
        "Provided is a list of car brands that were spotted on a single street. Create a dictionary, `freq_brands`, the cars as keys and the frequency in the street as the value.\n",
        "\n",
        "```python\n",
        "list_of_cars = [\"Ford\", \"Toyota\", \"Hyundai\", \"Toyota\", \"Hyundai\",\n",
        "      \"Ford\", \"Ford\", \"Toyota\", \"Toyota\", \"Toyota\",\"Toyota\", \"Hyundai\", \"Toyota\", \"Hyundai\",\n",
        "          \"Toyota\", \"Hyundai\", \"Ford\", \"Ford\", \"Ford\"]\n",
        "```"
      ],
      "metadata": {
        "id": "HcYZnmkBrUVC"
      }
    },
    {
      "cell_type": "code",
      "source": [
        "list_of_cars = [\"Ford\", \"Toyota\", \"Hyundai\", \"Toyota\", \"Hyundai\",\n",
        "      \"Ford\", \"Ford\", \"Toyota\", \"Toyota\", \"Toyota\",\"Toyota\", \"Hyundai\", \"Toyota\", \"Hyundai\",\n",
        "          \"Toyota\", \"Hyundai\", \"Ford\", \"Ford\", \"Ford\"]\n",
        "freq_brands = {}\n",
        "\n",
        "for car in list_of_cars:\n",
        "  if car not in freq_brands:\n",
        "    freq_brands[car] = 0\n",
        "  freq_brands[car] += 1\n",
        "\n",
        "print(freq_brands)"
      ],
      "metadata": {
        "colab": {
          "base_uri": "https://localhost:8080/"
        },
        "id": "FW8fAtZerbCo",
        "outputId": "b899d545-712d-4448-da6c-193e45f8488f"
      },
      "execution_count": 26,
      "outputs": [
        {
          "output_type": "stream",
          "name": "stdout",
          "text": [
            "{'Ford': 6, 'Toyota': 8, 'Hyundai': 5}\n"
          ]
        }
      ]
    }
  ]
}
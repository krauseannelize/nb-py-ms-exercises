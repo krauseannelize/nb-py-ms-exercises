{
  "nbformat": 4,
  "nbformat_minor": 0,
  "metadata": {
    "colab": {
      "provenance": [],
      "authorship_tag": "ABX9TyN8sBxTD3Uxs4+NbenVCdeO",
      "include_colab_link": true
    },
    "kernelspec": {
      "name": "python3",
      "display_name": "Python 3"
    },
    "language_info": {
      "name": "python"
    }
  },
  "cells": [
    {
      "cell_type": "markdown",
      "metadata": {
        "id": "view-in-github",
        "colab_type": "text"
      },
      "source": [
        "<a href=\"https://colab.research.google.com/github/krauseannelize/nb-py-ms-exercises/blob/main/notebooks/23_exercises_tuple.ipynb\" target=\"_parent\"><img src=\"https://colab.research.google.com/assets/colab-badge.svg\" alt=\"Open In Colab\"/></a>"
      ]
    },
    {
      "cell_type": "markdown",
      "source": [
        "23 | Exercises - Tuple\n",
        "\n",
        "**Tuples** are defined using parentheses `()` and are ideal for storing fixed collections of items that _should not_ be modified.\n",
        "\n",
        "| Feature | Description |\n",
        "| --- | --- |\n",
        "| Immutable |\tYou cannot change, add, or remove items. |\n",
        "| Ordered |\tItems can be accessed by their index. |\n",
        "| Values | Can be any valid Python object |\n",
        "\n",
        "# Creating a Tuple"
      ],
      "metadata": {
        "id": "JE9SUmbIpjWJ"
      }
    },
    {
      "cell_type": "code",
      "execution_count": 4,
      "metadata": {
        "colab": {
          "base_uri": "https://localhost:8080/"
        },
        "id": "5KDx6tDdpZhm",
        "outputId": "375cfaa8-5a49-4b94-cdbc-6e7d50d5fb9d"
      },
      "outputs": [
        {
          "output_type": "stream",
          "name": "stdout",
          "text": [
            "<class 'tuple'>\n"
          ]
        }
      ],
      "source": [
        "# basic syntax\n",
        "syntax_tuple = (\"string\", int, float, bool, list, dict, tuple)\n",
        "print(type(syntax_tuple))"
      ]
    },
    {
      "cell_type": "code",
      "source": [
        "# empty tuple\n",
        "empty_tuple = ()\n",
        "print(type(empty_tuple))"
      ],
      "metadata": {
        "colab": {
          "base_uri": "https://localhost:8080/"
        },
        "id": "y_bOEHgds4MD",
        "outputId": "c5270630-49c8-4f37-f1d3-7d8458a8d006"
      },
      "execution_count": 5,
      "outputs": [
        {
          "output_type": "stream",
          "name": "stdout",
          "text": [
            "<class 'tuple'>\n"
          ]
        }
      ]
    },
    {
      "cell_type": "code",
      "source": [
        "# single element tuple requires a comma\n",
        "single_element_tuple = (\"string\",)\n",
        "print(type(single_element_tuple))"
      ],
      "metadata": {
        "colab": {
          "base_uri": "https://localhost:8080/"
        },
        "id": "Dnex3PWSs-Zb",
        "outputId": "d3b13cd9-d6b0-4305-cbec-f916d46b126e"
      },
      "execution_count": 6,
      "outputs": [
        {
          "output_type": "stream",
          "name": "stdout",
          "text": [
            "<class 'tuple'>\n"
          ]
        }
      ]
    },
    {
      "cell_type": "code",
      "source": [
        "# without the comma, the variable will take the type of the single value\n",
        "single_element_tuple = (\"string\")\n",
        "print(type(single_element_tuple))"
      ],
      "metadata": {
        "colab": {
          "base_uri": "https://localhost:8080/"
        },
        "id": "NcrO7pQOtIg7",
        "outputId": "ef1a1bdc-7719-4e71-be71-9568a1b766e5"
      },
      "execution_count": 7,
      "outputs": [
        {
          "output_type": "stream",
          "name": "stdout",
          "text": [
            "<class 'str'>\n"
          ]
        }
      ]
    },
    {
      "cell_type": "markdown",
      "source": [
        "## Adding or Updating a Tuple\n",
        "\n",
        "**Tuples** are immutable and cannot be changed at all."
      ],
      "metadata": {
        "id": "xoixnHW3te7l"
      }
    },
    {
      "cell_type": "code",
      "source": [
        "example_tuple = (\"item1\", \"item2\", \"item4\")\n",
        "\n",
        "# updating a tuple\n",
        "example_tuple[2] = \"item3\"\n",
        "\n",
        "# .append(), .insert() and remove() is also not supported"
      ],
      "metadata": {
        "colab": {
          "base_uri": "https://localhost:8080/",
          "height": 180
        },
        "id": "WYIlETUHttz_",
        "outputId": "ae887494-d374-47eb-a9f8-3c7caa887e77"
      },
      "execution_count": 9,
      "outputs": [
        {
          "output_type": "error",
          "ename": "TypeError",
          "evalue": "'tuple' object does not support item assignment",
          "traceback": [
            "\u001b[0;31m---------------------------------------------------------------------------\u001b[0m",
            "\u001b[0;31mTypeError\u001b[0m                                 Traceback (most recent call last)",
            "\u001b[0;32m/tmp/ipython-input-3246951814.py\u001b[0m in \u001b[0;36m<cell line: 0>\u001b[0;34m()\u001b[0m\n\u001b[1;32m      2\u001b[0m \u001b[0;34m\u001b[0m\u001b[0m\n\u001b[1;32m      3\u001b[0m \u001b[0;31m# updating a tuple\u001b[0m\u001b[0;34m\u001b[0m\u001b[0;34m\u001b[0m\u001b[0m\n\u001b[0;32m----> 4\u001b[0;31m \u001b[0mexample_tuple\u001b[0m\u001b[0;34m[\u001b[0m\u001b[0;36m2\u001b[0m\u001b[0;34m]\u001b[0m \u001b[0;34m=\u001b[0m \u001b[0;34m\"item3\"\u001b[0m\u001b[0;34m\u001b[0m\u001b[0;34m\u001b[0m\u001b[0m\n\u001b[0m",
            "\u001b[0;31mTypeError\u001b[0m: 'tuple' object does not support item assignment"
          ]
        }
      ]
    },
    {
      "cell_type": "markdown",
      "source": [
        "## Tuple Packing\n",
        "\n",
        "Wherever Python expects a single value and multiple expressions are provided, separated by commas, they are automatically packed into a tuple even without parentheses."
      ],
      "metadata": {
        "id": "8f-tKsq0vZHP"
      }
    },
    {
      "cell_type": "code",
      "source": [
        "# creating a tuple without parentheses\n",
        "naked_tuple = 1, 2, 3\n",
        "print(type(naked_tuple))"
      ],
      "metadata": {
        "colab": {
          "base_uri": "https://localhost:8080/"
        },
        "id": "TIjYiSztvlCe",
        "outputId": "10cc7507-296b-4ba1-f3ef-9dec7fb907e8"
      },
      "execution_count": 16,
      "outputs": [
        {
          "output_type": "stream",
          "name": "stdout",
          "text": [
            "<class 'tuple'>\n",
            "(1, 2, 3)\n"
          ]
        }
      ]
    },
    {
      "cell_type": "markdown",
      "source": [
        "## Tuple Unpacking\n",
        "\n",
        "Tuple **unpacking**, also know as tuple **assignment**, is a way to unpack/assign the elements of a tuple to multiple variables by placing the variables to the left of the assignment operator and the tuple to the right.\n",
        "\n",
        "This is helpful in writing cleaner code when we can avoid lines like `tuple[7]` that are not self-explanatory."
      ],
      "metadata": {
        "id": "2BuOH4-MwVSu"
      }
    },
    {
      "cell_type": "code",
      "source": [
        "unpacking_tuple = (\"Jan\", 23, \"NL\")\n",
        "\n",
        "name, age, country = unpacking_tuple\n",
        "\n",
        "print(name)\n",
        "print(age)\n",
        "print(country)"
      ],
      "metadata": {
        "colab": {
          "base_uri": "https://localhost:8080/"
        },
        "id": "Y0VHptckwUTb",
        "outputId": "c540d914-8767-4b79-9725-7b36ab461f53"
      },
      "execution_count": 12,
      "outputs": [
        {
          "output_type": "stream",
          "name": "stdout",
          "text": [
            "Jan\n",
            "23\n",
            "NL\n"
          ]
        }
      ]
    },
    {
      "cell_type": "markdown",
      "source": [
        "##Tuple Unpacking with Dictionaries\n",
        "\n",
        "When iterating over a dictionary using the `.items()` method, Python returns a sequence of tuples. Each tuple contains a key and its corresponding value. Tuple unpacking is used inside the for loop to automatically assign the key to one variable and the value to another, making it easy to access both in a single, clean line of code."
      ],
      "metadata": {
        "id": "4_U5zc_oy1WI"
      }
    },
    {
      "cell_type": "code",
      "source": [
        "tuple_dict = {\"Apple\": 5, \"Orange\": 10, \"Banana\": 15}\n",
        "\n",
        "for key, val in tuple_dict.items():\n",
        "    print(f\"Loop received tuple ({key}, {val})\")"
      ],
      "metadata": {
        "colab": {
          "base_uri": "https://localhost:8080/"
        },
        "id": "OPph1ZUmzOPc",
        "outputId": "f1000170-a472-438d-be4d-72bc902eff05"
      },
      "execution_count": 17,
      "outputs": [
        {
          "output_type": "stream",
          "name": "stdout",
          "text": [
            "Loop received tuple (Apple, 5)\n",
            "Loop received tuple (Orange, 10)\n",
            "Loop received tuple (Banana, 15)\n"
          ]
        }
      ]
    },
    {
      "cell_type": "markdown",
      "source": [
        "## Swapping Values\n",
        "\n",
        "The unpacking feature of tuples can be used to enable swapping the values of 2 variables instead of using a temporary variable. Python achieves this by creating a new, temporary tuple with the values on the right side of the assignment, which is then unpacked to the variables on the left."
      ],
      "metadata": {
        "id": "ebqXjo2x1iYh"
      }
    },
    {
      "cell_type": "code",
      "source": [
        "a = 1\n",
        "b = 2\n",
        "print(f\"Before: a={a}, b={b}\")\n",
        "a, b = b, a  # swapping values with tuple assignment\n",
        "print(f\"After: a={a}, b={b}\")"
      ],
      "metadata": {
        "colab": {
          "base_uri": "https://localhost:8080/"
        },
        "id": "IK2pSjvx3Fd6",
        "outputId": "1db2fa59-7441-45fe-9b48-03da09d0332f"
      },
      "execution_count": 18,
      "outputs": [
        {
          "output_type": "stream",
          "name": "stdout",
          "text": [
            "Before: a=1, b=2\n",
            "After: a=2, b=1\n"
          ]
        }
      ]
    },
    {
      "cell_type": "markdown",
      "source": [
        "## Tuples as Return Values\n",
        "\n",
        "Functions in Python can only ever return one value. Although it may seem as if it returned multiple values, those values were returned in a **tuple**."
      ],
      "metadata": {
        "id": "GB_mOn4V8Qe8"
      }
    },
    {
      "cell_type": "code",
      "source": [
        "def doing_math(num1, num2):\n",
        "    add = num1 + num2\n",
        "    sub = num1 - num2\n",
        "    mult = num1 * num2\n",
        "    div = num1 / num2\n",
        "    return add, sub, mult, div # seems like 4 independant variables\n",
        "\n",
        "# assign function return values to variable to illustrate\n",
        "result = doing_math(10, 5)\n",
        "print(result)\n",
        "print(type(result))"
      ],
      "metadata": {
        "colab": {
          "base_uri": "https://localhost:8080/"
        },
        "id": "8gtejwZO-tSu",
        "outputId": "b889932c-3548-48f0-be09-18267ccf7d47"
      },
      "execution_count": 25,
      "outputs": [
        {
          "output_type": "stream",
          "name": "stdout",
          "text": [
            "(15, 5, 50, 2.0)\n",
            "<class 'tuple'>\n"
          ]
        }
      ]
    },
    {
      "cell_type": "markdown",
      "source": [
        "## Exercise 1\n",
        "\n",
        "Create a tuple called `practice` that has four elements: ‘y’, ‘h’, ‘z’, and ‘x’."
      ],
      "metadata": {
        "id": "Yf0POZqMv_Jp"
      }
    },
    {
      "cell_type": "code",
      "source": [
        "practice = (\"y\", \"h\", \"z\", \"x\")\n",
        "print(type(practice))"
      ],
      "metadata": {
        "colab": {
          "base_uri": "https://localhost:8080/"
        },
        "id": "2UY3Et0nwEJM",
        "outputId": "7e840a3f-ac47-4b46-b5f6-0dcc24947032"
      },
      "execution_count": 11,
      "outputs": [
        {
          "output_type": "stream",
          "name": "stdout",
          "text": [
            "<class 'tuple'>\n"
          ]
        }
      ]
    },
    {
      "cell_type": "markdown",
      "source": [
        "## Exercise 3\n",
        "\n",
        "Swap the variables, so the values fit the names of the variables. Use only tuple swapping and not hard-coding!\n",
        "\n",
        "```python\n",
        "first = \"2\"\n",
        "second = \"3\"\n",
        "third = \"1\"\n",
        "```"
      ],
      "metadata": {
        "id": "FJbc4RMk3NZa"
      }
    },
    {
      "cell_type": "code",
      "source": [
        "first = \"2\"\n",
        "second = \"3\"\n",
        "third = \"1\"\n",
        "print(\"Before:\", first, second, third)\n",
        "first, second, third = third, first, second\n",
        "print(\"After:\", first, second, third)"
      ],
      "metadata": {
        "colab": {
          "base_uri": "https://localhost:8080/"
        },
        "id": "KqDGMbZH3S4f",
        "outputId": "eb96b558-1e3d-4703-8a9a-6ed32e5e0150"
      },
      "execution_count": 19,
      "outputs": [
        {
          "output_type": "stream",
          "name": "stdout",
          "text": [
            "Before: 2 3 1\n",
            "After: 1 2 3\n"
          ]
        }
      ]
    },
    {
      "cell_type": "markdown",
      "source": [
        "## Exercise 4\n",
        "\n",
        "Define a function called `information` that takes as input, the variables `name`, `birth_year`, `fav_color`, and `hometown`. It should return a tuple of these variables in this order."
      ],
      "metadata": {
        "id": "xuamywPo673E"
      }
    },
    {
      "cell_type": "code",
      "source": [
        "def information(name, birth_year, fav_color, hometown):\n",
        "  return (name, birth_year, fav_color, hometown)\n",
        "\n",
        "result = information('Bob', 23, 'blue', 'Chicago')\n",
        "print(result)\n",
        "print(type(result))"
      ],
      "metadata": {
        "colab": {
          "base_uri": "https://localhost:8080/"
        },
        "id": "P6WGMzR67Fh3",
        "outputId": "f0037b51-879e-481e-bdae-8921e3d1839c"
      },
      "execution_count": 24,
      "outputs": [
        {
          "output_type": "stream",
          "name": "stdout",
          "text": [
            "('Bob', 23, 'blue', 'Chicago')\n",
            "<class 'tuple'>\n"
          ]
        }
      ]
    },
    {
      "cell_type": "markdown",
      "source": [
        "## Exercise 5\n",
        "\n",
        "With only one line of code, assign the variables `city`, `country`, and `year` to the values of the tuple `olymp`: `olymp = ('Rio', 'Brazil', 2016)`"
      ],
      "metadata": {
        "id": "5oGHbN49A1re"
      }
    },
    {
      "cell_type": "code",
      "source": [
        "olymp = ('Rio', 'Brazil', 2016)\n",
        "city, country, year = olymp"
      ],
      "metadata": {
        "id": "HNIwnlDRBCCi"
      },
      "execution_count": null,
      "outputs": []
    },
    {
      "cell_type": "markdown",
      "source": [
        "## Exercise 6\n",
        "\n",
        "Fill the left side of line 7 so that the following code runs without error.\n",
        "\n",
        "```python\n",
        "def circle_info(r):\n",
        "    \"\"\" Return (circumference, area) of a circle of radius r \"\"\"\n",
        "    c = 2 * 3.14159 * r\n",
        "    a = 3.14159 * r * r\n",
        "    return c, a\n",
        "\n",
        "= circle_info(10)      #fix the code here\n",
        "print(\"area is \" + str(area))\n",
        "print(\"circumference is \" + str(circ))\n",
        "```"
      ],
      "metadata": {
        "id": "z92WvAsbBK5d"
      }
    },
    {
      "cell_type": "code",
      "source": [
        "def circle_info(r):\n",
        "    \"\"\" Return (circumference, area) of a circle of radius r \"\"\"\n",
        "    c = 2 * 3.14159 * r\n",
        "    a = 3.14159 * r * r\n",
        "    return c, a\n",
        "\n",
        "circ, area = circle_info(10)      #fix the code here\n",
        "print(\"area is \" + str(area))\n",
        "print(\"circumference is \" + str(circ))"
      ],
      "metadata": {
        "colab": {
          "base_uri": "https://localhost:8080/"
        },
        "id": "yIAb-NvjBOIg",
        "outputId": "11fe876d-f5cb-4582-eabb-6b22a10e091c"
      },
      "execution_count": 26,
      "outputs": [
        {
          "output_type": "stream",
          "name": "stdout",
          "text": [
            "area is 314.159\n",
            "circumference is 62.8318\n"
          ]
        }
      ]
    },
    {
      "cell_type": "markdown",
      "source": [
        "## Exercise 7\n",
        "\n",
        "Define a function called `date_split` that receives one parameter: a date string in the format “DD-MM-YYYY” (f.e. “24-05-1986”). The function should then return a tuple with 3 elements — day, month, year, all as strings."
      ],
      "metadata": {
        "id": "xLctgn-yBfFe"
      }
    },
    {
      "cell_type": "code",
      "source": [
        "def date_split(date):\n",
        "  day = date[0:2]\n",
        "  month = date[3:5]\n",
        "  year = date[-4:]\n",
        "  return day, month, year\n",
        "\n",
        "result = date_split(\"24-05-1986\")\n",
        "print(result)\n",
        "print(type(result))"
      ],
      "metadata": {
        "colab": {
          "base_uri": "https://localhost:8080/"
        },
        "id": "e850O2_lBl3Q",
        "outputId": "f4f4443e-2211-41d3-9810-b3145d5d4cc1"
      },
      "execution_count": 27,
      "outputs": [
        {
          "output_type": "stream",
          "name": "stdout",
          "text": [
            "('24', '05', '1986')\n",
            "<class 'tuple'>\n"
          ]
        }
      ]
    },
    {
      "cell_type": "markdown",
      "source": [
        "## Exercise 8\n",
        "\n",
        "Update the function `date_split` from previous exercise, so it returns all values as **ints**."
      ],
      "metadata": {
        "id": "2lILrxh0Cj10"
      }
    },
    {
      "cell_type": "code",
      "source": [
        "def date_split(date):\n",
        "  day = int(date[0:2])\n",
        "  month = int(date[3:5])\n",
        "  year = int(date[-4:])\n",
        "  return day, month, year\n",
        "\n",
        "result = date_split(\"24-05-1986\")\n",
        "print(result)\n",
        "print(type(result))"
      ],
      "metadata": {
        "colab": {
          "base_uri": "https://localhost:8080/"
        },
        "id": "W9hLnKpGCruq",
        "outputId": "4a574d5d-28d1-44ca-d91c-dc7e69c74c83"
      },
      "execution_count": 29,
      "outputs": [
        {
          "output_type": "stream",
          "name": "stdout",
          "text": [
            "(24, 5, 1986)\n",
            "<class 'tuple'>\n"
          ]
        }
      ]
    }
  ]
}
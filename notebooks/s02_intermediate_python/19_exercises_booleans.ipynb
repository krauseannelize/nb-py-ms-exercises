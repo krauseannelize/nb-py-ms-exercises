{
  "nbformat": 4,
  "nbformat_minor": 0,
  "metadata": {
    "colab": {
      "provenance": [],
      "authorship_tag": "ABX9TyMQGv+xuvEi8PjrmDMI+yGc",
      "include_colab_link": true
    },
    "kernelspec": {
      "name": "python3",
      "display_name": "Python 3"
    },
    "language_info": {
      "name": "python"
    }
  },
  "cells": [
    {
      "cell_type": "markdown",
      "metadata": {
        "id": "view-in-github",
        "colab_type": "text"
      },
      "source": [
        "<a href=\"https://colab.research.google.com/github/krauseannelize/nb-py-ms-exercises/blob/main/notebooks/19_exercises_booleans.ipynb\" target=\"_parent\"><img src=\"https://colab.research.google.com/assets/colab-badge.svg\" alt=\"Open In Colab\"/></a>"
      ]
    },
    {
      "cell_type": "markdown",
      "source": [
        "# 19 | Exercises - Booleans\n",
        "\n",
        "A **Boolean** is a type that can hold one of two values: `True` or `False`. Booleans are often used in decision-making and controlling the flow of a program. In Python, the Boolean values `True` and `False` must be **capitalized**.\n",
        "\n",
        "Boolean values are not strings and are not surrounded by quotes."
      ],
      "metadata": {
        "id": "5WuoF9PGvg3q"
      }
    },
    {
      "cell_type": "code",
      "execution_count": null,
      "metadata": {
        "id": "jLNWXKJltpOq"
      },
      "outputs": [],
      "source": [
        "print(type(True))\n",
        "print(type(\"True\"))"
      ]
    },
    {
      "cell_type": "markdown",
      "source": [
        "## Truthiness\n",
        "\n",
        "- `1` is considered `True`\n",
        "- Any non-zero number (like 10, -5) is considered `True`\n",
        "\n",
        "## Falsiness\n",
        "\n",
        "- `0` is considered `False`\n",
        "- Empty strings (`\"\"`), empty lists (`[]`), and `None` are all considered `False`\n",
        "\n",
        "## Logical Operators\n",
        "\n",
        "| x | y | and | or |\n",
        "| --- | --- | --- | --- |\n",
        "| 0 | 0 | 0 | 0 |\n",
        "| 0 | 1 | 0 | 1 |\n",
        "| 1 | 0 | 0 | 1 |\n",
        "| 1 | 1 | 1 | 1 |\n",
        "\n",
        "| x | not |\n",
        "| --- | --- |\n",
        "| 0 | 1 |\n",
        "| 1 | 0 |\n",
        "\n",
        "## Boolean Expressions\n",
        "\n",
        "A **boolean expression** is an expression that evaluates to a boolean value. The basic type of a boolean expression is made out of two values, with an **operator** between them.\n",
        "\n",
        "## Comparison Operators\n",
        "\n",
        "| Operator | Is variable | Input | Output |\n",
        "| --- | --- | --- | --- |\n",
        "| == | equal to | `10 == 5` | `False` |\n",
        "| != | not equal to | `10 != 5` | `True` |\n",
        "| > | greater than | `10 > 10` | `False` |\n",
        "| >= | greater than or equal to | `10 >= 10` | `True` |\n",
        "| < | less than | `10 < 10` | `False` |\n",
        "| <= | less than or equal to | `10 <= 10` | `True` |"
      ],
      "metadata": {
        "id": "ttcypdaUzQmy"
      }
    },
    {
      "cell_type": "markdown",
      "source": [
        "## Chaining Comparison Operators\n",
        "\n",
        "You can create comparison operator chains by separating expressions with comparison operators to form a larger expression. When you chain comparisons, Python evaluates each comparison in order."
      ],
      "metadata": {
        "id": "G5a9Zkiz4_fL"
      }
    },
    {
      "cell_type": "code",
      "source": [
        "num = 15\n",
        "\n",
        "if 10 < num < 20:\n",
        "    print(\"number is between 10 and 20!\")\n",
        "# 1st evaluation: 10 < num\n",
        "# 2nd evaluation: num > 20\n",
        "# 3rd evaluation: and - are both sides True?"
      ],
      "metadata": {
        "id": "mScqokEv5NLu"
      },
      "execution_count": null,
      "outputs": []
    },
    {
      "cell_type": "markdown",
      "source": [
        "## The `in` Operator\n",
        "\n",
        "The `in` operator checks for membership and it can be used to test if an item is part of a sequence."
      ],
      "metadata": {
        "id": "FRThy3WW73tL"
      }
    },
    {
      "cell_type": "code",
      "source": [
        "# membership in a list\n",
        "fruits = [\"banana\", \"apple\", \"orange\"]\n",
        "print(\"banana\" in fruits)"
      ],
      "metadata": {
        "colab": {
          "base_uri": "https://localhost:8080/"
        },
        "id": "PUY06bD88Kdn",
        "outputId": "e7d4964e-c0ed-4d99-c945-d85da5faafa1"
      },
      "execution_count": 8,
      "outputs": [
        {
          "output_type": "stream",
          "name": "stdout",
          "text": [
            "True\n"
          ]
        }
      ]
    },
    {
      "cell_type": "code",
      "source": [
        "# membership in a string\n",
        "print('i' in 'apple')\n",
        "print('app' in 'apple')"
      ],
      "metadata": {
        "colab": {
          "base_uri": "https://localhost:8080/"
        },
        "id": "zSFaLY_48TBS",
        "outputId": "72c2c81a-8fb3-4c31-f466-97c5958d0f80"
      },
      "execution_count": 9,
      "outputs": [
        {
          "output_type": "stream",
          "name": "stdout",
          "text": [
            "False\n",
            "True\n"
          ]
        }
      ]
    },
    {
      "cell_type": "markdown",
      "source": [
        "## The `not in` Operator\n",
        "\n",
        "The `not in` operator returns the logical **opposite** result of `in`."
      ],
      "metadata": {
        "id": "O-FbEnYe8aLh"
      }
    },
    {
      "cell_type": "code",
      "source": [
        "print('x' not in 'apple')\n",
        "print('wow' not in ['gee wiz', 'gosh golly', 'wow', 'amazing'])"
      ],
      "metadata": {
        "colab": {
          "base_uri": "https://localhost:8080/"
        },
        "id": "SHZqH3798nfX",
        "outputId": "c8e110c4-9ad4-4ab9-fdd5-24e740673857"
      },
      "execution_count": 10,
      "outputs": [
        {
          "output_type": "stream",
          "name": "stdout",
          "text": [
            "True\n",
            "False\n"
          ]
        }
      ]
    },
    {
      "cell_type": "markdown",
      "source": [
        "## The `is` Operator\n",
        "\n",
        "The `is` operator checks for **object identity** and will be `True` if both sides of the expression points to the same object in memory."
      ],
      "metadata": {
        "id": "cpc8PsfbG33m"
      }
    },
    {
      "cell_type": "code",
      "source": [
        "# 'a' and 'b' are equal in value, but they are two different objects in memory\n",
        "a = [1, 2, 3]\n",
        "b = [1, 2, 3]\n",
        "\n",
        "print(a == b)\n",
        "print(a is b)"
      ],
      "metadata": {
        "id": "R3itpwm_Hf4E"
      },
      "execution_count": 14,
      "outputs": []
    },
    {
      "cell_type": "code",
      "source": [
        "# 'b' is assigned to 'a', so they both refer to the exact same object in memory\n",
        "a = [1, 2, 3]\n",
        "b = a\n",
        "\n",
        "print(a == b)\n",
        "print(a is b)"
      ],
      "metadata": {
        "id": "qDqQZOfOHnkK"
      },
      "execution_count": null,
      "outputs": []
    },
    {
      "cell_type": "markdown",
      "source": [
        "## The `is not` Operator\n",
        "\n",
        "The `is not` operator returns the logical **opposite** result of `is`."
      ],
      "metadata": {
        "id": "3KI_neYrJgiX"
      }
    },
    {
      "cell_type": "code",
      "source": [
        "# 'a' and 'b' are two different objects in memory\n",
        "a = [1, 2, 3]\n",
        "b = [1, 2, 3]\n",
        "\n",
        "print(a is not b)"
      ],
      "metadata": {
        "colab": {
          "base_uri": "https://localhost:8080/"
        },
        "id": "v-ARAn7AJysJ",
        "outputId": "a21aed87-1b59-422f-a3d0-511330a22ed1"
      },
      "execution_count": 15,
      "outputs": [
        {
          "output_type": "stream",
          "name": "stdout",
          "text": [
            "True\n"
          ]
        }
      ]
    },
    {
      "cell_type": "markdown",
      "source": [
        "## Boolean Variables\n",
        "\n",
        "It is common practice to give **boolean variables** names that start with `is_`. As **boolean expressions** return a `True` or `False` value, they can be directly stored in a variable."
      ],
      "metadata": {
        "id": "tUgcGnrLNPrb"
      }
    },
    {
      "cell_type": "code",
      "source": [
        "age = 20\n",
        "is_adult = age > 18\n",
        "\n",
        "print(is_adult)\n",
        "print(type(is_adult))"
      ],
      "metadata": {
        "colab": {
          "base_uri": "https://localhost:8080/"
        },
        "id": "WUvBvvceNiMa",
        "outputId": "aab6fb00-dd96-4b04-c6ca-fd4d3fa2a6bb"
      },
      "execution_count": 16,
      "outputs": [
        {
          "output_type": "stream",
          "name": "stdout",
          "text": [
            "True\n",
            "<class 'bool'>\n"
          ]
        }
      ]
    },
    {
      "cell_type": "markdown",
      "source": [
        "## Boolean Functions\n",
        "\n",
        "Functions that return either `True` or `False` are known as **boolean functions**.\n",
        "\n",
        "It is common practice to give **boolean functions** names that start with `is_` to sound like a yes/no question."
      ],
      "metadata": {
        "id": "Hpeg_PGgUVBP"
      }
    },
    {
      "cell_type": "code",
      "source": [
        "def has_vowels(text):\n",
        "  vowels = 'aeiouAEIOU'\n",
        "  for char in text:\n",
        "    if char in vowels:\n",
        "      return True\n",
        "  return False\n",
        "# functions that return values are generally more useful than those that only print results\n",
        "# returned value reuseable: stored in a variable, used in calculations, or passed to other functions\n",
        "\n",
        "if has_vowels(\"everyone\"):\n",
        "  print(\"This word has vowels.\")\n",
        "else:\n",
        "  print(\"This word has no vowels.\")\n",
        "\n",
        "if has_vowels(\"dry\"):\n",
        "  print(\"This word has vowels.\")\n",
        "else:\n",
        "  print(\"This word has no vowels.\")"
      ],
      "metadata": {
        "colab": {
          "base_uri": "https://localhost:8080/"
        },
        "id": "gayASiLPVY02",
        "outputId": "02a3c9a3-7551-4a48-feef-29e9d9c90016"
      },
      "execution_count": 17,
      "outputs": [
        {
          "output_type": "stream",
          "name": "stdout",
          "text": [
            "This word has vowels.\n",
            "This word has no vowels.\n"
          ]
        }
      ]
    },
    {
      "cell_type": "code",
      "source": [
        "# use boolean expressions to omit the \"if\" inside boolean functions\n",
        "def is_divisible(x, y):\n",
        "    return x % y == 0\n",
        "\n",
        "if is_divisible(10, 5):\n",
        "    print(\"Divisible!\")"
      ],
      "metadata": {
        "colab": {
          "base_uri": "https://localhost:8080/"
        },
        "id": "zDOw_fHDZkUq",
        "outputId": "061f0e6b-b938-4ab1-becd-e13ac232763c"
      },
      "execution_count": 18,
      "outputs": [
        {
          "output_type": "stream",
          "name": "stdout",
          "text": [
            "Divisible!\n"
          ]
        }
      ]
    },
    {
      "cell_type": "markdown",
      "source": [
        "## Exercise 1\n",
        "\n",
        "Suppose you wanted to print the sum of `x` and `y` only when both `x` and `y` are positive. Write a block of code to achieve this that uses only one `if` statement."
      ],
      "metadata": {
        "id": "phM8ROP42ptT"
      }
    },
    {
      "cell_type": "code",
      "source": [
        "x = int(input(\"Enter an integer: \"))\n",
        "y = int(input(\"Enter an integer: \"))\n",
        "\n",
        "if x > 0 and y > 0:\n",
        "  print(x + y)"
      ],
      "metadata": {
        "colab": {
          "base_uri": "https://localhost:8080/"
        },
        "id": "a21qOxh421vM",
        "outputId": "649fd38d-6026-4e3a-e679-ab89ee5d9beb"
      },
      "execution_count": 1,
      "outputs": [
        {
          "output_type": "stream",
          "name": "stdout",
          "text": [
            "Enter an integer: 3\n",
            "Enter an integer: 5\n",
            "8\n"
          ]
        }
      ]
    },
    {
      "cell_type": "markdown",
      "source": [
        "## Exercise 2\n",
        "\n",
        "Create a function called `no_punctuation` that receives a string as a parameter, and returns `True` if the string does **not** contain periods (“.”) and does **not** contain commas (“,”). Otherwise, it returns `False`. Try to use only one (or no) if inside your function."
      ],
      "metadata": {
        "id": "hJGCXMLp3M_t"
      }
    },
    {
      "cell_type": "code",
      "source": [
        "def no_punctuation(text):\n",
        "  for char in text:\n",
        "    if char in (\".\", \",\"):\n",
        "      return False\n",
        "  return True\n",
        "\n",
        "print(no_punctuation(\"Hello World\"))\n",
        "print(no_punctuation(\"Hello, World\"))"
      ],
      "metadata": {
        "colab": {
          "base_uri": "https://localhost:8080/"
        },
        "id": "VqHaNJRz3ZLc",
        "outputId": "2b821f38-ffd7-43e0-e058-78d430c20e8b"
      },
      "execution_count": 5,
      "outputs": [
        {
          "output_type": "stream",
          "name": "stdout",
          "text": [
            "True\n",
            "False\n"
          ]
        }
      ]
    },
    {
      "cell_type": "markdown",
      "source": [
        "## Exercise 3\n",
        "\n",
        "The entrance to a football tournament is allowed for ages 15-25 only (including 15 and 25). Write a chained comparison operators to solve this logic. You should have a single `if` statement."
      ],
      "metadata": {
        "id": "eFYQI_1h6EmQ"
      }
    },
    {
      "cell_type": "code",
      "source": [
        "age = int(input(\"What's your age? \"))\n",
        "\n",
        "if 15 <= age <= 25:\n",
        "    print(\"Allowed\")\n",
        "else:\n",
        "    print(\"Not allowed\")"
      ],
      "metadata": {
        "colab": {
          "base_uri": "https://localhost:8080/"
        },
        "id": "pTFd7Dwq6IZR",
        "outputId": "e0856633-b390-462c-e634-f0d15038e403"
      },
      "execution_count": 7,
      "outputs": [
        {
          "output_type": "stream",
          "name": "stdout",
          "text": [
            "What's your age? 17\n",
            "Allowed\n"
          ]
        }
      ]
    },
    {
      "cell_type": "markdown",
      "source": [
        "## Exercise 4\n",
        "\n",
        "Add code to the program that checks that “tomato” is not part of the `fruits` list, and if so — prints “OK!”. Otherwise, it prints “Problem!”."
      ],
      "metadata": {
        "id": "AzscItp08_AH"
      }
    },
    {
      "cell_type": "code",
      "source": [
        "fruits = [\"banana\", \"apple\", \"orange\"]\n",
        "\n",
        "if \"tomato\" not in fruits:\n",
        "  print(\"OK!\")\n",
        "else:\n",
        "  print(\"Problem!\")"
      ],
      "metadata": {
        "colab": {
          "base_uri": "https://localhost:8080/"
        },
        "id": "mEQa9wQcBJ08",
        "outputId": "11c3c431-4c3c-4ec6-f7ed-c1f00ff4a85e"
      },
      "execution_count": 13,
      "outputs": [
        {
          "output_type": "stream",
          "name": "stdout",
          "text": [
            "OK!\n"
          ]
        }
      ]
    },
    {
      "cell_type": "markdown",
      "source": [
        "## Exercise 5\n",
        "\n",
        "Create a function called \"has_underscore\" that receives a string as a parameter, and returns `True` if the string containing an underscore (“_”) character. Else, it returns `False`."
      ],
      "metadata": {
        "id": "r89y-zToLYPp"
      }
    },
    {
      "cell_type": "code",
      "source": [
        "def has_underscore(text):\n",
        "  for char in text:\n",
        "    if char == \"_\":\n",
        "      return True\n",
        "  return False"
      ],
      "metadata": {
        "id": "osrKItVQLjVD"
      },
      "execution_count": null,
      "outputs": []
    },
    {
      "cell_type": "markdown",
      "source": [
        "## Exercise 6\n",
        "\n",
        "Create a boolean variable called `is_large` that will hold `True` only if num is bigger or equal to 100. Don’t use an `if` condition here!"
      ],
      "metadata": {
        "id": "lr5VWNBROUks"
      }
    },
    {
      "cell_type": "code",
      "source": [
        "num = 105\n",
        "is_large = num >= 100"
      ],
      "metadata": {
        "id": "tmENtLOEOcMa"
      },
      "execution_count": null,
      "outputs": []
    },
    {
      "cell_type": "markdown",
      "source": [
        "## Exercise 7\n",
        "\n",
        "Create a boolean variable called `has_space` that will hold `True` only if the string text has a space character in it."
      ],
      "metadata": {
        "id": "BrymnbySOpAx"
      }
    },
    {
      "cell_type": "code",
      "source": [
        "text = \"Hello, World!\"\n",
        "has_space = \" \" in text"
      ],
      "metadata": {
        "id": "60wVjb1yOuL7"
      },
      "execution_count": null,
      "outputs": []
    },
    {
      "cell_type": "markdown",
      "source": [
        "## Exercise 8\n",
        "\n",
        "Create a function called `is_substring` that receives 2 strings as parameters, and returns `True` if the first string is a substring of the second one, or `False` otherwise. Try to not use conditions."
      ],
      "metadata": {
        "id": "C11iPxA1Z65v"
      }
    },
    {
      "cell_type": "code",
      "source": [
        "def is_substring(text1, text2):\n",
        "  return text1 in text2\n",
        "\n",
        "if is_substring(\"Program\", \"Python Programming\"):\n",
        "  print(\"Yes, it is a substring.\")\n",
        "else:\n",
        "  print(\"No, it's not a substring.\")\n",
        "\n",
        "if is_substring(\"Java\", \"Python Programming\"):\n",
        "  print(\"Yes, it is a substring.\")\n",
        "else:\n",
        "  print(\"No, it's not a substring.\")"
      ],
      "metadata": {
        "colab": {
          "base_uri": "https://localhost:8080/"
        },
        "id": "4B3PXf85aCwz",
        "outputId": "84e4f999-a5b3-4ae8-ae53-a0f132fdda5c"
      },
      "execution_count": 21,
      "outputs": [
        {
          "output_type": "stream",
          "name": "stdout",
          "text": [
            "Yes, it is a substring.\n",
            "No, it's not a substring.\n"
          ]
        }
      ]
    },
    {
      "cell_type": "markdown",
      "source": [
        "## Exercise 9\n",
        "\n",
        "A valid website domain is a domain that ends with “.com” or “.net”. Write a function which is given a domain string (like “amazon.com”), and returns `True` if it’s a valid domain, or `False` if not. Try to implement the function in a single line, without if."
      ],
      "metadata": {
        "id": "bdV14Ke0bSZ1"
      }
    },
    {
      "cell_type": "code",
      "source": [
        "def valid_domain(domain):\n",
        "  return \".com\" == domain[-4:] or \".net\" == domain[-4:]\n",
        "\n",
        "if valid_domain(\"amazon.com\"):\n",
        "  print(\"It is a valid domain.\")\n",
        "else:\n",
        "  print(\"It is not a valid domain.\")\n",
        "\n",
        "if valid_domain(\"amazon.de\"):\n",
        "  print(\"It is a valid domain.\")\n",
        "else:\n",
        "  print(\"It is not a valid domain.\")"
      ],
      "metadata": {
        "colab": {
          "base_uri": "https://localhost:8080/"
        },
        "id": "8FMZ09rabYIr",
        "outputId": "cc3c498c-7f1b-4c30-b076-92f643b5ccd3"
      },
      "execution_count": 26,
      "outputs": [
        {
          "output_type": "stream",
          "name": "stdout",
          "text": [
            "It is a valid domain.\n",
            "It is not a valid domain.\n"
          ]
        }
      ]
    }
  ]
}
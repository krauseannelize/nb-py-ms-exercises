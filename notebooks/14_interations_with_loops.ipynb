{
  "nbformat": 4,
  "nbformat_minor": 0,
  "metadata": {
    "colab": {
      "provenance": [],
      "authorship_tag": "ABX9TyPQgkwaBl9S+YbvpnPpK0/T",
      "include_colab_link": true
    },
    "kernelspec": {
      "name": "python3",
      "display_name": "Python 3"
    },
    "language_info": {
      "name": "python"
    }
  },
  "cells": [
    {
      "cell_type": "markdown",
      "metadata": {
        "id": "view-in-github",
        "colab_type": "text"
      },
      "source": [
        "<a href=\"https://colab.research.google.com/github/krauseannelize/nb-py-ms-exercises/blob/main/notebooks/14_interations_with_loops.ipynb\" target=\"_parent\"><img src=\"https://colab.research.google.com/assets/colab-badge.svg\" alt=\"Open In Colab\"/></a>"
      ]
    },
    {
      "cell_type": "markdown",
      "source": [
        "# 14 | Iterations with Loops\n",
        "\n",
        "| Loop | Purpose | When to Use |\n",
        "| :--- | :--- | :--- |\n",
        "| `for` | \tTo iterate over each item in a sequence or collection. | When you have a definite number of iterations (e.g., for every item in a list). |\n",
        "| `while` | To repeatedly execute a block of code as long as a condition is true. | When you have an indefinite number of iterations (e.g., loop until a user enters 'quit'). |\n",
        "\n",
        "## The `for` Loop"
      ],
      "metadata": {
        "id": "5qYwuVW3jSlb"
      }
    },
    {
      "cell_type": "code",
      "execution_count": 11,
      "metadata": {
        "colab": {
          "base_uri": "https://localhost:8080/"
        },
        "id": "gc9ujtTTjJVy",
        "outputId": "df6cece6-5f59-4efc-d7eb-420a0df6b83d"
      },
      "outputs": [
        {
          "output_type": "stream",
          "name": "stdout",
          "text": [
            "H\n",
            "e\n",
            "l\n",
            "l\n",
            "o\n",
            "--\n",
            "5\n"
          ]
        }
      ],
      "source": [
        "# for loop iteration over a string and summation\n",
        "name = 'Hello'\n",
        "x = 0\n",
        "\n",
        "for i in name:\n",
        "  print(i)\n",
        "  x = x+1\n",
        "\n",
        "print(\"--\")\n",
        "print(x)"
      ]
    },
    {
      "cell_type": "code",
      "source": [
        "# for loop iteration over a list and summation\n",
        "team = [\"Alfa\", \"Bravo\", \"Charlie\"]\n",
        "x = 0\n",
        "\n",
        "for i in team:\n",
        "  print(f\"Welcome {i}!\")\n",
        "  x = x+1\n",
        "\n",
        "print(f\"There are {x} members in the team.\")"
      ],
      "metadata": {
        "colab": {
          "base_uri": "https://localhost:8080/"
        },
        "id": "rfkjdAialFuj",
        "outputId": "d0373fd1-dd3d-4564-e0d1-d08794cbf02a"
      },
      "execution_count": 12,
      "outputs": [
        {
          "output_type": "stream",
          "name": "stdout",
          "text": [
            "Welcome Alfa!\n",
            "Welcome Bravo!\n",
            "Welcome Charlie!\n",
            "There are 3 members in the team.\n"
          ]
        }
      ]
    },
    {
      "cell_type": "code",
      "source": [
        "# finding the largest value in a list\n",
        "numbers = [3, 17, 67, 11, 30]\n",
        "largest = numbers[0]  # Start with the first element as the largest\n",
        "\n",
        "for num in numbers:\n",
        "  if num > largest:\n",
        "    largest = num\n",
        "\n",
        "print(f\"The largest number is: {largest}\")\n",
        "print(f\"Confirm using max(numbers): {max(numbers)}\")"
      ],
      "metadata": {
        "colab": {
          "base_uri": "https://localhost:8080/"
        },
        "id": "H2bZGNhGmP5a",
        "outputId": "4880fa92-ef2f-4fc0-e2fe-648a5aa0f3c6"
      },
      "execution_count": 14,
      "outputs": [
        {
          "output_type": "stream",
          "name": "stdout",
          "text": [
            "The largest number is: 67\n",
            "Confirm using max(numbers): 67\n"
          ]
        }
      ]
    },
    {
      "cell_type": "markdown",
      "source": [
        "## The `range()` Function\n",
        "\n",
        "The range() function generates a sequence of numbers using at least one of the parameters:\n",
        "\n",
        "- `start` indicates the beginning of the sequence, is **inclusive** and defaults to `0`.\n",
        "- `stop` indicates the end of the sequence, is **exclusive** and has `no default` value.\n",
        "- `step` indicates the increments in the range. It is `1` by default and a negative steps allows you to count backwards."
      ],
      "metadata": {
        "id": "h-uwszFdokPf"
      }
    },
    {
      "cell_type": "code",
      "source": [
        "# range(stop) - start: 0; stop: 5; step 1\n",
        "# note stop is excluded\n",
        "for x in range(5):\n",
        "  print(x)"
      ],
      "metadata": {
        "colab": {
          "base_uri": "https://localhost:8080/"
        },
        "id": "F1A_nxCAqoOV",
        "outputId": "3a0b3276-058f-4fc0-b21d-90e0ed693afe"
      },
      "execution_count": 15,
      "outputs": [
        {
          "output_type": "stream",
          "name": "stdout",
          "text": [
            "0\n",
            "1\n",
            "2\n",
            "3\n",
            "4\n"
          ]
        }
      ]
    },
    {
      "cell_type": "code",
      "source": [
        "# range(start, stop) - start: 5; stop: 8; step: 1\n",
        "# note stop was excluded\n",
        "for x in range(5, 8):\n",
        "  print(x)"
      ],
      "metadata": {
        "colab": {
          "base_uri": "https://localhost:8080/"
        },
        "id": "AmvTTdB8rBTy",
        "outputId": "7ebd4ac9-52b0-49f8-bb15-f1ccac0645bf"
      },
      "execution_count": 18,
      "outputs": [
        {
          "output_type": "stream",
          "name": "stdout",
          "text": [
            "5\n",
            "6\n",
            "7\n"
          ]
        }
      ]
    },
    {
      "cell_type": "code",
      "source": [
        "# range(start, stop, step) - start: 3; stop: 22; step: 3\n",
        "for x in range(3, 16, 3):\n",
        "  print(x)"
      ],
      "metadata": {
        "colab": {
          "base_uri": "https://localhost:8080/"
        },
        "id": "iVJkZ_vArubS",
        "outputId": "973f709a-98ad-4444-8fd6-109f899d3b73"
      },
      "execution_count": 20,
      "outputs": [
        {
          "output_type": "stream",
          "name": "stdout",
          "text": [
            "3\n",
            "6\n",
            "9\n",
            "12\n",
            "15\n"
          ]
        }
      ]
    },
    {
      "cell_type": "code",
      "source": [
        "# print the sum of even numbers from 1 to 100\n",
        "sum_even = 0\n",
        "for num in range(1,101):\n",
        "  if num % 2 == 0:\n",
        "    sum_even += num\n",
        "\n",
        "print(f\"Sum of numbers from 1 to 100 is: {sum_even}\")"
      ],
      "metadata": {
        "colab": {
          "base_uri": "https://localhost:8080/"
        },
        "id": "fXKQHIAYsRVe",
        "outputId": "843c8628-5172-4ad8-e9e7-5c5c1957d149"
      },
      "execution_count": 21,
      "outputs": [
        {
          "output_type": "stream",
          "name": "stdout",
          "text": [
            "Sum of numbers from 1 to 100 is: 2550\n"
          ]
        }
      ]
    },
    {
      "cell_type": "markdown",
      "source": [
        "## The `while` Loop\n",
        "\n",
        "A `while` loop will continue to execute a block of code as long as a condition remains true. It is important to update a variable inside the loop to ensure the condition will eventually become false, preventing an **infinite loop**."
      ],
      "metadata": {
        "id": "5XfNT91VsYvD"
      }
    },
    {
      "cell_type": "code",
      "source": [
        "# count numbers between 0 and 3 using a while loop\n",
        "count = 0 #base value\n",
        "\n",
        "while count < 3: # condition to be met\n",
        "  print('count:', count)\n",
        "  count +=1 # incremental count by 1"
      ],
      "metadata": {
        "colab": {
          "base_uri": "https://localhost:8080/"
        },
        "id": "r99pVPY2spnw",
        "outputId": "9076e6cd-bc10-4d15-960c-06065aa6d967"
      },
      "execution_count": 22,
      "outputs": [
        {
          "output_type": "stream",
          "name": "stdout",
          "text": [
            "count: 0\n",
            "count: 1\n",
            "count: 2\n"
          ]
        }
      ]
    },
    {
      "cell_type": "code",
      "source": [
        "# python guessing game\n",
        "import random  #importing a module to select random number\n",
        "\n",
        "target = random.randint(1,10) #sequence between 1 and 10\n",
        "guess = 0 # base guess\n",
        "attempt = 0 # base attempt\n",
        "\n",
        "while guess != target: # condition to be met\n",
        "  guess = int(input('Guess a number between 1 and 10: '))\n",
        "  attempt +=1 # increment for every guess\n",
        "  if guess < target: # check below target\n",
        "    print('The number is too low.')\n",
        "  elif guess > target: # check above target\n",
        "    print('The number is too high.')\n",
        "print(f'Correct! You have guessed the right number in {attempt} attempts.')"
      ],
      "metadata": {
        "colab": {
          "base_uri": "https://localhost:8080/"
        },
        "id": "hP1IZC5XtBEM",
        "outputId": "8dd1b219-e8f2-49f4-be2b-019515eb9f78"
      },
      "execution_count": 23,
      "outputs": [
        {
          "output_type": "stream",
          "name": "stdout",
          "text": [
            "Guess a number between 1 and 10: 3\n",
            "The number is too low.\n",
            "Guess a number between 1 and 10: 6\n",
            "Correct! You have guessed the right number in 2 attempts.\n"
          ]
        }
      ]
    },
    {
      "cell_type": "markdown",
      "source": [
        "## Loop Control Statements\n",
        "\n",
        "These statements allow you to control the flow of a loop from within its body.\n",
        "\n",
        "- `break`: Exits the loop immediately.\n",
        "- `continue`: Skips the rest of the current iteration and moves to the next one.\n",
        "- `pass`: A placeholder that does nothing. It is used to create an empty code block."
      ],
      "metadata": {
        "id": "KrXVXakMuBVU"
      }
    },
    {
      "cell_type": "code",
      "source": [
        "# Using break to exit the loop early\n",
        "numbers = [20, 12, 3, 13, 53]\n",
        "for x in numbers:\n",
        "  if x == 13:\n",
        "    print('Found 13, exiting loop...')\n",
        "    break\n",
        "  print(x)"
      ],
      "metadata": {
        "colab": {
          "base_uri": "https://localhost:8080/"
        },
        "id": "zqwHTTj6uds8",
        "outputId": "7dd65a35-1a4c-441d-f225-5d989f1794d4"
      },
      "execution_count": 25,
      "outputs": [
        {
          "output_type": "stream",
          "name": "stdout",
          "text": [
            "20\n",
            "12\n",
            "3\n",
            "Found 13, exiting loop...\n"
          ]
        }
      ]
    },
    {
      "cell_type": "code",
      "source": [
        "# Using continue to skip an iteration: 3 skipped\n",
        "for i in range(5):\n",
        "  if i == 3:\n",
        "    continue\n",
        "  print(i)"
      ],
      "metadata": {
        "colab": {
          "base_uri": "https://localhost:8080/"
        },
        "id": "e9yUnzywur73",
        "outputId": "5ccf57c6-ae54-4a84-aabf-8dac58c7526d"
      },
      "execution_count": 32,
      "outputs": [
        {
          "output_type": "stream",
          "name": "stdout",
          "text": [
            "0\n",
            "1\n",
            "2\n",
            "4\n"
          ]
        }
      ]
    },
    {
      "cell_type": "code",
      "source": [
        "# Using pass as a placeholder: does nothing\n",
        "for i in range(5):\n",
        "  if i == 3:\n",
        "    pass\n",
        "  print(i)"
      ],
      "metadata": {
        "colab": {
          "base_uri": "https://localhost:8080/"
        },
        "id": "yY1TCgtTu5jd",
        "outputId": "4519f300-386f-40de-f5b4-bffeb938c1cc"
      },
      "execution_count": 33,
      "outputs": [
        {
          "output_type": "stream",
          "name": "stdout",
          "text": [
            "0\n",
            "1\n",
            "2\n",
            "3\n",
            "4\n"
          ]
        }
      ]
    },
    {
      "cell_type": "markdown",
      "source": [
        "## Nested Loops"
      ],
      "metadata": {
        "id": "D7bRXJyounmK"
      }
    },
    {
      "cell_type": "code",
      "source": [
        "# printing a multiplicaton table\n",
        "for i in range(1,6):\n",
        "  for j in range(1,6):\n",
        "    print(f\"{i*j:4}\", end = \"\") # minimum width set to 4 for alignment with :4\n",
        "  print()  # move to the next line after each row"
      ],
      "metadata": {
        "colab": {
          "base_uri": "https://localhost:8080/"
        },
        "id": "W3Snc_y2vjaD",
        "outputId": "fe95e023-1d59-457d-bcf3-c8df963e957d"
      },
      "execution_count": 34,
      "outputs": [
        {
          "output_type": "stream",
          "name": "stdout",
          "text": [
            "   1   2   3   4   5\n",
            "   2   4   6   8  10\n",
            "   3   6   9  12  15\n",
            "   4   8  12  16  20\n",
            "   5  10  15  20  25\n"
          ]
        }
      ]
    },
    {
      "cell_type": "markdown",
      "source": [
        "## Exercise 1\n",
        "\n",
        "Write a function that takes a string as an input and returns a new string where the order of words is reversed. Assume words are seperated by spaces.\n",
        "\n",
        "- reverse_words('This is a sentence')\n",
        "- should return ('sentence a is this')"
      ],
      "metadata": {
        "id": "tmOa0qAXxd_u"
      }
    },
    {
      "cell_type": "code",
      "source": [
        "def reverse_sentence(sentence):\n",
        "  word_list = sentence.split()\n",
        "  list_length = len(word_list)\n",
        "  reversed_words = \"\"\n",
        "\n",
        "  for i in range(list_length):\n",
        "    reversed_words += word_list[list_length - 1 - i] + \" \"\n",
        "  return reversed_words.strip().capitalize()\n",
        "\n",
        "print(reverse_sentence(\"This is a sentence\"))\n",
        "print(reverse_sentence(\"Hello World\"))"
      ],
      "metadata": {
        "colab": {
          "base_uri": "https://localhost:8080/"
        },
        "id": "RZUNa8sBxx-B",
        "outputId": "fe24280e-ab18-44bd-a613-04e37da5d8ee"
      },
      "execution_count": 41,
      "outputs": [
        {
          "output_type": "stream",
          "name": "stdout",
          "text": [
            "Sentence a is this\n",
            "World hello\n"
          ]
        }
      ]
    },
    {
      "cell_type": "markdown",
      "source": [
        "## Exercise 2\n",
        "\n",
        "Write a function that takes a list of numbers as input and returns a new list containing only the positive even numbers from the original list:\n",
        "\n",
        "- Use a while loop and the continue statements.\n",
        "- Negative even numbers should be skipped."
      ],
      "metadata": {
        "id": "sEBCrcptxiLW"
      }
    },
    {
      "cell_type": "code",
      "source": [
        "num_list = [23, 45, 36, 12, 7, 88]\n",
        "\n",
        "def even_numbers(list):\n",
        "  even_list = []\n",
        "  i = 0\n",
        "\n",
        "  while i < len(list):\n",
        "    num = list[i]\n",
        "    if num < 0:\n",
        "      i += 1\n",
        "      continue\n",
        "\n",
        "    if num % 2 == 0:\n",
        "      even_list.append(num)\n",
        "      i += 1\n",
        "    else:\n",
        "      i += 1\n",
        "  return even_list\n",
        "\n",
        "print(even_numbers(num_list))"
      ],
      "metadata": {
        "colab": {
          "base_uri": "https://localhost:8080/"
        },
        "id": "TNBzFLYEzhtd",
        "outputId": "1de76e24-283c-4a74-ecca-c91139356958"
      },
      "execution_count": 45,
      "outputs": [
        {
          "output_type": "stream",
          "name": "stdout",
          "text": [
            "[36, 12, 88]\n"
          ]
        }
      ]
    }
  ]
}
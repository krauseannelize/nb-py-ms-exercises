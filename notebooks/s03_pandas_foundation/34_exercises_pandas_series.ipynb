{
  "nbformat": 4,
  "nbformat_minor": 0,
  "metadata": {
    "colab": {
      "provenance": [],
      "authorship_tag": "ABX9TyPgO92Dt05U9czW321srUxk",
      "include_colab_link": true
    },
    "kernelspec": {
      "name": "python3",
      "display_name": "Python 3"
    },
    "language_info": {
      "name": "python"
    }
  },
  "cells": [
    {
      "cell_type": "markdown",
      "metadata": {
        "id": "view-in-github",
        "colab_type": "text"
      },
      "source": [
        "<a href=\"https://colab.research.google.com/github/krauseannelize/nb-py-ms-exercises/blob/sprint03/notebooks/s03_pandas_foundation/34_exercises_pandas_series.ipynb\" target=\"_parent\"><img src=\"https://colab.research.google.com/assets/colab-badge.svg\" alt=\"Open In Colab\"/></a>"
      ]
    },
    {
      "cell_type": "markdown",
      "source": [
        "# 34 | Exercises - Introduction to `Pandas` Series\n",
        "\n",
        "## What is `Pandas`\n",
        "\n",
        "`Pandas` is a open-source **Python library** that provides high-performing, user-friendly data structures designed to make working with structured data intuitive and efficient.\n",
        "\n",
        "It is built on top of another fundamental Python library called `Numpy`, which offers powerful array objects and mathematical functions. `Pandas` take `NumPy` arrays and add the concept of **labeled data**, making it easier to work with datasets that have meaningful row and column names."
      ],
      "metadata": {
        "id": "eP0pRDP95n-J"
      }
    },
    {
      "cell_type": "markdown",
      "source": [
        "## Why `Pandas`?\n",
        "\n",
        "`Pandas` empowers you to spend less time doing:\n",
        "\n",
        "- Data cleaning and preparation\n",
        "- Data exploration and analysis\n",
        "- Data manipulation\n",
        "- Working with different data formats"
      ],
      "metadata": {
        "id": "SssmFfDu7cw1"
      }
    },
    {
      "cell_type": "markdown",
      "source": [
        "## Installing `Pandas`\n",
        "\n",
        "`Pandas` is preinstalled in Google Colab and many Python distributions. However, you can use Python's package installed `pip` to install it if needed:\n",
        "\n",
        "```python\n",
        "!pip install pandas\n",
        "```\n",
        "\n",
        "## Importing `Pandas` & `NumPy` library"
      ],
      "metadata": {
        "id": "qJ2LlS-n8M6g"
      }
    },
    {
      "cell_type": "code",
      "source": [
        "import pandas as pd\n",
        "import numpy as np"
      ],
      "metadata": {
        "id": "VngGObFh7cPI"
      },
      "execution_count": 1,
      "outputs": []
    },
    {
      "cell_type": "markdown",
      "source": [
        "You can check your `Pandas` version should you need to verify that it is installed or check that you have the appropriate version as follows:"
      ],
      "metadata": {
        "id": "Vs6zvIj69yOE"
      }
    },
    {
      "cell_type": "code",
      "execution_count": 3,
      "metadata": {
        "colab": {
          "base_uri": "https://localhost:8080/"
        },
        "id": "aUrPpYVN5diH",
        "outputId": "d6d2c526-fcaa-4257-a6e0-d688c2c2338e"
      },
      "outputs": [
        {
          "output_type": "stream",
          "name": "stdout",
          "text": [
            "2.2.2\n"
          ]
        }
      ],
      "source": [
        "print(pd.__version__)"
      ]
    },
    {
      "cell_type": "markdown",
      "source": [
        "## `Pandas` Series\n",
        "\n",
        "A `Pandas` **Series** is like a 1D array with labels. As shown below, a **Series** consists of:\n",
        "\n",
        "- an **index** (left column)\n",
        "- **values** (right column)"
      ],
      "metadata": {
        "id": "qAlSXOUM-NFe"
      }
    },
    {
      "cell_type": "code",
      "source": [
        "example_series = pd.Series(data=[100, 200, 300, 400, 500], index=['A', 'B', 'C', 'D', 'E'])\n",
        "print(example_series)"
      ],
      "metadata": {
        "colab": {
          "base_uri": "https://localhost:8080/"
        },
        "id": "Q4rw5cbW_QCn",
        "outputId": "ed16afb1-21a8-46c6-d7a1-337e568a90cc"
      },
      "execution_count": 5,
      "outputs": [
        {
          "output_type": "stream",
          "name": "stdout",
          "text": [
            "A    100\n",
            "B    200\n",
            "C    300\n",
            "D    400\n",
            "E    500\n",
            "dtype: int64\n"
          ]
        }
      ]
    },
    {
      "cell_type": "markdown",
      "source": [
        "**Series** over some _key advantages_ over lists:\n",
        "\n",
        "- **label-based access** are more readable and less error-prone\n",
        "- **data alignment** based on index labels when performing operations on multiple **Series**\n",
        "- **integration** with DataFrames\n",
        "- **optimized** for Data Analysis"
      ],
      "metadata": {
        "id": "FD2AYQUw_96D"
      }
    },
    {
      "cell_type": "markdown",
      "source": [
        "## Creating `Pandas` Series\n",
        "\n",
        "There are several ways to create a **Series**:\n",
        "\n",
        "- from Python Lists\n",
        "- from `NumPy` Arrays\n",
        "- from Python Dictionaries"
      ],
      "metadata": {
        "id": "nLbrT2-PGFre"
      }
    },
    {
      "cell_type": "code",
      "source": [
        "# convert a List to a Series - default integer index assigned\n",
        "name_list = ['Adam', 'Bob', 'Charlie', 'David', 'Eve']\n",
        "name_series = pd.Series(name_list)\n",
        "print(name_series)"
      ],
      "metadata": {
        "colab": {
          "base_uri": "https://localhost:8080/"
        },
        "id": "I6r1OMDRGX_E",
        "outputId": "7b278a6e-e528-4a5d-fab3-3394f3a5f24b"
      },
      "execution_count": 6,
      "outputs": [
        {
          "output_type": "stream",
          "name": "stdout",
          "text": [
            "0       Adam\n",
            "1        Bob\n",
            "2    Charlie\n",
            "3      David\n",
            "4        Eve\n",
            "dtype: object\n"
          ]
        }
      ]
    },
    {
      "cell_type": "code",
      "source": [
        "# convert a NumPy Array to a Series\n",
        "age_array = np.array([25, 30, 35, 40, 45])\n",
        "age_series = pd.Series(age_array)\n",
        "print(age_series)"
      ],
      "metadata": {
        "colab": {
          "base_uri": "https://localhost:8080/"
        },
        "id": "U8vVJ-p-GxnR",
        "outputId": "c5da7816-7aa0-4681-9f76-138d6dc52087"
      },
      "execution_count": 7,
      "outputs": [
        {
          "output_type": "stream",
          "name": "stdout",
          "text": [
            "0    25\n",
            "1    30\n",
            "2    35\n",
            "3    40\n",
            "4    45\n",
            "dtype: int64\n"
          ]
        }
      ]
    },
    {
      "cell_type": "code",
      "source": [
        "# convert a Dictionary to a Series\n",
        "gender_dict = {'Adam': 'Male', 'Bob': 'Male', 'Charlie': 'Female', 'David': 'Male', 'Eve': 'Female'}\n",
        "gender_series = pd.Series(gender_dict)\n",
        "print(gender_series)"
      ],
      "metadata": {
        "colab": {
          "base_uri": "https://localhost:8080/"
        },
        "id": "qwpy5porG-EN",
        "outputId": "48fed7d9-6ec4-4718-9425-a0dbe6485b43"
      },
      "execution_count": 8,
      "outputs": [
        {
          "output_type": "stream",
          "name": "stdout",
          "text": [
            "Adam         Male\n",
            "Bob          Male\n",
            "Charlie    Female\n",
            "David        Male\n",
            "Eve        Female\n",
            "dtype: object\n"
          ]
        }
      ]
    },
    {
      "cell_type": "markdown",
      "source": [
        "## Working with the Series Index\n",
        "\n",
        "When you don't explicitly provide an index when creating a **Series**, `Pandas` automatically assigns a default integer index starting from zero. However, **custom indices** can be very powerful, as they add meaningful labels to your data, improving both readability and ease of use. Different data types can be used for indices:\n",
        "\n",
        "- **Strings**: most common for descriptive labels\n",
        "- **Dates**: essential for time series data\n",
        "- **Numbers**: can be useful in certain situations"
      ],
      "metadata": {
        "id": "VnEhnU6-LRBk"
      }
    },
    {
      "cell_type": "code",
      "source": [
        "# creating a Series using dates as index\n",
        "date_list = ['2025-01-31', '2025-02-28', '2025-03-31']\n",
        "q1_sales = [10700, 20500, 33600]\n",
        "q1_series = pd.Series(data=q1_sales, index=date_list)\n",
        "print(q1_series)"
      ],
      "metadata": {
        "colab": {
          "base_uri": "https://localhost:8080/"
        },
        "id": "85A08VaLNW7M",
        "outputId": "05e8746d-dcc5-4bcd-d68c-27cbc426acf7"
      },
      "execution_count": 15,
      "outputs": [
        {
          "output_type": "stream",
          "name": "stdout",
          "text": [
            "2025-01-31    10700\n",
            "2025-02-28    20500\n",
            "2025-03-31    33600\n",
            "dtype: int64\n"
          ]
        }
      ]
    },
    {
      "cell_type": "code",
      "source": [
        "# creating a Series with custom string labels as index\n",
        "sku_list = ['NIK-RN4-10W', 'ADI-PQ7-12W', 'SKE-BB3-14W']\n",
        "product_inventory = [100, 200, 300]\n",
        "inventory_series = pd.Series(data=product_inventory, index=sku_list)\n",
        "print(inventory_series)"
      ],
      "metadata": {
        "colab": {
          "base_uri": "https://localhost:8080/"
        },
        "id": "6WQyznkmOIuT",
        "outputId": "ea71f233-ece9-4bbd-8717-b55b0cefcdb7"
      },
      "execution_count": 16,
      "outputs": [
        {
          "output_type": "stream",
          "name": "stdout",
          "text": [
            "NIK-RN4-10W    100\n",
            "ADI-PQ7-12W    200\n",
            "SKE-BB3-14W    300\n",
            "dtype: int64\n"
          ]
        }
      ]
    },
    {
      "cell_type": "markdown",
      "source": [
        "## Accessing and Manipulating Series Data\n",
        "\n",
        "`Pandas` Series offers flexible ways to work with data by customizing and interacting with its index. You can **rename** index labels to improve clarity, set meaningful indices for easier lookup, and reset them when needed. Series also supports both label-based and integer-based access, making data manipulation intuitive."
      ],
      "metadata": {
        "id": "J55tuU0AQ_X1"
      }
    },
    {
      "cell_type": "code",
      "source": [
        "# creating a Series with custom string labels as index\n",
        "fruit_series = pd.Series(data=[10, 20, 30], index=['Apple', 'Banana', 'Cherry'])\n",
        "print(f\"The original Series:\\n{fruit_series}\")\n",
        "new_index = {'Apple': 'APP-RED-SM', 'Banana': 'BAN-YEL-MD', 'Cherry': 'CHR-RED-LG'}\n",
        "renamed_series = fruit_series.rename(index=new_index)\n",
        "print(f\"The renamed Series:\\n{renamed_series}\")"
      ],
      "metadata": {
        "colab": {
          "base_uri": "https://localhost:8080/"
        },
        "id": "XwEvjL3rR8Wo",
        "outputId": "80097037-9a1f-4e11-fd50-5cd7fd9d296b"
      },
      "execution_count": 18,
      "outputs": [
        {
          "output_type": "stream",
          "name": "stdout",
          "text": [
            "The original Series:\n",
            "Apple     10\n",
            "Banana    20\n",
            "Cherry    30\n",
            "dtype: int64\n",
            "The renamed Series:\n",
            "APP-RED-SM    10\n",
            "BAN-YEL-MD    20\n",
            "CHR-RED-LG    30\n",
            "dtype: int64\n"
          ]
        }
      ]
    },
    {
      "cell_type": "code",
      "source": [
        "# Creating a dictionary containing lists of fruit names and their sales\n",
        "fruit1 = {'fruit': ['Apple', 'Banana', 'Orange'], 'sales': [150, 120, 100]}\n",
        "\n",
        "# When converted directly to a Series, the dictionary keys ('fruit' and 'sales')\n",
        "# become index labels, and values (lists) become the data\n",
        "series_direct = pd.Series(fruit1)\n",
        "print(f\"Direct conversion without index assignment:\\n{series_direct}\")\n",
        "\n",
        "# Creating a Series using 'sales' list as data and 'fruit' list as custom index labels\n",
        "fruit2 = {'fruit': ['Apple', 'Banana', 'Orange'], 'sales': [150, 120, 100]}\n",
        "series_indexed = pd.Series(data=fruit2['sales'], index=fruit2['fruit'])\n",
        "print(f\"Conversion with index assignment:\\n{series_indexed}\")\n"
      ],
      "metadata": {
        "colab": {
          "base_uri": "https://localhost:8080/"
        },
        "id": "1hZAjhxSVD9R",
        "outputId": "ed3fd092-8db7-48b5-993c-5f0b4d99cb3a"
      },
      "execution_count": 23,
      "outputs": [
        {
          "output_type": "stream",
          "name": "stdout",
          "text": [
            "Direct conversion without index assignment:\n",
            "fruit    [Apple, Banana, Orange]\n",
            "sales            [150, 120, 100]\n",
            "dtype: object\n",
            "Conversion with index assignment:\n",
            "Apple     150\n",
            "Banana    120\n",
            "Orange    100\n",
            "dtype: int64\n"
          ]
        }
      ]
    },
    {
      "cell_type": "code",
      "source": [
        "# Creating a dictionary containing lists of fruit names and their sales\n",
        "fruit3 = {'fruit': ['Apple', 'Banana', 'Orange'], 'sales':[150,120,100]}\n",
        "\n",
        "# Creating a Series using 'sales' list as data and 'fruit' list as custom index labels\n",
        "fruit_series = pd.Series(data=fruit3['sales'], index=fruit3['fruit'])\n",
        "print(f\"Original Series:\\n{series_indexed}\")\n",
        "\n",
        "# Reset index to default integer index\n",
        "reset_series = fruit_series.reset_index()\n",
        "print(f\"Series with reset index:\\n{reset_series}\")"
      ],
      "metadata": {
        "colab": {
          "base_uri": "https://localhost:8080/"
        },
        "id": "_a9B7YTEXX9X",
        "outputId": "acfbf2b2-c846-4c38-b0d3-bf754d61d232"
      },
      "execution_count": 25,
      "outputs": [
        {
          "output_type": "stream",
          "name": "stdout",
          "text": [
            "Original Series:\n",
            "Apple     150\n",
            "Banana    120\n",
            "Orange    100\n",
            "dtype: int64\n",
            "Series with reset index:\n",
            "    index    0\n",
            "0   Apple  150\n",
            "1  Banana  120\n",
            "2  Orange  100\n"
          ]
        }
      ]
    },
    {
      "cell_type": "markdown",
      "source": [
        "⚠️ Accessing **Series** elements using integer keys as shown below is being deprecated. In future versions of `Pandas`, integer keys will be treated as labels, not positions. To avoid confusion, use `.iloc` for position-based access and `.loc` for label-based access."
      ],
      "metadata": {
        "id": "KkU0tuK5aaNJ"
      }
    },
    {
      "cell_type": "code",
      "source": [
        "# retrieve values using index number\n",
        "print(series_indexed[1])\n",
        "\n",
        "# retrieve values using index label\n",
        "print(series_indexed[\"Banana\"])\n"
      ],
      "metadata": {
        "colab": {
          "base_uri": "https://localhost:8080/"
        },
        "id": "1R9z7B1tY6Sm",
        "outputId": "442ac42f-2cb9-495a-ded8-8a34699b4a59"
      },
      "execution_count": 28,
      "outputs": [
        {
          "output_type": "stream",
          "name": "stdout",
          "text": [
            "120\n",
            "120\n"
          ]
        },
        {
          "output_type": "stream",
          "name": "stderr",
          "text": [
            "/tmp/ipython-input-371036853.py:2: FutureWarning: Series.__getitem__ treating keys as positions is deprecated. In a future version, integer keys will always be treated as labels (consistent with DataFrame behavior). To access a value by position, use `ser.iloc[pos]`\n",
            "  print(series_indexed[1])\n"
          ]
        }
      ]
    },
    {
      "cell_type": "code",
      "source": [
        "# accessing an array of the Series values using values\n",
        "print(series_indexed.values)\n",
        "\n",
        "# accessing an array of the Series index labels using index\n",
        "print(series_indexed.index)"
      ],
      "metadata": {
        "colab": {
          "base_uri": "https://localhost:8080/"
        },
        "id": "bGadGMiWe0AZ",
        "outputId": "a241cbe0-4af0-46cf-b53b-f8ef0f3b4e47"
      },
      "execution_count": 29,
      "outputs": [
        {
          "output_type": "stream",
          "name": "stdout",
          "text": [
            "[150 120 100]\n",
            "Index(['Apple', 'Banana', 'Orange'], dtype='object')\n"
          ]
        }
      ]
    },
    {
      "cell_type": "markdown",
      "source": [
        "## What is `NumPy`?\n",
        "\n",
        "`NumPy` is a fundamental Python library, which offers powerful array objects and mathematical functions.\n",
        "\n",
        "- **Arrays**: Similar to Python lists, but optimized for fast numerical operations and memory efficiency.\n",
        "- **Math Made Easy**: Includes built-in functions for arithmetic, statistics, trigonometry, and linear algebra.\n",
        "- **Multidimensional**: Supports arrays of any dimension—1D, 2D (grids), 3D (cubes), and beyond.\n",
        "- **Foundation**: Serves as the backbone for many other Python libraries like `Pandas`, `SciPy`, and `Scikit-learn`."
      ],
      "metadata": {
        "id": "HXDk6sSzfSP_"
      }
    },
    {
      "cell_type": "markdown",
      "source": [
        "## Why `NumPy`?\n",
        "\n",
        "`NumPy` is a fast and flexible Python library for working with arrays, matrices, and numerical functions. Its key strengths include:\n",
        "\n",
        "- **Efficiency**: Optimized for high-speed numerical operations, outperforming Python lists.\n",
        "- **Ease of Use**: Simplifies tasks like sorting, reshaping, and math computations.\n",
        "- **Flexibility**: Easily handles multidimensional data structures.\n",
        "- **Integration**: Works smoothly with libraries like `Pandas`, `Matplotlib`, and `Scikit-learn`."
      ],
      "metadata": {
        "id": "PYziGFmphBM3"
      }
    },
    {
      "cell_type": "markdown",
      "source": [
        "## Installing `NumPy` library\n",
        "\n",
        "`NumPy` is preinstalled in Google Colab and many Python distributions. However, you can use Python's package installed `pip` to install it if needed:\n",
        "\n",
        "```python\n",
        "!pip install numpy\n",
        "```\n",
        "\n",
        "## Importing `NumPy` and `Pandas` library"
      ],
      "metadata": {
        "id": "DTV3XH5libzv"
      }
    },
    {
      "cell_type": "code",
      "source": [
        "import numpy as np\n",
        "import pandas as pd"
      ],
      "metadata": {
        "id": "9USfQGcZkoso"
      },
      "execution_count": 30,
      "outputs": []
    },
    {
      "cell_type": "markdown",
      "source": [
        "## Creating a `NumPy` Array"
      ],
      "metadata": {
        "id": "Jry_-R5EjGs_"
      }
    },
    {
      "cell_type": "code",
      "source": [
        "name_array = np.array(['Adam', 'Bob', 'Charlie', 'David', 'Eve'])\n",
        "print(f\"Our name array:\\n{name_array}\")"
      ],
      "metadata": {
        "colab": {
          "base_uri": "https://localhost:8080/"
        },
        "id": "GZeirxpvjKRF",
        "outputId": "3132cfb6-f873-441e-9e83-fab136721638"
      },
      "execution_count": 31,
      "outputs": [
        {
          "output_type": "stream",
          "name": "stdout",
          "text": [
            "Our name array:\n",
            "['Adam' 'Bob' 'Charlie' 'David' 'Eve']\n"
          ]
        }
      ]
    },
    {
      "cell_type": "markdown",
      "source": [
        "## `NumPy` Arithmetic Operations\n",
        "\n",
        "Arithmetic operations are **element-wise** by default."
      ],
      "metadata": {
        "id": "QMMDu1ILjnh0"
      }
    },
    {
      "cell_type": "code",
      "source": [
        "matrix1 = np.array([[1, 2, 3], [4, 5, 6], [7, 8, 9]])\n",
        "matrix2 = np.array([[10, 20, 30], [40, 50, 60], [70, 80, 90]])\n",
        "print(f\"The first array:\\n{matrix1}\")\n",
        "print(f\"The second array:\\n{matrix2}\")\n",
        "print(f\"Addition was performed element-wise:\\n{matrix1 + matrix2}\")"
      ],
      "metadata": {
        "colab": {
          "base_uri": "https://localhost:8080/"
        },
        "id": "iRHJ1-2HCdYP",
        "outputId": "03fbae3a-4670-4067-cd1d-688d019540f5"
      },
      "execution_count": null,
      "outputs": [
        {
          "output_type": "stream",
          "name": "stdout",
          "text": [
            "The first array:\n",
            "[[1 2 3]\n",
            " [4 5 6]\n",
            " [7 8 9]]\n",
            "The second array:\n",
            "[[10 20 30]\n",
            " [40 50 60]\n",
            " [70 80 90]]\n",
            "Addition was performed element-wise:\n",
            "[[11 22 33]\n",
            " [44 55 66]\n",
            " [77 88 99]]\n"
          ]
        }
      ]
    },
    {
      "cell_type": "markdown",
      "source": [
        "`NumPy` provides **multiple aggregation** functions like:\n",
        "\n",
        "- `sum`\n",
        "- `mean`\n",
        "- `min`\n",
        "- `max`\n",
        "- `std`\n",
        "- `var`\n",
        "\n",
        "They will be applied to the entire array by default, but using `axis` can change the direction of the aggregation:\n",
        "\n",
        "- **axis=0**: columns (vertical/downward)\n",
        "- **axis=1**: rows (horizontal/across)\n"
      ],
      "metadata": {
        "id": "gZA572S_CsPm"
      }
    },
    {
      "cell_type": "code",
      "source": [
        "matrix = np.array([[10, 20, 30], [40, 50, 60], [70, 80, 90]])\n",
        "print(f\"The array is:\\n{matrix}\")\n",
        "print(f\"The sum of each column is:\\n{matrix.sum(axis=0)}\")\n",
        "print(f\"The mean of each row is:\\n{matrix.mean(axis=1)}\")\n",
        "print(f\"The smallest number in the array is:{matrix.min()}\")\n",
        "print(f\"The largest number in the array is:{matrix.max()}\")"
      ],
      "metadata": {
        "colab": {
          "base_uri": "https://localhost:8080/"
        },
        "id": "hl6nYZQDBZEu",
        "outputId": "c433eb23-16fe-4888-a389-88558c8a8276"
      },
      "execution_count": null,
      "outputs": [
        {
          "output_type": "stream",
          "name": "stdout",
          "text": [
            "The array is:\n",
            "[[10 20 30]\n",
            " [40 50 60]\n",
            " [70 80 90]]\n",
            "The sum of each column is:\n",
            "[120 150 180]\n",
            "The mean of each row is:\n",
            "[20. 50. 80.]\n",
            "The smallest number in the array is:10\n",
            "The largest number in the array is:90\n"
          ]
        }
      ]
    },
    {
      "cell_type": "markdown",
      "source": [
        "## Access and Modify `NumPy` Array Elements\n",
        "\n",
        "### 1D Array Slicing\n",
        "\n",
        "You can access subarrays using the syntax: `array[start:stop:step]`\n",
        "\n",
        "- `start`: index to begin slicing (inclusive)\n",
        "- `stop`: index to end slicing (exclusive)\n",
        "- `step`: interval between elements (optional)\n",
        "\n",
        "### 2D Array Slicing\n",
        "\n",
        "Slicing is done by specifying slices for rows and columns: `array[row_start:row_stop, col_start:col_stop]`"
      ],
      "metadata": {
        "id": "I0xVQc79GA9D"
      }
    },
    {
      "cell_type": "code",
      "source": [
        "array_1d = np.array([10, 20, 30, 40, 50])\n",
        "\n",
        "# accessing data in a 1D array\n",
        "print(f\"The array is:\\n{array_1d}\")\n",
        "print(f\"The third element is:\\n{array_1d[2]}\")\n",
        "print(f\"The first 3 elements are:\\n{array_1d[:3]}\")\n",
        "\n",
        "# modifying data in a 1D array\n",
        "array_1d[2] = 35\n",
        "print(f\"The modified array is:\\n{array_1d}\")"
      ],
      "metadata": {
        "colab": {
          "base_uri": "https://localhost:8080/"
        },
        "id": "dwAeTpJcIFj8",
        "outputId": "b6b8af04-6eee-4e9f-c5f0-7ca1b4f7d5de"
      },
      "execution_count": 32,
      "outputs": [
        {
          "output_type": "stream",
          "name": "stdout",
          "text": [
            "The array is:\n",
            "[10 20 30 40 50]\n",
            "The third element is:\n",
            "30\n",
            "The first 3 elements are:\n",
            "[10 20 30]\n",
            "The modified array is:\n",
            "[10 20 35 40 50]\n"
          ]
        }
      ]
    },
    {
      "cell_type": "code",
      "source": [
        "array_2d = np.array([[10, 20, 30], [40, 50, 60], [70, 80, 90]])\n",
        "\n",
        "# accessing data in a 2D array\n",
        "print(f\"The array is:\\n{array_2d}\")\n",
        "print(f\"The first row is:\\n{array_2d[0]}\")\n",
        "print(f\"The second element in the second row is:\\n{array_2d[1:2, 1:2]}\")\n",
        "\n",
        "# modifying data in a 2D array\n",
        "array_2d[1, 1] = 55\n",
        "print(f\"The modified array is:\\n{array_2d}\")"
      ],
      "metadata": {
        "colab": {
          "base_uri": "https://localhost:8080/"
        },
        "id": "wSQd4cQKIi5x",
        "outputId": "9360c881-6d0e-44f3-812a-b984b9fce556"
      },
      "execution_count": 33,
      "outputs": [
        {
          "output_type": "stream",
          "name": "stdout",
          "text": [
            "The array is:\n",
            "[[10 20 30]\n",
            " [40 50 60]\n",
            " [70 80 90]]\n",
            "The first row is:\n",
            "[10 20 30]\n",
            "The second element in the second row is:\n",
            "[[50]]\n",
            "The modified array is:\n",
            "[[10 20 30]\n",
            " [40 55 60]\n",
            " [70 80 90]]\n"
          ]
        }
      ]
    },
    {
      "cell_type": "markdown",
      "source": [
        "## Exercise 1\n",
        "\n",
        "Create a `Pandas` **Series** using the `parks` list for the values and the `countries` list for the index. Print the Series.\n",
        "\n",
        "```python\n",
        "parks = [\n",
        "    'Yellowstone', 'Banff', 'Kruger',\n",
        "    'Great Barrier Reef', 'Serengeti',\n",
        "    'Lake Baikal',\n",
        "    ]\n",
        "\n",
        "countries = [\n",
        "    'USA', 'Canada', 'South Africa',\n",
        "    'Australia', 'Tanzania','Russia',\n",
        "    ]\n",
        "```"
      ],
      "metadata": {
        "id": "QRroF_ZqHNgS"
      }
    },
    {
      "cell_type": "code",
      "source": [
        "parks = [\n",
        "    'Yellowstone', 'Banff', 'Kruger',\n",
        "    'Great Barrier Reef', 'Serengeti',\n",
        "    'Lake Baikal',\n",
        "    ]\n",
        "\n",
        "countries = [\n",
        "    'USA', 'Canada', 'South Africa',\n",
        "    'Australia', 'Tanzania','Russia',\n",
        "    ]\n",
        "\n",
        "parks_series = pd.Series(data=parks, index=countries)\n",
        "print(parks_series)"
      ],
      "metadata": {
        "colab": {
          "base_uri": "https://localhost:8080/"
        },
        "id": "B894Qd3lHef4",
        "outputId": "a374fdfb-a182-46fc-e0af-96db1e995b0c"
      },
      "execution_count": 9,
      "outputs": [
        {
          "output_type": "stream",
          "name": "stdout",
          "text": [
            "USA                    Yellowstone\n",
            "Canada                       Banff\n",
            "South Africa                Kruger\n",
            "Australia       Great Barrier Reef\n",
            "Tanzania                 Serengeti\n",
            "Russia                 Lake Baikal\n",
            "dtype: object\n"
          ]
        }
      ]
    },
    {
      "cell_type": "markdown",
      "source": [
        "## Exercise 2\n",
        "\n",
        "Create a **Series** from a dictionary.\n",
        "\n",
        "```python\n",
        "data_parks = {\n",
        "    \"USA\": \"Yellowstone\",\n",
        "    \"Canada\": \"Banff\",\n",
        "    \"South Africa\": \"Kruger\",\n",
        "    \"Australia\": \"Great Barrier Reef\",\n",
        "    \"Tanzania\": \"Serengeti\",\n",
        "    \"Russia\": \"Lake Baikal\"\n",
        "}\n",
        "```"
      ],
      "metadata": {
        "id": "eM8H2N96Hrxv"
      }
    },
    {
      "cell_type": "code",
      "source": [
        "data_parks = {\n",
        "    \"USA\": \"Yellowstone\",\n",
        "    \"Canada\": \"Banff\",\n",
        "    \"South Africa\": \"Kruger\",\n",
        "    \"Australia\": \"Great Barrier Reef\",\n",
        "    \"Tanzania\": \"Serengeti\",\n",
        "    \"Russia\": \"Lake Baikal\"\n",
        "}\n",
        "\n",
        "parks_series = pd.Series(data_parks)\n",
        "print(parks_series)"
      ],
      "metadata": {
        "colab": {
          "base_uri": "https://localhost:8080/"
        },
        "id": "au3eSbVyHyWl",
        "outputId": "0171e632-7f99-4320-8286-9358d1cc2ec1"
      },
      "execution_count": 10,
      "outputs": [
        {
          "output_type": "stream",
          "name": "stdout",
          "text": [
            "USA                    Yellowstone\n",
            "Canada                       Banff\n",
            "South Africa                Kruger\n",
            "Australia       Great Barrier Reef\n",
            "Tanzania                 Serengeti\n",
            "Russia                 Lake Baikal\n",
            "dtype: object\n"
          ]
        }
      ]
    },
    {
      "cell_type": "markdown",
      "source": [
        "## Exercise 3\n",
        "\n",
        "We will now work with the**five highest mountains in the Americas**. We provide you with a pandas dictionary containing the mountain names and their heights to create a pandas Series.\n",
        "\n",
        "- The **keys** in the dictionary represent the mountain names.\n",
        "- The **values** represent the heights in meters.\n",
        "- Name the Series `Highest Mountains in Americas`.\n",
        "- Print the following:\n",
        "  - All the **values** of the Series.\n",
        "  - All the **indices** of the Series.\n",
        "\n",
        "```python\n",
        "data = {\n",
        "    \"Aconcagua\": 6960,\n",
        "    \"Ojos del Salado\": 6893,\n",
        "    \"Monte Pissis\": 6793,\n",
        "    \"Huascarán\": 6768,\n",
        "    \"Cerro Bonete\": 6759\n",
        "}\n",
        "```"
      ],
      "metadata": {
        "id": "BY90MDUmH9YS"
      }
    },
    {
      "cell_type": "code",
      "source": [
        "data = {\n",
        "    \"Aconcagua\": 6960,\n",
        "    \"Ojos del Salado\": 6893,\n",
        "    \"Monte Pissis\": 6793,\n",
        "    \"Huascarán\": 6768,\n",
        "    \"Cerro Bonete\": 6759\n",
        "}\n",
        "\n",
        "highest_mountains_series = pd.Series(data, name='Highest Mountains in Americas')\n",
        "print(highest_mountains_series.values)\n",
        "print(highest_mountains_series.index)"
      ],
      "metadata": {
        "colab": {
          "base_uri": "https://localhost:8080/"
        },
        "id": "FGu_QIkFIVdm",
        "outputId": "205e38d4-7184-45e0-8d04-29bf3ee427ce"
      },
      "execution_count": 13,
      "outputs": [
        {
          "output_type": "stream",
          "name": "stdout",
          "text": [
            "[6960 6893 6793 6768 6759]\n",
            "Index(['Aconcagua', 'Ojos del Salado', 'Monte Pissis', 'Huascarán',\n",
            "       'Cerro Bonete'],\n",
            "      dtype='object')\n"
          ]
        }
      ]
    },
    {
      "cell_type": "markdown",
      "source": [
        "## Exercise 4\n",
        "\n",
        "The visitor counts in the `park_data` array need to be updated.  Increase the visitor count for each park by 10%.\n",
        "\n",
        "- Access the visitor count column from the `park_data` array (remember, this is the second column).\n",
        "- Multiply the visitor count column by 1.10 to increase the values by 10%.\n",
        "- Print the updated `park_data` array.\n",
        "\n",
        "```python\n",
        "park_data = np.array([\n",
        "    [315, 1000],  # Elevation and visitors for park 1\n",
        "    [446, 1200],  # Park 2\n",
        "    [333, 900],   # Park 3\n",
        "    [392, 800],   # Park 4\n",
        "    [289, 1100]   # Park 5\n",
        "], dtype='float64')\n",
        "```"
      ],
      "metadata": {
        "id": "nE3OpICOl54w"
      }
    },
    {
      "cell_type": "code",
      "source": [
        "park_data = np.array([\n",
        "    [315, 1000],  # Elevation and visitors for park 1\n",
        "    [446, 1200],  # Park 2\n",
        "    [333, 900],   # Park 3\n",
        "    [392, 800],   # Park 4\n",
        "    [289, 1100]   # Park 5\n",
        "], dtype='float64')\n",
        "\n",
        "print(f\"Park visitor count before update:\\n{park_data}\")\n",
        "park_data[:, 1] *= 1.10\n",
        "print(f\"Park visitor count after update:\\n{park_data}\")"
      ],
      "metadata": {
        "colab": {
          "base_uri": "https://localhost:8080/"
        },
        "id": "CUHxSRw1mMXc",
        "outputId": "565a9c3a-a024-4f9b-ea9e-e420e212f084"
      },
      "execution_count": 34,
      "outputs": [
        {
          "output_type": "stream",
          "name": "stdout",
          "text": [
            "Park visitor count before update:\n",
            "[[ 315. 1000.]\n",
            " [ 446. 1200.]\n",
            " [ 333.  900.]\n",
            " [ 392.  800.]\n",
            " [ 289. 1100.]]\n",
            "Park visitor count after update:\n",
            "[[ 315. 1100.]\n",
            " [ 446. 1320.]\n",
            " [ 333.  990.]\n",
            " [ 392.  880.]\n",
            " [ 289. 1210.]]\n"
          ]
        }
      ]
    },
    {
      "cell_type": "markdown",
      "source": [
        "## Exercise 5\n",
        "\n",
        "Due to new surveying data, the elevations of all parks need to be adjusted. Increase the elevation of each park in the `park_elevations` array by 5 meters.\n",
        "\n",
        "- Add 5 to each element in the `park_elevations` array.\n",
        "- Print the updated `park_elevations` array.\n",
        "\n",
        "```python\n",
        "park_elevations = np.array([315, 446, 333, 392, 289])  # Elevations in meters`\n",
        "```"
      ],
      "metadata": {
        "id": "8C7te8BGnouc"
      }
    },
    {
      "cell_type": "code",
      "source": [
        "park_elevations = np.array([315, 446, 333, 392, 289])  # Elevations in meters\n",
        "print(f\"Park elevations before update:\\n{park_elevations}\")\n",
        "park_elevations += 5\n",
        "print(f\"Park elevations after update:\\n{park_elevations}\")"
      ],
      "metadata": {
        "colab": {
          "base_uri": "https://localhost:8080/"
        },
        "id": "OzQ0F_3sn5-L",
        "outputId": "5745c4aa-5389-4f03-b16b-fdf6d9ab1cb9"
      },
      "execution_count": 36,
      "outputs": [
        {
          "output_type": "stream",
          "name": "stdout",
          "text": [
            "Park elevations before update:\n",
            "[315 446 333 392 289]\n",
            "Park elevations after update:\n",
            "[320 451 338 397 294]\n"
          ]
        }
      ]
    }
  ]
}
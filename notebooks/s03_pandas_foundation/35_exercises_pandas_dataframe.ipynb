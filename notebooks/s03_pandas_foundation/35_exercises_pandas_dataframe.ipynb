{
  "nbformat": 4,
  "nbformat_minor": 0,
  "metadata": {
    "colab": {
      "provenance": [],
      "authorship_tag": "ABX9TyO3Pa7FkY5EjK7nl13fiv0E",
      "include_colab_link": true
    },
    "kernelspec": {
      "name": "python3",
      "display_name": "Python 3"
    },
    "language_info": {
      "name": "python"
    }
  },
  "cells": [
    {
      "cell_type": "markdown",
      "metadata": {
        "id": "view-in-github",
        "colab_type": "text"
      },
      "source": [
        "<a href=\"https://colab.research.google.com/github/krauseannelize/nb-py-ms-exercises/blob/sprint03/notebooks/s03_pandas_foundation/35_exercises_pandas_dataframe.ipynb\" target=\"_parent\"><img src=\"https://colab.research.google.com/assets/colab-badge.svg\" alt=\"Open In Colab\"/></a>"
      ]
    },
    {
      "cell_type": "markdown",
      "source": [
        "# 35 | Exercises - Pandas DataFrame\n",
        "\n",
        "A **DataFrame** is a 2D labeled data structure in Python, provided by the `Pandas` library.\n",
        "\n",
        "## What is a DataFrame?\n",
        "\n",
        "- Each column can hold different types of data (numbers, text, dates)\n",
        "- Every row and column has a label\n",
        "- You can perform complex operations with simple commands"
      ],
      "metadata": {
        "id": "sWnMoOqkqerJ"
      }
    },
    {
      "cell_type": "markdown",
      "source": [
        "## Why use DataFrames?\n",
        "\n",
        "**DataFrames** are like spreadsheets in Python. They are easy to read, flexible with different data types, and powerful for analysis. You can filter, calculate, and summarize data with just a few lines of code.\n",
        "\n",
        "## Importing `Pandas`\n",
        "\n",
        "**DataFrames** are part of the `Pandas` library that needs to be imported."
      ],
      "metadata": {
        "id": "AaF_SDS7rsQQ"
      }
    },
    {
      "cell_type": "code",
      "source": [
        "import pandas as pd"
      ],
      "metadata": {
        "id": "D-e5v8xXsYWx"
      },
      "execution_count": 1,
      "outputs": []
    },
    {
      "cell_type": "markdown",
      "source": [
        "## Creating a DataFrame\n",
        "\n",
        "**DataFrames** can be created in multiple ways. Two common approaches are using a **list** and a **dictionary**.\n",
        "\n",
        "### DataFrame from a List\n",
        "\n",
        "When creating a **DataFrame** from a simple list, the list is interpreted as a column of data. It is passed as the first argument to `pd.DataFrame()`, and a column name can optionally be specified using the `columns` parameter."
      ],
      "metadata": {
        "id": "RqrjVNGXrtDF"
      }
    },
    {
      "cell_type": "code",
      "execution_count": 9,
      "metadata": {
        "colab": {
          "base_uri": "https://localhost:8080/"
        },
        "id": "WOkfw14mqa-Z",
        "outputId": "d6c0fcd1-098e-4ec5-d7e2-3b1910c11ef7"
      },
      "outputs": [
        {
          "output_type": "stream",
          "name": "stdout",
          "text": [
            "The list:\n",
            "['Paris', 'Tokyo', 'New York']\n",
            "\n",
            "The DataFrame:\n",
            "          0\n",
            "0     Paris\n",
            "1     Tokyo\n",
            "2  New York\n",
            "\n",
            "The DataFrame with a column name specified:\n",
            "  Destination\n",
            "0       Paris\n",
            "1       Tokyo\n",
            "2    New York\n"
          ]
        }
      ],
      "source": [
        "# creating a list with destinations\n",
        "ls_destinations = [\"Paris\", \"Tokyo\", \"New York\"]\n",
        "print(f\"The list:\\n{ls_destinations}\\n\")\n",
        "\n",
        "# converting a list to a DataFrame\n",
        "df_destinations = pd.DataFrame(ls_destinations)\n",
        "print(f\"The DataFrame:\\n{df_destinations}\\n\")\n",
        "\n",
        "# using the \"column\" parameter\n",
        "df_column_name = pd.DataFrame(ls_destinations, columns=[\"Destination\"])\n",
        "print(f\"The DataFrame with a column name specified:\\n{df_column_name}\")"
      ]
    },
    {
      "cell_type": "markdown",
      "source": [
        "### DataFrame from a Dictionary\n",
        "\n",
        "When creating a **DataFrame** from a dictionary, the keys of the dictionary represent the column names, and the values represent the data for those columns."
      ],
      "metadata": {
        "id": "dXYMH5rh-AV2"
      }
    },
    {
      "cell_type": "code",
      "source": [
        "# creating a dictionary with travel details\n",
        "dict_travel_info = {\n",
        "    \"Destination\": [\"Paris\", \"Tokyo\", \"New York\"],\n",
        "    \"Country\": [\"France\", \"Japan\", \"USA\"],\n",
        "    \"Rating\": [4.8, 4.7, 4.5]\n",
        "}\n",
        "print(f\"The dictionary:\\n{dict_travel_info}\\n\")\n",
        "\n",
        "# converting a dictionary to a DataFrame\n",
        "df_travel_info = pd.DataFrame(dict_travel_info)\n",
        "print(f\"The DataFrame:\\n{df_travel_info}\")"
      ],
      "metadata": {
        "colab": {
          "base_uri": "https://localhost:8080/"
        },
        "id": "ow40lURR-33-",
        "outputId": "8ac8089b-177e-4994-ec43-94c230561471"
      },
      "execution_count": 10,
      "outputs": [
        {
          "output_type": "stream",
          "name": "stdout",
          "text": [
            "The dictionary:\n",
            "{'Destination': ['Paris', 'Tokyo', 'New York'], 'Country': ['France', 'Japan', 'USA'], 'Rating': [4.8, 4.7, 4.5]}\n",
            "\n",
            "The DataFrame:\n",
            "  Destination Country  Rating\n",
            "0       Paris  France     4.8\n",
            "1       Tokyo   Japan     4.7\n",
            "2    New York     USA     4.5\n"
          ]
        }
      ]
    },
    {
      "cell_type": "markdown",
      "source": [
        "## Inspecting a DataFrame's Structure\n",
        "\n",
        "Pandas provides several attributes to quickly inspect the characteristics of a **DataFrame**, such as:\n",
        "\n",
        "| Attribute | Description |\n",
        "| --- | --- |\n",
        "| `dtypes` | Displays the data types of each column |\n",
        "| `columns` | Lists the column names of the DataFrame |\n",
        "| `shape` | Returns the number of rows and columns as a tuple |"
      ],
      "metadata": {
        "id": "6YHewzPSA0Eq"
      }
    },
    {
      "cell_type": "code",
      "source": [
        "# view column data types\n",
        "print(f\"Column data types:\\n{df_travel_info.dtypes}\\n\")\n",
        "\n",
        "# view column names\n",
        "print(f\"Column names:\\n{df_travel_info.columns}\\n\")\n",
        "\n",
        "# view number of rows and columns\n",
        "print(f\"Number of rows and columns:\\n{df_travel_info.shape}\")"
      ],
      "metadata": {
        "colab": {
          "base_uri": "https://localhost:8080/"
        },
        "id": "V5e4arseBTyA",
        "outputId": "337c81f8-59fb-40d2-e61a-711e166c223b"
      },
      "execution_count": 11,
      "outputs": [
        {
          "output_type": "stream",
          "name": "stdout",
          "text": [
            "Column data types:\n",
            "Destination     object\n",
            "Country         object\n",
            "Rating         float64\n",
            "dtype: object\n",
            "\n",
            "Column names:\n",
            "Index(['Destination', 'Country', 'Rating'], dtype='object')\n",
            "\n",
            "Number of rows and columns:\n",
            "(3, 3)\n"
          ]
        }
      ]
    },
    {
      "cell_type": "markdown",
      "source": [
        "## Working with External Datasets\n",
        "\n",
        "Pandas makes it easy to load, explore, and manipulate your data no matter if your data is stored in a CSV or Excel file, or is preloaded from libraries like `Seaborn` or `Scikit-learn`.\n",
        "\n",
        "### Creating DataFrames from CSV Files\n",
        "\n",
        "Use the `pd.read_csv()` function to read CSV (Comma-Separated Values) files into a **DataFrame**.\n",
        "\n",
        "```python\n",
        "# basic syntax\n",
        "pd.read_csv(filepath, sep=',', header=0)\n",
        "```\n",
        "\n",
        "- `filepath`: Path to CSV file\n",
        "- `sep`: Delimiter separating values.\n",
        "- `header`: Row containing column names (default is first row)\n",
        "\n",
        "```python\n",
        "# example\n",
        "df_travel = pd.read_csv(\"travel_destinations.csv\")\n",
        "```"
      ],
      "metadata": {
        "id": "AmwJt_E-DL4c"
      }
    },
    {
      "cell_type": "markdown",
      "source": [
        "### Creating DataFrames from Excel Files\n",
        "\n",
        "Use the `pd.read_excel()` function to load data from Excel spreadsheets into a **DataFrame**.\n",
        "\n",
        "```python\n",
        "# basic syntax\n",
        "pd.read_excel(filepath, sheet_name=0, header=0)\n",
        "```\n",
        "\n",
        "- `filepath`: Path to Excel file\n",
        "- `sheet_name`: Name or index of sheet to load (default is first sheet).\n",
        "- `header`: Row containing column names (default is first row).\n",
        "\n",
        "```python\n",
        "# example\n",
        "df_travel = pd.read_excel(\"travel_destinations.xlsx\", sheet_name=\"Sheet1\")\n",
        "```"
      ],
      "metadata": {
        "id": "bb77EZlzHdB0"
      }
    },
    {
      "cell_type": "markdown",
      "source": [
        "### Using Preloaded Datasets from Other Libraries\n",
        "\n",
        "Many Python libraries come with preloaded datasets for practice and experimentation. These can be loaded into `Pandas` **DataFrames** with the provided methods and functions. Alternatively, you can apply `pd.DataFrame()` method to transform the dataset into a **DataFrame**."
      ],
      "metadata": {
        "id": "aK77wWObIkLU"
      }
    },
    {
      "cell_type": "code",
      "source": [
        "# preloaded dataset from seaborn library\n",
        "import seaborn as sns\n",
        "df_tips = sns.load_dataset(\"tips\")\n",
        "\n",
        "# head() displays first 5 rows of DataFrame by default or first x rows when specified\n",
        "df_tips.head()"
      ],
      "metadata": {
        "colab": {
          "base_uri": "https://localhost:8080/",
          "height": 206
        },
        "id": "uQOcLjJYJX3M",
        "outputId": "2467a575-ce9c-4793-a7ee-86c3e8fafb14"
      },
      "execution_count": 15,
      "outputs": [
        {
          "output_type": "execute_result",
          "data": {
            "text/plain": [
              "   total_bill   tip     sex smoker  day    time  size\n",
              "0       16.99  1.01  Female     No  Sun  Dinner     2\n",
              "1       10.34  1.66    Male     No  Sun  Dinner     3\n",
              "2       21.01  3.50    Male     No  Sun  Dinner     3\n",
              "3       23.68  3.31    Male     No  Sun  Dinner     2\n",
              "4       24.59  3.61  Female     No  Sun  Dinner     4"
            ],
            "text/html": [
              "\n",
              "  <div id=\"df-370505b7-2361-4d29-a082-ced8d5381d85\" class=\"colab-df-container\">\n",
              "    <div>\n",
              "<style scoped>\n",
              "    .dataframe tbody tr th:only-of-type {\n",
              "        vertical-align: middle;\n",
              "    }\n",
              "\n",
              "    .dataframe tbody tr th {\n",
              "        vertical-align: top;\n",
              "    }\n",
              "\n",
              "    .dataframe thead th {\n",
              "        text-align: right;\n",
              "    }\n",
              "</style>\n",
              "<table border=\"1\" class=\"dataframe\">\n",
              "  <thead>\n",
              "    <tr style=\"text-align: right;\">\n",
              "      <th></th>\n",
              "      <th>total_bill</th>\n",
              "      <th>tip</th>\n",
              "      <th>sex</th>\n",
              "      <th>smoker</th>\n",
              "      <th>day</th>\n",
              "      <th>time</th>\n",
              "      <th>size</th>\n",
              "    </tr>\n",
              "  </thead>\n",
              "  <tbody>\n",
              "    <tr>\n",
              "      <th>0</th>\n",
              "      <td>16.99</td>\n",
              "      <td>1.01</td>\n",
              "      <td>Female</td>\n",
              "      <td>No</td>\n",
              "      <td>Sun</td>\n",
              "      <td>Dinner</td>\n",
              "      <td>2</td>\n",
              "    </tr>\n",
              "    <tr>\n",
              "      <th>1</th>\n",
              "      <td>10.34</td>\n",
              "      <td>1.66</td>\n",
              "      <td>Male</td>\n",
              "      <td>No</td>\n",
              "      <td>Sun</td>\n",
              "      <td>Dinner</td>\n",
              "      <td>3</td>\n",
              "    </tr>\n",
              "    <tr>\n",
              "      <th>2</th>\n",
              "      <td>21.01</td>\n",
              "      <td>3.50</td>\n",
              "      <td>Male</td>\n",
              "      <td>No</td>\n",
              "      <td>Sun</td>\n",
              "      <td>Dinner</td>\n",
              "      <td>3</td>\n",
              "    </tr>\n",
              "    <tr>\n",
              "      <th>3</th>\n",
              "      <td>23.68</td>\n",
              "      <td>3.31</td>\n",
              "      <td>Male</td>\n",
              "      <td>No</td>\n",
              "      <td>Sun</td>\n",
              "      <td>Dinner</td>\n",
              "      <td>2</td>\n",
              "    </tr>\n",
              "    <tr>\n",
              "      <th>4</th>\n",
              "      <td>24.59</td>\n",
              "      <td>3.61</td>\n",
              "      <td>Female</td>\n",
              "      <td>No</td>\n",
              "      <td>Sun</td>\n",
              "      <td>Dinner</td>\n",
              "      <td>4</td>\n",
              "    </tr>\n",
              "  </tbody>\n",
              "</table>\n",
              "</div>\n",
              "    <div class=\"colab-df-buttons\">\n",
              "\n",
              "  <div class=\"colab-df-container\">\n",
              "    <button class=\"colab-df-convert\" onclick=\"convertToInteractive('df-370505b7-2361-4d29-a082-ced8d5381d85')\"\n",
              "            title=\"Convert this dataframe to an interactive table.\"\n",
              "            style=\"display:none;\">\n",
              "\n",
              "  <svg xmlns=\"http://www.w3.org/2000/svg\" height=\"24px\" viewBox=\"0 -960 960 960\">\n",
              "    <path d=\"M120-120v-720h720v720H120Zm60-500h600v-160H180v160Zm220 220h160v-160H400v160Zm0 220h160v-160H400v160ZM180-400h160v-160H180v160Zm440 0h160v-160H620v160ZM180-180h160v-160H180v160Zm440 0h160v-160H620v160Z\"/>\n",
              "  </svg>\n",
              "    </button>\n",
              "\n",
              "  <style>\n",
              "    .colab-df-container {\n",
              "      display:flex;\n",
              "      gap: 12px;\n",
              "    }\n",
              "\n",
              "    .colab-df-convert {\n",
              "      background-color: #E8F0FE;\n",
              "      border: none;\n",
              "      border-radius: 50%;\n",
              "      cursor: pointer;\n",
              "      display: none;\n",
              "      fill: #1967D2;\n",
              "      height: 32px;\n",
              "      padding: 0 0 0 0;\n",
              "      width: 32px;\n",
              "    }\n",
              "\n",
              "    .colab-df-convert:hover {\n",
              "      background-color: #E2EBFA;\n",
              "      box-shadow: 0px 1px 2px rgba(60, 64, 67, 0.3), 0px 1px 3px 1px rgba(60, 64, 67, 0.15);\n",
              "      fill: #174EA6;\n",
              "    }\n",
              "\n",
              "    .colab-df-buttons div {\n",
              "      margin-bottom: 4px;\n",
              "    }\n",
              "\n",
              "    [theme=dark] .colab-df-convert {\n",
              "      background-color: #3B4455;\n",
              "      fill: #D2E3FC;\n",
              "    }\n",
              "\n",
              "    [theme=dark] .colab-df-convert:hover {\n",
              "      background-color: #434B5C;\n",
              "      box-shadow: 0px 1px 3px 1px rgba(0, 0, 0, 0.15);\n",
              "      filter: drop-shadow(0px 1px 2px rgba(0, 0, 0, 0.3));\n",
              "      fill: #FFFFFF;\n",
              "    }\n",
              "  </style>\n",
              "\n",
              "    <script>\n",
              "      const buttonEl =\n",
              "        document.querySelector('#df-370505b7-2361-4d29-a082-ced8d5381d85 button.colab-df-convert');\n",
              "      buttonEl.style.display =\n",
              "        google.colab.kernel.accessAllowed ? 'block' : 'none';\n",
              "\n",
              "      async function convertToInteractive(key) {\n",
              "        const element = document.querySelector('#df-370505b7-2361-4d29-a082-ced8d5381d85');\n",
              "        const dataTable =\n",
              "          await google.colab.kernel.invokeFunction('convertToInteractive',\n",
              "                                                    [key], {});\n",
              "        if (!dataTable) return;\n",
              "\n",
              "        const docLinkHtml = 'Like what you see? Visit the ' +\n",
              "          '<a target=\"_blank\" href=https://colab.research.google.com/notebooks/data_table.ipynb>data table notebook</a>'\n",
              "          + ' to learn more about interactive tables.';\n",
              "        element.innerHTML = '';\n",
              "        dataTable['output_type'] = 'display_data';\n",
              "        await google.colab.output.renderOutput(dataTable, element);\n",
              "        const docLink = document.createElement('div');\n",
              "        docLink.innerHTML = docLinkHtml;\n",
              "        element.appendChild(docLink);\n",
              "      }\n",
              "    </script>\n",
              "  </div>\n",
              "\n",
              "\n",
              "    <div id=\"df-579909af-2cd9-4f54-a043-fab286e6a719\">\n",
              "      <button class=\"colab-df-quickchart\" onclick=\"quickchart('df-579909af-2cd9-4f54-a043-fab286e6a719')\"\n",
              "                title=\"Suggest charts\"\n",
              "                style=\"display:none;\">\n",
              "\n",
              "<svg xmlns=\"http://www.w3.org/2000/svg\" height=\"24px\"viewBox=\"0 0 24 24\"\n",
              "     width=\"24px\">\n",
              "    <g>\n",
              "        <path d=\"M19 3H5c-1.1 0-2 .9-2 2v14c0 1.1.9 2 2 2h14c1.1 0 2-.9 2-2V5c0-1.1-.9-2-2-2zM9 17H7v-7h2v7zm4 0h-2V7h2v10zm4 0h-2v-4h2v4z\"/>\n",
              "    </g>\n",
              "</svg>\n",
              "      </button>\n",
              "\n",
              "<style>\n",
              "  .colab-df-quickchart {\n",
              "      --bg-color: #E8F0FE;\n",
              "      --fill-color: #1967D2;\n",
              "      --hover-bg-color: #E2EBFA;\n",
              "      --hover-fill-color: #174EA6;\n",
              "      --disabled-fill-color: #AAA;\n",
              "      --disabled-bg-color: #DDD;\n",
              "  }\n",
              "\n",
              "  [theme=dark] .colab-df-quickchart {\n",
              "      --bg-color: #3B4455;\n",
              "      --fill-color: #D2E3FC;\n",
              "      --hover-bg-color: #434B5C;\n",
              "      --hover-fill-color: #FFFFFF;\n",
              "      --disabled-bg-color: #3B4455;\n",
              "      --disabled-fill-color: #666;\n",
              "  }\n",
              "\n",
              "  .colab-df-quickchart {\n",
              "    background-color: var(--bg-color);\n",
              "    border: none;\n",
              "    border-radius: 50%;\n",
              "    cursor: pointer;\n",
              "    display: none;\n",
              "    fill: var(--fill-color);\n",
              "    height: 32px;\n",
              "    padding: 0;\n",
              "    width: 32px;\n",
              "  }\n",
              "\n",
              "  .colab-df-quickchart:hover {\n",
              "    background-color: var(--hover-bg-color);\n",
              "    box-shadow: 0 1px 2px rgba(60, 64, 67, 0.3), 0 1px 3px 1px rgba(60, 64, 67, 0.15);\n",
              "    fill: var(--button-hover-fill-color);\n",
              "  }\n",
              "\n",
              "  .colab-df-quickchart-complete:disabled,\n",
              "  .colab-df-quickchart-complete:disabled:hover {\n",
              "    background-color: var(--disabled-bg-color);\n",
              "    fill: var(--disabled-fill-color);\n",
              "    box-shadow: none;\n",
              "  }\n",
              "\n",
              "  .colab-df-spinner {\n",
              "    border: 2px solid var(--fill-color);\n",
              "    border-color: transparent;\n",
              "    border-bottom-color: var(--fill-color);\n",
              "    animation:\n",
              "      spin 1s steps(1) infinite;\n",
              "  }\n",
              "\n",
              "  @keyframes spin {\n",
              "    0% {\n",
              "      border-color: transparent;\n",
              "      border-bottom-color: var(--fill-color);\n",
              "      border-left-color: var(--fill-color);\n",
              "    }\n",
              "    20% {\n",
              "      border-color: transparent;\n",
              "      border-left-color: var(--fill-color);\n",
              "      border-top-color: var(--fill-color);\n",
              "    }\n",
              "    30% {\n",
              "      border-color: transparent;\n",
              "      border-left-color: var(--fill-color);\n",
              "      border-top-color: var(--fill-color);\n",
              "      border-right-color: var(--fill-color);\n",
              "    }\n",
              "    40% {\n",
              "      border-color: transparent;\n",
              "      border-right-color: var(--fill-color);\n",
              "      border-top-color: var(--fill-color);\n",
              "    }\n",
              "    60% {\n",
              "      border-color: transparent;\n",
              "      border-right-color: var(--fill-color);\n",
              "    }\n",
              "    80% {\n",
              "      border-color: transparent;\n",
              "      border-right-color: var(--fill-color);\n",
              "      border-bottom-color: var(--fill-color);\n",
              "    }\n",
              "    90% {\n",
              "      border-color: transparent;\n",
              "      border-bottom-color: var(--fill-color);\n",
              "    }\n",
              "  }\n",
              "</style>\n",
              "\n",
              "      <script>\n",
              "        async function quickchart(key) {\n",
              "          const quickchartButtonEl =\n",
              "            document.querySelector('#' + key + ' button');\n",
              "          quickchartButtonEl.disabled = true;  // To prevent multiple clicks.\n",
              "          quickchartButtonEl.classList.add('colab-df-spinner');\n",
              "          try {\n",
              "            const charts = await google.colab.kernel.invokeFunction(\n",
              "                'suggestCharts', [key], {});\n",
              "          } catch (error) {\n",
              "            console.error('Error during call to suggestCharts:', error);\n",
              "          }\n",
              "          quickchartButtonEl.classList.remove('colab-df-spinner');\n",
              "          quickchartButtonEl.classList.add('colab-df-quickchart-complete');\n",
              "        }\n",
              "        (() => {\n",
              "          let quickchartButtonEl =\n",
              "            document.querySelector('#df-579909af-2cd9-4f54-a043-fab286e6a719 button');\n",
              "          quickchartButtonEl.style.display =\n",
              "            google.colab.kernel.accessAllowed ? 'block' : 'none';\n",
              "        })();\n",
              "      </script>\n",
              "    </div>\n",
              "\n",
              "    </div>\n",
              "  </div>\n"
            ],
            "application/vnd.google.colaboratory.intrinsic+json": {
              "type": "dataframe",
              "variable_name": "df_tips",
              "summary": "{\n  \"name\": \"df_tips\",\n  \"rows\": 244,\n  \"fields\": [\n    {\n      \"column\": \"total_bill\",\n      \"properties\": {\n        \"dtype\": \"number\",\n        \"std\": 8.902411954856856,\n        \"min\": 3.07,\n        \"max\": 50.81,\n        \"num_unique_values\": 229,\n        \"samples\": [\n          22.12,\n          20.23,\n          14.78\n        ],\n        \"semantic_type\": \"\",\n        \"description\": \"\"\n      }\n    },\n    {\n      \"column\": \"tip\",\n      \"properties\": {\n        \"dtype\": \"number\",\n        \"std\": 1.3836381890011826,\n        \"min\": 1.0,\n        \"max\": 10.0,\n        \"num_unique_values\": 123,\n        \"samples\": [\n          3.35,\n          1.5,\n          6.73\n        ],\n        \"semantic_type\": \"\",\n        \"description\": \"\"\n      }\n    },\n    {\n      \"column\": \"sex\",\n      \"properties\": {\n        \"dtype\": \"category\",\n        \"num_unique_values\": 2,\n        \"samples\": [\n          \"Male\",\n          \"Female\"\n        ],\n        \"semantic_type\": \"\",\n        \"description\": \"\"\n      }\n    },\n    {\n      \"column\": \"smoker\",\n      \"properties\": {\n        \"dtype\": \"category\",\n        \"num_unique_values\": 2,\n        \"samples\": [\n          \"Yes\",\n          \"No\"\n        ],\n        \"semantic_type\": \"\",\n        \"description\": \"\"\n      }\n    },\n    {\n      \"column\": \"day\",\n      \"properties\": {\n        \"dtype\": \"category\",\n        \"num_unique_values\": 4,\n        \"samples\": [\n          \"Sat\",\n          \"Fri\"\n        ],\n        \"semantic_type\": \"\",\n        \"description\": \"\"\n      }\n    },\n    {\n      \"column\": \"time\",\n      \"properties\": {\n        \"dtype\": \"category\",\n        \"num_unique_values\": 2,\n        \"samples\": [\n          \"Lunch\",\n          \"Dinner\"\n        ],\n        \"semantic_type\": \"\",\n        \"description\": \"\"\n      }\n    },\n    {\n      \"column\": \"size\",\n      \"properties\": {\n        \"dtype\": \"number\",\n        \"std\": 0,\n        \"min\": 1,\n        \"max\": 6,\n        \"num_unique_values\": 6,\n        \"samples\": [\n          2,\n          3\n        ],\n        \"semantic_type\": \"\",\n        \"description\": \"\"\n      }\n    }\n  ]\n}"
            }
          },
          "metadata": {},
          "execution_count": 15
        }
      ]
    },
    {
      "cell_type": "code",
      "source": [
        "# preload dataset from scikit-learn library\n",
        "from sklearn.datasets import load_iris\n",
        "import pandas as pd\n",
        "\n",
        "iris = load_iris()\n",
        "df_iris = pd.DataFrame(iris.data, columns=iris.feature_names)\n",
        "\n",
        "# tail() displays last 5 rows of DataFrame by default or first x rows when specified\n",
        "print(df_iris.tail(8))"
      ],
      "metadata": {
        "colab": {
          "base_uri": "https://localhost:8080/"
        },
        "id": "6gfzoct1K4fS",
        "outputId": "deebeb7b-0346-475d-aec9-43b3712e74f9"
      },
      "execution_count": 16,
      "outputs": [
        {
          "output_type": "stream",
          "name": "stdout",
          "text": [
            "     sepal length (cm)  sepal width (cm)  petal length (cm)  petal width (cm)\n",
            "142                5.8               2.7                5.1               1.9\n",
            "143                6.8               3.2                5.9               2.3\n",
            "144                6.7               3.3                5.7               2.5\n",
            "145                6.7               3.0                5.2               2.3\n",
            "146                6.3               2.5                5.0               1.9\n",
            "147                6.5               3.0                5.2               2.0\n",
            "148                6.2               3.4                5.4               2.3\n",
            "149                5.9               3.0                5.1               1.8\n"
          ]
        }
      ]
    },
    {
      "cell_type": "markdown",
      "source": [
        "## DataFrame Exploration and Summary Statistics\n",
        "\n",
        "### Viewing the first few rows\n",
        "\n",
        "The `.head()` method displays the first 5 rows of **DataFrame** by default or the first number of rows specified."
      ],
      "metadata": {
        "id": "hGzh1aF8QR1M"
      }
    },
    {
      "cell_type": "code",
      "source": [
        "# creating a dictionary with travel details\n",
        "dict_travel_info = {\n",
        "    \"Destination\": [\"Paris\", \"Tokyo\", \"New York\", \"London\", \"Cape Town\"],\n",
        "    \"Country\": [\"France\", \"Japan\", \"USA\", \"UK\", \"South Africa\"],\n",
        "    \"Rating\": [4.8, 4.7, 4.5, 4.6, 4.9]\n",
        "}\n",
        "print(f\"The dictionary:\\n{dict_travel_info}\\n\")\n",
        "\n",
        "# converting a dictionary to a DataFrame\n",
        "df_travel_info = pd.DataFrame(dict_travel_info)\n",
        "print(f\"The DataFrame:\\n{df_travel_info}\\n\")\n",
        "\n",
        "# display the first 3 rows only\n",
        "print(f\"The first 3 rows only:\\n{df_travel_info.head(3)}\")"
      ],
      "metadata": {
        "colab": {
          "base_uri": "https://localhost:8080/"
        },
        "id": "-efPSOKORhlg",
        "outputId": "59b9b29e-b47b-4e5c-8447-30256299e5d2"
      },
      "execution_count": 19,
      "outputs": [
        {
          "output_type": "stream",
          "name": "stdout",
          "text": [
            "The dictionary:\n",
            "{'Destination': ['Paris', 'Tokyo', 'New York', 'London', 'Cape Town'], 'Country': ['France', 'Japan', 'USA', 'UK', 'South Africa'], 'Rating': [4.8, 4.7, 4.5, 4.6, 4.9]}\n",
            "\n",
            "The DataFrame:\n",
            "  Destination       Country  Rating\n",
            "0       Paris        France     4.8\n",
            "1       Tokyo         Japan     4.7\n",
            "2    New York           USA     4.5\n",
            "3      London            UK     4.6\n",
            "4   Cape Town  South Africa     4.9\n",
            "\n",
            "The first 3 rows only:\n",
            "  Destination Country  Rating\n",
            "0       Paris  France     4.8\n",
            "1       Tokyo   Japan     4.7\n",
            "2    New York     USA     4.5\n"
          ]
        }
      ]
    },
    {
      "cell_type": "markdown",
      "source": [
        "### Viewing the last few rows\n",
        "\n",
        "The `.tail()` method displays the first 5 rows of **DataFrame** by default or the first number of rows specified."
      ],
      "metadata": {
        "id": "2LM6nTjQSNZL"
      }
    },
    {
      "cell_type": "code",
      "source": [
        "# creating a dictionary with travel details\n",
        "dict_travel_info = {\n",
        "    \"Destination\": [\"Paris\", \"Tokyo\", \"New York\", \"London\", \"Cape Town\"],\n",
        "    \"Country\": [\"France\", \"Japan\", \"USA\", \"UK\", \"South Africa\"],\n",
        "    \"Rating\": [4.8, 4.7, 4.5, 4.6, 4.9]\n",
        "}\n",
        "print(f\"The dictionary:\\n{dict_travel_info}\\n\")\n",
        "\n",
        "# converting a dictionary to a DataFrame\n",
        "df_travel_info = pd.DataFrame(dict_travel_info)\n",
        "print(f\"The DataFrame:\\n{df_travel_info}\\n\")\n",
        "\n",
        "# display the last 3 rows only\n",
        "print(f\"The last 3 rows only:\\n{df_travel_info.tail(3)}\")"
      ],
      "metadata": {
        "colab": {
          "base_uri": "https://localhost:8080/"
        },
        "outputId": "e33f0e30-b772-44a1-d597-40f4d2478a19",
        "id": "ukZg1Xk9SS4S"
      },
      "execution_count": 20,
      "outputs": [
        {
          "output_type": "stream",
          "name": "stdout",
          "text": [
            "The dictionary:\n",
            "{'Destination': ['Paris', 'Tokyo', 'New York', 'London', 'Cape Town'], 'Country': ['France', 'Japan', 'USA', 'UK', 'South Africa'], 'Rating': [4.8, 4.7, 4.5, 4.6, 4.9]}\n",
            "\n",
            "The DataFrame:\n",
            "  Destination       Country  Rating\n",
            "0       Paris        France     4.8\n",
            "1       Tokyo         Japan     4.7\n",
            "2    New York           USA     4.5\n",
            "3      London            UK     4.6\n",
            "4   Cape Town  South Africa     4.9\n",
            "\n",
            "The last 3 rows only:\n",
            "  Destination       Country  Rating\n",
            "2    New York           USA     4.5\n",
            "3      London            UK     4.6\n",
            "4   Cape Town  South Africa     4.9\n"
          ]
        }
      ]
    },
    {
      "cell_type": "markdown",
      "source": [
        "### Get Metadata About the DataFrame\n",
        "\n",
        "The `.info()` method displays all the information about the **DataFrame**'s structure in one view, including:\n",
        "\n",
        "- Number of rows and columns\n",
        "- Column names and their data types\n",
        "- Number of non-null (non-missing) values in each column\n",
        "- Memory usage of DataFrame"
      ],
      "metadata": {
        "id": "hr102XSySgns"
      }
    },
    {
      "cell_type": "code",
      "source": [
        "# creating a dictionary with travel details\n",
        "dict_travel_info = {\n",
        "    \"Destination\": [\"Paris\", \"Tokyo\", \"New York\", \"London\", \"Cape Town\"],\n",
        "    \"Country\": [\"France\", \"Japan\", \"USA\", \"UK\", \"South Africa\"],\n",
        "    \"Rating\": [4.8, 4.7, 4.5, 4.6, 4.9]\n",
        "}\n",
        "print(f\"The dictionary:\\n{dict_travel_info}\\n\")\n",
        "\n",
        "# converting a dictionary to a DataFrame\n",
        "df_travel_info = pd.DataFrame(dict_travel_info)\n",
        "print(f\"The DataFrame:\\n{df_travel_info}\\n\")\n",
        "\n",
        "# display DataFrame metadata\n",
        "print(f\"The metadata is:\\n{df_travel_info.info()}\")"
      ],
      "metadata": {
        "colab": {
          "base_uri": "https://localhost:8080/"
        },
        "outputId": "b2b38883-d758-4cd9-83d5-e0aa3312f321",
        "id": "vpzS3fnjTK6p"
      },
      "execution_count": 21,
      "outputs": [
        {
          "output_type": "stream",
          "name": "stdout",
          "text": [
            "The dictionary:\n",
            "{'Destination': ['Paris', 'Tokyo', 'New York', 'London', 'Cape Town'], 'Country': ['France', 'Japan', 'USA', 'UK', 'South Africa'], 'Rating': [4.8, 4.7, 4.5, 4.6, 4.9]}\n",
            "\n",
            "The DataFrame:\n",
            "  Destination       Country  Rating\n",
            "0       Paris        France     4.8\n",
            "1       Tokyo         Japan     4.7\n",
            "2    New York           USA     4.5\n",
            "3      London            UK     4.6\n",
            "4   Cape Town  South Africa     4.9\n",
            "\n",
            "<class 'pandas.core.frame.DataFrame'>\n",
            "RangeIndex: 5 entries, 0 to 4\n",
            "Data columns (total 3 columns):\n",
            " #   Column       Non-Null Count  Dtype  \n",
            "---  ------       --------------  -----  \n",
            " 0   Destination  5 non-null      object \n",
            " 1   Country      5 non-null      object \n",
            " 2   Rating       5 non-null      float64\n",
            "dtypes: float64(1), object(2)\n",
            "memory usage: 252.0+ bytes\n",
            "The metadata is:\n",
            "None\n"
          ]
        }
      ]
    },
    {
      "cell_type": "markdown",
      "source": [
        "### Counting the Number of Unique Values\n",
        "\n",
        "The `.nunique()` method returns the _number of distinct values_ in a **Series** or a column of a **DataFrame**.\n",
        "\n",
        "```python\n",
        "# basic syntax\n",
        "series.nunique(dropna=True)\n",
        "```\n",
        "\n",
        "- `dropna`: If `True`, excludes `NaN` values from the count (default is `True`)."
      ],
      "metadata": {
        "id": "_uMF5QEYXbwr"
      }
    },
    {
      "cell_type": "code",
      "source": [
        "dict_parks = {\n",
        "    \"Park\": [\"Yellowstone\", \"Banff\", \"Kruger\",\n",
        "             \"Yellowstone\", \"Serengeti\", \"Banff\"],\n",
        "    \"Country\": [\"USA\", \"Canada\", \"South Africa\",\n",
        "                \"USA\", \"Tanzania\", \"Canada\"]\n",
        "}\n",
        "df_parks = pd.DataFrame(dict_parks)\n",
        "\n",
        "unique_park_count = df_parks[\"Park\"].nunique()\n",
        "print(unique_park_count)"
      ],
      "metadata": {
        "colab": {
          "base_uri": "https://localhost:8080/"
        },
        "outputId": "5b2b11ec-32d3-46b9-fea2-2245ef23105b",
        "id": "Jy1GEppJYGfj"
      },
      "execution_count": 26,
      "outputs": [
        {
          "output_type": "stream",
          "name": "stdout",
          "text": [
            "4\n"
          ]
        }
      ]
    },
    {
      "cell_type": "markdown",
      "source": [
        "### Counting Unique Value Frequency\n",
        "\n",
        "The `.value_counts()` method returns the _frequency count_ of unique values in a **Series** or a column of a **DataFrame**.\n",
        "\n",
        "```python\n",
        "# basic syntax\n",
        "series.value_counts(normalize=False, sort=True)\n",
        "```\n",
        "\n",
        "- `normalize`: If `True`, returns the proportion of each value instead of raw counts.\n",
        "- `sort`: If `True`, sorts counts in descending order (default behavior)."
      ],
      "metadata": {
        "id": "dbNVW-YYVZWz"
      }
    },
    {
      "cell_type": "code",
      "source": [
        "dict_parks = {\n",
        "    \"Park\": [\"Yellowstone\", \"Banff\", \"Kruger\",\n",
        "             \"Yellowstone\", \"Serengeti\", \"Banff\"],\n",
        "    \"Country\": [\"USA\", \"Canada\", \"South Africa\",\n",
        "                \"USA\", \"Tanzania\", \"Canada\"]\n",
        "}\n",
        "df_parks = pd.DataFrame(dict_parks)\n",
        "\n",
        "park_counts = df_parks[\"Park\"].value_counts()\n",
        "print(park_counts)"
      ],
      "metadata": {
        "colab": {
          "base_uri": "https://localhost:8080/"
        },
        "id": "iz3xNqlhV3oq",
        "outputId": "62ba0c17-a997-4688-9aaa-3b5d8fc2da23"
      },
      "execution_count": 24,
      "outputs": [
        {
          "output_type": "stream",
          "name": "stdout",
          "text": [
            "Park\n",
            "Yellowstone    2\n",
            "Banff          2\n",
            "Kruger         1\n",
            "Serengeti      1\n",
            "Name: count, dtype: int64\n"
          ]
        }
      ]
    },
    {
      "cell_type": "markdown",
      "source": [
        "### Viewing Unique Values\n",
        "\n",
        "The `.unique()` method returns an array of all unique values in a **Series** or a column of a **DataFrame**."
      ],
      "metadata": {
        "id": "CfYCIeb4WKRP"
      }
    },
    {
      "cell_type": "code",
      "source": [
        "dict_parks = {\n",
        "    \"Park\": [\"Yellowstone\", \"Banff\", \"Kruger\",\n",
        "             \"Yellowstone\", \"Serengeti\", \"Banff\"],\n",
        "    \"Country\": [\"USA\", \"Canada\", \"South Africa\",\n",
        "                \"USA\", \"Tanzania\", \"Canada\"]\n",
        "}\n",
        "df_parks = pd.DataFrame(dict_parks)\n",
        "\n",
        "unique_countries = df_parks[\"Country\"].unique()\n",
        "print(unique_countries)"
      ],
      "metadata": {
        "colab": {
          "base_uri": "https://localhost:8080/"
        },
        "id": "VsqGZPugWcF0",
        "outputId": "cb4ac850-a9ac-43a0-9605-14b10db78531"
      },
      "execution_count": 25,
      "outputs": [
        {
          "output_type": "stream",
          "name": "stdout",
          "text": [
            "['USA' 'Canada' 'South Africa' 'Tanzania']\n"
          ]
        }
      ]
    },
    {
      "cell_type": "markdown",
      "source": [
        "## Exercise 1\n",
        "\n",
        "Create a `Pandas` **DataFrame** containing information about the **five highest mountains in the world**. Follow these steps:\n",
        "\n",
        "- Use the data dictionary provided, that contains the following columns:\n",
        "  - `Mountain`: The name of the mountain.\n",
        "  - `Height_m`: The height of the mountain in meters.\n",
        "  - `Location`: The location (countries or regions) of the mountain.\n",
        "  - `First_Ascent`: The year of the first recorded ascent.\n",
        "- Create a `Pandas` **DataFrame**.\n",
        "- Print the following pandas attributes:\n",
        "  - `dtypes`: Check the data types of the columns.\n",
        "  - `columns`: Display the column names in the DataFrame.\n",
        "  - `shape`: Print the number of rows and columns in the DataFrame.\n",
        "\n",
        "  ```python\n",
        "  data = {\n",
        "    'Mountain': ['Mount Everest', 'K2', 'Kangchenjunga', 'Lhotse',\n",
        "                 'Makalu'],\n",
        "    'Height_m': [8848, 8611, 8586, 8516, 8485],\n",
        "    'Location': ['Nepal/China', 'Pakistan/China', 'Nepal/India',\n",
        "                 'Nepal/China', 'Nepal/China'],\n",
        "    'First_Ascent': [1953, 1954, 1955, 1956, 1955],\n",
        "    }\n",
        "  ```"
      ],
      "metadata": {
        "id": "ADg0B7DPB3Ba"
      }
    },
    {
      "cell_type": "code",
      "source": [
        "data = {\n",
        "    'Mountain': ['Mount Everest', 'K2', 'Kangchenjunga', 'Lhotse',\n",
        "                 'Makalu'],\n",
        "    'Height_m': [8848, 8611, 8586, 8516, 8485],\n",
        "    'Location': ['Nepal/China', 'Pakistan/China', 'Nepal/India',\n",
        "                 'Nepal/China', 'Nepal/China'],\n",
        "    'First_Ascent': [1953, 1954, 1955, 1956, 1955],\n",
        "    }\n",
        "\n",
        "# creating a DataFrame\n",
        "df_mountains = pd.DataFrame(data)\n",
        "print(f\"The DataFrame:\\n{df_mountains}\\n\")\n",
        "\n",
        "# exploring the DataFrame\n",
        "# view column data types\n",
        "print(f\"Column data types:\\n{df_mountains.dtypes}\\n\")\n",
        "\n",
        "# view column names\n",
        "print(f\"Column names:\\n{df_mountains.columns}\\n\")\n",
        "\n",
        "# view number of rows and columns\n",
        "print(f\"Number of rows and columns:\\n{df_mountains.shape}\")"
      ],
      "metadata": {
        "colab": {
          "base_uri": "https://localhost:8080/"
        },
        "id": "GLywrhBtCkMP",
        "outputId": "85ec12e0-a4f8-46af-b1fb-d94880c612ca"
      },
      "execution_count": 14,
      "outputs": [
        {
          "output_type": "stream",
          "name": "stdout",
          "text": [
            "The DataFrame:\n",
            "        Mountain  Height_m        Location  First_Ascent\n",
            "0  Mount Everest      8848     Nepal/China          1953\n",
            "1             K2      8611  Pakistan/China          1954\n",
            "2  Kangchenjunga      8586     Nepal/India          1955\n",
            "3         Lhotse      8516     Nepal/China          1956\n",
            "4         Makalu      8485     Nepal/China          1955\n",
            "\n",
            "Column data types:\n",
            "Mountain        object\n",
            "Height_m         int64\n",
            "Location        object\n",
            "First_Ascent     int64\n",
            "dtype: object\n",
            "\n",
            "Column names:\n",
            "Index(['Mountain', 'Height_m', 'Location', 'First_Ascent'], dtype='object')\n",
            "\n",
            "Number of rows and columns:\n",
            "(5, 4)\n"
          ]
        }
      ]
    },
    {
      "cell_type": "markdown",
      "source": [
        "## Exercise 2\n",
        "\n",
        "Let’s now analyze a `Pandas` **DataFrame** containing information about the **five highest mountains in Europe**.\n",
        "\n",
        "- Use `.head(2)` to check the first two rows of the DataFrame.\n",
        "- Use `.tail(2)` to check the last two rows of the DataFrame.\n",
        "- Use `.info()` to display a summary of the DataFrame, including column names, non-null counts, and data types.\n",
        "\n",
        "```python\n",
        "data = {\n",
        "    'Mountain': ['Mount Elbrus', 'Dykh-Tau', 'Shkhara', 'Koshtan-Tau',\n",
        "                 'Pushkin Peak'],\n",
        "    'Height_m': [5642, 5205, 5193, 5151, 5100],\n",
        "    'Location': ['Russia', 'Russia', 'Russia/Georgia', 'Russia',\n",
        "                 'Russia'],\n",
        "    'First_Ascent': [1874, 1888, 1888, 1889, 1891],\n",
        "    }\n",
        "```"
      ],
      "metadata": {
        "id": "XmRZepPdTryK"
      }
    },
    {
      "cell_type": "code",
      "source": [
        "# creating a dictionary with mountain information\n",
        "dict_eu_mountains = {\n",
        "    'Mountain': ['Mount Elbrus', 'Dykh-Tau', 'Shkhara', 'Koshtan-Tau',\n",
        "                 'Pushkin Peak'],\n",
        "    'Height_m': [5642, 5205, 5193, 5151, 5100],\n",
        "    'Location': ['Russia', 'Russia', 'Russia/Georgia', 'Russia',\n",
        "                 'Russia'],\n",
        "    'First_Ascent': [1874, 1888, 1888, 1889, 1891],\n",
        "    }\n",
        "\n",
        "# converting a dictionary to a DataFrame\n",
        "df_eu_mountains = pd.DataFrame(dict_eu_mountains)\n",
        "print(f\"The DataFrame:\\n{df_eu_mountains}\\n\")\n",
        "\n",
        "# display the first 2 rows only\n",
        "print(f\"The first 2 rows only:\\n{df_eu_mountains.head(2)}\\n\")\n",
        "\n",
        "# display the last 2 rows only\n",
        "print(f\"The last 2 rows only:\\n{df_eu_mountains.tail(2)}\\n\")\n",
        "\n",
        "# display DataFrame metadata\n",
        "print(f\"The metadata is:\\n{df_eu_mountains.info()}\")"
      ],
      "metadata": {
        "colab": {
          "base_uri": "https://localhost:8080/"
        },
        "id": "Qdesr7WIUBC6",
        "outputId": "62281bab-d48a-4b13-f117-98d423ad9072"
      },
      "execution_count": 23,
      "outputs": [
        {
          "output_type": "stream",
          "name": "stdout",
          "text": [
            "The DataFrame:\n",
            "       Mountain  Height_m        Location  First_Ascent\n",
            "0  Mount Elbrus      5642          Russia          1874\n",
            "1      Dykh-Tau      5205          Russia          1888\n",
            "2       Shkhara      5193  Russia/Georgia          1888\n",
            "3   Koshtan-Tau      5151          Russia          1889\n",
            "4  Pushkin Peak      5100          Russia          1891\n",
            "\n",
            "The first 2 rows only:\n",
            "       Mountain  Height_m Location  First_Ascent\n",
            "0  Mount Elbrus      5642   Russia          1874\n",
            "1      Dykh-Tau      5205   Russia          1888\n",
            "\n",
            "The last 3 rows only:\n",
            "       Mountain  Height_m Location  First_Ascent\n",
            "3   Koshtan-Tau      5151   Russia          1889\n",
            "4  Pushkin Peak      5100   Russia          1891\n",
            "\n",
            "<class 'pandas.core.frame.DataFrame'>\n",
            "RangeIndex: 5 entries, 0 to 4\n",
            "Data columns (total 4 columns):\n",
            " #   Column        Non-Null Count  Dtype \n",
            "---  ------        --------------  ----- \n",
            " 0   Mountain      5 non-null      object\n",
            " 1   Height_m      5 non-null      int64 \n",
            " 2   Location      5 non-null      object\n",
            " 3   First_Ascent  5 non-null      int64 \n",
            "dtypes: int64(2), object(2)\n",
            "memory usage: 292.0+ bytes\n",
            "The metadata is:\n",
            "None\n"
          ]
        }
      ]
    },
    {
      "cell_type": "markdown",
      "source": [
        "## Exercise 3\n",
        "\n",
        "Let’s check the **five highest mountains in Africa** now. However, the dataset includes duplicate entries for some mountains, resulting in 7 or 8 rows. Your job is to analyze the dataset and complete the following tasks:\n",
        "\n",
        "- Create a pandas DataFrame using the provided data.\n",
        "- Use `.value_counts()` to count how many times each mountain appears in the dataset.\n",
        "- Use `.nunique()` to find the number of unique mountain names in the dataset.\n",
        "- Use `.unique()` to list the names of all unique mountains.\n",
        "\n",
        "```python\n",
        "data = {\n",
        "    \"Mountain\": [\n",
        "        \"Mount Kilimanjaro\", \"Mount Kenya\", \"Mount Stanley\",\n",
        "        \"Mount Kenya\", \"Mount Speke\", \"Mount Baker\",\n",
        "        \"Mount Kilimanjaro\", \"Mount Stanley\"\n",
        "    ],\n",
        "    \"Height_m\": [\n",
        "        5895, 5199, 5109,\n",
        "        5199, 4890, 4843,\n",
        "        5895, 5109\n",
        "    ],\n",
        "    \"Location\": [\n",
        "        \"Tanzania\", \"Kenya\", \"Uganda/Congo\",\n",
        "        \"Kenya\", \"Uganda\", \"Uganda\",\n",
        "        \"Tanzania\", \"Uganda/Congo\"\n",
        "    ]\n",
        "}\n",
        "```"
      ],
      "metadata": {
        "id": "J4XD-B-SYWi1"
      }
    },
    {
      "cell_type": "code",
      "source": [
        "# creating a dictionary with mountain information\n",
        "dict_africa_mountains = {\n",
        "    \"Mountain\": [\n",
        "        \"Mount Kilimanjaro\", \"Mount Kenya\", \"Mount Stanley\",\n",
        "        \"Mount Kenya\", \"Mount Speke\", \"Mount Baker\",\n",
        "        \"Mount Kilimanjaro\", \"Mount Stanley\"\n",
        "    ],\n",
        "    \"Height_m\": [\n",
        "        5895, 5199, 5109,\n",
        "        5199, 4890, 4843,\n",
        "        5895, 5109\n",
        "    ],\n",
        "    \"Location\": [\n",
        "        \"Tanzania\", \"Kenya\", \"Uganda/Congo\",\n",
        "        \"Kenya\", \"Uganda\", \"Uganda\",\n",
        "        \"Tanzania\", \"Uganda/Congo\"\n",
        "    ]\n",
        "}\n",
        "\n",
        "# converting a dictionary to a DataFrame\n",
        "df_africa_mountains = pd.DataFrame(dict_africa_mountains)\n",
        "print(f\"The DataFrame:\\n{df_africa_mountains}\\n\")\n",
        "\n",
        "# count the duplicates\n",
        "mountain_counts = df_africa_mountains[\"Mountain\"].value_counts()\n",
        "print(f\"The number of duplicates is:\\n{mountain_counts}\\n\")\n",
        "\n",
        "# count number of unique mountains\n",
        "unique_mountain_count = df_africa_mountains[\"Mountain\"].nunique()\n",
        "print(f\"The number of unique mountains is:\\n{unique_mountain_count}\\n\")\n",
        "\n",
        "# list all unique mountains\n",
        "unique_mountains = df_africa_mountains[\"Mountain\"].unique()\n",
        "print(f\"The unique mountains are:\\n{unique_mountains}\")"
      ],
      "metadata": {
        "colab": {
          "base_uri": "https://localhost:8080/"
        },
        "id": "Cpta3H1OYqbD",
        "outputId": "ad7037af-d8b2-4788-e45a-8ef80e592f5e"
      },
      "execution_count": 28,
      "outputs": [
        {
          "output_type": "stream",
          "name": "stdout",
          "text": [
            "The DataFrame:\n",
            "            Mountain  Height_m      Location\n",
            "0  Mount Kilimanjaro      5895      Tanzania\n",
            "1        Mount Kenya      5199         Kenya\n",
            "2      Mount Stanley      5109  Uganda/Congo\n",
            "3        Mount Kenya      5199         Kenya\n",
            "4        Mount Speke      4890        Uganda\n",
            "5        Mount Baker      4843        Uganda\n",
            "6  Mount Kilimanjaro      5895      Tanzania\n",
            "7      Mount Stanley      5109  Uganda/Congo\n",
            "\n",
            "The number of duplicates is:\n",
            "Mountain\n",
            "Mount Kilimanjaro    2\n",
            "Mount Kenya          2\n",
            "Mount Stanley        2\n",
            "Mount Speke          1\n",
            "Mount Baker          1\n",
            "Name: count, dtype: int64\n",
            "\n",
            "The number of unique mountains is:\n",
            "5\n",
            "\n",
            "The unique mountains are:\n",
            "['Mount Kilimanjaro' 'Mount Kenya' 'Mount Stanley' 'Mount Speke'\n",
            " 'Mount Baker']\n"
          ]
        }
      ]
    }
  ]
}
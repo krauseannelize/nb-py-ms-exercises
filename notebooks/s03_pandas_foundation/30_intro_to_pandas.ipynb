{
  "nbformat": 4,
  "nbformat_minor": 0,
  "metadata": {
    "colab": {
      "provenance": [],
      "authorship_tag": "ABX9TyMe7lGBFJTG5RIsg5bmLVnD",
      "include_colab_link": true
    },
    "kernelspec": {
      "name": "python3",
      "display_name": "Python 3"
    },
    "language_info": {
      "name": "python"
    }
  },
  "cells": [
    {
      "cell_type": "markdown",
      "metadata": {
        "id": "view-in-github",
        "colab_type": "text"
      },
      "source": [
        "<a href=\"https://colab.research.google.com/github/krauseannelize/nb-py-ms-exercises/blob/sprint03/notebooks/s03_pandas_foundation/30_intro_to_pandas.ipynb\" target=\"_parent\"><img src=\"https://colab.research.google.com/assets/colab-badge.svg\" alt=\"Open In Colab\"/></a>"
      ]
    },
    {
      "cell_type": "markdown",
      "source": [
        "# Intro to `Pandas`\n",
        "\n",
        "## What is `Pandas`?\n",
        "\n",
        "- `Pandas` is an open-source Python library used for data manipulation and analysis\n",
        "- It provides data structures like **DataFrames** and **Series** to handle structured data efficiently\n",
        "- Provide efficient handling of structured data\n",
        "  - Series (1D)\n",
        "  - DataFrame (2D)\n",
        "- **`pd`** used as alias for convenience"
      ],
      "metadata": {
        "id": "ItQW8468bG_Q"
      }
    },
    {
      "cell_type": "markdown",
      "source": [
        "## Why `Pandas`?\n",
        "\n",
        "- Simplifies data cleaning and preparation\n",
        "- Enables efficient data exploration and analysis\n",
        "Integrates well with other Python libraries (e.g. `NumPy`, `Matplotlib`, `Scikit-learn`)\n",
        "- `Pandas` is widely used in various fields including data science, machine learning, finance, research, and more"
      ],
      "metadata": {
        "id": "0VDMYTivOGsZ"
      }
    },
    {
      "cell_type": "markdown",
      "source": [
        "## Installing `Pandas` library\n",
        "\n",
        "```python\n",
        "!pip install pandas\n",
        "```\n",
        "\n",
        "## Importing `Pandas` & `NumPy` library"
      ],
      "metadata": {
        "id": "5dUo2GC9OM-Q"
      }
    },
    {
      "cell_type": "code",
      "source": [
        "import pandas as pd\n",
        "import numpy as np"
      ],
      "metadata": {
        "id": "85D0100rc6n8"
      },
      "execution_count": 64,
      "outputs": []
    },
    {
      "cell_type": "markdown",
      "source": [
        "## `Pandas` Series\n",
        "\n",
        "`Pandas` **Series**:\n",
        "\n",
        "- is a one dimensional array\n",
        "- can consist of any data type (int, str, float, etc)\n",
        "- values are labeled with their index number using zero-indexing\n",
        "- value labels can be customized using the `index` parameter\n",
        "\n",
        "It is very similar to a `NumPy` **array** (in fact it is built on top of the `NumPy` array object). What differentiates the `NumPy` **array** from a `Pandas` **Series**, is that:\n",
        "\n",
        "- a **Series** can have _axis labels_, meaning it can be indexed by a label, instead of just a number location\n",
        "- it doesn't need to hold numeric data, it can hold any arbitrary Python Object."
      ],
      "metadata": {
        "id": "PGn4ig_cc9V6"
      }
    },
    {
      "cell_type": "markdown",
      "source": [
        "## Creating a Series\n",
        "\n",
        "The `pd.Series()` constructor is used to create a **Series** by passing any of the following to it:\n",
        "\n",
        "- a list\n",
        "- a `NumPy` **array**\n",
        "- a dictionary\n",
        "- a scalar value and an index\n",
        "- any functions\n",
        "\n",
        "Key attributes of a `Pandas` **Series** include:\n",
        "\n",
        "| Attribute | Description |\n",
        "| --- | --- |\n",
        "| **values** | Returns the data as a `NumPy` array |\n",
        "| **index** | Returns the index labels |\n",
        "| **dtype** | The data type of the values in the **Series** |\n",
        "| **shape** | The dimensions of the **Series** (always 1D) |\n",
        "| **size** | The number of elements in the **Series** |"
      ],
      "metadata": {
        "id": "3UCZL_ByOWOH"
      }
    },
    {
      "cell_type": "code",
      "source": [
        "# from a list\n",
        "my_list = [10, 20, 30, 40, 50]\n",
        "my_series = pd.Series(my_list)\n",
        "print(my_series)"
      ],
      "metadata": {
        "colab": {
          "base_uri": "https://localhost:8080/"
        },
        "id": "PxiPD_Vngfpc",
        "outputId": "66500076-36cd-4e9f-dbaa-d2bbfef317db"
      },
      "execution_count": 65,
      "outputs": [
        {
          "output_type": "stream",
          "name": "stdout",
          "text": [
            "0    10\n",
            "1    20\n",
            "2    30\n",
            "3    40\n",
            "4    50\n",
            "dtype: int64\n"
          ]
        }
      ]
    },
    {
      "cell_type": "code",
      "source": [
        "# from a list with custom index labels\n",
        "my_list = [10, 20, 30, 40, 50]\n",
        "my_series = pd.Series(data=my_list, index=['label1', 'label2', 'label3', 'label4', 'label5'])\n",
        "print(my_series)"
      ],
      "metadata": {
        "colab": {
          "base_uri": "https://localhost:8080/"
        },
        "id": "Exidw_7I2OVB",
        "outputId": "2f9f4f3f-f6f7-4ab0-88f2-e1315fd5cdf5"
      },
      "execution_count": 66,
      "outputs": [
        {
          "output_type": "stream",
          "name": "stdout",
          "text": [
            "label1    10\n",
            "label2    20\n",
            "label3    30\n",
            "label4    40\n",
            "label5    50\n",
            "dtype: int64\n"
          ]
        }
      ]
    },
    {
      "cell_type": "code",
      "source": [
        "# from a NumPy array\n",
        "my_array = np.array([10, 20, 30, 40, 50])\n",
        "my_series = pd.Series(my_array)\n",
        "print(my_series)"
      ],
      "metadata": {
        "colab": {
          "base_uri": "https://localhost:8080/"
        },
        "id": "QQmEoMjfylkx",
        "outputId": "310835e0-c787-429b-cf09-5448b87946ad"
      },
      "execution_count": 67,
      "outputs": [
        {
          "output_type": "stream",
          "name": "stdout",
          "text": [
            "0    10\n",
            "1    20\n",
            "2    30\n",
            "3    40\n",
            "4    50\n",
            "dtype: int64\n"
          ]
        }
      ]
    },
    {
      "cell_type": "code",
      "source": [
        "# from a NumPy array using custom labels\n",
        "my_array = np.array([10, 20, 30, 40, 50])\n",
        "my_labels = ['label1', 'label2', 'label3', 'label4', 'label5']\n",
        "my_series = pd.Series(data=my_array, index=my_labels)\n",
        "print(my_series)"
      ],
      "metadata": {
        "colab": {
          "base_uri": "https://localhost:8080/"
        },
        "id": "QIVgPuH84IPA",
        "outputId": "de1fdbb1-9415-4dd5-8a7f-015f3b1aca5f"
      },
      "execution_count": 68,
      "outputs": [
        {
          "output_type": "stream",
          "name": "stdout",
          "text": [
            "label1    10\n",
            "label2    20\n",
            "label3    30\n",
            "label4    40\n",
            "label5    50\n",
            "dtype: int64\n"
          ]
        }
      ]
    },
    {
      "cell_type": "code",
      "source": [
        "# from a dictionary - dictionary key becomes series labels\n",
        "my_dict = {'key1': 10, 'key2': 20, 'key3': 30, 'key4': 40, 'key5': 50}\n",
        "my_series = pd.Series(my_dict)\n",
        "print(my_series)"
      ],
      "metadata": {
        "colab": {
          "base_uri": "https://localhost:8080/"
        },
        "id": "Z3iBaTtjyuxU",
        "outputId": "c522bdb6-ae86-4d1c-ce5e-5188275332ba"
      },
      "execution_count": 69,
      "outputs": [
        {
          "output_type": "stream",
          "name": "stdout",
          "text": [
            "key1    10\n",
            "key2    20\n",
            "key3    30\n",
            "key4    40\n",
            "key5    50\n",
            "dtype: int64\n"
          ]
        }
      ]
    },
    {
      "cell_type": "code",
      "source": [
        "# from a dictionary using a specific index to select only certain values\n",
        "my_series_subset = pd.Series(my_dict, index=['key3', 'key1'])\n",
        "print(my_series_subset)"
      ],
      "metadata": {
        "colab": {
          "base_uri": "https://localhost:8080/"
        },
        "id": "x9wHqcMR3ddz",
        "outputId": "8b8f19f1-16d3-4e8b-8795-61b1bc90dc85"
      },
      "execution_count": 70,
      "outputs": [
        {
          "output_type": "stream",
          "name": "stdout",
          "text": [
            "key3    30\n",
            "key1    10\n",
            "dtype: int64\n"
          ]
        }
      ]
    },
    {
      "cell_type": "code",
      "source": [
        "# from a scalar value and an index\n",
        "my_series = pd.Series(10, index=[0, 1, 2, 3, 4])\n",
        "print(my_series)"
      ],
      "metadata": {
        "colab": {
          "base_uri": "https://localhost:8080/"
        },
        "id": "wVrThcY9y0r-",
        "outputId": "00cc6c4b-2e23-4002-94bd-54e69fb309e0"
      },
      "execution_count": 71,
      "outputs": [
        {
          "output_type": "stream",
          "name": "stdout",
          "text": [
            "0    10\n",
            "1    10\n",
            "2    10\n",
            "3    10\n",
            "4    10\n",
            "dtype: int64\n"
          ]
        }
      ]
    },
    {
      "cell_type": "code",
      "source": [
        "# from functions (although unlikely that you will use this)\n",
        "\n",
        "# function counts the number of vowels in a string\n",
        "def find_vowels(text):\n",
        "  vowels = 0\n",
        "  for letter in text:\n",
        "    if letter.lower() in 'aeiou':\n",
        "      vowels += 1\n",
        "  return vowels\n",
        "\n",
        "# function counts the number of consonants in a string\n",
        "def find_consonants(text):\n",
        "  consonants = 0\n",
        "  for letter in text:\n",
        "    # .isalpha() checks if character is an alphabetical letter\n",
        "    if letter.isalpha() and letter.lower() not in 'aeiou':\n",
        "      consonants += 1\n",
        "  return consonants\n",
        "\n",
        "# create Pandas Series to store the funcitons\n",
        "my_functions = pd.Series([len, find_vowels, find_consonants])\n",
        "\n",
        "def analyze_string():\n",
        "  try:\n",
        "    # prompt user for string\n",
        "    text = input(\"Enter a string: \")\n",
        "\n",
        "    print(f\"Your string has {my_functions[0](text)} characters.\")\n",
        "    print(f\"It has {my_functions[1](text)} vowels.\")\n",
        "    print(f\"It has {my_functions[2](text)} consonants.\")\n",
        "\n",
        "  except ValueError:\n",
        "    print(\"Invalid input\")\n",
        "    return None\n",
        "\n",
        "analyze_string()"
      ],
      "metadata": {
        "colab": {
          "base_uri": "https://localhost:8080/"
        },
        "id": "AzAbX15OqrJe",
        "outputId": "75e0ce98-11ae-4737-b2ec-ba7d61bdae2c"
      },
      "execution_count": 72,
      "outputs": [
        {
          "output_type": "stream",
          "name": "stdout",
          "text": [
            "Enter a string: Bob the Builder! Can we fix it?\n",
            "Your string has 31 characters.\n",
            "It has 9 vowels.\n",
            "It has 14 consonants.\n"
          ]
        }
      ]
    },
    {
      "cell_type": "markdown",
      "source": [
        "## Using a Series Index\n",
        "\n",
        "The key to using a **Series** is to understand its index. It's a key-value system that allows for fast lookups, much like a Python dictionary.\n",
        "\n",
        "You can use the index label directly inside square brackets `[]` to get a single value."
      ],
      "metadata": {
        "id": "R-cWNadpqpdk"
      }
    },
    {
      "cell_type": "code",
      "source": [
        "num_series = pd.Series(data=[10, 20, 30, 40, 50], index = ['a', 'b', 'c', 'd', 'e'])\n",
        "print(num_series) # print the entire series"
      ],
      "metadata": {
        "colab": {
          "base_uri": "https://localhost:8080/"
        },
        "id": "EROnFQLizfbA",
        "outputId": "192f6849-4ebc-4e0a-d1da-b71c43cb7a3f"
      },
      "execution_count": 73,
      "outputs": [
        {
          "output_type": "stream",
          "name": "stdout",
          "text": [
            "a    10\n",
            "b    20\n",
            "c    30\n",
            "d    40\n",
            "e    50\n",
            "dtype: int64\n"
          ]
        }
      ]
    },
    {
      "cell_type": "code",
      "source": [
        "print(num_series['d'])  # get the value of the 'd' label"
      ],
      "metadata": {
        "colab": {
          "base_uri": "https://localhost:8080/"
        },
        "id": "Gn7XR9baz6dw",
        "outputId": "6e8a3265-934e-41f5-e91a-8063d79b0643"
      },
      "execution_count": 74,
      "outputs": [
        {
          "output_type": "stream",
          "name": "stdout",
          "text": [
            "40\n"
          ]
        }
      ]
    },
    {
      "cell_type": "markdown",
      "source": [
        "## Basic Operations on Series\n",
        "\n",
        "- perform element-wise operations with arithmetic operations\n",
        "- access subsets in the **Series** using the index argument\n",
        "- use `boolean` conditions to filter data\n",
        "- perform aggregations on the **Series** using methods like `.sum()`, `.mean()`, `.max()` and `.min()`"
      ],
      "metadata": {
        "id": "2dUIeliRZvt4"
      }
    },
    {
      "cell_type": "code",
      "source": [
        "# arithmetic operations\n",
        "\n",
        "ser1 = pd.Series(data=[10, 20, 30, 40], index = ['C', 'A','B','E'])\n",
        "ser2 = pd.Series(data=[5, 12, 23, 34], index = ['C', 'A','D', 'E'])\n",
        "print(ser1 + ser2)\n",
        "\n",
        "# when an index exists in one Series but not the other, the result of a normal\n",
        "# addition would be NaN because there is no corresponding value to add"
      ],
      "metadata": {
        "colab": {
          "base_uri": "https://localhost:8080/"
        },
        "id": "K8f02rdYbMMn",
        "outputId": "aecdad11-9d6b-4071-8a0f-064c76953e6f"
      },
      "execution_count": 75,
      "outputs": [
        {
          "output_type": "stream",
          "name": "stdout",
          "text": [
            "A    32.0\n",
            "B     NaN\n",
            "C    15.0\n",
            "D     NaN\n",
            "E    74.0\n",
            "dtype: float64\n"
          ]
        }
      ]
    },
    {
      "cell_type": "code",
      "source": [
        "print(ser1 * ser2)"
      ],
      "metadata": {
        "colab": {
          "base_uri": "https://localhost:8080/"
        },
        "id": "4Zv9E1E_rW4j",
        "outputId": "13d250a1-4ca3-428a-8ed9-e54261775391"
      },
      "execution_count": 76,
      "outputs": [
        {
          "output_type": "stream",
          "name": "stdout",
          "text": [
            "A     240.0\n",
            "B       NaN\n",
            "C      50.0\n",
            "D       NaN\n",
            "E    1360.0\n",
            "dtype: float64\n"
          ]
        }
      ]
    },
    {
      "cell_type": "code",
      "source": [
        "# filtering\n",
        "\n",
        "print(ser1[ser1 > 25])"
      ],
      "metadata": {
        "colab": {
          "base_uri": "https://localhost:8080/"
        },
        "id": "m1_R3-vQhA8c",
        "outputId": "15565745-19c2-4607-b283-d06abcb26b09"
      },
      "execution_count": 77,
      "outputs": [
        {
          "output_type": "stream",
          "name": "stdout",
          "text": [
            "B    30\n",
            "E    40\n",
            "dtype: int64\n"
          ]
        }
      ]
    },
    {
      "cell_type": "code",
      "source": [
        "# aggregation\n",
        "\n",
        "print(\"Sum:\", ser1.sum())\n",
        "print(\"Mean:\", ser1.mean())"
      ],
      "metadata": {
        "colab": {
          "base_uri": "https://localhost:8080/"
        },
        "id": "gXlDsIwihc_o",
        "outputId": "018b667b-a372-4d94-b99e-669e33db1023"
      },
      "execution_count": 78,
      "outputs": [
        {
          "output_type": "stream",
          "name": "stdout",
          "text": [
            "Sum: 100\n",
            "Mean: 25.0\n"
          ]
        }
      ]
    },
    {
      "cell_type": "markdown",
      "source": [
        "---\n",
        "\n",
        "# Intro to Numpy\n",
        "\n",
        "## What is `NumPy`?\n",
        "\n",
        "- `NumPy` is a Linear Algebra Library for Python\n",
        "- `NumPy` stands for **Numerical Python**\n",
        "- **`np`** used as alias for convenience"
      ],
      "metadata": {
        "id": "ptbCNyMliXZg"
      }
    },
    {
      "cell_type": "markdown",
      "source": [
        "## Why `NumPy`?\n",
        "\n",
        "- almost all of the libraries in the **PyData Ecosystem** rely on `NumPy` as one of their main building blocks\n",
        "- `NumPy` arrays are used internally in `Pandas` for efficient data storage and computation\n",
        "- it is incredibly fast, as it has bindings to C libraries\n",
        "- can handle large datasets with efficient array operations"
      ],
      "metadata": {
        "id": "2kd2O6Uxjhz0"
      }
    },
    {
      "cell_type": "markdown",
      "source": [
        "## Installing `NumPy` library\n",
        "\n",
        "```python\n",
        "!pip install numpy\n",
        "```\n",
        "\n",
        "## Importing `NumPy` and `Pandas` library"
      ],
      "metadata": {
        "id": "DTV3XH5libzv"
      }
    },
    {
      "cell_type": "code",
      "source": [
        "import numpy as np\n",
        "import pandas as pd"
      ],
      "metadata": {
        "id": "9USfQGcZkoso"
      },
      "execution_count": 79,
      "outputs": []
    },
    {
      "cell_type": "markdown",
      "source": [
        "## Creating `NumPy` Arrays\n",
        "\n",
        "We have various possibilities to create arrays:\n",
        "\n",
        "- converting lists or tuples, including nested\n",
        "- arrays of zeros, ones or other specific constant\n",
        "- range of values\n",
        "- random arrays"
      ],
      "metadata": {
        "id": "Ag2sc4mFhOav"
      }
    },
    {
      "cell_type": "code",
      "source": [
        "# converting a list into an array\n",
        "my_list = [10, 20, 30, 40, 50]\n",
        "np.array(my_list)"
      ],
      "metadata": {
        "colab": {
          "base_uri": "https://localhost:8080/"
        },
        "id": "D4A5TUibl3Z8",
        "outputId": "c9bffa9c-8c28-4b2b-b203-4af452ac53e4"
      },
      "execution_count": 80,
      "outputs": [
        {
          "output_type": "execute_result",
          "data": {
            "text/plain": [
              "array([10, 20, 30, 40, 50])"
            ]
          },
          "metadata": {},
          "execution_count": 80
        }
      ]
    },
    {
      "cell_type": "code",
      "source": [
        "# converting a nested list into an array\n",
        "my_matrix = [[10, 20, 30], [40, 50, 60], [70, 80, 90]]\n",
        "np.array(my_matrix)"
      ],
      "metadata": {
        "colab": {
          "base_uri": "https://localhost:8080/"
        },
        "id": "jo9POh96mLIh",
        "outputId": "1f658e7c-f2ca-4263-8a12-aee76c0f44cd"
      },
      "execution_count": 81,
      "outputs": [
        {
          "output_type": "execute_result",
          "data": {
            "text/plain": [
              "array([[10, 20, 30],\n",
              "       [40, 50, 60],\n",
              "       [70, 80, 90]])"
            ]
          },
          "metadata": {},
          "execution_count": 81
        }
      ]
    },
    {
      "cell_type": "code",
      "source": [
        "# creating a 3x5 array of zeros\n",
        "# default datatype is float\n",
        "np.zeros((3,5))"
      ],
      "metadata": {
        "colab": {
          "base_uri": "https://localhost:8080/"
        },
        "id": "4lAcww2wmdln",
        "outputId": "7c8523db-60d4-414e-a746-c6fe064adfbe"
      },
      "execution_count": 82,
      "outputs": [
        {
          "output_type": "execute_result",
          "data": {
            "text/plain": [
              "array([[0., 0., 0., 0., 0.],\n",
              "       [0., 0., 0., 0., 0.],\n",
              "       [0., 0., 0., 0., 0.]])"
            ]
          },
          "metadata": {},
          "execution_count": 82
        }
      ]
    },
    {
      "cell_type": "code",
      "source": [
        "# creating a 4x8 array of ones\n",
        "# adding int datatype\n",
        "np.ones(shape=(4,8), dtype='int')"
      ],
      "metadata": {
        "colab": {
          "base_uri": "https://localhost:8080/"
        },
        "id": "R_C_r2lyoM7l",
        "outputId": "532a26f2-961b-49b4-c14d-637d37fea749"
      },
      "execution_count": 83,
      "outputs": [
        {
          "output_type": "execute_result",
          "data": {
            "text/plain": [
              "array([[1, 1, 1, 1, 1, 1, 1, 1],\n",
              "       [1, 1, 1, 1, 1, 1, 1, 1],\n",
              "       [1, 1, 1, 1, 1, 1, 1, 1],\n",
              "       [1, 1, 1, 1, 1, 1, 1, 1]])"
            ]
          },
          "metadata": {},
          "execution_count": 83
        }
      ]
    },
    {
      "cell_type": "code",
      "source": [
        "# creating a 2x3 array with a constant\n",
        "np.full(shape=(2,3), fill_value=8, dtype='int')"
      ],
      "metadata": {
        "colab": {
          "base_uri": "https://localhost:8080/"
        },
        "id": "nMzO5DlKoeQD",
        "outputId": "6f254bc9-459e-4cbf-f160-b157bc25b0bb"
      },
      "execution_count": 84,
      "outputs": [
        {
          "output_type": "execute_result",
          "data": {
            "text/plain": [
              "array([[8, 8, 8],\n",
              "       [8, 8, 8]])"
            ]
          },
          "metadata": {},
          "execution_count": 84
        }
      ]
    },
    {
      "cell_type": "code",
      "source": [
        "# creating an array from 3 to 30 with a step of 3\n",
        "np.arange(3, 31, 3)"
      ],
      "metadata": {
        "colab": {
          "base_uri": "https://localhost:8080/"
        },
        "id": "hy6Lr7IZqNZb",
        "outputId": "e174cf2f-441b-439e-f88c-12f339904730"
      },
      "execution_count": 85,
      "outputs": [
        {
          "output_type": "execute_result",
          "data": {
            "text/plain": [
              "array([ 3,  6,  9, 12, 15, 18, 21, 24, 27, 30])"
            ]
          },
          "metadata": {},
          "execution_count": 85
        }
      ]
    },
    {
      "cell_type": "code",
      "source": [
        "# creating an array with 5 evenly spaced values between 0 and 1\n",
        "np.linspace(0, 1, 5)"
      ],
      "metadata": {
        "colab": {
          "base_uri": "https://localhost:8080/"
        },
        "id": "Edjc06ghqjcU",
        "outputId": "65322778-059e-499d-b25d-406e3feac080"
      },
      "execution_count": 86,
      "outputs": [
        {
          "output_type": "execute_result",
          "data": {
            "text/plain": [
              "array([0.  , 0.25, 0.5 , 0.75, 1.  ])"
            ]
          },
          "metadata": {},
          "execution_count": 86
        }
      ]
    },
    {
      "cell_type": "markdown",
      "source": [
        "## Creating Random `NumPy` Arrays\n",
        "\n",
        "### `rand`\n",
        "\n",
        "Create an array of the given shape and populate it with\n",
        "random samples from a uniform distribution\n",
        "over `[0, 1)`."
      ],
      "metadata": {
        "id": "3eM2fvBYrobU"
      }
    },
    {
      "cell_type": "code",
      "source": [
        "# creating a random array\n",
        "np.random.rand(3, 4)"
      ],
      "metadata": {
        "colab": {
          "base_uri": "https://localhost:8080/"
        },
        "id": "s0MAwfGoq8WX",
        "outputId": "1f91b753-120d-45ae-9536-5b5e1b948331"
      },
      "execution_count": 87,
      "outputs": [
        {
          "output_type": "execute_result",
          "data": {
            "text/plain": [
              "array([[0.48866607, 0.30236561, 0.16817913, 0.79237033],\n",
              "       [0.12040477, 0.82127751, 0.71987327, 0.68194714],\n",
              "       [0.06129358, 0.68803277, 0.056451  , 0.25705492]])"
            ]
          },
          "metadata": {},
          "execution_count": 87
        }
      ]
    },
    {
      "cell_type": "markdown",
      "source": [
        "### `randn`\n",
        "\n",
        "Return a sample (or samples) from the standard normal distribution, unlike rand which is uniform:"
      ],
      "metadata": {
        "id": "Kl7Bnlv2sDrv"
      }
    },
    {
      "cell_type": "code",
      "source": [
        "np.random.randn(4, 3)"
      ],
      "metadata": {
        "colab": {
          "base_uri": "https://localhost:8080/"
        },
        "id": "QL_kdxAPsXRa",
        "outputId": "28dd7437-0108-42b6-b7b1-c56587093bcb"
      },
      "execution_count": 88,
      "outputs": [
        {
          "output_type": "execute_result",
          "data": {
            "text/plain": [
              "array([[ 1.0120467 , -0.13811967,  1.27927516],\n",
              "       [ 1.30646441, -0.67820475,  1.27321861],\n",
              "       [ 0.19191152, -0.2783504 ,  1.8141007 ],\n",
              "       [ 0.59781609, -0.22063936, -0.1436565 ]])"
            ]
          },
          "metadata": {},
          "execution_count": 88
        }
      ]
    },
    {
      "cell_type": "markdown",
      "source": [
        "### `randint`\n",
        "\n",
        "Return random integers from `low` (inclusive) to `high` (exclusive)."
      ],
      "metadata": {
        "id": "oEOV7HdJsk18"
      }
    },
    {
      "cell_type": "code",
      "source": [
        "# only return 1 random number\n",
        "np.random.randint(1, 100)"
      ],
      "metadata": {
        "colab": {
          "base_uri": "https://localhost:8080/"
        },
        "id": "buKLNwUNszVL",
        "outputId": "a4060e1e-459f-4cc0-9ded-c9e04dc110f8"
      },
      "execution_count": 89,
      "outputs": [
        {
          "output_type": "execute_result",
          "data": {
            "text/plain": [
              "76"
            ]
          },
          "metadata": {},
          "execution_count": 89
        }
      ]
    },
    {
      "cell_type": "code",
      "source": [
        "# return a set number of random numbers\n",
        "np.random.randint(1, 100, 10)"
      ],
      "metadata": {
        "colab": {
          "base_uri": "https://localhost:8080/"
        },
        "id": "NdD_-EY3s47p",
        "outputId": "4052aa8d-1864-42c4-b46a-22f50fcf6975"
      },
      "execution_count": 90,
      "outputs": [
        {
          "output_type": "execute_result",
          "data": {
            "text/plain": [
              "array([86, 33, 32, 36,  8, 25, 21, 91, 20,  2])"
            ]
          },
          "metadata": {},
          "execution_count": 90
        }
      ]
    },
    {
      "cell_type": "markdown",
      "source": [
        "## Array Attributes & Methods\n",
        "\n",
        "- array can operate with different attributes and methods\n",
        "- attributes are properties of the array that provide useful informations\n",
        "- methods are functions associated with an object\n",
        "\n",
        "| Attribute/Method | Example Code | Description |\n",
        "| --- | --- | --- |\n",
        "| `.ndim` | `array.ndim` | Returns number of dimensions |\n",
        "| `.size` | `array.size` | Returns total number of elements |\n",
        "| `.dtype` | `array.dtype` | Returns data type of array elements |\n",
        "| `.reshape()` | `array.reshape()` | Changes shape without altering array data |\n",
        "| `.flatten()` | `array.flatten()` | Returns a 1D copy of the array |\n",
        "| `.transpose()` | `array.transpose()` | Swaps array axes (rows/columns) |\n",
        "| `.astype()` | `array.astype()` | Convert data type of array elements |\n"
      ],
      "metadata": {
        "id": "BzEmt5q0txLo"
      }
    },
    {
      "cell_type": "markdown",
      "source": [
        "## Statistical Methods\n",
        "\n",
        "Arithmetic operations are **element-wise** by default."
      ],
      "metadata": {
        "id": "BuXOxiHZ9VRX"
      }
    },
    {
      "cell_type": "code",
      "source": [
        "matrix1 = np.array([[1, 2, 3], [4, 5, 6], [7, 8, 9]])\n",
        "matrix2 = np.array([[10, 20, 30], [40, 50, 60], [70, 80, 90]])\n",
        "print(f\"The first array:\\n{matrix1}\")\n",
        "print(f\"The second array:\\n{matrix2}\")\n",
        "print(f\"Addition was performed element-wise:\\n{matrix1 + matrix2}\")"
      ],
      "metadata": {
        "colab": {
          "base_uri": "https://localhost:8080/"
        },
        "id": "iRHJ1-2HCdYP",
        "outputId": "03fbae3a-4670-4067-cd1d-688d019540f5"
      },
      "execution_count": 111,
      "outputs": [
        {
          "output_type": "stream",
          "name": "stdout",
          "text": [
            "The first array:\n",
            "[[1 2 3]\n",
            " [4 5 6]\n",
            " [7 8 9]]\n",
            "The second array:\n",
            "[[10 20 30]\n",
            " [40 50 60]\n",
            " [70 80 90]]\n",
            "Addition was performed element-wise:\n",
            "[[11 22 33]\n",
            " [44 55 66]\n",
            " [77 88 99]]\n"
          ]
        }
      ]
    },
    {
      "cell_type": "markdown",
      "source": [
        "`NumPy` provides **multiple aggregation** functions like:\n",
        "\n",
        "- `sum`\n",
        "- `mean`\n",
        "- `min`\n",
        "- `max`\n",
        "- `std`\n",
        "- `var`\n",
        "\n",
        "They will be applied to the entire array by default, but using `axis` can change the direction of the aggregation:\n",
        "\n",
        "- **axis=0**: columns (vertical/downward)\n",
        "- **axis=1**: rows (horizontal/across)\n"
      ],
      "metadata": {
        "id": "gZA572S_CsPm"
      }
    },
    {
      "cell_type": "code",
      "source": [
        "matrix = np.array([[10, 20, 30], [40, 50, 60], [70, 80, 90]])\n",
        "print(f\"The array is:\\n{matrix}\")\n",
        "print(f\"The sum of each column is:\\n{matrix.sum(axis=0)}\")\n",
        "print(f\"The mean of each row is:\\n{matrix.mean(axis=1)}\")\n",
        "print(f\"The smallest number in the array is:{matrix.min()}\")\n",
        "print(f\"The largest number in the array is:{matrix.max()}\")"
      ],
      "metadata": {
        "colab": {
          "base_uri": "https://localhost:8080/"
        },
        "id": "hl6nYZQDBZEu",
        "outputId": "c433eb23-16fe-4888-a389-88558c8a8276"
      },
      "execution_count": 112,
      "outputs": [
        {
          "output_type": "stream",
          "name": "stdout",
          "text": [
            "The array is:\n",
            "[[10 20 30]\n",
            " [40 50 60]\n",
            " [70 80 90]]\n",
            "The sum of each column is:\n",
            "[120 150 180]\n",
            "The mean of each row is:\n",
            "[20. 50. 80.]\n",
            "The smallest number in the array is:10\n",
            "The largest number in the array is:90\n"
          ]
        }
      ]
    },
    {
      "cell_type": "markdown",
      "source": [
        "## `NumPy` Indexing & Slicing\n",
        "\n",
        "### 1D Array Slicing\n",
        "\n",
        "You can access subarrays using the syntax: `array[start:stop:step]`\n",
        "\n",
        "- `start`: index to begin slicing (inclusive)\n",
        "- `stop`: index to end slicing (exclusive)\n",
        "- `step`: interval between elements (optional)\n",
        "\n",
        "### 2D Array Slicing\n",
        "\n",
        "Slicing is done by specifying slices for rows and columns: `array[row_start:row_stop, col_start:col_stop]`"
      ],
      "metadata": {
        "id": "I0xVQc79GA9D"
      }
    },
    {
      "cell_type": "code",
      "source": [
        "array_1d = np.array([10, 20, 30, 40, 50])\n",
        "print(f\"The array is:\\n{array_1d}\")\n",
        "print(f\"The third element is:\\n{array_1d[2]}\")\n",
        "print(f\"The first 3 elements are:\\n{array_1d[:3]}\")"
      ],
      "metadata": {
        "colab": {
          "base_uri": "https://localhost:8080/"
        },
        "id": "dwAeTpJcIFj8",
        "outputId": "689f81ba-a160-4b20-ea4d-a2bb99a00b34"
      },
      "execution_count": 113,
      "outputs": [
        {
          "output_type": "stream",
          "name": "stdout",
          "text": [
            "The array is:\n",
            "[10 20 30 40 50]\n",
            "The third element is:\n",
            "30\n",
            "The first 3 elements are:\n",
            "[10 20 30]\n"
          ]
        }
      ]
    },
    {
      "cell_type": "code",
      "source": [
        "array_2d = np.array([[10, 20, 30], [40, 50, 60], [70, 80, 90]])\n",
        "print(f\"The array is:\\n{array_2d}\")\n",
        "print(f\"The first row is:\\n{array_2d[0]}\")\n",
        "print(f\"The second element in the second row is:\\n{array_2d[1:2, 1:2]}\")"
      ],
      "metadata": {
        "colab": {
          "base_uri": "https://localhost:8080/"
        },
        "id": "wSQd4cQKIi5x",
        "outputId": "b716eb58-d1e8-4485-ad8e-e2a59a4de631"
      },
      "execution_count": 114,
      "outputs": [
        {
          "output_type": "stream",
          "name": "stdout",
          "text": [
            "The array is:\n",
            "[[10 20 30]\n",
            " [40 50 60]\n",
            " [70 80 90]]\n",
            "The first row is:\n",
            "[10 20 30]\n",
            "The second element in the second row is:\n",
            "[[50]]\n"
          ]
        }
      ]
    },
    {
      "cell_type": "markdown",
      "source": [
        "### Boolean Indexing\n",
        "\n",
        "Identifying which array elements meet a condition"
      ],
      "metadata": {
        "id": "7QhpNHKjJ_Hd"
      }
    },
    {
      "cell_type": "code",
      "source": [
        "# create a Boolean mask: which elements are greater than 4?\n",
        "matrix = np.arange(1, 11)\n",
        "print(f\"The array is:\\n{matrix}\")\n",
        "print(f\"Check which numbers are greater than 4:\\n{matrix > 4}\")"
      ],
      "metadata": {
        "colab": {
          "base_uri": "https://localhost:8080/"
        },
        "id": "BGSSNOTzKFuj",
        "outputId": "66fbebe7-749c-4211-c990-7cc3f83b05af"
      },
      "execution_count": 115,
      "outputs": [
        {
          "output_type": "stream",
          "name": "stdout",
          "text": [
            "The array is:\n",
            "[ 1  2  3  4  5  6  7  8  9 10]\n",
            "Check which numbers are greater than 4:\n",
            "[False False False False  True  True  True  True  True  True]\n"
          ]
        }
      ]
    },
    {
      "cell_type": "code",
      "source": [
        "# store the Boolean mask in a variable and use it to filter the array\n",
        "bool_matrix = matrix > 4\n",
        "print(f\"Boolean mask is:\\n{bool_matrix}\")\n",
        "print(f\"The filtered array is:\\n{matrix[bool_matrix]}\")"
      ],
      "metadata": {
        "colab": {
          "base_uri": "https://localhost:8080/"
        },
        "id": "9I-QAgVdKssn",
        "outputId": "1bc1c284-1729-4b9a-dbb1-11a7034c9c6b"
      },
      "execution_count": 117,
      "outputs": [
        {
          "output_type": "stream",
          "name": "stdout",
          "text": [
            "Boolean mask is:\n",
            "[False False False False  True  True  True  True  True  True]\n",
            "The filtered array is:\n",
            "[ 5  6  7  8  9 10]\n"
          ]
        }
      ]
    },
    {
      "cell_type": "code",
      "source": [
        "# filter condition applied directly in indexing brackets\n",
        "print(f\"The filtered array is:\\n{matrix[matrix > 6]}\")"
      ],
      "metadata": {
        "colab": {
          "base_uri": "https://localhost:8080/"
        },
        "id": "ljAjPvF0NGWp",
        "outputId": "3707fff0-89cd-43f6-939c-579487c5df81"
      },
      "execution_count": 118,
      "outputs": [
        {
          "output_type": "stream",
          "name": "stdout",
          "text": [
            "The filtered array is:\n",
            "[ 7  8  9 10]\n"
          ]
        }
      ]
    },
    {
      "cell_type": "code",
      "source": [
        "# conditions can be dynamic—based on variables\n",
        "x = 3\n",
        "print(f\"Elements greater than x (where x = {x}):\\n{matrix[matrix > x]}\")"
      ],
      "metadata": {
        "colab": {
          "base_uri": "https://localhost:8080/"
        },
        "id": "8zRDt3seNUz3",
        "outputId": "8728248e-6ed8-4b87-95d9-7e54b1de25f4"
      },
      "execution_count": 119,
      "outputs": [
        {
          "output_type": "stream",
          "name": "stdout",
          "text": [
            "Elements greater than x (where x = 3):\n",
            "[ 4  5  6  7  8  9 10]\n"
          ]
        }
      ]
    }
  ]
}
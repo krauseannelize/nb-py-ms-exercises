{
  "nbformat": 4,
  "nbformat_minor": 0,
  "metadata": {
    "colab": {
      "provenance": [],
      "authorship_tag": "ABX9TyMchnl7YEHYDpJEh84qH+2H",
      "include_colab_link": true
    },
    "kernelspec": {
      "name": "python3",
      "display_name": "Python 3"
    },
    "language_info": {
      "name": "python"
    }
  },
  "cells": [
    {
      "cell_type": "markdown",
      "metadata": {
        "id": "view-in-github",
        "colab_type": "text"
      },
      "source": [
        "<a href=\"https://colab.research.google.com/github/krauseannelize/nb-py-ms-exercises/blob/sprint03/notebooks/s03_pandas_foundation/36_exercises_pandas_foundations.ipynb\" target=\"_parent\"><img src=\"https://colab.research.google.com/assets/colab-badge.svg\" alt=\"Open In Colab\"/></a>"
      ]
    },
    {
      "cell_type": "markdown",
      "source": [
        "# 36 | Exercises - Pandas Foundations (Building on the Basics)\n",
        "\n",
        "💡 **Tip:** In future versions of `Pandas`, integer keys like `series[1]` will always be treated as labels, not positions.  To avoid ambiguity, use:\n",
        "\n",
        "- `.iloc[pos]` → position‑based access  \n",
        "- `.loc[label]` → label‑based access  \n",
        "\n",
        "## DataFrame Indexing and slicing with `.loc[]`\n",
        "\n",
        "`Pandas` `.loc[]` is label-based: select rows and columns by their labels or by boolean conditions. It’s concise, readable, and inclusive on slice endpoints.\n",
        "\n",
        "```python\n",
        "# basic syntax\n",
        "df.loc[row_labels, column_labels]\n",
        "```\n",
        "\n",
        "- `row_labels`: Labels, label slices, lists, boolean masks\n",
        "- `column_labels`: Single label, list of labels, label slices"
      ],
      "metadata": {
        "id": "aFgPIlDGmzTM"
      }
    },
    {
      "cell_type": "code",
      "execution_count": null,
      "metadata": {
        "colab": {
          "base_uri": "https://localhost:8080/"
        },
        "id": "rx9l2eKrmyif",
        "outputId": "6f0ee8da-9ebe-4deb-c79a-8a4c9cb61a4b"
      },
      "outputs": [
        {
          "output_type": "stream",
          "name": "stdout",
          "text": [
            "Band           Iron Maiden\n",
            "Country                 UK\n",
            "Year Formed           1975\n",
            "Genre          Heavy Metal\n",
            "Name: IM, dtype: object\n"
          ]
        }
      ],
      "source": [
        "import pandas as pd\n",
        "\n",
        "data = {\n",
        "    'Band': ['Black Sabbath', 'Iron Maiden', 'Metallica', 'Slayer',\n",
        "             'Megadeth'],\n",
        "    'Country': ['UK', 'UK', 'USA', 'USA', 'USA'],\n",
        "    'Year Formed': [1968, 1975, 1981, 1981, 1983],\n",
        "    'Genre': ['Heavy Metal', 'Heavy Metal', 'Thrash Metal',\n",
        "              'Thrash Metal', 'Thrash Metal'],\n",
        "    }\n",
        "df = pd.DataFrame(data, index=['BS', 'IM', 'MT', 'SL', 'MG'])\n",
        "\n",
        "# Access rows using labels\n",
        "print(df.loc['IM'])"
      ]
    },
    {
      "cell_type": "code",
      "source": [
        "# Access the band and genre for \"MT\" and \"SL\"\n",
        "print(df.loc[[\"MT\", \"SL\"], [\"Band\", \"Genre\"]])"
      ],
      "metadata": {
        "colab": {
          "base_uri": "https://localhost:8080/"
        },
        "id": "tZqhDCE7tln6",
        "outputId": "4a77216f-70f1-4f30-ecec-afea5e9e804b"
      },
      "execution_count": null,
      "outputs": [
        {
          "output_type": "stream",
          "name": "stdout",
          "text": [
            "         Band         Genre\n",
            "MT  Metallica  Thrash Metal\n",
            "SL     Slayer  Thrash Metal\n"
          ]
        }
      ]
    },
    {
      "cell_type": "code",
      "source": [
        "# Access rows from 'IM' up to and inclusing 'MG'\n",
        "print(df.loc['IM':'MG'])"
      ],
      "metadata": {
        "colab": {
          "base_uri": "https://localhost:8080/"
        },
        "id": "_8oBWvRW0mgo",
        "outputId": "bb1ceee6-7685-4dfc-f023-15a5b025ccf1"
      },
      "execution_count": null,
      "outputs": [
        {
          "output_type": "stream",
          "name": "stdout",
          "text": [
            "           Band Country  Year Formed         Genre\n",
            "IM  Iron Maiden      UK         1975   Heavy Metal\n",
            "MT    Metallica     USA         1981  Thrash Metal\n",
            "SL       Slayer     USA         1981  Thrash Metal\n",
            "MG     Megadeth     USA         1983  Thrash Metal\n"
          ]
        }
      ]
    },
    {
      "cell_type": "markdown",
      "source": [
        "### Common `.loc[]` selections\n",
        "\n",
        "| Type | Example | Description |\n",
        "| --- | --- | --- |\n",
        "| **One cell** | `.loc['MT', 'Genre']` | Extracts genre of band in row with index 'MT' |\n",
        "| **One row** | `.loc['SL']` | Extracts all details of band in row with index 'SL' |\n",
        "| **All rows starting from a row** | `.loc['MT':]` | Extracts all rows starting from band with index 'MT' |\n",
        "| **All rows up to a row** | `.loc[:'SL']` | Extracts all rows from the first band up to band with index 'SL' |\n",
        "| **Multiple consecutive rows** | `.loc['IM':'MG']` | Extracts rows from 'IM' to 'MG', inclusive. |\n",
        "| **One column** | `.loc[:, 'Genre']` | Extracts all values from 'Genre' column |\n",
        "| **Multiple columns** | `.loc[:, ['Band', 'Genre']]` | Extracts all values from 'Band' and 'Genre' columns |\n",
        "| **Multiple consecutive columns** | `.loc[:, 'Country':'Genre']` | Extracts all values from columns 'Country' to 'Genre' |"
      ],
      "metadata": {
        "id": "0twF3x6Bw5T4"
      }
    },
    {
      "cell_type": "markdown",
      "source": [
        "### Conditional Filtering with `.loc[]`\n",
        "\n",
        "Use `.loc[]` to filter rows based on conditions. Combine multiple conditions with logical operators like `&` (AND), `|` (OR), and `~` (NOT). Wrap each condition in parentheses."
      ],
      "metadata": {
        "id": "t1G8-5LO0apN"
      }
    },
    {
      "cell_type": "code",
      "source": [
        "# Find bands formed after 1975 and based in the USA\n",
        "filtered_bands = df.loc[(df['Year Formed'] > 1975) & (df['Country'] == 'USA')]\n",
        "print(filtered_bands)"
      ],
      "metadata": {
        "colab": {
          "base_uri": "https://localhost:8080/"
        },
        "id": "niZ0FJMV1Gwo",
        "outputId": "adc08d32-7e1b-40f5-9020-a60a84602846"
      },
      "execution_count": null,
      "outputs": [
        {
          "output_type": "stream",
          "name": "stdout",
          "text": [
            "         Band Country  Year Formed         Genre\n",
            "MT  Metallica     USA         1981  Thrash Metal\n",
            "SL     Slayer     USA         1981  Thrash Metal\n",
            "MG   Megadeth     USA         1983  Thrash Metal\n"
          ]
        }
      ]
    },
    {
      "cell_type": "markdown",
      "source": [
        "## DataFrame Indexing and slicing with `.iloc[]`\n",
        "\n",
        "`Pandas` `.iloc[]` is position-based: select rows and columns by their integer positions. Row/column indexing starts at 0. Slices are end-exclusive.\n",
        "\n",
        "```python\n",
        "# basic syntax\n",
        "df.iloc[row_index, column_index]\n",
        "```"
      ],
      "metadata": {
        "id": "iDu8vJwI2mZS"
      }
    },
    {
      "cell_type": "code",
      "execution_count": null,
      "metadata": {
        "colab": {
          "base_uri": "https://localhost:8080/"
        },
        "outputId": "b6165cbe-f7b0-4126-9937-ab1dc62da729",
        "id": "JDV-4TyF4XVv"
      },
      "outputs": [
        {
          "output_type": "stream",
          "name": "stdout",
          "text": [
            "Thrash Metal\n"
          ]
        }
      ],
      "source": [
        "import pandas as pd\n",
        "\n",
        "data = {\n",
        "    'Band': ['Black Sabbath', 'Iron Maiden', 'Metallica', 'Slayer',\n",
        "             'Megadeth'],\n",
        "    'Country': ['UK', 'UK', 'USA', 'USA', 'USA'],\n",
        "    'Year Formed': [1968, 1975, 1981, 1981, 1983],\n",
        "    'Genre': ['Heavy Metal', 'Heavy Metal', 'Thrash Metal',\n",
        "              'Thrash Metal', 'Thrash Metal'],\n",
        "    }\n",
        "df = pd.DataFrame(data, index=['BS', 'IM', 'MT', 'SL', 'MG'])\n",
        "\n",
        "# Access genre of band in 3rd row (index 2), 4th column (index 3)\n",
        "print(df.iloc[2, 3])"
      ]
    },
    {
      "cell_type": "code",
      "source": [
        "# Get all details of the band in 5th row (index 4)\n",
        "print(df.iloc[4])"
      ],
      "metadata": {
        "colab": {
          "base_uri": "https://localhost:8080/"
        },
        "id": "zonv8h3G4kr5",
        "outputId": "2f73482d-1798-4aa1-dbf3-8270b2aba983"
      },
      "execution_count": null,
      "outputs": [
        {
          "output_type": "stream",
          "name": "stdout",
          "text": [
            "Band               Megadeth\n",
            "Country                 USA\n",
            "Year Formed            1983\n",
            "Genre          Thrash Metal\n",
            "Name: MG, dtype: object\n"
          ]
        }
      ]
    },
    {
      "cell_type": "code",
      "source": [
        "# Access rows 2 to 4 (excludes index 5)\n",
        "print(df.iloc[2:5])"
      ],
      "metadata": {
        "colab": {
          "base_uri": "https://localhost:8080/"
        },
        "id": "sZD9-7WR6bTX",
        "outputId": "b543c502-c666-46db-846a-f6eb11d08675"
      },
      "execution_count": null,
      "outputs": [
        {
          "output_type": "stream",
          "name": "stdout",
          "text": [
            "         Band Country  Year Formed         Genre\n",
            "MT  Metallica     USA         1981  Thrash Metal\n",
            "SL     Slayer     USA         1981  Thrash Metal\n",
            "MG   Megadeth     USA         1983  Thrash Metal\n"
          ]
        }
      ]
    },
    {
      "cell_type": "markdown",
      "source": [
        "### Common `.iloc[]` selections\n",
        "\n",
        "| Type | Example | Description |\n",
        "| --- | --- | --- |\n",
        "| **Single cell** | `df.iloc[2, 3]` | Cell at row 2, column 3 |\n",
        "| **Single row** | `df.iloc[4]` | All values in row 4 |\n",
        "| **Single column** | `df.iloc[:, 3]` | All values in column 3 |\n",
        "| **Row slice** | `df.iloc[2:5]` | Rows 2 to 4 (excludes 5) |\n",
        "| **Column slice** | `df.iloc[:, 1:3]` | Columns 1 to 2 (excludes 3) |\n",
        "| **Specific rows/columns** | `df.iloc[[1, 3, 5], [0, 2]]` | Rows 1, 3, 5 and columns 0, 2 |"
      ],
      "metadata": {
        "id": "VB90E0s842LA"
      }
    },
    {
      "cell_type": "markdown",
      "source": [
        "## Comparing `.loc[]` with `.iloc[]`\n",
        "\n",
        "| Feature |\t.loc[] | .iloc[] |\n",
        "| --- | --- | --- |\n",
        "| **Indexing type** | Labels or names |\tInteger positions\t|\n",
        "| **Use case** | Meaningful labels |\tNumerical slicing\t|\n",
        "| **Missing key error** | KeyError |\tIndexError |"
      ],
      "metadata": {
        "id": "0E8_GKGm5RqK"
      }
    },
    {
      "cell_type": "markdown",
      "source": [
        "## Adding, Subtracting, and Modifying Columns\n",
        "\n",
        "### Adding New Columns\n",
        "\n",
        "You can easily add new columns to a **DataFrame** by assigning values directly. These can be constants, lists, or calculations based on existing columns."
      ],
      "metadata": {
        "id": "Z8gn92_TJfN_"
      }
    },
    {
      "cell_type": "code",
      "source": [
        "import pandas as pd\n",
        "\n",
        "data = {\n",
        "    'Band': [\n",
        "        'Black Sabbath', 'Iron Maiden', 'Metallica',\n",
        "        'Slayer', 'Megadeth', 'Angra',\n",
        "        ],\n",
        "    'Country': [\n",
        "        'UK', 'UK', 'USA',\n",
        "        'USA', 'USA', 'Brazil',\n",
        "        ],\n",
        "    'Year Formed': [\n",
        "        1968, 1975, 1981,\n",
        "        1981, 1983, 1991,\n",
        "        ],\n",
        "    'Genre': [\n",
        "        'Heavy Metal', 'Heavy Metal',\n",
        "        'Thrash Metal', 'Thrash Metal',\n",
        "        'Thrash Metal', 'Power Metal',\n",
        "        ],\n",
        "    }\n",
        "df = pd.DataFrame(data)\n",
        "print(f\"The original DataFrame:\\n{df}\")\n",
        "\n",
        "# adding a new column for years the band has been active\n",
        "df[\"Years Active\"] = 2023 - df[\"Year Formed\"]\n",
        "print(f\"\\nDataFrame after adding column:\\n{df}\")"
      ],
      "metadata": {
        "colab": {
          "base_uri": "https://localhost:8080/"
        },
        "id": "5DYXonpwJu1n",
        "outputId": "c8469678-f7bf-407a-cab3-df26848d3b3f"
      },
      "execution_count": 25,
      "outputs": [
        {
          "output_type": "stream",
          "name": "stdout",
          "text": [
            "The original DataFrame:\n",
            "            Band Country  Year Formed         Genre\n",
            "0  Black Sabbath      UK         1968   Heavy Metal\n",
            "1    Iron Maiden      UK         1975   Heavy Metal\n",
            "2      Metallica     USA         1981  Thrash Metal\n",
            "3         Slayer     USA         1981  Thrash Metal\n",
            "4       Megadeth     USA         1983  Thrash Metal\n",
            "5          Angra  Brazil         1991   Power Metal\n",
            "\n",
            "DataFrame after adding column:\n",
            "            Band Country  Year Formed         Genre  Years Active\n",
            "0  Black Sabbath      UK         1968   Heavy Metal            55\n",
            "1    Iron Maiden      UK         1975   Heavy Metal            48\n",
            "2      Metallica     USA         1981  Thrash Metal            42\n",
            "3         Slayer     USA         1981  Thrash Metal            42\n",
            "4       Megadeth     USA         1983  Thrash Metal            40\n",
            "5          Angra  Brazil         1991   Power Metal            32\n"
          ]
        }
      ]
    },
    {
      "cell_type": "markdown",
      "source": [
        "### Updating Specific Values\n",
        "\n",
        "You can update values conditionally using `.loc[]`. For example, Black Sabbath stopped touring in 2017, so we need to correct their \"Years Active\":"
      ],
      "metadata": {
        "id": "y8obzEh2J_aT"
      }
    },
    {
      "cell_type": "code",
      "source": [
        "# \\ is a line continuation character that lets you split long lines across multiple lines\n",
        "\n",
        "df.loc[df[\"Band\"] == \"Black Sabbath\", \"Years Active\"] = 2017 \\\n",
        "    - df.loc[df[\"Band\"] == \"Black Sabbath\", \"Year Formed\"]\n",
        "\n",
        "print(f\"\\nDataFrame after updating specific value:\\n{df}\")"
      ],
      "metadata": {
        "colab": {
          "base_uri": "https://localhost:8080/"
        },
        "id": "jU9aR2V0K_qu",
        "outputId": "edeca037-e5f3-4cba-b2cd-a46bcf5ba856"
      },
      "execution_count": 26,
      "outputs": [
        {
          "output_type": "stream",
          "name": "stdout",
          "text": [
            "\n",
            "DataFrame after updating specific value:\n",
            "            Band Country  Year Formed         Genre  Years Active\n",
            "0  Black Sabbath      UK         1968   Heavy Metal            49\n",
            "1    Iron Maiden      UK         1975   Heavy Metal            48\n",
            "2      Metallica     USA         1981  Thrash Metal            42\n",
            "3         Slayer     USA         1981  Thrash Metal            42\n",
            "4       Megadeth     USA         1983  Thrash Metal            40\n",
            "5          Angra  Brazil         1991   Power Metal            32\n"
          ]
        }
      ]
    },
    {
      "cell_type": "markdown",
      "source": [
        "### Creating a Boolean Column\n",
        "\n",
        "You can also create a new column with `True` or `False` values based on a condition:"
      ],
      "metadata": {
        "id": "nveAtJHoLzQN"
      }
    },
    {
      "cell_type": "code",
      "source": [
        "# Check if the band is still active\n",
        "df[\"is_active\"] = (2023 - df[\"Years Active\"]) == df[\"Year Formed\"]\n",
        "print(f\"\\nDataFrame after adding boolean column:\\n{df}\")"
      ],
      "metadata": {
        "colab": {
          "base_uri": "https://localhost:8080/"
        },
        "id": "DP4wwUz3L9I8",
        "outputId": "11ef4365-b00e-4945-ae46-9513e6bf7709"
      },
      "execution_count": 27,
      "outputs": [
        {
          "output_type": "stream",
          "name": "stdout",
          "text": [
            "\n",
            "DataFrame after adding boolean column:\n",
            "            Band Country  Year Formed         Genre  Years Active  is_active\n",
            "0  Black Sabbath      UK         1968   Heavy Metal            49      False\n",
            "1    Iron Maiden      UK         1975   Heavy Metal            48       True\n",
            "2      Metallica     USA         1981  Thrash Metal            42       True\n",
            "3         Slayer     USA         1981  Thrash Metal            42       True\n",
            "4       Megadeth     USA         1983  Thrash Metal            40       True\n",
            "5          Angra  Brazil         1991   Power Metal            32       True\n"
          ]
        }
      ]
    },
    {
      "cell_type": "markdown",
      "source": [
        "### Modifying Columns\n",
        "\n",
        "You can overwrite an entire column by assigning a new list, **Series**, or calculation. This is useful when you want to recalculate or redefine a column across all rows."
      ],
      "metadata": {
        "id": "_AtjRff7Mdbf"
      }
    },
    {
      "cell_type": "code",
      "source": [
        "# Increment \"Years Active\" by 1 only for bands where \"is_active\" is True\n",
        "df.loc[df[\"is_active\"] == True, \"Years Active\"] += 1\n",
        "\n",
        "print(f\"DataFrame after modidying column:\\n{df}\")"
      ],
      "metadata": {
        "colab": {
          "base_uri": "https://localhost:8080/"
        },
        "id": "JtxSlxKVNJKh",
        "outputId": "2b5d8857-b99d-476e-ed6f-666e3f834b06"
      },
      "execution_count": 28,
      "outputs": [
        {
          "output_type": "stream",
          "name": "stdout",
          "text": [
            "DataFrame after modidying column:\n",
            "            Band Country  Year Formed         Genre  Years Active  is_active\n",
            "0  Black Sabbath      UK         1968   Heavy Metal            49      False\n",
            "1    Iron Maiden      UK         1975   Heavy Metal            49       True\n",
            "2      Metallica     USA         1981  Thrash Metal            43       True\n",
            "3         Slayer     USA         1981  Thrash Metal            43       True\n",
            "4       Megadeth     USA         1983  Thrash Metal            41       True\n",
            "5          Angra  Brazil         1991   Power Metal            33       True\n"
          ]
        }
      ]
    },
    {
      "cell_type": "markdown",
      "source": [
        "### Dropping Columns\n",
        "\n",
        "To remove a column from a **DataFrame**, use `.drop()`:\n",
        "\n",
        "```python\n",
        "# basic syntax\n",
        "df.drop(labels, axis=0 or 1, inplace=False or True)\n",
        "```\n",
        "\n",
        "- `labels`: Name(s) of rows or columns to drop.\n",
        "- `axis`: 0 for rows (default), 1 for columns.\n",
        "- `inplace`:\n",
        "  - `False` (default): Returns a new **DataFrame** with specified rows or columns removed.\n",
        "  - `True`: modifies the original **DataFrame**."
      ],
      "metadata": {
        "id": "AmhwyqRROHPh"
      }
    },
    {
      "cell_type": "code",
      "source": [
        "# Remove the \"Year Formed\" column\n",
        "df = df.drop(\"Year Formed\", axis=1)\n",
        "print(f\"DataFrame after dropping 'Year Formed':\\n{df}\")"
      ],
      "metadata": {
        "colab": {
          "base_uri": "https://localhost:8080/"
        },
        "id": "eDBVUkwsPLF2",
        "outputId": "2d6ff35a-5e1b-4c0d-80da-9b5a48a65934"
      },
      "execution_count": 29,
      "outputs": [
        {
          "output_type": "stream",
          "name": "stdout",
          "text": [
            "DataFrame after dropping 'Year Formed':\n",
            "            Band Country         Genre  Years Active  is_active\n",
            "0  Black Sabbath      UK   Heavy Metal            49      False\n",
            "1    Iron Maiden      UK   Heavy Metal            49       True\n",
            "2      Metallica     USA  Thrash Metal            43       True\n",
            "3         Slayer     USA  Thrash Metal            43       True\n",
            "4       Megadeth     USA  Thrash Metal            41       True\n",
            "5          Angra  Brazil   Power Metal            33       True\n"
          ]
        }
      ]
    },
    {
      "cell_type": "markdown",
      "source": [
        "## Aggregating Values\n",
        "\n",
        "Pandas makes it easy to summarize your data using built-in aggregation methods. These help you spot patterns, compare metrics, and clean up messy datasets. Here’s a quick reference of common methods and when to use them:\n",
        "\n",
        "| Method | What It Does | When to Use |\n",
        "| --- | --- |--- |\n",
        "| `.sum()` | Adds up all values in a column | Totals, like cumulative durations or combined scores |\n",
        "| `.mean()` | Calculates the average of column values | Spotting trends or benchmarks |\n",
        "| `.median()` | Finds the middle value of a column | Great for skewed data with outliers |\n",
        "| `.min()` | Finds the smallest value in a column | Identify the lowest data point |\n",
        "| `.max()` | Finds the largest value in a column | Spot the record-breakers |\n",
        "| `.copy()` | Creates a safe duplicate of your data | When experimenting or modifying without risks |"
      ],
      "metadata": {
        "id": "3luQh7SAgMHs"
      }
    },
    {
      "cell_type": "code",
      "source": [
        "import pandas as pd\n",
        "\n",
        "data = {\n",
        "    \"Band\": [\"Black Sabbath\", \"Iron Maiden\", \"Metallica\",\n",
        "             \"Slayer\", \"Megadeth\", \"Angra\"],\n",
        "    \"Country\": [\"UK\", \"UK\", \"USA\", \"USA\", \"USA\", \"Brazil\"],\n",
        "    \"Year Formed\": [1968, 1975, 1981, 1981, 1983, 1991],\n",
        "    \"Genre\": [\"Heavy Metal\", \"Heavy Metal\", \"Thrash Metal\",\n",
        "              \"Thrash Metal\", \"Thrash Metal\", \"Power Metal\"],\n",
        "    \"Years Active\": [49, 49, 43, 43, 41, 33],\n",
        "    \"is_active\": [False, True, True, True, True, True]\n",
        "}\n",
        "df = pd.DataFrame(data)\n",
        "\n",
        "# Calculate the total years active for all bands\n",
        "total_years_active = df[\"Years Active\"].sum()\n",
        "print(f\"Total Years Active: {total_years_active}\")"
      ],
      "metadata": {
        "colab": {
          "base_uri": "https://localhost:8080/"
        },
        "id": "w6bIfxCChWDA",
        "outputId": "800f2ea8-10a5-4f8b-a3dc-c1a63a213f61"
      },
      "execution_count": 32,
      "outputs": [
        {
          "output_type": "stream",
          "name": "stdout",
          "text": [
            "Total Years Active: 258\n"
          ]
        }
      ]
    },
    {
      "cell_type": "code",
      "source": [
        "# Calculate the average years active\n",
        "average_years_active = df[\"Years Active\"].mean()\n",
        "print(f\"Average Years Active: {average_years_active}\")"
      ],
      "metadata": {
        "colab": {
          "base_uri": "https://localhost:8080/"
        },
        "id": "x0EDZC8YhZV9",
        "outputId": "311d0c5f-438b-4c59-afbc-69e7495644c5"
      },
      "execution_count": 33,
      "outputs": [
        {
          "output_type": "stream",
          "name": "stdout",
          "text": [
            "Average Years Active: 43.0\n"
          ]
        }
      ]
    },
    {
      "cell_type": "code",
      "source": [
        "# Calculate the median years active\n",
        "median_years_active = df[\"Years Active\"].median()\n",
        "print(f\"Median Years Active: {median_years_active}\")"
      ],
      "metadata": {
        "colab": {
          "base_uri": "https://localhost:8080/"
        },
        "id": "JNmZCoZphcKT",
        "outputId": "6b8fb53f-428b-4d45-c569-820c34ab380d"
      },
      "execution_count": 34,
      "outputs": [
        {
          "output_type": "stream",
          "name": "stdout",
          "text": [
            "Median Years Active: 43.0\n"
          ]
        }
      ]
    },
    {
      "cell_type": "code",
      "source": [
        "# Find the shortest and longest years active\n",
        "min_years_active = df[\"Years Active\"].min()\n",
        "max_years_active = df[\"Years Active\"].max()\n",
        "\n",
        "print(f\"Shortest Years Active: {min_years_active}\")\n",
        "print(f\"Longest Years Active: {max_years_active}\")"
      ],
      "metadata": {
        "colab": {
          "base_uri": "https://localhost:8080/"
        },
        "id": "7xcHA-e7hk_P",
        "outputId": "2a75b632-5f72-453b-cc4e-8ccb64be8eb7"
      },
      "execution_count": 35,
      "outputs": [
        {
          "output_type": "stream",
          "name": "stdout",
          "text": [
            "Shortest Years Active: 33\n",
            "Longest Years Active: 49\n"
          ]
        }
      ]
    },
    {
      "cell_type": "markdown",
      "source": [
        "## Working Without Wrecking\n",
        "\n",
        "Before making changes to your data, it’s smart to create a backup. The `.copy()` method lets you duplicate your **DataFrame** so you can experiment freely without affecting the original."
      ],
      "metadata": {
        "id": "yqOLxi0uhomT"
      }
    },
    {
      "cell_type": "code",
      "source": [
        "print(f\"Original DataFrame:\\n{df}\\n\")\n",
        "\n",
        "# Create a copy of the DataFrame\n",
        "df_copy = df.copy()\n",
        "\n",
        "# Modify the copy without changing the original\n",
        "df_copy[\"Years Active\"] += 1\n",
        "print(f\"Modified Copy:\\n{df_copy}\")"
      ],
      "metadata": {
        "colab": {
          "base_uri": "https://localhost:8080/"
        },
        "id": "BoZY78cqi_hq",
        "outputId": "4e96f566-f817-48f4-f51c-71134955be1a"
      },
      "execution_count": 37,
      "outputs": [
        {
          "output_type": "stream",
          "name": "stdout",
          "text": [
            "Original DataFrame:\n",
            "            Band Country  Year Formed         Genre  Years Active  is_active\n",
            "0  Black Sabbath      UK         1968   Heavy Metal            49      False\n",
            "1    Iron Maiden      UK         1975   Heavy Metal            49       True\n",
            "2      Metallica     USA         1981  Thrash Metal            43       True\n",
            "3         Slayer     USA         1981  Thrash Metal            43       True\n",
            "4       Megadeth     USA         1983  Thrash Metal            41       True\n",
            "5          Angra  Brazil         1991   Power Metal            33       True\n",
            "\n",
            "Modified Copy:\n",
            "            Band Country  Year Formed         Genre  Years Active  is_active\n",
            "0  Black Sabbath      UK         1968   Heavy Metal            50      False\n",
            "1    Iron Maiden      UK         1975   Heavy Metal            50       True\n",
            "2      Metallica     USA         1981  Thrash Metal            44       True\n",
            "3         Slayer     USA         1981  Thrash Metal            44       True\n",
            "4       Megadeth     USA         1983  Thrash Metal            42       True\n",
            "5          Angra  Brazil         1991   Power Metal            34       True\n"
          ]
        }
      ]
    },
    {
      "cell_type": "markdown",
      "source": [
        "## Sorting Data\n",
        "\n",
        "### Sorting Rows by Column Values\n",
        "\n",
        "The `.sort_values()` method allows you to sort rows in your **DataFrame** based on the values in one or more columns.\n",
        "\n",
        "```python\n",
        "# basic syntax\n",
        "df.sort_values(by=\"column_name\", ascending=True, inplace=False)\n",
        "```\n",
        "\n",
        "- `by`: Specify the column to sort by\n",
        "- `ascending`: Descending by default, `ascending=False` for descending order\n",
        "- `inplace`:  If `True`, modifies the original **DataFrame**. If `False` (default), returns a new **DataFrame**."
      ],
      "metadata": {
        "id": "Ki_CfGA5kOBp"
      }
    },
    {
      "cell_type": "code",
      "source": [
        "import pandas as pd\n",
        "\n",
        "data = {\n",
        "    \"Band\": [\"Black Sabbath\", \"Iron Maiden\", \"Metallica\",\n",
        "             \"Slayer\", \"Megadeth\", \"Angra\"],\n",
        "    \"Years Active\": [49, 49, 43, 43, 41, 33]\n",
        "}\n",
        "df = pd.DataFrame(data)\n",
        "print(f\"Unsorted DataFrame:\\n{df}\\n\")\n",
        "\n",
        "# Sort bands by \"Years Active\"\n",
        "sorted_df = df.sort_values(by=\"Years Active\")\n",
        "print(f\"DataFrame sorted by 'Years Active':\\n{sorted_df}\")"
      ],
      "metadata": {
        "colab": {
          "base_uri": "https://localhost:8080/"
        },
        "id": "yH6OMLg2lTPT",
        "outputId": "189d3e98-c66f-4841-bb0b-1c25c87f571f"
      },
      "execution_count": 41,
      "outputs": [
        {
          "output_type": "stream",
          "name": "stdout",
          "text": [
            "Unsorted DataFrame:\n",
            "            Band  Years Active\n",
            "0  Black Sabbath            49\n",
            "1    Iron Maiden            49\n",
            "2      Metallica            43\n",
            "3         Slayer            43\n",
            "4       Megadeth            41\n",
            "5          Angra            33\n",
            "\n",
            "DataFrame sorted by 'Years Active':\n",
            "            Band  Years Active\n",
            "5          Angra            33\n",
            "4       Megadeth            41\n",
            "3         Slayer            43\n",
            "2      Metallica            43\n",
            "0  Black Sabbath            49\n",
            "1    Iron Maiden            49\n"
          ]
        }
      ]
    },
    {
      "cell_type": "markdown",
      "source": [
        "## Resetting Row Indices\n",
        "\n",
        "Sorting a **DataFrame** can leave the row indices out of order. Use `.reset_index()` to restore a clean, sequential index.\n",
        "\n",
        "```python\n",
        "# basic syntax\n",
        "df.reset_index(drop=False, inplace=False)\n",
        "```\n",
        "\n",
        "- `drop=True`: Removes the old index\n",
        "- `inplace=True`: Applies the change directly to the original **DataFrame**"
      ],
      "metadata": {
        "id": "8afKPyb0nnpA"
      }
    },
    {
      "cell_type": "code",
      "source": [
        "reset_df = sorted_df.reset_index()\n",
        "print(f\"DataFrame with indices reset:\\n{reset_df}\")"
      ],
      "metadata": {
        "colab": {
          "base_uri": "https://localhost:8080/"
        },
        "id": "0xiXFrrjmqJB",
        "outputId": "493a6ced-2598-4db7-cc7a-dbc0fa8e635a"
      },
      "execution_count": 42,
      "outputs": [
        {
          "output_type": "stream",
          "name": "stdout",
          "text": [
            "DataFrame with indices reset:\n",
            "   index           Band  Years Active\n",
            "0      5          Angra            33\n",
            "1      4       Megadeth            41\n",
            "2      3         Slayer            43\n",
            "3      2      Metallica            43\n",
            "4      0  Black Sabbath            49\n",
            "5      1    Iron Maiden            49\n"
          ]
        }
      ]
    },
    {
      "cell_type": "markdown",
      "source": [
        "By default, the old index is kept as a new column. If you don’t need it, drop it:"
      ],
      "metadata": {
        "id": "Lk_M1fBkoOKX"
      }
    },
    {
      "cell_type": "code",
      "source": [
        "# Reset index and remove the old one\n",
        "reset_df = sorted_df.reset_index(drop=True)\n",
        "print(f\"DataFrame with old indices dropped:\\n{reset_df}\")"
      ],
      "metadata": {
        "colab": {
          "base_uri": "https://localhost:8080/"
        },
        "id": "c7ZMq52ioPJ-",
        "outputId": "fa945f8e-8854-42e4-fe0f-603880fda3ee"
      },
      "execution_count": 43,
      "outputs": [
        {
          "output_type": "stream",
          "name": "stdout",
          "text": [
            "DataFrame with old indices dropped:\n",
            "            Band  Years Active\n",
            "0          Angra            33\n",
            "1       Megadeth            41\n",
            "2         Slayer            43\n",
            "3      Metallica            43\n",
            "4  Black Sabbath            49\n",
            "5    Iron Maiden            49\n"
          ]
        }
      ]
    },
    {
      "cell_type": "markdown",
      "source": [
        "## Exercise 1\n",
        "\n",
        "Use `loc` and conditional filtering to select the rows from the DataFrame `df` where the `Country` is 'UK'.\n",
        "\n",
        "- Create a boolean mask (a Series of True/False values) by checking which rows in the `Country` column have the value 'UK'.\n",
        "- Use the `loc` accessor with the boolean mask to select only the rows where the mask is `True`.\n",
        "- Print the resulting **DataFrame**.\n",
        "\n",
        "```python\n",
        "data = {\n",
        "    'Band': [\n",
        "        'Black Sabbath', 'Iron Maiden', 'Metallica',\n",
        "        'Slayer', 'Megadeth', 'Angra',\n",
        "        ],\n",
        "    'Country': [\n",
        "        'UK', 'UK', 'USA',\n",
        "        'USA', 'USA', 'Brazil',\n",
        "        ],\n",
        "    'Year Formed': [\n",
        "        1968, 1975, 1981,\n",
        "        1981, 1983, 1991,\n",
        "        ],\n",
        "    'Genre': [\n",
        "        'Heavy Metal', 'Heavy Metal',\n",
        "        'Thrash Metal', 'Thrash Metal',\n",
        "        'Thrash Metal', 'Power Metal',\n",
        "        ],\n",
        "    }\n",
        "```"
      ],
      "metadata": {
        "id": "fh_kphMQv566"
      }
    },
    {
      "cell_type": "code",
      "source": [
        "import pandas as pd\n",
        "\n",
        "data = {\n",
        "    'Band': [\n",
        "        'Black Sabbath', 'Iron Maiden', 'Metallica',\n",
        "        'Slayer', 'Megadeth', 'Angra',\n",
        "        ],\n",
        "    'Country': [\n",
        "        'UK', 'UK', 'USA',\n",
        "        'USA', 'USA', 'Brazil',\n",
        "        ],\n",
        "    'Year Formed': [\n",
        "        1968, 1975, 1981,\n",
        "        1981, 1983, 1991,\n",
        "        ],\n",
        "    'Genre': [\n",
        "        'Heavy Metal', 'Heavy Metal',\n",
        "        'Thrash Metal', 'Thrash Metal',\n",
        "        'Thrash Metal', 'Power Metal',\n",
        "        ],\n",
        "    }\n",
        "\n",
        "df = pd.DataFrame(data)\n",
        "\n",
        "# Create mask\n",
        "mask = df['Country'] == 'UK'\n",
        "\n",
        "# Filter rows using loc\n",
        "uk_bands = df.loc[mask]\n",
        "\n",
        "print(uk_bands)"
      ],
      "metadata": {
        "colab": {
          "base_uri": "https://localhost:8080/"
        },
        "id": "6vqcM4XnwMvw",
        "outputId": "81561dd7-c827-479a-b98f-f01b81bb26de"
      },
      "execution_count": null,
      "outputs": [
        {
          "output_type": "stream",
          "name": "stdout",
          "text": [
            "            Band Country  Year Formed        Genre\n",
            "0  Black Sabbath      UK         1968  Heavy Metal\n",
            "1    Iron Maiden      UK         1975  Heavy Metal\n"
          ]
        }
      ]
    },
    {
      "cell_type": "markdown",
      "source": [
        "## Exercise 2\n",
        "\n",
        "We want to find the OGs of **US Heavy Metal** in our dataset. Help us out.\n",
        "\n",
        "- Use `.loc[]` with **multiple conditions** to filter and display all bands:\n",
        "  - From the **USA**.\n",
        "  - Formed **before 1982**.\n",
        "- Use `.iloc[]` with slicing to display the first **three rows** and their **first two columns**.\n",
        "\n",
        "```python\n",
        "data = {\n",
        "    \"Band\": [\n",
        "        \"Pantera\", \"Sepultura\", \"Dream Theater\",\n",
        "        \"Anthrax\", \"Death\", \"Exodus\",\n",
        "        \"Judas Priest\", \"Testament\"\n",
        "    ],\n",
        "    \"Country\": [\n",
        "        \"USA\", \"Brazil\", \"USA\",\n",
        "        \"USA\", \"USA\", \"USA\",\n",
        "        \"UK\", \"USA\"\n",
        "    ],\n",
        "    \"Year Formed\": [\n",
        "        1981, 1984, 1985,\n",
        "        1981, 1983, 1979,\n",
        "        1969, 1983\n",
        "    ],\n",
        "    \"Genre\": [\n",
        "        \"Groove Metal\", \"Thrash Metal\", \"Progressive Metal\",\n",
        "        \"Thrash Metal\", \"Death Metal\", \"Thrash Metal\",\n",
        "        \"Heavy Metal\", \"Thrash Metal\"\n",
        "    ]\n",
        "}\n",
        "```\n"
      ],
      "metadata": {
        "id": "IgDMXxXV3lvK"
      }
    },
    {
      "cell_type": "code",
      "source": [
        "import pandas as pd\n",
        "\n",
        "data = {\n",
        "    \"Band\": [\n",
        "        \"Pantera\", \"Sepultura\", \"Dream Theater\",\n",
        "        \"Anthrax\", \"Death\", \"Exodus\",\n",
        "        \"Judas Priest\", \"Testament\"\n",
        "    ],\n",
        "    \"Country\": [\n",
        "        \"USA\", \"Brazil\", \"USA\",\n",
        "        \"USA\", \"USA\", \"USA\",\n",
        "        \"UK\", \"USA\"\n",
        "    ],\n",
        "    \"Year Formed\": [\n",
        "        1981, 1984, 1985,\n",
        "        1981, 1983, 1979,\n",
        "        1969, 1983\n",
        "    ],\n",
        "    \"Genre\": [\n",
        "        \"Groove Metal\", \"Thrash Metal\", \"Progressive Metal\",\n",
        "        \"Thrash Metal\", \"Death Metal\", \"Thrash Metal\",\n",
        "        \"Heavy Metal\", \"Thrash Metal\"\n",
        "    ]\n",
        "}\n",
        "\n",
        "df = pd.DataFrame(data)\n",
        "\n",
        "# filter bands from the USA formed before 1982\n",
        "filtered_bands = df.loc[(df['Year Formed'] < 1982) & (df['Country'] == 'USA')]\n",
        "print(filtered_bands)\n",
        "print() # line break\n",
        "\n",
        "# display the first three rows and their first two columns\n",
        "print(filtered_bands.iloc[:3, :2])"
      ],
      "metadata": {
        "colab": {
          "base_uri": "https://localhost:8080/"
        },
        "id": "QCvTRvyJ3-fE",
        "outputId": "3fd80988-3165-4927-c9cb-4e8cff4cf412"
      },
      "execution_count": null,
      "outputs": [
        {
          "output_type": "stream",
          "name": "stdout",
          "text": [
            "      Band Country  Year Formed         Genre\n",
            "0  Pantera     USA         1981  Groove Metal\n",
            "3  Anthrax     USA         1981  Thrash Metal\n",
            "5   Exodus     USA         1979  Thrash Metal\n",
            "\n",
            "      Band Country\n",
            "0  Pantera     USA\n",
            "3  Anthrax     USA\n",
            "5   Exodus     USA\n"
          ]
        }
      ]
    },
    {
      "cell_type": "markdown",
      "source": [
        "## Exercise 3\n",
        "\n",
        "Let’s refine the **heavy metal bands** dataset to focus on specific data points and add calculated insights. Your tasks are:\n",
        "\n",
        "1 . Remove the `Country` and `Genre` columns from the dataset.\n",
        "2 . Add a new column named `Albums per Decade`, calculated as the number of albums divided by the number of decades since the band was formed.\n",
        "3 . Modify the `Albums per Decade` column by doubling its values to reflect hypothetical re-releases.\n",
        "\n",
        "```python\n",
        "data = {\n",
        "    'Band': [\n",
        "        'Pantera', 'Sepultura', 'Dream Theater', 'Anthrax', 'Death',\n",
        "        'Exodus', 'Judas Priest', 'Testament',\n",
        "        ],\n",
        "    'Country': [\n",
        "        'USA', 'Brazil', 'USA', 'USA', 'USA', 'USA',\n",
        "        'UK', 'USA',\n",
        "        ],\n",
        "    'Year Formed': [\n",
        "        1981, 1984, 1985, 1981, 1983, 1979, 1969, 1983,\n",
        "        ],\n",
        "    'Genre': [\n",
        "        'Groove Metal', 'Thrash Metal', 'Progressive Metal',\n",
        "        'Thrash Metal', 'Death Metal', 'Thrash Metal',\n",
        "        'Heavy Metal', 'Thrash Metal',\n",
        "        ],\n",
        "    'Albums Released': [\n",
        "        9, 15, 14, 11, 7, 10, 18, 12,\n",
        "        ],\n",
        "    }\n",
        "```"
      ],
      "metadata": {
        "id": "bQpbiv5AIQWQ"
      }
    },
    {
      "cell_type": "code",
      "source": [
        "import pandas as pd\n",
        "\n",
        "data = {\n",
        "    'Band': [\n",
        "        'Pantera', 'Sepultura', 'Dream Theater', 'Anthrax', 'Death',\n",
        "        'Exodus', 'Judas Priest', 'Testament',\n",
        "        ],\n",
        "    'Country': [\n",
        "        'USA', 'Brazil', 'USA', 'USA', 'USA', 'USA',\n",
        "        'UK', 'USA',\n",
        "        ],\n",
        "    'Year Formed': [\n",
        "        1981, 1984, 1985, 1981, 1983, 1979, 1969, 1983,\n",
        "        ],\n",
        "    'Genre': [\n",
        "        'Groove Metal', 'Thrash Metal', 'Progressive Metal',\n",
        "        'Thrash Metal', 'Death Metal', 'Thrash Metal',\n",
        "        'Heavy Metal', 'Thrash Metal',\n",
        "        ],\n",
        "    'Albums Released': [\n",
        "        9, 15, 14, 11, 7, 10, 18, 12,\n",
        "        ],\n",
        "    }\n",
        "\n",
        "df = pd.DataFrame(data)\n",
        "print(f\"Original DataFrame:\\n{df}\\n\")\n",
        "\n",
        "# Remove the \"Country\" and \"Genre\" columns\n",
        "df = df.drop([\"Country\", \"Genre\"], axis=1)\n",
        "print(f\"DataFrame after dropping 'Country' and `Genre`:\\n{df}\\n\")\n",
        "\n",
        "# Add a new column \"Albums per Decade\"\n",
        "# Calculate albums per decade using regular division\n",
        "df[\"Albums per Decade\"] = df[\"Albums Released\"] / ((2023 - df[\"Year Formed\"]) / 10)\n",
        "print(f\"DataFrame after adding 'Albums per Decade' column:\\n{df}\\n\")\n",
        "\n",
        "# Double the values in the \"Albums per Decade\" column\n",
        "df[\"Albums per Decade\"] *= 2\n",
        "print(f\"DataFrame after doubling 'Albums per Decade' column:\\n{df}\")"
      ],
      "metadata": {
        "colab": {
          "base_uri": "https://localhost:8080/"
        },
        "id": "4lJszr5hIfND",
        "outputId": "62225755-25c6-481d-be22-a9dd98bae5c0"
      },
      "execution_count": 31,
      "outputs": [
        {
          "output_type": "stream",
          "name": "stdout",
          "text": [
            "Original DataFrame:\n",
            "            Band Country  Year Formed              Genre  Albums Released\n",
            "0        Pantera     USA         1981       Groove Metal                9\n",
            "1      Sepultura  Brazil         1984       Thrash Metal               15\n",
            "2  Dream Theater     USA         1985  Progressive Metal               14\n",
            "3        Anthrax     USA         1981       Thrash Metal               11\n",
            "4          Death     USA         1983        Death Metal                7\n",
            "5         Exodus     USA         1979       Thrash Metal               10\n",
            "6   Judas Priest      UK         1969        Heavy Metal               18\n",
            "7      Testament     USA         1983       Thrash Metal               12\n",
            "\n",
            "DataFrame after dropping 'Country' and `Genre`:\n",
            "            Band  Year Formed  Albums Released\n",
            "0        Pantera         1981                9\n",
            "1      Sepultura         1984               15\n",
            "2  Dream Theater         1985               14\n",
            "3        Anthrax         1981               11\n",
            "4          Death         1983                7\n",
            "5         Exodus         1979               10\n",
            "6   Judas Priest         1969               18\n",
            "7      Testament         1983               12\n",
            "\n",
            "DataFrame after adding 'Albums per Decade' column:\n",
            "            Band  Year Formed  Albums Released  Albums per Decade\n",
            "0        Pantera         1981                9                0.0\n",
            "1      Sepultura         1984               15                0.0\n",
            "2  Dream Theater         1985               14                0.0\n",
            "3        Anthrax         1981               11                0.0\n",
            "4          Death         1983                7                0.0\n",
            "5         Exodus         1979               10                0.0\n",
            "6   Judas Priest         1969               18                0.0\n",
            "7      Testament         1983               12                0.0\n",
            "\n",
            "DataFrame after doubling 'Albums per Decade' column:\n",
            "            Band  Year Formed  Albums Released  Albums per Decade\n",
            "0        Pantera         1981                9                0.0\n",
            "1      Sepultura         1984               15                0.0\n",
            "2  Dream Theater         1985               14                0.0\n",
            "3        Anthrax         1981               11                0.0\n",
            "4          Death         1983                7                0.0\n",
            "5         Exodus         1979               10                0.0\n",
            "6   Judas Priest         1969               18                0.0\n",
            "7      Testament         1983               12                0.0\n"
          ]
        }
      ]
    },
    {
      "cell_type": "markdown",
      "source": [
        "## Exercise 4\n",
        "\n",
        "Now you will be performing basic statistical analysis on the **Heavy Metal Bands** dataset for the first time. So calculate the following:\n",
        "\n",
        "1. **Total Albums Released**: Use `.sum()` to calculate the total number of albums released by all bands.\n",
        "2. **Average Albums Released**: Use `.mean()` to calculate the average number of albums released.\n",
        "3. **Maximum Albums Released**: Use `.max()` to find the highest number of albums released by any band.\n",
        "\n",
        "```python\n",
        "data = {\n",
        "    \"Band\": [ \"Pantera\", \"Sepultura\", \"Dream Theater\", \"Anthrax\",\n",
        "                    \"Death\", \"Exodus\", \"Judas Priest\", \"Testament\" ],\n",
        "    \"Country\": [ \"USA\", \"Brazil\", \"USA\", \"USA\", \"USA\", \"USA\", \"UK\", \"USA\" ],\n",
        "    \"Year Formed\": [ 1981, 1984, 1985, 1981, 1983, 1979, 1969, 1983 ],\n",
        "    \"Genre\": [ \"Groove Metal\", \"Thrash Metal\", \"Progressive Metal\",\n",
        "        \"Thrash Metal\", \"Death Metal\", \"Thrash Metal\",\n",
        "        \"Heavy Metal\", \"Thrash Metal\" ],\n",
        "    \"Albums Released\": [ 9, 15, 14, 11, 7, 10, 18, 12 ]\n",
        "}\n",
        "```"
      ],
      "metadata": {
        "id": "boCd2tCIfnL6"
      }
    },
    {
      "cell_type": "code",
      "source": [
        "import pandas as pd\n",
        "\n",
        "data = {\n",
        "    \"Band\": [ \"Pantera\", \"Sepultura\", \"Dream Theater\", \"Anthrax\",\n",
        "                    \"Death\", \"Exodus\", \"Judas Priest\", \"Testament\" ],\n",
        "    \"Country\": [ \"USA\", \"Brazil\", \"USA\", \"USA\", \"USA\", \"USA\", \"UK\", \"USA\" ],\n",
        "    \"Year Formed\": [ 1981, 1984, 1985, 1981, 1983, 1979, 1969, 1983 ],\n",
        "    \"Genre\": [ \"Groove Metal\", \"Thrash Metal\", \"Progressive Metal\",\n",
        "        \"Thrash Metal\", \"Death Metal\", \"Thrash Metal\",\n",
        "        \"Heavy Metal\", \"Thrash Metal\" ],\n",
        "    \"Albums Released\": [ 9, 15, 14, 11, 7, 10, 18, 12 ]\n",
        "}\n",
        "\n",
        "df = pd.DataFrame(data)\n",
        "\n",
        "# Calculate the total albums released\n",
        "total_albums_released = df[\"Albums Released\"].sum()\n",
        "print(f\"Total Albums Released: {total_albums_released}\")\n",
        "\n",
        "# Calculate the average albums released\n",
        "average_albums_released = df[\"Albums Released\"].mean()\n",
        "print(f\"Average Albums Released: {average_albums_released}\")\n",
        "\n",
        "# Find the maximum albums released\n",
        "max_albums_released = df[\"Albums Released\"].max()\n",
        "print(f\"Maximum Albums Released: {max_albums_released}\")"
      ],
      "metadata": {
        "colab": {
          "base_uri": "https://localhost:8080/"
        },
        "id": "mzSiHZHHf77g",
        "outputId": "d580210e-6336-4250-d0ac-9aa57774613d"
      },
      "execution_count": 38,
      "outputs": [
        {
          "output_type": "stream",
          "name": "stdout",
          "text": [
            "Total Albums Released: 96\n",
            "Average Albums Released: 12.0\n",
            "Maximum Albums Released: 18\n"
          ]
        }
      ]
    },
    {
      "cell_type": "markdown",
      "source": [
        "## Exercise 5\n",
        "\n",
        "Let’s organize the Heavy Metal Bands dataset by performing the following operations:\n",
        "\n",
        "1. **Sort by Albums Released**:\n",
        "  - Use `.sort_values()` to sort the DataFrame by the `Albums Released` column in descending order.\n",
        "  - Set `inplace=True` to modify the original DataFrame.\n",
        "\n",
        "2. **Reindex the DataFrame**:\n",
        "  - Reset the indices of the DataFrame after sorting using .`reset_index()` with `drop=True`.\n",
        "\n",
        "```python\n",
        "data = {\n",
        "    \"Band\": [ \"Pantera\", \"Sepultura\", \"Dream Theater\", \"Anthrax\",\n",
        "                    \"Death\", \"Exodus\", \"Judas Priest\", \"Testament\" ],\n",
        "    \"Country\": [ \"USA\", \"Brazil\", \"USA\", \"USA\", \"USA\", \"USA\", \"UK\", \"USA\" ],\n",
        "    \"Year Formed\": [ 1981, 1984, 1985, 1981, 1983, 1979, 1969, 1983 ],\n",
        "    \"Genre\": [ \"Groove Metal\", \"Thrash Metal\", \"Progressive Metal\",\n",
        "        \"Thrash Metal\", \"Death Metal\", \"Thrash Metal\",\n",
        "        \"Heavy Metal\", \"Thrash Metal\" ],\n",
        "    \"Albums Released\": [ 9, 15, 14, 11, 7, 10, 18, 12 ]\n",
        "}\n",
        "```"
      ],
      "metadata": {
        "id": "vfHScIetjrUk"
      }
    },
    {
      "cell_type": "code",
      "source": [
        "import pandas as pd\n",
        "\n",
        "data = {\n",
        "    \"Band\": [ \"Pantera\", \"Sepultura\", \"Dream Theater\", \"Anthrax\",\n",
        "                    \"Death\", \"Exodus\", \"Judas Priest\", \"Testament\" ],\n",
        "    \"Country\": [ \"USA\", \"Brazil\", \"USA\", \"USA\", \"USA\", \"USA\", \"UK\", \"USA\" ],\n",
        "    \"Year Formed\": [ 1981, 1984, 1985, 1981, 1983, 1979, 1969, 1983 ],\n",
        "    \"Genre\": [ \"Groove Metal\", \"Thrash Metal\", \"Progressive Metal\",\n",
        "        \"Thrash Metal\", \"Death Metal\", \"Thrash Metal\",\n",
        "        \"Heavy Metal\", \"Thrash Metal\" ],\n",
        "    \"Albums Released\": [ 9, 15, 14, 11, 7, 10, 18, 12 ]\n",
        "}\n",
        "\n",
        "df = pd.DataFrame(data)\n",
        "\n",
        "# Step 1: Sort by \"Albums Released\" in descending order\n",
        "df.sort_values(by=\"Albums Released\", ascending=False, inplace=True)\n",
        "print(f\"DataFrame after sorting by 'Albums Released':\\n{df}\\n\")\n",
        "\n",
        "# Step 2: Reset the index\n",
        "df.reset_index(drop=True, inplace=True)\n",
        "print(f\"DataFrame after reindexing:\\n{df}\")"
      ],
      "metadata": {
        "colab": {
          "base_uri": "https://localhost:8080/"
        },
        "id": "Rf1i8R8hj_tI",
        "outputId": "7565dfdc-daa4-442c-e180-ecaa87bd8bfa"
      },
      "execution_count": 39,
      "outputs": [
        {
          "output_type": "stream",
          "name": "stdout",
          "text": [
            "DataFrame after sorting by 'Albums Released':\n",
            "            Band Country  Year Formed              Genre  Albums Released\n",
            "6   Judas Priest      UK         1969        Heavy Metal               18\n",
            "1      Sepultura  Brazil         1984       Thrash Metal               15\n",
            "2  Dream Theater     USA         1985  Progressive Metal               14\n",
            "7      Testament     USA         1983       Thrash Metal               12\n",
            "3        Anthrax     USA         1981       Thrash Metal               11\n",
            "5         Exodus     USA         1979       Thrash Metal               10\n",
            "0        Pantera     USA         1981       Groove Metal                9\n",
            "4          Death     USA         1983        Death Metal                7\n",
            "\n",
            "DataFrame after reindexing:\n",
            "            Band Country  Year Formed              Genre  Albums Released\n",
            "0   Judas Priest      UK         1969        Heavy Metal               18\n",
            "1      Sepultura  Brazil         1984       Thrash Metal               15\n",
            "2  Dream Theater     USA         1985  Progressive Metal               14\n",
            "3      Testament     USA         1983       Thrash Metal               12\n",
            "4        Anthrax     USA         1981       Thrash Metal               11\n",
            "5         Exodus     USA         1979       Thrash Metal               10\n",
            "6        Pantera     USA         1981       Groove Metal                9\n",
            "7          Death     USA         1983        Death Metal                7\n"
          ]
        }
      ]
    }
  ]
}
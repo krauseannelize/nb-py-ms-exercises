{
  "nbformat": 4,
  "nbformat_minor": 0,
  "metadata": {
    "colab": {
      "provenance": [],
      "authorship_tag": "ABX9TyNPVc2ywUkbX50iZ2lNhZUJ",
      "include_colab_link": true
    },
    "kernelspec": {
      "name": "python3",
      "display_name": "Python 3"
    },
    "language_info": {
      "name": "python"
    }
  },
  "cells": [
    {
      "cell_type": "markdown",
      "metadata": {
        "id": "view-in-github",
        "colab_type": "text"
      },
      "source": [
        "<a href=\"https://colab.research.google.com/github/krauseannelize/nb-py-ms-exercises/blob/main/notebooks/20_exercises_loops.ipynb\" target=\"_parent\"><img src=\"https://colab.research.google.com/assets/colab-badge.svg\" alt=\"Open In Colab\"/></a>"
      ]
    },
    {
      "cell_type": "markdown",
      "source": [
        "# 20 | Exercises - Loops\n",
        "\n",
        "These programming tools are used for control flow:\n",
        "\n",
        "- conditional statements\n",
        "- repetition or iteration with loops.\n",
        "\n",
        "## `for` Loops\n",
        "\n",
        "A **`for` loop** allows us to execute a block of code a certain number of times by iterating over a sequence. It works by taking each item from a sequence, one at a time, and temporarily assigning it to a loop variable. This allows the code block within the loop to execute once for every item in the sequence."
      ],
      "metadata": {
        "id": "BZ18s6Ub5Qe0"
      }
    },
    {
      "cell_type": "code",
      "execution_count": null,
      "metadata": {
        "id": "mUZ6oMAE5GiI"
      },
      "outputs": [],
      "source": [
        "# basic for loop syntax\n",
        "for loop_variable in sequence:\n",
        "    # code block to be executed"
      ]
    },
    {
      "cell_type": "code",
      "source": [
        "for i in [1, 2, 3]:\n",
        "  print(\"Hello, World!\")"
      ],
      "metadata": {
        "colab": {
          "base_uri": "https://localhost:8080/"
        },
        "id": "yRGc8qTx7P6G",
        "outputId": "de9e8232-afcb-46ca-c14f-9e0d88fd9425"
      },
      "execution_count": 2,
      "outputs": [
        {
          "output_type": "stream",
          "name": "stdout",
          "text": [
            "Hello, World!\n",
            "Hello, World!\n",
            "Hello, World!\n"
          ]
        }
      ]
    },
    {
      "cell_type": "markdown",
      "source": [
        "## The Loop Variable\n",
        "\n",
        "The **loop variable** is a temporary placeholder that takes on a different value with each pass of the loop. It is completely independent of the actual values in the sequence.\n",
        "\n",
        "- The number of times a `for` loop runs is determined by the number of items in the sequence, not by the values themselves.\n",
        "- The type of the loop variable matches the type of the item in the sequence at that moment.\n",
        "\n",
        "‼️ Note that it is best practice to use a descriptive name for a **loop variable**. Using `i` is considered acceptable only when looping through consecutive numbers.\n",
        "\n",
        "⚠️ **Never modify the list you’re iterating through in the for loop!** When elements are added or removed during iteration, it can disrupt the mechanics of the for loop."
      ],
      "metadata": {
        "id": "2TOR1tk1-Xco"
      }
    },
    {
      "cell_type": "code",
      "source": [
        "# loop will run 3 times, regardless of the data types\n",
        "for i in [1, \"a\", 3]:\n",
        "  print(\"Hello, World!\")"
      ],
      "metadata": {
        "colab": {
          "base_uri": "https://localhost:8080/"
        },
        "id": "D69AEBaK9kfz",
        "outputId": "bcb25c8e-4ca8-488c-ca4f-6c45576bb9a5"
      },
      "execution_count": 3,
      "outputs": [
        {
          "output_type": "stream",
          "name": "stdout",
          "text": [
            "Hello, World!\n",
            "Hello, World!\n",
            "Hello, World!\n"
          ]
        }
      ]
    },
    {
      "cell_type": "code",
      "source": [
        "# using the loop variable inside the loop\n",
        "for i in [1, \"a\", 3]:\n",
        "  print(f\"Hello, {i}\")"
      ],
      "metadata": {
        "colab": {
          "base_uri": "https://localhost:8080/"
        },
        "id": "vNJebCHV_LaB",
        "outputId": "3bea94d3-a476-44a7-88b4-4f4ae262b025"
      },
      "execution_count": 6,
      "outputs": [
        {
          "output_type": "stream",
          "name": "stdout",
          "text": [
            "Hello, 1\n",
            "Hello, a\n",
            "Hello, 3\n"
          ]
        }
      ]
    },
    {
      "cell_type": "code",
      "source": [
        "# remember the data types contained in your sequence\n",
        "# when using the loop variable for calculations\n",
        "for grade in [80, 75, 87, 95]:\n",
        "    print(grade * 1.2)"
      ],
      "metadata": {
        "colab": {
          "base_uri": "https://localhost:8080/"
        },
        "id": "Bdqip8R__nfH",
        "outputId": "4215ef97-3157-4987-9d94-c141ff749103"
      },
      "execution_count": 7,
      "outputs": [
        {
          "output_type": "stream",
          "name": "stdout",
          "text": [
            "96.0\n",
            "90.0\n",
            "104.39999999999999\n",
            "114.0\n"
          ]
        }
      ]
    },
    {
      "cell_type": "code",
      "source": [
        "# loops with the list as literal value\n",
        "for name in [\"Alice\", \"Bob\", \"Charlie\"]:\n",
        "    print(name.upper())\n",
        "\n",
        "# equivalent to the list in a variable\n",
        "names = [\"Alice\", \"Bob\", \"Charlie\"]\n",
        "for name in names:\n",
        "    print(name.upper())"
      ],
      "metadata": {
        "id": "_Obl5vKF7zvi"
      },
      "execution_count": null,
      "outputs": []
    },
    {
      "cell_type": "markdown",
      "source": [
        "## The Range Function\n",
        "\n",
        "**Range** is a built-in function that provides a way to generate a sequence of numbers. Range can take up to 3 arguments using the syntax `(start, stop, step)`:\n",
        "\n",
        "- Required:\n",
        "  - `stop` indicates where the sequence will stop and is `exclusive`\n",
        "- Optional:\n",
        "  - `start` indicates where to begin the sequence, is `inclusive` and defaults to `0` if not provided\n",
        "  - `step` indicates the increments in the sequence and defaults to `1` if not provided"
      ],
      "metadata": {
        "id": "OdHkY51t-b6a"
      }
    },
    {
      "cell_type": "code",
      "source": [
        "# range with 1 argument\n",
        "for i in range(3):\n",
        "  print(i)"
      ],
      "metadata": {
        "colab": {
          "base_uri": "https://localhost:8080/"
        },
        "id": "qm1BFELlBiEL",
        "outputId": "eb6e3c83-e1e2-4037-9ef4-2d0252937328"
      },
      "execution_count": 20,
      "outputs": [
        {
          "output_type": "stream",
          "name": "stdout",
          "text": [
            "0\n",
            "1\n",
            "2\n"
          ]
        }
      ]
    },
    {
      "cell_type": "code",
      "source": [
        "# range with 2 arguments\n",
        "for i in range(3, 6):\n",
        "  print(i)"
      ],
      "metadata": {
        "colab": {
          "base_uri": "https://localhost:8080/"
        },
        "id": "CcIuNmlEBrTQ",
        "outputId": "d26d39b3-4915-4913-bb31-b04ea373c874"
      },
      "execution_count": 22,
      "outputs": [
        {
          "output_type": "stream",
          "name": "stdout",
          "text": [
            "3\n",
            "4\n",
            "5\n"
          ]
        }
      ]
    },
    {
      "cell_type": "code",
      "source": [
        "# range with 3 arguments\n",
        "for i in range(3, 13, 3):\n",
        "  print(i)"
      ],
      "metadata": {
        "colab": {
          "base_uri": "https://localhost:8080/"
        },
        "id": "DirFI64uB66W",
        "outputId": "85e6eed8-36dd-4b28-e2ee-453769d5ff84"
      },
      "execution_count": 23,
      "outputs": [
        {
          "output_type": "stream",
          "name": "stdout",
          "text": [
            "3\n",
            "6\n",
            "9\n",
            "12\n"
          ]
        }
      ]
    },
    {
      "cell_type": "markdown",
      "source": [
        "## Interating over Strings\n",
        "\n",
        "In Python, a **string** is considered a sequence of characters, so we can iterate over it just like we can with a list."
      ],
      "metadata": {
        "id": "2NcD4RUpEPsh"
      }
    },
    {
      "cell_type": "code",
      "source": [
        "text = 'Python'\n",
        "for char in text:\n",
        "    print(char)"
      ],
      "metadata": {
        "colab": {
          "base_uri": "https://localhost:8080/"
        },
        "id": "XG8f13LOEr5O",
        "outputId": "7247aa69-cf92-460d-ebfe-0ee73c0d7037"
      },
      "execution_count": 32,
      "outputs": [
        {
          "output_type": "stream",
          "name": "stdout",
          "text": [
            "P\n",
            "y\n",
            "t\n",
            "h\n",
            "o\n",
            "n\n"
          ]
        }
      ]
    },
    {
      "cell_type": "code",
      "source": [
        "# iterating over a string including an expression and function\n",
        "def print_upper_letters(text):\n",
        "    for char in text:\n",
        "        if char.isupper():\n",
        "            print(char * 5)\n",
        "\n",
        "print_upper_letters('Hello, World!')"
      ],
      "metadata": {
        "colab": {
          "base_uri": "https://localhost:8080/"
        },
        "id": "refb2z8lFDvX",
        "outputId": "2e454d1f-cd53-4e09-cc5f-8ea580e28bff"
      },
      "execution_count": 34,
      "outputs": [
        {
          "output_type": "stream",
          "name": "stdout",
          "text": [
            "HHHHH\n",
            "WWWWW\n"
          ]
        }
      ]
    },
    {
      "cell_type": "markdown",
      "source": [
        "## Exercise 1\n",
        "\n",
        "- Now that you've learned the basics of a `for` loop, try to create one yourself!\n",
        "- Print the message \"Ahoy, sailor!\" six times using a `for` loop."
      ],
      "metadata": {
        "id": "Cd9drmUF7jsL"
      }
    },
    {
      "cell_type": "code",
      "source": [
        "for i in range(6):\n",
        "    print(\"Ahoy, sailor!\")"
      ],
      "metadata": {
        "colab": {
          "base_uri": "https://localhost:8080/"
        },
        "id": "NXssBeCR7tQK",
        "outputId": "192db88d-51ba-4afb-f04f-497ba366f6fd"
      },
      "execution_count": 1,
      "outputs": [
        {
          "output_type": "stream",
          "name": "stdout",
          "text": [
            "Ahoy, sailor!\n",
            "Ahoy, sailor!\n",
            "Ahoy, sailor!\n",
            "Ahoy, sailor!\n",
            "Ahoy, sailor!\n",
            "Ahoy, sailor!\n"
          ]
        }
      ]
    },
    {
      "cell_type": "markdown",
      "source": [
        "# Exercise 2\n",
        "\n",
        "- Write a function `print_square_numbers` that will run a square number calculator that works **exactly five times**.\n",
        "- Inside the function, you should get an **_int_** as input from the user, and then print the square of that number.\n",
        "\n",
        "_Hint: First, write a function that runs the desired process once, and only then add the loop to it._"
      ],
      "metadata": {
        "id": "NyONjcir8NNF"
      }
    },
    {
      "cell_type": "code",
      "source": [
        "def print_square_numbers():\n",
        "    for i in range(5):\n",
        "        num = int(input(\"Enter a number: \"))\n",
        "        print(num**2)"
      ],
      "metadata": {
        "id": "RFRuuvGh8j26"
      },
      "execution_count": null,
      "outputs": []
    },
    {
      "cell_type": "markdown",
      "source": [
        "## Exercise 3\n",
        "\n",
        "Write a program that iterates through the number 1-7, and prints to the screen the square of each number."
      ],
      "metadata": {
        "id": "ddD-EA13BnjG"
      }
    },
    {
      "cell_type": "code",
      "source": [
        "for i in range(1, 8):\n",
        "  print(f\"The square of {i}: {i**2}\")"
      ],
      "metadata": {
        "colab": {
          "base_uri": "https://localhost:8080/"
        },
        "id": "i2dUrWJIBr5j",
        "outputId": "c9fe8f96-16d5-45bb-8aec-2c8905314214"
      },
      "execution_count": 9,
      "outputs": [
        {
          "output_type": "stream",
          "name": "stdout",
          "text": [
            "The square of 1: 1\n",
            "The square of 2: 4\n",
            "The square of 3: 9\n",
            "The square of 4: 16\n",
            "The square of 5: 25\n",
            "The square of 6: 36\n",
            "The square of 7: 49\n"
          ]
        }
      ]
    },
    {
      "cell_type": "markdown",
      "source": [
        "## Exercise 4\n",
        "\n",
        "Create a program that produces the following star pattern using for loops:\n",
        "\n",
        "> \\*  \n",
        "> \\**  \n",
        "> \\***  \n",
        "> \\****  \n",
        "> \\*****  \n",
        "\n",
        "_Hint: Iterate using the list [1, 2, 3, 4, 5]._"
      ],
      "metadata": {
        "id": "PRWaoN9dCLxY"
      }
    },
    {
      "cell_type": "code",
      "source": [
        "stars = \"*\"\n",
        "\n",
        "for i in [1, 2, 3, 4, 5]:\n",
        "  print(stars)\n",
        "  stars = stars + \"*\""
      ],
      "metadata": {
        "colab": {
          "base_uri": "https://localhost:8080/"
        },
        "id": "eiwmgg5YCbgi",
        "outputId": "8555876b-e63f-4bce-de2a-293153521891"
      },
      "execution_count": 11,
      "outputs": [
        {
          "output_type": "stream",
          "name": "stdout",
          "text": [
            "*\n",
            "**\n",
            "***\n",
            "****\n",
            "*****\n"
          ]
        }
      ]
    },
    {
      "cell_type": "markdown",
      "source": [
        "## Exercise 5\n",
        "\n",
        "- Write a function called `multi_table` that prints a multiplication table of a given number.\n",
        "- The function will accept one **_int_** parameter `num` and will then **print** the first 6 multiplications of that number.\n",
        "- For example:\n",
        "\n",
        "```python\n",
        "multi_table(3)\n",
        "3\n",
        "6\n",
        "9\n",
        "12\n",
        "15\n",
        "18\n",
        "```"
      ],
      "metadata": {
        "id": "don-W-FyC8YZ"
      }
    },
    {
      "cell_type": "code",
      "source": [
        "def multi_table(num):\n",
        "  for i in [1, 2, 3, 4, 5, 6]:\n",
        "    print(num * i)\n",
        "\n",
        "multi_table(3)"
      ],
      "metadata": {
        "colab": {
          "base_uri": "https://localhost:8080/"
        },
        "id": "MmQajrDRDTbC",
        "outputId": "feea2dcd-4796-489e-e92a-605d4495b54e"
      },
      "execution_count": 14,
      "outputs": [
        {
          "output_type": "stream",
          "name": "stdout",
          "text": [
            "3\n",
            "6\n",
            "9\n",
            "12\n",
            "15\n",
            "18\n"
          ]
        }
      ]
    },
    {
      "cell_type": "markdown",
      "source": [
        "## Exercise 6\n",
        "\n",
        "- `groceries` is a list of groceries that were bought in the supermarket: `groceries = [\"Milk\", \"Eggs\", \"Bread\", \"Apples\", \"Carrots\", \"Chicken\", \"Rice\"]`\n",
        "- Iterate through it using a for loop, and print “I bought <name>!” for each one, in a new line.\n",
        "- Remember to choose a good name for your loop variable.\n"
      ],
      "metadata": {
        "id": "hQ31Ebwq9AW7"
      }
    },
    {
      "cell_type": "code",
      "source": [
        "groceries = [\"Milk\", \"Eggs\", \"Bread\", \"Apples\", \"Carrots\", \"Chicken\", \"Rice\"]\n",
        "\n",
        "for item in groceries:\n",
        "  print(f\"I bought {item}!\")"
      ],
      "metadata": {
        "colab": {
          "base_uri": "https://localhost:8080/"
        },
        "id": "jZC3sKgh9NCm",
        "outputId": "907919e4-65b1-44ca-a1b2-14aac91fa545"
      },
      "execution_count": 15,
      "outputs": [
        {
          "output_type": "stream",
          "name": "stdout",
          "text": [
            "I bought Milk!\n",
            "I bought Eggs!\n",
            "I bought Bread!\n",
            "I bought Apples!\n",
            "I bought Carrots!\n",
            "I bought Chicken!\n",
            "I bought Rice!\n"
          ]
        }
      ]
    },
    {
      "cell_type": "markdown",
      "source": [
        "## Exercise 7\n",
        "\n",
        "- `temperatures` is a list of temperatures in Celsius that you want to convert to Fahrenheit: `temperatures = [15, 22, 5, 18, 30, 12, 28, 25, 17, 20]`\n",
        "- Iterate through it using a for loop, and print the converted temperatures. Each one, in a new line.\n",
        "- Remember to use the formula (temperature * 9/5) + 32 for conversion."
      ],
      "metadata": {
        "id": "05JDdz6-9d8B"
      }
    },
    {
      "cell_type": "code",
      "source": [
        "temperatures = [15, 22, 5, 18, 30, 12, 28, 25, 17, 20]\n",
        "for temp in temperatures:\n",
        "  print(f\"{temp}°C = {(temp * 9/5) + 32}°F\")"
      ],
      "metadata": {
        "colab": {
          "base_uri": "https://localhost:8080/"
        },
        "id": "22UhI00e9mjw",
        "outputId": "7e76c99d-ab15-4557-b5cd-4f8ad45c7f80"
      },
      "execution_count": 16,
      "outputs": [
        {
          "output_type": "stream",
          "name": "stdout",
          "text": [
            "15°C = 59.0°F\n",
            "22°C = 71.6°F\n",
            "5°C = 41.0°F\n",
            "18°C = 64.4°F\n",
            "30°C = 86.0°F\n",
            "12°C = 53.6°F\n",
            "28°C = 82.4°F\n",
            "25°C = 77.0°F\n",
            "17°C = 62.6°F\n",
            "20°C = 68.0°F\n"
          ]
        }
      ]
    },
    {
      "cell_type": "markdown",
      "source": [
        "## Exercise 8\n",
        "\n",
        "- `words` is a list of words that you have to filter: `words = ['Apple', 'Banana', 'Avocado', 'Apricot', 'Artichoke', 'Almond', 'Broccoli', 'Asparagus', 'Aloe', 'Anise']`\n",
        "- Iterate through it, and print only the words that begin with the letter \"A\" in a new line.\n"
      ],
      "metadata": {
        "id": "7rlIYprZ92XC"
      }
    },
    {
      "cell_type": "code",
      "source": [
        "words = ['Apple', 'Banana', 'Avocado', 'Apricot', 'Artichoke', 'Almond', 'Broccoli', 'Asparagus', 'Aloe', 'Anise']\n",
        "for word in words:\n",
        "  if word[0] == \"A\":\n",
        "    print(word)"
      ],
      "metadata": {
        "colab": {
          "base_uri": "https://localhost:8080/"
        },
        "id": "0-3Y-HU29-XS",
        "outputId": "df3db57f-6d25-4c60-f14c-5b4678e11321"
      },
      "execution_count": 17,
      "outputs": [
        {
          "output_type": "stream",
          "name": "stdout",
          "text": [
            "Apple\n",
            "Avocado\n",
            "Apricot\n",
            "Artichoke\n",
            "Almond\n",
            "Asparagus\n",
            "Aloe\n",
            "Anise\n"
          ]
        }
      ]
    },
    {
      "cell_type": "markdown",
      "source": [
        "## Exercise 9\n",
        "\n",
        "Using a for loop and the `range` function, write a program that prints “Hello” 5 times."
      ],
      "metadata": {
        "id": "4tWf4Lo4CHtR"
      }
    },
    {
      "cell_type": "code",
      "source": [
        "for i in range(5):\n",
        "  print(\"Hello\")"
      ],
      "metadata": {
        "colab": {
          "base_uri": "https://localhost:8080/"
        },
        "id": "GvfUl4DBCPT-",
        "outputId": "e9003354-2ceb-4729-ea07-f176b3ae2424"
      },
      "execution_count": 24,
      "outputs": [
        {
          "output_type": "stream",
          "name": "stdout",
          "text": [
            "Hello\n",
            "Hello\n",
            "Hello\n",
            "Hello\n",
            "Hello\n"
          ]
        }
      ]
    },
    {
      "cell_type": "markdown",
      "source": [
        "## Exercise 10\n",
        "\n",
        "- Write a function called `count_to_n`, that takes an argument `n` **_(int)_**.\n",
        "- The function will **print** the numbers from `0` up to but not including `n` using a for loop and the range function."
      ],
      "metadata": {
        "id": "XH8VfxdDCYg8"
      }
    },
    {
      "cell_type": "code",
      "source": [
        "def count_to_n(n):\n",
        "  for i in range(n):\n",
        "    print(i)\n",
        "\n",
        "count_to_n(5)"
      ],
      "metadata": {
        "colab": {
          "base_uri": "https://localhost:8080/"
        },
        "id": "9REjgZ5uCkS6",
        "outputId": "1d6eec72-d58a-4d78-cdfe-c866ed7889c1"
      },
      "execution_count": 25,
      "outputs": [
        {
          "output_type": "stream",
          "name": "stdout",
          "text": [
            "0\n",
            "1\n",
            "2\n",
            "3\n",
            "4\n"
          ]
        }
      ]
    },
    {
      "cell_type": "markdown",
      "source": [
        "## Exercise 11\n",
        "\n",
        "- Write a program that will **print** all the numbers between 0 and 50.\n",
        "- For numbers that are divisible by 10 (such as 10, 20, 30...), print an asterisk (*) after the number.\n",
        "\n",
        "_Hint: Use a condition inside the for loop._"
      ],
      "metadata": {
        "id": "acTgBV92CsUx"
      }
    },
    {
      "cell_type": "code",
      "source": [
        "def count_to_50():\n",
        "  for i in range(51):\n",
        "    if i % 10 == 0:\n",
        "      print(f\"{i}*\")\n",
        "    else:\n",
        "      print(i)\n",
        "\n",
        "count_to_50()"
      ],
      "metadata": {
        "colab": {
          "base_uri": "https://localhost:8080/"
        },
        "id": "0aiC-PO8C1fT",
        "outputId": "a74f0fb7-ca5c-449d-d749-7f9f247982e4"
      },
      "execution_count": 28,
      "outputs": [
        {
          "output_type": "stream",
          "name": "stdout",
          "text": [
            "0*\n",
            "1\n",
            "2\n",
            "3\n",
            "4\n",
            "5\n",
            "6\n",
            "7\n",
            "8\n",
            "9\n",
            "10*\n",
            "11\n",
            "12\n",
            "13\n",
            "14\n",
            "15\n",
            "16\n",
            "17\n",
            "18\n",
            "19\n",
            "20*\n",
            "21\n",
            "22\n",
            "23\n",
            "24\n",
            "25\n",
            "26\n",
            "27\n",
            "28\n",
            "29\n",
            "30*\n",
            "31\n",
            "32\n",
            "33\n",
            "34\n",
            "35\n",
            "36\n",
            "37\n",
            "38\n",
            "39\n",
            "40*\n",
            "41\n",
            "42\n",
            "43\n",
            "44\n",
            "45\n",
            "46\n",
            "47\n",
            "48\n",
            "49\n",
            "50*\n"
          ]
        }
      ]
    },
    {
      "cell_type": "markdown",
      "source": [
        "## Exercise 12\n",
        "\n",
        "- Write a function called `even_range`, that takes two integers `n` and `m` **_(int)_**.\n",
        "- The function will print all the even numbers between `n` and `m`."
      ],
      "metadata": {
        "id": "9suBE9NUDemg"
      }
    },
    {
      "cell_type": "code",
      "source": [
        "def even_range(n, m):\n",
        "  for i in range(n, m + 1):\n",
        "    if i % 2 == 0:\n",
        "      print(i)\n",
        "\n",
        "even_range(1, 10)"
      ],
      "metadata": {
        "colab": {
          "base_uri": "https://localhost:8080/"
        },
        "id": "lPM8YTawDypV",
        "outputId": "95549173-70a2-49f7-e404-76410439263b"
      },
      "execution_count": 29,
      "outputs": [
        {
          "output_type": "stream",
          "name": "stdout",
          "text": [
            "2\n",
            "4\n",
            "6\n",
            "8\n",
            "10\n"
          ]
        }
      ]
    },
    {
      "cell_type": "markdown",
      "source": [
        "## Exercise 13\n",
        "\n",
        "Write a function `print_non_special` that takes a string as input and prints all the letters that are not one of “!”, “?” or “#”."
      ],
      "metadata": {
        "id": "irkyB3iQFYWq"
      }
    },
    {
      "cell_type": "code",
      "source": [
        "def print_non_special(text):\n",
        "  for char in text:\n",
        "    if char not in [\"!\", \"?\", \"#\"]:\n",
        "      print(char)\n",
        "\n",
        "print_non_special(\"OMG!?!#?\")"
      ],
      "metadata": {
        "colab": {
          "base_uri": "https://localhost:8080/"
        },
        "id": "qUbgERa2FdTu",
        "outputId": "85e2204e-7da4-4fba-fadd-6ece9e8ad560"
      },
      "execution_count": 35,
      "outputs": [
        {
          "output_type": "stream",
          "name": "stdout",
          "text": [
            "O\n",
            "M\n",
            "G\n"
          ]
        }
      ]
    },
    {
      "cell_type": "markdown",
      "source": [
        "## Exercise 14\n",
        "\n",
        "- Write a function `word_lengths` that receives a **list of strings**.\n",
        "- The function will print each string along with its length. For instance, for the string \"Alice\", the function should print \"Alice has 5 characters\"."
      ],
      "metadata": {
        "id": "zeuFaiBgGPAH"
      }
    },
    {
      "cell_type": "code",
      "source": [
        "def word_lengths(word_list):\n",
        "  for word in word_list:\n",
        "    print(f\"{word} has {len(word)} characters.\")\n",
        "\n",
        "word_lengths([\"Alice\", \"Bob\", \"Charlie\"])"
      ],
      "metadata": {
        "colab": {
          "base_uri": "https://localhost:8080/"
        },
        "id": "eAkxeGUuGOeL",
        "outputId": "c7079bc5-ca0e-4ef9-cbf2-d8380918e194"
      },
      "execution_count": 37,
      "outputs": [
        {
          "output_type": "stream",
          "name": "stdout",
          "text": [
            "Alice has 5 characters.\n",
            "Bob has 3 characters.\n",
            "Charlie has 7 characters.\n"
          ]
        }
      ]
    },
    {
      "cell_type": "markdown",
      "source": [
        "## Exercise 15\n",
        "\n",
        "- Write a function `to_percent` that transforms a given list of float values, ranging between 0 and 1, into percentages. (0 = 0, 0.5 = 50, 1 = 100)\n",
        "- Inside the function, create a new list.\n",
        "- Use a `for` loop to iterate through the given list of floats, and for each one, **append** its percent value **to the new list**.\n",
        "- The function will **return** the new list."
      ],
      "metadata": {
        "id": "Acl7twaeHAn0"
      }
    },
    {
      "cell_type": "code",
      "source": [
        "def to_percent(float_list):\n",
        "  percent_list = []\n",
        "  for num in float_list:\n",
        "    percent_list.append(int(num * 100))\n",
        "  return percent_list\n",
        "\n",
        "to_percent([0.3, 0.5, 1])"
      ],
      "metadata": {
        "colab": {
          "base_uri": "https://localhost:8080/"
        },
        "id": "B3LKw8fOHQA8",
        "outputId": "27e8e6c7-f6c2-438d-ebb2-e82052517006"
      },
      "execution_count": 39,
      "outputs": [
        {
          "output_type": "execute_result",
          "data": {
            "text/plain": [
              "[30, 50, 100]"
            ]
          },
          "metadata": {},
          "execution_count": 39
        }
      ]
    },
    {
      "cell_type": "markdown",
      "source": [
        "## Exercise 16\n",
        "\n",
        "- Write a function `add_suffix` that takes a given list of strings and a suffix string as arguments.\n",
        "- The function will return a new list containing the all the strings with the suffix added.\n",
        "- For example:\n",
        "\n",
        "```python\n",
        "add_suffix([”yahoo”, “google”], “.com”)\n",
        "[”yahoo.com, “google.com”]\n",
        "```"
      ],
      "metadata": {
        "id": "8VLGJnWtHpca"
      }
    },
    {
      "cell_type": "code",
      "source": [
        "def add_suffix(domain_list, suffix):\n",
        "  new_list = []\n",
        "  for domain in domain_list:\n",
        "    new_list.append(domain + suffix)\n",
        "  return new_list\n",
        "\n",
        "add_suffix([\"yahoo\", \"google\"], \".com\")"
      ],
      "metadata": {
        "colab": {
          "base_uri": "https://localhost:8080/"
        },
        "id": "zZ_e9jYEH0iq",
        "outputId": "1ef48735-a0a3-4d68-bb70-b3060a24b5ef"
      },
      "execution_count": 40,
      "outputs": [
        {
          "output_type": "execute_result",
          "data": {
            "text/plain": [
              "['yahoo.com', 'google.com']"
            ]
          },
          "metadata": {},
          "execution_count": 40
        }
      ]
    }
  ]
}
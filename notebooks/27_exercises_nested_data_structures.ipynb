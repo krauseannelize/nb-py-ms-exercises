{
  "nbformat": 4,
  "nbformat_minor": 0,
  "metadata": {
    "colab": {
      "provenance": [],
      "authorship_tag": "ABX9TyNBP38UaBJIEEPE1NGMppFh",
      "include_colab_link": true
    },
    "kernelspec": {
      "name": "python3",
      "display_name": "Python 3"
    },
    "language_info": {
      "name": "python"
    }
  },
  "cells": [
    {
      "cell_type": "markdown",
      "metadata": {
        "id": "view-in-github",
        "colab_type": "text"
      },
      "source": [
        "<a href=\"https://colab.research.google.com/github/krauseannelize/nb-py-ms-exercises/blob/main/notebooks/27_exercises_nested_data_structures.ipynb\" target=\"_parent\"><img src=\"https://colab.research.google.com/assets/colab-badge.svg\" alt=\"Open In Colab\"/></a>"
      ]
    },
    {
      "cell_type": "markdown",
      "source": [
        "# 27 | Exercises - Nested Data Structures\n",
        "\n",
        "Python allows us to create sophisticated types for managing data by nesting lists, dictionaries and tuples in each other, which essentially create collections of collections.\n",
        "\n",
        "## Example of a Nested Structure"
      ],
      "metadata": {
        "id": "gLKjmOpTDdCb"
      }
    },
    {
      "cell_type": "code",
      "execution_count": 1,
      "metadata": {
        "colab": {
          "base_uri": "https://localhost:8080/"
        },
        "id": "_SwXv64jDcCJ",
        "outputId": "ae09df4c-81c0-4da9-c69b-832263f3fb61"
      },
      "outputs": [
        {
          "output_type": "stream",
          "name": "stdout",
          "text": [
            "['Spain', 'Madrid', 'EUR']\n"
          ]
        }
      ],
      "source": [
        "# the list countries contains 4 lists\n",
        "countries = [[\"Spain\", \"Madrid\", \"EUR\"],\n",
        "             [\"United States\", \"Washington\", \"USD\"],\n",
        "             [\"Canada\", \"Ottawa\", \"CAD\"],\n",
        "             [\"India\", \"New Delhi\", \"INR\"]\n",
        "            ]\n",
        "\n",
        "# Printing the first item prints the first list\n",
        "print(countries[0])"
      ]
    },
    {
      "cell_type": "markdown",
      "source": [
        "As every item in the list `countries` is a list itself, we need to use double square brackets `[]` to retrieve only 1 item inside the inner list."
      ],
      "metadata": {
        "id": "Kq1KB5o-Hw99"
      }
    },
    {
      "cell_type": "code",
      "source": [
        "# printing the first item of the first item\n",
        "print(countries[0][0])\n",
        "\n",
        "# doing the same thing, in two steps\n",
        "first_country_info = countries[0]\n",
        "print(first_country_info[0])"
      ],
      "metadata": {
        "colab": {
          "base_uri": "https://localhost:8080/"
        },
        "id": "thiBMQT4HTtx",
        "outputId": "bc62deb7-ae91-4f02-e44e-c84ac0bf9098"
      },
      "execution_count": 2,
      "outputs": [
        {
          "output_type": "stream",
          "name": "stdout",
          "text": [
            "Spain\n",
            "Spain\n"
          ]
        }
      ]
    },
    {
      "cell_type": "code",
      "source": [
        "# extract the USA list into a separate variable\n",
        "only_usa = countries[1]\n",
        "print(only_usa[1])\n",
        "\n",
        "# using double square brackets to achieve the same\n",
        "print(countries[1][1])"
      ],
      "metadata": {
        "colab": {
          "base_uri": "https://localhost:8080/"
        },
        "id": "6XdD38LWIGlC",
        "outputId": "6b44c874-a0c1-4725-db4f-2e03a98ff75c"
      },
      "execution_count": 4,
      "outputs": [
        {
          "output_type": "stream",
          "name": "stdout",
          "text": [
            "Washington\n",
            "Washington\n"
          ]
        }
      ]
    },
    {
      "cell_type": "markdown",
      "source": [
        "## Changing values in nested lists\n",
        "\n",
        "Updating a single item with `[]` will update an entire list."
      ],
      "metadata": {
        "id": "QOfl-zKoIr6z"
      }
    },
    {
      "cell_type": "code",
      "source": [
        "countries = [[\"Spain\", \"Madrid\", \"EUR\"],\n",
        "             [\"United States\", \"Washington\", \"USD\"],\n",
        "             [\"Canada\", \"Ottawa\", \"CAD\"],\n",
        "             [\"India\", \"New Delhi\", \"INR\"]\n",
        "            ]\n",
        "\n",
        "print(\"Before:\")\n",
        "print(countries)\n",
        "\n",
        "countries[1] = [\"Netherlands\", \"Amsterdam\", \"EUR\"]\n",
        "print(\"After countries[1]:\")\n",
        "print(countries)"
      ],
      "metadata": {
        "colab": {
          "base_uri": "https://localhost:8080/"
        },
        "id": "H0GHSWOWI7p9",
        "outputId": "0ea28d03-e174-4f51-bf1d-0993959a54ea"
      },
      "execution_count": 6,
      "outputs": [
        {
          "output_type": "stream",
          "name": "stdout",
          "text": [
            "Before:\n",
            "[['Spain', 'Madrid', 'EUR'], ['United States', 'Washington', 'USD'], ['Canada', 'Ottawa', 'CAD'], ['India', 'New Delhi', 'INR']]\n",
            "After countries[1]:\n",
            "[['Spain', 'Madrid', 'EUR'], ['Netherlands', 'Amsterdam', 'EUR'], ['Canada', 'Ottawa', 'CAD'], ['India', 'New Delhi', 'INR']]\n"
          ]
        }
      ]
    },
    {
      "cell_type": "markdown",
      "source": [
        "By using `[][]` you can update a single item in an inner list."
      ],
      "metadata": {
        "id": "uJ_G7MUdJ0yj"
      }
    },
    {
      "cell_type": "code",
      "source": [
        "countries = [[\"Spain\", \"Madrid\", \"EUR\"],\n",
        "             [\"United States\", \"Washington\", \"USD\"],\n",
        "             [\"Canada\", \"Ottawa\", \"CAD\"],\n",
        "             [\"India\", \"New Delhi\", \"INR\"]\n",
        "            ]\n",
        "\n",
        "print(\"Before:\")\n",
        "print(countries)\n",
        "\n",
        "countries[2][1] = \"Toronto\"\n",
        "print(\"After countries[2][1]:\")\n",
        "print(countries)"
      ],
      "metadata": {
        "colab": {
          "base_uri": "https://localhost:8080/"
        },
        "id": "fDaMyMMJJl13",
        "outputId": "24cd1795-0a7e-4220-cb7b-983729d255b2"
      },
      "execution_count": 8,
      "outputs": [
        {
          "output_type": "stream",
          "name": "stdout",
          "text": [
            "Before:\n",
            "[['Spain', 'Madrid', 'EUR'], ['United States', 'Washington', 'USD'], ['Canada', 'Ottawa', 'CAD'], ['India', 'New Delhi', 'INR']]\n",
            "After countries[2][1]:\n",
            "[['Spain', 'Madrid', 'EUR'], ['United States', 'Washington', 'USD'], ['Canada', 'Toronto', 'CAD'], ['India', 'New Delhi', 'INR']]\n"
          ]
        }
      ]
    },
    {
      "cell_type": "markdown",
      "source": [
        "## Iterating through a list of lists\n",
        "\n",
        "A `for` loop iterating over a list of lists will return an entire list. At each step, the loop variable is assigned the entire sublist, not the individual elements inside it."
      ],
      "metadata": {
        "id": "_x_CeoHAMe0U"
      }
    },
    {
      "cell_type": "code",
      "source": [
        "countries = [[\"Spain\", \"Madrid\", \"EUR\"],\n",
        "             [\"United States\", \"Washington\", \"USD\"],\n",
        "             [\"Canada\", \"Ottawa\", \"CAD\"]\n",
        "           ]\n",
        "\n",
        "for country in countries:\n",
        "    print(country)"
      ],
      "metadata": {
        "colab": {
          "base_uri": "https://localhost:8080/"
        },
        "id": "gfrJMz2QNOce",
        "outputId": "68bcc455-ce1f-4d04-9d59-9bf77d154407"
      },
      "execution_count": 15,
      "outputs": [
        {
          "output_type": "stream",
          "name": "stdout",
          "text": [
            "['Spain', 'Madrid', 'EUR']\n",
            "['United States', 'Washington', 'USD']\n",
            "['Canada', 'Ottawa', 'CAD']\n"
          ]
        }
      ]
    },
    {
      "cell_type": "markdown",
      "source": [
        "Indexing can be used inside the `for` loop to return a single value from every sublist."
      ],
      "metadata": {
        "id": "XKJBYktSPSzr"
      }
    },
    {
      "cell_type": "code",
      "source": [
        "countries = [[\"Spain\", \"Madrid\", \"EUR\"],\n",
        "             [\"United States\", \"Washington\", \"USD\"],\n",
        "             [\"Canada\", \"Ottawa\", \"CAD\"]\n",
        "            ]\n",
        "\n",
        "for country in countries:\n",
        "    name = country[0]\n",
        "    print(name)"
      ],
      "metadata": {
        "colab": {
          "base_uri": "https://localhost:8080/"
        },
        "id": "k1Ei0mXXPd6w",
        "outputId": "45e51c2e-7e29-4cf0-f3ae-fa95dac308b6"
      },
      "execution_count": 16,
      "outputs": [
        {
          "output_type": "stream",
          "name": "stdout",
          "text": [
            "Spain\n",
            "United States\n",
            "Canada\n"
          ]
        }
      ]
    },
    {
      "cell_type": "markdown",
      "source": [
        "**List unpacking** (similar to tuples) can be used to assign the individual elements of the inner list to variables."
      ],
      "metadata": {
        "id": "vyRtQf1oQfBC"
      }
    },
    {
      "cell_type": "code",
      "source": [
        "countries = [[\"Spain\", \"Madrid\", \"EUR\"],\n",
        "             [\"United States\", \"Washington\", \"USD\"],\n",
        "             [\"Canada\", \"Ottawa\", \"CAD\"]\n",
        "            ]\n",
        "\n",
        "for country in countries:\n",
        "    name, capital_city, currency = country  # List unpacking\n",
        "    print(f\"{name} ({capital_city})\")"
      ],
      "metadata": {
        "id": "IYiZkCSZQgMI"
      },
      "execution_count": null,
      "outputs": []
    },
    {
      "cell_type": "markdown",
      "source": [
        "**List unpacking** can also be done directly in the header of the `for` loop for cleaner code."
      ],
      "metadata": {
        "id": "X6renZeqRRnf"
      }
    },
    {
      "cell_type": "code",
      "source": [
        "countries = [[\"Spain\", \"Madrid\", \"EUR\"],\n",
        "             [\"United States\", \"Washington\", \"USD\"],\n",
        "             [\"Canada\", \"Ottawa\", \"CAD\"]\n",
        "            ]\n",
        "\n",
        "for name, capital_city, currency in countries:  # List unpacking moved to header\n",
        "    print(f\"{name} ({capital_city})\")"
      ],
      "metadata": {
        "colab": {
          "base_uri": "https://localhost:8080/"
        },
        "id": "9Zpzr_eDRdDA",
        "outputId": "7e97a99b-f46e-43ac-fa36-175e1e48d59a"
      },
      "execution_count": 17,
      "outputs": [
        {
          "output_type": "stream",
          "name": "stdout",
          "text": [
            "Spain (Madrid)\n",
            "United States (Washington)\n",
            "Canada (Ottawa)\n"
          ]
        }
      ]
    },
    {
      "cell_type": "markdown",
      "source": [
        "## Nested Iteration\n",
        "\n",
        "When we're unsure of the size of each sublist, we can used **nested loops** to access all the items from the sublists."
      ],
      "metadata": {
        "id": "3Z7R1PmpTcOK"
      }
    },
    {
      "cell_type": "code",
      "source": [
        "countries = [[\"Spain\", \"Madrid\", \"EUR\"],\n",
        "             [\"United States\", \"Washington\", \"USD\"],\n",
        "             [\"Canada\", \"Ottawa\", \"CAD\"]\n",
        "            ]\n",
        "\n",
        "for country in countries:\n",
        "    print(\"sublist:\")\n",
        "    for item in country:\n",
        "        print(\"\\titem: \" + item) # \\t inserts a tab character"
      ],
      "metadata": {
        "colab": {
          "base_uri": "https://localhost:8080/"
        },
        "id": "0F44SZG2Tu4W",
        "outputId": "0c340dd8-e45d-41c6-b009-a32ec60c5ce8"
      },
      "execution_count": 21,
      "outputs": [
        {
          "output_type": "stream",
          "name": "stdout",
          "text": [
            "sublist:\n",
            "\titem: Spain\n",
            "\titem: Madrid\n",
            "\titem: EUR\n",
            "sublist:\n",
            "\titem: United States\n",
            "\titem: Washington\n",
            "\titem: USD\n",
            "sublist:\n",
            "\titem: Canada\n",
            "\titem: Ottawa\n",
            "\titem: CAD\n"
          ]
        }
      ]
    },
    {
      "cell_type": "markdown",
      "source": [
        "## The `enumerate()` Function\n",
        "\n",
        "The `enumerate()` function is a powerful tool for iterating over a list while also keeping track of the index of each item. It adds a counter to an iterable and returns it as a series of tuples, each containing an index and its corresponding item.\n",
        "\n",
        "This is a much more efficient and readable way to get an index than using `list.index()` inside a loop, which has to search the entire list at every iteration."
      ],
      "metadata": {
        "id": "T9Wl18BltXbP"
      }
    },
    {
      "cell_type": "code",
      "source": [
        "countries = [[\"Spain\", \"Madrid\", \"EUR\"],\n",
        "             [\"United States\", \"Washington\", \"USD\"],\n",
        "             [\"Canada\", \"Ottawa\", \"CAD\"]\n",
        "            ]\n",
        "\n",
        "for index, country in enumerate(countries):\n",
        "    print(f\"Index: {index}, Country: {country}\")"
      ],
      "metadata": {
        "colab": {
          "base_uri": "https://localhost:8080/"
        },
        "id": "WadCZ6O0uCRa",
        "outputId": "08f5d1f7-6c9c-4eaf-fa6c-4f860c9f1e67"
      },
      "execution_count": 11,
      "outputs": [
        {
          "output_type": "stream",
          "name": "stdout",
          "text": [
            "Index: 0, Country: ['Spain', 'Madrid', 'EUR']\n",
            "Index: 1, Country: ['United States', 'Washington', 'USD']\n",
            "Index: 2, Country: ['Canada', 'Ottawa', 'CAD']\n"
          ]
        }
      ]
    },
    {
      "cell_type": "markdown",
      "source": [
        "You could achieve the same results with the code below, but `enumerate()` is clearly more efficient and readable."
      ],
      "metadata": {
        "id": "1pMMcV76vq8B"
      }
    },
    {
      "cell_type": "code",
      "source": [
        "countries = [[\"Spain\", \"Madrid\", \"EUR\"],\n",
        "             [\"United States\", \"Washington\", \"USD\"],\n",
        "             [\"Canada\", \"Ottawa\", \"CAD\"]\n",
        "            ]\n",
        "\n",
        "for index in range(len(countries)):\n",
        "    country = countries[index]\n",
        "    print(f\"Index: {index}, Country: {country}\")"
      ],
      "metadata": {
        "id": "zqW2_IEev50U"
      },
      "execution_count": null,
      "outputs": []
    },
    {
      "cell_type": "markdown",
      "source": [
        "## ⚠️ Structuring Nested Data\n",
        "\n",
        "When constructing nested data structures, it is best practice to keep the structure consistent across each level. The more the structure deviates, the more extra code is required to account for special cases."
      ],
      "metadata": {
        "id": "6w51l6P5WmDi"
      }
    },
    {
      "cell_type": "code",
      "source": [
        "nested_struct = [1, 2, ['a', 'b', 'c'], ['d', 'e'], ['f', 'g', 'h']]\n",
        "for sublist in nested_struct:\n",
        "    print(\"level1: \")\n",
        "    if type(sublist) is list:\n",
        "        for item in sublist:\n",
        "            print(f\"     level2: {item}\")\n",
        "    else:\n",
        "        print(sublist)"
      ],
      "metadata": {
        "colab": {
          "base_uri": "https://localhost:8080/"
        },
        "id": "fsCS5iY6XJJJ",
        "outputId": "c0dc492e-e10b-4a78-88db-7378e3a1d8a5"
      },
      "execution_count": 26,
      "outputs": [
        {
          "output_type": "stream",
          "name": "stdout",
          "text": [
            "level1: \n",
            "1\n",
            "level1: \n",
            "2\n",
            "level1: \n",
            "     level2: a\n",
            "     level2: b\n",
            "     level2: c\n",
            "level1: \n",
            "     level2: d\n",
            "     level2: e\n",
            "level1: \n",
            "     level2: f\n",
            "     level2: g\n",
            "     level2: h\n"
          ]
        }
      ]
    },
    {
      "cell_type": "markdown",
      "source": [
        "## List of Dictionaries\n",
        "\n",
        "It is not optimal to use a nested lists to keep different kinds of information and it can make your code difficult to read. Using a list of _named keys dictionaries_ instead can solve this."
      ],
      "metadata": {
        "id": "HdD_RultXl8K"
      }
    },
    {
      "cell_type": "code",
      "source": [
        "countries = [{  \"name\"         : \"Spain\",\n",
        "                \"capital_city\" : \"Madrid\",\n",
        "                \"currency\"     : \"EUR\"\n",
        "             },\n",
        "             {  \"name\"         : \"United States\",\n",
        "                \"capital_city\" : \"Washington\",\n",
        "                \"currency\"     : \"USD\"\n",
        "             }\n",
        "            ]\n",
        "\n",
        "print(countries[1][\"capital_city\"])"
      ],
      "metadata": {
        "colab": {
          "base_uri": "https://localhost:8080/"
        },
        "id": "ziLB4dN2YQns",
        "outputId": "5fe07862-f38e-4ab8-84fd-058413d599a5"
      },
      "execution_count": 27,
      "outputs": [
        {
          "output_type": "stream",
          "name": "stdout",
          "text": [
            "Washington\n"
          ]
        }
      ]
    },
    {
      "cell_type": "markdown",
      "source": [
        "## Nested Dictionaries\n",
        "\n",
        "Lists of dictionaries still requires using list indices (`list[0][dict_key]`) that can make your code more difficult to read. Nesting dictionaries will improve readibility."
      ],
      "metadata": {
        "id": "djMSZDyqbH2z"
      }
    },
    {
      "cell_type": "code",
      "source": [
        "countries = {\"ES\" : {\"name\": \"Spain\",\n",
        "                     \"capital_city\": \"Madrid\",\n",
        "                     \"currency\": \"EUR\"\n",
        "                    },\n",
        "             \"US\" : {\"name\": \"United States\",\n",
        "                     \"capital_city\": \"Washington\",\n",
        "                     \"currency\": \"USD\"\n",
        "                    },\n",
        "             \"CA\" : {\"name\": \"Canada\",\n",
        "                     \"capital_city\": \"Ottawa\",\n",
        "                     \"currency\": \"CAD\"\n",
        "                    }\n",
        "            }\n",
        "\n",
        "print(countries[\"US\"][\"capital_city\"])"
      ],
      "metadata": {
        "colab": {
          "base_uri": "https://localhost:8080/"
        },
        "id": "_r-zoJHQcGGQ",
        "outputId": "cef5f957-933f-46b8-f0a9-7ac8f20aba3f"
      },
      "execution_count": 34,
      "outputs": [
        {
          "output_type": "stream",
          "name": "stdout",
          "text": [
            "Washington\n"
          ]
        }
      ]
    },
    {
      "cell_type": "markdown",
      "source": [
        "## Exercise 1\n",
        "\n",
        "Below, we have provided a list of lists. Use indexing to assign the element ‘Ottawa’ to the variable name `capital_canada`.\n",
        "\n",
        "```python\n",
        "countries = [[\"Spain\", \"Madrid\", \"EUR\"],\n",
        "             [\"United States\", \"Washington\", \"USD\"],\n",
        "             [\"Canada\", \"Ottawa\", \"CAD\"],\n",
        "             [\"India\", \"New Delhi\", \"INR\"]\n",
        "            ]\n",
        "#Here your code\n",
        "```"
      ],
      "metadata": {
        "id": "G67FXl47KFzf"
      }
    },
    {
      "cell_type": "code",
      "source": [
        "countries = [[\"Spain\", \"Madrid\", \"EUR\"],\n",
        "             [\"United States\", \"Washington\", \"USD\"],\n",
        "             [\"Canada\", \"Ottawa\", \"CAD\"],\n",
        "             [\"India\", \"New Delhi\", \"INR\"]\n",
        "            ]\n",
        "capital_canada = countries[2][1]\n",
        "print(capital_canada)"
      ],
      "metadata": {
        "colab": {
          "base_uri": "https://localhost:8080/"
        },
        "id": "9IDjuc8YKQU3",
        "outputId": "0d29db1c-6086-40e6-89e1-500f6bce5f38"
      },
      "execution_count": 9,
      "outputs": [
        {
          "output_type": "stream",
          "name": "stdout",
          "text": [
            "Ottawa\n"
          ]
        }
      ]
    },
    {
      "cell_type": "markdown",
      "source": [
        "## Exercise 2\n",
        "\n",
        "Using the nested data structure from `Exercise 1` and indexing, assign the whole list about the United States to the variable name `usa`."
      ],
      "metadata": {
        "id": "D-1gv99JKbXD"
      }
    },
    {
      "cell_type": "code",
      "source": [
        "countries = [[\"Spain\", \"Madrid\", \"EUR\"],\n",
        "             [\"United States\", \"Washington\", \"USD\"],\n",
        "             [\"Canada\", \"Ottawa\", \"CAD\"],\n",
        "             [\"India\", \"New Delhi\", \"INR\"]\n",
        "            ]\n",
        "usa = countries[1]\n",
        "print(usa)"
      ],
      "metadata": {
        "colab": {
          "base_uri": "https://localhost:8080/"
        },
        "id": "MRJ_ExDSKpCm",
        "outputId": "04adc8f1-765a-4569-fe13-cf0679c3ba5c"
      },
      "execution_count": 10,
      "outputs": [
        {
          "output_type": "stream",
          "name": "stdout",
          "text": [
            "['United States', 'Washington', 'USD']\n"
          ]
        }
      ]
    },
    {
      "cell_type": "markdown",
      "source": [
        "## Exercise 3\n",
        "\n",
        "Using the nested data structure from `Exercise 1`, change the first country’s name from “Spain” to “Espana”, without modifying the initial list definition."
      ],
      "metadata": {
        "id": "8vFJPXIoK-Ub"
      }
    },
    {
      "cell_type": "code",
      "source": [
        "countries = [[\"Spain\", \"Madrid\", \"EUR\"],\n",
        "             [\"United States\", \"Washington\", \"USD\"],\n",
        "             [\"Canada\", \"Ottawa\", \"CAD\"],\n",
        "             [\"India\", \"New Delhi\", \"INR\"]\n",
        "            ]\n",
        "print(\"Before:\")\n",
        "print(countries)\n",
        "\n",
        "countries[0][0] = \"Espana\"\n",
        "print(\"After countries[2][1]:\")\n",
        "print(countries)"
      ],
      "metadata": {
        "colab": {
          "base_uri": "https://localhost:8080/"
        },
        "id": "qd6qXjIVLHnU",
        "outputId": "c18df099-02db-4632-e244-3a05aeddd3dc"
      },
      "execution_count": 11,
      "outputs": [
        {
          "output_type": "stream",
          "name": "stdout",
          "text": [
            "Before:\n",
            "[['Spain', 'Madrid', 'EUR'], ['United States', 'Washington', 'USD'], ['Canada', 'Ottawa', 'CAD'], ['India', 'New Delhi', 'INR']]\n",
            "After countries[2][1]:\n",
            "[['Espana', 'Madrid', 'EUR'], ['United States', 'Washington', 'USD'], ['Canada', 'Ottawa', 'CAD'], ['India', 'New Delhi', 'INR']]\n"
          ]
        }
      ]
    },
    {
      "cell_type": "markdown",
      "source": [
        "## Exercise 4\n",
        "\n",
        "Using the nested data structure from `Exercise 1`, replace the last country to “France”, with capital “Paris” and currency “EUR”. Don’t change the initial list definition."
      ],
      "metadata": {
        "id": "Kc6oYF3VLfA_"
      }
    },
    {
      "cell_type": "code",
      "source": [
        "countries = [[\"Spain\", \"Madrid\", \"EUR\"],\n",
        "             [\"United States\", \"Washington\", \"USD\"],\n",
        "             [\"Canada\", \"Ottawa\", \"CAD\"],\n",
        "             [\"India\", \"New Delhi\", \"INR\"]\n",
        "            ]\n",
        "print(\"Before:\")\n",
        "print(countries)\n",
        "\n",
        "countries[-1] = [\"France\", \"Paris\", \"EUR\"]\n",
        "print(\"After countries[-1]:\")\n",
        "print(countries)"
      ],
      "metadata": {
        "colab": {
          "base_uri": "https://localhost:8080/"
        },
        "id": "__gglinrLnFe",
        "outputId": "782fb017-59cf-4339-cf65-cc5bb0bf9cbc"
      },
      "execution_count": 12,
      "outputs": [
        {
          "output_type": "stream",
          "name": "stdout",
          "text": [
            "Before:\n",
            "[['Spain', 'Madrid', 'EUR'], ['United States', 'Washington', 'USD'], ['Canada', 'Ottawa', 'CAD'], ['India', 'New Delhi', 'INR']]\n",
            "After countries[-1]:\n",
            "[['Spain', 'Madrid', 'EUR'], ['United States', 'Washington', 'USD'], ['Canada', 'Ottawa', 'CAD'], ['France', 'Paris', 'EUR']]\n"
          ]
        }
      ]
    },
    {
      "cell_type": "markdown",
      "source": [
        "## Exercise 5\n",
        "\n",
        "The country of Canada now has two currencies. Using indexing, assign the value of the second currency to the variable name currency.\n",
        "\n",
        "_Hint: That’s a list inside a list inside a list!_\n",
        "\n",
        "```python\n",
        "countries = [[\"Spain\", \"Madrid\", \"EUR\"],\n",
        "             [\"United States\", \"Washington\", \"USD\"],\n",
        "             [\"Canada\", \"Ottawa\", [\"CAD\", \"USD\"]],\n",
        "             [\"India\", \"New Delhi\", \"INR\"]\n",
        "            ]\n",
        "#Here your code\n",
        "```"
      ],
      "metadata": {
        "id": "yDNcvVcrL0uL"
      }
    },
    {
      "cell_type": "code",
      "source": [
        "countries = [[\"Spain\", \"Madrid\", \"EUR\"],\n",
        "             [\"United States\", \"Washington\", \"USD\"],\n",
        "             [\"Canada\", \"Ottawa\", [\"CAD\", \"USD\"]],\n",
        "             [\"India\", \"New Delhi\", \"INR\"]\n",
        "            ]\n",
        "currency = countries[2][2][1]\n",
        "print(currency)"
      ],
      "metadata": {
        "colab": {
          "base_uri": "https://localhost:8080/"
        },
        "id": "nIgHZadkMOpY",
        "outputId": "22e5612c-d44a-4f28-dd88-add0ffc61659"
      },
      "execution_count": 14,
      "outputs": [
        {
          "output_type": "stream",
          "name": "stdout",
          "text": [
            "USD\n"
          ]
        }
      ]
    },
    {
      "cell_type": "markdown",
      "source": [
        "## Exercise 6\n",
        "\n",
        "Below, we have provided a list of lists that contain information about actors. Write code to print all the **last names** (each one on its own line).\n",
        "\n",
        "```python\n",
        "actors = [['Leonardo', 'DiCaprio', '11/11/1974'],\n",
        "          ['Scarlett', 'Johansson', '11/22/1984'],\n",
        "          ['Denzel', 'Washington', '12/28/1954']\n",
        "         ]\n",
        "```"
      ],
      "metadata": {
        "id": "yLWoN8_-R6Y2"
      }
    },
    {
      "cell_type": "code",
      "source": [
        "actors = [['Leonardo', 'DiCaprio', '11/11/1974'],\n",
        "          ['Scarlett', 'Johansson', '11/22/1984'],\n",
        "          ['Denzel', 'Washington', '12/28/1954']\n",
        "         ]\n",
        "for actor in actors:\n",
        "    print(actor[1])"
      ],
      "metadata": {
        "colab": {
          "base_uri": "https://localhost:8080/"
        },
        "id": "zJ6zmg5TSOKk",
        "outputId": "0fa45977-62a0-4e7d-d5c9-f8a518fc3284"
      },
      "execution_count": 18,
      "outputs": [
        {
          "output_type": "stream",
          "name": "stdout",
          "text": [
            "DiCaprio\n",
            "Johansson\n",
            "Washington\n"
          ]
        }
      ]
    },
    {
      "cell_type": "markdown",
      "source": [
        "## Exercise 7\n",
        "\n",
        "Using the nested data structure from `Exercise 6`, write code to create a new list that contains every person’s full name, and save that list as `full_names`."
      ],
      "metadata": {
        "id": "HO8jkVx9Sbyy"
      }
    },
    {
      "cell_type": "code",
      "source": [
        "actors = [['Leonardo', 'DiCaprio', '11/11/1974'],\n",
        "          ['Scarlett', 'Johansson', '11/22/1984'],\n",
        "          ['Denzel', 'Washington', '12/28/1954']\n",
        "         ]\n",
        "full_names = []\n",
        "for actor in actors:\n",
        "    full_names.append(f\"{actor[0]} {actor[1]}\")\n",
        "print(full_names)"
      ],
      "metadata": {
        "colab": {
          "base_uri": "https://localhost:8080/"
        },
        "id": "6wOtOaeISjut",
        "outputId": "8df2b124-7e7c-48c8-839f-dbc99d90771b"
      },
      "execution_count": 19,
      "outputs": [
        {
          "output_type": "stream",
          "name": "stdout",
          "text": [
            "['Leonardo DiCaprio', 'Scarlett Johansson', 'Denzel Washington']\n"
          ]
        }
      ]
    },
    {
      "cell_type": "markdown",
      "source": [
        "## Exercise 8\n",
        "\n",
        "Write code to print country name and capital city in this format: “Spain (Madrid)”, for all the countries. Use tuple unpacking (for `name`, `capital_city`, `currency`) to create beautiful code!\n",
        "\n",
        "```python\n",
        "countries = [[\"Spain\", \"Madrid\", \"EUR\"],\n",
        "             [\"United States\", \"Washington\", \"USD\"],\n",
        "             [\"Canada\", \"Ottawa\", \"CAD\"]\n",
        "            ]\n",
        "#Your code here\n",
        "```"
      ],
      "metadata": {
        "id": "MuBS-mSESvJD"
      }
    },
    {
      "cell_type": "code",
      "source": [
        "countries = [[\"Spain\", \"Madrid\", \"EUR\"],\n",
        "             [\"United States\", \"Washington\", \"USD\"],\n",
        "             [\"Canada\", \"Ottawa\", \"CAD\"]\n",
        "            ]\n",
        "for name, capital_city, currency in countries:\n",
        "    print(f\"{name} ({capital_city})\")"
      ],
      "metadata": {
        "colab": {
          "base_uri": "https://localhost:8080/"
        },
        "id": "b3llokWETAVG",
        "outputId": "4074c57c-04fe-46b2-ae2b-badeb89cccb9"
      },
      "execution_count": 20,
      "outputs": [
        {
          "output_type": "stream",
          "name": "stdout",
          "text": [
            "Spain (Madrid)\n",
            "United States (Washington)\n",
            "Canada (Ottawa)\n"
          ]
        }
      ]
    },
    {
      "cell_type": "markdown",
      "source": [
        "## Exercise 9\n",
        "\n",
        "Use nested iteration to print all the items in `products` one by one (each item should be on its own line).\n",
        "\n",
        "```python\n",
        "products = [['apples', 'bananas', 'oranges', 'blueberries', 'lemons'],\n",
        "            ['carrots', 'peas', 'cucumbers', 'green beans'],\n",
        "            ['root beer', 'smoothies', 'cranberry juice']\n",
        "            ]\n",
        "```"
      ],
      "metadata": {
        "id": "NvzBm_LEUPbG"
      }
    },
    {
      "cell_type": "code",
      "source": [
        "products = [['apples', 'bananas', 'oranges', 'blueberries', 'lemons'],\n",
        "            ['carrots', 'peas', 'cucumbers', 'green beans'],\n",
        "            ['root beer', 'smoothies', 'cranberry juice']]\n",
        "\n",
        "for product in products:\n",
        "    for item in product:\n",
        "        print(item)"
      ],
      "metadata": {
        "colab": {
          "base_uri": "https://localhost:8080/"
        },
        "id": "LxCidjqRUpwn",
        "outputId": "736a9b67-90be-4b0e-8fa1-25f6d01dda74"
      },
      "execution_count": 23,
      "outputs": [
        {
          "output_type": "stream",
          "name": "stdout",
          "text": [
            "apples\n",
            "bananas\n",
            "oranges\n",
            "blueberries\n",
            "lemons\n",
            "carrots\n",
            "peas\n",
            "cucumbers\n",
            "green beans\n",
            "root beer\n",
            "smoothies\n",
            "cranberry juice\n"
          ]
        }
      ]
    },
    {
      "cell_type": "markdown",
      "source": [
        "## Exercise 10\n",
        "\n",
        "Use nested iteration to sum all the numbers from all the lists, and put the result in a variable called `sum_items`: `numbers = [[1, 3, 13], [34, 13, 100, 15], [-1]]`"
      ],
      "metadata": {
        "id": "YG8eUBgcVJqB"
      }
    },
    {
      "cell_type": "code",
      "source": [
        "numbers = [[1, 3, 13],\n",
        "           [34, 13, 100, 15],\n",
        "           [-1]\n",
        "           ]\n",
        "sum_items = 0\n",
        "for number in numbers:\n",
        "    for item in number:\n",
        "        sum_items += item\n",
        "print(sum_items)"
      ],
      "metadata": {
        "colab": {
          "base_uri": "https://localhost:8080/"
        },
        "id": "tEbnvRdNVQcK",
        "outputId": "659846aa-89c1-4003-eb11-535f7f85f299"
      },
      "execution_count": 24,
      "outputs": [
        {
          "output_type": "stream",
          "name": "stdout",
          "text": [
            "178\n"
          ]
        }
      ]
    },
    {
      "cell_type": "markdown",
      "source": [
        "## Exercise 11\n",
        "\n",
        "Use nested iteration to save every string containing “b” into a new list named `b_strings`.\n",
        "\n",
        "```python\n",
        "products = [['apples', 'bananas', 'oranges', 'blueberries', 'lemons'],\n",
        "            ['carrots', 'peas', 'cucumbers', 'green beans'],\n",
        "            ['root beer', 'smoothies', 'cranberry juice']\n",
        "            ]\n",
        "```"
      ],
      "metadata": {
        "id": "BIpWqC7QVgA3"
      }
    },
    {
      "cell_type": "code",
      "source": [
        "products = [['apples', 'bananas', 'oranges', 'blueberries', 'lemons'],\n",
        "            ['carrots', 'peas', 'cucumbers', 'green beans'],\n",
        "            ['root beer', 'smoothies', 'cranberry juice']\n",
        "            ]\n",
        "b_strings = []\n",
        "for product in products:\n",
        "    for item in product:\n",
        "        if \"b\" in item:\n",
        "            b_strings.append(item)\n",
        "print(b_strings)"
      ],
      "metadata": {
        "colab": {
          "base_uri": "https://localhost:8080/"
        },
        "id": "42vCw5tGVr9D",
        "outputId": "fdaab570-2da9-47d8-ffb0-2e3e096050c1"
      },
      "execution_count": 25,
      "outputs": [
        {
          "output_type": "stream",
          "name": "stdout",
          "text": [
            "['bananas', 'blueberries', 'cucumbers', 'green beans', 'root beer', 'cranberry juice']\n"
          ]
        }
      ]
    },
    {
      "cell_type": "markdown",
      "source": [
        "## Exercise 12\n",
        "\n",
        "In a variable called `leo`, create a single dictionary in the “Named keys” pattern to represent the information about Leonardo DiCaprio:\n",
        "\n",
        "| key | value |\n",
        "| --- | --- |\n",
        "| first_name | \"Leonardo\" |\n",
        "| last_name | \"DiCaprio\" |\n",
        "| birth_date | \"11/11/1974\" |"
      ],
      "metadata": {
        "id": "i8MlYx86Yl-H"
      }
    },
    {
      "cell_type": "code",
      "source": [
        "leo = {\"first_name\": \"Leonardo\",\n",
        "       \"last_name\": \"DiCaprio\",\n",
        "       \"birth_date\": \"11/11/1974\"\n",
        "      }\n",
        "print(leo)"
      ],
      "metadata": {
        "colab": {
          "base_uri": "https://localhost:8080/"
        },
        "id": "wkmHvb5SZDLJ",
        "outputId": "ac159a9c-a974-4510-fd28-abeba9f47d7f"
      },
      "execution_count": 29,
      "outputs": [
        {
          "output_type": "stream",
          "name": "stdout",
          "text": [
            "{'first_name': 'Leonardo', 'last_name': 'DiCaprio', 'birth_date': '11/11/1974'}\n"
          ]
        }
      ]
    },
    {
      "cell_type": "markdown",
      "source": [
        "## Exercise 13\n",
        "\n",
        "Below, we have provided the same list-of-dicts called `countries`. Use indexing to change the capital city of Canada to “Toronto”.\n",
        "\n",
        "```python\n",
        "countries = [{\"name\": \"Spain\",\n",
        "              \"capital_city\": \"Madrid\",\n",
        "              \"currency\": \"EUR\"\n",
        "             },\n",
        "             {\"name\": \"United States\",\n",
        "              \"capital_city\": \"Washington\",\n",
        "              \"currency\": \"USD\"\n",
        "             },\n",
        "             {\"name\": \"Canada\",\n",
        "              \"capital_city\": \"Ottawa\",\n",
        "              \"currency\": \"CAD\"\n",
        "             }\n",
        "            ]\n",
        "#Your Code here\n",
        "```"
      ],
      "metadata": {
        "id": "yZAVydB8ZVn2"
      }
    },
    {
      "cell_type": "code",
      "source": [
        "countries = [{\"name\": \"Spain\",\n",
        "              \"capital_city\": \"Madrid\",\n",
        "              \"currency\": \"EUR\"\n",
        "             },\n",
        "             {\"name\": \"United States\",\n",
        "              \"capital_city\": \"Washington\",\n",
        "              \"currency\": \"USD\"\n",
        "             },\n",
        "             {\"name\": \"Canada\",\n",
        "              \"capital_city\": \"Ottawa\",\n",
        "              \"currency\": \"CAD\"\n",
        "             }\n",
        "            ]\n",
        "print(\"Canada before:\")\n",
        "print(countries[2])\n",
        "\n",
        "countries[2][\"capital_city\"] = \"Toronto\"\n",
        "print(\"Canada after:\")\n",
        "print(countries[2])"
      ],
      "metadata": {
        "colab": {
          "base_uri": "https://localhost:8080/"
        },
        "id": "liyvp4NVZeid",
        "outputId": "40aba5c9-3d9d-4d23-a75c-1bdcadea4c80"
      },
      "execution_count": 32,
      "outputs": [
        {
          "output_type": "stream",
          "name": "stdout",
          "text": [
            "Canada before:\n",
            "{'name': 'Canada', 'capital_city': 'Ottawa', 'currency': 'CAD'}\n",
            "Canada after:\n",
            "{'name': 'Canada', 'capital_city': 'Toronto', 'currency': 'CAD'}\n"
          ]
        }
      ]
    },
    {
      "cell_type": "markdown",
      "source": [
        "## Exercise 14\n",
        "\n",
        "Below, we have provided a list-of-dicts called `actors`. Use indexing to change the first name of Scarlett to “Scarlett Ingrid”, and DiCaprio’s birthdate to “11/01/1997”.\n",
        "\n",
        "```python\n",
        "actors = [{  \"first_name\": \"Leonardo\",\n",
        "                \"last_name\": \"DiCaprio\",\n",
        "                \"birth_date\": \"11/11/1974\"\n",
        "             },\n",
        "             {  \"first_name\": \"Scarlett\",\n",
        "                \"last_name\": \"Johansson\",\n",
        "                \"birth_date\": \"11/22/1984\"\n",
        "             }\n",
        "            ]\n",
        "```"
      ],
      "metadata": {
        "id": "iHY4QAaMaIop"
      }
    },
    {
      "cell_type": "code",
      "source": [
        "actors = [{  \"first_name\": \"Leonardo\",\n",
        "                \"last_name\": \"DiCaprio\",\n",
        "                \"birth_date\": \"11/11/1974\"\n",
        "             },\n",
        "             {  \"first_name\": \"Scarlett\",\n",
        "                \"last_name\": \"Johansson\",\n",
        "                \"birth_date\": \"11/22/1984\"\n",
        "             }\n",
        "            ]\n",
        "print(\"Before:\")\n",
        "print(actors)\n",
        "\n",
        "actors[1][\"first_name\"] = \"Scarlett Ingrid\"\n",
        "actors[0][\"birth_date\"] = \"11/01/1997\"\n",
        "print(\"After:\")\n",
        "print(actors)"
      ],
      "metadata": {
        "colab": {
          "base_uri": "https://localhost:8080/"
        },
        "id": "TaQ_aZiqan4Y",
        "outputId": "77a7f3d8-dc05-4720-9316-1264faab0363"
      },
      "execution_count": 33,
      "outputs": [
        {
          "output_type": "stream",
          "name": "stdout",
          "text": [
            "Before:\n",
            "[{'first_name': 'Leonardo', 'last_name': 'DiCaprio', 'birth_date': '11/11/1974'}, {'first_name': 'Scarlett', 'last_name': 'Johansson', 'birth_date': '11/22/1984'}]\n",
            "After:\n",
            "[{'first_name': 'Leonardo', 'last_name': 'DiCaprio', 'birth_date': '11/01/1997'}, {'first_name': 'Scarlett Ingrid', 'last_name': 'Johansson', 'birth_date': '11/22/1984'}]\n"
          ]
        }
      ]
    },
    {
      "cell_type": "markdown",
      "source": [
        "## Exercise 15\n",
        "\n",
        "Extract the value of the currency of the United States from the nested dictionary to a variable named `us_currency`. Do not hard code this.\n",
        "\n",
        "```python\n",
        "countries = {\"ES\" : {\"name\": \"Spain\",\n",
        "                     \"capital_city\": \"Madrid\",\n",
        "                     \"currency\": \"EUR\"\n",
        "                    },\n",
        "             \"US\" : {\"name\": \"United States\",\n",
        "                     \"capital_city\": \"Washington\",\n",
        "                     \"currency\": \"USD\"\n",
        "                    },\n",
        "             \"CA\" : {\"name\": \"Canada\",\n",
        "                     \"capital_city\": \"Ottawa\",\n",
        "                     \"currency\": \"CAD\"\n",
        "                    }\n",
        "            }\n",
        "\n",
        "# Your code here\n",
        "```"
      ],
      "metadata": {
        "id": "Jt_oNWqscz11"
      }
    },
    {
      "cell_type": "code",
      "source": [
        "countries = {\"ES\" : {\"name\": \"Spain\",\n",
        "                     \"capital_city\": \"Madrid\",\n",
        "                     \"currency\": \"EUR\"\n",
        "                    },\n",
        "             \"US\" : {\"name\": \"United States\",\n",
        "                     \"capital_city\": \"Washington\",\n",
        "                     \"currency\": \"USD\"\n",
        "                    },\n",
        "             \"CA\" : {\"name\": \"Canada\",\n",
        "                     \"capital_city\": \"Ottawa\",\n",
        "                     \"currency\": \"CAD\"\n",
        "                    }\n",
        "            }\n",
        "\n",
        "us_currency = countries[\"US\"][\"currency\"]\n",
        "print(us_currency)"
      ],
      "metadata": {
        "colab": {
          "base_uri": "https://localhost:8080/"
        },
        "id": "VSCwogVpc9g6",
        "outputId": "6eae6027-bc99-415b-bb54-d76f6cc63ada"
      },
      "execution_count": 35,
      "outputs": [
        {
          "output_type": "stream",
          "name": "stdout",
          "text": [
            "USD\n"
          ]
        }
      ]
    },
    {
      "cell_type": "markdown",
      "source": [
        "## Exercise 16\n",
        "\n",
        "Let’s add India to `countries` used in `Exercise 15` without changing the initial dictionary definition. The country code is “IN” and the data is below:\n",
        "\n",
        "| key | value |\n",
        "| --- | --- |\n",
        "| name | India |\n",
        "| capital | New Delhi |\n",
        "| currency | INR |"
      ],
      "metadata": {
        "id": "gI1S5QqsdYZP"
      }
    },
    {
      "cell_type": "code",
      "source": [
        "countries = {\"ES\" : {\"name\": \"Spain\",\n",
        "                     \"capital_city\": \"Madrid\",\n",
        "                     \"currency\": \"EUR\"\n",
        "                    },\n",
        "             \"US\" : {\"name\": \"United States\",\n",
        "                     \"capital_city\": \"Washington\",\n",
        "                     \"currency\": \"USD\"\n",
        "                    },\n",
        "             \"CA\" : {\"name\": \"Canada\",\n",
        "                     \"capital_city\": \"Ottawa\",\n",
        "                     \"currency\": \"CAD\"\n",
        "                    }\n",
        "            }\n",
        "countries[\"IN\"] = {\"name\": \"India\",\n",
        "                   \"capital_city\": \"New Delhi\",\n",
        "                   \"currency\": \"INR\"\n",
        "                  }\n",
        "for country_info in countries.values():\n",
        "  print(country_info)"
      ],
      "metadata": {
        "colab": {
          "base_uri": "https://localhost:8080/"
        },
        "id": "1ua6YfDddvdF",
        "outputId": "a7a05875-6889-41f2-b95d-0de5e021f6d5"
      },
      "execution_count": 38,
      "outputs": [
        {
          "output_type": "stream",
          "name": "stdout",
          "text": [
            "{'name': 'Spain', 'capital_city': 'Madrid', 'currency': 'EUR'}\n",
            "{'name': 'United States', 'capital_city': 'Washington', 'currency': 'USD'}\n",
            "{'name': 'Canada', 'capital_city': 'Ottawa', 'currency': 'CAD'}\n",
            "{'name': 'India', 'capital_city': 'New Delhi', 'currency': 'INR'}\n"
          ]
        }
      ]
    },
    {
      "cell_type": "markdown",
      "source": [
        "## Exercise 17\n",
        "\n",
        "Let’s try to iterate through our dict-of-dicts! We’ve provided a `for` loop header. Try to continue the code so that you print out all the capital cities.\n",
        "\n",
        "```python\n",
        "countries = {\"ES\" : {\"name\": \"Spain\",\n",
        "                     \"capital_city\": \"Madrid\",\n",
        "                     \"currency\": \"EUR\"\n",
        "                    },\n",
        "             \"US\" : {\"name\": \"United States\",\n",
        "                     \"capital_city\": \"Washington\",\n",
        "                     \"currency\": \"USD\"\n",
        "                    },\n",
        "             \"CA\" : {\"name\": \"Canada\",\n",
        "                     \"capital_city\": \"Ottawa\",\n",
        "                     \"currency\": \"CAD\"\n",
        "                    }\n",
        "            }\n",
        "\n",
        "for country_code in countries:\n",
        "    # Your code here\n",
        "```"
      ],
      "metadata": {
        "id": "UQ6vODNZexDS"
      }
    },
    {
      "cell_type": "code",
      "source": [
        "countries = {\"ES\" : {\"name\": \"Spain\",\n",
        "                     \"capital_city\": \"Madrid\",\n",
        "                     \"currency\": \"EUR\"\n",
        "                    },\n",
        "             \"US\" : {\"name\": \"United States\",\n",
        "                     \"capital_city\": \"Washington\",\n",
        "                     \"currency\": \"USD\"\n",
        "                    },\n",
        "             \"CA\" : {\"name\": \"Canada\",\n",
        "                     \"capital_city\": \"Ottawa\",\n",
        "                     \"currency\": \"CAD\"\n",
        "                    }\n",
        "            }\n",
        "\n",
        "for country_code in countries:\n",
        "    print(countries[country_code][\"capital_city\"])"
      ],
      "metadata": {
        "colab": {
          "base_uri": "https://localhost:8080/"
        },
        "id": "7xKnu51_e3cs",
        "outputId": "bd4c5e61-828d-478b-a8fb-923decd6ac89"
      },
      "execution_count": 39,
      "outputs": [
        {
          "output_type": "stream",
          "name": "stdout",
          "text": [
            "Madrid\n",
            "Washington\n",
            "Ottawa\n"
          ]
        }
      ]
    },
    {
      "cell_type": "markdown",
      "source": [
        "## Exercise 18\n",
        "\n",
        "Using the nested dictionaries from `Exercise 17`, let’s do the same with tuple unpacking and the `items()` function."
      ],
      "metadata": {
        "id": "vqBl1iEcfKcM"
      }
    },
    {
      "cell_type": "code",
      "source": [
        "countries = {\"ES\" : {\"name\": \"Spain\",\n",
        "                     \"capital_city\": \"Madrid\",\n",
        "                     \"currency\": \"EUR\"\n",
        "                    },\n",
        "             \"US\" : {\"name\": \"United States\",\n",
        "                     \"capital_city\": \"Washington\",\n",
        "                     \"currency\": \"USD\"\n",
        "                    },\n",
        "             \"CA\" : {\"name\": \"Canada\",\n",
        "                     \"capital_city\": \"Ottawa\",\n",
        "                     \"currency\": \"CAD\"\n",
        "                    }\n",
        "            }\n",
        "\n",
        "for code, country_dict in countries.items():\n",
        "    print(country_dict[\"capital_city\"])"
      ],
      "metadata": {
        "colab": {
          "base_uri": "https://localhost:8080/"
        },
        "id": "VRYig3MMfZ3L",
        "outputId": "842472ef-1741-45b0-a89e-89b74e68e3dd"
      },
      "execution_count": 40,
      "outputs": [
        {
          "output_type": "stream",
          "name": "stdout",
          "text": [
            "Madrid\n",
            "Washington\n",
            "Ottawa\n"
          ]
        }
      ]
    },
    {
      "cell_type": "markdown",
      "source": [
        "## Exercise 19\n",
        "\n",
        "The variable `nested` contains a nested list. Assign ‘snake’ to the variable `output` using indexing.\n",
        "\n",
        "```python\n",
        "nested = [['dog', 'cat', 'horse'],\n",
        "          ['frog', 'turtle', 'snake', 'gecko'],\n",
        "          ['hamster', 'gerbil', 'rat', 'ferret']]\n",
        "#Your code here\n",
        "```"
      ],
      "metadata": {
        "id": "hINp19tREt-p"
      }
    },
    {
      "cell_type": "code",
      "source": [
        "nested = [['dog', 'cat', 'horse'],\n",
        "          ['frog', 'turtle', 'snake', 'gecko'],\n",
        "          ['hamster', 'gerbil', 'rat', 'ferret']]\n",
        "output = nested[1][2]\n",
        "print(output)"
      ],
      "metadata": {
        "colab": {
          "base_uri": "https://localhost:8080/"
        },
        "id": "X-V3HyBWE6s4",
        "outputId": "3e2783c7-20b9-44d7-dfa1-dbe1ce4bf2e7"
      },
      "execution_count": 41,
      "outputs": [
        {
          "output_type": "stream",
          "name": "stdout",
          "text": [
            "snake\n"
          ]
        }
      ]
    },
    {
      "cell_type": "markdown",
      "source": [
        "## Exercise 20\n",
        "\n",
        "The variable `nested_d` contains a nested dictionary with the gold medal counts for the top four countries in the past three Olympics. Assign the value of Great Britain’s gold medal count from the London Olympics to the variable `london_gold`. Use indexing. Do not hardcode.\n",
        "\n",
        "```python\n",
        "nested_d = {\n",
        "    'Beijing': {\n",
        "        'China': 51,\n",
        "        'USA': 36,\n",
        "        'Russia': 22,\n",
        "        'Great Britain': 19\n",
        "    },\n",
        "    'London': {\n",
        "        'USA': 46,\n",
        "        'China': 38,\n",
        "        'Great Britain': 29,\n",
        "        'Russia': 22\n",
        "    },\n",
        "    'Rio': {\n",
        "        'USA': 35,\n",
        "        'Great Britain': 22,\n",
        "        'China': 20,\n",
        "        'Germany': 13\n",
        "    }\n",
        "}\n",
        "# Your code here\n",
        "```"
      ],
      "metadata": {
        "id": "5L1VZ8DHFEej"
      }
    },
    {
      "cell_type": "code",
      "source": [
        "nested_d = {\n",
        "    'Beijing': {\n",
        "        'China': 51,\n",
        "        'USA': 36,\n",
        "        'Russia': 22,\n",
        "        'Great Britain': 19\n",
        "    },\n",
        "    'London': {\n",
        "        'USA': 46,\n",
        "        'China': 38,\n",
        "        'Great Britain': 29,\n",
        "        'Russia': 22\n",
        "    },\n",
        "    'Rio': {\n",
        "        'USA': 35,\n",
        "        'Great Britain': 22,\n",
        "        'China': 20,\n",
        "        'Germany': 13\n",
        "    }\n",
        "}\n",
        "london_gold = nested_d[\"London\"][\"Great Britain\"]\n",
        "print(london_gold)"
      ],
      "metadata": {
        "colab": {
          "base_uri": "https://localhost:8080/"
        },
        "id": "zMRORqrWFY5B",
        "outputId": "08ff6537-dc26-4bbe-82d3-1729d38c71d6"
      },
      "execution_count": 42,
      "outputs": [
        {
          "output_type": "stream",
          "name": "stdout",
          "text": [
            "29\n"
          ]
        }
      ]
    },
    {
      "cell_type": "markdown",
      "source": [
        "## Exercise 21\n",
        "\n",
        "Below, a list of lists is provided. Use `in` and `not in` tests to create variables with Boolean values. Test to see if:\n",
        "\n",
        "- 'yellow' is in the third list of lst\n",
        "- 4 is in the second list of lst\n",
        "- 'orange' is in the first element of lst\n",
        "\n",
        "```python\n",
        "lst = [['apple', 'orange', 'banana'],\n",
        "       [5, 6, 7, 8, 9.9, 10],\n",
        "       ['green', 'yellow', 'purple', 'red']\n",
        "       ]\n",
        "```"
      ],
      "metadata": {
        "id": "03AAaIfGFvBs"
      }
    },
    {
      "cell_type": "code",
      "source": [
        "lst = [['apple', 'orange', 'banana'],\n",
        "       [5, 6, 7, 8, 9.9, 10],\n",
        "       ['green', 'yellow', 'purple', 'red']\n",
        "       ]\n",
        "\n",
        "yellow = \"yellow\" in lst[2]\n",
        "print(yellow)\n",
        "\n",
        "four = 4 in lst[1]\n",
        "print(four)\n",
        "\n",
        "orange = \"orange\" in lst[0]\n",
        "print(orange)"
      ],
      "metadata": {
        "colab": {
          "base_uri": "https://localhost:8080/"
        },
        "id": "Z2952-8TGEIX",
        "outputId": "d98eedd6-7ed4-4cc2-ea9b-5816caae4c03"
      },
      "execution_count": 45,
      "outputs": [
        {
          "output_type": "stream",
          "name": "stdout",
          "text": [
            "True\n",
            "False\n",
            "True\n"
          ]
        }
      ]
    },
    {
      "cell_type": "markdown",
      "source": [
        "## Exercise 22\n",
        "\n",
        "Below, we have provided a nested dictionary. Index into the dictionary to create variables:\n",
        "\n",
        "- assign the string 'backstroke' to the name v1\n",
        "- assign the string 'platform' to the name v2\n",
        "- assign the list ['vault', 'floor', 'uneven bars', 'balance beam'] to the name v3\n",
        "- assign the string 'beam' (from the string 'balance beam') to the name v4 (use slicing here)\n",
        "\n",
        "```python\n",
        "sports = {\n",
        "    'swimming': [\n",
        "        'butterfly',\n",
        "        'breaststroke',\n",
        "        'backstroke',\n",
        "        'freestyle'\n",
        "    ],\n",
        "    'diving': [\n",
        "        'springboard',\n",
        "        'platform',\n",
        "        'synchronized'\n",
        "    ],\n",
        "    'track': [\n",
        "        'sprint',\n",
        "        'distance',\n",
        "        'jumps',\n",
        "        'throws'\n",
        "    ],\n",
        "    'gymnastics': [\n",
        "        'vault',\n",
        "        'floor',\n",
        "        'uneven bars',\n",
        "        'balance beam'\n",
        "    ]\n",
        "}\n",
        "```"
      ],
      "metadata": {
        "id": "fLBNriI_G4Wn"
      }
    },
    {
      "cell_type": "code",
      "source": [
        "sports = {\n",
        "    'swimming': [\n",
        "        'butterfly',\n",
        "        'breaststroke',\n",
        "        'backstroke',\n",
        "        'freestyle'\n",
        "    ],\n",
        "    'diving': [\n",
        "        'springboard',\n",
        "        'platform',\n",
        "        'synchronized'\n",
        "    ],\n",
        "    'track': [\n",
        "        'sprint',\n",
        "        'distance',\n",
        "        'jumps',\n",
        "        'throws'\n",
        "    ],\n",
        "    'gymnastics': [\n",
        "        'vault',\n",
        "        'floor',\n",
        "        'uneven bars',\n",
        "        'balance beam'\n",
        "    ]\n",
        "}\n",
        "\n",
        "v1 = sports[\"swimming\"][2]\n",
        "print(v1)\n",
        "\n",
        "v2 = sports[\"diving\"][1]\n",
        "print(v2)\n",
        "\n",
        "v3 = sports[\"gymnastics\"]\n",
        "print(v3)\n",
        "\n",
        "v4 = sports[\"gymnastics\"][3][:]\n",
        "print(v4)"
      ],
      "metadata": {
        "colab": {
          "base_uri": "https://localhost:8080/"
        },
        "id": "91wcg-oHHYSs",
        "outputId": "4ec0f17e-1543-40af-b384-03d5150688e2"
      },
      "execution_count": 48,
      "outputs": [
        {
          "output_type": "stream",
          "name": "stdout",
          "text": [
            "backstroke\n",
            "platform\n",
            "['vault', 'floor', 'uneven bars', 'balance beam']\n",
            "balance beam\n"
          ]
        }
      ]
    },
    {
      "cell_type": "markdown",
      "source": [
        "## Exercise 23\n",
        "\n",
        "Given below is a list of lists of athletes. Create a list, `t`, that saves only the athlete’s name if it contains the letter “t”. If it does not contain the letter “t”, save the athlete name into list `other`.\n",
        "\n",
        "```python\n",
        "athletes = [['Phelps', 'Lochte', 'Schooling', 'Ledecky', 'Franklin'],\n",
        "            ['Felix', 'Bolt', 'Gardner', 'Eaton'],\n",
        "            ['Biles', 'Douglas', 'Hamm', 'Raisman', 'Mikulak', 'Dalton']]\n",
        "#Your code here\n",
        "```"
      ],
      "metadata": {
        "id": "__417lGkWD7C"
      }
    },
    {
      "cell_type": "code",
      "source": [
        "athletes = [['Phelps', 'Lochte', 'Schooling', 'Ledecky', 'Franklin'],\n",
        "            ['Felix', 'Bolt', 'Gardner', 'Eaton'],\n",
        "            ['Biles', 'Douglas', 'Hamm', 'Raisman', 'Mikulak', 'Dalton']]\n",
        "t = []\n",
        "other = []\n",
        "for athlete in athletes:\n",
        "  for name in athlete:\n",
        "    if \"t\" in name:\n",
        "      t.append(name)\n",
        "    else:\n",
        "      other.append(name)\n",
        "print(t)\n",
        "print(other)"
      ],
      "metadata": {
        "colab": {
          "base_uri": "https://localhost:8080/"
        },
        "id": "nyzAqJYVWQrr",
        "outputId": "8f9f51dc-1678-4084-d255-a1a435ecdf94"
      },
      "execution_count": 1,
      "outputs": [
        {
          "output_type": "stream",
          "name": "stdout",
          "text": [
            "['Lochte', 'Bolt', 'Eaton', 'Dalton']\n",
            "['Phelps', 'Schooling', 'Ledecky', 'Franklin', 'Felix', 'Gardner', 'Biles', 'Douglas', 'Hamm', 'Raisman', 'Mikulak']\n"
          ]
        }
      ]
    },
    {
      "cell_type": "markdown",
      "source": [
        "## Exercise 24\n",
        "\n",
        " Below, we’ve provided a dictionary of dictionaries. Use loop(s) to find out all the countries with USD as currency. Add all those countries **names** to a new list called `dollar_countries`.\n",
        "\n",
        " ```python\n",
        " countries = { \"ES\" : {\"name\" : \"Spain\", \"capital_city\" : \"Madrid\", \"currency\" : \"EUR\" },\n",
        "              \"US\" : {\"name\" : \"United States\", \"capital_city\" : \"Washington\", \"currency\" : \"USD\" },\n",
        "              \"CA\" : {\"name\" : \"Canada\", \"capital_city\" : \"Ottawa\", \"currency\" : \"CAD\" },\n",
        "              \"SV\" : {\"name\" : \"El Salvador\", \"capital_city\" : \"San Salvador\", \"currency\" : \"USD\" },\n",
        "              \"CN\" : {\"name\" : \"China\", \"capital_city\" : \"Beijing\", \"currency\" : \"CNY\" },\n",
        "              \"MA\" : {\"name\" : \"Morocco\", \"capital_city\" : \"Rabat\", \"currency\" : \"MAD\" }\n",
        "            }\n",
        "#Your code here\n",
        "```"
      ],
      "metadata": {
        "id": "rVNmf2mqpHui"
      }
    },
    {
      "cell_type": "code",
      "source": [
        "countries = { \"ES\" : {\"name\" : \"Spain\", \"capital_city\" : \"Madrid\", \"currency\" : \"EUR\" },\n",
        "              \"US\" : {\"name\" : \"United States\", \"capital_city\" : \"Washington\", \"currency\" : \"USD\" },\n",
        "              \"CA\" : {\"name\" : \"Canada\", \"capital_city\" : \"Ottawa\", \"currency\" : \"CAD\" },\n",
        "              \"SV\" : {\"name\" : \"El Salvador\", \"capital_city\" : \"San Salvador\", \"currency\" : \"USD\" },\n",
        "              \"CN\" : {\"name\" : \"China\", \"capital_city\" : \"Beijing\", \"currency\" : \"CNY\" },\n",
        "              \"MA\" : {\"name\" : \"Morocco\", \"capital_city\" : \"Rabat\", \"currency\" : \"MAD\" }\n",
        "            }\n",
        "dollar_countries = []\n",
        "for country_code in countries:\n",
        "  if countries[country_code][\"currency\"] == \"USD\":\n",
        "    dollar_countries.append(countries[country_code][\"name\"])\n",
        "print(dollar_countries)"
      ],
      "metadata": {
        "colab": {
          "base_uri": "https://localhost:8080/"
        },
        "id": "FdF-R4DBpRK4",
        "outputId": "bbb0f66d-bf5e-4bb2-a037-ab7a9a12f0de"
      },
      "execution_count": 2,
      "outputs": [
        {
          "output_type": "stream",
          "name": "stdout",
          "text": [
            "['United States', 'El Salvador']\n"
          ]
        }
      ]
    },
    {
      "cell_type": "markdown",
      "source": [
        "## Exercise 25\n",
        "\n",
        "Given the dictionary, `nested_d`, save the medal count for the USA from all three Olympics in the dictionary to the list `US_count`.\n",
        "\n",
        "_Note: USA did not participate in all the Olympics, in this question_\n",
        "\n",
        "```python\n",
        "nested_d = {'Beijing': {'China': 51, 'USA': 36, 'Russia': 22, 'Great Britain': 19},\n",
        "            'London': {'China': 38, 'Great Britain': 29, 'Russia': 22},\n",
        "            'Rio': {'USA': 35, 'Great Britain': 22, 'China': 20, 'Germany': 13}}\n",
        "\n",
        "US_count = []\n",
        "#Your code here\n",
        "```"
      ],
      "metadata": {
        "id": "3tOQ0SXTpdy2"
      }
    },
    {
      "cell_type": "code",
      "source": [
        "nested_d = {'Beijing': {'China': 51, 'USA': 36, 'Russia': 22, 'Great Britain': 19},\n",
        "            'London': {'China': 38, 'Great Britain': 29, 'Russia': 22},\n",
        "            'Rio': {'USA': 35, 'Great Britain': 22, 'China': 20, 'Germany': 13}}\n",
        "\n",
        "US_count = []\n",
        "for country_code in nested_d:\n",
        "  if \"USA\" in nested_d[country_code]:\n",
        "    US_count.append(nested_d[country_code][\"USA\"])\n",
        "print(US_count)"
      ],
      "metadata": {
        "colab": {
          "base_uri": "https://localhost:8080/"
        },
        "id": "PrO_B9t8qwP4",
        "outputId": "37a6f227-d864-40c5-b504-df4ec2648f76"
      },
      "execution_count": 7,
      "outputs": [
        {
          "output_type": "stream",
          "name": "stdout",
          "text": [
            "[36, 35]\n"
          ]
        }
      ]
    },
    {
      "cell_type": "markdown",
      "source": [
        "## Exercise 26\n",
        "\n",
        "Provided here is a list of the women’s 100m swimming final from the 2020 Tokyo Olympics, ordered by standings (first item is the gold medal). Use a nested loop to print the standings like this:\n",
        "\n",
        "> 1. Emma McKeon (Australia)  \n",
        "> 2. Siobhan Haughey (Hong Kong)  \n",
        "> and so on…  \n",
        "\n",
        "```python\n",
        "women_100m_final = [\n",
        "   {\"athlete\": \"Emma McKeon\", \"country\": \"Australia\", \"time\": 51.96},\n",
        "   {\"athlete\": \"Siobhan Haughey\", \"country\": \"Hong Kong\", \"time\": 52.27},\n",
        "   {\"athlete\": \"Cate Campbell\", \"country\": \"Australia\", \"time\": 52.52},\n",
        "   {\"athlete\": \"Abbey Weitzeil\", \"country\": \"United States\", \"time\": 52.59},\n",
        "   {\"athlete\": \"Marie Wattel\", \"country\": \"France\", \"time\": 52.72},\n",
        "   {\"athlete\": \"Penny Oleksiak\", \"country\": \"Canada\", \"time\": 52.89},\n",
        "   {\"athlete\": \"Sarah Sjöström\", \"country\": \"Sweden\", \"time\": 53.08},\n",
        "   {\"athlete\": \"Simone Manuel\", \"country\": \"United States\", \"time\": 53.23}\n",
        " ]\n",
        "#Your code here\n",
        "```"
      ],
      "metadata": {
        "id": "FFUKGXxlrdR8"
      }
    },
    {
      "cell_type": "code",
      "source": [
        "women_100m_final = [\n",
        "   {\"athlete\": \"Emma McKeon\", \"country\": \"Australia\", \"time\": 51.96},\n",
        "   {\"athlete\": \"Siobhan Haughey\", \"country\": \"Hong Kong\", \"time\": 52.27},\n",
        "   {\"athlete\": \"Cate Campbell\", \"country\": \"Australia\", \"time\": 52.52},\n",
        "   {\"athlete\": \"Abbey Weitzeil\", \"country\": \"United States\", \"time\": 52.59},\n",
        "   {\"athlete\": \"Marie Wattel\", \"country\": \"France\", \"time\": 52.72},\n",
        "   {\"athlete\": \"Penny Oleksiak\", \"country\": \"Canada\", \"time\": 52.89},\n",
        "   {\"athlete\": \"Sarah Sjöström\", \"country\": \"Sweden\", \"time\": 53.08},\n",
        "   {\"athlete\": \"Simone Manuel\", \"country\": \"United States\", \"time\": 53.23}\n",
        " ]\n",
        "for index, athlete in enumerate(women_100m_final):\n",
        "  print(f\"{index + 1}. {athlete['athlete']} ({athlete['country']})\")"
      ],
      "metadata": {
        "colab": {
          "base_uri": "https://localhost:8080/"
        },
        "id": "hhrp9jENrzNm",
        "outputId": "d30f48e3-e995-40d4-e5dc-da8e7d3b7856"
      },
      "execution_count": 9,
      "outputs": [
        {
          "output_type": "stream",
          "name": "stdout",
          "text": [
            "1. Emma McKeon (Australia)\n",
            "2. Siobhan Haughey (Hong Kong)\n",
            "3. Cate Campbell (Australia)\n",
            "4. Abbey Weitzeil (United States)\n",
            "5. Marie Wattel (France)\n",
            "6. Penny Oleksiak (Canada)\n",
            "7. Sarah Sjöström (Sweden)\n",
            "8. Simone Manuel (United States)\n"
          ]
        }
      ]
    },
    {
      "cell_type": "markdown",
      "source": [
        "## Exercise 27\n",
        "\n",
        "With the same data as used in `Exercise 26`, calculate the average time and put the result into a variable called avg."
      ],
      "metadata": {
        "id": "vbFmVMNLwPwU"
      }
    },
    {
      "cell_type": "code",
      "source": [
        "women_100m_final = [\n",
        "   {\"athlete\": \"Emma McKeon\", \"country\": \"Australia\", \"time\": 51.96},\n",
        "   {\"athlete\": \"Siobhan Haughey\", \"country\": \"Hong Kong\", \"time\": 52.27},\n",
        "   {\"athlete\": \"Cate Campbell\", \"country\": \"Australia\", \"time\": 52.52},\n",
        "   {\"athlete\": \"Abbey Weitzeil\", \"country\": \"United States\", \"time\": 52.59},\n",
        "   {\"athlete\": \"Marie Wattel\", \"country\": \"France\", \"time\": 52.72},\n",
        "   {\"athlete\": \"Penny Oleksiak\", \"country\": \"Canada\", \"time\": 52.89},\n",
        "   {\"athlete\": \"Sarah Sjöström\", \"country\": \"Sweden\", \"time\": 53.08},\n",
        "   {\"athlete\": \"Simone Manuel\", \"country\": \"United States\", \"time\": 53.23}\n",
        " ]\n",
        "\n",
        "time_list = []\n",
        "for index, athlete in enumerate(women_100m_final):\n",
        "  time_list.append(athlete[\"time\"])\n",
        "avg = sum(time_list) / len(time_list)\n",
        "print(avg)"
      ],
      "metadata": {
        "colab": {
          "base_uri": "https://localhost:8080/"
        },
        "id": "gGXu-xjCwfPS",
        "outputId": "ddb48e0c-439c-45a5-9cac-443f04c1a334"
      },
      "execution_count": 13,
      "outputs": [
        {
          "output_type": "stream",
          "name": "stdout",
          "text": [
            "52.6575\n"
          ]
        }
      ]
    }
  ]
}
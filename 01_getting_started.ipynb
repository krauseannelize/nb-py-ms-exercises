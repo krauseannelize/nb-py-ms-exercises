{
  "nbformat": 4,
  "nbformat_minor": 0,
  "metadata": {
    "colab": {
      "provenance": [],
      "authorship_tag": "ABX9TyO+1UV6rRKm2ekaIjXKRofn",
      "include_colab_link": true
    },
    "kernelspec": {
      "name": "python3",
      "display_name": "Python 3"
    },
    "language_info": {
      "name": "python"
    }
  },
  "cells": [
    {
      "cell_type": "markdown",
      "metadata": {
        "id": "view-in-github",
        "colab_type": "text"
      },
      "source": [
        "<a href=\"https://colab.research.google.com/github/krauseannelize/nb-py-ms-exercises/blob/main/01_getting_started.ipynb\" target=\"_parent\"><img src=\"https://colab.research.google.com/assets/colab-badge.svg\" alt=\"Open In Colab\"/></a>"
      ]
    },
    {
      "cell_type": "markdown",
      "source": [
        "# 01 | Getting Stated with Python\n",
        "\n",
        "---\n",
        "\n",
        "## Markdown Basics\n",
        "\n",
        "This is some text.\n",
        "\n",
        "# Heading 1\n",
        "## Heading 2\n",
        "### Heading 3\n",
        "#### Heading 4\n",
        "##### Heading 5\n",
        "###### Heading 6\n",
        "\n",
        "- We started a bulleted list...\n",
        "- ... with a dash or asterisks\n",
        "\n",
        "1. We start a numbered list...\n",
        "2. ... with a number 1.\n",
        "\n",
        "## Syntax to Display Text or Numbers\n",
        "\n",
        "print(\"Insert your text here\")"
      ],
      "metadata": {
        "id": "Me3KkVlIFZdI"
      }
    },
    {
      "cell_type": "code",
      "execution_count": 6,
      "metadata": {
        "colab": {
          "base_uri": "https://localhost:8080/"
        },
        "id": "bMasM-jsPZ4G",
        "outputId": "cfe33e6b-e511-4e16-f201-8327ff723507"
      },
      "outputs": [
        {
          "output_type": "stream",
          "name": "stdout",
          "text": [
            "You can use double quotes\n",
            "or you can use single quotes\n",
            "20\n",
            "25.5\n"
          ]
        }
      ],
      "source": [
        "print(\"You can use double quotes\")\n",
        "print('or you can use single quotes')\n",
        "print(20) # display integer\n",
        "print(25.5) # display float"
      ]
    },
    {
      "cell_type": "markdown",
      "source": [
        "## Comments in Python\n",
        "\n",
        "Comments are used to describe or explain code, and do not run. Using multiple # symbols on separate lines is the most efficient and Pythonic way to write multiline comments.\n",
        "\n",
        "Python allows the use of triple single (''') or triple double (\"\"\") quotes to define multi-line strings. Although these are technically string literals and not comments, they can be used as comments if they are not assigned to a variable."
      ],
      "metadata": {
        "id": "mcvQE7Q3Gz6T"
      }
    },
    {
      "cell_type": "code",
      "source": [
        "# Use a # hashtag to start a single line comment\n",
        "\n",
        "'''\n",
        "This is a multiline comment using triple single quotes.\n",
        "It is commonly used as a workaround.\n",
        "'''\n",
        "\n",
        "\"\"\"\n",
        "This is another multiline comment\n",
        "using triple double quotes.\n",
        "\"\"\"\n",
        "\n",
        "print(\"Triple Single and Triple Double quotes\")"
      ],
      "metadata": {
        "colab": {
          "base_uri": "https://localhost:8080/"
        },
        "id": "_fFye1cvHIEW",
        "outputId": "6c651267-0e3b-40fb-da1c-f95a6e81f385"
      },
      "execution_count": 23,
      "outputs": [
        {
          "output_type": "stream",
          "name": "stdout",
          "text": [
            "Triple Single and Triple Double quotes\n"
          ]
        }
      ]
    },
    {
      "cell_type": "markdown",
      "source": [
        "## Arithmetic Operations"
      ],
      "metadata": {
        "id": "_ORDls0VH9oJ"
      }
    },
    {
      "cell_type": "code",
      "source": [
        "print(10 + 5) # addition\n",
        "print(10 - 5) # subtraction\n",
        "print(10 * 5) # multiplication\n",
        "print(10 / 5) # division"
      ],
      "metadata": {
        "colab": {
          "base_uri": "https://localhost:8080/"
        },
        "id": "BL2Xdu3lbQrS",
        "outputId": "7a18ba58-1fb6-4a85-d9c0-4820d784ea91"
      },
      "execution_count": 7,
      "outputs": [
        {
          "output_type": "stream",
          "name": "stdout",
          "text": [
            "15\n",
            "5\n",
            "50\n",
            "2.0\n"
          ]
        }
      ]
    },
    {
      "cell_type": "markdown",
      "source": [
        "## Combine text and numbers"
      ],
      "metadata": {
        "id": "wnJdRtL9JTIa"
      }
    },
    {
      "cell_type": "code",
      "source": [
        "print(10 + 5)\n",
        "print('The value of 10 + 5 is 15')\n",
        "print('The value of 10 + 5 is', 10 + 5)"
      ],
      "metadata": {
        "colab": {
          "base_uri": "https://localhost:8080/"
        },
        "id": "0KYLFNEtgOf8",
        "outputId": "045be75a-b105-4ced-eedc-d289a4e592a7"
      },
      "execution_count": 8,
      "outputs": [
        {
          "output_type": "stream",
          "name": "stdout",
          "text": [
            "15\n",
            "The value of 10 + 5 is 15\n",
            "The value of 10 + 5 is 15\n"
          ]
        }
      ]
    },
    {
      "cell_type": "markdown",
      "source": [
        "## Indentation\n",
        "\n",
        "In Python, indentation is a required part of the syntax used to define the structure and scope of code blocks. This enforced formatting also significantly improves code readability."
      ],
      "metadata": {
        "id": "6jE-9AoeMPKJ"
      }
    },
    {
      "cell_type": "code",
      "source": [
        "if 10 > 8:\n",
        "  print(\"Ten if greater than eight.\")\n",
        "\n",
        "# Not adding the indentation after the if statement will return the following error:\n",
        "# IndentationError: expected an indented block after 'if' statement"
      ],
      "metadata": {
        "colab": {
          "base_uri": "https://localhost:8080/"
        },
        "id": "_lZskrteN3NZ",
        "outputId": "6cf868f4-0d86-4c10-a4c6-86bf72b6f9f9"
      },
      "execution_count": 24,
      "outputs": [
        {
          "output_type": "stream",
          "name": "stdout",
          "text": [
            "Ten if greater than eight.\n"
          ]
        }
      ]
    }
  ]
}